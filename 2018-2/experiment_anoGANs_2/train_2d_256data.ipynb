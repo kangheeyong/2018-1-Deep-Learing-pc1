{
 "cells": [
  {
   "cell_type": "code",
   "execution_count": 1,
   "metadata": {},
   "outputs": [
    {
     "name": "stdout",
     "output_type": "stream",
     "text": [
      "test_normal_data :  (280, 256, 256, 1)\n",
      "test_anomalous_data :  (280, 256, 256, 1)\n",
      "train_normal_data :  (5292, 256, 256, 1)\n"
     ]
    }
   ],
   "source": [
    "\n",
    "import os\n",
    "import matplotlib\n",
    "matplotlib.use('Agg')\n",
    "from BE_resGANs_for_OES256 import Anomaly_OES\n",
    "from BE_resGANs_for_OES256 import BE_resGANs_for_OES\n",
    "import tensorflow as tf\n",
    "import os\n",
    "os.environ[\"CUDA_VISIBLE_DEVICES\"]='1'\n",
    "\n",
    "data = Anomaly_OES()\n",
    "data. set_anomaly()\n",
    "\n",
    "\n",
    "\n",
    "\n"
   ]
  },
  {
   "cell_type": "code",
   "execution_count": 2,
   "metadata": {},
   "outputs": [
    {
     "name": "stdout",
     "output_type": "stream",
     "text": [
      "D_e : 19.478, D_real_e : 19.908, D_fake_e : 9.890, G_e : 9.990, new_measure : 23.185, k_curr : -0.048\n",
      "D_e : 6.335, D_real_e : 6.293, D_fake_e : 2.739, G_e : 3.095, new_measure : 6.888, k_curr : -0.013\n",
      "D_e : 4.860, D_real_e : 4.855, D_fake_e : 2.082, G_e : 2.399, new_measure : 5.206, k_curr : -0.004\n",
      "D_e : 4.531, D_real_e : 4.497, D_fake_e : 2.027, G_e : 2.365, new_measure : 4.842, k_curr : -0.043\n",
      "D_e : 4.037, D_real_e : 3.899, D_fake_e : 1.789, G_e : 2.134, new_measure : 4.336, k_curr : -0.104\n",
      "D_e : 3.520, D_real_e : 3.493, D_fake_e : 1.515, G_e : 1.528, new_measure : 4.202, k_curr : -0.031\n",
      "D_e : 3.470, D_real_e : 3.456, D_fake_e : 1.670, G_e : 1.672, new_measure : 3.899, k_curr : -0.013\n",
      "D_e : 3.386, D_real_e : 3.385, D_fake_e : 1.629, G_e : 1.636, new_measure : 3.734, k_curr : 0.006\n",
      "D_e : 3.306, D_real_e : 3.311, D_fake_e : 1.660, G_e : 1.671, new_measure : 3.599, k_curr : 0.001\n",
      "D_e : 3.310, D_real_e : 3.311, D_fake_e : 1.659, G_e : 1.667, new_measure : 3.584, k_curr : -0.003\n",
      "D_e : 3.289, D_real_e : 3.286, D_fake_e : 1.630, G_e : 1.629, new_measure : 3.551, k_curr : 0.001\n",
      "D_e : 3.294, D_real_e : 3.299, D_fake_e : 1.639, G_e : 1.640, new_measure : 3.563, k_curr : 0.004\n",
      "D_e : 3.292, D_real_e : 3.289, D_fake_e : 1.661, G_e : 1.661, new_measure : 3.550, k_curr : -0.001\n",
      "D_e : 3.251, D_real_e : 3.254, D_fake_e : 1.633, G_e : 1.634, new_measure : 3.532, k_curr : -0.004\n",
      "D_e : 3.294, D_real_e : 3.294, D_fake_e : 1.631, G_e : 1.631, new_measure : 3.552, k_curr : 0.002\n",
      "total time :  3368.833796262741\n",
      "E_e : 15.584209\n",
      "E_e : 13.702336\n",
      "E_e : 10.458038\n",
      "E_e : 10.378488\n",
      "E_e : 10.335383\n",
      "E_e : 10.324875\n",
      "E_e : 10.320166\n",
      "E_e : 10.365091\n",
      "E_e : 10.345098\n",
      "E_e : 10.350800\n",
      "total time :  798.8357849121094\n",
      "Normalized confusion matrix\n",
      "[[ 0.65808824  0.34191176]\n",
      " [ 0.          1.        ]]\n",
      "Confusion matrix, without normalization\n",
      "[[179  93]\n",
      " [  0 272]]\n",
      "Normalized confusion matrix\n",
      "[[ 0.3125  0.6875]\n",
      " [ 0.      1.    ]]\n",
      "Confusion matrix, without normalization\n",
      "[[ 85 187]\n",
      " [  0 272]]\n",
      "Normalized confusion matrix\n",
      "[[ 0.17647059  0.82352941]\n",
      " [ 0.          1.        ]]\n",
      "Confusion matrix, without normalization\n",
      "[[ 48 224]\n",
      " [  0 272]]\n",
      "Normalized confusion matrix\n",
      "[[ 1.          0.        ]\n",
      " [ 0.15441176  0.84558824]]\n",
      "Confusion matrix, without normalization\n",
      "[[272   0]\n",
      " [ 42 230]]\n",
      "Normalized confusion matrix\n",
      "[[ 0.93014706  0.06985294]\n",
      " [ 0.05514706  0.94485294]]\n",
      "Confusion matrix, without normalization\n",
      "[[253  19]\n",
      " [ 15 257]]\n"
     ]
    }
   ],
   "source": [
    "\n",
    "sess = tf.Session(config=tf.ConfigProto(gpu_options=tf.GPUOptions(allow_growth=True))) \n",
    "\n",
    "\n",
    "path = 'test5'\n",
    "mnist = data\n",
    "a = BE_resGANs_for_OES(sess,path,mnist,GANs_epoch = 15, E_epoch = 10,D_lr = 2e-5, G_lr = 5e-4,E_lr = 2e-4, \n",
    "                       batch_size = 16, gamma = 0.5, lam = 0.001,  minibatch_increase = True, factor_decrease = True,\n",
    "                      feature_size = 100)\n",
    "a.GANs_fit()\n",
    "a.E_fit()\n",
    "a.report()"
   ]
  },
  {
   "cell_type": "code",
   "execution_count": null,
   "metadata": {},
   "outputs": [],
   "source": []
  }
 ],
 "metadata": {
  "kernelspec": {
   "display_name": "Python 3",
   "language": "python",
   "name": "python3"
  },
  "language_info": {
   "codemirror_mode": {
    "name": "ipython",
    "version": 3
   },
   "file_extension": ".py",
   "mimetype": "text/x-python",
   "name": "python",
   "nbconvert_exporter": "python",
   "pygments_lexer": "ipython3",
   "version": "3.5.2"
  },
  "toc": {
   "base_numbering": 1,
   "nav_menu": {},
   "number_sections": true,
   "sideBar": true,
   "skip_h1_title": false,
   "title_cell": "Table of Contents",
   "title_sidebar": "Contents",
   "toc_cell": false,
   "toc_position": {},
   "toc_section_display": true,
   "toc_window_display": false
  },
  "varInspector": {
   "cols": {
    "lenName": 16,
    "lenType": 16,
    "lenVar": 40
   },
   "kernels_config": {
    "python": {
     "delete_cmd_postfix": "",
     "delete_cmd_prefix": "del ",
     "library": "var_list.py",
     "varRefreshCmd": "print(var_dic_list())"
    },
    "r": {
     "delete_cmd_postfix": ") ",
     "delete_cmd_prefix": "rm(",
     "library": "var_list.r",
     "varRefreshCmd": "cat(var_dic_list()) "
    }
   },
   "types_to_exclude": [
    "module",
    "function",
    "builtin_function_or_method",
    "instance",
    "_Feature"
   ],
   "window_display": false
  }
 },
 "nbformat": 4,
 "nbformat_minor": 2
}
