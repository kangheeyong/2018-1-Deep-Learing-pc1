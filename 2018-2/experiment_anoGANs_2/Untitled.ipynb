{
 "cells": [
  {
   "cell_type": "code",
   "execution_count": null,
   "metadata": {},
   "outputs": [
    {
     "name": "stdout",
     "output_type": "stream",
     "text": [
      "test_normal_data :  (560, 128, 128, 1)\n",
      "test_anomalous_data :  (560, 128, 128, 1)\n",
      "train_normal_data :  (10584, 128, 128, 1)\n"
     ]
    }
   ],
   "source": [
    "\n",
    "import os\n",
    "import matplotlib\n",
    "matplotlib.use('Agg')\n",
    "from BE_resGANs_for_OES import Anomaly_OES\n",
    "from BE_resGANs_for_OES import BE_resGANs_for_OES\n",
    "import tensorflow as tf\n",
    "import os\n",
    "os.environ[\"CUDA_VISIBLE_DEVICES\"]='1'\n",
    "\n",
    "data = Anomaly_OES()\n",
    "data. set_anomaly()\n",
    "\n",
    "\n",
    "\n",
    "\n"
   ]
  },
  {
   "cell_type": "code",
   "execution_count": null,
   "metadata": {},
   "outputs": [
    {
     "name": "stdout",
     "output_type": "stream",
     "text": [
      "D_e : 272.206, D_real_e : 435.883, D_fake_e : 216.245, G_e : 218.038, new_measure : 500.768, k_curr : -0.064\n",
      "D_e : 263.627, D_real_e : 257.995, D_fake_e : 133.886, G_e : 129.043, new_measure : 280.596, k_curr : -0.079\n",
      "D_e : 101.861, D_real_e : 99.913, D_fake_e : 50.783, G_e : 49.813, new_measure : 113.729, k_curr : -0.055\n",
      "D_e : 44.962, D_real_e : 28.229, D_fake_e : 24.541, G_e : 22.809, new_measure : 37.110, k_curr : -1.490\n",
      "D_e : 41.212, D_real_e : 13.205, D_fake_e : 13.750, G_e : 13.100, new_measure : 19.760, k_curr : -2.562\n",
      "D_e : 32.231, D_real_e : 9.009, D_fake_e : 8.311, G_e : 7.517, new_measure : 12.147, k_curr : -3.059\n",
      "D_e : 31.103, D_real_e : 7.587, D_fake_e : 7.166, G_e : 6.384, new_measure : 10.279, k_curr : -3.487\n",
      "D_e : 29.471, D_real_e : 6.734, D_fake_e : 6.231, G_e : 5.510, new_measure : 9.024, k_curr : -3.840\n"
     ]
    }
   ],
   "source": [
    "\n",
    "sess = tf.Session(config=tf.ConfigProto(gpu_options=tf.GPUOptions(allow_growth=True))) \n",
    "\n",
    "\n",
    "path = 'test1'\n",
    "mnist = data\n",
    "a = BE_resGANs_for_OES(sess,path,mnist,GANs_epoch = 50, E_epoch = 15,D_lr = 2e-4, G_lr = 2e-4,E_lr = 2e-4, batch_size = 64, \n",
    "                       gamma = 0.5, lam = 0.001,  minibatch_increase = True, factor_decrease = True)\n",
    "a.GANs_fit()\n",
    "a.E_fit()\n",
    "a.report()"
   ]
  }
 ],
 "metadata": {
  "kernelspec": {
   "display_name": "Python 3",
   "language": "python",
   "name": "python3"
  },
  "language_info": {
   "codemirror_mode": {
    "name": "ipython",
    "version": 3
   },
   "file_extension": ".py",
   "mimetype": "text/x-python",
   "name": "python",
   "nbconvert_exporter": "python",
   "pygments_lexer": "ipython3",
   "version": "3.5.2"
  },
  "toc": {
   "base_numbering": 1,
   "nav_menu": {},
   "number_sections": true,
   "sideBar": true,
   "skip_h1_title": false,
   "title_cell": "Table of Contents",
   "title_sidebar": "Contents",
   "toc_cell": false,
   "toc_position": {},
   "toc_section_display": true,
   "toc_window_display": false
  },
  "varInspector": {
   "cols": {
    "lenName": 16,
    "lenType": 16,
    "lenVar": 40
   },
   "kernels_config": {
    "python": {
     "delete_cmd_postfix": "",
     "delete_cmd_prefix": "del ",
     "library": "var_list.py",
     "varRefreshCmd": "print(var_dic_list())"
    },
    "r": {
     "delete_cmd_postfix": ") ",
     "delete_cmd_prefix": "rm(",
     "library": "var_list.r",
     "varRefreshCmd": "cat(var_dic_list()) "
    }
   },
   "types_to_exclude": [
    "module",
    "function",
    "builtin_function_or_method",
    "instance",
    "_Feature"
   ],
   "window_display": false
  }
 },
 "nbformat": 4,
 "nbformat_minor": 2
}
