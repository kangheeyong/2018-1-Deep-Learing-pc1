{
 "cells": [
  {
   "cell_type": "code",
   "execution_count": 1,
   "metadata": {},
   "outputs": [
    {
     "name": "stdout",
     "output_type": "stream",
     "text": [
      "test_normal_data :  (560, 128, 128, 1)\n",
      "test_anomalous_data :  (560, 128, 128, 1)\n",
      "train_normal_data :  (10584, 128, 128, 1)\n"
     ]
    }
   ],
   "source": [
    "\n",
    "import os\n",
    "import matplotlib\n",
    "matplotlib.use('Agg')\n",
    "from BE_resGANs_for_OES import Anomaly_OES\n",
    "from BE_resGANs_for_OES import BE_resGANs_for_OES\n",
    "import tensorflow as tf\n",
    "import os\n",
    "os.environ[\"CUDA_VISIBLE_DEVICES\"]='1'\n",
    "\n",
    "data = Anomaly_OES()\n",
    "data. set_anomaly()\n",
    "\n",
    "\n",
    "\n",
    "\n"
   ]
  },
  {
   "cell_type": "code",
   "execution_count": 2,
   "metadata": {},
   "outputs": [
    {
     "name": "stdout",
     "output_type": "stream",
     "text": [
      "D_e : 11.428, D_real_e : 11.959, D_fake_e : 5.513, G_e : 5.814, new_measure : 14.237, k_curr : 0.109\n",
      "D_e : 4.078, D_real_e : 4.224, D_fake_e : 2.065, G_e : 2.380, new_measure : 4.677, k_curr : 0.021\n",
      "D_e : 2.827, D_real_e : 2.879, D_fake_e : 1.162, G_e : 1.164, new_measure : 3.154, k_curr : 0.066\n",
      "D_e : 2.688, D_real_e : 2.789, D_fake_e : 1.213, G_e : 1.217, new_measure : 2.979, k_curr : 0.096\n",
      "D_e : 2.595, D_real_e : 2.729, D_fake_e : 1.272, G_e : 1.273, new_measure : 2.854, k_curr : 0.111\n",
      "total time :  483.8327524662018\n",
      "E_e : 3.478177\n",
      "E_e : 3.170230\n",
      "E_e : 3.113113\n",
      "E_e : 3.083422\n",
      "E_e : 3.056670\n",
      "total time :  174.703364610672\n",
      "Normalized confusion matrix\n",
      "[[ 0.55078125  0.44921875]\n",
      " [ 0.04882812  0.95117188]]\n",
      "Confusion matrix, without normalization\n",
      "[[282 230]\n",
      " [ 25 487]]\n",
      "Normalized confusion matrix\n",
      "[[ 0.63671875  0.36328125]\n",
      " [ 0.00976562  0.99023438]]\n",
      "Confusion matrix, without normalization\n",
      "[[326 186]\n",
      " [  5 507]]\n",
      "Normalized confusion matrix\n",
      "[[ 0.625  0.375]\n",
      " [ 0.     1.   ]]\n",
      "Confusion matrix, without normalization\n",
      "[[320 192]\n",
      " [  0 512]]\n",
      "Normalized confusion matrix\n",
      "[[ 0.93945312  0.06054688]\n",
      " [ 0.          1.        ]]\n",
      "Confusion matrix, without normalization\n",
      "[[481  31]\n",
      " [  0 512]]\n",
      "Normalized confusion matrix\n",
      "[[ 0.99609375  0.00390625]\n",
      " [ 0.00976562  0.99023438]]\n",
      "Confusion matrix, without normalization\n",
      "[[510   2]\n",
      " [  5 507]]\n"
     ]
    }
   ],
   "source": [
    "\n",
    "sess = tf.Session(config=tf.ConfigProto(gpu_options=tf.GPUOptions(allow_growth=True))) \n",
    "\n",
    "\n",
    "path = 'test6'\n",
    "mnist = data\n",
    "a = BE_resGANs_for_OES(sess,path,mnist,GANs_epoch = 5, E_epoch = 5,D_lr = 2e-5, G_lr = 2e-4,E_lr = 2e-4, \n",
    "                       batch_size = 64, gamma = 0.5, lam = 0.001,  minibatch_increase = True, factor_decrease = True,\n",
    "                      feature_size = 100)\n",
    "a.GANs_fit()\n",
    "a.E_fit()\n",
    "a.report()"
   ]
  },
  {
   "cell_type": "code",
   "execution_count": 3,
   "metadata": {},
   "outputs": [
    {
     "data": {
      "text/plain": [
       "'1.6.0'"
      ]
     },
     "execution_count": 3,
     "metadata": {},
     "output_type": "execute_result"
    }
   ],
   "source": [
    "import tensorflow as tf\n",
    "tf.__version__\n"
   ]
  },
  {
   "cell_type": "code",
   "execution_count": null,
   "metadata": {},
   "outputs": [],
   "source": []
  }
 ],
 "metadata": {
  "kernelspec": {
   "display_name": "Python 3",
   "language": "python",
   "name": "python3"
  },
  "language_info": {
   "codemirror_mode": {
    "name": "ipython",
    "version": 3
   },
   "file_extension": ".py",
   "mimetype": "text/x-python",
   "name": "python",
   "nbconvert_exporter": "python",
   "pygments_lexer": "ipython3",
   "version": "3.5.2"
  },
  "toc": {
   "base_numbering": 1,
   "nav_menu": {},
   "number_sections": true,
   "sideBar": true,
   "skip_h1_title": false,
   "title_cell": "Table of Contents",
   "title_sidebar": "Contents",
   "toc_cell": false,
   "toc_position": {},
   "toc_section_display": true,
   "toc_window_display": false
  },
  "varInspector": {
   "cols": {
    "lenName": 16,
    "lenType": 16,
    "lenVar": 40
   },
   "kernels_config": {
    "python": {
     "delete_cmd_postfix": "",
     "delete_cmd_prefix": "del ",
     "library": "var_list.py",
     "varRefreshCmd": "print(var_dic_list())"
    },
    "r": {
     "delete_cmd_postfix": ") ",
     "delete_cmd_prefix": "rm(",
     "library": "var_list.r",
     "varRefreshCmd": "cat(var_dic_list()) "
    }
   },
   "types_to_exclude": [
    "module",
    "function",
    "builtin_function_or_method",
    "instance",
    "_Feature"
   ],
   "window_display": false
  }
 },
 "nbformat": 4,
 "nbformat_minor": 2
}
