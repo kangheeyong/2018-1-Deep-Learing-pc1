{
 "cells": [
  {
   "cell_type": "code",
   "execution_count": 1,
   "metadata": {},
   "outputs": [
    {
     "name": "stdout",
     "output_type": "stream",
     "text": [
      "test_normal_data :  (560, 128, 128, 1)\n",
      "test_anomalous_data :  (560, 128, 128, 1)\n",
      "train_normal_data :  (10584, 128, 128, 1)\n"
     ]
    }
   ],
   "source": [
    "\n",
    "import os\n",
    "import matplotlib\n",
    "matplotlib.use('Agg')\n",
    "from BE_resGANs_for_OES import Anomaly_OES\n",
    "from BE_resGANs_for_OES import BE_resGANs_for_OES\n",
    "import tensorflow as tf\n",
    "import os\n",
    "os.environ[\"CUDA_VISIBLE_DEVICES\"]='1'\n",
    "\n",
    "data = Anomaly_OES()\n",
    "data. set_anomaly()\n",
    "\n",
    "\n",
    "\n",
    "\n"
   ]
  },
  {
   "cell_type": "code",
   "execution_count": 2,
   "metadata": {},
   "outputs": [
    {
     "name": "stdout",
     "output_type": "stream",
     "text": [
      "D_e : 13.753, D_real_e : 14.619, D_fake_e : 6.662, G_e : 7.091, new_measure : 17.690, k_curr : 0.144\n",
      "D_e : 6.402, D_real_e : 6.646, D_fake_e : 3.319, G_e : 3.648, new_measure : 7.212, k_curr : 0.037\n",
      "D_e : 4.470, D_real_e : 4.547, D_fake_e : 2.052, G_e : 2.278, new_measure : 4.741, k_curr : 0.036\n",
      "D_e : 3.725, D_real_e : 3.785, D_fake_e : 1.645, G_e : 1.907, new_measure : 3.960, k_curr : 0.034\n",
      "D_e : 3.385, D_real_e : 3.424, D_fake_e : 1.557, G_e : 1.797, new_measure : 3.610, k_curr : 0.020\n",
      "D_e : 3.250, D_real_e : 3.268, D_fake_e : 1.537, G_e : 1.714, new_measure : 3.435, k_curr : 0.007\n",
      "D_e : 3.179, D_real_e : 3.189, D_fake_e : 1.437, G_e : 1.594, new_measure : 3.344, k_curr : 0.007\n",
      "D_e : 3.043, D_real_e : 3.051, D_fake_e : 1.377, G_e : 1.550, new_measure : 3.182, k_curr : 0.003\n",
      "D_e : 2.830, D_real_e : 2.831, D_fake_e : 1.213, G_e : 1.434, new_measure : 2.979, k_curr : -0.000\n",
      "D_e : 2.596, D_real_e : 2.594, D_fake_e : 1.073, G_e : 1.316, new_measure : 2.734, k_curr : -0.003\n",
      "D_e : 2.378, D_real_e : 2.369, D_fake_e : 0.976, G_e : 1.261, new_measure : 2.524, k_curr : -0.016\n",
      "D_e : 2.121, D_real_e : 2.098, D_fake_e : 0.910, G_e : 1.199, new_measure : 2.286, k_curr : -0.041\n",
      "D_e : 1.898, D_real_e : 1.856, D_fake_e : 0.796, G_e : 1.051, new_measure : 2.037, k_curr : -0.061\n",
      "D_e : 1.815, D_real_e : 1.767, D_fake_e : 0.713, G_e : 0.936, new_measure : 1.907, k_curr : -0.070\n",
      "D_e : 1.787, D_real_e : 1.741, D_fake_e : 0.661, G_e : 0.867, new_measure : 1.868, k_curr : -0.069\n",
      "D_e : 1.751, D_real_e : 1.706, D_fake_e : 0.654, G_e : 0.855, new_measure : 1.843, k_curr : -0.070\n",
      "D_e : 1.709, D_real_e : 1.667, D_fake_e : 0.617, G_e : 0.812, new_measure : 1.795, k_curr : -0.066\n",
      "D_e : 1.530, D_real_e : 1.515, D_fake_e : 0.407, G_e : 0.410, new_measure : 1.862, k_curr : -0.009\n",
      "D_e : 1.504, D_real_e : 1.513, D_fake_e : 0.398, G_e : 0.403, new_measure : 1.866, k_curr : 0.050\n",
      "D_e : 1.483, D_real_e : 1.515, D_fake_e : 0.421, G_e : 0.430, new_measure : 1.844, k_curr : 0.104\n",
      "D_e : 1.456, D_real_e : 1.517, D_fake_e : 0.468, G_e : 0.482, new_measure : 1.794, k_curr : 0.149\n",
      "D_e : 1.409, D_real_e : 1.531, D_fake_e : 0.845, G_e : 0.861, new_measure : 1.682, k_curr : 0.134\n",
      "D_e : 1.406, D_real_e : 1.511, D_fake_e : 0.820, G_e : 0.829, new_measure : 1.606, k_curr : 0.121\n",
      "D_e : 1.415, D_real_e : 1.511, D_fake_e : 0.844, G_e : 0.854, new_measure : 1.621, k_curr : 0.105\n",
      "D_e : 1.430, D_real_e : 1.511, D_fake_e : 0.890, G_e : 0.900, new_measure : 1.670, k_curr : 0.081\n",
      "D_e : 1.432, D_real_e : 1.493, D_fake_e : 0.849, G_e : 0.858, new_measure : 1.616, k_curr : 0.063\n",
      "D_e : 1.439, D_real_e : 1.484, D_fake_e : 0.795, G_e : 0.804, new_measure : 1.577, k_curr : 0.053\n",
      "D_e : 1.451, D_real_e : 1.489, D_fake_e : 0.717, G_e : 0.729, new_measure : 1.563, k_curr : 0.055\n",
      "D_e : 1.436, D_real_e : 1.477, D_fake_e : 0.718, G_e : 0.730, new_measure : 1.554, k_curr : 0.057\n",
      "D_e : 1.450, D_real_e : 1.491, D_fake_e : 0.750, G_e : 0.762, new_measure : 1.579, k_curr : 0.054\n",
      "D_e : 1.422, D_real_e : 1.460, D_fake_e : 0.717, G_e : 0.731, new_measure : 1.537, k_curr : 0.054\n",
      "D_e : 1.439, D_real_e : 1.478, D_fake_e : 0.684, G_e : 0.696, new_measure : 1.563, k_curr : 0.061\n",
      "D_e : 1.435, D_real_e : 1.478, D_fake_e : 0.657, G_e : 0.669, new_measure : 1.585, k_curr : 0.072\n",
      "D_e : 1.414, D_real_e : 1.464, D_fake_e : 0.639, G_e : 0.653, new_measure : 1.564, k_curr : 0.086\n",
      "D_e : 1.382, D_real_e : 1.439, D_fake_e : 0.617, G_e : 0.617, new_measure : 1.550, k_curr : 0.102\n",
      "D_e : 1.372, D_real_e : 1.441, D_fake_e : 0.620, G_e : 0.620, new_measure : 1.553, k_curr : 0.119\n",
      "D_e : 1.356, D_real_e : 1.435, D_fake_e : 0.624, G_e : 0.624, new_measure : 1.535, k_curr : 0.134\n",
      "D_e : 1.344, D_real_e : 1.435, D_fake_e : 0.644, G_e : 0.645, new_measure : 1.534, k_curr : 0.146\n",
      "D_e : 1.346, D_real_e : 1.445, D_fake_e : 0.654, G_e : 0.655, new_measure : 1.534, k_curr : 0.157\n",
      "D_e : 1.359, D_real_e : 1.468, D_fake_e : 0.670, G_e : 0.671, new_measure : 1.562, k_curr : 0.168\n",
      "D_e : 1.334, D_real_e : 1.450, D_fake_e : 0.676, G_e : 0.677, new_measure : 1.524, k_curr : 0.176\n",
      "D_e : 1.335, D_real_e : 1.459, D_fake_e : 0.695, G_e : 0.696, new_measure : 1.530, k_curr : 0.181\n",
      "D_e : 1.325, D_real_e : 1.456, D_fake_e : 0.717, G_e : 0.718, new_measure : 1.527, k_curr : 0.183\n",
      "D_e : 1.321, D_real_e : 1.453, D_fake_e : 0.723, G_e : 0.724, new_measure : 1.516, k_curr : 0.183\n",
      "D_e : 1.323, D_real_e : 1.459, D_fake_e : 0.750, G_e : 0.751, new_measure : 1.537, k_curr : 0.180\n",
      "D_e : 1.300, D_real_e : 1.436, D_fake_e : 0.771, G_e : 0.772, new_measure : 1.508, k_curr : 0.171\n",
      "D_e : 1.309, D_real_e : 1.439, D_fake_e : 0.794, G_e : 0.795, new_measure : 1.535, k_curr : 0.159\n",
      "D_e : 1.316, D_real_e : 1.439, D_fake_e : 0.813, G_e : 0.814, new_measure : 1.550, k_curr : 0.143\n",
      "D_e : 1.342, D_real_e : 1.451, D_fake_e : 0.798, G_e : 0.799, new_measure : 1.549, k_curr : 0.131\n",
      "D_e : 1.349, D_real_e : 1.445, D_fake_e : 0.762, G_e : 0.763, new_measure : 1.527, k_curr : 0.124\n",
      "total time :  4511.933387756348\n",
      "E_e : 2.388447\n",
      "E_e : 2.377299\n",
      "E_e : 2.376645\n",
      "E_e : 2.337524\n",
      "E_e : 2.295009\n",
      "E_e : 2.275836\n",
      "E_e : 2.263641\n",
      "E_e : 2.270339\n",
      "E_e : 2.251785\n",
      "E_e : 2.230454\n",
      "E_e : 2.349685\n",
      "E_e : 2.236694\n",
      "total time :  518.4275460243225\n",
      "Normalized confusion matrix\n",
      "[[ 0.56835938  0.43164062]\n",
      " [ 0.          1.        ]]\n",
      "Confusion matrix, without normalization\n",
      "[[291 221]\n",
      " [  0 512]]\n",
      "Normalized confusion matrix\n",
      "[[ 0.44140625  0.55859375]\n",
      " [ 0.0234375   0.9765625 ]]\n",
      "Confusion matrix, without normalization\n",
      "[[226 286]\n",
      " [ 12 500]]\n",
      "Normalized confusion matrix\n",
      "[[ 0.5  0.5]\n",
      " [ 0.   1. ]]\n",
      "Confusion matrix, without normalization\n",
      "[[256 256]\n",
      " [  0 512]]\n",
      "Normalized confusion matrix\n",
      "[[ 0.99609375  0.00390625]\n",
      " [ 0.01953125  0.98046875]]\n",
      "Confusion matrix, without normalization\n",
      "[[510   2]\n",
      " [ 10 502]]\n",
      "Normalized confusion matrix\n",
      "[[ 0.921875    0.078125  ]\n",
      " [ 0.07617188  0.92382812]]\n",
      "Confusion matrix, without normalization\n",
      "[[472  40]\n",
      " [ 39 473]]\n"
     ]
    }
   ],
   "source": [
    "\n",
    "sess = tf.Session(config=tf.ConfigProto(gpu_options=tf.GPUOptions(allow_growth=True))) \n",
    "\n",
    "\n",
    "path = 'test1'\n",
    "mnist = data\n",
    "a = BE_resGANs_for_OES(sess,path,mnist,GANs_epoch = 50, E_epoch = 15,D_lr = 2e-5, G_lr = 2e-4,E_lr = 2e-4, \n",
    "                       batch_size = 64, gamma = 0.5, lam = 0.001,  minibatch_increase = True, factor_decrease = True)\n",
    "a.GANs_fit()\n",
    "a.E_fit()\n",
    "a.report()"
   ]
  },
  {
   "cell_type": "code",
   "execution_count": null,
   "metadata": {},
   "outputs": [],
   "source": []
  }
 ],
 "metadata": {
  "kernelspec": {
   "display_name": "Python 3",
   "language": "python",
   "name": "python3"
  },
  "language_info": {
   "codemirror_mode": {
    "name": "ipython",
    "version": 3
   },
   "file_extension": ".py",
   "mimetype": "text/x-python",
   "name": "python",
   "nbconvert_exporter": "python",
   "pygments_lexer": "ipython3",
   "version": "3.5.2"
  },
  "toc": {
   "base_numbering": 1,
   "nav_menu": {},
   "number_sections": true,
   "sideBar": true,
   "skip_h1_title": false,
   "title_cell": "Table of Contents",
   "title_sidebar": "Contents",
   "toc_cell": false,
   "toc_position": {},
   "toc_section_display": true,
   "toc_window_display": false
  },
  "varInspector": {
   "cols": {
    "lenName": 16,
    "lenType": 16,
    "lenVar": 40
   },
   "kernels_config": {
    "python": {
     "delete_cmd_postfix": "",
     "delete_cmd_prefix": "del ",
     "library": "var_list.py",
     "varRefreshCmd": "print(var_dic_list())"
    },
    "r": {
     "delete_cmd_postfix": ") ",
     "delete_cmd_prefix": "rm(",
     "library": "var_list.r",
     "varRefreshCmd": "cat(var_dic_list()) "
    }
   },
   "types_to_exclude": [
    "module",
    "function",
    "builtin_function_or_method",
    "instance",
    "_Feature"
   ],
   "window_display": false
  }
 },
 "nbformat": 4,
 "nbformat_minor": 2
}
