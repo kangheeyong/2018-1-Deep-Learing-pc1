{
 "cells": [
  {
   "cell_type": "code",
   "execution_count": 1,
   "metadata": {},
   "outputs": [
    {
     "name": "stdout",
     "output_type": "stream",
     "text": [
      "test_normal_data :  (560, 128, 128, 1)\n",
      "test_anomalous_data :  (560, 128, 128, 1)\n",
      "train_normal_data :  (10584, 128, 128, 1)\n"
     ]
    }
   ],
   "source": [
    "\n",
    "import os\n",
    "import matplotlib\n",
    "matplotlib.use('Agg')\n",
    "from anoGANs_for_OES import Anomaly_OES\n",
    "from anoGANs_for_OES import anoGANs_for_OES\n",
    "import tensorflow as tf\n",
    "import os\n",
    "os.environ[\"CUDA_VISIBLE_DEVICES\"]='0'\n",
    "\n",
    "data = Anomaly_OES()\n",
    "data. set_anomaly()\n",
    "\n",
    "\n",
    "\n",
    "\n"
   ]
  },
  {
   "cell_type": "code",
   "execution_count": 2,
   "metadata": {},
   "outputs": [
    {
     "name": "stdout",
     "output_type": "stream",
     "text": [
      "D_e : 11.722, D_real_e : 12.233, D_fake_e : 5.586, G_e : 5.972, new_measure : 14.627, k_curr : 0.096\n",
      "D_e : 4.479, D_real_e : 4.699, D_fake_e : 2.142, G_e : 2.450, new_measure : 5.256, k_curr : 0.062\n",
      "D_e : 3.477, D_real_e : 3.596, D_fake_e : 1.695, G_e : 1.698, new_measure : 3.726, k_curr : 0.079\n",
      "D_e : 3.393, D_real_e : 3.539, D_fake_e : 1.614, G_e : 1.618, new_measure : 3.708, k_curr : 0.104\n",
      "D_e : 3.320, D_real_e : 3.508, D_fake_e : 1.600, G_e : 1.601, new_measure : 3.680, k_curr : 0.129\n",
      "total time :  502.59330797195435\n",
      "E_e : 3.893692\n",
      "E_e : 3.688004\n",
      "E_e : 3.656765\n",
      "E_e : 3.648752\n",
      "E_e : 3.629206\n",
      "total time :  183.20725870132446\n",
      "Normalized confusion matrix\n",
      "[[ 0.671875    0.328125  ]\n",
      " [ 0.06640625  0.93359375]]\n",
      "Confusion matrix, without normalization\n",
      "[[344 168]\n",
      " [ 34 478]]\n",
      "Normalized confusion matrix\n",
      "[[ 0.49804688  0.50195312]\n",
      " [ 0.00585938  0.99414062]]\n",
      "Confusion matrix, without normalization\n",
      "[[255 257]\n",
      " [  3 509]]\n",
      "Normalized confusion matrix\n",
      "[[ 0.5  0.5]\n",
      " [ 0.   1. ]]\n",
      "Confusion matrix, without normalization\n",
      "[[256 256]\n",
      " [  0 512]]\n",
      "Normalized confusion matrix\n",
      "[[ 0.99804688  0.00195312]\n",
      " [ 0.          1.        ]]\n",
      "Confusion matrix, without normalization\n",
      "[[511   1]\n",
      " [  0 512]]\n",
      "Normalized confusion matrix\n",
      "[[ 0.99023438  0.00976562]\n",
      " [ 0.          1.        ]]\n",
      "Confusion matrix, without normalization\n",
      "[[507   5]\n",
      " [  0 512]]\n"
     ]
    }
   ],
   "source": [
    "\n",
    "sess = tf.Session(config=tf.ConfigProto(gpu_options=tf.GPUOptions(allow_growth=True))) \n",
    "\n",
    "\n",
    "path = 'test4'\n",
    "mnist = data\n",
    "a = anoGANs_for_OES(sess,path,mnist,GANs_epoch = 5, E_epoch = 5,D_lr = 2e-5, G_lr = 2e-4,E_lr = 2e-4, \n",
    "                       batch_size = 64  minibatch_increase = True, factor_decrease = True,\n",
    "                      feature_size = 100)\n",
    "a.GANs_fit()\n",
    "#a.E_fit()\n",
    "#a.report()"
   ]
  },
  {
   "cell_type": "code",
   "execution_count": null,
   "metadata": {},
   "outputs": [],
   "source": []
  }
 ],
 "metadata": {
  "kernelspec": {
   "display_name": "Python 3",
   "language": "python",
   "name": "python3"
  },
  "language_info": {
   "codemirror_mode": {
    "name": "ipython",
    "version": 3
   },
   "file_extension": ".py",
   "mimetype": "text/x-python",
   "name": "python",
   "nbconvert_exporter": "python",
   "pygments_lexer": "ipython3",
   "version": "3.5.2"
  },
  "toc": {
   "base_numbering": 1,
   "nav_menu": {},
   "number_sections": true,
   "sideBar": true,
   "skip_h1_title": false,
   "title_cell": "Table of Contents",
   "title_sidebar": "Contents",
   "toc_cell": false,
   "toc_position": {},
   "toc_section_display": true,
   "toc_window_display": false
  },
  "varInspector": {
   "cols": {
    "lenName": 16,
    "lenType": 16,
    "lenVar": 40
   },
   "kernels_config": {
    "python": {
     "delete_cmd_postfix": "",
     "delete_cmd_prefix": "del ",
     "library": "var_list.py",
     "varRefreshCmd": "print(var_dic_list())"
    },
    "r": {
     "delete_cmd_postfix": ") ",
     "delete_cmd_prefix": "rm(",
     "library": "var_list.r",
     "varRefreshCmd": "cat(var_dic_list()) "
    }
   },
   "types_to_exclude": [
    "module",
    "function",
    "builtin_function_or_method",
    "instance",
    "_Feature"
   ],
   "window_display": false
  }
 },
 "nbformat": 4,
 "nbformat_minor": 2
}
