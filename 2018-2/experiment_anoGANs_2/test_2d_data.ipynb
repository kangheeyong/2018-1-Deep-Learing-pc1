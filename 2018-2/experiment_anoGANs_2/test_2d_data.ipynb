{
 "cells": [
  {
   "cell_type": "code",
   "execution_count": 2,
   "metadata": {},
   "outputs": [
    {
     "name": "stdout",
     "output_type": "stream",
     "text": [
      "test_normal_data :  (560, 128, 128, 1)\n",
      "test_anomalous_data :  (560, 128, 128, 1)\n",
      "train_normal_data :  (10584, 128, 128, 1)\n"
     ]
    }
   ],
   "source": [
    "\n",
    "\n",
    "import time\n",
    "import matplotlib\n",
    "matplotlib.use('Agg')\n",
    "from BE_resGANs_for_OES import Anomaly_OES\n",
    "from BE_resGANs_for_OES import BE_resGANs_for_OES\n",
    "import tensorflow as tf\n",
    "import numpy as np\n",
    "import os\n",
    "os.environ[\"CUDA_VISIBLE_DEVICES\"]='1'\n",
    "\n",
    "\n",
    "data = Anomaly_OES()\n",
    "data. set_anomaly()\n",
    "\n"
   ]
  },
  {
   "cell_type": "code",
   "execution_count": 4,
   "metadata": {},
   "outputs": [
    {
     "name": "stdout",
     "output_type": "stream",
     "text": [
      "INFO:tensorflow:Restoring parameters from test3/E_result/para.cktp\n"
     ]
    }
   ],
   "source": [
    "\n",
    "file_name = 'test3/E_result'\n",
    "    \n",
    "sess = tf.InteractiveSession()\n",
    "    \n",
    "new_saver = tf.train.import_meta_graph(file_name + '/para.cktp.meta')\n",
    "new_saver.restore(sess, tf.train.latest_checkpoint(file_name + '/'))"
   ]
  },
  {
   "cell_type": "code",
   "execution_count": 6,
   "metadata": {},
   "outputs": [],
   "source": [
    "\n",
    "\n",
    "z = sess.graph.get_tensor_by_name('z:0')    \n",
    "u = sess.graph.get_tensor_by_name('u:0')     \n",
    "k = sess.graph.get_tensor_by_name('k:0')\n",
    "isTrain = sess.graph.get_tensor_by_name('isTrain:0')\n",
    "factor = sess.graph.get_tensor_by_name('factor:0')\n",
    "\n",
    "G_z = sess.graph.get_tensor_by_name('G_z:0') \n",
    "E_u= sess.graph.get_tensor_by_name('E_u:0') \n",
    "\n",
    "re_image = sess.graph.get_tensor_by_name('re_image:0')\n",
    "\n",
    "\n",
    "re_image_loss = sess.graph.get_tensor_by_name('re_image_loss:0') \n",
    "\n",
    "\n",
    "#D_enc = sess.graph.get_tensor_by_name('D_enc:0')\n",
    "D_real = sess.graph.get_tensor_by_name('D_real:0')                       \n",
    "D_fake = sess.graph.get_tensor_by_name('D_fake:0')         \n",
    "\n",
    "\n",
    "\n",
    "D_real_loss = sess.graph.get_tensor_by_name('D_real_loss:0')             \n",
    "D_fake_loss = sess.graph.get_tensor_by_name('D_fake_loss:0' )\n",
    "D_loss =  sess.graph.get_tensor_by_name('D_loss:0')                                        \n",
    "\n",
    "G_loss = sess.graph.get_tensor_by_name('G_loss:0')                            \n",
    "\n",
    "\n",
    "\n",
    "\n",
    "D_optim = sess.graph.get_operation_by_name('D_optim') \n",
    "G_optim = sess.graph.get_operation_by_name('G_optim')\n",
    "E_AE_optim = sess.graph.get_operation_by_name('E_AE_optim')\n"
   ]
  },
  {
   "cell_type": "code",
   "execution_count": null,
   "metadata": {},
   "outputs": [],
   "source": []
  }
 ],
 "metadata": {
  "kernelspec": {
   "display_name": "Python 3",
   "language": "python",
   "name": "python3"
  },
  "language_info": {
   "codemirror_mode": {
    "name": "ipython",
    "version": 3
   },
   "file_extension": ".py",
   "mimetype": "text/x-python",
   "name": "python",
   "nbconvert_exporter": "python",
   "pygments_lexer": "ipython3",
   "version": "3.5.2"
  },
  "toc": {
   "base_numbering": 1,
   "nav_menu": {},
   "number_sections": true,
   "sideBar": true,
   "skip_h1_title": false,
   "title_cell": "Table of Contents",
   "title_sidebar": "Contents",
   "toc_cell": false,
   "toc_position": {},
   "toc_section_display": true,
   "toc_window_display": false
  },
  "varInspector": {
   "cols": {
    "lenName": 16,
    "lenType": 16,
    "lenVar": 40
   },
   "kernels_config": {
    "python": {
     "delete_cmd_postfix": "",
     "delete_cmd_prefix": "del ",
     "library": "var_list.py",
     "varRefreshCmd": "print(var_dic_list())"
    },
    "r": {
     "delete_cmd_postfix": ") ",
     "delete_cmd_prefix": "rm(",
     "library": "var_list.r",
     "varRefreshCmd": "cat(var_dic_list()) "
    }
   },
   "types_to_exclude": [
    "module",
    "function",
    "builtin_function_or_method",
    "instance",
    "_Feature"
   ],
   "window_display": false
  }
 },
 "nbformat": 4,
 "nbformat_minor": 2
}
