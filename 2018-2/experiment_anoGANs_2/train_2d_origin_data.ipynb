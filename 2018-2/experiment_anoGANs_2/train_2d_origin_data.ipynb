{
 "cells": [
  {
   "cell_type": "code",
   "execution_count": 1,
   "metadata": {},
   "outputs": [
    {
     "name": "stdout",
     "output_type": "stream",
     "text": [
      "test_normal_data :  (560, 128, 128, 1)\n",
      "test_anomalous_data :  (560, 128, 128, 1)\n",
      "train_normal_data :  (10584, 128, 128, 1)\n"
     ]
    }
   ],
   "source": [
    "\n",
    "import os\n",
    "import matplotlib\n",
    "matplotlib.use('Agg')\n",
    "from anoGANs_for_OES import Anomaly_OES\n",
    "from anoGANs_for_OES import anoGANs_for_OES\n",
    "import tensorflow as tf\n",
    "import os\n",
    "os.environ[\"CUDA_VISIBLE_DEVICES\"]='1'\n",
    "\n",
    "data = Anomaly_OES()\n",
    "data. set_anomaly()\n",
    "\n",
    "\n",
    "\n",
    "\n"
   ]
  },
  {
   "cell_type": "code",
   "execution_count": 2,
   "metadata": {},
   "outputs": [
    {
     "name": "stdout",
     "output_type": "stream",
     "text": [
      "D_e : 1.582, D_real_e : 0.809, D_fake_e : 0.773, G_e : 0.807\n",
      "\n",
      "D_e : 1.534, D_real_e : 0.795, D_fake_e : 0.739, G_e : 0.790\n",
      "\n",
      "D_e : 1.504, D_real_e : 0.750, D_fake_e : 0.754, G_e : 0.746\n",
      "\n",
      "D_e : 1.457, D_real_e : 0.743, D_fake_e : 0.714, G_e : 0.690\n",
      "\n",
      "D_e : 1.390, D_real_e : 0.691, D_fake_e : 0.699, G_e : 0.687\n",
      "\n",
      "D_e : 1.386, D_real_e : 0.690, D_fake_e : 0.697, G_e : 0.690\n",
      "\n",
      "D_e : 1.386, D_real_e : 0.690, D_fake_e : 0.696, G_e : 0.690\n",
      "\n",
      "D_e : 1.386, D_real_e : 0.690, D_fake_e : 0.696, G_e : 0.690\n",
      "\n",
      "D_e : 1.386, D_real_e : 0.691, D_fake_e : 0.696, G_e : 0.691\n",
      "\n",
      "D_e : 1.386, D_real_e : 0.691, D_fake_e : 0.695, G_e : 0.691\n",
      "\n",
      "D_e : 1.386, D_real_e : 0.691, D_fake_e : 0.695, G_e : 0.691\n",
      "\n",
      "D_e : 1.386, D_real_e : 0.691, D_fake_e : 0.695, G_e : 0.691\n",
      "\n",
      "D_e : 1.386, D_real_e : 0.691, D_fake_e : 0.695, G_e : 0.691\n",
      "\n",
      "D_e : 1.386, D_real_e : 0.692, D_fake_e : 0.695, G_e : 0.692\n",
      "\n",
      "D_e : 1.386, D_real_e : 0.692, D_fake_e : 0.695, G_e : 0.692\n",
      "\n",
      "total time :  751.5593733787537\n"
     ]
    }
   ],
   "source": [
    "\n",
    "sess = tf.Session(config=tf.ConfigProto(gpu_options=tf.GPUOptions(allow_growth=True))) \n",
    "\n",
    "\n",
    "path = 'test4'\n",
    "mnist = data\n",
    "a = anoGANs_for_OES(sess,path,mnist,GANs_epoch = 15, E_epoch = 5,D_lr = 1e-4, G_lr = 1e-4,E_lr = 2e-4, \n",
    "                       batch_size = 32,  minibatch_increase = True, factor_decrease = True,\n",
    "                      feature_size = 100)\n",
    "a.GANs_fit()\n",
    "#a.E_fit()\n",
    "#a.report()"
   ]
  },
  {
   "cell_type": "code",
   "execution_count": null,
   "metadata": {},
   "outputs": [],
   "source": []
  }
 ],
 "metadata": {
  "kernelspec": {
   "display_name": "Python 3",
   "language": "python",
   "name": "python3"
  },
  "language_info": {
   "codemirror_mode": {
    "name": "ipython",
    "version": 3
   },
   "file_extension": ".py",
   "mimetype": "text/x-python",
   "name": "python",
   "nbconvert_exporter": "python",
   "pygments_lexer": "ipython3",
   "version": "3.5.2"
  },
  "toc": {
   "base_numbering": 1,
   "nav_menu": {},
   "number_sections": true,
   "sideBar": true,
   "skip_h1_title": false,
   "title_cell": "Table of Contents",
   "title_sidebar": "Contents",
   "toc_cell": false,
   "toc_position": {},
   "toc_section_display": true,
   "toc_window_display": false
  },
  "varInspector": {
   "cols": {
    "lenName": 16,
    "lenType": 16,
    "lenVar": 40
   },
   "kernels_config": {
    "python": {
     "delete_cmd_postfix": "",
     "delete_cmd_prefix": "del ",
     "library": "var_list.py",
     "varRefreshCmd": "print(var_dic_list())"
    },
    "r": {
     "delete_cmd_postfix": ") ",
     "delete_cmd_prefix": "rm(",
     "library": "var_list.r",
     "varRefreshCmd": "cat(var_dic_list()) "
    }
   },
   "types_to_exclude": [
    "module",
    "function",
    "builtin_function_or_method",
    "instance",
    "_Feature"
   ],
   "window_display": false
  }
 },
 "nbformat": 4,
 "nbformat_minor": 2
}
