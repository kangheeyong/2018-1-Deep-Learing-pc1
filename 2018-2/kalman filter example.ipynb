{
 "cells": [
  {
   "cell_type": "markdown",
   "metadata": {},
   "source": [
    "# 1차원 칼만필터"
   ]
  },
  {
   "cell_type": "code",
   "execution_count": 17,
   "metadata": {},
   "outputs": [],
   "source": [
    "\n",
    "def measurement_update(estimated_mean, estimated_var, measurement_mean, measurement_var) :\n",
    "    new_mean = (measurement_var*estimated_mean + estimated_var*measurement_mean) / (estimated_var + measurement_var)\n",
    "    new_var = estimated_var*measurement_var/(estimated_var + measurement_var)\n",
    "    \n",
    "    return new_mean, new_var\n",
    "\n",
    "def state_prediction(estimated_mean, estimated_var, motion_control_mean, motion_control_var) :\n",
    "    new_mean = estimated_mean + motion_control_mean\n",
    "    new_var = estimated_var + motion_control_var\n",
    "    return new_mean, new_var\n"
   ]
  },
  {
   "cell_type": "code",
   "execution_count": 18,
   "metadata": {},
   "outputs": [
    {
     "name": "stdout",
     "output_type": "stream",
     "text": [
      "predict : [1.000000 1002.000000]\n",
      "update : [4 3]\n",
      "predict : [5.984095 5.984095]\n",
      "update : [5 2]\n",
      "predict : [7.993628 4.397451]\n",
      "update : [7 2]\n",
      "predict : [8.473300 4.094660]\n",
      "update : [8 2]\n",
      "predict : [9.739730 4.023388]\n",
      "update : [9 2]\n"
     ]
    }
   ],
   "source": [
    "measurements = [5, 6, 7, 9, 10]\n",
    "measurement_var = 4\n",
    "\n",
    "motion_controls = [1, 1, 2, 1, 1]\n",
    "motion_control_var = 2\n",
    "\n",
    "mu = 0\n",
    "sig = 1000\n",
    "\n",
    "\n",
    "for i in range(len(measurements)) :\n",
    "    \n",
    "    mu, sig = state_prediction(mu,sig, motion_controls[i], motion_control_var)\n",
    "    print(\"predict : [%f %f]\"%(mu,sig))\n",
    "    \n",
    "    mu, sig = measurement_update(mu,sig, measurements[i], measurement_var)\n",
    "    print(\"update : [%d %d]\"%(mu, sig))\n",
    "    \n",
    "    \n",
    "    "
   ]
  },
  {
   "cell_type": "code",
   "execution_count": null,
   "metadata": {},
   "outputs": [],
   "source": []
  },
  {
   "cell_type": "markdown",
   "metadata": {
    "heading_collapsed": true
   },
   "source": [
    "# 다차원 칼만필터"
   ]
  },
  {
   "cell_type": "code",
   "execution_count": 14,
   "metadata": {
    "hidden": true
   },
   "outputs": [],
   "source": [
    "import numpy as np\n",
    "\n",
    "\n",
    "def kalman_filter(mu, sig) :\n",
    "    for n, measurement in enumerate(measurements) :\n",
    "        # prediction\n",
    "        \n",
    "        mu_bar = A*mu + B*u\n",
    "        sig_bar = A*sig*A.transpose()\n",
    "        \n",
    "        #kalman gain\n",
    "        \n",
    "        s = C*sig_bar*C.transpose() + Q\n",
    "        K = sig_bar*C.transpose() * np.linalg.inv(s)\n",
    "        \n",
    "        #measurement update\n",
    "        \n",
    "        z = np.matrix([[measurement]])\n",
    "        mu = mu_bar + K*(z-C*mu_bar)\n",
    "        sig = (I - K*C)*sig_bar\n",
    "        \n",
    "    return mu,sig\n"
   ]
  },
  {
   "cell_type": "code",
   "execution_count": 16,
   "metadata": {
    "hidden": true
   },
   "outputs": [
    {
     "name": "stdout",
     "output_type": "stream",
     "text": [
      "(matrix([[ 4.99980014],\n",
      "        [ 0.9999001 ]]), matrix([[ 0.59980023,  0.19986016],\n",
      "        [ 0.19986016,  0.09990012]]))\n"
     ]
    }
   ],
   "source": [
    "measurements = [1, 2, 3, 4, 5]\n",
    "\n",
    "mu = np.matrix([[0.],[0.]])\n",
    "sig = np.matrix([[1000., 0.],\n",
    "                [0., 1000.]])\n",
    "\n",
    "\n",
    "u = np.matrix([[0.],[0.]])\n",
    "A = np.matrix([[1., 1.],\n",
    "             [0., 1.]])\n",
    "\n",
    "C = np.matrix([[1., 0.]])\n",
    "Q = np.matrix([[1.]])\n",
    "I = np.eye(2)\n",
    "B = np.eye(2)\n",
    "\n",
    "print(kalman_filter(mu,sig))\n",
    "\n",
    "\n",
    "\n",
    "\n",
    "\n"
   ]
  },
  {
   "cell_type": "code",
   "execution_count": null,
   "metadata": {
    "hidden": true
   },
   "outputs": [],
   "source": []
  }
 ],
 "metadata": {
  "kernelspec": {
   "display_name": "Python 3",
   "language": "python",
   "name": "python3"
  },
  "language_info": {
   "codemirror_mode": {
    "name": "ipython",
    "version": 3
   },
   "file_extension": ".py",
   "mimetype": "text/x-python",
   "name": "python",
   "nbconvert_exporter": "python",
   "pygments_lexer": "ipython3",
   "version": "3.5.2"
  },
  "toc": {
   "base_numbering": 1,
   "nav_menu": {},
   "number_sections": true,
   "sideBar": true,
   "skip_h1_title": false,
   "title_cell": "Table of Contents",
   "title_sidebar": "Contents",
   "toc_cell": false,
   "toc_position": {
    "height": "calc(100% - 180px)",
    "left": "10px",
    "top": "150px",
    "width": "165px"
   },
   "toc_section_display": true,
   "toc_window_display": true
  },
  "varInspector": {
   "cols": {
    "lenName": 16,
    "lenType": 16,
    "lenVar": 40
   },
   "kernels_config": {
    "python": {
     "delete_cmd_postfix": "",
     "delete_cmd_prefix": "del ",
     "library": "var_list.py",
     "varRefreshCmd": "print(var_dic_list())"
    },
    "r": {
     "delete_cmd_postfix": ") ",
     "delete_cmd_prefix": "rm(",
     "library": "var_list.r",
     "varRefreshCmd": "cat(var_dic_list()) "
    }
   },
   "oldHeight": 301,
   "position": {
    "height": "40px",
    "left": "910px",
    "right": "36px",
    "top": "120px",
    "width": "334px"
   },
   "types_to_exclude": [
    "module",
    "function",
    "builtin_function_or_method",
    "instance",
    "_Feature"
   ],
   "varInspector_section_display": "none",
   "window_display": true
  }
 },
 "nbformat": 4,
 "nbformat_minor": 2
}
