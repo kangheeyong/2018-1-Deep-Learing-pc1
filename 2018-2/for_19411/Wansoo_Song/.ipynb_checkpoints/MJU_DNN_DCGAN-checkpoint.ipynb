{
 "cells": [
  {
   "cell_type": "markdown",
   "metadata": {
    "collapsed": true
   },
   "source": [
    "# DCGAN\n",
    "\n",
    "- Unsupervised Representation Learning with Deep Convolutional Generative Adversarial Networks(https://arxiv.org/pdf/1511.06434.pdf)\n",
    "\n",
    "![alt text](./dcgan.png)"
   ]
  },
  {
   "cell_type": "markdown",
   "metadata": {},
   "source": [
    "## 1. Import required libraries"
   ]
  },
  {
   "cell_type": "code",
   "execution_count": 4,
   "metadata": {
    "collapsed": true
   },
   "outputs": [],
   "source": [
    "# Vanilla GAN with Multi GPUs + Naming Layers using OrderedDict\n",
    "# Code by GunhoChoi\n",
    "\n",
    "import torch\n",
    "import torch.nn as nn\n",
    "import torch.utils as utils\n",
    "import torch.nn.init as init\n",
    "import torchvision.utils as v_utils\n",
    "import torchvision.datasets as dset\n",
    "import torchvision.transforms as transforms\n",
    "import numpy as np\n",
    "import matplotlib.pyplot as plt\n",
    "from collections import OrderedDict"
   ]
  },
  {
   "cell_type": "markdown",
   "metadata": {},
   "source": [
    "## 2. Hyperparameter setting"
   ]
  },
  {
   "cell_type": "code",
   "execution_count": 5,
   "metadata": {},
   "outputs": [
    {
     "name": "stdout",
     "output_type": "stream",
     "text": [
      "cpu\n"
     ]
    }
   ],
   "source": [
    "# Set Hyperparameters\n",
    "# change num_gpu to the number of gpus you want to use\n",
    "\n",
    "epoch = 50\n",
    "batch_size = 512\n",
    "learning_rate = 0.0002\n",
    "device = torch.device(\"cuda\" if torch.cuda.is_available() else \"cpu\")\n",
    "print(device)"
   ]
  },
  {
   "cell_type": "markdown",
   "metadata": {},
   "source": [
    "## 3. Data Setting"
   ]
  },
  {
   "cell_type": "code",
   "execution_count": 6,
   "metadata": {
    "collapsed": true
   },
   "outputs": [],
   "source": [
    "# Download Data\n",
    "\n",
    "mnist_train = dset.MNIST(\"./\", train=True, \n",
    "                         transform=transforms.Compose([\n",
    "                             transforms.ToTensor(),\n",
    "                             transforms.Normalize((0.5, 0.5, 0.5), (0.5, 0.5, 0.5)),\n",
    "                        ]),\n",
    "                        target_transform=None,\n",
    "                        download=True)\n",
    "\n",
    "# Set Data Loader(input pipeline)\n",
    "\n",
    "train_loader = torch.utils.data.DataLoader(dataset=mnist_train,batch_size=batch_size,shuffle=True,drop_last=True)"
   ]
  },
  {
   "cell_type": "markdown",
   "metadata": {},
   "source": [
    "## 4. Generator"
   ]
  },
  {
   "cell_type": "code",
   "execution_count": 7,
   "metadata": {
    "collapsed": true
   },
   "outputs": [],
   "source": [
    "# Generator receives random noise z and create 1x28x28 image\n",
    "# we can name each layer using OrderedDict\n",
    "\n",
    "class Generator(nn.Module):\n",
    "    def __init__(self):\n",
    "        super(Generator,self).__init__()\n",
    "        self.layer1 = nn.Sequential(\n",
    "             nn.Linear(100,7*7*256),\n",
    "             nn.BatchNorm1d(7*7*256),\n",
    "             nn.ReLU(),\n",
    "        )\n",
    "        self.layer2 = nn.Sequential(OrderedDict([\n",
    "                        ('conv1', nn.ConvTranspose2d(256,128,3,2,1,1)),\n",
    "                        ('bn1', nn.BatchNorm2d(128)),\n",
    "                        ('relu1', nn.LeakyReLU()),\n",
    "                        ('conv2', nn.ConvTranspose2d(128,64,3,1,1)),\n",
    "                        ('bn2', nn.BatchNorm2d(64)),    \n",
    "                        ('relu2', nn.LeakyReLU()),\n",
    "            ]))\n",
    "        self.layer3 = nn.Sequential(OrderedDict([\n",
    "                        ('conv3',nn.ConvTranspose2d(64,16,3,1,1)),\n",
    "                        ('bn3',nn.BatchNorm2d(16)),    \n",
    "                        ('relu3',nn.LeakyReLU()),\n",
    "                        ('conv4',nn.ConvTranspose2d(16,1,3,2,1,1)),\n",
    "                        ('relu4',nn.Tanh())\n",
    "            ]))\n",
    "\n",
    "    def forward(self,z):\n",
    "        out = self.layer1(z)\n",
    "        out = out.view(batch_size,256,7,7)\n",
    "        out = self.layer2(out)\n",
    "        out = self.layer3(out)\n",
    "        return out"
   ]
  },
  {
   "cell_type": "markdown",
   "metadata": {},
   "source": [
    "## 5. Discriminator"
   ]
  },
  {
   "cell_type": "code",
   "execution_count": 15,
   "metadata": {
    "collapsed": true
   },
   "outputs": [],
   "source": [
    "# Discriminator receives 1x28x28 image and returns a float number 0~1\n",
    "# we can name each layer using OrderedDict\n",
    "\n",
    "class Discriminator(nn.Module):\n",
    "    def __init__(self):\n",
    "        super(Discriminator,self).__init__()\n",
    "        self.layer1 = nn.Sequential(OrderedDict([\n",
    "                        ('conv1',nn.Conv2d(1,8,3,padding=1)),   # batch x 16 x 28 x 28\n",
    "                        ('bn1',nn.BatchNorm2d(8)),    \n",
    "                        ('relu1',nn.LeakyReLU()),\n",
    "                        ('conv2',nn.Conv2d(8,16,3,padding=1)),  # batch x 32 x 28 x 28\n",
    "                        ('bn2',nn.BatchNorm2d(16)),    \n",
    "                        ('relu2',nn.LeakyReLU()),\n",
    "                        ('max1',nn.MaxPool2d(2,2))   # batch x 32 x 14 x 14\n",
    "        ]))\n",
    "        self.layer2 = nn.Sequential(OrderedDict([\n",
    "                        ('conv3',nn.Conv2d(16,32,3,padding=1)),  # batch x 64 x 14 x 14\n",
    "                        ('bn3',nn.BatchNorm2d(32)),\n",
    "                        ('relu3',nn.LeakyReLU()),\n",
    "                        ('max2',nn.MaxPool2d(2,2)),\n",
    "                        ('conv4',nn.Conv2d(32,64,3,padding=1)),  # batch x 128 x 7 x 7\n",
    "                        ('bn4',nn.BatchNorm2d(64)),\n",
    "                        ('relu4',nn.LeakyReLU())\n",
    "        ]))\n",
    "        self.fc = nn.Sequential(\n",
    "                        nn.Linear(64*7*7,1),\n",
    "                        nn.Sigmoid()\n",
    "        )\n",
    "\n",
    "    def forward(self,x):\n",
    "        out = self.layer1(x)\n",
    "        out = self.layer2(out)\n",
    "        out = out.view(batch_size, -1)\n",
    "        out = self.fc(out)\n",
    "        return out"
   ]
  },
  {
   "cell_type": "markdown",
   "metadata": {},
   "source": [
    "## 6. Put instances on Multi-gpu"
   ]
  },
  {
   "cell_type": "code",
   "execution_count": 16,
   "metadata": {
    "collapsed": true
   },
   "outputs": [],
   "source": [
    "# Put class objects on Multiple GPUs using \n",
    "# torch.nn.DataParallel(module, device_ids=None, output_device=None, dim=0)\n",
    "# device_ids: default all devices / output_device: default device 0 \n",
    "# along with .cuda()\n",
    "\n",
    "generator = nn.DataParallel(Generator()).to(device)\n",
    "discriminator = nn.DataParallel(Discriminator()).to(device)"
   ]
  },
  {
   "cell_type": "markdown",
   "metadata": {},
   "source": [
    "## 8. Set Loss function & Optimizer"
   ]
  },
  {
   "cell_type": "code",
   "execution_count": 18,
   "metadata": {
    "collapsed": true
   },
   "outputs": [],
   "source": [
    "# loss function, optimizers, and labels for training\n",
    "\n",
    "loss_func = nn.MSELoss()\n",
    "gen_optim = torch.optim.Adam(generator.parameters(), lr= 5*learning_rate,betas=(0.5,0.999))\n",
    "dis_optim = torch.optim.Adam(discriminator.parameters(), lr=learning_rate,betas=(0.5,0.999))\n",
    "\n",
    "ones_label = torch.ones(batch_size,1).to(device)\n",
    "zeros_label = torch.zeros(batch_size,1).to(device)\n",
    "\n",
    "def image_check(gen_fake):\n",
    "    img = gen_fake.data.numpy()\n",
    "    for i in range(10):\n",
    "        plt.imshow(img[i][0],cmap='gray')\n",
    "        plt.show()"
   ]
  },
  {
   "cell_type": "markdown",
   "metadata": {},
   "source": [
    "## 10. Train Model"
   ]
  },
  {
   "cell_type": "code",
   "execution_count": null,
   "metadata": {
    "scrolled": true
   },
   "outputs": [
    {
     "name": "stderr",
     "output_type": "stream",
     "text": [
      "C:\\Users\\userpc\\Anaconda3\\lib\\site-packages\\ipykernel_launcher.py:10: UserWarning: nn.init.normal is now deprecated in favor of nn.init.normal_.\n",
      "  # Remove the CWD from sys.path while we load stuff.\n",
      "C:\\Users\\userpc\\Anaconda3\\lib\\site-packages\\ipykernel_launcher.py:21: UserWarning: nn.init.normal is now deprecated in favor of nn.init.normal_.\n"
     ]
    },
    {
     "name": "stdout",
     "output_type": "stream",
     "text": [
      "tensor(0.3213, grad_fn=<SumBackward0>) tensor(0.5785, grad_fn=<ThAddBackward>)\n",
      "0th iteration gen_loss: 0.32128918170928955 dis_loss: 0.5784515142440796\n"
     ]
    }
   ],
   "source": [
    "# train\n",
    "\n",
    "for i in range(epoch):\n",
    "    for j,(image,label) in enumerate(train_loader):\n",
    "        image = image.to(device)\n",
    "        \n",
    "        # generator\n",
    "        gen_optim.zero_grad()\n",
    "        \n",
    "        z = init.normal(torch.Tensor(batch_size,100),mean=0,std=0.1).to(device)\n",
    "        gen_fake = generator.forward(z)\n",
    "        dis_fake = discriminator.forward(gen_fake)\n",
    "        \n",
    "        gen_loss = torch.sum(loss_func(dis_fake,ones_label)) # fake classified as real\n",
    "        gen_loss.backward()\n",
    "        gen_optim.step()\n",
    "    \n",
    "        # discriminator\n",
    "        dis_optim.zero_grad()\n",
    "        \n",
    "        z = init.normal(torch.Tensor(batch_size,100),mean=0,std=0.1).to(device)\n",
    "        gen_fake = generator.forward(z)\n",
    "        dis_fake = discriminator.forward(gen_fake)\n",
    "        \n",
    "        dis_real = discriminator.forward(image)\n",
    "        dis_loss = torch.sum(loss_func(dis_fake,zeros_label)) + torch.sum(loss_func(dis_real,ones_label))\n",
    "        dis_loss.backward()\n",
    "        dis_optim.step()\n",
    "    \n",
    "        # model save\n",
    "        if j % 50 == 0:\n",
    "            print(gen_loss,dis_loss)\n",
    "\n",
    "            print(\"{}th iteration gen_loss: {} dis_loss: {}\".format(i,gen_loss.data,dis_loss.data))\n",
    "            v_utils.save_image(gen_fake.data[0:25],\"gen_{}_{}.png\".format(i,j), nrow=5)\n",
    "            \n",
    "    image_check(gen_fake.cpu())"
   ]
  },
  {
   "cell_type": "code",
   "execution_count": null,
   "metadata": {
    "collapsed": true
   },
   "outputs": [],
   "source": []
  },
  {
   "cell_type": "code",
   "execution_count": null,
   "metadata": {
    "collapsed": true
   },
   "outputs": [],
   "source": []
  },
  {
   "cell_type": "code",
   "execution_count": null,
   "metadata": {
    "collapsed": true
   },
   "outputs": [],
   "source": []
  },
  {
   "cell_type": "code",
   "execution_count": null,
   "metadata": {
    "collapsed": true
   },
   "outputs": [],
   "source": []
  },
  {
   "cell_type": "code",
   "execution_count": null,
   "metadata": {
    "collapsed": true
   },
   "outputs": [],
   "source": []
  }
 ],
 "metadata": {
  "kernelspec": {
   "display_name": "Python 3",
   "language": "python",
   "name": "python3"
  },
  "language_info": {
   "codemirror_mode": {
    "name": "ipython",
    "version": 3
   },
   "file_extension": ".py",
   "mimetype": "text/x-python",
   "name": "python",
   "nbconvert_exporter": "python",
   "pygments_lexer": "ipython3",
   "version": "3.6.1"
  }
 },
 "nbformat": 4,
 "nbformat_minor": 1
}
