{
 "cells": [
  {
   "cell_type": "code",
   "execution_count": 1,
   "metadata": {},
   "outputs": [],
   "source": [
    "import numpy as np\n",
    "import tensorflow as tf\n",
    "import matplotlib.pyplot as plt\n",
    "from sklearn.metrics import r2_score\n",
    "import pandas as pd\n",
    "import os\n",
    "import random\n",
    "\n",
    "os.environ[\"CUDA_VISIBLE_DEVICES\"]=\"-1\""
   ]
  },
  {
   "cell_type": "markdown",
   "metadata": {},
   "source": [
    "Import Data (normalized) & Separate to Training and Test"
   ]
  },
  {
   "cell_type": "code",
   "execution_count": 15,
   "metadata": {},
   "outputs": [
    {
     "name": "stdout",
     "output_type": "stream",
     "text": [
      "[[ 0.5  0.5  1.   1. ]\n",
      " [ 0.5  0.   0.5  1. ]\n",
      " [ 0.   0.   0.5  0.5]\n",
      " [ 0.   0.5  1.   0.5]\n",
      " [ 1.   0.5  0.5  1. ]\n",
      " [ 0.5  0.5  0.   1. ]\n",
      " [ 1.   0.   0.5  0.5]\n",
      " [ 0.5  0.5  0.   0. ]\n",
      " [ 0.5  0.   0.   0.5]\n",
      " [ 0.5  0.5  1.   0. ]\n",
      " [ 0.   0.5  0.5  0. ]\n",
      " [ 1.   1.   0.5  0.5]\n",
      " [ 0.5  0.   1.   0.5]\n",
      " [ 0.   1.   0.5  0.5]\n",
      " [ 1.   0.5  0.5  0. ]\n",
      " [ 0.   0.5  0.   0.5]\n",
      " [ 0.5  1.   1.   0.5]\n",
      " [ 0.5  1.   0.5  0. ]\n",
      " [ 1.   0.5  1.   0.5]\n",
      " [ 0.5  1.   0.   0.5]]\n",
      "------------------------\n",
      "[[ 0.5  0.   0.5  0. ]\n",
      " [ 1.   0.5  0.   0.5]\n",
      " [ 0.   0.5  0.5  1. ]\n",
      " [ 0.5  0.5  0.5  0.5]\n",
      " [ 0.5  1.   0.5  1. ]]\n",
      "------------------------\n",
      "[-0.21844449 -0.47152439 -0.45735005 -0.1123416  -0.11245536 -0.18036006\n",
      " -0.19692817  0.00145492 -0.14520267  0.01178692  0.04523337  0.52847561\n",
      " -0.13421128  0.19149351 -0.00787756  0.09143864 -0.16016158  0.30505231\n",
      "  0.04222738  0.33060721 -0.11420875 -0.40693603 -0.35511784 -0.15057239\n",
      " -0.13420875  0.17579125 -0.26875421  0.18215488 -0.12875421 -0.01420875\n",
      "  0.12306397  0.59306397 -0.31784512  0.24124579 -0.0696633   0.16942761\n",
      "  0.06124579  0.2103367  -0.14693603  0.44670034]\n",
      "------------------------\n",
      "[[ 0.41895858  0.20294599  0.68485121  0.07951933  0.18177079]\n",
      " [ 0.91895858  0.70294599  0.18485121  0.57951933  0.4657582 ]\n",
      " [-0.08104142  0.70294599  0.68485121  1.07951933  0.44766342]\n",
      " [ 0.41895858  0.70294599  0.68485121  0.57951933  0.34233154]\n",
      " [ 0.41895858  1.20294599  0.68485121  1.07951933  0.52562441]]\n"
     ]
    }
   ],
   "source": [
    "#data = np.loadtxt(\"ACL nomalization data.txt\")\n",
    "#data2 = np.loadtxt(\"acl data.txt\")\n",
    "data = np.loadtxt(\"ACL FTIR data_mean.txt\")\n",
    "data2 = np.loadtxt(\"ACL thickness normalized data.txt\")\n",
    "\n",
    "X_NormalizedData = data[:,0:4]\n",
    "Y_NormalizedData_ftir = data[:,4]\n",
    "Y_NormalizedData_thickness = data2[:,]\n",
    "#Y_NormalizedData = Y_NormalizedData_ftir + Y_NormalizedData_thickness\n",
    "#Y_NormalizedData = np.concat(Y_NormalizedData_ftir,Y_NormalizedData_thickness)\n",
    "Y_NormalizedData = np.hstack((Y_NormalizedData_ftir,Y_NormalizedData_thickness))\n",
    "\n",
    "X_TrainingData = data[0:20,0:4]\n",
    "Y_TrainingData_ftir = data[0:20,4]\n",
    "Y_TrainingData_thickness = data2[0:20,]\n",
    "#Y_TrainingData = Y_TrainingData_ftir + Y_TrainingData_thickness\n",
    "Y_TrainingData = np.hstack((Y_TrainingData_ftir,Y_TrainingData_thickness))\n",
    "#Y_TrainingData = numpy.concatenate(Y_TrainingData_ftir,Y_TrainingData_thickness)\n",
    "\n",
    "X_TestData = data[20:,0:4]\n",
    "Y_TestData_ftir = data[20:,4]\n",
    "Y_TestData_thickness = data[20:,]\n",
    "Y_TestData = Y_TestData_ftir + Y_TestData_thickness\n",
    "#Y_TestData = numpy.concatenate(Y_TestData_ftir,Y_TestData_thickness)\n",
    "\n",
    "Sequence = [0,1,2,3,4,5,6,7,8,9,10,11,12,13,14,15,16,17,18,19]\n",
    "\n",
    "print(X_TrainingData)\n",
    "print(\"------------------------\")\n",
    "print(X_TestData)\n",
    "print(\"------------------------\")\n",
    "print(Y_TrainingData)\n",
    "print(\"------------------------\")\n",
    "print(Y_TestData)"
   ]
  },
  {
   "cell_type": "code",
   "execution_count": null,
   "metadata": {},
   "outputs": [],
   "source": []
  }
 ],
 "metadata": {
  "kernelspec": {
   "display_name": "Python 3",
   "language": "python",
   "name": "python3"
  },
  "language_info": {
   "codemirror_mode": {
    "name": "ipython",
    "version": 3
   },
   "file_extension": ".py",
   "mimetype": "text/x-python",
   "name": "python",
   "nbconvert_exporter": "python",
   "pygments_lexer": "ipython3",
   "version": "3.5.2"
  },
  "toc": {
   "base_numbering": 1,
   "nav_menu": {},
   "number_sections": true,
   "sideBar": true,
   "skip_h1_title": false,
   "title_cell": "Table of Contents",
   "title_sidebar": "Contents",
   "toc_cell": false,
   "toc_position": {},
   "toc_section_display": true,
   "toc_window_display": false
  },
  "varInspector": {
   "cols": {
    "lenName": 16,
    "lenType": 16,
    "lenVar": 40
   },
   "kernels_config": {
    "python": {
     "delete_cmd_postfix": "",
     "delete_cmd_prefix": "del ",
     "library": "var_list.py",
     "varRefreshCmd": "print(var_dic_list())"
    },
    "r": {
     "delete_cmd_postfix": ") ",
     "delete_cmd_prefix": "rm(",
     "library": "var_list.r",
     "varRefreshCmd": "cat(var_dic_list()) "
    }
   },
   "types_to_exclude": [
    "module",
    "function",
    "builtin_function_or_method",
    "instance",
    "_Feature"
   ],
   "window_display": false
  }
 },
 "nbformat": 4,
 "nbformat_minor": 2
}
