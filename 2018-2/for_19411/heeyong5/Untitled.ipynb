{
 "cells": [
  {
   "cell_type": "code",
   "execution_count": 1,
   "metadata": {},
   "outputs": [],
   "source": [
    "from BE_resGANs_v5 import Anomaly_Mnist\n",
    "from BE_resGANs_v5 import BE_resGANs_v5\n",
    "import tensorflow as tf\n",
    "import os\n",
    "os.environ[\"CUDA_VISIBLE_DEVICES\"]=\"0\""
   ]
  },
  {
   "cell_type": "code",
   "execution_count": null,
   "metadata": {},
   "outputs": [
    {
     "name": "stdout",
     "output_type": "stream",
     "text": [
      "Extracting MNIST_data/train-images-idx3-ubyte.gz\n",
      "Extracting MNIST_data/train-labels-idx1-ubyte.gz\n",
      "Extracting MNIST_data/t10k-images-idx3-ubyte.gz\n",
      "Extracting MNIST_data/t10k-labels-idx1-ubyte.gz\n",
      "anomalous number :  [9]\n",
      "test_normal_data :  (8991, 64, 64, 1)\n",
      "test_anomalous_data :  (1009, 64, 64, 1)\n",
      "train_normal_data :  (49546, 64, 64, 1)\n",
      "train_anomalous_data :  (5454, 64, 64, 1)\n"
     ]
    }
   ],
   "source": [
    "data = Anomaly_Mnist()\n",
    "#data.set_anomaly(anomalous_nums =[0,1,2,3,4,5,6,7,8])\n",
    "data.set_anomaly(anomalous_nums =[9])"
   ]
  },
  {
   "cell_type": "code",
   "execution_count": null,
   "metadata": {},
   "outputs": [
    {
     "name": "stdout",
     "output_type": "stream",
     "text": [
      "D_e : -2495.518, D_real_e : 82.191, D_fake_e : 55.239, G_e : 55.488, Q_e : 1.769, new_measure : 85.424, k_curr : 40.536\n",
      "D_e : -1892.061, D_real_e : 86.647, D_fake_e : 62.401, G_e : 62.505, Q_e : 1.252, new_measure : 88.499, k_curr : 22.201\n",
      "D_e : -992.021, D_real_e : 86.901, D_fake_e : 62.810, G_e : 62.876, Q_e : 1.089, new_measure : 88.947, k_curr : 12.076\n",
      "D_e : -346.018, D_real_e : 86.959, D_fake_e : 62.941, G_e : 62.983, Q_e : 0.968, new_measure : 89.071, k_curr : 1.624\n",
      "D_e : 38.151, D_real_e : 76.516, D_fake_e : 53.789, G_e : 53.777, Q_e : 0.882, new_measure : 77.114, k_curr : 0.556\n",
      "D_e : 37.922, D_real_e : 67.418, D_fake_e : 47.169, G_e : 47.178, Q_e : 0.807, new_measure : 67.600, k_curr : 0.632\n",
      "D_e : 33.110, D_real_e : 61.850, D_fake_e : 43.264, G_e : 43.282, Q_e : 0.748, new_measure : 62.033, k_curr : 0.698\n",
      "D_e : 30.046, D_real_e : 53.061, D_fake_e : 37.167, G_e : 37.193, Q_e : 0.703, new_measure : 53.271, k_curr : 0.446\n",
      "D_e : 29.379, D_real_e : 41.142, D_fake_e : 28.664, G_e : 28.810, Q_e : 0.679, new_measure : 41.554, k_curr : 0.391\n",
      "D_e : 23.456, D_real_e : 32.441, D_fake_e : 22.419, G_e : 22.711, Q_e : 0.654, new_measure : 32.846, k_curr : 0.381\n",
      "D_e : 19.364, D_real_e : 25.582, D_fake_e : 17.616, G_e : 17.930, Q_e : 0.627, new_measure : 26.002, k_curr : 0.269\n",
      "D_e : 16.632, D_real_e : 20.229, D_fake_e : 13.886, G_e : 14.174, Q_e : 0.598, new_measure : 20.692, k_curr : 0.201\n",
      "D_e : 14.318, D_real_e : 16.459, D_fake_e : 11.274, G_e : 11.527, Q_e : 0.570, new_measure : 16.949, k_curr : 0.173\n",
      "D_e : 12.048, D_real_e : 13.605, D_fake_e : 9.293, G_e : 9.529, Q_e : 0.544, new_measure : 14.074, k_curr : 0.147\n",
      "D_e : 10.289, D_real_e : 11.377, D_fake_e : 7.773, G_e : 7.970, Q_e : 0.519, new_measure : 11.776, k_curr : 0.114\n",
      "D_e : 8.699, D_real_e : 9.543, D_fake_e : 6.487, G_e : 6.679, Q_e : 0.497, new_measure : 9.786, k_curr : 0.120\n",
      "D_e : 7.516, D_real_e : 8.195, D_fake_e : 5.565, G_e : 5.733, Q_e : 0.476, new_measure : 8.452, k_curr : 0.137\n",
      "D_e : 6.964, D_real_e : 7.529, D_fake_e : 5.113, G_e : 5.275, Q_e : 0.456, new_measure : 7.778, k_curr : 0.110\n",
      "D_e : 6.562, D_real_e : 7.055, D_fake_e : 4.790, G_e : 4.941, Q_e : 0.437, new_measure : 7.295, k_curr : 0.096\n",
      "D_e : 6.308, D_real_e : 6.735, D_fake_e : 4.566, G_e : 4.718, Q_e : 0.420, new_measure : 6.982, k_curr : 0.078\n",
      "D_e : 6.087, D_real_e : 6.467, D_fake_e : 4.390, G_e : 4.524, Q_e : 0.405, new_measure : 6.690, k_curr : 0.093\n",
      "D_e : 5.918, D_real_e : 6.273, D_fake_e : 4.250, G_e : 4.390, Q_e : 0.390, new_measure : 6.506, k_curr : 0.096\n",
      "D_e : 5.747, D_real_e : 6.073, D_fake_e : 4.126, G_e : 4.255, Q_e : 0.377, new_measure : 6.291, k_curr : 0.079\n",
      "D_e : 5.591, D_real_e : 5.896, D_fake_e : 4.004, G_e : 4.130, Q_e : 0.364, new_measure : 6.119, k_curr : 0.066\n",
      "D_e : 5.476, D_real_e : 5.753, D_fake_e : 3.898, G_e : 4.026, Q_e : 0.352, new_measure : 5.978, k_curr : 0.072\n",
      "D_e : 5.311, D_real_e : 5.613, D_fake_e : 3.799, G_e : 3.927, Q_e : 0.341, new_measure : 5.822, k_curr : 0.081\n",
      "D_e : 5.204, D_real_e : 5.511, D_fake_e : 3.725, G_e : 3.856, Q_e : 0.330, new_measure : 5.715, k_curr : 0.087\n",
      "D_e : 5.095, D_real_e : 5.380, D_fake_e : 3.639, G_e : 3.767, Q_e : 0.320, new_measure : 5.602, k_curr : 0.080\n",
      "D_e : 5.002, D_real_e : 5.259, D_fake_e : 3.559, G_e : 3.682, Q_e : 0.311, new_measure : 5.468, k_curr : 0.074\n",
      "D_e : 4.914, D_real_e : 5.168, D_fake_e : 3.500, G_e : 3.622, Q_e : 0.302, new_measure : 5.377, k_curr : 0.054\n",
      "D_e : 4.831, D_real_e : 5.084, D_fake_e : 3.433, G_e : 3.554, Q_e : 0.294, new_measure : 5.270, k_curr : 0.081\n",
      "D_e : 4.738, D_real_e : 4.988, D_fake_e : 3.375, G_e : 3.492, Q_e : 0.286, new_measure : 5.186, k_curr : 0.080\n",
      "D_e : 4.675, D_real_e : 4.906, D_fake_e : 3.320, G_e : 3.433, Q_e : 0.278, new_measure : 5.113, k_curr : 0.086\n",
      "D_e : 4.590, D_real_e : 4.830, D_fake_e : 3.272, G_e : 3.382, Q_e : 0.271, new_measure : 5.025, k_curr : 0.081\n",
      "D_e : 4.446, D_real_e : 4.700, D_fake_e : 3.246, G_e : 3.290, Q_e : 0.265, new_measure : 4.890, k_curr : 0.083\n",
      "D_e : 4.402, D_real_e : 4.668, D_fake_e : 3.213, G_e : 3.266, Q_e : 0.258, new_measure : 4.855, k_curr : 0.088\n",
      "D_e : 4.368, D_real_e : 4.632, D_fake_e : 3.192, G_e : 3.245, Q_e : 0.252, new_measure : 4.815, k_curr : 0.076\n",
      "D_e : 4.354, D_real_e : 4.607, D_fake_e : 3.170, G_e : 3.225, Q_e : 0.246, new_measure : 4.796, k_curr : 0.074\n",
      "D_e : 4.324, D_real_e : 4.584, D_fake_e : 3.151, G_e : 3.207, Q_e : 0.241, new_measure : 4.764, k_curr : 0.082\n",
      "D_e : 4.276, D_real_e : 4.552, D_fake_e : 3.126, G_e : 3.183, Q_e : 0.236, new_measure : 4.729, k_curr : 0.101\n",
      "D_e : 4.264, D_real_e : 4.512, D_fake_e : 3.108, G_e : 3.162, Q_e : 0.231, new_measure : 4.686, k_curr : 0.084\n",
      "D_e : 4.251, D_real_e : 4.507, D_fake_e : 3.100, G_e : 3.157, Q_e : 0.226, new_measure : 4.681, k_curr : 0.074\n",
      "D_e : 4.229, D_real_e : 4.468, D_fake_e : 3.075, G_e : 3.127, Q_e : 0.221, new_measure : 4.649, k_curr : 0.074\n",
      "D_e : 4.208, D_real_e : 4.446, D_fake_e : 3.063, G_e : 3.115, Q_e : 0.217, new_measure : 4.623, k_curr : 0.060\n",
      "D_e : 4.183, D_real_e : 4.417, D_fake_e : 3.038, G_e : 3.088, Q_e : 0.212, new_measure : 4.593, k_curr : 0.080\n",
      "D_e : 4.139, D_real_e : 4.378, D_fake_e : 3.012, G_e : 3.063, Q_e : 0.208, new_measure : 4.541, k_curr : 0.087\n",
      "D_e : 4.144, D_real_e : 4.385, D_fake_e : 3.016, G_e : 3.069, Q_e : 0.204, new_measure : 4.547, k_curr : 0.092\n",
      "D_e : 4.110, D_real_e : 4.347, D_fake_e : 2.993, G_e : 3.046, Q_e : 0.201, new_measure : 4.520, k_curr : 0.076\n",
      "D_e : 4.099, D_real_e : 4.325, D_fake_e : 2.979, G_e : 3.028, Q_e : 0.197, new_measure : 4.488, k_curr : 0.074\n",
      "D_e : 4.081, D_real_e : 4.319, D_fake_e : 2.969, G_e : 3.021, Q_e : 0.194, new_measure : 4.477, k_curr : 0.084\n",
      "D_e : 4.065, D_real_e : 4.282, D_fake_e : 2.951, G_e : 2.998, Q_e : 0.190, new_measure : 4.441, k_curr : 0.082\n",
      "D_e : 4.038, D_real_e : 4.253, D_fake_e : 2.928, G_e : 2.976, Q_e : 0.187, new_measure : 4.430, k_curr : 0.086\n",
      "D_e : 4.017, D_real_e : 4.232, D_fake_e : 2.914, G_e : 2.963, Q_e : 0.184, new_measure : 4.399, k_curr : 0.084\n",
      "D_e : 4.010, D_real_e : 4.223, D_fake_e : 2.909, G_e : 2.956, Q_e : 0.181, new_measure : 4.378, k_curr : 0.083\n",
      "D_e : 4.010, D_real_e : 4.211, D_fake_e : 2.899, G_e : 2.948, Q_e : 0.178, new_measure : 4.387, k_curr : 0.079\n",
      "D_e : 3.969, D_real_e : 4.190, D_fake_e : 2.887, G_e : 2.935, Q_e : 0.175, new_measure : 4.359, k_curr : 0.069\n",
      "D_e : 3.959, D_real_e : 4.169, D_fake_e : 2.873, G_e : 2.919, Q_e : 0.172, new_measure : 4.342, k_curr : 0.066\n",
      "D_e : 3.963, D_real_e : 4.165, D_fake_e : 2.866, G_e : 2.912, Q_e : 0.169, new_measure : 4.325, k_curr : 0.081\n",
      "D_e : 3.919, D_real_e : 4.133, D_fake_e : 2.849, G_e : 2.895, Q_e : 0.167, new_measure : 4.301, k_curr : 0.069\n",
      "D_e : 3.908, D_real_e : 4.126, D_fake_e : 2.837, G_e : 2.884, Q_e : 0.164, new_measure : 4.294, k_curr : 0.093\n",
      "D_e : 3.895, D_real_e : 4.103, D_fake_e : 2.826, G_e : 2.876, Q_e : 0.162, new_measure : 4.268, k_curr : 0.075\n",
      "D_e : 3.878, D_real_e : 4.082, D_fake_e : 2.812, G_e : 2.861, Q_e : 0.160, new_measure : 4.251, k_curr : 0.058\n",
      "D_e : 3.861, D_real_e : 4.061, D_fake_e : 2.792, G_e : 2.836, Q_e : 0.157, new_measure : 4.212, k_curr : 0.089\n",
      "D_e : 3.859, D_real_e : 4.072, D_fake_e : 2.807, G_e : 2.855, Q_e : 0.155, new_measure : 4.227, k_curr : 0.063\n",
      "D_e : 3.843, D_real_e : 4.048, D_fake_e : 2.788, G_e : 2.834, Q_e : 0.153, new_measure : 4.212, k_curr : 0.060\n",
      "D_e : 3.823, D_real_e : 4.040, D_fake_e : 2.778, G_e : 2.824, Q_e : 0.151, new_measure : 4.198, k_curr : 0.079\n",
      "D_e : 3.796, D_real_e : 4.019, D_fake_e : 2.764, G_e : 2.813, Q_e : 0.149, new_measure : 4.169, k_curr : 0.079\n",
      "D_e : 3.700, D_real_e : 3.953, D_fake_e : 2.758, G_e : 2.765, Q_e : 0.147, new_measure : 4.102, k_curr : 0.088\n",
      "D_e : 3.702, D_real_e : 3.947, D_fake_e : 2.754, G_e : 2.761, Q_e : 0.145, new_measure : 4.088, k_curr : 0.097\n",
      "D_e : 3.704, D_real_e : 3.940, D_fake_e : 2.755, G_e : 2.762, Q_e : 0.143, new_measure : 4.083, k_curr : 0.076\n",
      "D_e : 3.717, D_real_e : 3.948, D_fake_e : 2.759, G_e : 2.766, Q_e : 0.141, new_measure : 4.099, k_curr : 0.063\n",
      "D_e : 3.705, D_real_e : 3.938, D_fake_e : 2.745, G_e : 2.752, Q_e : 0.140, new_measure : 4.084, k_curr : 0.086\n",
      "D_e : 3.681, D_real_e : 3.935, D_fake_e : 2.747, G_e : 2.755, Q_e : 0.138, new_measure : 4.076, k_curr : 0.087\n",
      "D_e : 3.698, D_real_e : 3.931, D_fake_e : 2.745, G_e : 2.752, Q_e : 0.136, new_measure : 4.071, k_curr : 0.087\n"
     ]
    },
    {
     "name": "stdout",
     "output_type": "stream",
     "text": [
      "D_e : 3.698, D_real_e : 3.915, D_fake_e : 2.734, G_e : 2.741, Q_e : 0.135, new_measure : 4.062, k_curr : 0.087\n",
      "D_e : 3.685, D_real_e : 3.926, D_fake_e : 2.741, G_e : 2.748, Q_e : 0.133, new_measure : 4.072, k_curr : 0.086\n",
      "D_e : 3.697, D_real_e : 3.925, D_fake_e : 2.737, G_e : 2.744, Q_e : 0.132, new_measure : 4.075, k_curr : 0.104\n",
      "D_e : 3.677, D_real_e : 3.914, D_fake_e : 2.738, G_e : 2.746, Q_e : 0.130, new_measure : 4.056, k_curr : 0.076\n",
      "D_e : 3.679, D_real_e : 3.915, D_fake_e : 2.728, G_e : 2.735, Q_e : 0.129, new_measure : 4.068, k_curr : 0.100\n",
      "D_e : 3.666, D_real_e : 3.919, D_fake_e : 2.733, G_e : 2.741, Q_e : 0.127, new_measure : 4.060, k_curr : 0.112\n",
      "D_e : 3.688, D_real_e : 3.916, D_fake_e : 2.734, G_e : 2.741, Q_e : 0.126, new_measure : 4.065, k_curr : 0.114\n",
      "D_e : 3.678, D_real_e : 3.914, D_fake_e : 2.742, G_e : 2.749, Q_e : 0.124, new_measure : 4.060, k_curr : 0.068\n",
      "D_e : 3.680, D_real_e : 3.901, D_fake_e : 2.725, G_e : 2.731, Q_e : 0.123, new_measure : 4.047, k_curr : 0.065\n",
      "D_e : 3.682, D_real_e : 3.903, D_fake_e : 2.724, G_e : 2.731, Q_e : 0.122, new_measure : 4.052, k_curr : 0.069\n",
      "D_e : 3.684, D_real_e : 3.900, D_fake_e : 2.720, G_e : 2.727, Q_e : 0.120, new_measure : 4.046, k_curr : 0.083\n",
      "D_e : 3.679, D_real_e : 3.890, D_fake_e : 2.715, G_e : 2.722, Q_e : 0.119, new_measure : 4.048, k_curr : 0.088\n",
      "D_e : 3.673, D_real_e : 3.884, D_fake_e : 2.714, G_e : 2.720, Q_e : 0.118, new_measure : 4.031, k_curr : 0.079\n",
      "D_e : 3.666, D_real_e : 3.893, D_fake_e : 2.719, G_e : 2.726, Q_e : 0.117, new_measure : 4.050, k_curr : 0.074\n",
      "D_e : 3.658, D_real_e : 3.882, D_fake_e : 2.705, G_e : 2.713, Q_e : 0.116, new_measure : 4.027, k_curr : 0.095\n",
      "D_e : 3.650, D_real_e : 3.880, D_fake_e : 2.711, G_e : 2.718, Q_e : 0.114, new_measure : 4.022, k_curr : 0.083\n",
      "D_e : 3.659, D_real_e : 3.891, D_fake_e : 2.712, G_e : 2.720, Q_e : 0.113, new_measure : 4.031, k_curr : 0.101\n",
      "D_e : 3.643, D_real_e : 3.884, D_fake_e : 2.712, G_e : 2.720, Q_e : 0.112, new_measure : 4.025, k_curr : 0.096\n",
      "D_e : 3.656, D_real_e : 3.880, D_fake_e : 2.708, G_e : 2.715, Q_e : 0.111, new_measure : 4.029, k_curr : 0.101\n",
      "D_e : 3.652, D_real_e : 3.879, D_fake_e : 2.711, G_e : 2.719, Q_e : 0.110, new_measure : 4.021, k_curr : 0.084\n",
      "D_e : 3.647, D_real_e : 3.882, D_fake_e : 2.713, G_e : 2.721, Q_e : 0.109, new_measure : 4.016, k_curr : 0.064\n",
      "D_e : 3.670, D_real_e : 3.876, D_fake_e : 2.704, G_e : 2.710, Q_e : 0.108, new_measure : 4.018, k_curr : 0.078\n",
      "D_e : 3.639, D_real_e : 3.859, D_fake_e : 2.694, G_e : 2.701, Q_e : 0.107, new_measure : 4.008, k_curr : 0.081\n",
      "D_e : 3.637, D_real_e : 3.857, D_fake_e : 2.693, G_e : 2.700, Q_e : 0.106, new_measure : 3.992, k_curr : 0.078\n",
      "D_e : 3.648, D_real_e : 3.863, D_fake_e : 2.699, G_e : 2.706, Q_e : 0.105, new_measure : 4.004, k_curr : 0.068\n",
      "D_e : 3.659, D_real_e : 3.858, D_fake_e : 2.691, G_e : 2.698, Q_e : 0.104, new_measure : 4.000, k_curr : 0.083\n",
      "total time :  11229.733571529388\n",
      "E_e : 23.836193\n",
      "E_e : 18.659723\n",
      "E_e : 17.792604\n",
      "E_e : 17.382471\n",
      "E_e : 17.098969\n",
      "E_e : 16.880615\n",
      "E_e : 16.691845\n",
      "E_e : 16.561245\n",
      "E_e : 16.432711\n",
      "E_e : 16.310204\n",
      "E_e : 16.206932\n"
     ]
    }
   ],
   "source": [
    "sess = tf.Session(config=tf.ConfigProto(gpu_options=tf.GPUOptions(allow_growth=True))) \n",
    "sess.run(tf.global_variables_initializer())\n",
    "\n",
    "path = 'test5-1'\n",
    "mnist = data\n",
    "a = BE_resGANs_v5(sess,path,mnist, GANs_epoch = 100, E_epoch = 30,D_lr = 2e-5, G_lr = 2e-4, E_lr = 2e-4, c_size = 30, gamma = 0.7, lam = 0.01,  \n",
    "                  minibatch_increase = True,  factor_decrease = True)\n",
    "a.GANs_fit()\n",
    "a.E_fit()\n",
    "a.report()"
   ]
  },
  {
   "cell_type": "code",
   "execution_count": null,
   "metadata": {},
   "outputs": [],
   "source": []
  }
 ],
 "metadata": {
  "kernelspec": {
   "display_name": "Python 3",
   "language": "python",
   "name": "python3"
  },
  "language_info": {
   "codemirror_mode": {
    "name": "ipython",
    "version": 3
   },
   "file_extension": ".py",
   "mimetype": "text/x-python",
   "name": "python",
   "nbconvert_exporter": "python",
   "pygments_lexer": "ipython3",
   "version": "3.5.2"
  },
  "toc": {
   "base_numbering": 1,
   "nav_menu": {},
   "number_sections": true,
   "sideBar": true,
   "skip_h1_title": false,
   "title_cell": "Table of Contents",
   "title_sidebar": "Contents",
   "toc_cell": false,
   "toc_position": {},
   "toc_section_display": true,
   "toc_window_display": false
  },
  "varInspector": {
   "cols": {
    "lenName": 16,
    "lenType": 16,
    "lenVar": 40
   },
   "kernels_config": {
    "python": {
     "delete_cmd_postfix": "",
     "delete_cmd_prefix": "del ",
     "library": "var_list.py",
     "varRefreshCmd": "print(var_dic_list())"
    },
    "r": {
     "delete_cmd_postfix": ") ",
     "delete_cmd_prefix": "rm(",
     "library": "var_list.r",
     "varRefreshCmd": "cat(var_dic_list()) "
    }
   },
   "types_to_exclude": [
    "module",
    "function",
    "builtin_function_or_method",
    "instance",
    "_Feature"
   ],
   "window_display": false
  }
 },
 "nbformat": 4,
 "nbformat_minor": 2
}
