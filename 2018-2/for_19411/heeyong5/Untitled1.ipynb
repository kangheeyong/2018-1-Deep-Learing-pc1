{
 "cells": [
  {
   "cell_type": "code",
   "execution_count": 1,
   "metadata": {},
   "outputs": [],
   "source": [
    "from BE_resGANs_v5 import Anomaly_Mnist\n",
    "from BE_resGANs_v5 import BE_resGANs_v5\n",
    "import tensorflow as tf\n",
    "import os\n",
    "os.environ[\"CUDA_VISIBLE_DEVICES\"]=\"1\""
   ]
  },
  {
   "cell_type": "code",
   "execution_count": null,
   "metadata": {},
   "outputs": [
    {
     "name": "stdout",
     "output_type": "stream",
     "text": [
      "Extracting MNIST_data/train-images-idx3-ubyte.gz\n",
      "Extracting MNIST_data/train-labels-idx1-ubyte.gz\n",
      "Extracting MNIST_data/t10k-images-idx3-ubyte.gz\n",
      "Extracting MNIST_data/t10k-labels-idx1-ubyte.gz\n",
      "anomalous number :  [1]\n",
      "test_normal_data :  (8865, 64, 64, 1)\n",
      "test_anomalous_data :  (1135, 64, 64, 1)\n",
      "train_normal_data :  (48821, 64, 64, 1)\n",
      "train_anomalous_data :  (6179, 64, 64, 1)\n"
     ]
    }
   ],
   "source": [
    "data = Anomaly_Mnist()\n",
    "#data.set_anomaly(anomalous_nums =[0,1,2,3,4,5,6,7,8])\n",
    "data.set_anomaly(anomalous_nums =[1])"
   ]
  },
  {
   "cell_type": "code",
   "execution_count": null,
   "metadata": {},
   "outputs": [
    {
     "name": "stdout",
     "output_type": "stream",
     "text": [
      "D_e : -440.363, D_real_e : 64.513, D_fake_e : 43.587, G_e : 45.135, Q_e : 3.397, new_measure : 68.870, k_curr : 0.481\n",
      "D_e : 30.869, D_real_e : 40.352, D_fake_e : 26.032, G_e : 28.265, Q_e : 3.388, new_measure : 43.012, k_curr : 0.302\n",
      "D_e : 25.310, D_real_e : 32.965, D_fake_e : 22.018, G_e : 23.065, Q_e : 3.384, new_measure : 34.616, k_curr : 0.355\n",
      "D_e : 22.665, D_real_e : 28.114, D_fake_e : 18.829, G_e : 19.695, Q_e : 3.381, new_measure : 29.538, k_curr : 0.283\n",
      "D_e : 19.690, D_real_e : 23.748, D_fake_e : 15.968, G_e : 16.634, Q_e : 3.378, new_measure : 24.951, k_curr : 0.231\n",
      "D_e : 16.577, D_real_e : 20.038, D_fake_e : 13.442, G_e : 14.025, Q_e : 3.375, new_measure : 21.066, k_curr : 0.242\n",
      "D_e : 14.285, D_real_e : 17.012, D_fake_e : 11.529, G_e : 11.898, Q_e : 3.371, new_measure : 17.684, k_curr : 0.292\n",
      "D_e : 12.418, D_real_e : 14.624, D_fake_e : 9.954, G_e : 10.251, Q_e : 3.366, new_measure : 15.166, k_curr : 0.221\n",
      "D_e : 10.915, D_real_e : 12.740, D_fake_e : 8.669, G_e : 8.916, Q_e : 3.357, new_measure : 13.178, k_curr : 0.229\n",
      "D_e : 9.710, D_real_e : 11.192, D_fake_e : 7.634, G_e : 7.841, Q_e : 3.342, new_measure : 11.526, k_curr : 0.199\n",
      "D_e : 8.828, D_real_e : 9.920, D_fake_e : 6.769, G_e : 6.955, Q_e : 3.310, new_measure : 10.213, k_curr : 0.143\n",
      "D_e : 8.185, D_real_e : 8.895, D_fake_e : 6.098, G_e : 6.234, Q_e : 3.238, new_measure : 9.160, k_curr : 0.107\n",
      "D_e : 7.679, D_real_e : 8.076, D_fake_e : 5.567, G_e : 5.666, Q_e : 3.120, new_measure : 8.299, k_curr : 0.045\n",
      "D_e : 7.190, D_real_e : 7.485, D_fake_e : 5.137, G_e : 5.233, Q_e : 2.976, new_measure : 7.703, k_curr : 0.076\n",
      "D_e : 6.743, D_real_e : 7.028, D_fake_e : 4.826, G_e : 4.924, Q_e : 2.833, new_measure : 7.241, k_curr : 0.053\n",
      "D_e : 6.373, D_real_e : 6.690, D_fake_e : 4.560, G_e : 4.682, Q_e : 2.701, new_measure : 6.896, k_curr : 0.061\n",
      "D_e : 6.095, D_real_e : 6.426, D_fake_e : 4.376, G_e : 4.495, Q_e : 2.579, new_measure : 6.646, k_curr : 0.079\n",
      "D_e : 5.821, D_real_e : 6.185, D_fake_e : 4.204, G_e : 4.331, Q_e : 2.467, new_measure : 6.396, k_curr : 0.070\n",
      "D_e : 5.624, D_real_e : 5.989, D_fake_e : 4.058, G_e : 4.188, Q_e : 2.364, new_measure : 6.197, k_curr : 0.092\n",
      "D_e : 5.454, D_real_e : 5.832, D_fake_e : 3.950, G_e : 4.084, Q_e : 2.269, new_measure : 6.033, k_curr : 0.087\n",
      "D_e : 5.306, D_real_e : 5.684, D_fake_e : 3.841, G_e : 3.975, Q_e : 2.181, new_measure : 5.889, k_curr : 0.107\n",
      "D_e : 5.170, D_real_e : 5.545, D_fake_e : 3.760, G_e : 3.884, Q_e : 2.099, new_measure : 5.726, k_curr : 0.095\n",
      "D_e : 5.050, D_real_e : 5.426, D_fake_e : 3.661, G_e : 3.795, Q_e : 2.023, new_measure : 5.614, k_curr : 0.111\n",
      "D_e : 4.962, D_real_e : 5.326, D_fake_e : 3.605, G_e : 3.732, Q_e : 1.952, new_measure : 5.520, k_curr : 0.090\n",
      "D_e : 4.848, D_real_e : 5.187, D_fake_e : 3.514, G_e : 3.631, Q_e : 1.886, new_measure : 5.391, k_curr : 0.088\n",
      "D_e : 4.751, D_real_e : 5.097, D_fake_e : 3.450, G_e : 3.565, Q_e : 1.825, new_measure : 5.296, k_curr : 0.104\n",
      "D_e : 4.696, D_real_e : 5.042, D_fake_e : 3.402, G_e : 3.528, Q_e : 1.767, new_measure : 5.226, k_curr : 0.109\n",
      "D_e : 4.610, D_real_e : 4.935, D_fake_e : 3.341, G_e : 3.454, Q_e : 1.712, new_measure : 5.125, k_curr : 0.114\n",
      "D_e : 4.569, D_real_e : 4.862, D_fake_e : 3.292, G_e : 3.406, Q_e : 1.661, new_measure : 5.044, k_curr : 0.105\n",
      "D_e : 4.471, D_real_e : 4.793, D_fake_e : 3.253, G_e : 3.357, Q_e : 1.613, new_measure : 4.976, k_curr : 0.095\n",
      "D_e : 4.436, D_real_e : 4.728, D_fake_e : 3.200, G_e : 3.306, Q_e : 1.567, new_measure : 4.911, k_curr : 0.112\n",
      "D_e : 4.373, D_real_e : 4.662, D_fake_e : 3.168, G_e : 3.269, Q_e : 1.524, new_measure : 4.864, k_curr : 0.085\n",
      "D_e : 4.314, D_real_e : 4.594, D_fake_e : 3.101, G_e : 3.211, Q_e : 1.483, new_measure : 4.771, k_curr : 0.108\n",
      "D_e : 4.281, D_real_e : 4.554, D_fake_e : 3.087, G_e : 3.191, Q_e : 1.445, new_measure : 4.730, k_curr : 0.097\n",
      "D_e : 4.052, D_real_e : 4.424, D_fake_e : 3.046, G_e : 3.092, Q_e : 1.408, new_measure : 4.597, k_curr : 0.119\n",
      "D_e : 4.037, D_real_e : 4.406, D_fake_e : 3.034, G_e : 3.081, Q_e : 1.373, new_measure : 4.579, k_curr : 0.136\n",
      "D_e : 4.036, D_real_e : 4.396, D_fake_e : 3.030, G_e : 3.080, Q_e : 1.340, new_measure : 4.555, k_curr : 0.121\n",
      "D_e : 3.996, D_real_e : 4.379, D_fake_e : 3.009, G_e : 3.063, Q_e : 1.309, new_measure : 4.533, k_curr : 0.135\n",
      "D_e : 4.002, D_real_e : 4.346, D_fake_e : 3.002, G_e : 3.051, Q_e : 1.278, new_measure : 4.505, k_curr : 0.090\n",
      "D_e : 3.976, D_real_e : 4.334, D_fake_e : 2.977, G_e : 3.030, Q_e : 1.250, new_measure : 4.490, k_curr : 0.111\n",
      "D_e : 3.946, D_real_e : 4.304, D_fake_e : 2.952, G_e : 3.006, Q_e : 1.222, new_measure : 4.462, k_curr : 0.143\n",
      "D_e : 3.918, D_real_e : 4.287, D_fake_e : 2.949, G_e : 3.004, Q_e : 1.196, new_measure : 4.443, k_curr : 0.129\n",
      "D_e : 3.891, D_real_e : 4.264, D_fake_e : 2.935, G_e : 2.985, Q_e : 1.171, new_measure : 4.410, k_curr : 0.129\n",
      "D_e : 3.865, D_real_e : 4.254, D_fake_e : 2.922, G_e : 2.975, Q_e : 1.147, new_measure : 4.410, k_curr : 0.141\n",
      "D_e : 3.873, D_real_e : 4.245, D_fake_e : 2.923, G_e : 2.974, Q_e : 1.123, new_measure : 4.397, k_curr : 0.127\n",
      "D_e : 3.850, D_real_e : 4.220, D_fake_e : 2.903, G_e : 2.953, Q_e : 1.101, new_measure : 4.369, k_curr : 0.130\n",
      "D_e : 3.842, D_real_e : 4.198, D_fake_e : 2.884, G_e : 2.937, Q_e : 1.080, new_measure : 4.348, k_curr : 0.140\n",
      "D_e : 3.814, D_real_e : 4.199, D_fake_e : 2.891, G_e : 2.941, Q_e : 1.059, new_measure : 4.358, k_curr : 0.131\n",
      "D_e : 3.788, D_real_e : 4.173, D_fake_e : 2.870, G_e : 2.921, Q_e : 1.040, new_measure : 4.326, k_curr : 0.131\n",
      "D_e : 3.776, D_real_e : 4.142, D_fake_e : 2.848, G_e : 2.902, Q_e : 1.020, new_measure : 4.274, k_curr : 0.119\n",
      "D_e : 3.766, D_real_e : 4.124, D_fake_e : 2.840, G_e : 2.889, Q_e : 1.002, new_measure : 4.264, k_curr : 0.111\n",
      "D_e : 3.742, D_real_e : 4.131, D_fake_e : 2.832, G_e : 2.885, Q_e : 0.984, new_measure : 4.274, k_curr : 0.144\n",
      "D_e : 3.719, D_real_e : 4.095, D_fake_e : 2.818, G_e : 2.866, Q_e : 0.967, new_measure : 4.231, k_curr : 0.146\n",
      "D_e : 3.712, D_real_e : 4.096, D_fake_e : 2.819, G_e : 2.871, Q_e : 0.951, new_measure : 4.234, k_curr : 0.128\n",
      "D_e : 3.688, D_real_e : 4.068, D_fake_e : 2.799, G_e : 2.848, Q_e : 0.935, new_measure : 4.207, k_curr : 0.124\n",
      "D_e : 3.690, D_real_e : 4.056, D_fake_e : 2.785, G_e : 2.834, Q_e : 0.920, new_measure : 4.186, k_curr : 0.147\n",
      "D_e : 3.672, D_real_e : 4.047, D_fake_e : 2.784, G_e : 2.836, Q_e : 0.905, new_measure : 4.171, k_curr : 0.134\n",
      "D_e : 3.680, D_real_e : 4.031, D_fake_e : 2.780, G_e : 2.827, Q_e : 0.890, new_measure : 4.169, k_curr : 0.107\n",
      "D_e : 3.672, D_real_e : 4.012, D_fake_e : 2.759, G_e : 2.805, Q_e : 0.876, new_measure : 4.150, k_curr : 0.123\n",
      "D_e : 3.671, D_real_e : 4.010, D_fake_e : 2.755, G_e : 2.801, Q_e : 0.863, new_measure : 4.144, k_curr : 0.150\n",
      "D_e : 3.632, D_real_e : 3.985, D_fake_e : 2.749, G_e : 2.795, Q_e : 0.850, new_measure : 4.123, k_curr : 0.123\n",
      "D_e : 3.646, D_real_e : 3.983, D_fake_e : 2.743, G_e : 2.790, Q_e : 0.837, new_measure : 4.118, k_curr : 0.112\n",
      "D_e : 3.625, D_real_e : 3.968, D_fake_e : 2.725, G_e : 2.773, Q_e : 0.825, new_measure : 4.103, k_curr : 0.134\n",
      "D_e : 3.603, D_real_e : 3.940, D_fake_e : 2.717, G_e : 2.761, Q_e : 0.813, new_measure : 4.067, k_curr : 0.118\n",
      "D_e : 3.592, D_real_e : 3.949, D_fake_e : 2.714, G_e : 2.761, Q_e : 0.801, new_measure : 4.077, k_curr : 0.133\n",
      "D_e : 3.579, D_real_e : 3.924, D_fake_e : 2.703, G_e : 2.746, Q_e : 0.790, new_measure : 4.060, k_curr : 0.135\n",
      "D_e : 3.560, D_real_e : 3.929, D_fake_e : 2.706, G_e : 2.752, Q_e : 0.779, new_measure : 4.061, k_curr : 0.127\n",
      "D_e : 3.371, D_real_e : 3.868, D_fake_e : 2.685, G_e : 2.695, Q_e : 0.768, new_measure : 3.998, k_curr : 0.189\n",
      "D_e : 3.441, D_real_e : 3.857, D_fake_e : 2.697, G_e : 2.705, Q_e : 0.758, new_measure : 3.981, k_curr : 0.167\n",
      "D_e : 3.392, D_real_e : 3.844, D_fake_e : 2.680, G_e : 2.688, Q_e : 0.748, new_measure : 3.966, k_curr : 0.180\n",
      "D_e : 3.390, D_real_e : 3.859, D_fake_e : 2.696, G_e : 2.705, Q_e : 0.738, new_measure : 3.978, k_curr : 0.162\n",
      "D_e : 3.399, D_real_e : 3.852, D_fake_e : 2.685, G_e : 2.693, Q_e : 0.728, new_measure : 3.966, k_curr : 0.180\n",
      "D_e : 3.377, D_real_e : 3.861, D_fake_e : 2.692, G_e : 2.701, Q_e : 0.719, new_measure : 3.978, k_curr : 0.190\n",
      "D_e : 3.423, D_real_e : 3.850, D_fake_e : 2.688, G_e : 2.695, Q_e : 0.710, new_measure : 3.971, k_curr : 0.188\n"
     ]
    },
    {
     "name": "stdout",
     "output_type": "stream",
     "text": [
      "D_e : 3.383, D_real_e : 3.854, D_fake_e : 2.689, G_e : 2.698, Q_e : 0.701, new_measure : 3.981, k_curr : 0.184\n",
      "D_e : 3.390, D_real_e : 3.849, D_fake_e : 2.689, G_e : 2.697, Q_e : 0.692, new_measure : 3.972, k_curr : 0.169\n",
      "D_e : 3.406, D_real_e : 3.841, D_fake_e : 2.683, G_e : 2.691, Q_e : 0.684, new_measure : 3.951, k_curr : 0.156\n",
      "D_e : 3.375, D_real_e : 3.847, D_fake_e : 2.683, G_e : 2.691, Q_e : 0.676, new_measure : 3.970, k_curr : 0.164\n",
      "D_e : 3.408, D_real_e : 3.842, D_fake_e : 2.681, G_e : 2.689, Q_e : 0.668, new_measure : 3.964, k_curr : 0.163\n",
      "D_e : 3.411, D_real_e : 3.838, D_fake_e : 2.679, G_e : 2.687, Q_e : 0.660, new_measure : 3.956, k_curr : 0.160\n",
      "D_e : 3.379, D_real_e : 3.845, D_fake_e : 2.680, G_e : 2.690, Q_e : 0.652, new_measure : 3.965, k_curr : 0.170\n",
      "D_e : 3.391, D_real_e : 3.825, D_fake_e : 2.669, G_e : 2.678, Q_e : 0.645, new_measure : 3.941, k_curr : 0.169\n",
      "D_e : 3.385, D_real_e : 3.832, D_fake_e : 2.674, G_e : 2.683, Q_e : 0.637, new_measure : 3.951, k_curr : 0.168\n",
      "D_e : 3.371, D_real_e : 3.841, D_fake_e : 2.684, G_e : 2.693, Q_e : 0.630, new_measure : 3.955, k_curr : 0.148\n",
      "D_e : 3.400, D_real_e : 3.826, D_fake_e : 2.669, G_e : 2.677, Q_e : 0.623, new_measure : 3.949, k_curr : 0.154\n",
      "D_e : 3.411, D_real_e : 3.826, D_fake_e : 2.673, G_e : 2.681, Q_e : 0.616, new_measure : 3.947, k_curr : 0.138\n",
      "D_e : 3.386, D_real_e : 3.819, D_fake_e : 2.659, G_e : 2.668, Q_e : 0.610, new_measure : 3.935, k_curr : 0.164\n",
      "D_e : 3.398, D_real_e : 3.820, D_fake_e : 2.666, G_e : 2.674, Q_e : 0.603, new_measure : 3.934, k_curr : 0.160\n",
      "D_e : 3.379, D_real_e : 3.816, D_fake_e : 2.664, G_e : 2.673, Q_e : 0.597, new_measure : 3.935, k_curr : 0.151\n",
      "D_e : 3.351, D_real_e : 3.818, D_fake_e : 2.658, G_e : 2.668, Q_e : 0.591, new_measure : 3.925, k_curr : 0.177\n",
      "D_e : 3.399, D_real_e : 3.811, D_fake_e : 2.667, G_e : 2.675, Q_e : 0.584, new_measure : 3.927, k_curr : 0.141\n",
      "D_e : 3.376, D_real_e : 3.800, D_fake_e : 2.642, G_e : 2.650, Q_e : 0.578, new_measure : 3.917, k_curr : 0.187\n",
      "D_e : 3.383, D_real_e : 3.811, D_fake_e : 2.664, G_e : 2.672, Q_e : 0.573, new_measure : 3.930, k_curr : 0.167\n",
      "D_e : 3.357, D_real_e : 3.804, D_fake_e : 2.655, G_e : 2.663, Q_e : 0.567, new_measure : 3.910, k_curr : 0.166\n",
      "D_e : 3.377, D_real_e : 3.800, D_fake_e : 2.652, G_e : 2.661, Q_e : 0.561, new_measure : 3.910, k_curr : 0.164\n",
      "D_e : 3.371, D_real_e : 3.792, D_fake_e : 2.642, G_e : 2.651, Q_e : 0.556, new_measure : 3.907, k_curr : 0.182\n",
      "D_e : 3.361, D_real_e : 3.802, D_fake_e : 2.659, G_e : 2.667, Q_e : 0.550, new_measure : 3.915, k_curr : 0.152\n",
      "D_e : 3.360, D_real_e : 3.785, D_fake_e : 2.637, G_e : 2.645, Q_e : 0.545, new_measure : 3.906, k_curr : 0.172\n",
      "D_e : 3.336, D_real_e : 3.789, D_fake_e : 2.645, G_e : 2.654, Q_e : 0.540, new_measure : 3.901, k_curr : 0.162\n",
      "D_e : 3.333, D_real_e : 3.798, D_fake_e : 2.650, G_e : 2.659, Q_e : 0.535, new_measure : 3.908, k_curr : 0.160\n",
      "total time :  10900.321657180786\n",
      "E_e : 23.576113\n",
      "E_e : 20.332960\n",
      "E_e : 19.104588\n",
      "E_e : 18.396671\n",
      "E_e : 17.948866\n",
      "E_e : 17.545340\n",
      "E_e : 17.241911\n",
      "E_e : 16.957705\n",
      "E_e : 16.765230\n",
      "E_e : 16.558258\n",
      "E_e : 16.393831\n",
      "E_e : 16.259119\n",
      "E_e : 16.053932\n",
      "E_e : 15.987949\n",
      "E_e : 15.820275\n",
      "E_e : 15.734707\n",
      "E_e : 15.599792\n",
      "E_e : 15.515266\n",
      "E_e : 15.391636\n"
     ]
    }
   ],
   "source": [
    "sess = tf.Session(config=tf.ConfigProto(gpu_options=tf.GPUOptions(allow_growth=True))) \n",
    "sess.run(tf.global_variables_initializer())\n",
    "\n",
    "path = 'test5-2'\n",
    "mnist = data\n",
    "a = BE_resGANs_v5(sess,path,mnist, GANs_epoch = 100, E_epoch = 30,D_lr = 2e-5, G_lr = 2e-4, E_lr = 2e-4, c_size = 30, gamma = 0.7, lam = 0.01,  \n",
    "                  minibatch_increase = True,  factor_decrease = True)\n",
    "a.GANs_fit()\n",
    "a.E_fit()\n",
    "a.report()"
   ]
  },
  {
   "cell_type": "code",
   "execution_count": null,
   "metadata": {},
   "outputs": [],
   "source": []
  }
 ],
 "metadata": {
  "kernelspec": {
   "display_name": "Python 3",
   "language": "python",
   "name": "python3"
  },
  "language_info": {
   "codemirror_mode": {
    "name": "ipython",
    "version": 3
   },
   "file_extension": ".py",
   "mimetype": "text/x-python",
   "name": "python",
   "nbconvert_exporter": "python",
   "pygments_lexer": "ipython3",
   "version": "3.5.2"
  },
  "toc": {
   "base_numbering": 1,
   "nav_menu": {},
   "number_sections": true,
   "sideBar": true,
   "skip_h1_title": false,
   "title_cell": "Table of Contents",
   "title_sidebar": "Contents",
   "toc_cell": false,
   "toc_position": {},
   "toc_section_display": true,
   "toc_window_display": false
  },
  "varInspector": {
   "cols": {
    "lenName": 16,
    "lenType": 16,
    "lenVar": 40
   },
   "kernels_config": {
    "python": {
     "delete_cmd_postfix": "",
     "delete_cmd_prefix": "del ",
     "library": "var_list.py",
     "varRefreshCmd": "print(var_dic_list())"
    },
    "r": {
     "delete_cmd_postfix": ") ",
     "delete_cmd_prefix": "rm(",
     "library": "var_list.r",
     "varRefreshCmd": "cat(var_dic_list()) "
    }
   },
   "types_to_exclude": [
    "module",
    "function",
    "builtin_function_or_method",
    "instance",
    "_Feature"
   ],
   "window_display": false
  }
 },
 "nbformat": 4,
 "nbformat_minor": 2
}
