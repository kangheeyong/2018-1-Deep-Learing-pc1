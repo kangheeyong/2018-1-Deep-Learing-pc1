{
 "cells": [
  {
   "cell_type": "code",
   "execution_count": 1,
   "metadata": {},
   "outputs": [],
   "source": [
    "\n",
    "\n",
    "from BE_resGANs_v4 import Anomaly_Mnist\n",
    "from BE_resGANs_v4 import BE_resGANs_v4\n",
    "import tensorflow as tf\n",
    "import os\n",
    "os.environ[\"CUDA_VISIBLE_DEVICES\"]=\"0\""
   ]
  },
  {
   "cell_type": "code",
   "execution_count": 2,
   "metadata": {},
   "outputs": [
    {
     "name": "stdout",
     "output_type": "stream",
     "text": [
      "Extracting MNIST_data/train-images-idx3-ubyte.gz\n",
      "Extracting MNIST_data/train-labels-idx1-ubyte.gz\n",
      "Extracting MNIST_data/t10k-images-idx3-ubyte.gz\n",
      "Extracting MNIST_data/t10k-labels-idx1-ubyte.gz\n",
      "anomalous number :  [9]\n",
      "test_normal_data :  (8991, 64, 64, 1)\n",
      "test_anomalous_data :  (1009, 64, 64, 1)\n",
      "train_normal_data :  (49546, 64, 64, 1)\n",
      "train_anomalous_data :  (5454, 64, 64, 1)\n"
     ]
    }
   ],
   "source": [
    "data = Anomaly_Mnist()\n",
    "#data.set_anomaly(anomalous_nums =[0,1,2,3,4,5,6,7,8])\n",
    "data.set_anomaly(anomalous_nums =[9])"
   ]
  },
  {
   "cell_type": "code",
   "execution_count": 3,
   "metadata": {},
   "outputs": [
    {
     "name": "stdout",
     "output_type": "stream",
     "text": [
      "D_e : -95.935, D_real_e : 42.993, D_fake_e : 29.533, G_e : 30.087, Q_e : 3.299, new_measure : 47.706, k_curr : 0.158\n",
      "D_e : 25.229, D_real_e : 28.976, D_fake_e : 20.008, G_e : 20.278, Q_e : 3.277, new_measure : 30.117, k_curr : 0.206\n",
      "D_e : 20.835, D_real_e : 23.258, D_fake_e : 16.155, G_e : 16.297, Q_e : 3.253, new_measure : 23.952, k_curr : 0.127\n",
      "D_e : 18.398, D_real_e : 20.174, D_fake_e : 13.984, G_e : 14.121, Q_e : 3.214, new_measure : 20.757, k_curr : 0.133\n",
      "D_e : 16.091, D_real_e : 17.572, D_fake_e : 12.163, G_e : 12.301, Q_e : 3.146, new_measure : 18.119, k_curr : 0.129\n",
      "D_e : 14.157, D_real_e : 15.206, D_fake_e : 10.537, G_e : 10.647, Q_e : 3.013, new_measure : 15.716, k_curr : 0.117\n",
      "D_e : 12.529, D_real_e : 13.266, D_fake_e : 9.203, G_e : 9.291, Q_e : 2.812, new_measure : 13.675, k_curr : 0.095\n",
      "D_e : 11.068, D_real_e : 11.706, D_fake_e : 8.096, G_e : 8.195, Q_e : 2.602, new_measure : 12.100, k_curr : 0.095\n",
      "D_e : 9.798, D_real_e : 10.347, D_fake_e : 7.154, G_e : 7.253, Q_e : 2.417, new_measure : 10.711, k_curr : 0.042\n",
      "D_e : 8.834, D_real_e : 9.281, D_fake_e : 6.389, G_e : 6.490, Q_e : 2.256, new_measure : 9.644, k_curr : 0.075\n",
      "D_e : 8.006, D_real_e : 8.437, D_fake_e : 5.793, G_e : 5.902, Q_e : 2.113, new_measure : 8.755, k_curr : 0.092\n",
      "D_e : 7.354, D_real_e : 7.764, D_fake_e : 5.329, G_e : 5.438, Q_e : 1.987, new_measure : 8.060, k_curr : 0.075\n",
      "D_e : 6.906, D_real_e : 7.287, D_fake_e : 4.999, G_e : 5.103, Q_e : 1.874, new_measure : 7.567, k_curr : 0.063\n",
      "D_e : 6.531, D_real_e : 6.881, D_fake_e : 4.712, G_e : 4.815, Q_e : 1.774, new_measure : 7.168, k_curr : 0.072\n",
      "D_e : 6.269, D_real_e : 6.620, D_fake_e : 4.525, G_e : 4.630, Q_e : 1.683, new_measure : 6.889, k_curr : 0.092\n",
      "D_e : 5.934, D_real_e : 6.293, D_fake_e : 4.307, G_e : 4.406, Q_e : 1.602, new_measure : 6.525, k_curr : 0.090\n",
      "D_e : 5.675, D_real_e : 6.037, D_fake_e : 4.122, G_e : 4.226, Q_e : 1.527, new_measure : 6.268, k_curr : 0.092\n",
      "D_e : 5.237, D_real_e : 5.761, D_fake_e : 4.021, G_e : 4.030, Q_e : 1.460, new_measure : 5.943, k_curr : 0.106\n",
      "D_e : 5.256, D_real_e : 5.720, D_fake_e : 3.994, G_e : 4.002, Q_e : 1.398, new_measure : 5.905, k_curr : 0.114\n",
      "D_e : 5.217, D_real_e : 5.681, D_fake_e : 3.969, G_e : 3.978, Q_e : 1.341, new_measure : 5.856, k_curr : 0.111\n",
      "D_e : 5.246, D_real_e : 5.660, D_fake_e : 3.954, G_e : 3.961, Q_e : 1.289, new_measure : 5.842, k_curr : 0.114\n",
      "D_e : 5.179, D_real_e : 5.644, D_fake_e : 3.944, G_e : 3.953, Q_e : 1.241, new_measure : 5.838, k_curr : 0.103\n",
      "D_e : 5.153, D_real_e : 5.615, D_fake_e : 3.917, G_e : 3.926, Q_e : 1.197, new_measure : 5.801, k_curr : 0.122\n",
      "D_e : 5.134, D_real_e : 5.592, D_fake_e : 3.904, G_e : 3.914, Q_e : 1.155, new_measure : 5.778, k_curr : 0.123\n",
      "D_e : 5.126, D_real_e : 5.569, D_fake_e : 3.895, G_e : 3.904, Q_e : 1.117, new_measure : 5.766, k_curr : 0.096\n",
      "D_e : 5.089, D_real_e : 5.540, D_fake_e : 3.865, G_e : 3.874, Q_e : 1.081, new_measure : 5.733, k_curr : 0.115\n",
      "D_e : 5.059, D_real_e : 5.520, D_fake_e : 3.849, G_e : 3.859, Q_e : 1.047, new_measure : 5.703, k_curr : 0.136\n",
      "D_e : 5.042, D_real_e : 5.514, D_fake_e : 3.852, G_e : 3.862, Q_e : 1.015, new_measure : 5.687, k_curr : 0.125\n",
      "D_e : 5.015, D_real_e : 5.483, D_fake_e : 3.829, G_e : 3.839, Q_e : 0.985, new_measure : 5.678, k_curr : 0.120\n",
      "D_e : 5.017, D_real_e : 5.467, D_fake_e : 3.817, G_e : 3.826, Q_e : 0.957, new_measure : 5.636, k_curr : 0.123\n",
      "D_e : 4.987, D_real_e : 5.450, D_fake_e : 3.813, G_e : 3.823, Q_e : 0.931, new_measure : 5.626, k_curr : 0.083\n",
      "D_e : 4.988, D_real_e : 5.414, D_fake_e : 3.770, G_e : 3.779, Q_e : 0.906, new_measure : 5.597, k_curr : 0.138\n",
      "D_e : 4.966, D_real_e : 5.413, D_fake_e : 3.785, G_e : 3.794, Q_e : 0.882, new_measure : 5.592, k_curr : 0.112\n",
      "D_e : 4.966, D_real_e : 5.386, D_fake_e : 3.760, G_e : 3.769, Q_e : 0.860, new_measure : 5.567, k_curr : 0.117\n",
      "D_e : 4.835, D_real_e : 5.349, D_fake_e : 3.742, G_e : 3.743, Q_e : 0.838, new_measure : 5.510, k_curr : 0.123\n",
      "D_e : 4.866, D_real_e : 5.356, D_fake_e : 3.747, G_e : 3.748, Q_e : 0.818, new_measure : 5.526, k_curr : 0.132\n",
      "D_e : 4.885, D_real_e : 5.355, D_fake_e : 3.745, G_e : 3.746, Q_e : 0.798, new_measure : 5.528, k_curr : 0.145\n",
      "D_e : 4.886, D_real_e : 5.372, D_fake_e : 3.763, G_e : 3.764, Q_e : 0.780, new_measure : 5.539, k_curr : 0.128\n",
      "D_e : 4.908, D_real_e : 5.340, D_fake_e : 3.733, G_e : 3.734, Q_e : 0.763, new_measure : 5.505, k_curr : 0.148\n",
      "D_e : 4.874, D_real_e : 5.358, D_fake_e : 3.752, G_e : 3.753, Q_e : 0.746, new_measure : 5.528, k_curr : 0.137\n",
      "D_e : 4.897, D_real_e : 5.352, D_fake_e : 3.747, G_e : 3.748, Q_e : 0.730, new_measure : 5.523, k_curr : 0.130\n",
      "D_e : 4.910, D_real_e : 5.356, D_fake_e : 3.749, G_e : 3.749, Q_e : 0.714, new_measure : 5.528, k_curr : 0.127\n",
      "D_e : 4.905, D_real_e : 5.338, D_fake_e : 3.735, G_e : 3.736, Q_e : 0.700, new_measure : 5.519, k_curr : 0.132\n",
      "D_e : 4.883, D_real_e : 5.340, D_fake_e : 3.741, G_e : 3.741, Q_e : 0.686, new_measure : 5.513, k_curr : 0.116\n",
      "D_e : 4.891, D_real_e : 5.341, D_fake_e : 3.735, G_e : 3.736, Q_e : 0.672, new_measure : 5.523, k_curr : 0.131\n",
      "D_e : 4.915, D_real_e : 5.348, D_fake_e : 3.746, G_e : 3.747, Q_e : 0.659, new_measure : 5.536, k_curr : 0.112\n",
      "D_e : 4.851, D_real_e : 5.336, D_fake_e : 3.733, G_e : 3.734, Q_e : 0.647, new_measure : 5.507, k_curr : 0.119\n",
      "D_e : 4.914, D_real_e : 5.334, D_fake_e : 3.731, G_e : 3.732, Q_e : 0.635, new_measure : 5.518, k_curr : 0.130\n",
      "D_e : 4.903, D_real_e : 5.328, D_fake_e : 3.736, G_e : 3.736, Q_e : 0.623, new_measure : 5.496, k_curr : 0.097\n",
      "D_e : 4.850, D_real_e : 5.306, D_fake_e : 3.709, G_e : 3.710, Q_e : 0.612, new_measure : 5.468, k_curr : 0.117\n",
      "total time :  20852.29673218727\n",
      "E_e : 24.372091\n",
      "E_e : 22.201715\n",
      "E_e : 20.563614\n",
      "E_e : 19.373335\n",
      "E_e : 18.468117\n",
      "E_e : 17.831268\n",
      "E_e : 17.363552\n",
      "E_e : 16.984102\n",
      "E_e : 16.708172\n",
      "E_e : 16.540356\n",
      "E_e : 16.321936\n",
      "E_e : 16.198526\n",
      "E_e : 16.052248\n",
      "E_e : 15.919285\n",
      "E_e : 15.791050\n",
      "total time :  2204.70712018013\n",
      "Normalized confusion matrix\n",
      "[[ 0.09258427  0.90741573]\n",
      " [ 0.          1.        ]]\n",
      "Confusion matrix, without normalization\n",
      "[[ 824 8076]\n",
      " [   0 1000]]\n",
      "Normalized confusion matrix\n",
      "[[ 0.13932584  0.86067416]\n",
      " [ 0.005       0.995     ]]\n",
      "Confusion matrix, without normalization\n",
      "[[1240 7660]\n",
      " [   5  995]]\n",
      "Normalized confusion matrix\n",
      "[[ 0.76404494  0.23595506]\n",
      " [ 0.          1.        ]]\n",
      "Confusion matrix, without normalization\n",
      "[[6800 2100]\n",
      " [   0 1000]]\n",
      "Normalized confusion matrix\n",
      "[[ 0.1052809  0.8947191]\n",
      " [ 0.         1.       ]]\n",
      "Confusion matrix, without normalization\n",
      "[[ 937 7963]\n",
      " [   0 1000]]\n",
      "Normalized confusion matrix\n",
      "[[ 0.10629213  0.89370787]\n",
      " [ 0.001       0.999     ]]\n",
      "Confusion matrix, without normalization\n",
      "[[ 946 7954]\n",
      " [   1  999]]\n"
     ]
    }
   ],
   "source": [
    "sess = tf.Session(config=tf.ConfigProto(gpu_options=tf.GPUOptions(allow_growth=True))) \n",
    "sess.run(tf.global_variables_initializer())\n",
    "\n",
    "path = 'test5'\n",
    "mnist = data\n",
    "a = BE_resGANs_v4(sess,path,mnist, GANs_epoch = 50, E_epoch = 15,D_lr = 2e-5, G_lr = 2e-4, E_lr = 2e-4, c_size = 30, gamma = 0.7, lam = 0.01,  \n",
    "                  minibatch_increase = True,  factor_decrease = True)\n",
    "a.GANs_fit()\n",
    "a.E_fit()\n",
    "a.report()"
   ]
  },
  {
   "cell_type": "code",
   "execution_count": null,
   "metadata": {},
   "outputs": [],
   "source": []
  }
 ],
 "metadata": {
  "kernelspec": {
   "display_name": "Python 3",
   "language": "python",
   "name": "python3"
  },
  "language_info": {
   "codemirror_mode": {
    "name": "ipython",
    "version": 3
   },
   "file_extension": ".py",
   "mimetype": "text/x-python",
   "name": "python",
   "nbconvert_exporter": "python",
   "pygments_lexer": "ipython3",
   "version": "3.5.2"
  },
  "toc": {
   "base_numbering": 1,
   "nav_menu": {},
   "number_sections": true,
   "sideBar": true,
   "skip_h1_title": false,
   "title_cell": "Table of Contents",
   "title_sidebar": "Contents",
   "toc_cell": false,
   "toc_position": {},
   "toc_section_display": true,
   "toc_window_display": false
  },
  "varInspector": {
   "cols": {
    "lenName": 16,
    "lenType": 16,
    "lenVar": 40
   },
   "kernels_config": {
    "python": {
     "delete_cmd_postfix": "",
     "delete_cmd_prefix": "del ",
     "library": "var_list.py",
     "varRefreshCmd": "print(var_dic_list())"
    },
    "r": {
     "delete_cmd_postfix": ") ",
     "delete_cmd_prefix": "rm(",
     "library": "var_list.r",
     "varRefreshCmd": "cat(var_dic_list()) "
    }
   },
   "types_to_exclude": [
    "module",
    "function",
    "builtin_function_or_method",
    "instance",
    "_Feature"
   ],
   "window_display": false
  }
 },
 "nbformat": 4,
 "nbformat_minor": 2
}
