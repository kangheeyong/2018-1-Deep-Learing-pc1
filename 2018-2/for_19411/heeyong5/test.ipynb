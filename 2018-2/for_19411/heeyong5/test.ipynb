{
 "cells": [
  {
   "cell_type": "code",
   "execution_count": 1,
   "metadata": {},
   "outputs": [],
   "source": [
    "\n",
    "\n",
    "\n",
    "from anoGANs import Anomaly_Mnist\n",
    "from anoGANs import BE_infoGANs_v2\n",
    "import tensorflow as tf\n",
    "import os\n",
    "os.environ[\"CUDA_VISIBLE_DEVICES\"]=\"1\"\n",
    "\n",
    "\n"
   ]
  },
  {
   "cell_type": "code",
   "execution_count": 2,
   "metadata": {},
   "outputs": [
    {
     "name": "stdout",
     "output_type": "stream",
     "text": [
      "Extracting MNIST_data/train-images-idx3-ubyte.gz\n",
      "Extracting MNIST_data/train-labels-idx1-ubyte.gz\n",
      "Extracting MNIST_data/t10k-images-idx3-ubyte.gz\n",
      "Extracting MNIST_data/t10k-labels-idx1-ubyte.gz\n",
      "anomalous number :  [0, 1, 2, 3, 4, 5, 6, 7, 8]\n",
      "test_normal_data :  (1009, 64, 64, 1)\n",
      "test_anomalous_data :  (8991, 64, 64, 1)\n",
      "train_normal_data :  (5454, 64, 64, 1)\n",
      "train_anomalous_data :  (49546, 64, 64, 1)\n"
     ]
    }
   ],
   "source": [
    "data = Anomaly_Mnist()\n",
    "data.set_anomaly(anomalous_nums =[0,1,2,3,4,5,6,7,8])\n"
   ]
  },
  {
   "cell_type": "code",
   "execution_count": 3,
   "metadata": {},
   "outputs": [
    {
     "data": {
      "image/png": "[encoded data removed]",
      "text/plain": [
       "<matplotlib.figure.Figure at 0x7f2f60881198>"
      ]
     },
     "metadata": {},
     "output_type": "display_data"
    }
   ],
   "source": [
    "import matplotlib.pyplot as plt\n",
    "\n",
    "num = 333\n",
    "plt.imshow( data.test_anomalous_data[num].reshape(64,64), cmap='Greys_r')\n",
    "plt.colorbar()\n",
    "plt.show()"
   ]
  },
  {
   "cell_type": "code",
   "execution_count": 4,
   "metadata": {},
   "outputs": [
    {
     "name": "stdout",
     "output_type": "stream",
     "text": [
      "D_e : -62.367, D_real_e : 58.068, D_fake_e : 19.621, G_e : 20.071, Q_e : 1.757, new_measure : 78.644, k_curr : 11.111\n",
      "D_e : -395.345, D_real_e : 52.668, D_fake_e : 42.280, G_e : 43.141, Q_e : 1.910, new_measure : 61.535, k_curr : 7.723\n",
      "D_e : -83.295, D_real_e : 44.397, D_fake_e : 50.862, G_e : 51.017, Q_e : 1.952, new_measure : 64.336, k_curr : -3.044\n",
      "D_e : 115.391, D_real_e : 41.736, D_fake_e : 23.118, G_e : 22.472, Q_e : 2.009, new_measure : 52.866, k_curr : 0.598\n",
      "D_e : 24.600, D_real_e : 40.753, D_fake_e : 27.360, G_e : 28.299, Q_e : 2.047, new_measure : 45.645, k_curr : 0.720\n",
      "D_e : 28.079, D_real_e : 39.930, D_fake_e : 28.097, G_e : 28.804, Q_e : 2.073, new_measure : 41.380, k_curr : 0.260\n",
      "D_e : 29.074, D_real_e : 38.844, D_fake_e : 25.759, G_e : 26.919, Q_e : 2.090, new_measure : 40.452, k_curr : 0.407\n",
      "D_e : 27.693, D_real_e : 37.974, D_fake_e : 24.838, G_e : 26.591, Q_e : 2.099, new_measure : 39.058, k_curr : 0.402\n",
      "D_e : 27.269, D_real_e : 36.800, D_fake_e : 24.234, G_e : 25.783, Q_e : 2.106, new_measure : 38.157, k_curr : 0.389\n",
      "D_e : 26.291, D_real_e : 35.818, D_fake_e : 23.484, G_e : 25.052, Q_e : 2.108, new_measure : 37.508, k_curr : 0.400\n",
      "D_e : 26.936, D_real_e : 34.760, D_fake_e : 22.899, G_e : 24.433, Q_e : 2.108, new_measure : 36.172, k_curr : 0.345\n",
      "D_e : 24.997, D_real_e : 33.867, D_fake_e : 22.546, G_e : 23.681, Q_e : 2.105, new_measure : 34.885, k_curr : 0.359\n",
      "D_e : 25.532, D_real_e : 32.963, D_fake_e : 21.987, G_e : 23.156, Q_e : 2.099, new_measure : 34.015, k_curr : 0.315\n",
      "D_e : 24.567, D_real_e : 32.219, D_fake_e : 21.412, G_e : 22.473, Q_e : 2.090, new_measure : 33.156, k_curr : 0.359\n",
      "D_e : 23.896, D_real_e : 31.376, D_fake_e : 21.110, G_e : 21.957, Q_e : 2.079, new_measure : 32.073, k_curr : 0.362\n",
      "D_e : 24.492, D_real_e : 30.567, D_fake_e : 20.612, G_e : 21.536, Q_e : 2.066, new_measure : 31.507, k_curr : 0.286\n",
      "D_e : 23.131, D_real_e : 29.800, D_fake_e : 20.043, G_e : 20.704, Q_e : 2.048, new_measure : 30.377, k_curr : 0.371\n",
      "D_e : 23.074, D_real_e : 29.245, D_fake_e : 19.920, G_e : 20.633, Q_e : 2.027, new_measure : 30.151, k_curr : 0.284\n",
      "D_e : 22.763, D_real_e : 28.289, D_fake_e : 19.241, G_e : 19.778, Q_e : 2.001, new_measure : 28.845, k_curr : 0.297\n",
      "D_e : 23.062, D_real_e : 27.501, D_fake_e : 18.783, G_e : 19.336, Q_e : 1.973, new_measure : 28.277, k_curr : 0.251\n",
      "D_e : 22.296, D_real_e : 26.933, D_fake_e : 18.285, G_e : 18.778, Q_e : 1.942, new_measure : 27.563, k_curr : 0.291\n",
      "D_e : 21.858, D_real_e : 26.283, D_fake_e : 18.103, G_e : 18.537, Q_e : 1.908, new_measure : 26.895, k_curr : 0.216\n",
      "D_e : 21.743, D_real_e : 25.487, D_fake_e : 17.468, G_e : 17.851, Q_e : 1.873, new_measure : 26.095, k_curr : 0.211\n",
      "D_e : 21.607, D_real_e : 24.919, D_fake_e : 17.105, G_e : 17.505, Q_e : 1.837, new_measure : 25.620, k_curr : 0.178\n",
      "D_e : 21.250, D_real_e : 24.258, D_fake_e : 16.577, G_e : 16.976, Q_e : 1.801, new_measure : 24.877, k_curr : 0.180\n",
      "D_e : 20.674, D_real_e : 23.685, D_fake_e : 16.195, G_e : 16.531, Q_e : 1.764, new_measure : 24.150, k_curr : 0.206\n",
      "D_e : 20.117, D_real_e : 23.035, D_fake_e : 15.895, G_e : 16.226, Q_e : 1.728, new_measure : 23.495, k_curr : 0.151\n",
      "D_e : 19.942, D_real_e : 22.446, D_fake_e : 15.344, G_e : 15.657, Q_e : 1.692, new_measure : 22.918, k_curr : 0.181\n",
      "D_e : 19.316, D_real_e : 21.909, D_fake_e : 15.050, G_e : 15.382, Q_e : 1.656, new_measure : 22.388, k_curr : 0.157\n",
      "D_e : 19.126, D_real_e : 21.303, D_fake_e : 14.590, G_e : 14.924, Q_e : 1.622, new_measure : 21.880, k_curr : 0.150\n",
      "D_e : 18.381, D_real_e : 20.762, D_fake_e : 14.283, G_e : 14.541, Q_e : 1.589, new_measure : 21.223, k_curr : 0.146\n",
      "D_e : 18.028, D_real_e : 20.169, D_fake_e : 13.847, G_e : 14.088, Q_e : 1.557, new_measure : 20.596, k_curr : 0.163\n",
      "D_e : 17.307, D_real_e : 19.652, D_fake_e : 13.402, G_e : 13.708, Q_e : 1.525, new_measure : 20.206, k_curr : 0.189\n",
      "D_e : 16.937, D_real_e : 19.093, D_fake_e : 13.139, G_e : 13.415, Q_e : 1.495, new_measure : 19.525, k_curr : 0.162\n",
      "D_e : 16.483, D_real_e : 18.610, D_fake_e : 12.757, G_e : 13.003, Q_e : 1.466, new_measure : 19.007, k_curr : 0.175\n",
      "D_e : 16.229, D_real_e : 18.060, D_fake_e : 12.425, G_e : 12.656, Q_e : 1.438, new_measure : 18.538, k_curr : 0.167\n",
      "D_e : 15.690, D_real_e : 17.644, D_fake_e : 12.036, G_e : 12.388, Q_e : 1.410, new_measure : 18.065, k_curr : 0.147\n",
      "D_e : 15.224, D_real_e : 17.012, D_fake_e : 11.652, G_e : 11.889, Q_e : 1.384, new_measure : 17.387, k_curr : 0.157\n",
      "D_e : 14.649, D_real_e : 16.632, D_fake_e : 11.360, G_e : 11.638, Q_e : 1.360, new_measure : 17.098, k_curr : 0.159\n",
      "D_e : 14.476, D_real_e : 15.997, D_fake_e : 11.006, G_e : 11.219, Q_e : 1.336, new_measure : 16.389, k_curr : 0.148\n",
      "D_e : 13.848, D_real_e : 15.643, D_fake_e : 10.668, G_e : 10.942, Q_e : 1.312, new_measure : 16.002, k_curr : 0.152\n",
      "D_e : 13.583, D_real_e : 15.165, D_fake_e : 10.318, G_e : 10.589, Q_e : 1.290, new_measure : 15.528, k_curr : 0.166\n",
      "D_e : 12.972, D_real_e : 14.754, D_fake_e : 10.056, G_e : 10.335, Q_e : 1.268, new_measure : 15.139, k_curr : 0.162\n",
      "D_e : 12.920, D_real_e : 14.298, D_fake_e : 9.741, G_e : 9.963, Q_e : 1.247, new_measure : 14.771, k_curr : 0.187\n",
      "D_e : 12.375, D_real_e : 13.905, D_fake_e : 9.514, G_e : 9.819, Q_e : 1.226, new_measure : 14.270, k_curr : 0.141\n",
      "D_e : 12.109, D_real_e : 13.473, D_fake_e : 9.256, G_e : 9.442, Q_e : 1.206, new_measure : 13.790, k_curr : 0.135\n",
      "D_e : 12.047, D_real_e : 13.162, D_fake_e : 8.988, G_e : 9.200, Q_e : 1.187, new_measure : 13.634, k_curr : 0.142\n",
      "D_e : 11.411, D_real_e : 12.854, D_fake_e : 8.677, G_e : 8.884, Q_e : 1.169, new_measure : 13.264, k_curr : 0.203\n",
      "D_e : 11.068, D_real_e : 12.516, D_fake_e : 8.628, G_e : 8.905, Q_e : 1.151, new_measure : 12.904, k_curr : 0.126\n",
      "D_e : 11.084, D_real_e : 12.168, D_fake_e : 8.235, G_e : 8.465, Q_e : 1.133, new_measure : 12.578, k_curr : 0.154\n",
      "total time :  842.7181684970856\n",
      "E_e : 21.038572\n",
      "E_e : 18.042484\n",
      "E_e : 17.568180\n",
      "E_e : 17.190350\n",
      "E_e : 17.231537\n",
      "E_e : 16.986382\n",
      "E_e : 16.778273\n",
      "E_e : 16.981359\n",
      "E_e : 17.055571\n",
      "E_e : 16.554237\n",
      "E_e : 16.622282\n",
      "E_e : 16.454334\n",
      "E_e : 16.447361\n",
      "E_e : 16.234926\n",
      "E_e : 16.249754\n",
      "total time :  185.06179213523865\n"
     ]
    }
   ],
   "source": [
    "sess = tf.Session(config=tf.ConfigProto(gpu_options=tf.GPUOptions(allow_growth=True))) \n",
    "sess.run(tf.global_variables_initializer())\n",
    "\n",
    "path = 'test1'\n",
    "mnist = data\n",
    "a = BE_infoGANs_v2(sess,path,mnist, GANs_epoch = 50, E_epoch = 15)\n",
    "a.GANs_fit()\n",
    "a.E_fit()\n",
    "a.report()"
   ]
  },
  {
   "cell_type": "code",
   "execution_count": null,
   "metadata": {},
   "outputs": [],
   "source": []
  },
  {
   "cell_type": "code",
   "execution_count": null,
   "metadata": {},
   "outputs": [],
   "source": []
  },
  {
   "cell_type": "code",
   "execution_count": null,
   "metadata": {},
   "outputs": [],
   "source": []
  },
  {
   "cell_type": "code",
   "execution_count": null,
   "metadata": {},
   "outputs": [],
   "source": []
  },
  {
   "cell_type": "code",
   "execution_count": null,
   "metadata": {},
   "outputs": [],
   "source": []
  },
  {
   "cell_type": "code",
   "execution_count": null,
   "metadata": {},
   "outputs": [],
   "source": []
  },
  {
   "cell_type": "code",
   "execution_count": null,
   "metadata": {},
   "outputs": [],
   "source": [
    "\n"
   ]
  },
  {
   "cell_type": "code",
   "execution_count": null,
   "metadata": {},
   "outputs": [],
   "source": []
  },
  {
   "cell_type": "code",
   "execution_count": null,
   "metadata": {},
   "outputs": [],
   "source": []
  },
  {
   "cell_type": "code",
   "execution_count": null,
   "metadata": {},
   "outputs": [],
   "source": []
  },
  {
   "cell_type": "code",
   "execution_count": null,
   "metadata": {},
   "outputs": [],
   "source": []
  },
  {
   "cell_type": "code",
   "execution_count": null,
   "metadata": {},
   "outputs": [],
   "source": []
  },
  {
   "cell_type": "code",
   "execution_count": null,
   "metadata": {},
   "outputs": [],
   "source": []
  },
  {
   "cell_type": "code",
   "execution_count": null,
   "metadata": {},
   "outputs": [],
   "source": []
  },
  {
   "cell_type": "code",
   "execution_count": null,
   "metadata": {},
   "outputs": [],
   "source": []
  }
 ],
 "metadata": {
  "kernelspec": {
   "display_name": "Python 3",
   "language": "python",
   "name": "python3"
  },
  "language_info": {
   "codemirror_mode": {
    "name": "ipython",
    "version": 3
   },
   "file_extension": ".py",
   "mimetype": "text/x-python",
   "name": "python",
   "nbconvert_exporter": "python",
   "pygments_lexer": "ipython3",
   "version": "3.5.2"
  },
  "toc": {
   "base_numbering": 1,
   "nav_menu": {},
   "number_sections": true,
   "sideBar": true,
   "skip_h1_title": false,
   "title_cell": "Table of Contents",
   "title_sidebar": "Contents",
   "toc_cell": false,
   "toc_position": {},
   "toc_section_display": true,
   "toc_window_display": false
  },
  "varInspector": {
   "cols": {
    "lenName": 16,
    "lenType": 16,
    "lenVar": 40
   },
   "kernels_config": {
    "python": {
     "delete_cmd_postfix": "",
     "delete_cmd_prefix": "del ",
     "library": "var_list.py",
     "varRefreshCmd": "print(var_dic_list())"
    },
    "r": {
     "delete_cmd_postfix": ") ",
     "delete_cmd_prefix": "rm(",
     "library": "var_list.r",
     "varRefreshCmd": "cat(var_dic_list()) "
    }
   },
   "types_to_exclude": [
    "module",
    "function",
    "builtin_function_or_method",
    "instance",
    "_Feature"
   ],
   "window_display": false
  }
 },
 "nbformat": 4,
 "nbformat_minor": 2
}
