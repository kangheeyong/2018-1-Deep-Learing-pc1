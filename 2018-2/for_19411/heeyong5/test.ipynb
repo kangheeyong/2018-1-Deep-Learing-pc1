{
 "cells": [
  {
   "cell_type": "code",
   "execution_count": null,
   "metadata": {},
   "outputs": [],
   "source": [
    "\n",
    "\n",
    "\n",
    "from BE_resGANs_v2 import Anomaly_Mnist\n",
    "from BE_resGANs_v2 import BE_resGANs_v2\n",
    "import tensorflow as tf\n",
    "import os\n",
    "os.environ[\"CUDA_VISIBLE_DEVICES\"]=\"0\"\n",
    "\n",
    "\n",
    "\n"
   ]
  },
  {
   "cell_type": "code",
   "execution_count": null,
   "metadata": {},
   "outputs": [],
   "source": [
    "data = Anomaly_Mnist()\n",
    "#data.set_anomaly(anomalous_nums =[0,1,2,3,4,5,6,7,8])\n",
    "data.set_anomaly(anomalous_nums =[9])"
   ]
  },
  {
   "cell_type": "code",
   "execution_count": null,
   "metadata": {},
   "outputs": [],
   "source": [
    "import matplotlib.pyplot as plt\n",
    "\n",
    "num = 333\n",
    "plt.imshow( data.test_anomalous_data[num].reshape(64,64), cmap='Greys_r')\n",
    "plt.colorbar()\n",
    "plt.show()"
   ]
  },
  {
   "cell_type": "code",
   "execution_count": null,
   "metadata": {
    "scrolled": true
   },
   "outputs": [],
   "source": [
    "sess = tf.Session(config=tf.ConfigProto(gpu_options=tf.GPUOptions(allow_growth=True))) \n",
    "sess.run(tf.global_variables_initializer())\n",
    "\n",
    "path = 'test1'\n",
    "mnist = data\n",
    "a = BE_resGANs_v2(sess,path,mnist, GANs_epoch = 50, E_epoch = 15,D_lr = 2e-5, G_lr = 2e-4, E_lr = 1e-4, c_size = 30, gamma = 0.7, lam = 0.01, \n",
    "                  minibatch_increase = True, factor_decrease = True)\n",
    "a.GANs_fit()\n",
    "a.E_fit()\n",
    "a.report()"
   ]
  },
  {
   "cell_type": "code",
   "execution_count": null,
   "metadata": {},
   "outputs": [],
   "source": []
  },
  {
   "cell_type": "code",
   "execution_count": null,
   "metadata": {},
   "outputs": [],
   "source": []
  },
  {
   "cell_type": "code",
   "execution_count": 1,
   "metadata": {},
   "outputs": [],
   "source": [
    "from BE_resGANs_v1_1 import Anomaly_Mnist\n",
    "from BE_resGANs_v1_1 import BE_resGANs_v1_1\n",
    "import tensorflow as tf\n",
    "import os\n",
    "os.environ[\"CUDA_VISIBLE_DEVICES\"]=\"0\"\n",
    "\n"
   ]
  },
  {
   "cell_type": "code",
   "execution_count": 2,
   "metadata": {},
   "outputs": [
    {
     "name": "stdout",
     "output_type": "stream",
     "text": [
      "Extracting MNIST_data/train-images-idx3-ubyte.gz\n",
      "Extracting MNIST_data/train-labels-idx1-ubyte.gz\n",
      "Extracting MNIST_data/t10k-images-idx3-ubyte.gz\n",
      "Extracting MNIST_data/t10k-labels-idx1-ubyte.gz\n",
      "anomalous number :  [9]\n",
      "test_normal_data :  (8991, 64, 64, 1)\n",
      "test_anomalous_data :  (1009, 64, 64, 1)\n",
      "train_normal_data :  (49546, 64, 64, 1)\n",
      "train_anomalous_data :  (5454, 64, 64, 1)\n"
     ]
    }
   ],
   "source": [
    "data = Anomaly_Mnist()\n",
    "#data.set_anomaly(anomalous_nums =[0,1,2,3,4,5,6,7,8])\n",
    "data.set_anomaly(anomalous_nums =[9])"
   ]
  },
  {
   "cell_type": "code",
   "execution_count": null,
   "metadata": {},
   "outputs": [
    {
     "name": "stdout",
     "output_type": "stream",
     "text": [
      "D_e : -1448.317, D_real_e : 80.484, D_fake_e : 56.160, G_e : 56.334, new_measure : 84.804, k_curr : 0.096\n",
      "D_e : 53.232, D_real_e : 56.206, D_fake_e : 37.429, G_e : 39.350, new_measure : 61.173, k_curr : 0.039\n",
      "D_e : 40.216, D_real_e : 46.287, D_fake_e : 29.310, G_e : 32.350, new_measure : 53.525, k_curr : 0.290\n",
      "D_e : 35.112, D_real_e : 40.676, D_fake_e : 26.311, G_e : 28.522, new_measure : 45.707, k_curr : 0.048\n",
      "D_e : 30.999, D_real_e : 35.114, D_fake_e : 23.007, G_e : 24.561, new_measure : 38.719, k_curr : 0.139\n",
      "D_e : 26.836, D_real_e : 29.476, D_fake_e : 19.547, G_e : 20.639, new_measure : 31.741, k_curr : 0.109\n",
      "D_e : 22.319, D_real_e : 24.461, D_fake_e : 16.445, G_e : 17.112, new_measure : 25.943, k_curr : 0.164\n",
      "D_e : 18.489, D_real_e : 20.239, D_fake_e : 13.795, G_e : 14.171, new_measure : 21.160, k_curr : 0.144\n",
      "D_e : 15.521, D_real_e : 16.948, D_fake_e : 11.588, G_e : 11.868, new_measure : 17.664, k_curr : 0.122\n",
      "D_e : 13.275, D_real_e : 14.474, D_fake_e : 9.892, G_e : 10.119, new_measure : 15.034, k_curr : 0.185\n",
      "D_e : 11.546, D_real_e : 12.569, D_fake_e : 8.627, G_e : 8.808, new_measure : 12.991, k_curr : 0.138\n",
      "D_e : 10.186, D_real_e : 11.073, D_fake_e : 7.590, G_e : 7.750, new_measure : 11.451, k_curr : 0.144\n",
      "D_e : 9.072, D_real_e : 9.893, D_fake_e : 6.779, G_e : 6.932, new_measure : 10.234, k_curr : 0.112\n",
      "D_e : 8.243, D_real_e : 8.947, D_fake_e : 6.111, G_e : 6.262, new_measure : 9.273, k_curr : 0.114\n",
      "D_e : 7.519, D_real_e : 8.194, D_fake_e : 5.577, G_e : 5.736, new_measure : 8.501, k_curr : 0.117\n",
      "D_e : 7.002, D_real_e : 7.571, D_fake_e : 5.143, G_e : 5.299, new_measure : 7.861, k_curr : 0.120\n",
      "D_e : 6.580, D_real_e : 7.118, D_fake_e : 4.837, G_e : 4.982, new_measure : 7.356, k_curr : 0.122\n"
     ]
    }
   ],
   "source": [
    "sess = tf.Session(config=tf.ConfigProto(gpu_options=tf.GPUOptions(allow_growth=True))) \n",
    "sess.run(tf.global_variables_initializer())\n",
    "\n",
    "path = 'test1_1'\n",
    "mnist = data\n",
    "a = BE_resGANs_v1_1(sess,path,mnist, GANs_epoch = 50, E_epoch = 30,D_lr = 2e-5, G_lr = 2e-4, E_lr = 2e-4, gamma = 0.7, lam = 0.01, \n",
    "                  minibatch_increase = True, factor_decrease = True)\n",
    "a.GANs_fit()\n",
    "a.E_fit()\n",
    "a.report()\n"
   ]
  },
  {
   "cell_type": "code",
   "execution_count": null,
   "metadata": {},
   "outputs": [],
   "source": []
  },
  {
   "cell_type": "code",
   "execution_count": 1,
   "metadata": {},
   "outputs": [],
   "source": [
    "from BE_resGANs_v1_1 import Anomaly_Mnist\n",
    "from BE_resGANs_v1_1 import BE_resGANs_v1_1\n",
    "import tensorflow as tf\n",
    "import os\n",
    "os.environ[\"CUDA_VISIBLE_DEVICES\"]=\"1\""
   ]
  },
  {
   "cell_type": "code",
   "execution_count": 2,
   "metadata": {},
   "outputs": [
    {
     "name": "stdout",
     "output_type": "stream",
     "text": [
      "Extracting MNIST_data/train-images-idx3-ubyte.gz\n",
      "Extracting MNIST_data/train-labels-idx1-ubyte.gz\n",
      "Extracting MNIST_data/t10k-images-idx3-ubyte.gz\n",
      "Extracting MNIST_data/t10k-labels-idx1-ubyte.gz\n",
      "anomalous number :  [1]\n",
      "test_normal_data :  (8865, 64, 64, 1)\n",
      "test_anomalous_data :  (1135, 64, 64, 1)\n",
      "train_normal_data :  (48821, 64, 64, 1)\n",
      "train_anomalous_data :  (6179, 64, 64, 1)\n"
     ]
    }
   ],
   "source": [
    "data = Anomaly_Mnist()\n",
    "#data.set_anomaly(anomalous_nums =[0,1,2,3,4,5,6,7,8])\n",
    "data.set_anomaly(anomalous_nums =[1])"
   ]
  },
  {
   "cell_type": "code",
   "execution_count": null,
   "metadata": {},
   "outputs": [
    {
     "name": "stdout",
     "output_type": "stream",
     "text": [
      "D_e : -1855.749, D_real_e : 82.451, D_fake_e : 56.551, G_e : 56.754, new_measure : 85.988, k_curr : 18.765\n",
      "D_e : -248.952, D_real_e : 67.761, D_fake_e : 49.310, G_e : 49.355, new_measure : 70.314, k_curr : -0.001\n",
      "D_e : 33.841, D_real_e : 41.245, D_fake_e : 28.413, G_e : 28.776, new_measure : 42.113, k_curr : 0.469\n",
      "D_e : 26.282, D_real_e : 37.305, D_fake_e : 25.691, G_e : 26.124, new_measure : 38.027, k_curr : 0.415\n",
      "D_e : 24.705, D_real_e : 32.893, D_fake_e : 22.715, G_e : 23.040, new_measure : 33.497, k_curr : 0.345\n",
      "D_e : 23.006, D_real_e : 28.955, D_fake_e : 20.016, G_e : 20.286, new_measure : 29.542, k_curr : 0.263\n",
      "D_e : 20.841, D_real_e : 25.393, D_fake_e : 17.555, G_e : 17.772, new_measure : 25.896, k_curr : 0.279\n",
      "D_e : 18.809, D_real_e : 22.184, D_fake_e : 15.379, G_e : 15.544, new_measure : 22.638, k_curr : 0.205\n",
      "D_e : 16.600, D_real_e : 19.215, D_fake_e : 13.304, G_e : 13.452, new_measure : 19.659, k_curr : 0.196\n",
      "D_e : 14.383, D_real_e : 16.712, D_fake_e : 11.539, G_e : 11.692, new_measure : 17.088, k_curr : 0.227\n",
      "D_e : 11.934, D_real_e : 14.283, D_fake_e : 9.810, G_e : 9.996, new_measure : 14.544, k_curr : 0.239\n",
      "D_e : 10.560, D_real_e : 12.404, D_fake_e : 8.514, G_e : 8.684, new_measure : 12.643, k_curr : 0.234\n",
      "D_e : 9.485, D_real_e : 10.991, D_fake_e : 7.541, G_e : 7.701, new_measure : 11.231, k_curr : 0.199\n",
      "D_e : 8.554, D_real_e : 9.863, D_fake_e : 6.757, G_e : 6.906, new_measure : 10.079, k_curr : 0.191\n",
      "D_e : 7.918, D_real_e : 8.994, D_fake_e : 6.152, G_e : 6.298, new_measure : 9.202, k_curr : 0.183\n",
      "D_e : 7.414, D_real_e : 8.315, D_fake_e : 5.689, G_e : 5.825, new_measure : 8.518, k_curr : 0.163\n",
      "D_e : 6.938, D_real_e : 7.796, D_fake_e : 5.336, G_e : 5.459, new_measure : 7.990, k_curr : 0.153\n",
      "D_e : 5.952, D_real_e : 7.469, D_fake_e : 5.180, G_e : 5.198, new_measure : 7.648, k_curr : 0.299\n",
      "D_e : 6.025, D_real_e : 7.408, D_fake_e : 5.180, G_e : 5.196, new_measure : 7.573, k_curr : 0.249\n",
      "D_e : 6.012, D_real_e : 7.388, D_fake_e : 5.152, G_e : 5.170, new_measure : 7.554, k_curr : 0.258\n",
      "D_e : 5.992, D_real_e : 7.331, D_fake_e : 5.114, G_e : 5.132, new_measure : 7.479, k_curr : 0.256\n",
      "D_e : 6.021, D_real_e : 7.272, D_fake_e : 5.071, G_e : 5.088, new_measure : 7.426, k_curr : 0.267\n",
      "D_e : 5.945, D_real_e : 7.237, D_fake_e : 5.047, G_e : 5.066, new_measure : 7.394, k_curr : 0.268\n",
      "D_e : 5.948, D_real_e : 7.208, D_fake_e : 5.029, G_e : 5.048, new_measure : 7.372, k_curr : 0.260\n",
      "D_e : 5.928, D_real_e : 7.166, D_fake_e : 5.004, G_e : 5.022, new_measure : 7.328, k_curr : 0.228\n",
      "D_e : 5.911, D_real_e : 7.105, D_fake_e : 4.953, G_e : 4.971, new_measure : 7.252, k_curr : 0.238\n",
      "D_e : 5.918, D_real_e : 7.081, D_fake_e : 4.939, G_e : 4.957, new_measure : 7.233, k_curr : 0.237\n",
      "D_e : 5.826, D_real_e : 7.055, D_fake_e : 4.922, G_e : 4.940, new_measure : 7.213, k_curr : 0.231\n",
      "D_e : 5.832, D_real_e : 7.000, D_fake_e : 4.882, G_e : 4.899, new_measure : 7.157, k_curr : 0.234\n",
      "D_e : 5.842, D_real_e : 6.946, D_fake_e : 4.845, G_e : 4.863, new_measure : 7.107, k_curr : 0.231\n",
      "D_e : 5.712, D_real_e : 6.947, D_fake_e : 4.844, G_e : 4.863, new_measure : 7.101, k_curr : 0.230\n",
      "D_e : 5.790, D_real_e : 6.888, D_fake_e : 4.808, G_e : 4.825, new_measure : 7.039, k_curr : 0.215\n",
      "D_e : 5.741, D_real_e : 6.851, D_fake_e : 4.775, G_e : 4.792, new_measure : 7.000, k_curr : 0.230\n",
      "D_e : 5.705, D_real_e : 6.823, D_fake_e : 4.751, G_e : 4.768, new_measure : 6.970, k_curr : 0.269\n",
      "D_e : 5.464, D_real_e : 6.805, D_fake_e : 4.765, G_e : 4.767, new_measure : 6.959, k_curr : 0.251\n",
      "D_e : 5.587, D_real_e : 6.780, D_fake_e : 4.742, G_e : 4.744, new_measure : 6.934, k_curr : 0.262\n",
      "D_e : 5.508, D_real_e : 6.795, D_fake_e : 4.748, G_e : 4.750, new_measure : 6.946, k_curr : 0.291\n"
     ]
    }
   ],
   "source": [
    "sess = tf.Session(config=tf.ConfigProto(gpu_options=tf.GPUOptions(allow_growth=True))) \n",
    "sess.run(tf.global_variables_initializer())\n",
    "\n",
    "path = 'test1_1_1'\n",
    "mnist = data\n",
    "a = BE_resGANs_v1_1(sess,path,mnist, GANs_epoch = 50, E_epoch = 30,D_lr = 2e-5, G_lr = 2e-4, E_lr = 2e-4, gamma = 0.7, lam = 0.01, \n",
    "                  minibatch_increase = True, factor_decrease = True)\n",
    "a.GANs_fit()\n",
    "a.E_fit()\n",
    "a.report()"
   ]
  },
  {
   "cell_type": "code",
   "execution_count": null,
   "metadata": {},
   "outputs": [],
   "source": []
  },
  {
   "cell_type": "code",
   "execution_count": null,
   "metadata": {},
   "outputs": [],
   "source": []
  },
  {
   "cell_type": "code",
   "execution_count": null,
   "metadata": {},
   "outputs": [],
   "source": []
  },
  {
   "cell_type": "code",
   "execution_count": null,
   "metadata": {},
   "outputs": [],
   "source": []
  },
  {
   "cell_type": "code",
   "execution_count": null,
   "metadata": {},
   "outputs": [],
   "source": []
  }
 ],
 "metadata": {
  "kernelspec": {
   "display_name": "Python 3",
   "language": "python",
   "name": "python3"
  },
  "language_info": {
   "codemirror_mode": {
    "name": "ipython",
    "version": 3
   },
   "file_extension": ".py",
   "mimetype": "text/x-python",
   "name": "python",
   "nbconvert_exporter": "python",
   "pygments_lexer": "ipython3",
   "version": "3.5.2"
  },
  "toc": {
   "base_numbering": 1,
   "nav_menu": {},
   "number_sections": true,
   "sideBar": true,
   "skip_h1_title": false,
   "title_cell": "Table of Contents",
   "title_sidebar": "Contents",
   "toc_cell": false,
   "toc_position": {},
   "toc_section_display": true,
   "toc_window_display": false
  },
  "varInspector": {
   "cols": {
    "lenName": 16,
    "lenType": 16,
    "lenVar": 40
   },
   "kernels_config": {
    "python": {
     "delete_cmd_postfix": "",
     "delete_cmd_prefix": "del ",
     "library": "var_list.py",
     "varRefreshCmd": "print(var_dic_list())"
    },
    "r": {
     "delete_cmd_postfix": ") ",
     "delete_cmd_prefix": "rm(",
     "library": "var_list.r",
     "varRefreshCmd": "cat(var_dic_list()) "
    }
   },
   "types_to_exclude": [
    "module",
    "function",
    "builtin_function_or_method",
    "instance",
    "_Feature"
   ],
   "window_display": false
  }
 },
 "nbformat": 4,
 "nbformat_minor": 2
}
