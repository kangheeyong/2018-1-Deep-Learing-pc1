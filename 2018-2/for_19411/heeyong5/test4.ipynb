{
 "cells": [
  {
   "cell_type": "code",
   "execution_count": 1,
   "metadata": {},
   "outputs": [],
   "source": [
    "\n",
    "\n",
    "from BE_resGANs_v3 import Anomaly_Mnist\n",
    "from BE_resGANs_v3 import BE_resGANs_v3\n",
    "import tensorflow as tf\n",
    "import os\n",
    "os.environ[\"CUDA_VISIBLE_DEVICES\"]=\"1\"\n",
    "\n"
   ]
  },
  {
   "cell_type": "code",
   "execution_count": null,
   "metadata": {},
   "outputs": [
    {
     "name": "stdout",
     "output_type": "stream",
     "text": [
      "Extracting MNIST_data/train-images-idx3-ubyte.gz\n",
      "Extracting MNIST_data/train-labels-idx1-ubyte.gz\n",
      "Extracting MNIST_data/t10k-images-idx3-ubyte.gz\n",
      "Extracting MNIST_data/t10k-labels-idx1-ubyte.gz\n",
      "anomalous number :  [9]\n",
      "test_normal_data :  (8991, 64, 64, 1)\n",
      "test_anomalous_data :  (1009, 64, 64, 1)\n",
      "train_normal_data :  (49546, 64, 64, 1)\n",
      "train_anomalous_data :  (5454, 64, 64, 1)\n"
     ]
    }
   ],
   "source": [
    "data = Anomaly_Mnist()\n",
    "#data.set_anomaly(anomalous_nums =[0,1,2,3,4,5,6,7,8])\n",
    "data.set_anomaly(anomalous_nums =[9])"
   ]
  },
  {
   "cell_type": "code",
   "execution_count": null,
   "metadata": {},
   "outputs": [
    {
     "name": "stdout",
     "output_type": "stream",
     "text": [
      "D_e : -52.673, D_real_e : 45.006, D_fake_e : 30.274, G_e : 31.494, Q_e : 3.240, new_measure : 50.302, k_curr : 0.207\n",
      "D_e : 19.513, D_real_e : 20.840, D_fake_e : 14.389, G_e : 14.598, Q_e : 3.291, new_measure : 22.078, k_curr : 0.106\n",
      "D_e : 13.096, D_real_e : 13.950, D_fake_e : 9.685, G_e : 9.768, Q_e : 3.304, new_measure : 14.436, k_curr : 0.093\n",
      "D_e : 10.422, D_real_e : 11.064, D_fake_e : 7.665, G_e : 7.745, Q_e : 3.312, new_measure : 11.426, k_curr : 0.089\n",
      "D_e : 8.052, D_real_e : 8.604, D_fake_e : 5.923, G_e : 6.025, Q_e : 3.315, new_measure : 8.861, k_curr : 0.078\n",
      "D_e : 6.894, D_real_e : 7.261, D_fake_e : 4.993, G_e : 5.086, Q_e : 3.308, new_measure : 7.484, k_curr : 0.061\n",
      "D_e : 6.410, D_real_e : 6.655, D_fake_e : 4.595, G_e : 4.664, Q_e : 3.268, new_measure : 6.850, k_curr : 0.033\n",
      "D_e : 6.135, D_real_e : 6.272, D_fake_e : 4.335, G_e : 4.389, Q_e : 3.120, new_measure : 6.462, k_curr : 0.042\n",
      "D_e : 5.833, D_real_e : 5.998, D_fake_e : 4.142, G_e : 4.197, Q_e : 2.923, new_measure : 6.189, k_curr : 0.050\n",
      "D_e : 5.612, D_real_e : 5.775, D_fake_e : 3.985, G_e : 4.045, Q_e : 2.734, new_measure : 5.968, k_curr : 0.037\n",
      "D_e : 5.427, D_real_e : 5.606, D_fake_e : 3.855, G_e : 3.923, Q_e : 2.564, new_measure : 5.790, k_curr : 0.044\n",
      "D_e : 5.262, D_real_e : 5.467, D_fake_e : 3.740, G_e : 3.822, Q_e : 2.411, new_measure : 5.661, k_curr : 0.068\n",
      "D_e : 5.135, D_real_e : 5.346, D_fake_e : 3.659, G_e : 3.743, Q_e : 2.275, new_measure : 5.532, k_curr : 0.066\n",
      "D_e : 5.030, D_real_e : 5.246, D_fake_e : 3.582, G_e : 3.669, Q_e : 2.153, new_measure : 5.408, k_curr : 0.081\n",
      "D_e : 4.932, D_real_e : 5.146, D_fake_e : 3.518, G_e : 3.606, Q_e : 2.043, new_measure : 5.316, k_curr : 0.061\n"
     ]
    }
   ],
   "source": [
    "sess = tf.Session(config=tf.ConfigProto(gpu_options=tf.GPUOptions(allow_growth=True))) \n",
    "sess.run(tf.global_variables_initializer())\n",
    "\n",
    "path = 'test4'\n",
    "mnist = data\n",
    "a = BE_resGANs_v3(sess,path,mnist, GANs_epoch = 50, E_epoch = 15,D_lr = 2e-5, G_lr = 2e-4, c_size = 30, gamma = 0.7, lam = 0.01,  \n",
    "                  minibatch_increase = True,  factor_decrease = True)\n",
    "a.GANs_fit()\n",
    "a.E_fit()\n",
    "a.report()"
   ]
  },
  {
   "cell_type": "code",
   "execution_count": null,
   "metadata": {},
   "outputs": [],
   "source": []
  }
 ],
 "metadata": {
  "kernelspec": {
   "display_name": "Python 3",
   "language": "python",
   "name": "python3"
  },
  "language_info": {
   "codemirror_mode": {
    "name": "ipython",
    "version": 3
   },
   "file_extension": ".py",
   "mimetype": "text/x-python",
   "name": "python",
   "nbconvert_exporter": "python",
   "pygments_lexer": "ipython3",
   "version": "3.5.2"
  },
  "toc": {
   "base_numbering": 1,
   "nav_menu": {},
   "number_sections": true,
   "sideBar": true,
   "skip_h1_title": false,
   "title_cell": "Table of Contents",
   "title_sidebar": "Contents",
   "toc_cell": false,
   "toc_position": {},
   "toc_section_display": true,
   "toc_window_display": false
  },
  "varInspector": {
   "cols": {
    "lenName": 16,
    "lenType": 16,
    "lenVar": 40
   },
   "kernels_config": {
    "python": {
     "delete_cmd_postfix": "",
     "delete_cmd_prefix": "del ",
     "library": "var_list.py",
     "varRefreshCmd": "print(var_dic_list())"
    },
    "r": {
     "delete_cmd_postfix": ") ",
     "delete_cmd_prefix": "rm(",
     "library": "var_list.r",
     "varRefreshCmd": "cat(var_dic_list()) "
    }
   },
   "types_to_exclude": [
    "module",
    "function",
    "builtin_function_or_method",
    "instance",
    "_Feature"
   ],
   "window_display": false
  }
 },
 "nbformat": 4,
 "nbformat_minor": 2
}
