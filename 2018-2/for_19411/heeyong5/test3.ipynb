{
 "cells": [
  {
   "cell_type": "code",
   "execution_count": 1,
   "metadata": {},
   "outputs": [],
   "source": [
    "\n",
    "\n",
    "\n",
    "from BE_resGANs_v1 import Anomaly_Mnist\n",
    "from BE_resGANs_v1 import BE_resGANs_v1\n",
    "import tensorflow as tf\n",
    "import os\n",
    "os.environ[\"CUDA_VISIBLE_DEVICES\"]=\"1\"\n",
    "\n",
    "\n",
    "\n",
    "\n"
   ]
  },
  {
   "cell_type": "code",
   "execution_count": 2,
   "metadata": {},
   "outputs": [
    {
     "name": "stdout",
     "output_type": "stream",
     "text": [
      "Extracting MNIST_data/train-images-idx3-ubyte.gz\n",
      "Extracting MNIST_data/train-labels-idx1-ubyte.gz\n",
      "Extracting MNIST_data/t10k-images-idx3-ubyte.gz\n",
      "Extracting MNIST_data/t10k-labels-idx1-ubyte.gz\n",
      "anomalous number :  [9]\n",
      "test_normal_data :  (8991, 64, 64, 1)\n",
      "test_anomalous_data :  (1009, 64, 64, 1)\n",
      "train_normal_data :  (49546, 64, 64, 1)\n",
      "train_anomalous_data :  (5454, 64, 64, 1)\n"
     ]
    }
   ],
   "source": [
    "data = Anomaly_Mnist()\n",
    "#data.set_anomaly(anomalous_nums =[0,1,2,3,4,5,6,7,8])\n",
    "data.set_anomaly(anomalous_nums =[9])"
   ]
  },
  {
   "cell_type": "code",
   "execution_count": 3,
   "metadata": {},
   "outputs": [
    {
     "name": "stdout",
     "output_type": "stream",
     "text": [
      "D_e : 10.565, D_real_e : 40.255, D_fake_e : 27.506, G_e : 28.174, new_measure : 45.642, k_curr : 0.092\n",
      "D_e : 25.842, D_real_e : 27.139, D_fake_e : 18.612, G_e : 19.000, new_measure : 28.548, k_curr : 0.070\n",
      "D_e : 20.217, D_real_e : 20.806, D_fake_e : 14.371, G_e : 14.571, new_measure : 21.541, k_curr : 0.033\n",
      "D_e : 16.876, D_real_e : 17.414, D_fake_e : 11.902, G_e : 12.186, new_measure : 18.244, k_curr : 0.054\n",
      "D_e : 14.287, D_real_e : 14.702, D_fake_e : 10.077, G_e : 10.292, new_measure : 15.268, k_curr : 0.049\n",
      "D_e : 12.268, D_real_e : 12.789, D_fake_e : 8.653, G_e : 8.951, new_measure : 13.423, k_curr : 0.052\n",
      "D_e : 10.819, D_real_e : 11.319, D_fake_e : 7.639, G_e : 7.928, new_measure : 11.871, k_curr : 0.031\n",
      "D_e : 9.898, D_real_e : 10.174, D_fake_e : 6.891, G_e : 7.114, new_measure : 10.590, k_curr : 0.071\n",
      "D_e : 9.076, D_real_e : 9.348, D_fake_e : 6.324, G_e : 6.555, new_measure : 9.722, k_curr : 0.018\n",
      "D_e : 8.442, D_real_e : 8.695, D_fake_e : 5.861, G_e : 6.082, new_measure : 9.058, k_curr : 0.042\n",
      "D_e : 7.651, D_real_e : 8.127, D_fake_e : 5.664, G_e : 5.683, new_measure : 8.375, k_curr : 0.072\n",
      "D_e : 7.693, D_real_e : 8.053, D_fake_e : 5.624, G_e : 5.637, new_measure : 8.282, k_curr : 0.072\n",
      "D_e : 7.660, D_real_e : 7.989, D_fake_e : 5.580, G_e : 5.596, new_measure : 8.227, k_curr : 0.054\n",
      "D_e : 7.613, D_real_e : 7.919, D_fake_e : 5.522, G_e : 5.540, new_measure : 8.145, k_curr : 0.069\n",
      "D_e : 7.545, D_real_e : 7.846, D_fake_e : 5.477, G_e : 5.495, new_measure : 8.068, k_curr : 0.055\n",
      "D_e : 7.450, D_real_e : 7.779, D_fake_e : 5.426, G_e : 5.445, new_measure : 8.019, k_curr : 0.057\n",
      "D_e : 7.415, D_real_e : 7.713, D_fake_e : 5.381, G_e : 5.397, new_measure : 7.950, k_curr : 0.068\n",
      "D_e : 7.341, D_real_e : 7.639, D_fake_e : 5.333, G_e : 5.350, new_measure : 7.872, k_curr : 0.055\n",
      "D_e : 7.307, D_real_e : 7.597, D_fake_e : 5.302, G_e : 5.320, new_measure : 7.830, k_curr : 0.048\n",
      "D_e : 7.254, D_real_e : 7.523, D_fake_e : 5.251, G_e : 5.267, new_measure : 7.741, k_curr : 0.042\n",
      "D_e : 7.123, D_real_e : 7.473, D_fake_e : 5.225, G_e : 5.226, new_measure : 7.669, k_curr : 0.067\n",
      "D_e : 7.098, D_real_e : 7.471, D_fake_e : 5.232, G_e : 5.234, new_measure : 7.688, k_curr : 0.047\n",
      "D_e : 7.124, D_real_e : 7.454, D_fake_e : 5.214, G_e : 5.215, new_measure : 7.659, k_curr : 0.059\n",
      "D_e : 7.129, D_real_e : 7.434, D_fake_e : 5.202, G_e : 5.203, new_measure : 7.634, k_curr : 0.060\n",
      "D_e : 7.139, D_real_e : 7.434, D_fake_e : 5.201, G_e : 5.203, new_measure : 7.631, k_curr : 0.065\n",
      "D_e : 7.111, D_real_e : 7.418, D_fake_e : 5.187, G_e : 5.189, new_measure : 7.612, k_curr : 0.084\n",
      "D_e : 7.088, D_real_e : 7.437, D_fake_e : 5.211, G_e : 5.212, new_measure : 7.646, k_curr : 0.052\n",
      "D_e : 7.114, D_real_e : 7.405, D_fake_e : 5.181, G_e : 5.182, new_measure : 7.605, k_curr : 0.058\n",
      "D_e : 7.122, D_real_e : 7.409, D_fake_e : 5.184, G_e : 5.185, new_measure : 7.617, k_curr : 0.064\n",
      "D_e : 7.102, D_real_e : 7.400, D_fake_e : 5.177, G_e : 5.178, new_measure : 7.597, k_curr : 0.073\n",
      "total time :  4709.215098142624\n",
      "E_e : 27.536442\n",
      "E_e : 25.396461\n",
      "E_e : 25.140921\n",
      "E_e : 24.429230\n",
      "E_e : 24.360096\n",
      "E_e : 24.331114\n",
      "E_e : 23.899834\n",
      "E_e : 23.643051\n",
      "E_e : 23.555429\n",
      "E_e : 23.365644\n",
      "E_e : 23.208559\n",
      "E_e : 23.078133\n",
      "E_e : 23.289900\n",
      "E_e : 22.968792\n",
      "E_e : 22.774490\n",
      "total time :  1848.210767507553\n",
      "Normalized confusion matrix\n",
      "[[ 0.0188764  0.9811236]\n",
      " [ 0.         1.       ]]\n",
      "Confusion matrix, without normalization\n",
      "[[ 168 8732]\n",
      " [   0 1000]]\n",
      "Normalized confusion matrix\n",
      "[[ 0.04325843  0.95674157]\n",
      " [ 0.          1.        ]]\n",
      "Confusion matrix, without normalization\n",
      "[[ 385 8515]\n",
      " [   0 1000]]\n",
      "Normalized confusion matrix\n",
      "[[ 0.95505618  0.04494382]\n",
      " [ 0.2         0.8       ]]\n",
      "Confusion matrix, without normalization\n",
      "[[8500  400]\n",
      " [ 200  800]]\n",
      "Normalized confusion matrix\n",
      "[[ 0.0752809  0.9247191]\n",
      " [ 0.         1.       ]]\n",
      "Confusion matrix, without normalization\n",
      "[[ 670 8230]\n",
      " [   0 1000]]\n",
      "Normalized confusion matrix\n",
      "[[ 0.07303371  0.92696629]\n",
      " [ 0.          1.        ]]\n",
      "Confusion matrix, without normalization\n",
      "[[ 650 8250]\n",
      " [   0 1000]]\n"
     ]
    }
   ],
   "source": [
    "sess = tf.Session(config=tf.ConfigProto(gpu_options=tf.GPUOptions(allow_growth=True))) \n",
    "sess.run(tf.global_variables_initializer())\n",
    "\n",
    "path = 'test3'\n",
    "mnist = data\n",
    "a = BE_resGANs_v1(sess,path,mnist, GANs_epoch = 30, E_epoch = 15,D_lr = 2e-5, G_lr = 2e-4, gamma = 0.7, lam = 0.01,  minibatch_increase = True, \n",
    "                factor_decrease = True)\n",
    "a.GANs_fit()\n",
    "a.E_fit()\n",
    "a.report()"
   ]
  },
  {
   "cell_type": "code",
   "execution_count": null,
   "metadata": {},
   "outputs": [],
   "source": []
  },
  {
   "cell_type": "code",
   "execution_count": null,
   "metadata": {},
   "outputs": [],
   "source": []
  },
  {
   "cell_type": "code",
   "execution_count": null,
   "metadata": {},
   "outputs": [],
   "source": []
  },
  {
   "cell_type": "code",
   "execution_count": null,
   "metadata": {},
   "outputs": [],
   "source": []
  },
  {
   "cell_type": "code",
   "execution_count": null,
   "metadata": {},
   "outputs": [],
   "source": []
  },
  {
   "cell_type": "code",
   "execution_count": null,
   "metadata": {},
   "outputs": [],
   "source": []
  },
  {
   "cell_type": "code",
   "execution_count": null,
   "metadata": {},
   "outputs": [],
   "source": []
  }
 ],
 "metadata": {
  "kernelspec": {
   "display_name": "Python 3",
   "language": "python",
   "name": "python3"
  },
  "language_info": {
   "codemirror_mode": {
    "name": "ipython",
    "version": 3
   },
   "file_extension": ".py",
   "mimetype": "text/x-python",
   "name": "python",
   "nbconvert_exporter": "python",
   "pygments_lexer": "ipython3",
   "version": "3.5.2"
  },
  "toc": {
   "base_numbering": 1,
   "nav_menu": {},
   "number_sections": true,
   "sideBar": true,
   "skip_h1_title": false,
   "title_cell": "Table of Contents",
   "title_sidebar": "Contents",
   "toc_cell": false,
   "toc_position": {},
   "toc_section_display": true,
   "toc_window_display": false
  },
  "varInspector": {
   "cols": {
    "lenName": 16,
    "lenType": 16,
    "lenVar": 40
   },
   "kernels_config": {
    "python": {
     "delete_cmd_postfix": "",
     "delete_cmd_prefix": "del ",
     "library": "var_list.py",
     "varRefreshCmd": "print(var_dic_list())"
    },
    "r": {
     "delete_cmd_postfix": ") ",
     "delete_cmd_prefix": "rm(",
     "library": "var_list.r",
     "varRefreshCmd": "cat(var_dic_list()) "
    }
   },
   "types_to_exclude": [
    "module",
    "function",
    "builtin_function_or_method",
    "instance",
    "_Feature"
   ],
   "window_display": false
  }
 },
 "nbformat": 4,
 "nbformat_minor": 2
}
