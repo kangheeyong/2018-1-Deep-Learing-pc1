{
 "cells": [
  {
   "cell_type": "code",
   "execution_count": 1,
   "metadata": {},
   "outputs": [],
   "source": [
    "from BE_resGANs_v1_2 import Anomaly_Mnist\n",
    "from BE_resGANs_v1_2 import BE_resGANs_v1_2\n",
    "import tensorflow as tf\n",
    "import os\n",
    "os.environ[\"CUDA_VISIBLE_DEVICES\"]=\"0\""
   ]
  },
  {
   "cell_type": "code",
   "execution_count": null,
   "metadata": {},
   "outputs": [
    {
     "name": "stdout",
     "output_type": "stream",
     "text": [
      "Extracting MNIST_data/train-images-idx3-ubyte.gz\n",
      "Extracting MNIST_data/train-labels-idx1-ubyte.gz\n",
      "Extracting MNIST_data/t10k-images-idx3-ubyte.gz\n",
      "Extracting MNIST_data/t10k-labels-idx1-ubyte.gz\n",
      "anomalous number :  [9]\n",
      "test_normal_data :  (8991, 64, 64, 1)\n",
      "test_anomalous_data :  (1009, 64, 64, 1)\n",
      "train_normal_data :  (49546, 64, 64, 1)\n",
      "train_anomalous_data :  (5454, 64, 64, 1)\n"
     ]
    }
   ],
   "source": [
    "data = Anomaly_Mnist()\n",
    "#data.set_anomaly(anomalous_nums =[0,1,2,3,4,5,6,7,8])\n",
    "data.set_anomaly(anomalous_nums =[9])"
   ]
  },
  {
   "cell_type": "code",
   "execution_count": null,
   "metadata": {},
   "outputs": [
    {
     "name": "stdout",
     "output_type": "stream",
     "text": [
      "D_e : -405.578, D_real_e : 61.952, D_fake_e : 42.777, G_e : 43.347, new_measure : 70.154, k_curr : 0.385\n"
     ]
    }
   ],
   "source": [
    "sess = tf.Session(config=tf.ConfigProto(gpu_options=tf.GPUOptions(allow_growth=True))) \n",
    "sess.run(tf.global_variables_initializer())\n",
    "\n",
    "path = 'test1_2'\n",
    "mnist = data\n",
    "a = BE_resGANs_v1_2(sess,path,mnist, GANs_epoch = 50, E_epoch = 30,D_lr = 2e-5, G_lr = 2e-4, E_lr = 2e-4, gamma = 0.7, lam = 0.01, \n",
    "                  minibatch_increase = True, factor_decrease = True)\n",
    "a.GANs_fit()\n",
    "a.E_fit()\n",
    "a.report()"
   ]
  },
  {
   "cell_type": "code",
   "execution_count": null,
   "metadata": {},
   "outputs": [],
   "source": []
  },
  {
   "cell_type": "code",
   "execution_count": null,
   "metadata": {},
   "outputs": [],
   "source": []
  },
  {
   "cell_type": "code",
   "execution_count": 2,
   "metadata": {},
   "outputs": [
    {
     "name": "stdout",
     "output_type": "stream",
     "text": [
      "Extracting MNIST_data/train-images-idx3-ubyte.gz\n",
      "Extracting MNIST_data/train-labels-idx1-ubyte.gz\n",
      "Extracting MNIST_data/t10k-images-idx3-ubyte.gz\n",
      "Extracting MNIST_data/t10k-labels-idx1-ubyte.gz\n",
      "anomalous number :  [1]\n",
      "test_normal_data :  (8865, 64, 64, 1)\n",
      "test_anomalous_data :  (1135, 64, 64, 1)\n",
      "train_normal_data :  (48821, 64, 64, 1)\n",
      "train_anomalous_data :  (6179, 64, 64, 1)\n"
     ]
    }
   ],
   "source": [
    "data = Anomaly_Mnist()\n",
    "#data.set_anomaly(anomalous_nums =[0,1,2,3,4,5,6,7,8])\n",
    "data.set_anomaly(anomalous_nums =[1])"
   ]
  },
  {
   "cell_type": "code",
   "execution_count": null,
   "metadata": {},
   "outputs": [
    {
     "name": "stdout",
     "output_type": "stream",
     "text": [
      "D_e : -310.718, D_real_e : 63.259, D_fake_e : 42.064, G_e : 44.267, new_measure : 68.322, k_curr : 0.287\n",
      "D_e : 35.612, D_real_e : 41.524, D_fake_e : 26.960, G_e : 29.079, new_measure : 45.310, k_curr : 0.168\n",
      "D_e : 29.350, D_real_e : 33.991, D_fake_e : 22.964, G_e : 23.803, new_measure : 36.434, k_curr : 0.123\n",
      "D_e : 25.176, D_real_e : 28.801, D_fake_e : 19.557, G_e : 20.159, new_measure : 30.468, k_curr : 0.134\n",
      "D_e : 21.180, D_real_e : 24.005, D_fake_e : 16.360, G_e : 16.802, new_measure : 25.292, k_curr : 0.143\n",
      "D_e : 17.652, D_real_e : 19.729, D_fake_e : 13.374, G_e : 13.814, new_measure : 20.764, k_curr : 0.126\n",
      "D_e : 14.571, D_real_e : 16.372, D_fake_e : 11.124, G_e : 11.464, new_measure : 17.135, k_curr : 0.108\n",
      "D_e : 12.419, D_real_e : 13.798, D_fake_e : 9.449, G_e : 9.658, new_measure : 14.294, k_curr : 0.110\n",
      "D_e : 10.715, D_real_e : 11.859, D_fake_e : 8.096, G_e : 8.297, new_measure : 12.277, k_curr : 0.132\n",
      "D_e : 9.465, D_real_e : 10.369, D_fake_e : 7.084, G_e : 7.259, new_measure : 10.728, k_curr : 0.130\n",
      "D_e : 8.447, D_real_e : 9.221, D_fake_e : 6.275, G_e : 6.452, new_measure : 9.565, k_curr : 0.144\n",
      "D_e : 7.713, D_real_e : 8.344, D_fake_e : 5.684, G_e : 5.844, new_measure : 8.666, k_curr : 0.129\n",
      "D_e : 7.068, D_real_e : 7.679, D_fake_e : 5.215, G_e : 5.383, new_measure : 7.977, k_curr : 0.089\n",
      "D_e : 6.713, D_real_e : 7.158, D_fake_e : 4.872, G_e : 5.008, new_measure : 7.420, k_curr : 0.099\n",
      "D_e : 6.375, D_real_e : 6.770, D_fake_e : 4.610, G_e : 4.741, new_measure : 7.026, k_curr : 0.090\n",
      "D_e : 6.096, D_real_e : 6.462, D_fake_e : 4.379, G_e : 4.521, new_measure : 6.730, k_curr : 0.102\n",
      "D_e : 5.832, D_real_e : 6.207, D_fake_e : 4.223, G_e : 4.346, new_measure : 6.459, k_curr : 0.097\n",
      "D_e : 4.976, D_real_e : 5.944, D_fake_e : 4.109, G_e : 4.127, new_measure : 6.138, k_curr : 0.261\n",
      "D_e : 4.969, D_real_e : 5.926, D_fake_e : 4.138, G_e : 4.155, new_measure : 6.103, k_curr : 0.228\n",
      "D_e : 5.003, D_real_e : 5.889, D_fake_e : 4.112, G_e : 4.129, new_measure : 6.063, k_curr : 0.193\n",
      "D_e : 5.066, D_real_e : 5.854, D_fake_e : 4.075, G_e : 4.092, new_measure : 6.021, k_curr : 0.220\n",
      "D_e : 5.062, D_real_e : 5.824, D_fake_e : 4.063, G_e : 4.080, new_measure : 6.000, k_curr : 0.203\n",
      "D_e : 5.024, D_real_e : 5.809, D_fake_e : 4.051, G_e : 4.067, new_measure : 5.983, k_curr : 0.196\n",
      "D_e : 5.019, D_real_e : 5.795, D_fake_e : 4.041, G_e : 4.058, new_measure : 5.958, k_curr : 0.188\n",
      "D_e : 5.021, D_real_e : 5.761, D_fake_e : 4.013, G_e : 4.029, new_measure : 5.924, k_curr : 0.208\n",
      "D_e : 4.955, D_real_e : 5.732, D_fake_e : 3.999, G_e : 4.016, new_measure : 5.899, k_curr : 0.188\n",
      "D_e : 4.917, D_real_e : 5.730, D_fake_e : 3.987, G_e : 4.003, new_measure : 5.893, k_curr : 0.227\n",
      "D_e : 4.941, D_real_e : 5.708, D_fake_e : 3.981, G_e : 3.999, new_measure : 5.877, k_curr : 0.210\n",
      "D_e : 4.936, D_real_e : 5.676, D_fake_e : 3.966, G_e : 3.981, new_measure : 5.848, k_curr : 0.171\n",
      "D_e : 4.971, D_real_e : 5.644, D_fake_e : 3.942, G_e : 3.956, new_measure : 5.815, k_curr : 0.142\n",
      "D_e : 4.944, D_real_e : 5.622, D_fake_e : 3.907, G_e : 3.923, new_measure : 5.799, k_curr : 0.202\n",
      "D_e : 4.856, D_real_e : 5.607, D_fake_e : 3.907, G_e : 3.924, new_measure : 5.769, k_curr : 0.207\n",
      "D_e : 4.867, D_real_e : 5.587, D_fake_e : 3.906, G_e : 3.921, new_measure : 5.755, k_curr : 0.160\n"
     ]
    }
   ],
   "source": [
    "sess = tf.Session(config=tf.ConfigProto(gpu_options=tf.GPUOptions(allow_growth=True))) \n",
    "sess.run(tf.global_variables_initializer())\n",
    "\n",
    "path = 'test1_2_1'\n",
    "mnist = data\n",
    "a = BE_resGANs_v1_2(sess,path,mnist, GANs_epoch = 50, E_epoch = 30,D_lr = 2e-5, G_lr = 2e-4, E_lr = 2e-4, gamma = 0.7, lam = 0.01, \n",
    "                  minibatch_increase = True, factor_decrease = True)\n",
    "a.GANs_fit()\n",
    "a.E_fit()\n",
    "a.report()"
   ]
  },
  {
   "cell_type": "code",
   "execution_count": null,
   "metadata": {},
   "outputs": [],
   "source": []
  }
 ],
 "metadata": {
  "kernelspec": {
   "display_name": "Python 3",
   "language": "python",
   "name": "python3"
  },
  "language_info": {
   "codemirror_mode": {
    "name": "ipython",
    "version": 3
   },
   "file_extension": ".py",
   "mimetype": "text/x-python",
   "name": "python",
   "nbconvert_exporter": "python",
   "pygments_lexer": "ipython3",
   "version": "3.5.2"
  },
  "toc": {
   "base_numbering": 1,
   "nav_menu": {},
   "number_sections": true,
   "sideBar": true,
   "skip_h1_title": false,
   "title_cell": "Table of Contents",
   "title_sidebar": "Contents",
   "toc_cell": false,
   "toc_position": {},
   "toc_section_display": true,
   "toc_window_display": false
  },
  "varInspector": {
   "cols": {
    "lenName": 16,
    "lenType": 16,
    "lenVar": 40
   },
   "kernels_config": {
    "python": {
     "delete_cmd_postfix": "",
     "delete_cmd_prefix": "del ",
     "library": "var_list.py",
     "varRefreshCmd": "print(var_dic_list())"
    },
    "r": {
     "delete_cmd_postfix": ") ",
     "delete_cmd_prefix": "rm(",
     "library": "var_list.r",
     "varRefreshCmd": "cat(var_dic_list()) "
    }
   },
   "types_to_exclude": [
    "module",
    "function",
    "builtin_function_or_method",
    "instance",
    "_Feature"
   ],
   "window_display": false
  }
 },
 "nbformat": 4,
 "nbformat_minor": 2
}
