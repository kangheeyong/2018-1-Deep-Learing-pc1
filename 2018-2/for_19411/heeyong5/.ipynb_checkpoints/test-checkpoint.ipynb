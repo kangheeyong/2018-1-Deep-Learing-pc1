{
 "cells": [
  {
   "cell_type": "code",
   "execution_count": 1,
   "metadata": {},
   "outputs": [],
   "source": [
    "\n",
    "\n",
    "\n",
    "from BE_resGANs import Anomaly_Mnist\n",
    "from BE_resGANs import BE_resGANs_v2\n",
    "import tensorflow as tf\n",
    "import os\n",
    "os.environ[\"CUDA_VISIBLE_DEVICES\"]=\"0\"\n",
    "\n",
    "\n",
    "\n"
   ]
  },
  {
   "cell_type": "code",
   "execution_count": 2,
   "metadata": {},
   "outputs": [
    {
     "name": "stdout",
     "output_type": "stream",
     "text": [
      "Extracting MNIST_data/train-images-idx3-ubyte.gz\n",
      "Extracting MNIST_data/train-labels-idx1-ubyte.gz\n",
      "Extracting MNIST_data/t10k-images-idx3-ubyte.gz\n",
      "Extracting MNIST_data/t10k-labels-idx1-ubyte.gz\n",
      "anomalous number :  [9]\n",
      "test_normal_data :  (8991, 64, 64, 1)\n",
      "test_anomalous_data :  (1009, 64, 64, 1)\n",
      "train_normal_data :  (49546, 64, 64, 1)\n",
      "train_anomalous_data :  (5454, 64, 64, 1)\n"
     ]
    }
   ],
   "source": [
    "data = Anomaly_Mnist()\n",
    "#data.set_anomaly(anomalous_nums =[0,1,2,3,4,5,6,7,8])\n",
    "data.set_anomaly(anomalous_nums =[9])"
   ]
  },
  {
   "cell_type": "code",
   "execution_count": null,
   "metadata": {},
   "outputs": [],
   "source": [
    "import matplotlib.pyplot as plt\n",
    "\n",
    "num = 333\n",
    "plt.imshow( data.test_anomalous_data[num].reshape(64,64), cmap='Greys_r')\n",
    "plt.colorbar()\n",
    "plt.show()"
   ]
  },
  {
   "cell_type": "code",
   "execution_count": null,
   "metadata": {},
   "outputs": [
    {
     "name": "stdout",
     "output_type": "stream",
     "text": [
      "D_e : 42.151, D_real_e : 45.527, D_fake_e : 22.365, G_e : 22.732, Q_e : 2.976, new_measure : 49.906, k_curr : 0.015\n",
      "D_e : 34.883, D_real_e : 35.069, D_fake_e : 17.194, G_e : 17.540, Q_e : 2.983, new_measure : 35.927, k_curr : 0.013\n",
      "D_e : 27.124, D_real_e : 27.727, D_fake_e : 13.312, G_e : 13.844, Q_e : 2.986, new_measure : 28.770, k_curr : 0.022\n",
      "D_e : 22.174, D_real_e : 22.334, D_fake_e : 10.939, G_e : 11.187, Q_e : 2.987, new_measure : 22.894, k_curr : 0.012\n",
      "D_e : 18.461, D_real_e : 18.598, D_fake_e : 9.084, G_e : 9.305, Q_e : 2.986, new_measure : 19.145, k_curr : 0.009\n",
      "D_e : 15.769, D_real_e : 15.900, D_fake_e : 7.707, G_e : 7.933, Q_e : 2.985, new_measure : 16.385, k_curr : 0.018\n",
      "D_e : 13.839, D_real_e : 13.951, D_fake_e : 6.789, G_e : 6.986, Q_e : 2.983, new_measure : 14.395, k_curr : 0.012\n",
      "D_e : 12.435, D_real_e : 12.537, D_fake_e : 6.087, G_e : 6.255, Q_e : 2.981, new_measure : 12.872, k_curr : 0.019\n",
      "D_e : 11.334, D_real_e : 11.440, D_fake_e : 5.564, G_e : 5.728, Q_e : 2.977, new_measure : 11.780, k_curr : 0.015\n",
      "D_e : 10.511, D_real_e : 10.598, D_fake_e : 5.119, G_e : 5.287, Q_e : 2.973, new_measure : 10.911, k_curr : 0.021\n",
      "D_e : 9.819, D_real_e : 9.923, D_fake_e : 4.788, G_e : 4.965, Q_e : 2.967, new_measure : 10.204, k_curr : 0.019\n",
      "D_e : 9.300, D_real_e : 9.373, D_fake_e : 4.511, G_e : 4.680, Q_e : 2.958, new_measure : 9.641, k_curr : 0.022\n",
      "D_e : 8.820, D_real_e : 8.897, D_fake_e : 4.310, G_e : 4.464, Q_e : 2.943, new_measure : 9.153, k_curr : 0.015\n",
      "D_e : 8.459, D_real_e : 8.533, D_fake_e : 4.112, G_e : 4.263, Q_e : 2.911, new_measure : 8.778, k_curr : 0.017\n",
      "D_e : 8.141, D_real_e : 8.209, D_fake_e : 3.961, G_e : 4.104, Q_e : 2.830, new_measure : 8.454, k_curr : 0.017\n",
      "D_e : 7.863, D_real_e : 7.937, D_fake_e : 3.833, G_e : 3.977, Q_e : 2.706, new_measure : 8.193, k_curr : 0.013\n",
      "D_e : 7.616, D_real_e : 7.712, D_fake_e : 3.676, G_e : 3.830, Q_e : 2.566, new_measure : 8.002, k_curr : 0.025\n",
      "D_e : 7.406, D_real_e : 7.509, D_fake_e : 3.594, G_e : 3.747, Q_e : 2.430, new_measure : 7.770, k_curr : 0.029\n",
      "D_e : 7.262, D_real_e : 7.350, D_fake_e : 3.534, G_e : 3.685, Q_e : 2.305, new_measure : 7.597, k_curr : 0.024\n",
      "D_e : 7.107, D_real_e : 7.200, D_fake_e : 3.459, G_e : 3.605, Q_e : 2.192, new_measure : 7.466, k_curr : 0.021\n",
      "D_e : 6.992, D_real_e : 7.068, D_fake_e : 3.383, G_e : 3.528, Q_e : 2.089, new_measure : 7.333, k_curr : 0.024\n",
      "D_e : 6.844, D_real_e : 6.928, D_fake_e : 3.354, G_e : 3.479, Q_e : 1.995, new_measure : 7.186, k_curr : 0.017\n",
      "D_e : 6.764, D_real_e : 6.839, D_fake_e : 3.272, G_e : 3.404, Q_e : 1.909, new_measure : 7.098, k_curr : 0.024\n",
      "D_e : 6.657, D_real_e : 6.732, D_fake_e : 3.243, G_e : 3.370, Q_e : 1.830, new_measure : 6.961, k_curr : 0.022\n",
      "D_e : 6.551, D_real_e : 6.631, D_fake_e : 3.164, G_e : 3.295, Q_e : 1.758, new_measure : 6.873, k_curr : 0.032\n",
      "D_e : 6.484, D_real_e : 6.568, D_fake_e : 3.175, G_e : 3.296, Q_e : 1.691, new_measure : 6.797, k_curr : 0.026\n"
     ]
    }
   ],
   "source": [
    "sess = tf.Session(config=tf.ConfigProto(gpu_options=tf.GPUOptions(allow_growth=True))) \n",
    "sess.run(tf.global_variables_initializer())\n",
    "\n",
    "path = 'test1'\n",
    "mnist = data\n",
    "a = BE_resGANs_v2(sess,path,mnist, GANs_epoch = 30, E_epoch = 15,D_lr = 1e-5, G_lr = 2e-4, batch_size = 100, gamma = 0.5, lam = 0.001\n",
    "                  , c_size = 30)\n",
    "a.GANs_fit()\n",
    "a.E_fit()\n",
    "a.report()"
   ]
  },
  {
   "cell_type": "code",
   "execution_count": null,
   "metadata": {},
   "outputs": [],
   "source": []
  },
  {
   "cell_type": "code",
   "execution_count": null,
   "metadata": {},
   "outputs": [],
   "source": []
  },
  {
   "cell_type": "code",
   "execution_count": null,
   "metadata": {},
   "outputs": [],
   "source": []
  },
  {
   "cell_type": "code",
   "execution_count": null,
   "metadata": {},
   "outputs": [],
   "source": []
  },
  {
   "cell_type": "code",
   "execution_count": null,
   "metadata": {},
   "outputs": [],
   "source": [
    "\n"
   ]
  },
  {
   "cell_type": "code",
   "execution_count": null,
   "metadata": {},
   "outputs": [],
   "source": []
  },
  {
   "cell_type": "code",
   "execution_count": null,
   "metadata": {},
   "outputs": [],
   "source": []
  },
  {
   "cell_type": "code",
   "execution_count": null,
   "metadata": {},
   "outputs": [],
   "source": []
  },
  {
   "cell_type": "code",
   "execution_count": null,
   "metadata": {},
   "outputs": [],
   "source": []
  },
  {
   "cell_type": "code",
   "execution_count": null,
   "metadata": {},
   "outputs": [],
   "source": []
  },
  {
   "cell_type": "code",
   "execution_count": null,
   "metadata": {},
   "outputs": [],
   "source": []
  },
  {
   "cell_type": "code",
   "execution_count": null,
   "metadata": {},
   "outputs": [],
   "source": []
  },
  {
   "cell_type": "code",
   "execution_count": null,
   "metadata": {},
   "outputs": [],
   "source": []
  },
  {
   "cell_type": "code",
   "execution_count": null,
   "metadata": {},
   "outputs": [],
   "source": []
  }
 ],
 "metadata": {
  "kernelspec": {
   "display_name": "Python 3",
   "language": "python",
   "name": "python3"
  },
  "language_info": {
   "codemirror_mode": {
    "name": "ipython",
    "version": 3
   },
   "file_extension": ".py",
   "mimetype": "text/x-python",
   "name": "python",
   "nbconvert_exporter": "python",
   "pygments_lexer": "ipython3",
   "version": "3.5.2"
  },
  "toc": {
   "base_numbering": 1,
   "nav_menu": {},
   "number_sections": true,
   "sideBar": true,
   "skip_h1_title": false,
   "title_cell": "Table of Contents",
   "title_sidebar": "Contents",
   "toc_cell": false,
   "toc_position": {},
   "toc_section_display": true,
   "toc_window_display": false
  },
  "varInspector": {
   "cols": {
    "lenName": 16,
    "lenType": 16,
    "lenVar": 40
   },
   "kernels_config": {
    "python": {
     "delete_cmd_postfix": "",
     "delete_cmd_prefix": "del ",
     "library": "var_list.py",
     "varRefreshCmd": "print(var_dic_list())"
    },
    "r": {
     "delete_cmd_postfix": ") ",
     "delete_cmd_prefix": "rm(",
     "library": "var_list.r",
     "varRefreshCmd": "cat(var_dic_list()) "
    }
   },
   "types_to_exclude": [
    "module",
    "function",
    "builtin_function_or_method",
    "instance",
    "_Feature"
   ],
   "window_display": false
  }
 },
 "nbformat": 4,
 "nbformat_minor": 2
}
