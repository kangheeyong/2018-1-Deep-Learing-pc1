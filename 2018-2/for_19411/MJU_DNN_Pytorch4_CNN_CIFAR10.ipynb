{
 "cells": [
  {
   "cell_type": "markdown",
   "metadata": {},
   "source": [
    "# Convolutional Neural Network\n",
    "- CIFAR-10 dataset"
   ]
  },
  {
   "cell_type": "markdown",
   "metadata": {},
   "source": [
    "[CIFAR-10] http://www.samyzaf.com/ML/cifar10/cifar10.html)"
   ]
  },
  {
   "cell_type": "markdown",
   "metadata": {},
   "source": [
    "## 1. Settings\n",
    "### 1) Import required libraries"
   ]
  },
  {
   "cell_type": "code",
   "execution_count": 1,
   "metadata": {},
   "outputs": [],
   "source": [
    "import numpy as np\n",
    "import torch\n",
    "import torch.nn as nn\n",
    "import torch.optim as optim\n",
    "import torch.nn.init as init\n",
    "import torchvision.datasets as dset\n",
    "import torchvision.transforms as transforms\n",
    "from torch.utils.data import DataLoader"
   ]
  },
  {
   "cell_type": "markdown",
   "metadata": {},
   "source": [
    "### 2) Set hyperparameters"
   ]
  },
  {
   "cell_type": "code",
   "execution_count": 2,
   "metadata": {},
   "outputs": [],
   "source": [
    "batch_size = 256\n",
    "learning_rate = 0.0002\n",
    "num_epoch = 100\n",
    "use_cuda = True\n",
    "#device = torch.device(\"cuda\" if use_cuda else \"cpu\")\n",
    "device = torch.device(\"cuda\" if torch.cuda.is_available() else \"cpu\")"
   ]
  },
  {
   "cell_type": "markdown",
   "metadata": {},
   "source": [
    "## 2. Data Generation\n",
    "\n",
    "### 1) Download Data"
   ]
  },
  {
   "cell_type": "code",
   "execution_count": 3,
   "metadata": {
    "scrolled": true
   },
   "outputs": [
    {
     "name": "stdout",
     "output_type": "stream",
     "text": [
      "Downloading https://www.cs.toronto.edu/~kriz/cifar-10-python.tar.gz to ./cifar-10-python.tar.gz\n",
      "Files already downloaded and verified\n"
     ]
    }
   ],
   "source": [
    "mnist_train = dset.CIFAR10(\"./\", train=True, transform=transforms.ToTensor(), target_transform=None, download=True)\n",
    "mnist_test = dset.CIFAR10(\"./\", train=False, transform=transforms.ToTensor(), target_transform=None, download=True)"
   ]
  },
  {
   "cell_type": "markdown",
   "metadata": {},
   "source": [
    "### 2) Check Dataset"
   ]
  },
  {
   "cell_type": "code",
   "execution_count": 4,
   "metadata": {},
   "outputs": [
    {
     "name": "stdout",
     "output_type": "stream",
     "text": [
      "torch.Size([3, 32, 32]) 50000\n"
     ]
    },
    {
     "data": {
      "text/plain": [
       "(torch.Size([3, 32, 32]), 10000)"
      ]
     },
     "execution_count": 4,
     "metadata": {},
     "output_type": "execute_result"
    }
   ],
   "source": [
    "print(mnist_train.__getitem__(0)[0].size(), mnist_train.__len__())\n",
    "mnist_test.__getitem__(0)[0].size(), mnist_test.__len__()"
   ]
  },
  {
   "cell_type": "markdown",
   "metadata": {},
   "source": [
    "### 3) Set DataLoader"
   ]
  },
  {
   "cell_type": "code",
   "execution_count": 5,
   "metadata": {},
   "outputs": [],
   "source": [
    "train_loader = torch.utils.data.DataLoader(mnist_train,batch_size=batch_size, shuffle=True,num_workers=2,drop_last=True)\n",
    "test_loader = torch.utils.data.DataLoader(mnist_test,batch_size=batch_size, shuffle=False,num_workers=2,drop_last=True)"
   ]
  },
  {
   "cell_type": "markdown",
   "metadata": {},
   "source": [
    "## 3. Model & Optimizer\n",
    "\n",
    "### 1) CNN Model"
   ]
  },
  {
   "cell_type": "code",
   "execution_count": 6,
   "metadata": {},
   "outputs": [],
   "source": [
    "class CNN(nn.Module):\n",
    "    def __init__(self):\n",
    "        super(CNN,self).__init__()\n",
    "        self.layer = nn.Sequential(\n",
    "            nn.Conv2d(3,16,3,padding=1),\n",
    "            nn.ReLU(),\n",
    "            nn.Conv2d(16,32,3,padding=1),\n",
    "            nn.ReLU(),\n",
    "            nn.MaxPool2d(2,2), # 32 x 16 x 16\n",
    "            \n",
    "            nn.Conv2d(32,64,3,padding=1),\n",
    "            nn.ReLU(),\n",
    "            nn.Conv2d(64,128,3,padding=1),\n",
    "            nn.ReLU(),\n",
    "            nn.MaxPool2d(2,2), # 128 x 8 x 8\n",
    "            \n",
    "            nn.Conv2d(128,256,3,padding=1),\n",
    "            nn.ReLU(),\n",
    "            nn.Conv2d(256,256,3,padding=1),\n",
    "            nn.ReLU(),\n",
    "            nn.MaxPool2d(2,2)\n",
    "        )\n",
    "        self.fc_layer = nn.Sequential(\n",
    "            nn.Linear(256*4*4,200),\n",
    "            nn.ReLU(),\n",
    "            nn.Linear(200,10)\n",
    "        )       \n",
    "        \n",
    "    def forward(self,x):\n",
    "        out = self.layer(x)\n",
    "        out = out.view(batch_size,-1)\n",
    "        out = self.fc_layer(out)\n",
    "\n",
    "        return out\n",
    "\n",
    "model = CNN()\n",
    "\n",
    "model = model.to(device)"
   ]
  },
  {
   "cell_type": "markdown",
   "metadata": {},
   "source": [
    "### 2) Loss func & Optimizer"
   ]
  },
  {
   "cell_type": "code",
   "execution_count": 7,
   "metadata": {},
   "outputs": [],
   "source": [
    "loss_func = nn.CrossEntropyLoss()\n",
    "optimizer = torch.optim.Adam(model.parameters(), lr=learning_rate)"
   ]
  },
  {
   "cell_type": "markdown",
   "metadata": {},
   "source": [
    "### 3) Load Model"
   ]
  },
  {
   "cell_type": "code",
   "execution_count": 8,
   "metadata": {},
   "outputs": [
    {
     "name": "stdout",
     "output_type": "stream",
     "text": [
      "model not restored\n"
     ]
    }
   ],
   "source": [
    "try:\n",
    "    model = torch.load('./cifar_model.pkl')\n",
    "    print(\"model restored\")\n",
    "except:\n",
    "    print(\"model not restored\")"
   ]
  },
  {
   "cell_type": "markdown",
   "metadata": {},
   "source": [
    "## 4. Train "
   ]
  },
  {
   "cell_type": "code",
   "execution_count": 9,
   "metadata": {},
   "outputs": [
    {
     "name": "stdout",
     "output_type": "stream",
     "text": [
      "tensor(2.3010, device='cuda:0') 0 0\n"
     ]
    },
    {
     "name": "stderr",
     "output_type": "stream",
     "text": [
      "/usr/local/lib/python3.5/dist-packages/torch/serialization.py:241: UserWarning: Couldn't retrieve source code for container of type CNN. It won't be checked for correctness upon loading.\n",
      "  \"type \" + obj.__name__ + \". It won't be checked \"\n"
     ]
    },
    {
     "name": "stdout",
     "output_type": "stream",
     "text": [
      "tensor(1.8717, device='cuda:0') 0 100\n",
      "tensor(1.7617, device='cuda:0') 1 0\n",
      "tensor(1.6257, device='cuda:0') 1 100\n",
      "tensor(1.5011, device='cuda:0') 2 0\n",
      "tensor(1.4637, device='cuda:0') 2 100\n",
      "tensor(1.3285, device='cuda:0') 3 0\n",
      "tensor(1.4044, device='cuda:0') 3 100\n",
      "tensor(1.2550, device='cuda:0') 4 0\n",
      "tensor(1.2476, device='cuda:0') 4 100\n",
      "tensor(1.1756, device='cuda:0') 5 0\n",
      "tensor(1.2089, device='cuda:0') 5 100\n",
      "tensor(1.2244, device='cuda:0') 6 0\n",
      "tensor(1.2912, device='cuda:0') 6 100\n",
      "tensor(1.1732, device='cuda:0') 7 0\n",
      "tensor(1.0040, device='cuda:0') 7 100\n",
      "tensor(1.1060, device='cuda:0') 8 0\n",
      "tensor(0.9828, device='cuda:0') 8 100\n",
      "tensor(1.0039, device='cuda:0') 9 0\n",
      "tensor(0.9571, device='cuda:0') 9 100\n",
      "tensor(0.8609, device='cuda:0') 10 0\n",
      "tensor(0.9888, device='cuda:0') 10 100\n",
      "tensor(0.8249, device='cuda:0') 11 0\n",
      "tensor(0.9539, device='cuda:0') 11 100\n",
      "tensor(0.9242, device='cuda:0') 12 0\n",
      "tensor(0.8847, device='cuda:0') 12 100\n",
      "tensor(0.8218, device='cuda:0') 13 0\n",
      "tensor(0.8320, device='cuda:0') 13 100\n",
      "tensor(0.7418, device='cuda:0') 14 0\n",
      "tensor(0.8472, device='cuda:0') 14 100\n",
      "tensor(0.8258, device='cuda:0') 15 0\n",
      "tensor(0.8746, device='cuda:0') 15 100\n",
      "tensor(0.7863, device='cuda:0') 16 0\n",
      "tensor(0.7206, device='cuda:0') 16 100\n",
      "tensor(0.6506, device='cuda:0') 17 0\n",
      "tensor(0.7436, device='cuda:0') 17 100\n",
      "tensor(0.6756, device='cuda:0') 18 0\n",
      "tensor(0.6758, device='cuda:0') 18 100\n",
      "tensor(0.6469, device='cuda:0') 19 0\n",
      "tensor(0.7077, device='cuda:0') 19 100\n",
      "tensor(0.7082, device='cuda:0') 20 0\n",
      "tensor(0.7149, device='cuda:0') 20 100\n",
      "tensor(0.6195, device='cuda:0') 21 0\n",
      "tensor(0.6557, device='cuda:0') 21 100\n",
      "tensor(0.4947, device='cuda:0') 22 0\n",
      "tensor(0.5552, device='cuda:0') 22 100\n",
      "tensor(0.6292, device='cuda:0') 23 0\n",
      "tensor(0.6132, device='cuda:0') 23 100\n",
      "tensor(0.5499, device='cuda:0') 24 0\n",
      "tensor(0.5891, device='cuda:0') 24 100\n",
      "tensor(0.4604, device='cuda:0') 25 0\n",
      "tensor(0.4980, device='cuda:0') 25 100\n",
      "tensor(0.3952, device='cuda:0') 26 0\n",
      "tensor(0.4686, device='cuda:0') 26 100\n",
      "tensor(0.4229, device='cuda:0') 27 0\n",
      "tensor(0.3231, device='cuda:0') 27 100\n",
      "tensor(0.3911, device='cuda:0') 28 0\n",
      "tensor(0.4162, device='cuda:0') 28 100\n",
      "tensor(0.2796, device='cuda:0') 29 0\n",
      "tensor(0.3912, device='cuda:0') 29 100\n",
      "tensor(0.2558, device='cuda:0') 30 0\n",
      "tensor(0.3303, device='cuda:0') 30 100\n",
      "tensor(0.3342, device='cuda:0') 31 0\n",
      "tensor(0.3587, device='cuda:0') 31 100\n",
      "tensor(0.2679, device='cuda:0') 32 0\n",
      "tensor(0.1861, device='cuda:0') 32 100\n",
      "tensor(0.1496, device='cuda:0') 33 0\n",
      "tensor(0.2487, device='cuda:0') 33 100\n",
      "tensor(0.2164, device='cuda:0') 34 0\n",
      "tensor(0.1716, device='cuda:0') 34 100\n",
      "tensor(0.1603, device='cuda:0') 35 0\n",
      "tensor(0.1644, device='cuda:0') 35 100\n",
      "tensor(0.1263, device='cuda:0') 36 0\n",
      "tensor(0.2241, device='cuda:0') 36 100\n",
      "tensor(0.1313, device='cuda:0') 37 0\n",
      "tensor(0.1315, device='cuda:0') 37 100\n",
      "tensor(0.0995, device='cuda:0') 38 0\n",
      "tensor(0.1399, device='cuda:0') 38 100\n",
      "tensor(0.0932, device='cuda:0') 39 0\n",
      "tensor(0.0914, device='cuda:0') 39 100\n",
      "tensor(0.0785, device='cuda:0') 40 0\n",
      "tensor(0.0645, device='cuda:0') 40 100\n",
      "tensor(0.0901, device='cuda:0') 41 0\n",
      "tensor(0.0575, device='cuda:0') 41 100\n",
      "tensor(0.0615, device='cuda:0') 42 0\n",
      "tensor(0.0707, device='cuda:0') 42 100\n",
      "tensor(0.0537, device='cuda:0') 43 0\n",
      "tensor(0.0372, device='cuda:0') 43 100\n",
      "tensor(0.0384, device='cuda:0') 44 0\n",
      "tensor(0.0209, device='cuda:0') 44 100\n",
      "tensor(0.1186, device='cuda:0') 45 0\n",
      "tensor(0.0593, device='cuda:0') 45 100\n",
      "tensor(0.0590, device='cuda:0') 46 0\n",
      "tensor(0.0989, device='cuda:0') 46 100\n",
      "tensor(0.0381, device='cuda:0') 47 0\n",
      "tensor(0.0589, device='cuda:0') 47 100\n",
      "tensor(0.0317, device='cuda:0') 48 0\n",
      "tensor(0.0270, device='cuda:0') 48 100\n",
      "tensor(0.0395, device='cuda:0') 49 0\n",
      "tensor(0.0266, device='cuda:0') 49 100\n",
      "tensor(0.0543, device='cuda:0') 50 0\n",
      "tensor(0.0414, device='cuda:0') 50 100\n",
      "tensor(0.0518, device='cuda:0') 51 0\n",
      "tensor(0.1648, device='cuda:0') 51 100\n",
      "tensor(0.0289, device='cuda:0') 52 0\n",
      "tensor(0.0264, device='cuda:0') 52 100\n",
      "tensor(0.0048, device='cuda:0') 53 0\n",
      "tensor(0.0191, device='cuda:0') 53 100\n",
      "tensor(0.0258, device='cuda:0') 54 0\n",
      "tensor(0.0327, device='cuda:0') 54 100\n",
      "tensor(0.0411, device='cuda:0') 55 0\n",
      "tensor(0.0412, device='cuda:0') 55 100\n",
      "tensor(0.0456, device='cuda:0') 56 0\n",
      "tensor(0.0217, device='cuda:0') 56 100\n",
      "tensor(0.0565, device='cuda:0') 57 0\n",
      "tensor(0.0225, device='cuda:0') 57 100\n",
      "tensor(0.0295, device='cuda:0') 58 0\n",
      "tensor(0.0207, device='cuda:0') 58 100\n",
      "tensor(0.1006, device='cuda:0') 59 0\n",
      "tensor(0.0157, device='cuda:0') 59 100\n",
      "tensor(0.0173, device='cuda:0') 60 0\n",
      "tensor(0.0133, device='cuda:0') 60 100\n",
      "tensor(0.0142, device='cuda:0') 61 0\n",
      "tensor(0.0190, device='cuda:0') 61 100\n",
      "tensor(0.0124, device='cuda:0') 62 0\n",
      "tensor(0.0627, device='cuda:0') 62 100\n",
      "tensor(0.0311, device='cuda:0') 63 0\n",
      "tensor(0.0172, device='cuda:0') 63 100\n",
      "tensor(0.0033, device='cuda:0') 64 0\n",
      "tensor(0.0287, device='cuda:0') 64 100\n",
      "tensor(0.0322, device='cuda:0') 65 0\n",
      "tensor(0.0219, device='cuda:0') 65 100\n",
      "tensor(0.0174, device='cuda:0') 66 0\n",
      "tensor(0.0117, device='cuda:0') 66 100\n",
      "tensor(0.0063, device='cuda:0') 67 0\n",
      "tensor(0.0090, device='cuda:0') 67 100\n",
      "tensor(0.0321, device='cuda:0') 68 0\n",
      "tensor(0.0415, device='cuda:0') 68 100\n",
      "tensor(0.1476, device='cuda:0') 69 0\n",
      "tensor(0.0288, device='cuda:0') 69 100\n",
      "tensor(0.0149, device='cuda:0') 70 0\n",
      "tensor(0.0190, device='cuda:0') 70 100\n",
      "tensor(0.0040, device='cuda:0') 71 0\n",
      "tensor(0.0047, device='cuda:0') 71 100\n",
      "tensor(0.0015, device='cuda:0') 72 0\n",
      "tensor(0.0007, device='cuda:0') 72 100\n",
      "tensor(0.0002, device='cuda:0') 73 0\n",
      "tensor(0.0002, device='cuda:0') 73 100\n",
      "tensor(0.0002, device='cuda:0') 74 0\n",
      "tensor(0.0002, device='cuda:0') 74 100\n",
      "tensor(0.0001, device='cuda:0') 75 0\n",
      "tensor(0.0001, device='cuda:0') 75 100\n",
      "tensor(0.0001, device='cuda:0') 76 0\n",
      "tensor(0.0001, device='cuda:0') 76 100\n",
      "tensor(0.0001, device='cuda:0') 77 0\n",
      "tensor(0.0001, device='cuda:0') 77 100\n",
      "tensor(0.0001, device='cuda:0') 78 0\n",
      "tensor(0.0001, device='cuda:0') 78 100\n",
      "tensor(0.0001, device='cuda:0') 79 0\n",
      "tensor(0.0001, device='cuda:0') 79 100\n",
      "tensor(0.0001, device='cuda:0') 80 0\n",
      "tensor(0.0001, device='cuda:0') 80 100\n",
      "tensor(0.0001, device='cuda:0') 81 0\n",
      "tensor(0.0001, device='cuda:0') 81 100\n",
      "tensor(0.0001, device='cuda:0') 82 0\n",
      "tensor(0.0001, device='cuda:0') 82 100\n",
      "tensor(0.0000, device='cuda:0') 83 0\n",
      "tensor(0.0001, device='cuda:0') 83 100\n",
      "tensor(0.0001, device='cuda:0') 84 0\n",
      "tensor(0.0000, device='cuda:0') 84 100\n",
      "tensor(0.0000, device='cuda:0') 85 0\n",
      "tensor(0.0000, device='cuda:0') 85 100\n",
      "tensor(0.0000, device='cuda:0') 86 0\n",
      "tensor(0.0000, device='cuda:0') 86 100\n",
      "tensor(0.0001, device='cuda:0') 87 0\n",
      "tensor(0.0000, device='cuda:0') 87 100\n",
      "tensor(0.0000, device='cuda:0') 88 0\n",
      "tensor(0.0000, device='cuda:0') 88 100\n",
      "tensor(0.0000, device='cuda:0') 89 0\n",
      "tensor(0.0000, device='cuda:0') 89 100\n",
      "tensor(0.0000, device='cuda:0') 90 0\n",
      "tensor(0.0000, device='cuda:0') 90 100\n",
      "tensor(0.0000, device='cuda:0') 91 0\n",
      "tensor(0.0000, device='cuda:0') 91 100\n",
      "tensor(0.0000, device='cuda:0') 92 0\n",
      "tensor(0.0000, device='cuda:0') 92 100\n",
      "tensor(0.0000, device='cuda:0') 93 0\n",
      "tensor(0.0000, device='cuda:0') 93 100\n",
      "tensor(0.0000, device='cuda:0') 94 0\n",
      "tensor(0.0000, device='cuda:0') 94 100\n",
      "tensor(0.0000, device='cuda:0') 95 0\n",
      "tensor(0.0000, device='cuda:0') 95 100\n",
      "tensor(0.0000, device='cuda:0') 96 0\n",
      "tensor(0.0000, device='cuda:0') 96 100\n",
      "tensor(0.0000, device='cuda:0') 97 0\n",
      "tensor(0.0000, device='cuda:0') 97 100\n",
      "tensor(0.0000, device='cuda:0') 98 0\n",
      "tensor(0.0000, device='cuda:0') 98 100\n",
      "tensor(9.5777e-06, device='cuda:0') 99 0\n",
      "tensor(0.0000, device='cuda:0') 99 100\n"
     ]
    }
   ],
   "source": [
    "for i in range(num_epoch):\n",
    "    for j,[image,label] in enumerate(train_loader):\n",
    "        x = image.to(device)\n",
    "        y_= label.to(device)\n",
    "        \n",
    "        output = model.forward(x)\n",
    "        loss = loss_func(output,y_)\n",
    "        \n",
    "        loss.backward()\n",
    "        optimizer.step()\n",
    "        optimizer.zero_grad()\n",
    "        \n",
    "        if j % 100 == 0:\n",
    "            print(loss.data,i,j)\n",
    "            torch.save(model,'./cifar_model.pkl')"
   ]
  },
  {
   "cell_type": "code",
   "execution_count": 10,
   "metadata": {},
   "outputs": [
    {
     "name": "stdout",
     "output_type": "stream",
     "text": [
      "[Sequential(\n",
      "  (0): Conv2d(3, 16, kernel_size=(3, 3), stride=(1, 1), padding=(1, 1))\n",
      "  (1): ReLU()\n",
      "  (2): Conv2d(16, 32, kernel_size=(3, 3), stride=(1, 1), padding=(1, 1))\n",
      "  (3): ReLU()\n",
      "  (4): MaxPool2d(kernel_size=2, stride=2, padding=0, dilation=1, ceil_mode=False)\n",
      "  (5): Conv2d(32, 64, kernel_size=(3, 3), stride=(1, 1), padding=(1, 1))\n",
      "  (6): ReLU()\n",
      "  (7): Conv2d(64, 128, kernel_size=(3, 3), stride=(1, 1), padding=(1, 1))\n",
      "  (8): ReLU()\n",
      "  (9): MaxPool2d(kernel_size=2, stride=2, padding=0, dilation=1, ceil_mode=False)\n",
      "  (10): Conv2d(128, 256, kernel_size=(3, 3), stride=(1, 1), padding=(1, 1))\n",
      "  (11): ReLU()\n",
      "  (12): Conv2d(256, 256, kernel_size=(3, 3), stride=(1, 1), padding=(1, 1))\n",
      "  (13): ReLU()\n",
      "  (14): MaxPool2d(kernel_size=2, stride=2, padding=0, dilation=1, ceil_mode=False)\n",
      "), Sequential(\n",
      "  (0): Linear(in_features=4096, out_features=200, bias=True)\n",
      "  (1): ReLU()\n",
      "  (2): Linear(in_features=200, out_features=10, bias=True)\n",
      ")]\n"
     ]
    }
   ],
   "source": [
    "param_list = list(model.children())\n",
    "print(param_list)"
   ]
  },
  {
   "cell_type": "markdown",
   "metadata": {},
   "source": [
    "## 5. Test"
   ]
  },
  {
   "cell_type": "code",
   "execution_count": 11,
   "metadata": {},
   "outputs": [
    {
     "name": "stdout",
     "output_type": "stream",
     "text": [
      "Accuracy of Test Data: 72.43589782714844\n"
     ]
    }
   ],
   "source": [
    "correct = 0\n",
    "total = 0\n",
    "\n",
    "with torch.no_grad():\n",
    "    for image,label in test_loader:\n",
    "\n",
    "        x = image.to(device)\n",
    "        y_= label.to(device) \n",
    "\n",
    "        output = model.forward(x)\n",
    "        _,output_index = torch.max(output,1)\n",
    "\n",
    "        total += label.size(0)\n",
    "        correct += (output_index == y_).sum().float()\n",
    "    \n",
    "print(\"Accuracy of Test Data: {}\".format(100*correct/total))"
   ]
  },
  {
   "cell_type": "code",
   "execution_count": null,
   "metadata": {},
   "outputs": [],
   "source": []
  },
  {
   "cell_type": "code",
   "execution_count": null,
   "metadata": {},
   "outputs": [],
   "source": []
  }
 ],
 "metadata": {
  "kernelspec": {
   "display_name": "Python 3",
   "language": "python",
   "name": "python3"
  },
  "language_info": {
   "codemirror_mode": {
    "name": "ipython",
    "version": 3
   },
   "file_extension": ".py",
   "mimetype": "text/x-python",
   "name": "python",
   "nbconvert_exporter": "python",
   "pygments_lexer": "ipython3",
   "version": "3.5.2"
  },
  "toc": {
   "base_numbering": 1,
   "nav_menu": {},
   "number_sections": true,
   "sideBar": true,
   "skip_h1_title": false,
   "title_cell": "Table of Contents",
   "title_sidebar": "Contents",
   "toc_cell": false,
   "toc_position": {},
   "toc_section_display": true,
   "toc_window_display": true
  },
  "varInspector": {
   "cols": {
    "lenName": 16,
    "lenType": 16,
    "lenVar": 40
   },
   "kernels_config": {
    "python": {
     "delete_cmd_postfix": "",
     "delete_cmd_prefix": "del ",
     "library": "var_list.py",
     "varRefreshCmd": "print(var_dic_list())"
    },
    "r": {
     "delete_cmd_postfix": ") ",
     "delete_cmd_prefix": "rm(",
     "library": "var_list.r",
     "varRefreshCmd": "cat(var_dic_list()) "
    }
   },
   "types_to_exclude": [
    "module",
    "function",
    "builtin_function_or_method",
    "instance",
    "_Feature"
   ],
   "window_display": false
  }
 },
 "nbformat": 4,
 "nbformat_minor": 1
}
