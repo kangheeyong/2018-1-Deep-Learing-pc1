{
 "cells": [
  {
   "cell_type": "code",
   "execution_count": 1,
   "metadata": {},
   "outputs": [
    {
     "data": {
      "text/plain": [
       "array([[0.329208, 0.329827, 0.331068, ..., 0.553091, 0.553167, 0.553406],\n",
       "       [0.326925, 0.326691, 0.328892, ..., 0.573149, 0.573332, 0.573527],\n",
       "       [0.330801, 0.33074 , 0.333337, ..., 0.572953, 0.573076, 0.573284],\n",
       "       ...,\n",
       "       [0.353055, 0.353068, 0.353291, ..., 0.541085, 0.541004, 0.541221],\n",
       "       [0.363307, 0.359335, 0.364728, ..., 0.550415, 0.550514, 0.550546],\n",
       "       [0.360455, 0.357416, 0.362392, ..., 0.532155, 0.532242, 0.532282]])"
      ]
     },
     "execution_count": 1,
     "metadata": {},
     "output_type": "execute_result"
    }
   ],
   "source": [
    "import numpy as np\n",
    "import tensorflow as tf\n",
    "from sklearn.metrics import r2_score\n",
    "\n",
    "data = np.loadtxt(\"ftir data.txt\")\n",
    "\n",
    "data"
   ]
  },
  {
   "cell_type": "code",
   "execution_count": 2,
   "metadata": {},
   "outputs": [
    {
     "data": {
      "text/plain": [
       "array([[0.07402855, 0.07623384, 0.0806551 , ..., 0.87164798, 0.87191874,\n",
       "        0.87277022],\n",
       "       [0.06589499, 0.06506133, 0.07290275, ..., 0.94310785, 0.94375982,\n",
       "        0.94445454],\n",
       "       [0.07970387, 0.07948655, 0.08873878, ..., 0.94240957, 0.94284778,\n",
       "        0.94358881],\n",
       "       ...,\n",
       "       [0.15898735, 0.15903366, 0.15982814, ..., 0.82887466, 0.82858609,\n",
       "        0.82935918],\n",
       "       [0.19551176, 0.18136087, 0.2005743 , ..., 0.8621143 , 0.862467  ,\n",
       "        0.86258101],\n",
       "       [0.18535105, 0.17452412, 0.19225192, ..., 0.79706009, 0.79737004,\n",
       "        0.79751255]])"
      ]
     },
     "execution_count": 2,
     "metadata": {},
     "output_type": "execute_result"
    }
   ],
   "source": [
    "n_data = ((data-np.min(data))/(np.max(data)-np.min(data)))\n",
    "n_data"
   ]
  },
  {
   "cell_type": "code",
   "execution_count": null,
   "metadata": {},
   "outputs": [
    {
     "name": "stdout",
     "output_type": "stream",
     "text": [
      "0 0.20812489\n",
      "100 0.19551139\n",
      "200 0.004682517\n",
      "300 0.003076595\n"
     ]
    }
   ],
   "source": [
    "X_data = n_data\n",
    "Y_data = n_data\n",
    "\n",
    "tf.set_random_seed(777)  # for reproducibility\n",
    "learning_rate = 0.001\n",
    "\n",
    "X = tf.placeholder(tf.float32, [25, 1738])\n",
    "Y = tf.placeholder(tf.float32, [None, 1738])\n",
    "\n",
    "W1 = tf.Variable(tf.random_normal([1738, 500],stddev=0.01), name='weight1')\n",
    "b1 = tf.Variable(tf.random_normal([500], stddev=0.01), name='bias1')\n",
    "layer1 = tf.nn.elu(tf.matmul(X, W1) + b1)\n",
    "\n",
    "W2 = tf.Variable(tf.random_normal([500, 1738],stddev = 0.01), name='weight2')\n",
    "b2 = tf.Variable(tf.random_normal([1738], stddev=0.01), name='bias2')\n",
    "hypothesis = tf.nn.tanh(tf.matmul(layer1, W2) + b2)\n",
    "\n",
    "# cost/loss function\n",
    "cost = tf.reduce_mean(tf.square(Y-hypothesis))\n",
    "\n",
    "train = tf.train.AdamOptimizer(learning_rate=learning_rate,beta1=0.5).minimize(cost)\n",
    "\n",
    "sess = tf.Session()\n",
    "    # Initialize TensorFlow variables\n",
    "sess.run(tf.global_variables_initializer())\n",
    "\n",
    "for step in range(10000):\n",
    "    sess.run(train, feed_dict={X: X_data, Y: Y_data})\n",
    "    if step % 100 == 0:\n",
    "        print(step, sess.run(cost, feed_dict={X: X_data, Y: Y_data})) \n",
    "    \n",
    "h = sess.run(hypothesis, feed_dict={X: X_data})\n",
    "    \n",
    "print(\"\\nHypothesis: \")\n",
    "print(h*(np.max(n_data)-np.min(n_data))+np.min(n_data))\n",
    "\n",
    "\n",
    "    "
   ]
  },
  {
   "cell_type": "code",
   "execution_count": 5,
   "metadata": {},
   "outputs": [],
   "source": [
    "a = h*(np.max(n_data)-np.min(n_data))+np.min(n_data)\n",
    "np.savetxt('after autoencoder.txt', a, delimiter = ',')"
   ]
  },
  {
   "cell_type": "code",
   "execution_count": null,
   "metadata": {},
   "outputs": [],
   "source": []
  }
 ],
 "metadata": {
  "kernelspec": {
   "display_name": "Python 3",
   "language": "python",
   "name": "python3"
  },
  "language_info": {
   "codemirror_mode": {
    "name": "ipython",
    "version": 3
   },
   "file_extension": ".py",
   "mimetype": "text/x-python",
   "name": "python",
   "nbconvert_exporter": "python",
   "pygments_lexer": "ipython3",
   "version": "3.6.4"
  }
 },
 "nbformat": 4,
 "nbformat_minor": 2
}
