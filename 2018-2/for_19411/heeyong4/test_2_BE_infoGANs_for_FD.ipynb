{
 "cells": [
  {
   "cell_type": "markdown",
   "metadata": {
    "code_folding": [
     17,
     21,
     25,
     29,
     33,
     44
    ]
   },
   "source": [
    "# Boundary Equilibrimum infoGANs for Fault Detection example\n",
    "\n",
    "## 초기 설정들"
   ]
  },
  {
   "cell_type": "code",
   "execution_count": 1,
   "metadata": {
    "code_folding": [
     17,
     21,
     25,
     29,
     33,
     44,
     63
    ]
   },
   "outputs": [
    {
     "name": "stdout",
     "output_type": "stream",
     "text": [
      "test_normal_data :  (5139, 64, 64, 1)\n",
      "test_anomalous_data :  (4861, 64, 64, 1)\n",
      "train_normal_data :  (28038, 64, 64, 1)\n",
      "train_anomalous_data :  (26962, 64, 64, 1)\n"
     ]
    }
   ],
   "source": [
    "import tensorflow as tf\n",
    "import numpy as np\n",
    "import os\n",
    "import sys\n",
    "import time\n",
    "import time \n",
    "import matplotlib.pyplot as plt\n",
    "import matplotlib.gridspec as gridspec \n",
    "\n",
    "os.environ[\"CUDA_VISIBLE_DEVICES\"]=\"0\"\n",
    "\n",
    "\n",
    "import pickle\n",
    "import gzip\n",
    "\n",
    "file_dir = 'anoGANs_MNIST_data/'\n",
    "\n",
    "with gzip.open(file_dir + 'test_normal_data.pickle.gzip','rb') as f :\n",
    "    test_normal_data = pickle.load(f)\n",
    "    print('test_normal_data : ' ,test_normal_data.shape)\n",
    "\n",
    "with gzip.open(file_dir + 'test_anomalous_data.pickle.gzip','rb') as f :\n",
    "    test_anomalous_data = pickle.load(f)\n",
    "    print('test_anomalous_data : ',test_anomalous_data.shape)\n",
    "    \n",
    "with gzip.open(file_dir + 'train_normal_data.pickle.gzip','rb') as f :\n",
    "    train_normal_data = pickle.load(f)\n",
    "    print('train_normal_data : ', train_normal_data.shape)\n",
    "    \n",
    "with gzip.open(file_dir + 'train_anomalous_data.pickle.gzip','rb') as f :\n",
    "    train_anomalous_data = pickle.load(f)\n",
    "    print('train_anomalous_data : ',train_anomalous_data.shape )\n",
    "\n",
    "def idx_shuffle(x) : \n",
    "    l = x.shape[0]\n",
    "    idx = np.arange(l)\n",
    "    np.random.shuffle(idx)\n",
    "    shuffled_x = np.empty(x.shape)\n",
    "\n",
    "    for i in range(l):\n",
    "        shuffled_x[idx[i]] = x[i]\n",
    "    \n",
    "    return shuffled_x\n",
    "\n",
    "def mnist_4by4_save(samples,path):\n",
    "    fig = plt.figure(figsize=(4, 4))\n",
    "    gs = gridspec.GridSpec(4, 4)    \n",
    "    gs.update(wspace=0.05, hspace=0.05) #이미지 사이간격 조절\n",
    "  \n",
    "    for i, sample in enumerate(samples):\n",
    "        ax = plt.subplot(gs[i])\n",
    "        plt.axis('off')    \n",
    "        ax.set_xticklabels([])\n",
    "        ax.set_yticklabels([])\n",
    "        ax.set_aspect('equal')\n",
    "   \n",
    "        plt.imshow(sample.reshape(64, 64), cmap='Greys_r',clim=(0.0,1.0))\n",
    "    plt.colorbar()\n",
    "    plt.savefig(path, bbox_inches='tight')\n",
    "    plt.close(fig)\n",
    "   \n",
    "    return None\n",
    "\n",
    "def gan_loss_graph_save(G_loss,D_loss,path):\n",
    "    x1 = range(len(G_loss))\n",
    "    x2 = range(len(D_loss))\n",
    "      \n",
    "    y1 = G_loss\n",
    "    y2 = D_loss\n",
    "  \n",
    "      \n",
    "    plt.plot(x1,y1,label='G_loss') \n",
    "    plt.plot(x2,y2,label='D_loss') \n",
    "  \n",
    "    plt.xlabel('weight per update')\n",
    "    plt.ylabel('loss')             \n",
    "    plt.legend(loc=4)              \n",
    "    plt.grid(True)\n",
    "    plt.tight_layout()\n",
    "  \n",
    "    plt.savefig(path)              \n",
    "\n",
    "    return None\n",
    "\n",
    "#file_name = 'ex_BE_infoGANs_for_FD_v2'\n",
    "file_name = 'test2_BE_infoGANs_for_FD'\n"
   ]
  },
  {
   "cell_type": "markdown",
   "metadata": {},
   "source": [
    "## network load"
   ]
  },
  {
   "cell_type": "code",
   "execution_count": 2,
   "metadata": {},
   "outputs": [
    {
     "name": "stdout",
     "output_type": "stream",
     "text": [
      "INFO:tensorflow:Restoring parameters from test2_BE_infoGANs_for_FD/para.cktp\n"
     ]
    }
   ],
   "source": [
    "if not os.path.isdir(file_name) :\n",
    "    os.mkdir(file_name)\n",
    "\n",
    "    \n",
    "sess = tf.InteractiveSession()\n",
    "    \n",
    "new_saver = tf.train.import_meta_graph(file_name + '/para.cktp.meta')\n",
    "new_saver.restore(sess, tf.train.latest_checkpoint(file_name + '/'))\n",
    "\n",
    "\n",
    "z = sess.graph.get_tensor_by_name(\"z:0\")\n",
    "c = sess.graph.get_tensor_by_name(\"c:0\")\n",
    "u = sess.graph.get_tensor_by_name(\"u:0\")\n",
    "k = sess.graph.get_tensor_by_name(\"k:0\")\n",
    "\n",
    "isTrain = sess.graph.get_tensor_by_name(\"isTrain:0\")\n",
    "\n",
    "G_sample = sess.graph.get_tensor_by_name(\"G_sample:0\")\n",
    "E_z = sess.graph.get_tensor_by_name(\"E_z:0\")\n",
    "E_c = sess.graph.get_tensor_by_name(\"Reshape:0\")\n",
    "\n",
    "\n",
    "\n",
    "re_image = sess.graph.get_tensor_by_name(\"re_image:0\")\n",
    "re_z = sess.graph.get_tensor_by_name(\"re_z:0\")\n",
    "re_c = sess.graph.get_tensor_by_name(\"Reshape_1:0\")\n",
    "\n",
    "re_z_loss = sess.graph.get_tensor_by_name(\"re_z_loss:0\")\n",
    "re_c_loss = sess.graph.get_tensor_by_name(\"re_c_loss:0\")\n",
    "re_image_loss = sess.graph.get_tensor_by_name(\"re_image_loss:0\")\n",
    "\n",
    "\n",
    "E_loss = sess.graph.get_tensor_by_name(\"E_loss:0\")\n",
    "\n",
    "D_real = sess.graph.get_tensor_by_name('D_real:0')                       # D(x)\n",
    "D_fake = sess.graph.get_tensor_by_name('D_fake:0')         # D(G(z))\n",
    "Q_fake = sess.graph.get_tensor_by_name(\"Q_fake:0\")\n",
    "\n",
    "\n",
    "D_enc = sess.graph.get_tensor_by_name(\"D_enc_1:0\")\n",
    "\n",
    "D_real_loss = sess.graph.get_tensor_by_name('D_real_loss:0')\n",
    "D_fake_loss = sess.graph.get_tensor_by_name('D_fake_loss:0')\n",
    "\n",
    "D_loss = sess.graph.get_tensor_by_name(\"D_loss:0\")\n",
    "G_loss = sess.graph.get_tensor_by_name(\"G_loss:0\")\n",
    "Q_loss  = sess.graph.get_tensor_by_name(\"Q_loss:0\")\n",
    "\n",
    "D_optim = sess.graph.get_operation_by_name(\"D_optim\")\n",
    "G_optim = sess.graph.get_operation_by_name(\"G_optim\")\n",
    "E_optim = sess.graph.get_operation_by_name(\"E_optim\")\n",
    "E_AE_optim = sess.graph.get_operation_by_name(\"E_AE_optim\")\n",
    "\n",
    "\n"
   ]
  },
  {
   "cell_type": "code",
   "execution_count": 3,
   "metadata": {},
   "outputs": [],
   "source": [
    "train_epoch = 15\n",
    "batch_size = 100\n",
    "z_size = 100\n",
    "lam = 0.001\n",
    "gamma = 0.5\n",
    "k_curr = 0.0\n",
    "c_size = 10\n",
    "\n",
    "\n",
    "file_name1 = 'test2_BE_infoGANs_for_FD'\n",
    "\n",
    "\n",
    "if not os.path.isdir(file_name1) :\n",
    "    os.mkdir(file_name1)"
   ]
  },
  {
   "cell_type": "code",
   "execution_count": null,
   "metadata": {},
   "outputs": [],
   "source": []
  },
  {
   "cell_type": "code",
   "execution_count": null,
   "metadata": {},
   "outputs": [],
   "source": [
    "np.random.seed(int(time.time()))\n",
    "\n",
    "\n",
    "one_hot = np.eye(c_size)\n",
    "temp2 = np.array([1,1,1,1,2,2,2,2,3,3,3,3,4,4,4,4])\n",
    "test_c = one_hot[temp2].reshape([-1,1,1,c_size])\n",
    "test_z = np.random.uniform(-1,1,size=(16,1,1,z_size))\n",
    "mnist_4by4_save(np.reshape(test_normal_data[0:16],(-1,64,64,1)),file_name1 + '/normal.png')    \n",
    "mnist_4by4_save(np.reshape(test_anomalous_data[0:16],(-1,64,64,1)),file_name1 + '/anomalous.png')    \n",
    "\n",
    "E_error = []\n",
    "start = time.time()\n",
    "for epoch in range(train_epoch) :\n",
    "\n",
    "    np.random.seed(int(time.time()))\n",
    "    train_normal_data = idx_shuffle(train_normal_data) \n",
    "\n",
    "    for iteration in range(train_normal_data.shape[0] // batch_size) : \n",
    "\n",
    "\n",
    "        train_images = train_normal_data[iteration*batch_size : (iteration+1)*batch_size]      \n",
    "        u_ = np.reshape(train_images,(-1,64,64,1)) \n",
    "        z_ = np.random.uniform(-1,1,size=(batch_size,1,1,z_size))\n",
    "        temp1 = np.random.randint(0,10,(batch_size))                                                                                                                                     \n",
    "        c_ = one_hot[temp1].reshape([-1,1,1,c_size])\n",
    "        \n",
    "        _  = sess.run([E_optim], {u : u_, z : z_, c : c_,isTrain : True})\n",
    "        \n",
    "        _ , E_e = sess.run([E_AE_optim, re_image_loss], {u : u_, z : z_, c : c_,isTrain : True})\n",
    "        E_error.append(E_e)\n",
    "        \n",
    "            \n",
    "\n",
    "\n",
    "    r = sess.run([re_image],feed_dict={u : test_normal_data[0:16],isTrain : False})        \n",
    "    mnist_4by4_save(np.reshape(r,(-1,64,64,1)),file_name1 + '/normal_{}.png'.format(str(epoch).zfill(3)))\n",
    "\n",
    "    r = sess.run([re_image],feed_dict={u : test_anomalous_data[0:16],isTrain : False})        \n",
    "    mnist_4by4_save(np.reshape(r,(-1,64,64,1)),file_name1 + '/anomlous_{}.png'.format(str(epoch).zfill(3)))\n",
    "\n",
    "    print(\"E_e : %.6f\"%(np.mean(E_error)))\n",
    "    E_error = []\n",
    "\n",
    "saver = tf.train.Saver()\n",
    "saver.save(sess,file_name1 + '/para.cktp')\n",
    "\n",
    "end = time.time()-start\n",
    "\n",
    "print(\"total time : \",end)"
   ]
  },
  {
   "cell_type": "code",
   "execution_count": null,
   "metadata": {},
   "outputs": [],
   "source": []
  },
  {
   "cell_type": "code",
   "execution_count": 4,
   "metadata": {},
   "outputs": [],
   "source": [
    "from sklearn.metrics.pairwise import cosine_similarity\n",
    "feature = []\n",
    "cosine = []\n",
    "res_mse = []\n",
    "res_cos = []\n",
    "\n",
    "sign_error = []\n",
    "\n",
    "\n",
    "for iteration in range(test_normal_data.shape[0] // batch_size) : \n",
    "    test_images = test_normal_data[iteration*batch_size : (iteration+1)*batch_size]      \n",
    "    u_ = np.reshape(test_images,(-1,64,64,1)) \n",
    "    \n",
    "    im_enc= sess.run([D_enc],{u : u_,isTrain : False})\n",
    "    im_re, im_z, im_c= sess.run([re_image, E_z, E_c],{u : u_,isTrain : False})\n",
    "    Q_c, im_re_enc= sess.run([Q_fake,D_enc],{u : im_re,z : im_z, c : im_c,isTrain : False})\n",
    "    \n",
    "  \n",
    "    for i in range(batch_size) :\n",
    "        \n",
    "        \n",
    "        residual_e = np.mean(np.sqrt((np.reshape(u_[i],(1,64*64))-np.reshape(im_re[i],(1,64*64)))**2))\n",
    "        residual_cosine = cosine_similarity(np.reshape(u_[i],(1,64*64)),np.reshape(im_re[i],(1,64*64)))\n",
    "        \n",
    "        \n",
    "        feature_e = np.mean(np.sqrt((np.reshape(im_enc[0][i],(-1,100))-np.reshape(im_re_enc[i],(-1,100)))**2))\n",
    "        feature_cosine = cosine_similarity(np.reshape(im_enc[0][i],(-1,100)),np.reshape(im_re_enc[i],(-1,100)))\n",
    "        \n",
    "        sign_e = np.mean(np.abs(np.sign(im_enc)-np.sign(im_re_enc)))\n",
    "        \n",
    "        sign_error.append(sign_e)\n",
    "        \n",
    "        \n",
    "        feature.append(feature_e)\n",
    "        cosine.append(feature_cosine)\n",
    "        res_mse.append(residual_e)\n",
    "        res_cos.append(residual_cosine )\n",
    "\n",
    "    "
   ]
  },
  {
   "cell_type": "code",
   "execution_count": 5,
   "metadata": {},
   "outputs": [],
   "source": [
    "afeature = []\n",
    "acosine = []\n",
    "ares_mse = []\n",
    "ares_cos = []\n",
    "asign_error = []\n",
    "for iteration in range(test_anomalous_data.shape[0] // batch_size) : \n",
    "    test_images = test_anomalous_data[iteration*batch_size : (iteration+1)*batch_size]      \n",
    "    u_ = np.reshape(test_images,(-1,64,64,1)) \n",
    "    \n",
    "    im_enc= sess.run([D_enc],{u : u_,isTrain : False})\n",
    "    \n",
    "    im_re, im_z, im_c= sess.run([re_image, E_z, E_c],{u : u_,isTrain : False})\n",
    "    Q_c, im_re_enc= sess.run([Q_fake,D_enc],{u : im_re,z : im_z, c : im_c,isTrain : False})\n",
    "    \n",
    "    \n",
    "    for i in range(batch_size) :\n",
    "        \n",
    "        residual_e = np.mean(np.sqrt((np.reshape(u_[i],(1,64*64))-np.reshape(im_re[i],(1,64*64)))**2))\n",
    "        residual_cosine = cosine_similarity(np.reshape(u_[i],(1,64*64)),np.reshape(im_re[i],(1,64*64)))\n",
    "        \n",
    "        feature_e = np.mean(np.sqrt((np.reshape(im_enc[0][i],(-1,100))-np.reshape(im_re_enc[i],(-1,100)))**2))\n",
    "        feature_cosine = cosine_similarity(np.reshape(im_enc[0][i],(-1,100)),np.reshape(im_re_enc[i],(-1,100)))\n",
    "        \n",
    "        sign_e = np.mean(np.abs(np.sign(im_enc)-np.sign(im_re_enc)))\n",
    "        \n",
    "        asign_error.append(sign_e)\n",
    "        \n",
    "        \n",
    "        afeature.append(feature_e)\n",
    "        acosine.append(feature_cosine)\n",
    "        ares_mse.append(residual_e)\n",
    "        ares_cos.append(residual_cosine )\n",
    "    \n",
    "\n",
    "\n",
    "\n"
   ]
  },
  {
   "cell_type": "code",
   "execution_count": 6,
   "metadata": {},
   "outputs": [],
   "source": [
    "train_feature = []\n",
    "train_cosine = []\n",
    "train_res_mse = []\n",
    "train_res_cos = []\n",
    "train_sign_error = []\n",
    "\n",
    "for iteration in range(train_normal_data.shape[0] // batch_size) : \n",
    "    test_images = train_normal_data[iteration*batch_size : (iteration+1)*batch_size]      \n",
    "    u_ = np.reshape(test_images,(-1,64,64,1)) \n",
    "    \n",
    "    im_enc= sess.run([D_enc],{u : u_,isTrain : False})\n",
    "    im_re, im_z, im_c= sess.run([re_image, E_z, E_c],{u : u_,isTrain : False})\n",
    "    Q_c, im_re_enc= sess.run([Q_fake,D_enc],{u : im_re,z : im_z, c : im_c,isTrain : False})\n",
    "    \n",
    "  \n",
    "    for i in range(batch_size) :\n",
    "        \n",
    "        residual_e = np.mean(np.sqrt((np.reshape(u_[i],(1,64*64))-np.reshape(im_re[i],(1,64*64)))**2))\n",
    "        residual_cosine = cosine_similarity(np.reshape(u_[i],(1,64*64)),np.reshape(im_re[i],(1,64*64)))\n",
    "        \n",
    "        feature_e = np.mean(np.sqrt((np.reshape(im_enc[0][i],(-1,100))-np.reshape(im_re_enc[i],(-1,100)))**2))\n",
    "        feature_cosine = cosine_similarity(np.reshape(im_enc[0][i],(-1,100)),np.reshape(im_re_enc[i],(-1,100)))\n",
    "        \n",
    "        sign_e = np.mean(np.abs(np.sign(im_enc)-np.sign(im_re_enc)))\n",
    "        \n",
    "        train_sign_error.append(sign_e)\n",
    "        \n",
    "        \n",
    "        train_feature.append(feature_e)\n",
    "        train_cosine.append(feature_cosine)\n",
    "        train_res_mse.append(residual_e)\n",
    "        train_res_cos.append(residual_cosine )\n",
    "            \n",
    "        \n",
    "        "
   ]
  },
  {
   "cell_type": "code",
   "execution_count": 7,
   "metadata": {},
   "outputs": [
    {
     "data": {
      "image/png": "[encoded data removed]",
      "text/plain": [
       "<matplotlib.figure.Figure at 0x7fc98408e6a0>"
      ]
     },
     "metadata": {},
     "output_type": "display_data"
    },
    {
     "data": {
      "image/png": "[encoded data removed]",
      "text/plain": [
       "<matplotlib.figure.Figure at 0x7fcafdf5dc18>"
      ]
     },
     "metadata": {},
     "output_type": "display_data"
    }
   ],
   "source": [
    "\n",
    "import scikitplot as skplt\n",
    "import matplotlib.pyplot as plt\n",
    "\n",
    "\n",
    "plt.hist(np.reshape(feature,-1), bins='auto', alpha=0.6, label=\"normal\",normed=1)  # arguments are passed to np.histogram\n",
    "plt.title(\"feature error\")\n",
    "\n",
    "plt.hist(np.reshape(afeature,-1), bins='auto', alpha=0.6, label=\"anomaous\",normed=1)  # arguments are passed to np.histogram\n",
    "\n",
    "plt.hist(np.reshape(train_feature,-1), bins='auto', alpha=0.6, label=\"train\",normed=1)  # arguments are passed to np.histogram\n",
    "\n",
    "plt.legend()\n",
    "plt.show()    \n",
    "\n",
    "\n",
    "\n",
    "plt.hist(np.reshape(res_mse,-1), bins='auto', alpha=0.6, label=\"normal\",normed=1)  # arguments are passed to np.histogram\n",
    "plt.title(\"residual mes\")\n",
    "\n",
    "\n",
    "\n",
    "plt.hist(np.reshape(ares_mse,-1), bins='auto', alpha=0.6, label=\"anomaous\",normed=1)  # arguments are passed to np.histogram\n",
    "\n",
    "plt.hist(np.reshape(train_res_mse,-1), bins='auto', alpha=0.6, label=\"train\",normed=1)  # arguments are passed to np.histogram\n",
    "\n",
    "plt.legend()\n",
    "plt.show()    \n",
    "\n",
    "\n",
    "\n",
    "\n",
    "\n",
    "\n"
   ]
  },
  {
   "cell_type": "code",
   "execution_count": 8,
   "metadata": {},
   "outputs": [
    {
     "name": "stdout",
     "output_type": "stream",
     "text": [
      "0.854325878268\n"
     ]
    },
    {
     "data": {
      "image/png": "[encoded data removed]",
      "text/plain": [
       "<matplotlib.figure.Figure at 0x7fcafdf72cc0>"
      ]
     },
     "metadata": {},
     "output_type": "display_data"
    },
    {
     "name": "stdout",
     "output_type": "stream",
     "text": [
      "0.786902920752\n"
     ]
    },
    {
     "data": {
      "image/png": "[encoded data removed]",
      "text/plain": [
       "<matplotlib.figure.Figure at 0x7fcafc5e9ac8>"
      ]
     },
     "metadata": {},
     "output_type": "display_data"
    }
   ],
   "source": [
    "\n",
    "label_normal = np.zeros(np.array(feature).shape[0])\n",
    "label_anomalous = np.ones(np.array(afeature).shape[0])\n",
    "\n",
    "test = np.concatenate((label_normal, label_anomalous), axis=0)\n",
    "\n",
    "pred = np.concatenate((np.reshape(feature,-1), np.reshape(afeature,-1)), axis=0)\n",
    "#skplt.metrics.plot_roc_curve(label, data)\n",
    "#plt.show()\n",
    "                      \n",
    "import matplotlib.pyplot as plt\n",
    "from sklearn.metrics import roc_curve, auc, roc_auc_score\n",
    "fpr = dict()\n",
    "tpr = dict()\n",
    "roc_auc = dict()\n",
    "for i in range(2):\n",
    "    fpr[i], tpr[i], _ = roc_curve(test, pred)\n",
    "    roc_auc[i] = auc(fpr[i], tpr[i])\n",
    "print( roc_auc_score(test, pred))\n",
    "plt.figure()\n",
    "plt.plot(fpr[1], tpr[1])\n",
    "plt.xlim([0.0, 1.0])\n",
    "plt.ylim([0.0, 1.0])\n",
    "plt.xlabel('False Positive Rate')\n",
    "plt.ylabel('True Positive Rate')\n",
    "plt.title('feature mse ROC')\n",
    "plt.show()\n",
    "                      \n",
    "\n",
    "\n",
    "label_normal = np.zeros(np.array(res_mse).shape[0])\n",
    "label_anomalous = np.ones(np.array(ares_mse).shape[0])\n",
    "\n",
    "\n",
    "\n",
    "test = np.concatenate((label_normal, label_anomalous), axis=0)\n",
    "\n",
    "pred = np.concatenate((np.reshape(res_mse,-1), np.reshape(ares_mse,-1)), axis=0)\n",
    "#skplt.metrics.plot_roc_curve(label, data)\n",
    "#plt.show()\n",
    "                      \n",
    "import matplotlib.pyplot as plt\n",
    "from sklearn.metrics import roc_curve, auc, roc_auc_score\n",
    "fpr = dict()\n",
    "tpr = dict()\n",
    "roc_auc = dict()\n",
    "for i in range(2):\n",
    "    fpr[i], tpr[i], _ = roc_curve(test, pred)\n",
    "    roc_auc[i] = auc(fpr[i], tpr[i])\n",
    "print( roc_auc_score(test, pred))\n",
    "plt.figure()\n",
    "plt.plot(fpr[1], tpr[1])\n",
    "plt.xlim([0.0, 1.0])\n",
    "plt.ylim([0.0, 1.0])\n",
    "plt.xlabel('False Positive Rate')\n",
    "plt.ylabel('True Positive Rate')\n",
    "plt.title('residual mse ROC')\n",
    "plt.show()                      "
   ]
  },
  {
   "cell_type": "code",
   "execution_count": 9,
   "metadata": {},
   "outputs": [
    {
     "data": {
      "image/png": "[encoded data removed]",
      "text/plain": [
       "<matplotlib.figure.Figure at 0x7fc98406ef28>"
      ]
     },
     "metadata": {},
     "output_type": "display_data"
    },
    {
     "data": {
      "image/png": "[encoded data removed]",
      "text/plain": [
       "<matplotlib.figure.Figure at 0x7fca46f53b38>"
      ]
     },
     "metadata": {},
     "output_type": "display_data"
    },
    {
     "data": {
      "image/png": "[encoded data removed]",
      "text/plain": [
       "<matplotlib.figure.Figure at 0x7fcafe05ae48>"
      ]
     },
     "metadata": {},
     "output_type": "display_data"
    }
   ],
   "source": [
    "plt.hist(np.reshape(sign_error,-1), bins='auto', alpha=0.6, label=\"normal\",normed=1)  # arguments are passed to np.histogram\n",
    "plt.title(\"sign error\")\n",
    "\n",
    "plt.hist(np.reshape(asign_error,-1), bins='auto', alpha=0.6, label=\"anomaous\",normed=1)  # arguments are passed to np.histogram\n",
    "\n",
    "plt.hist(np.reshape(train_sign_error,-1), bins='auto', alpha=0.6, label=\"train\",normed=1)  # arguments are passed to np.histogram\n",
    "\n",
    "plt.legend()\n",
    "plt.show()  \n",
    "\n",
    "\n",
    "\n",
    "\n",
    "\n",
    "\n",
    "\n",
    "plt.hist(np.reshape(cosine,-1), bins='auto', alpha=0.6, label=\"normal\",normed=1)  # arguments are passed to np.histogram\n",
    "plt.title(\"cosine error\")\n",
    "\n",
    "plt.hist(np.reshape(acosine,-1), bins='auto', alpha=0.6, label=\"anomaous\",normed=1)  # arguments are passed to np.histogram\n",
    "\n",
    "plt.hist(np.reshape(train_cosine,-1), bins='auto', alpha=0.6, label=\"train\",normed=1)  # arguments are passed to np.histogram\n",
    "\n",
    "plt.legend()\n",
    "plt.show()  \n",
    "\n",
    "\n",
    "plt.hist(np.reshape(res_cos,-1), bins='auto', alpha=0.6, label=\"normal\",normed=1)  # arguments are passed to np.histogram\n",
    "plt.title(\"residual cosine\")\n",
    "\n",
    "\n",
    "\n",
    "plt.hist(np.reshape(ares_cos,-1), bins='auto', alpha=0.6, label=\"anomaous\",normed=1)  # arguments are passed to np.histogram\n",
    "\n",
    "plt.hist(np.reshape(train_res_cos,-1), bins='auto', alpha=0.6, label=\"train\",normed=1)  # arguments are passed to np.histogram\n",
    "\n",
    "plt.legend()\n",
    "plt.show()    \n",
    "\n",
    "\n",
    "\n"
   ]
  },
  {
   "cell_type": "code",
   "execution_count": 10,
   "metadata": {},
   "outputs": [
    {
     "name": "stdout",
     "output_type": "stream",
     "text": [
      "1.0\n"
     ]
    },
    {
     "data": {
      "image/png": "[encoded data removed]",
      "text/plain": [
       "<matplotlib.figure.Figure at 0x7fcafe0805f8>"
      ]
     },
     "metadata": {},
     "output_type": "display_data"
    },
    {
     "name": "stdout",
     "output_type": "stream",
     "text": [
      "0.861660886438\n"
     ]
    },
    {
     "data": {
      "image/png": "[encoded data removed]",
      "text/plain": [
       "<matplotlib.figure.Figure at 0x7fcafe0bd8d0>"
      ]
     },
     "metadata": {},
     "output_type": "display_data"
    },
    {
     "name": "stdout",
     "output_type": "stream",
     "text": [
      "0.811485947712\n"
     ]
    },
    {
     "data": {
      "image/png": "[encoded data removed]",
      "text/plain": [
       "<matplotlib.figure.Figure at 0x7fcafc52a5c0>"
      ]
     },
     "metadata": {},
     "output_type": "display_data"
    }
   ],
   "source": [
    "label_normal = np.zeros(np.array(sign_error).shape[0])\n",
    "label_anomalous = np.ones(np.array(asign_error).shape[0])\n",
    "\n",
    "\n",
    "\n",
    "test = np.concatenate((label_normal, label_anomalous), axis=0)\n",
    "\n",
    "pred = np.concatenate((np.reshape(sign_error,-1), np.reshape(asign_error,-1)), axis=0)\n",
    "#skplt.metrics.plot_roc_curve(label, data)\n",
    "#plt.show()\n",
    "                      \n",
    "import matplotlib.pyplot as plt\n",
    "from sklearn.metrics import roc_curve, auc, roc_auc_score\n",
    "fpr = dict()\n",
    "tpr = dict()\n",
    "roc_auc = dict()\n",
    "for i in range(2):\n",
    "    fpr[i], tpr[i], _ = roc_curve(test, pred)\n",
    "    roc_auc[i] = auc(fpr[i], tpr[i])\n",
    "print( roc_auc_score(test, pred))\n",
    "plt.figure()\n",
    "plt.plot(fpr[1], tpr[1])\n",
    "plt.xlim([-0.1, 1.0])\n",
    "plt.ylim([0.0, 1.1])\n",
    "plt.xlabel('False Positive Rate')\n",
    "plt.ylabel('True Positive Rate')\n",
    "plt.title('sign ROC')\n",
    "plt.show()    \n",
    "                    \n",
    "label_normal = np.ones(np.array(cosine).shape[0])\n",
    "label_anomalous = np.zeros(np.array(acosine).shape[0])\n",
    "\n",
    "test = np.concatenate((label_normal, label_anomalous), axis=0)\n",
    "\n",
    "pred = np.concatenate((np.reshape(cosine,-1), np.reshape(acosine,-1)), axis=0)\n",
    "#skplt.metrics.plot_roc_curve(label, data)\n",
    "#plt.show()\n",
    "                      \n",
    "import matplotlib.pyplot as plt\n",
    "from sklearn.metrics import roc_curve, auc, roc_auc_score\n",
    "fpr = dict()\n",
    "tpr = dict()\n",
    "roc_auc = dict()\n",
    "for i in range(2):\n",
    "    fpr[i], tpr[i], _ = roc_curve(test, pred)\n",
    "    roc_auc[i] = auc(fpr[i], tpr[i])\n",
    "print( roc_auc_score(test, pred))\n",
    "plt.figure()\n",
    "plt.plot(fpr[1], tpr[1])\n",
    "plt.xlim([-0.1, 1.0])\n",
    "plt.ylim([0.0, 1.1])\n",
    "plt.xlabel('False Positive Rate')\n",
    "plt.ylabel('True Positive Rate')\n",
    "plt.title('feature cosine ROC')\n",
    "plt.show()       \n",
    "\n",
    "\n",
    "\n",
    "label_normal = np.ones(np.array(res_cos).shape[0])\n",
    "label_anomalous = np.zeros(np.array(ares_cos).shape[0])\n",
    "\n",
    "test = np.concatenate((label_normal, label_anomalous), axis=0)\n",
    "\n",
    "pred = np.concatenate((np.reshape(res_cos,-1), np.reshape(ares_cos,-1)), axis=0)\n",
    "#skplt.metrics.plot_roc_curve(label, data)\n",
    "#plt.show()\n",
    "                      \n",
    "import matplotlib.pyplot as plt\n",
    "from sklearn.metrics import roc_curve, auc, roc_auc_score\n",
    "fpr = dict()\n",
    "tpr = dict()\n",
    "roc_auc = dict()\n",
    "for i in range(2):\n",
    "    fpr[i], tpr[i], _ = roc_curve(test, pred)\n",
    "    roc_auc[i] = auc(fpr[i], tpr[i])\n",
    "print( roc_auc_score(test, pred))\n",
    "plt.figure()\n",
    "plt.plot(fpr[1], tpr[1])\n",
    "plt.xlim([0.0, 1.0])\n",
    "plt.ylim([0.0, 1.0])\n",
    "plt.xlabel('False Positive Rate')\n",
    "plt.ylabel('True Positive Rate')\n",
    "plt.title('residual cosine ROC')\n",
    "plt.show()\n",
    "\n",
    "\n"
   ]
  },
  {
   "cell_type": "code",
   "execution_count": null,
   "metadata": {},
   "outputs": [],
   "source": []
  },
  {
   "cell_type": "code",
   "execution_count": null,
   "metadata": {},
   "outputs": [],
   "source": []
  },
  {
   "cell_type": "code",
   "execution_count": null,
   "metadata": {},
   "outputs": [],
   "source": []
  },
  {
   "cell_type": "code",
   "execution_count": null,
   "metadata": {},
   "outputs": [],
   "source": [
    "\n"
   ]
  },
  {
   "cell_type": "code",
   "execution_count": null,
   "metadata": {},
   "outputs": [],
   "source": [
    "\n",
    "\n",
    "im =  test_anomalous_data[111]      \n",
    "plt.imshow(np.reshape(im,(64, 64)), cmap='Greys_r')\n",
    "plt.show()\n",
    "im_enc= sess.run([D_enc],{u : np.reshape(im,(1,64, 64,1)),isTrain : False})\n",
    "\n",
    "\n",
    "\n",
    "\n",
    "im_re, im_z, im_c= sess.run([re_image, E_z, E_c],{u : np.reshape(im,(1,64, 64,1)),isTrain : False})\n",
    "Q_c, im_re_enc= sess.run([Q_fake,D_enc],{u : np.reshape(im_re,(1,64, 64,1)),z : im_z, c : im_c,isTrain : False})\n",
    "\n",
    "plt.imshow(np.reshape(im_re,(64, 64)), cmap='Greys_r')\n",
    "plt.show()\n",
    "\n",
    "print(im_c,Q_c)\n",
    "\n",
    "residual_e = np.mean(np.sqrt((np.reshape(im,(1,64*64))-np.reshape(im_re,(1,64*64)))**2))\n",
    "residual_cosine = cosine_similarity(np.reshape(im,(1,64*64)),np.reshape(im_re,(1,64*64)))\n",
    "feature_e = np.mean(np.sqrt((np.reshape(im_enc,(1,100))-np.reshape(im_re_enc,(1,100)))**2))\n",
    "feature_cosine = cosine_similarity(np.reshape(im_enc,(1,100)),np.reshape(im_re_enc,(1,100)))\n",
    "\n",
    "print(residual_e, feature_e, residual_cosine ,feature_cosine)"
   ]
  },
  {
   "cell_type": "code",
   "execution_count": null,
   "metadata": {},
   "outputs": [],
   "source": [
    "im_enc"
   ]
  },
  {
   "cell_type": "code",
   "execution_count": null,
   "metadata": {},
   "outputs": [],
   "source": [
    "im_re_enc"
   ]
  },
  {
   "cell_type": "code",
   "execution_count": null,
   "metadata": {},
   "outputs": [],
   "source": [
    "im =  test_normal_data[11]      \n",
    "plt.imshow(np.reshape(im,(64, 64)), cmap='Greys_r')\n",
    "\n",
    "plt.show()\n",
    "im_enc= sess.run([D_enc],{u : np.reshape(im,(1,64, 64,1)),isTrain : False})\n",
    "\n",
    "\n",
    "\n",
    "\n",
    "im_re, im_z, im_c= sess.run([re_image, E_z, E_c],{u : np.reshape(im,(1,64, 64,1)),isTrain : False})\n",
    "Q_c, im_re_enc= sess.run([Q_fake,D_enc],{u : np.reshape(im_re,(1,64, 64,1)),z : im_z, c : im_c,isTrain : False})\n",
    "\n",
    "plt.imshow(np.reshape(im_re,(64, 64)), cmap='Greys_r')\n",
    "plt.show()\n",
    "\n",
    "print(im_c,Q_c)\n",
    "\n",
    "residual_e = np.mean(np.sqrt((np.reshape(im,(1,64*64))-np.reshape(im_re,(1,64*64)))**2))\n",
    "residual_cosine = cosine_similarity(np.reshape(im,(1,64*64)),np.reshape(im_re,(1,64*64)))\n",
    "feature_e = np.mean(np.sqrt((np.reshape(im_enc,(1,100))-np.reshape(im_re_enc,(1,100)))**2))\n",
    "feature_cosine = cosine_similarity(np.reshape(im_enc,(1,100)),np.reshape(im_re_enc,(1,100)))\n",
    "\n",
    "print(residual_e, feature_e, residual_cosine ,feature_cosine)\n"
   ]
  },
  {
   "cell_type": "code",
   "execution_count": null,
   "metadata": {},
   "outputs": [],
   "source": []
  },
  {
   "cell_type": "code",
   "execution_count": null,
   "metadata": {},
   "outputs": [],
   "source": []
  },
  {
   "cell_type": "code",
   "execution_count": null,
   "metadata": {},
   "outputs": [],
   "source": []
  },
  {
   "cell_type": "code",
   "execution_count": null,
   "metadata": {},
   "outputs": [],
   "source": []
  },
  {
   "cell_type": "code",
   "execution_count": null,
   "metadata": {},
   "outputs": [],
   "source": []
  },
  {
   "cell_type": "code",
   "execution_count": null,
   "metadata": {},
   "outputs": [],
   "source": []
  },
  {
   "cell_type": "code",
   "execution_count": null,
   "metadata": {},
   "outputs": [],
   "source": []
  }
 ],
 "metadata": {
  "kernelspec": {
   "display_name": "Python 3",
   "language": "python",
   "name": "python3"
  },
  "language_info": {
   "codemirror_mode": {
    "name": "ipython",
    "version": 3
   },
   "file_extension": ".py",
   "mimetype": "text/x-python",
   "name": "python",
   "nbconvert_exporter": "python",
   "pygments_lexer": "ipython3",
   "version": "3.5.2"
  },
  "toc": {
   "base_numbering": 1,
   "nav_menu": {},
   "number_sections": true,
   "sideBar": true,
   "skip_h1_title": false,
   "title_cell": "Table of Contents",
   "title_sidebar": "Contents",
   "toc_cell": false,
   "toc_position": {
    "height": "calc(100% - 180px)",
    "left": "10px",
    "top": "150px",
    "width": "321px"
   },
   "toc_section_display": true,
   "toc_window_display": false
  },
  "varInspector": {
   "cols": {
    "lenName": 16,
    "lenType": 16,
    "lenVar": 40
   },
   "kernels_config": {
    "python": {
     "delete_cmd_postfix": "",
     "delete_cmd_prefix": "del ",
     "library": "var_list.py",
     "varRefreshCmd": "print(var_dic_list())"
    },
    "r": {
     "delete_cmd_postfix": ") ",
     "delete_cmd_prefix": "rm(",
     "library": "var_list.r",
     "varRefreshCmd": "cat(var_dic_list()) "
    }
   },
   "types_to_exclude": [
    "module",
    "function",
    "builtin_function_or_method",
    "instance",
    "_Feature"
   ],
   "window_display": false
  }
 },
 "nbformat": 4,
 "nbformat_minor": 2
}
