{
 "cells": [
  {
   "cell_type": "markdown",
   "metadata": {
    "code_folding": [
     17,
     21,
     25,
     29,
     33,
     44
    ]
   },
   "source": [
    "# Boundary Equilibrimum infoGANs for Fault Detection example\n",
    "\n",
    "## 초기 설정들"
   ]
  },
  {
   "cell_type": "code",
   "execution_count": 1,
   "metadata": {
    "code_folding": [
     17,
     21,
     25,
     29,
     33,
     44,
     63
    ]
   },
   "outputs": [
    {
     "name": "stdout",
     "output_type": "stream",
     "text": [
      "test_normal_data :  (8991, 64, 64, 1)\n",
      "test_anomalous_data :  (1009, 64, 64, 1)\n",
      "train_normal_data :  (49546, 64, 64, 1)\n",
      "train_anomalous_data :  (5454, 64, 64, 1)\n"
     ]
    }
   ],
   "source": [
    "import tensorflow as tf\n",
    "import numpy as np\n",
    "import os\n",
    "import sys\n",
    "import time\n",
    "import time \n",
    "import matplotlib.pyplot as plt\n",
    "import matplotlib.gridspec as gridspec \n",
    "\n",
    "os.environ[\"CUDA_VISIBLE_DEVICES\"]=\"0\"\n",
    "\n",
    "\n",
    "import pickle\n",
    "import gzip\n",
    "\n",
    "file_dir = 'anoGANs_MNIST_data/'\n",
    "\n",
    "with gzip.open(file_dir + 'test_normal_data_inc_9.pickle.gzip','rb') as f :\n",
    "    test_normal_data = pickle.load(f)\n",
    "    print('test_normal_data : ' ,test_normal_data.shape)\n",
    "\n",
    "with gzip.open(file_dir + 'test_anomalous_data_inc_9.pickle.gzip','rb') as f :\n",
    "    test_anomalous_data = pickle.load(f)\n",
    "    print('test_anomalous_data : ',test_anomalous_data.shape)\n",
    "    \n",
    "with gzip.open(file_dir + 'train_normal_data_inc_9.pickle.gzip','rb') as f :\n",
    "    train_normal_data = pickle.load(f)\n",
    "    print('train_normal_data : ', train_normal_data.shape)\n",
    "    \n",
    "with gzip.open(file_dir + 'train_anomalous_data_inc_9.pickle.gzip','rb') as f :\n",
    "    train_anomalous_data = pickle.load(f)\n",
    "    print('train_anomalous_data : ',train_anomalous_data.shape )\n",
    "\n",
    "def idx_shuffle(x) : \n",
    "    l = x.shape[0]\n",
    "    idx = np.arange(l)\n",
    "    np.random.shuffle(idx)\n",
    "    shuffled_x = np.empty(x.shape)\n",
    "\n",
    "    for i in range(l):\n",
    "        shuffled_x[idx[i]] = x[i]\n",
    "    \n",
    "    return shuffled_x\n",
    "\n",
    "def mnist_4by4_save(samples,path):\n",
    "    fig = plt.figure(figsize=(4, 4))\n",
    "    gs = gridspec.GridSpec(4, 4)    \n",
    "    gs.update(wspace=0.05, hspace=0.05) #이미지 사이간격 조절\n",
    "  \n",
    "    for i, sample in enumerate(samples):\n",
    "        ax = plt.subplot(gs[i])\n",
    "        plt.axis('off')    \n",
    "        ax.set_xticklabels([])\n",
    "        ax.set_yticklabels([])\n",
    "        ax.set_aspect('equal')\n",
    "   \n",
    "        plt.imshow(sample.reshape(64, 64), cmap='Greys_r',clim=(0.0,1.0))\n",
    "    plt.colorbar()\n",
    "    plt.savefig(path, bbox_inches='tight')\n",
    "    plt.close(fig)\n",
    "   \n",
    "    return None\n",
    "\n",
    "def gan_loss_graph_save(G_loss,D_loss,path):\n",
    "    x1 = range(len(G_loss))\n",
    "    x2 = range(len(D_loss))\n",
    "      \n",
    "    y1 = G_loss\n",
    "    y2 = D_loss\n",
    "  \n",
    "      \n",
    "    plt.plot(x1,y1,label='G_loss') \n",
    "    plt.plot(x2,y2,label='D_loss') \n",
    "  \n",
    "    plt.xlabel('weight per update')\n",
    "    plt.ylabel('loss')             \n",
    "    plt.legend(loc=4)              \n",
    "    plt.grid(True)\n",
    "    plt.tight_layout()\n",
    "  \n",
    "    plt.savefig(path)              \n",
    "\n",
    "    return None\n",
    "\n",
    "file_name = 'test2_BE_infoGANs_for_bench_marking_case_1'\n",
    "#file_name = 'test2_BE_infoGANs_for_'\n"
   ]
  },
  {
   "cell_type": "markdown",
   "metadata": {},
   "source": [
    "## network load"
   ]
  },
  {
   "cell_type": "code",
   "execution_count": 2,
   "metadata": {},
   "outputs": [
    {
     "name": "stdout",
     "output_type": "stream",
     "text": [
      "INFO:tensorflow:Restoring parameters from test2_BE_infoGANs_for_bench_marking_case_1/para.cktp\n"
     ]
    }
   ],
   "source": [
    "if not os.path.isdir(file_name) :\n",
    "    os.mkdir(file_name)\n",
    "\n",
    "    \n",
    "sess = tf.InteractiveSession()\n",
    "    \n",
    "new_saver = tf.train.import_meta_graph(file_name + '/para.cktp.meta')\n",
    "new_saver.restore(sess, tf.train.latest_checkpoint(file_name + '/'))\n",
    "\n",
    "\n",
    "z = sess.graph.get_tensor_by_name(\"z:0\")\n",
    "c = sess.graph.get_tensor_by_name(\"c:0\")\n",
    "u = sess.graph.get_tensor_by_name(\"u:0\")\n",
    "k = sess.graph.get_tensor_by_name(\"k:0\")\n",
    "\n",
    "isTrain = sess.graph.get_tensor_by_name(\"isTrain:0\")\n",
    "\n",
    "G_sample = sess.graph.get_tensor_by_name(\"G_sample:0\")\n",
    "E_z = sess.graph.get_tensor_by_name(\"E_z:0\")\n",
    "E_c = sess.graph.get_tensor_by_name(\"Reshape:0\")\n",
    "\n",
    "\n",
    "\n",
    "re_image = sess.graph.get_tensor_by_name(\"re_image:0\")\n",
    "re_z = sess.graph.get_tensor_by_name(\"re_z:0\")\n",
    "re_c = sess.graph.get_tensor_by_name(\"Reshape_1:0\")\n",
    "\n",
    "re_z_loss = sess.graph.get_tensor_by_name(\"re_z_loss:0\")\n",
    "re_c_loss = sess.graph.get_tensor_by_name(\"re_c_loss:0\")\n",
    "re_image_loss = sess.graph.get_tensor_by_name(\"re_image_loss:0\")\n",
    "\n",
    "\n",
    "E_loss = sess.graph.get_tensor_by_name(\"E_loss:0\")\n",
    "\n",
    "D_real = sess.graph.get_tensor_by_name('D_real:0')                       # D(x)\n",
    "D_fake = sess.graph.get_tensor_by_name('D_fake:0')         # D(G(z))\n",
    "Q_fake = sess.graph.get_tensor_by_name(\"Q_fake:0\")\n",
    "\n",
    "\n",
    "D_enc = sess.graph.get_tensor_by_name(\"D_enc_1:0\")\n",
    "\n",
    "D_real_loss = sess.graph.get_tensor_by_name('D_real_loss:0')\n",
    "D_fake_loss = sess.graph.get_tensor_by_name('D_fake_loss:0')\n",
    "\n",
    "D_loss = sess.graph.get_tensor_by_name(\"D_loss:0\")\n",
    "G_loss = sess.graph.get_tensor_by_name(\"G_loss:0\")\n",
    "Q_loss  = sess.graph.get_tensor_by_name(\"Q_loss:0\")\n",
    "\n",
    "D_optim = sess.graph.get_operation_by_name(\"D_optim\")\n",
    "G_optim = sess.graph.get_operation_by_name(\"G_optim\")\n",
    "E_optim = sess.graph.get_operation_by_name(\"E_optim\")\n",
    "E_AE_optim = sess.graph.get_operation_by_name(\"E_AE_optim\")\n",
    "\n",
    "\n"
   ]
  },
  {
   "cell_type": "code",
   "execution_count": 3,
   "metadata": {},
   "outputs": [],
   "source": [
    "train_epoch = 15\n",
    "batch_size = 100\n",
    "z_size = 100\n",
    "lam = 0.001\n",
    "gamma = 0.5\n",
    "k_curr = 0.0\n",
    "c_size = 10\n",
    "\n",
    "\n",
    "file_name1 = 'test2_BE_infoGANs_for_bench_marking_case_1'\n",
    "\n",
    "\n",
    "if not os.path.isdir(file_name1) :\n",
    "    os.mkdir(file_name1)"
   ]
  },
  {
   "cell_type": "code",
   "execution_count": null,
   "metadata": {},
   "outputs": [],
   "source": []
  },
  {
   "cell_type": "code",
   "execution_count": null,
   "metadata": {},
   "outputs": [],
   "source": [
    "np.random.seed(int(time.time()))\n",
    "\n",
    "\n",
    "one_hot = np.eye(c_size)\n",
    "temp2 = np.array([1,1,1,1,2,2,2,2,3,3,3,3,4,4,4,4])\n",
    "test_c = one_hot[temp2].reshape([-1,1,1,c_size])\n",
    "test_z = np.random.uniform(-1,1,size=(16,1,1,z_size))\n",
    "mnist_4by4_save(np.reshape(test_normal_data[0:16],(-1,64,64,1)),file_name1 + '/normal.png')    \n",
    "mnist_4by4_save(np.reshape(test_anomalous_data[0:16],(-1,64,64,1)),file_name1 + '/anomalous.png')    \n",
    "\n",
    "E_error = []\n",
    "start = time.time()\n",
    "for epoch in range(train_epoch) :\n",
    "\n",
    "    np.random.seed(int(time.time()))\n",
    "    train_normal_data = idx_shuffle(train_normal_data) \n",
    "\n",
    "    for iteration in range(train_normal_data.shape[0] // batch_size) : \n",
    "\n",
    "\n",
    "        train_images = train_normal_data[iteration*batch_size : (iteration+1)*batch_size]      \n",
    "        u_ = np.reshape(train_images,(-1,64,64,1)) \n",
    "        z_ = np.random.uniform(-1,1,size=(batch_size,1,1,z_size))\n",
    "        temp1 = np.random.randint(0,10,(batch_size))                                                                                                                                     \n",
    "        c_ = one_hot[temp1].reshape([-1,1,1,c_size])\n",
    "        \n",
    "        _  = sess.run([E_optim], {u : u_, z : z_, c : c_,isTrain : True})\n",
    "        \n",
    "        _ , E_e = sess.run([E_AE_optim, re_image_loss], {u : u_, z : z_, c : c_,isTrain : True})\n",
    "        E_error.append(E_e)\n",
    "        \n",
    "            \n",
    "\n",
    "\n",
    "    r = sess.run([re_image],feed_dict={u : test_normal_data[0:16],isTrain : False})        \n",
    "    mnist_4by4_save(np.reshape(r,(-1,64,64,1)),file_name1 + '/normal_{}.png'.format(str(epoch).zfill(3)))\n",
    "\n",
    "    r = sess.run([re_image],feed_dict={u : test_anomalous_data[0:16],isTrain : False})        \n",
    "    mnist_4by4_save(np.reshape(r,(-1,64,64,1)),file_name1 + '/anomlous_{}.png'.format(str(epoch).zfill(3)))\n",
    "\n",
    "    print(\"E_e : %.6f\"%(np.mean(E_error)))\n",
    "    E_error = []\n",
    "\n",
    "saver = tf.train.Saver()\n",
    "saver.save(sess,file_name1 + '/para.cktp')\n",
    "\n",
    "end = time.time()-start\n",
    "\n",
    "print(\"total time : \",end)"
   ]
  },
  {
   "cell_type": "code",
   "execution_count": null,
   "metadata": {},
   "outputs": [],
   "source": []
  },
  {
   "cell_type": "code",
   "execution_count": 4,
   "metadata": {},
   "outputs": [],
   "source": [
    "from sklearn.metrics.pairwise import cosine_similarity\n",
    "feature = []\n",
    "cosine = []\n",
    "res_mse = []\n",
    "res_cos = []\n",
    "\n",
    "sign_error = []\n",
    "\n",
    "\n",
    "for iteration in range(test_normal_data.shape[0] // batch_size) : \n",
    "    test_images = test_normal_data[iteration*batch_size : (iteration+1)*batch_size]      \n",
    "    u_ = np.reshape(test_images,(-1,64,64,1)) \n",
    "    \n",
    "    im_enc= sess.run([D_enc],{u : u_,isTrain : False})\n",
    "    im_re, im_z, im_c= sess.run([re_image, E_z, E_c],{u : u_,isTrain : False})\n",
    "    Q_c, im_re_enc= sess.run([Q_fake,D_enc],{u : im_re,z : im_z, c : im_c,isTrain : False})\n",
    "    \n",
    "  \n",
    "    for i in range(batch_size) :\n",
    "        \n",
    "        \n",
    "        residual_e = np.mean(np.sqrt((np.reshape(u_[i],(1,64*64))-np.reshape(im_re[i],(1,64*64)))**2))\n",
    "        residual_cosine = cosine_similarity(np.reshape(u_[i],(1,64*64)),np.reshape(im_re[i],(1,64*64)))\n",
    "        \n",
    "        \n",
    "        feature_e = np.mean(np.sqrt((np.reshape(im_enc[0][i],(-1,100))-np.reshape(im_re_enc[i],(-1,100)))**2))\n",
    "        feature_cosine = cosine_similarity(np.reshape(im_enc[0][i],(-1,100)),np.reshape(im_re_enc[i],(-1,100)))\n",
    "        \n",
    "        sign_e = np.mean(np.abs(np.sign(im_enc)-np.sign(im_re_enc)))\n",
    "        \n",
    "        sign_error.append(sign_e)\n",
    "        \n",
    "        \n",
    "        feature.append(feature_e)\n",
    "        cosine.append(feature_cosine)\n",
    "        res_mse.append(residual_e)\n",
    "        res_cos.append(residual_cosine )\n",
    "\n",
    "    "
   ]
  },
  {
   "cell_type": "code",
   "execution_count": 5,
   "metadata": {},
   "outputs": [],
   "source": [
    "afeature = []\n",
    "acosine = []\n",
    "ares_mse = []\n",
    "ares_cos = []\n",
    "asign_error = []\n",
    "for iteration in range(test_anomalous_data.shape[0] // batch_size) : \n",
    "    test_images = test_anomalous_data[iteration*batch_size : (iteration+1)*batch_size]      \n",
    "    u_ = np.reshape(test_images,(-1,64,64,1)) \n",
    "    \n",
    "    im_enc= sess.run([D_enc],{u : u_,isTrain : False})\n",
    "    \n",
    "    im_re, im_z, im_c= sess.run([re_image, E_z, E_c],{u : u_,isTrain : False})\n",
    "    Q_c, im_re_enc= sess.run([Q_fake,D_enc],{u : im_re,z : im_z, c : im_c,isTrain : False})\n",
    "    \n",
    "    \n",
    "    for i in range(batch_size) :\n",
    "        \n",
    "        residual_e = np.mean(np.sqrt((np.reshape(u_[i],(1,64*64))-np.reshape(im_re[i],(1,64*64)))**2))\n",
    "        residual_cosine = cosine_similarity(np.reshape(u_[i],(1,64*64)),np.reshape(im_re[i],(1,64*64)))\n",
    "        \n",
    "        feature_e = np.mean(np.sqrt((np.reshape(im_enc[0][i],(-1,100))-np.reshape(im_re_enc[i],(-1,100)))**2))\n",
    "        feature_cosine = cosine_similarity(np.reshape(im_enc[0][i],(-1,100)),np.reshape(im_re_enc[i],(-1,100)))\n",
    "        \n",
    "        sign_e = np.mean(np.abs(np.sign(im_enc)-np.sign(im_re_enc)))\n",
    "        \n",
    "        asign_error.append(sign_e)\n",
    "        \n",
    "        \n",
    "        afeature.append(feature_e)\n",
    "        acosine.append(feature_cosine)\n",
    "        ares_mse.append(residual_e)\n",
    "        ares_cos.append(residual_cosine )\n",
    "    \n",
    "\n",
    "\n"
   ]
  },
  {
   "cell_type": "code",
   "execution_count": 6,
   "metadata": {},
   "outputs": [],
   "source": [
    "train_feature = []\n",
    "train_cosine = []\n",
    "train_res_mse = []\n",
    "train_res_cos = []\n",
    "train_sign_error = []\n",
    "\n",
    "for iteration in range(train_normal_data.shape[0] // batch_size) : \n",
    "    test_images = train_normal_data[iteration*batch_size : (iteration+1)*batch_size]      \n",
    "    u_ = np.reshape(test_images,(-1,64,64,1)) \n",
    "    \n",
    "    im_enc= sess.run([D_enc],{u : u_,isTrain : False})\n",
    "    im_re, im_z, im_c= sess.run([re_image, E_z, E_c],{u : u_,isTrain : False})\n",
    "    Q_c, im_re_enc= sess.run([Q_fake,D_enc],{u : im_re,z : im_z, c : im_c,isTrain : False})\n",
    "    \n",
    "  \n",
    "    for i in range(batch_size) :\n",
    "        \n",
    "        residual_e = np.mean(np.sqrt((np.reshape(u_[i],(1,64*64))-np.reshape(im_re[i],(1,64*64)))**2))\n",
    "        residual_cosine = cosine_similarity(np.reshape(u_[i],(1,64*64)),np.reshape(im_re[i],(1,64*64)))\n",
    "        \n",
    "        feature_e = np.mean(np.sqrt((np.reshape(im_enc[0][i],(-1,100))-np.reshape(im_re_enc[i],(-1,100)))**2))\n",
    "        feature_cosine = cosine_similarity(np.reshape(im_enc[0][i],(-1,100)),np.reshape(im_re_enc[i],(-1,100)))\n",
    "        \n",
    "        sign_e = np.mean(np.abs(np.sign(im_enc)-np.sign(im_re_enc)))\n",
    "        \n",
    "        train_sign_error.append(sign_e)\n",
    "        \n",
    "        \n",
    "        train_feature.append(feature_e)\n",
    "        train_cosine.append(feature_cosine)\n",
    "        train_res_mse.append(residual_e)\n",
    "        train_res_cos.append(residual_cosine )\n",
    "            \n",
    "        \n",
    "        "
   ]
  },
  {
   "cell_type": "code",
   "execution_count": 7,
   "metadata": {},
   "outputs": [
    {
     "data": {
      "image/png": "[encoded data removed]",
      "text/plain": [
       "<matplotlib.figure.Figure at 0x7fb5a409c0b8>"
      ]
     },
     "metadata": {},
     "output_type": "display_data"
    },
    {
     "data": {
      "image/png": "[encoded data removed]",
      "text/plain": [
       "<matplotlib.figure.Figure at 0x7fb738949c50>"
      ]
     },
     "metadata": {},
     "output_type": "display_data"
    }
   ],
   "source": [
    "\n",
    "import scikitplot as skplt\n",
    "import matplotlib.pyplot as plt\n",
    "\n",
    "\n",
    "plt.hist(np.reshape(feature,-1), bins='auto', alpha=0.6, label=\"normal\",normed=1)  # arguments are passed to np.histogram\n",
    "plt.title(\"feature error\")\n",
    "\n",
    "plt.hist(np.reshape(afeature,-1), bins='auto', alpha=0.6, label=\"anomaous\",normed=1)  # arguments are passed to np.histogram\n",
    "\n",
    "plt.hist(np.reshape(train_feature,-1), bins='auto', alpha=0.6, label=\"train\",normed=1)  # arguments are passed to np.histogram\n",
    "\n",
    "plt.legend()\n",
    "plt.show()    \n",
    "\n",
    "\n",
    "\n",
    "plt.hist(np.reshape(res_mse,-1), bins='auto', alpha=0.6, label=\"normal\",normed=1)  # arguments are passed to np.histogram\n",
    "plt.title(\"residual mes\")\n",
    "\n",
    "\n",
    "\n",
    "plt.hist(np.reshape(ares_mse,-1), bins='auto', alpha=0.6, label=\"anomaous\",normed=1)  # arguments are passed to np.histogram\n",
    "\n",
    "plt.hist(np.reshape(train_res_mse,-1), bins='auto', alpha=0.6, label=\"train\",normed=1)  # arguments are passed to np.histogram\n",
    "\n",
    "plt.legend()\n",
    "plt.show()    \n",
    "\n",
    "\n",
    "\n",
    "\n",
    "\n"
   ]
  },
  {
   "cell_type": "code",
   "execution_count": 8,
   "metadata": {},
   "outputs": [
    {
     "name": "stdout",
     "output_type": "stream",
     "text": [
      "0.722263146067\n"
     ]
    },
    {
     "data": {
      "image/png": "[encoded data removed]",
      "text/plain": [
       "<matplotlib.figure.Figure at 0x7fb7389e53c8>"
      ]
     },
     "metadata": {},
     "output_type": "display_data"
    },
    {
     "name": "stdout",
     "output_type": "stream",
     "text": [
      "0.656932359551\n"
     ]
    },
    {
     "data": {
      "image/png": "[encoded data removed]",
      "text/plain": [
       "<matplotlib.figure.Figure at 0x7fb738a179b0>"
      ]
     },
     "metadata": {},
     "output_type": "display_data"
    }
   ],
   "source": [
    "\n",
    "label_normal = np.zeros(np.array(feature).shape[0])\n",
    "label_anomalous = np.ones(np.array(afeature).shape[0])\n",
    "\n",
    "test = np.concatenate((label_normal, label_anomalous), axis=0)\n",
    "\n",
    "pred = np.concatenate((np.reshape(feature,-1), np.reshape(afeature,-1)), axis=0)\n",
    "#skplt.metrics.plot_roc_curve(label, data)\n",
    "#plt.show()\n",
    "                      \n",
    "import matplotlib.pyplot as plt\n",
    "from sklearn.metrics import roc_curve, auc, roc_auc_score\n",
    "fpr = dict()\n",
    "tpr = dict()\n",
    "roc_auc = dict()\n",
    "for i in range(2):\n",
    "    fpr[i], tpr[i], _ = roc_curve(test, pred)\n",
    "    roc_auc[i] = auc(fpr[i], tpr[i])\n",
    "print( roc_auc_score(test, pred))\n",
    "plt.figure()\n",
    "plt.plot(fpr[1], tpr[1])\n",
    "plt.xlim([0.0, 1.0])\n",
    "plt.ylim([0.0, 1.0])\n",
    "plt.xlabel('False Positive Rate')\n",
    "plt.ylabel('True Positive Rate')\n",
    "plt.title('feature mse ROC')\n",
    "plt.show()\n",
    "                      \n",
    "\n",
    "\n",
    "label_normal = np.zeros(np.array(res_mse).shape[0])\n",
    "label_anomalous = np.ones(np.array(ares_mse).shape[0])\n",
    "\n",
    "\n",
    "\n",
    "test = np.concatenate((label_normal, label_anomalous), axis=0)\n",
    "\n",
    "pred = np.concatenate((np.reshape(res_mse,-1), np.reshape(ares_mse,-1)), axis=0)\n",
    "#skplt.metrics.plot_roc_curve(label, data)\n",
    "#plt.show()\n",
    "                      \n",
    "import matplotlib.pyplot as plt\n",
    "from sklearn.metrics import roc_curve, auc, roc_auc_score\n",
    "fpr = dict()\n",
    "tpr = dict()\n",
    "roc_auc = dict()\n",
    "for i in range(2):\n",
    "    fpr[i], tpr[i], _ = roc_curve(test, pred)\n",
    "    roc_auc[i] = auc(fpr[i], tpr[i])\n",
    "print( roc_auc_score(test, pred))\n",
    "plt.figure()\n",
    "plt.plot(fpr[1], tpr[1])\n",
    "plt.xlim([0.0, 1.0])\n",
    "plt.ylim([0.0, 1.0])\n",
    "plt.xlabel('False Positive Rate')\n",
    "plt.ylabel('True Positive Rate')\n",
    "plt.title('residual mse ROC')\n",
    "plt.show()                      "
   ]
  },
  {
   "cell_type": "code",
   "execution_count": 9,
   "metadata": {},
   "outputs": [
    {
     "data": {
      "image/png": "[encoded data removed]",
      "text/plain": [
       "<matplotlib.figure.Figure at 0x7fb654071978>"
      ]
     },
     "metadata": {},
     "output_type": "display_data"
    },
    {
     "data": {
      "image/png": "[encoded data removed]",
      "text/plain": [
       "<matplotlib.figure.Figure at 0x7fb738788fd0>"
      ]
     },
     "metadata": {},
     "output_type": "display_data"
    },
    {
     "data": {
      "image/png": "[encoded data removed]",
      "text/plain": [
       "<matplotlib.figure.Figure at 0x7fb738628da0>"
      ]
     },
     "metadata": {},
     "output_type": "display_data"
    }
   ],
   "source": [
    "plt.hist(np.reshape(sign_error,-1), bins='auto', alpha=0.6, label=\"normal\",normed=1)  # arguments are passed to np.histogram\n",
    "plt.title(\"sign error\")\n",
    "\n",
    "plt.hist(np.reshape(asign_error,-1), bins='auto', alpha=0.6, label=\"anomaous\",normed=1)  # arguments are passed to np.histogram\n",
    "\n",
    "plt.hist(np.reshape(train_sign_error,-1), bins='auto', alpha=0.6, label=\"train\",normed=1)  # arguments are passed to np.histogram\n",
    "\n",
    "plt.legend()\n",
    "plt.show()  \n",
    "\n",
    "\n",
    "\n",
    "\n",
    "\n",
    "\n",
    "\n",
    "plt.hist(np.reshape(cosine,-1), bins='auto', alpha=0.6, label=\"normal\",normed=1)  # arguments are passed to np.histogram\n",
    "plt.title(\"cosine error\")\n",
    "\n",
    "plt.hist(np.reshape(acosine,-1), bins='auto', alpha=0.6, label=\"anomaous\",normed=1)  # arguments are passed to np.histogram\n",
    "\n",
    "plt.hist(np.reshape(train_cosine,-1), bins='auto', alpha=0.6, label=\"train\",normed=1)  # arguments are passed to np.histogram\n",
    "\n",
    "plt.legend()\n",
    "plt.show()  \n",
    "\n",
    "\n",
    "plt.hist(np.reshape(res_cos,-1), bins='auto', alpha=0.6, label=\"normal\",normed=1)  # arguments are passed to np.histogram\n",
    "plt.title(\"residual cosine\")\n",
    "\n",
    "\n",
    "\n",
    "plt.hist(np.reshape(ares_cos,-1), bins='auto', alpha=0.6, label=\"anomaous\",normed=1)  # arguments are passed to np.histogram\n",
    "\n",
    "plt.hist(np.reshape(train_res_cos,-1), bins='auto', alpha=0.6, label=\"train\",normed=1)  # arguments are passed to np.histogram\n",
    "\n",
    "plt.legend()\n",
    "plt.show()    \n",
    "\n",
    "\n"
   ]
  },
  {
   "cell_type": "code",
   "execution_count": 12,
   "metadata": {},
   "outputs": [
    {
     "name": "stdout",
     "output_type": "stream",
     "text": [
      "1.0\n"
     ]
    },
    {
     "data": {
      "image/png": "[encoded data removed]",
      "text/plain": [
       "<matplotlib.figure.Figure at 0x7fb738388208>"
      ]
     },
     "metadata": {},
     "output_type": "display_data"
    },
    {
     "name": "stdout",
     "output_type": "stream",
     "text": [
      "0.763159662921\n"
     ]
    },
    {
     "data": {
      "image/png": "[encoded data removed]",
      "text/plain": [
       "<matplotlib.figure.Figure at 0x7fb738341588>"
      ]
     },
     "metadata": {},
     "output_type": "display_data"
    },
    {
     "name": "stdout",
     "output_type": "stream",
     "text": [
      "0.70651258427\n"
     ]
    },
    {
     "data": {
      "image/png": "[encoded data removed]",
      "text/plain": [
       "<matplotlib.figure.Figure at 0x7fb7382f9470>"
      ]
     },
     "metadata": {},
     "output_type": "display_data"
    }
   ],
   "source": [
    "label_normal = np.zeros(np.array(sign_error).shape[0])\n",
    "label_anomalous = np.ones(np.array(asign_error).shape[0])\n",
    "\n",
    "\n",
    "\n",
    "test = np.concatenate((label_normal, label_anomalous), axis=0)\n",
    "\n",
    "pred = np.concatenate((np.reshape(sign_error,-1), np.reshape(asign_error,-1)), axis=0)\n",
    "#skplt.metrics.plot_roc_curve(label, data)\n",
    "#plt.show()\n",
    "                      \n",
    "import matplotlib.pyplot as plt\n",
    "from sklearn.metrics import roc_curve, auc, roc_auc_score\n",
    "fpr = dict()\n",
    "tpr = dict()\n",
    "roc_auc = dict()\n",
    "for i in range(2):\n",
    "    fpr[i], tpr[i], _ = roc_curve(test, pred)\n",
    "    roc_auc[i] = auc(fpr[i], tpr[i])\n",
    "print( roc_auc_score(test, pred))\n",
    "plt.figure()\n",
    "plt.plot(fpr[1], tpr[1])\n",
    "plt.xlim([-0.1, 1.0])\n",
    "plt.ylim([0.0, 1.1])\n",
    "plt.xlabel('False Positive Rate')\n",
    "plt.ylabel('True Positive Rate')\n",
    "plt.title('sign ROC')\n",
    "plt.show()    \n",
    "                    \n",
    "label_normal = np.ones(np.array(cosine).shape[0])\n",
    "label_anomalous = np.zeros(np.array(acosine).shape[0])\n",
    "\n",
    "test = np.concatenate((label_normal, label_anomalous), axis=0)\n",
    "\n",
    "pred = np.concatenate((np.reshape(cosine,-1), np.reshape(acosine,-1)), axis=0)\n",
    "#skplt.metrics.plot_roc_curve(label, data)\n",
    "#plt.show()\n",
    "                      \n",
    "import matplotlib.pyplot as plt\n",
    "from sklearn.metrics import roc_curve, auc, roc_auc_score\n",
    "fpr = dict()\n",
    "tpr = dict()\n",
    "roc_auc = dict()\n",
    "for i in range(2):\n",
    "    fpr[i], tpr[i], _ = roc_curve(test, pred)\n",
    "    roc_auc[i] = auc(fpr[i], tpr[i])\n",
    "print( roc_auc_score(test, pred))\n",
    "plt.figure()\n",
    "plt.plot(fpr[1], tpr[1])\n",
    "plt.xlim([0.0, 1.0])\n",
    "plt.ylim([0.0, 1.0])\n",
    "plt.xlabel('False Positive Rate')\n",
    "plt.ylabel('True Positive Rate')\n",
    "plt.title('feature cosine ROC')\n",
    "plt.show()       \n",
    "\n",
    "\n",
    "\n",
    "label_normal = np.ones(np.array(res_cos).shape[0])\n",
    "label_anomalous = np.zeros(np.array(ares_cos).shape[0])\n",
    "\n",
    "test = np.concatenate((label_normal, label_anomalous), axis=0)\n",
    "\n",
    "pred = np.concatenate((np.reshape(res_cos,-1), np.reshape(ares_cos,-1)), axis=0)\n",
    "#skplt.metrics.plot_roc_curve(label, data)\n",
    "#plt.show()\n",
    "                      \n",
    "import matplotlib.pyplot as plt\n",
    "from sklearn.metrics import roc_curve, auc, roc_auc_score\n",
    "fpr = dict()\n",
    "tpr = dict()\n",
    "roc_auc = dict()\n",
    "for i in range(2):\n",
    "    fpr[i], tpr[i], _ = roc_curve(test, pred)\n",
    "    roc_auc[i] = auc(fpr[i], tpr[i])\n",
    "print( roc_auc_score(test, pred))\n",
    "plt.figure()\n",
    "plt.plot(fpr[1], tpr[1])\n",
    "plt.xlim([0.0, 1.0])\n",
    "plt.ylim([0.0, 1.0])\n",
    "plt.xlabel('False Positive Rate')\n",
    "plt.ylabel('True Positive Rate')\n",
    "plt.title('residual cosine ROC')\n",
    "plt.show()\n",
    "\n"
   ]
  },
  {
   "cell_type": "code",
   "execution_count": null,
   "metadata": {},
   "outputs": [],
   "source": []
  },
  {
   "cell_type": "code",
   "execution_count": null,
   "metadata": {},
   "outputs": [],
   "source": []
  },
  {
   "cell_type": "code",
   "execution_count": null,
   "metadata": {},
   "outputs": [],
   "source": []
  },
  {
   "cell_type": "code",
   "execution_count": null,
   "metadata": {},
   "outputs": [],
   "source": [
    "\n"
   ]
  },
  {
   "cell_type": "code",
   "execution_count": 13,
   "metadata": {},
   "outputs": [
    {
     "data": {
      "image/png": "[encoded data removed]",
      "text/plain": [
       "<matplotlib.figure.Figure at 0x7fb738596eb8>"
      ]
     },
     "metadata": {},
     "output_type": "display_data"
    },
    {
     "data": {
      "image/png": "[encoded data removed]",
      "text/plain": [
       "<matplotlib.figure.Figure at 0x7fb73833be10>"
      ]
     },
     "metadata": {},
     "output_type": "display_data"
    },
    {
     "name": "stdout",
     "output_type": "stream",
     "text": [
      "[[[[ 0.  0.  0.  0.  0.  0.  0.  0.  1.  0.]]]] [[  1.47834660e-08   3.37944880e-11   1.27801625e-09   4.94032926e-10\n",
      "    1.35861200e-07   1.17537198e-08   3.85046349e-07   6.49159063e-07\n",
      "    9.99998212e-01   5.86504939e-07]]\n",
      "0.129499 0.733858 [[ 0.93563968]] [[ 0.55561626]]\n"
     ]
    }
   ],
   "source": [
    "\n",
    "\n",
    "im =  test_anomalous_data[111]      \n",
    "plt.imshow(np.reshape(im,(64, 64)), cmap='Greys_r')\n",
    "plt.show()\n",
    "im_enc= sess.run([D_enc],{u : np.reshape(im,(1,64, 64,1)),isTrain : False})\n",
    "\n",
    "\n",
    "\n",
    "\n",
    "im_re, im_z, im_c= sess.run([re_image, E_z, E_c],{u : np.reshape(im,(1,64, 64,1)),isTrain : False})\n",
    "Q_c, im_re_enc= sess.run([Q_fake,D_enc],{u : np.reshape(im_re,(1,64, 64,1)),z : im_z, c : im_c,isTrain : False})\n",
    "\n",
    "plt.imshow(np.reshape(im_re,(64, 64)), cmap='Greys_r')\n",
    "plt.show()\n",
    "\n",
    "print(im_c,Q_c)\n",
    "\n",
    "residual_e = np.mean(np.sqrt((np.reshape(im,(1,64*64))-np.reshape(im_re,(1,64*64)))**2))\n",
    "residual_cosine = cosine_similarity(np.reshape(im,(1,64*64)),np.reshape(im_re,(1,64*64)))\n",
    "feature_e = np.mean(np.sqrt((np.reshape(im_enc,(1,100))-np.reshape(im_re_enc,(1,100)))**2))\n",
    "feature_cosine = cosine_similarity(np.reshape(im_enc,(1,100)),np.reshape(im_re_enc,(1,100)))\n",
    "\n",
    "print(residual_e, feature_e, residual_cosine ,feature_cosine)"
   ]
  },
  {
   "cell_type": "code",
   "execution_count": 14,
   "metadata": {},
   "outputs": [
    {
     "data": {
      "text/plain": [
       "[array([[[[-1.4594959 , -0.85019803, -1.74881029,  0.771882  ,  0.29230225,\n",
       "           -0.06824562,  0.82174373, -1.26181304,  0.56704038,  0.81849712,\n",
       "           -0.36406869, -1.09462273, -0.65284801,  1.16958046,  1.82655466,\n",
       "            0.63757879, -0.85539865,  0.37215093,  1.17837453, -0.03712209,\n",
       "           -0.8175168 , -0.2668637 , -1.7712394 ,  0.94711173, -0.83882731,\n",
       "           -0.98073471,  0.60294461,  0.40419626, -0.35995656,  0.15152921,\n",
       "            0.3780089 ,  0.68490285, -0.48703006, -0.67005736,  0.48580086,\n",
       "            0.41813749,  0.20831877, -1.56027102, -0.2184325 , -1.11823392,\n",
       "           -0.36248434,  1.16053712, -0.2622658 ,  1.98175251,  2.11877966,\n",
       "           -0.43939906,  0.42846909,  1.7423625 , -0.82722545,  0.30388921,\n",
       "            0.47557059, -0.37252933,  1.43442941, -2.29357243, -0.67671335,\n",
       "            0.68069649,  1.01818717,  0.8854717 , -0.74788994, -0.9929536 ,\n",
       "            1.56497109, -0.31611133,  0.8058362 ,  1.072245  ,  1.06502247,\n",
       "            1.51099432, -0.06013087,  0.4858261 ,  0.53563732,  0.47442225,\n",
       "           -0.81565392,  1.20161927, -0.45309126,  0.02508699, -0.91581583,\n",
       "            0.24741642, -1.52717042, -0.11682995,  1.24195755, -0.4057374 ,\n",
       "           -0.55632478,  0.44934446,  0.91564119, -0.20283799,  0.64899349,\n",
       "            0.30197835, -1.10543001,  0.07184492,  1.93956757, -0.78241789,\n",
       "           -0.05335303,  0.26308307, -1.34591579, -1.76478446, -0.88155907,\n",
       "           -0.21477158,  1.22612786,  0.32014436, -1.41680694,  0.42227557]]]], dtype=float32)]"
      ]
     },
     "execution_count": 14,
     "metadata": {},
     "output_type": "execute_result"
    }
   ],
   "source": [
    "im_enc"
   ]
  },
  {
   "cell_type": "code",
   "execution_count": 15,
   "metadata": {},
   "outputs": [
    {
     "data": {
      "text/plain": [
       "array([[[[ -5.55884004e-01,  -5.59493482e-01,  -4.57163036e-01,\n",
       "            9.29829836e-01,  -7.46594608e-01,  -4.12902474e-01,\n",
       "            2.35763416e-01,  -6.56059980e-01,  -1.73655272e-01,\n",
       "           -1.94599152e-01,  -7.14095533e-01,  -1.18111682e+00,\n",
       "           -3.59187245e-01,   5.13669431e-01,   3.13873053e-01,\n",
       "            1.00078762e+00,  -1.36705554e+00,   6.16367757e-01,\n",
       "            5.23988903e-01,   5.54244757e-01,  -9.71526355e-02,\n",
       "           -5.91522753e-01,  -4.45361167e-01,  -4.91563052e-01,\n",
       "           -9.44785833e-01,   6.50674224e-01,  -1.91142336e-01,\n",
       "            4.00867373e-01,   1.18174577e+00,   1.46429777e+00,\n",
       "           -1.87691942e-01,   1.38566434e+00,  -8.31381142e-01,\n",
       "           -1.11317217e+00,  -4.14074659e-01,  -1.08244205e+00,\n",
       "           -3.25987995e-01,  -2.21592951e+00,   5.70974350e-01,\n",
       "            2.02091426e-01,   7.22491682e-01,   6.84783340e-01,\n",
       "            3.96578461e-01,   8.45091283e-01,   1.88891780e+00,\n",
       "            1.81076586e-01,  -2.22067833e+00,   1.53017426e+00,\n",
       "           -1.36572921e+00,   6.97429359e-01,   1.67273247e+00,\n",
       "           -9.14197505e-01,   9.02091980e-01,  -1.62319994e+00,\n",
       "           -4.75138903e-01,   1.15435147e+00,   1.10234296e+00,\n",
       "            1.60445720e-02,  -5.95209181e-01,  -5.44846833e-01,\n",
       "            1.24787664e+00,  -2.71267623e-01,  -2.45538905e-01,\n",
       "            1.58947051e+00,   6.59981489e-01,   1.50778246e+00,\n",
       "           -9.53005314e-01,   7.87366986e-01,  -4.90568817e-01,\n",
       "           -1.06136754e-01,  -1.22833133e+00,   5.52695990e-01,\n",
       "           -3.97501111e-01,  -1.54191875e+00,   6.98325753e-01,\n",
       "           -9.40901756e-01,  -2.45320238e-02,  -5.35826087e-01,\n",
       "            1.08779418e+00,  -1.02836335e+00,   4.75551099e-01,\n",
       "            6.55252859e-03,  -7.04150647e-04,   1.98057389e+00,\n",
       "            2.35687047e-01,   2.45847553e-02,  -1.71167290e+00,\n",
       "           -2.80743778e-01,   8.07968974e-01,   2.28044808e-01,\n",
       "           -1.07552755e+00,  -8.00657868e-01,  -1.04927194e+00,\n",
       "           -1.35949242e+00,  -8.00602078e-01,   1.47424829e+00,\n",
       "            1.74617553e+00,  -1.44417751e+00,   1.46788910e-01,\n",
       "           -5.06029785e-01]]]], dtype=float32)"
      ]
     },
     "execution_count": 15,
     "metadata": {},
     "output_type": "execute_result"
    }
   ],
   "source": [
    "im_re_enc"
   ]
  },
  {
   "cell_type": "code",
   "execution_count": 16,
   "metadata": {},
   "outputs": [
    {
     "data": {
      "text/plain": [
       "0.68000001"
      ]
     },
     "execution_count": 16,
     "metadata": {},
     "output_type": "execute_result"
    }
   ],
   "source": [
    "np.mean(np.abs(np.sign(im_enc)-np.sign(im_re_enc)))"
   ]
  },
  {
   "cell_type": "code",
   "execution_count": 17,
   "metadata": {},
   "outputs": [
    {
     "data": {
      "image/png": "[encoded data removed]",
      "text/plain": [
       "<matplotlib.figure.Figure at 0x7fb4d37baf60>"
      ]
     },
     "metadata": {},
     "output_type": "display_data"
    },
    {
     "data": {
      "image/png": "[encoded data removed]",
      "text/plain": [
       "<matplotlib.figure.Figure at 0x7fb738310fd0>"
      ]
     },
     "metadata": {},
     "output_type": "display_data"
    },
    {
     "name": "stdout",
     "output_type": "stream",
     "text": [
      "[[[[ 1.  0.  0.  0.  0.  0.  0.  0.  0.  0.]]]] [[  1.00000000e+00   1.41196166e-08   2.59527278e-11   4.43591032e-11\n",
      "    5.78968731e-12   5.79979842e-09   7.14856939e-13   9.49999593e-11\n",
      "    1.25652483e-11   3.63690653e-12]]\n",
      "0.050166 0.505662 [[ 0.9835428]] [[ 0.78703427]]\n"
     ]
    }
   ],
   "source": [
    "im =  test_normal_data[11]      \n",
    "plt.imshow(np.reshape(im,(64, 64)), cmap='Greys_r')\n",
    "\n",
    "plt.show()\n",
    "im_enc= sess.run([D_enc],{u : np.reshape(im,(1,64, 64,1)),isTrain : False})\n",
    "\n",
    "\n",
    "\n",
    "\n",
    "im_re, im_z, im_c= sess.run([re_image, E_z, E_c],{u : np.reshape(im,(1,64, 64,1)),isTrain : False})\n",
    "Q_c, im_re_enc= sess.run([Q_fake,D_enc],{u : np.reshape(im_re,(1,64, 64,1)),z : im_z, c : im_c,isTrain : False})\n",
    "\n",
    "plt.imshow(np.reshape(im_re,(64, 64)), cmap='Greys_r')\n",
    "plt.show()\n",
    "\n",
    "print(im_c,Q_c)\n",
    "\n",
    "residual_e = np.mean(np.sqrt((np.reshape(im,(1,64*64))-np.reshape(im_re,(1,64*64)))**2))\n",
    "residual_cosine = cosine_similarity(np.reshape(im,(1,64*64)),np.reshape(im_re,(1,64*64)))\n",
    "feature_e = np.mean(np.sqrt((np.reshape(im_enc,(1,100))-np.reshape(im_re_enc,(1,100)))**2))\n",
    "feature_cosine = cosine_similarity(np.reshape(im_enc,(1,100)),np.reshape(im_re_enc,(1,100)))\n",
    "\n",
    "print(residual_e, feature_e, residual_cosine ,feature_cosine)\n"
   ]
  },
  {
   "cell_type": "code",
   "execution_count": 21,
   "metadata": {},
   "outputs": [
    {
     "data": {
      "text/plain": [
       "[array([[[[-0.07408322,  0.47310612,  1.42951274, -1.45061767, -0.80171084,\n",
       "           -2.21274924,  0.04308845, -0.30874351,  0.02068696,  1.07540047,\n",
       "            1.46520352,  0.21704032, -0.01678603,  0.57090348,  0.7354123 ,\n",
       "           -0.8496325 ,  1.17189741, -0.45788938, -0.96938288,  0.77253735,\n",
       "            1.49767113,  1.45548368, -0.61934239,  0.7871446 ,  0.76121181,\n",
       "            0.31352854, -0.09268523, -0.66736734, -0.36368176, -1.3338697 ,\n",
       "           -0.22651006, -0.30330881, -0.46811825,  0.28137162, -0.4694728 ,\n",
       "            1.5027802 ,  0.62047535, -0.98429245,  0.59329283,  1.36412942,\n",
       "            0.51711297,  1.12687683, -1.55153012,  1.06880093,  0.96429336,\n",
       "           -2.00788331,  0.93369013, -0.88276631,  0.49261928,  0.2958796 ,\n",
       "           -1.00092423, -0.87192494,  0.00532047,  0.28241599,  0.34157133,\n",
       "            0.90100652,  0.22032675, -0.61770809, -0.05803668, -1.57409704,\n",
       "           -0.36469319, -1.26195431, -0.76041102, -0.57900882, -1.39054835,\n",
       "           -0.24089767,  0.5070675 ,  0.87934345,  1.0443821 ,  0.6761269 ,\n",
       "            0.48022336, -0.47511575,  0.19865532, -1.31242287, -2.39988184,\n",
       "            2.08840895, -0.68443263,  0.99985415,  0.41521776, -0.28542918,\n",
       "            0.69725263, -0.65886503,  1.21161199,  1.64664996, -1.97750103,\n",
       "            1.20160103, -0.69926059,  1.70266986,  1.2551254 , -1.64039111,\n",
       "           -0.75665808,  0.21686912, -1.2668767 , -0.4712643 ,  1.37071717,\n",
       "            0.37942687,  1.30777228,  0.28909272, -0.38974062, -0.45777574]]]], dtype=float32)]"
      ]
     },
     "execution_count": 21,
     "metadata": {},
     "output_type": "execute_result"
    }
   ],
   "source": [
    "im_enc"
   ]
  },
  {
   "cell_type": "code",
   "execution_count": 22,
   "metadata": {},
   "outputs": [
    {
     "data": {
      "text/plain": [
       "array([[[[-1.07497549, -0.51629293,  0.51791143, -1.56652677, -0.59023583,\n",
       "          -1.48308492,  0.40985876,  0.5512979 , -0.33006862,  1.05506647,\n",
       "           1.06139755,  1.33318079,  0.07588366,  0.32994452,  1.3314606 ,\n",
       "          -1.01425505,  0.30085284, -0.0228003 , -1.21651244,  0.94582224,\n",
       "           0.75638998,  0.96555173, -1.16178429,  0.36111706,  0.44377655,\n",
       "          -0.14217062, -0.55035418, -1.0149014 , -1.03266776, -1.27845013,\n",
       "           0.44029975, -0.81782085, -0.51978153, -0.01218626, -0.47479358,\n",
       "           1.29546416,  0.65707111, -1.30640805,  0.38720331,  1.24421501,\n",
       "           0.31016222,  1.09261262, -0.97273147,  1.91756809, -0.16618374,\n",
       "          -0.96146667,  1.27820492, -0.50666589,  1.09033179,  0.62129653,\n",
       "          -0.0373284 , -0.18289784,  0.51495111,  0.81988192, -0.01487288,\n",
       "           1.33066106,  1.00803828,  0.08822443,  0.0640979 , -1.13682902,\n",
       "           0.89695406, -1.16406119, -1.33705771, -0.35046452, -1.28588104,\n",
       "           0.06828241,  1.61039722,  0.46530622,  1.70645487,  0.44384888,\n",
       "           0.13813159, -0.96087122, -0.09008778, -1.78437626, -1.1396147 ,\n",
       "           1.40571105,  0.76829207,  0.94640446,  1.10549128, -0.2278437 ,\n",
       "           0.99181145, -0.4197402 , -0.21710481,  1.22652066, -0.8543725 ,\n",
       "           0.36015072, -0.88409984,  0.52182126,  1.05189097, -0.13455713,\n",
       "          -1.14396322,  0.68762809, -0.91605008, -1.23913908,  0.72798669,\n",
       "           0.52368581,  0.59060478,  0.75710136, -0.05618858, -0.22404912]]]], dtype=float32)"
      ]
     },
     "execution_count": 22,
     "metadata": {},
     "output_type": "execute_result"
    }
   ],
   "source": [
    "im_re_enc"
   ]
  },
  {
   "cell_type": "code",
   "execution_count": 23,
   "metadata": {},
   "outputs": [
    {
     "data": {
      "text/plain": [
       "0.31999999"
      ]
     },
     "execution_count": 23,
     "metadata": {},
     "output_type": "execute_result"
    }
   ],
   "source": [
    "np.mean(np.abs(np.sign(im_enc)-np.sign(im_re_enc)))"
   ]
  },
  {
   "cell_type": "code",
   "execution_count": null,
   "metadata": {},
   "outputs": [],
   "source": []
  },
  {
   "cell_type": "code",
   "execution_count": null,
   "metadata": {},
   "outputs": [],
   "source": []
  },
  {
   "cell_type": "code",
   "execution_count": null,
   "metadata": {},
   "outputs": [],
   "source": []
  },
  {
   "cell_type": "code",
   "execution_count": null,
   "metadata": {},
   "outputs": [],
   "source": []
  }
 ],
 "metadata": {
  "kernelspec": {
   "display_name": "Python 3",
   "language": "python",
   "name": "python3"
  },
  "language_info": {
   "codemirror_mode": {
    "name": "ipython",
    "version": 3
   },
   "file_extension": ".py",
   "mimetype": "text/x-python",
   "name": "python",
   "nbconvert_exporter": "python",
   "pygments_lexer": "ipython3",
   "version": "3.5.2"
  },
  "toc": {
   "base_numbering": 1,
   "nav_menu": {},
   "number_sections": true,
   "sideBar": true,
   "skip_h1_title": false,
   "title_cell": "Table of Contents",
   "title_sidebar": "Contents",
   "toc_cell": false,
   "toc_position": {
    "height": "calc(100% - 180px)",
    "left": "10px",
    "top": "150px",
    "width": "321px"
   },
   "toc_section_display": true,
   "toc_window_display": false
  },
  "varInspector": {
   "cols": {
    "lenName": 16,
    "lenType": 16,
    "lenVar": 40
   },
   "kernels_config": {
    "python": {
     "delete_cmd_postfix": "",
     "delete_cmd_prefix": "del ",
     "library": "var_list.py",
     "varRefreshCmd": "print(var_dic_list())"
    },
    "r": {
     "delete_cmd_postfix": ") ",
     "delete_cmd_prefix": "rm(",
     "library": "var_list.r",
     "varRefreshCmd": "cat(var_dic_list()) "
    }
   },
   "types_to_exclude": [
    "module",
    "function",
    "builtin_function_or_method",
    "instance",
    "_Feature"
   ],
   "window_display": false
  }
 },
 "nbformat": 4,
 "nbformat_minor": 2
}
