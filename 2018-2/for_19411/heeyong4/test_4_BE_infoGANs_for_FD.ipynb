{
 "cells": [
  {
   "cell_type": "markdown",
   "metadata": {
    "code_folding": [
     17,
     21,
     25,
     29,
     33,
     44
    ]
   },
   "source": [
    "# Boundary Equilibrimum infoGANs for Fault Detection example\n",
    "\n",
    "## 초기 설정들"
   ]
  },
  {
   "cell_type": "code",
   "execution_count": 1,
   "metadata": {
    "code_folding": [
     17,
     21,
     25,
     29,
     33,
     44,
     63
    ]
   },
   "outputs": [
    {
     "name": "stdout",
     "output_type": "stream",
     "text": [
      "test_normal_data :  (5139, 64, 64, 1)\n",
      "test_anomalous_data :  (4861, 64, 64, 1)\n",
      "train_normal_data :  (28038, 64, 64, 1)\n",
      "train_anomalous_data :  (26962, 64, 64, 1)\n"
     ]
    }
   ],
   "source": [
    "import tensorflow as tf\n",
    "import numpy as np\n",
    "import os\n",
    "import sys\n",
    "import time\n",
    "import time \n",
    "import matplotlib.pyplot as plt\n",
    "import matplotlib.gridspec as gridspec \n",
    "\n",
    "os.environ[\"CUDA_VISIBLE_DEVICES\"]=\"0\"\n",
    "\n",
    "\n",
    "import pickle\n",
    "import gzip\n",
    "\n",
    "file_dir = 'anoGANs_MNIST_data/'\n",
    "\n",
    "with gzip.open(file_dir + 'test_normal_data.pickle.gzip','rb') as f :\n",
    "    test_normal_data = pickle.load(f)\n",
    "    print('test_normal_data : ' ,test_normal_data.shape)\n",
    "\n",
    "with gzip.open(file_dir + 'test_anomalous_data.pickle.gzip','rb') as f :\n",
    "    test_anomalous_data = pickle.load(f)\n",
    "    print('test_anomalous_data : ',test_anomalous_data.shape)\n",
    "    \n",
    "with gzip.open(file_dir + 'train_normal_data.pickle.gzip','rb') as f :\n",
    "    train_normal_data = pickle.load(f)\n",
    "    print('train_normal_data : ', train_normal_data.shape)\n",
    "    \n",
    "with gzip.open(file_dir + 'train_anomalous_data.pickle.gzip','rb') as f :\n",
    "    train_anomalous_data = pickle.load(f)\n",
    "    print('train_anomalous_data : ',train_anomalous_data.shape )\n",
    "\n",
    "def idx_shuffle(x) : \n",
    "    l = x.shape[0]\n",
    "    idx = np.arange(l)\n",
    "    np.random.shuffle(idx)\n",
    "    shuffled_x = np.empty(x.shape)\n",
    "\n",
    "    for i in range(l):\n",
    "        shuffled_x[idx[i]] = x[i]\n",
    "    \n",
    "    return shuffled_x\n",
    "\n",
    "def mnist_4by4_save(samples,path):\n",
    "    fig = plt.figure(figsize=(4, 4))\n",
    "    gs = gridspec.GridSpec(4, 4)    \n",
    "    gs.update(wspace=0.05, hspace=0.05) #이미지 사이간격 조절\n",
    "  \n",
    "    for i, sample in enumerate(samples):\n",
    "        ax = plt.subplot(gs[i])\n",
    "        plt.axis('off')    \n",
    "        ax.set_xticklabels([])\n",
    "        ax.set_yticklabels([])\n",
    "        ax.set_aspect('equal')\n",
    "   \n",
    "        plt.imshow(sample.reshape(64, 64), cmap='Greys_r',clim=(0.0,1.0))\n",
    "    plt.colorbar()\n",
    "    plt.savefig(path, bbox_inches='tight')\n",
    "    plt.close(fig)\n",
    "   \n",
    "    return None\n",
    "\n",
    "def gan_loss_graph_save(G_loss,D_loss,path):\n",
    "    x1 = range(len(G_loss))\n",
    "    x2 = range(len(D_loss))\n",
    "      \n",
    "    y1 = G_loss\n",
    "    y2 = D_loss\n",
    "  \n",
    "      \n",
    "    plt.plot(x1,y1,label='G_loss') \n",
    "    plt.plot(x2,y2,label='D_loss') \n",
    "  \n",
    "    plt.xlabel('weight per update')\n",
    "    plt.ylabel('loss')             \n",
    "    plt.legend(loc=4)              \n",
    "    plt.grid(True)\n",
    "    plt.tight_layout()\n",
    "  \n",
    "    plt.savefig(path)              \n",
    "\n",
    "    return None\n",
    "\n",
    "file_name = 'ex_BE_infoGANs_for_FD_v4'\n",
    "\n"
   ]
  },
  {
   "cell_type": "markdown",
   "metadata": {},
   "source": [
    "## network load"
   ]
  },
  {
   "cell_type": "code",
   "execution_count": 2,
   "metadata": {},
   "outputs": [
    {
     "name": "stdout",
     "output_type": "stream",
     "text": [
      "INFO:tensorflow:Restoring parameters from ex_BE_infoGANs_for_FD_v4/para.cktp\n"
     ]
    }
   ],
   "source": [
    "if not os.path.isdir(file_name) :\n",
    "    os.mkdir(file_name)\n",
    "\n",
    "    \n",
    "sess = tf.InteractiveSession()\n",
    "    \n",
    "new_saver = tf.train.import_meta_graph(file_name + '/para.cktp.meta')\n",
    "new_saver.restore(sess, tf.train.latest_checkpoint(file_name + '/'))\n",
    "\n",
    "\n",
    "z = sess.graph.get_tensor_by_name(\"z:0\")\n",
    "c = sess.graph.get_tensor_by_name(\"c:0\")\n",
    "u = sess.graph.get_tensor_by_name(\"u:0\")\n",
    "k = sess.graph.get_tensor_by_name(\"k:0\")\n",
    "\n",
    "isTrain = sess.graph.get_tensor_by_name(\"isTrain:0\")\n",
    "\n",
    "G_sample = sess.graph.get_tensor_by_name(\"G_sample:0\")\n",
    "E_z = sess.graph.get_tensor_by_name(\"E_z:0\")\n",
    "E_c = sess.graph.get_tensor_by_name(\"Reshape:0\")\n",
    "\n",
    "\n",
    "\n",
    "re_image = sess.graph.get_tensor_by_name(\"re_image:0\")\n",
    "re_z = sess.graph.get_tensor_by_name(\"re_z:0\")\n",
    "re_c = sess.graph.get_tensor_by_name(\"Reshape_1:0\")\n",
    "\n",
    "re_z_loss = sess.graph.get_tensor_by_name(\"re_z_loss:0\")\n",
    "re_c_loss = sess.graph.get_tensor_by_name(\"re_c_loss:0\")\n",
    "re_image_loss = sess.graph.get_tensor_by_name(\"re_image_loss:0\")\n",
    "\n",
    "\n",
    "E_loss = sess.graph.get_tensor_by_name(\"E_loss:0\")\n",
    "\n",
    "D_real = sess.graph.get_tensor_by_name('D_real:0')                       # D(x)\n",
    "D_fake = sess.graph.get_tensor_by_name('D_fake:0')         # D(G(z))\n",
    "Q_fake = sess.graph.get_tensor_by_name(\"Q_fake:0\")\n",
    "\n",
    "\n",
    "D_enc = sess.graph.get_tensor_by_name(\"D_enc_1:0\")\n",
    "\n",
    "D_real_loss = sess.graph.get_tensor_by_name('D_real_loss:0')\n",
    "D_fake_loss = sess.graph.get_tensor_by_name('D_fake_loss:0')\n",
    "\n",
    "D_loss = sess.graph.get_tensor_by_name(\"D_loss:0\")\n",
    "G_loss = sess.graph.get_tensor_by_name(\"G_loss:0\")\n",
    "Q_loss  = sess.graph.get_tensor_by_name(\"Q_loss:0\")\n",
    "\n",
    "D_optim = sess.graph.get_operation_by_name(\"D_optim\")\n",
    "G_optim = sess.graph.get_operation_by_name(\"G_optim\")\n",
    "E_optim = sess.graph.get_operation_by_name(\"E_optim\")\n",
    "E_AE_optim = sess.graph.get_operation_by_name(\"E_AE_optim\")\n",
    "\n",
    "\n"
   ]
  },
  {
   "cell_type": "code",
   "execution_count": 3,
   "metadata": {},
   "outputs": [],
   "source": [
    "train_epoch = 15\n",
    "batch_size = 100\n",
    "z_size = 100\n",
    "lam = 0.001\n",
    "gamma = 0.5\n",
    "k_curr = 0.0\n",
    "c_size = 10\n",
    "\n",
    "\n",
    "file_name1 = 'test4_BE_infoGANs_for_FD'\n",
    "\n",
    "\n",
    "if not os.path.isdir(file_name1) :\n",
    "    os.mkdir(file_name1)"
   ]
  },
  {
   "cell_type": "code",
   "execution_count": null,
   "metadata": {},
   "outputs": [],
   "source": []
  },
  {
   "cell_type": "code",
   "execution_count": 4,
   "metadata": {},
   "outputs": [
    {
     "name": "stdout",
     "output_type": "stream",
     "text": [
      "E_e : 25.326244\n",
      "E_e : 24.342194\n",
      "E_e : 24.047169\n",
      "E_e : 23.795343\n",
      "E_e : 23.511045\n",
      "E_e : 23.473810\n",
      "E_e : 23.241644\n",
      "E_e : 23.143064\n",
      "E_e : 23.088213\n",
      "E_e : 23.049994\n",
      "E_e : 22.981457\n",
      "E_e : 22.977919\n",
      "E_e : 22.807035\n",
      "E_e : 22.772243\n",
      "E_e : 22.728714\n",
      "total time :  1075.4721989631653\n"
     ]
    }
   ],
   "source": [
    "np.random.seed(int(time.time()))\n",
    "\n",
    "\n",
    "one_hot = np.eye(c_size)\n",
    "temp2 = np.array([1,1,1,1,2,2,2,2,3,3,3,3,4,4,4,4])\n",
    "test_c = one_hot[temp2].reshape([-1,1,1,c_size])\n",
    "test_z = np.random.uniform(-1,1,size=(16,1,1,z_size))\n",
    "mnist_4by4_save(np.reshape(test_normal_data[0:16],(-1,64,64,1)),file_name1 + '/normal.png')    \n",
    "mnist_4by4_save(np.reshape(test_anomalous_data[0:16],(-1,64,64,1)),file_name1 + '/anomalous.png')    \n",
    "\n",
    "E_error = []\n",
    "start = time.time()\n",
    "for epoch in range(train_epoch) :\n",
    "\n",
    "    np.random.seed(int(time.time()))\n",
    "    train_normal_data = idx_shuffle(train_normal_data) \n",
    "\n",
    "    for iteration in range(train_normal_data.shape[0] // batch_size) : \n",
    "\n",
    "\n",
    "        train_images = train_normal_data[iteration*batch_size : (iteration+1)*batch_size]      \n",
    "        u_ = np.reshape(train_images,(-1,64,64,1)) \n",
    "        z_ = np.random.uniform(-1,1,size=(batch_size,1,1,z_size))\n",
    "        temp1 = np.random.randint(0,10,(batch_size))                                                                                                                                     \n",
    "        c_ = one_hot[temp1].reshape([-1,1,1,c_size])\n",
    "        \n",
    "        _  = sess.run([E_optim], {u : u_, z : z_, c : c_,isTrain : True})\n",
    "        \n",
    "        _ , E_e = sess.run([E_AE_optim, re_image_loss], {u : u_, z : z_, c : c_,isTrain : True})\n",
    "        E_error.append(E_e)\n",
    "        \n",
    "            \n",
    "\n",
    "\n",
    "    r = sess.run([re_image],feed_dict={u : test_normal_data[0:16],isTrain : False})        \n",
    "    mnist_4by4_save(np.reshape(r,(-1,64,64,1)),file_name1 + '/normal_{}.png'.format(str(epoch).zfill(3)))\n",
    "\n",
    "    r = sess.run([re_image],feed_dict={u : test_anomalous_data[0:16],isTrain : False})        \n",
    "    mnist_4by4_save(np.reshape(r,(-1,64,64,1)),file_name1 + '/anomlous_{}.png'.format(str(epoch).zfill(3)))\n",
    "\n",
    "    print(\"E_e : %.6f\"%(np.mean(E_error)))\n",
    "    E_error = []\n",
    "\n",
    "saver = tf.train.Saver()\n",
    "saver.save(sess,file_name1 + '/para.cktp')\n",
    "\n",
    "end = time.time()-start\n",
    "\n",
    "print(\"total time : \",end)"
   ]
  },
  {
   "cell_type": "code",
   "execution_count": 157,
   "metadata": {},
   "outputs": [
    {
     "data": {
      "text/plain": [
       "array([[ 0.75167322]], dtype=float32)"
      ]
     },
     "execution_count": 157,
     "metadata": {},
     "output_type": "execute_result"
    }
   ],
   "source": []
  },
  {
   "cell_type": "code",
   "execution_count": 19,
   "metadata": {},
   "outputs": [],
   "source": [
    "from sklearn.metrics.pairwise import cosine_similarity\n",
    "feature = []\n",
    "cosine = []\n",
    "res_mse = []\n",
    "res_cos = []\n",
    "\n",
    "for iteration in range(test_normal_data.shape[0] // batch_size) : \n",
    "    test_images = test_normal_data[iteration*batch_size : (iteration+1)*batch_size]      \n",
    "    u_ = np.reshape(test_images,(-1,64,64,1)) \n",
    "    \n",
    "    im_enc= sess.run([D_enc],{u : u_,isTrain : False})\n",
    "    im_re, im_z, im_c= sess.run([re_image, E_z, E_c],{u : u_,isTrain : False})\n",
    "    Q_c, im_re_enc= sess.run([Q_fake,D_enc],{u : im_re,z : im_z, c : im_c,isTrain : False})\n",
    "    \n",
    "  \n",
    "    for i in range(batch_size) :\n",
    "        \n",
    "        \n",
    "        residual_e = np.mean(np.sqrt((np.reshape(u_[i],(1,64*64))-np.reshape(im_re[i],(1,64*64)))**2))\n",
    "        residual_cosine = cosine_similarity(np.reshape(u_[i],(1,64*64)),np.reshape(im_re[i],(1,64*64)))\n",
    "        \n",
    "        \n",
    "        feature_e = np.mean(np.sqrt((np.reshape(im_enc[0][i],(-1,100))-np.reshape(im_re_enc[i],(-1,100)))**2))\n",
    "        feature_cosine = cosine_similarity(np.reshape(im_enc[0][i],(-1,100)),np.reshape(im_re_enc[i],(-1,100)))\n",
    "        feature.append(feature_e)\n",
    "        cosine.append(feature_cosine)\n",
    "        res_mse.append(residual_e)\n",
    "        res_cos.append(residual_cosine )\n",
    "\n",
    "    "
   ]
  },
  {
   "cell_type": "code",
   "execution_count": null,
   "metadata": {},
   "outputs": [],
   "source": []
  },
  {
   "cell_type": "code",
   "execution_count": 20,
   "metadata": {},
   "outputs": [],
   "source": [
    "afeature = []\n",
    "acosine = []\n",
    "ares_mse = []\n",
    "ares_cos = []\n",
    "\n",
    "for iteration in range(test_anomalous_data.shape[0] // batch_size) : \n",
    "    test_images = test_anomalous_data[iteration*batch_size : (iteration+1)*batch_size]      \n",
    "    u_ = np.reshape(test_images,(-1,64,64,1)) \n",
    "    \n",
    "    im_enc= sess.run([D_enc],{u : u_,isTrain : False})\n",
    "    \n",
    "    im_re, im_z, im_c= sess.run([re_image, E_z, E_c],{u : u_,isTrain : False})\n",
    "    Q_c, im_re_enc= sess.run([Q_fake,D_enc],{u : im_re,z : im_z, c : im_c,isTrain : False})\n",
    "    \n",
    "    \n",
    "    for i in range(batch_size) :\n",
    "        \n",
    "        residual_e = np.mean(np.sqrt((np.reshape(u_[i],(1,64*64))-np.reshape(im_re[i],(1,64*64)))**2))\n",
    "        residual_cosine = cosine_similarity(np.reshape(u_[i],(1,64*64)),np.reshape(im_re[i],(1,64*64)))\n",
    "        \n",
    "        feature_e = np.mean(np.sqrt((np.reshape(im_enc[0][i],(-1,100))-np.reshape(im_re_enc[i],(-1,100)))**2))\n",
    "        feature_cosine = cosine_similarity(np.reshape(im_enc[0][i],(-1,100)),np.reshape(im_re_enc[i],(-1,100)))\n",
    "        afeature.append(feature_e)\n",
    "        acosine.append(feature_cosine)\n",
    "        ares_mse.append(residual_e)\n",
    "        ares_cos.append(residual_cosine )\n",
    "    \n",
    "\n"
   ]
  },
  {
   "cell_type": "code",
   "execution_count": 21,
   "metadata": {},
   "outputs": [],
   "source": [
    "train_feature = []\n",
    "train_cosine = []\n",
    "train_res_mse = []\n",
    "train_res_cos = []\n",
    "\n",
    "for iteration in range(train_normal_data.shape[0] // batch_size) : \n",
    "    test_images = train_normal_data[iteration*batch_size : (iteration+1)*batch_size]      \n",
    "    u_ = np.reshape(test_images,(-1,64,64,1)) \n",
    "    \n",
    "    im_enc= sess.run([D_enc],{u : u_,isTrain : False})\n",
    "    im_re, im_z, im_c= sess.run([re_image, E_z, E_c],{u : u_,isTrain : False})\n",
    "    Q_c, im_re_enc= sess.run([Q_fake,D_enc],{u : im_re,z : im_z, c : im_c,isTrain : False})\n",
    "    \n",
    "  \n",
    "    for i in range(batch_size) :\n",
    "        \n",
    "        residual_e = np.mean(np.sqrt((np.reshape(u_[i],(1,64*64))-np.reshape(im_re[i],(1,64*64)))**2))\n",
    "        residual_cosine = cosine_similarity(np.reshape(u_[i],(1,64*64)),np.reshape(im_re[i],(1,64*64)))\n",
    "        \n",
    "        feature_e = np.mean(np.sqrt((np.reshape(im_enc[0][i],(-1,100))-np.reshape(im_re_enc[i],(-1,100)))**2))\n",
    "        feature_cosine = cosine_similarity(np.reshape(im_enc[0][i],(-1,100)),np.reshape(im_re_enc[i],(-1,100)))\n",
    "        train_feature.append(feature_e)\n",
    "        train_cosine.append(feature_cosine)\n",
    "        train_res_mse.append(residual_e)\n",
    "        train_res_cos.append(residual_cosine )\n",
    "            \n",
    "        \n",
    "        "
   ]
  },
  {
   "cell_type": "code",
   "execution_count": 40,
   "metadata": {},
   "outputs": [
    {
     "data": {
      "image/png": "[encoded data removed]",
      "text/plain": [
       "<matplotlib.figure.Figure at 0x7f014e2959e8>"
      ]
     },
     "metadata": {},
     "output_type": "display_data"
    },
    {
     "data": {
      "image/png": "[encoded data removed]",
      "text/plain": [
       "<matplotlib.figure.Figure at 0x7f014e5536a0>"
      ]
     },
     "metadata": {},
     "output_type": "display_data"
    }
   ],
   "source": [
    "\n",
    "import scikitplot as skplt\n",
    "import matplotlib.pyplot as plt\n",
    "\n",
    "\n",
    "plt.hist(np.reshape(feature,-1), bins='auto', alpha=0.6, label=\"normal\",normed=1)  # arguments are passed to np.histogram\n",
    "plt.title(\"feature error\")\n",
    "\n",
    "plt.hist(np.reshape(afeature,-1), bins='auto', alpha=0.6, label=\"anomaous\",normed=1)  # arguments are passed to np.histogram\n",
    "\n",
    "plt.hist(np.reshape(train_feature,-1), bins='auto', alpha=0.6, label=\"train\",normed=1)  # arguments are passed to np.histogram\n",
    "\n",
    "plt.legend()\n",
    "plt.show()    \n",
    "\n",
    "\n",
    "\n",
    "plt.hist(np.reshape(res_mse,-1), bins='auto', alpha=0.6, label=\"normal\",normed=1)  # arguments are passed to np.histogram\n",
    "plt.title(\"residual mes\")\n",
    "\n",
    "\n",
    "\n",
    "plt.hist(np.reshape(ares_mse,-1), bins='auto', alpha=0.6, label=\"anomaous\",normed=1)  # arguments are passed to np.histogram\n",
    "\n",
    "plt.hist(np.reshape(train_res_mse,-1), bins='auto', alpha=0.6, label=\"train\",normed=1)  # arguments are passed to np.histogram\n",
    "\n",
    "plt.legend()\n",
    "plt.show()    \n",
    "\n",
    "\n",
    "\n",
    "\n"
   ]
  },
  {
   "cell_type": "code",
   "execution_count": 86,
   "metadata": {},
   "outputs": [
    {
     "name": "stdout",
     "output_type": "stream",
     "text": [
      "0.834309068627\n"
     ]
    },
    {
     "data": {
      "image/png": "[encoded data removed]",
      "text/plain": [
       "<matplotlib.figure.Figure at 0x7f014e33c4a8>"
      ]
     },
     "metadata": {},
     "output_type": "display_data"
    },
    {
     "name": "stdout",
     "output_type": "stream",
     "text": [
      "0.758267034314\n"
     ]
    },
    {
     "data": {
      "image/png": "[encoded data removed]",
      "text/plain": [
       "<matplotlib.figure.Figure at 0x7f014eb1b550>"
      ]
     },
     "metadata": {},
     "output_type": "display_data"
    }
   ],
   "source": [
    "\n",
    "label_normal = np.zeros(np.array(feature).shape[0])\n",
    "label_anomalous = np.ones(np.array(afeature).shape[0])\n",
    "\n",
    "test = np.concatenate((label_normal, label_anomalous), axis=0)\n",
    "\n",
    "pred = np.concatenate((np.reshape(feature,-1), np.reshape(afeature,-1)), axis=0)\n",
    "#skplt.metrics.plot_roc_curve(label, data)\n",
    "#plt.show()\n",
    "                      \n",
    "import matplotlib.pyplot as plt\n",
    "from sklearn.metrics import roc_curve, auc, roc_auc_score\n",
    "fpr = dict()\n",
    "tpr = dict()\n",
    "roc_auc = dict()\n",
    "for i in range(2):\n",
    "    fpr[i], tpr[i], _ = roc_curve(test, pred)\n",
    "    roc_auc[i] = auc(fpr[i], tpr[i])\n",
    "print( roc_auc_score(test, pred))\n",
    "plt.figure()\n",
    "plt.plot(fpr[1], tpr[1])\n",
    "plt.xlim([0.0, 1.0])\n",
    "plt.ylim([0.0, 1.0])\n",
    "plt.xlabel('False Positive Rate')\n",
    "plt.ylabel('True Positive Rate')\n",
    "plt.title('feature mse ROC')\n",
    "plt.show()\n",
    "                      \n",
    "\n",
    "\n",
    "label_normal = np.zeros(np.array(res_mse).shape[0])\n",
    "label_anomalous = np.ones(np.array(ares_mse).shape[0])\n",
    "\n",
    "\n",
    "\n",
    "test = np.concatenate((label_normal, label_anomalous), axis=0)\n",
    "\n",
    "pred = np.concatenate((np.reshape(res_mse,-1), np.reshape(ares_mse,-1)), axis=0)\n",
    "#skplt.metrics.plot_roc_curve(label, data)\n",
    "#plt.show()\n",
    "                      \n",
    "import matplotlib.pyplot as plt\n",
    "from sklearn.metrics import roc_curve, auc, roc_auc_score\n",
    "fpr = dict()\n",
    "tpr = dict()\n",
    "roc_auc = dict()\n",
    "for i in range(2):\n",
    "    fpr[i], tpr[i], _ = roc_curve(test, pred)\n",
    "    roc_auc[i] = auc(fpr[i], tpr[i])\n",
    "print( roc_auc_score(test, pred))\n",
    "plt.figure()\n",
    "plt.plot(fpr[1], tpr[1])\n",
    "plt.xlim([0.0, 1.0])\n",
    "plt.ylim([0.0, 1.0])\n",
    "plt.xlabel('False Positive Rate')\n",
    "plt.ylabel('True Positive Rate')\n",
    "plt.title('residual mse ROC')\n",
    "plt.show()                      "
   ]
  },
  {
   "cell_type": "code",
   "execution_count": null,
   "metadata": {},
   "outputs": [],
   "source": []
  },
  {
   "cell_type": "code",
   "execution_count": 23,
   "metadata": {},
   "outputs": [
    {
     "data": {
      "image/png": "[encoded data removed]",
      "text/plain": [
       "<matplotlib.figure.Figure at 0x7f014ed2c860>"
      ]
     },
     "metadata": {},
     "output_type": "display_data"
    },
    {
     "data": {
      "image/png": "[encoded data removed]",
      "text/plain": [
       "<matplotlib.figure.Figure at 0x7f014e5abba8>"
      ]
     },
     "metadata": {},
     "output_type": "display_data"
    }
   ],
   "source": [
    "plt.hist(np.reshape(cosine,-1), bins='auto', alpha=0.6, label=\"normal\",normed=1)  # arguments are passed to np.histogram\n",
    "plt.title(\"cosine error\")\n",
    "\n",
    "plt.hist(np.reshape(acosine,-1), bins='auto', alpha=0.6, label=\"anomaous\",normed=1)  # arguments are passed to np.histogram\n",
    "\n",
    "plt.hist(np.reshape(train_cosine,-1), bins='auto', alpha=0.6, label=\"train\",normed=1)  # arguments are passed to np.histogram\n",
    "\n",
    "plt.legend()\n",
    "plt.show()  \n",
    "\n",
    "\n",
    "plt.hist(np.reshape(res_cos,-1), bins='auto', alpha=0.6, label=\"normal\",normed=1)  # arguments are passed to np.histogram\n",
    "plt.title(\"residual cosine\")\n",
    "\n",
    "\n",
    "\n",
    "plt.hist(np.reshape(ares_cos,-1), bins='auto', alpha=0.6, label=\"anomaous\",normed=1)  # arguments are passed to np.histogram\n",
    "\n",
    "plt.hist(np.reshape(train_res_cos,-1), bins='auto', alpha=0.6, label=\"train\",normed=1)  # arguments are passed to np.histogram\n",
    "\n",
    "plt.legend()\n",
    "plt.show()    \n",
    "\n"
   ]
  },
  {
   "cell_type": "code",
   "execution_count": 88,
   "metadata": {},
   "outputs": [
    {
     "name": "stdout",
     "output_type": "stream",
     "text": [
      "0.848905433007\n"
     ]
    },
    {
     "data": {
      "image/png": "[encoded data removed]",
      "text/plain": [
       "<matplotlib.figure.Figure at 0x7f014ed024a8>"
      ]
     },
     "metadata": {},
     "output_type": "display_data"
    },
    {
     "name": "stdout",
     "output_type": "stream",
     "text": [
      "0.794655310458\n"
     ]
    },
    {
     "data": {
      "image/png": "[encoded data removed]",
      "text/plain": [
       "<matplotlib.figure.Figure at 0x7f014ed9aef0>"
      ]
     },
     "metadata": {},
     "output_type": "display_data"
    }
   ],
   "source": [
    "\n",
    "                    \n",
    "label_normal = np.ones(np.array(cosine).shape[0])\n",
    "label_anomalous = np.zeros(np.array(acosine).shape[0])\n",
    "\n",
    "\n",
    "\n",
    "test = np.concatenate((label_normal, label_anomalous), axis=0)\n",
    "\n",
    "pred = np.concatenate((np.reshape(cosine,-1), np.reshape(acosine,-1)), axis=0)\n",
    "#skplt.metrics.plot_roc_curve(label, data)\n",
    "#plt.show()\n",
    "                      \n",
    "import matplotlib.pyplot as plt\n",
    "from sklearn.metrics import roc_curve, auc, roc_auc_score\n",
    "fpr = dict()\n",
    "tpr = dict()\n",
    "roc_auc = dict()\n",
    "for i in range(2):\n",
    "    fpr[i], tpr[i], _ = roc_curve(test, pred)\n",
    "    roc_auc[i] = auc(fpr[i], tpr[i])\n",
    "print( roc_auc_score(test, pred))\n",
    "plt.figure()\n",
    "plt.plot(fpr[1], tpr[1])\n",
    "plt.xlim([0.0, 1.0])\n",
    "plt.ylim([0.0, 1.0])\n",
    "plt.xlabel('False Positive Rate')\n",
    "plt.ylabel('True Positive Rate')\n",
    "plt.title('feature cosine ROC')\n",
    "plt.show()       \n",
    "\n",
    "\n",
    "\n",
    "label_normal = np.ones(np.array(res_cos).shape[0])\n",
    "label_anomalous = np.zeros(np.array(ares_cos).shape[0])\n",
    "\n",
    "test = np.concatenate((label_normal, label_anomalous), axis=0)\n",
    "\n",
    "pred = np.concatenate((np.reshape(res_cos,-1), np.reshape(ares_cos,-1)), axis=0)\n",
    "#skplt.metrics.plot_roc_curve(label, data)\n",
    "#plt.show()\n",
    "                      \n",
    "import matplotlib.pyplot as plt\n",
    "from sklearn.metrics import roc_curve, auc, roc_auc_score\n",
    "fpr = dict()\n",
    "tpr = dict()\n",
    "roc_auc = dict()\n",
    "for i in range(2):\n",
    "    fpr[i], tpr[i], _ = roc_curve(test, pred)\n",
    "    roc_auc[i] = auc(fpr[i], tpr[i])\n",
    "print( roc_auc_score(test, pred))\n",
    "plt.figure()\n",
    "plt.plot(fpr[1], tpr[1])\n",
    "plt.xlim([0.0, 1.0])\n",
    "plt.ylim([0.0, 1.0])\n",
    "plt.xlabel('False Positive Rate')\n",
    "plt.ylabel('True Positive Rate')\n",
    "plt.title('residual cosine ROC')\n",
    "plt.show()\n"
   ]
  },
  {
   "cell_type": "code",
   "execution_count": null,
   "metadata": {},
   "outputs": [],
   "source": []
  },
  {
   "cell_type": "code",
   "execution_count": null,
   "metadata": {},
   "outputs": [],
   "source": []
  },
  {
   "cell_type": "code",
   "execution_count": null,
   "metadata": {},
   "outputs": [],
   "source": []
  },
  {
   "cell_type": "code",
   "execution_count": 74,
   "metadata": {},
   "outputs": [],
   "source": [
    "\n"
   ]
  },
  {
   "cell_type": "code",
   "execution_count": 11,
   "metadata": {},
   "outputs": [
    {
     "data": {
      "image/png": "[encoded data removed]",
      "text/plain": [
       "<matplotlib.figure.Figure at 0x7f014ec8ae10>"
      ]
     },
     "metadata": {},
     "output_type": "display_data"
    },
    {
     "data": {
      "image/png": "[encoded data removed]",
      "text/plain": [
       "<matplotlib.figure.Figure at 0x7f014eca5e80>"
      ]
     },
     "metadata": {},
     "output_type": "display_data"
    },
    {
     "name": "stdout",
     "output_type": "stream",
     "text": [
      "[[[[ 0.  0.  0.  0.  0.  0.  0.  1.  0.  0.]]]] [[  3.47070417e-09   6.04701017e-05   8.76401318e-05   2.52045851e-07\n",
      "    1.59192709e-07   5.18415311e-09   4.45955939e-09   9.99841928e-01\n",
      "    2.73299037e-07   9.22568597e-06]]\n",
      "0.150202 0.748452 [[ 0.91284776]] [[ 0.51555932]]\n"
     ]
    }
   ],
   "source": [
    "\n",
    "\n",
    "im =  test_anomalous_data[111]      \n",
    "plt.imshow(np.reshape(im,(64, 64)), cmap='Greys_r')\n",
    "plt.show()\n",
    "im_enc= sess.run([D_enc],{u : np.reshape(im,(1,64, 64,1)),isTrain : False})\n",
    "\n",
    "\n",
    "\n",
    "\n",
    "im_re, im_z, im_c= sess.run([re_image, E_z, E_c],{u : np.reshape(im,(1,64, 64,1)),isTrain : False})\n",
    "Q_c, im_re_enc= sess.run([Q_fake,D_enc],{u : np.reshape(im_re,(1,64, 64,1)),z : im_z, c : im_c,isTrain : False})\n",
    "\n",
    "plt.imshow(np.reshape(im_re,(64, 64)), cmap='Greys_r')\n",
    "plt.show()\n",
    "\n",
    "print(im_c,Q_c)\n",
    "\n",
    "residual_e = np.mean(np.sqrt((np.reshape(im,(1,64*64))-np.reshape(im_re,(1,64*64)))**2))\n",
    "residual_cosine = cosine_similarity(np.reshape(im,(1,64*64)),np.reshape(im_re,(1,64*64)))\n",
    "feature_e = np.mean(np.sqrt((np.reshape(im_enc,(1,100))-np.reshape(im_re_enc,(1,100)))**2))\n",
    "feature_cosine = cosine_similarity(np.reshape(im_enc,(1,100)),np.reshape(im_re_enc,(1,100)))\n",
    "\n",
    "print(residual_e, feature_e, residual_cosine ,feature_cosine)"
   ]
  },
  {
   "cell_type": "code",
   "execution_count": 76,
   "metadata": {},
   "outputs": [
    {
     "data": {
      "text/plain": [
       "[array([[[[-0.64330131, -1.07335508,  3.09616661,  1.88346589,  0.79869056,\n",
       "           -0.33810547,  1.2695843 , -0.98340863,  0.21326867, -1.34443784,\n",
       "            2.21015692,  0.16688631,  1.19680619, -1.01797807, -0.00899344,\n",
       "            0.43866125,  1.08744943, -0.46885082,  0.98144197,  1.39461386,\n",
       "            0.83510065, -0.85343528, -0.4139488 , -1.31586826,  1.06155157,\n",
       "           -0.13298434, -0.39008003,  0.54946494, -0.36116496, -1.43561828,\n",
       "           -0.85611755,  0.18804875,  0.61389804,  1.43240285,  0.31361794,\n",
       "           -0.26973405, -0.99250132,  1.45454168, -0.29797408, -0.25936598,\n",
       "            1.08269513,  1.42855453,  1.58365345,  2.09074402, -0.94717747,\n",
       "            0.83973396,  0.58276188, -0.69290882, -1.46487665, -0.05009381,\n",
       "           -0.90483165, -2.25753379, -1.04863286,  0.26355904, -0.82327533,\n",
       "           -0.08397249, -0.30958951,  0.38862565, -2.05447412, -0.45075804,\n",
       "           -0.39915991, -0.13019641,  1.90679169, -0.88235927,  1.17833638,\n",
       "            0.86371642, -0.27894759,  1.04255164, -0.27205396,  1.12994564,\n",
       "           -0.85770965, -0.56370443,  1.50592327,  1.18941629, -1.31524014,\n",
       "            0.24869953,  0.44539651, -1.77846515,  0.90373349, -0.04960851,\n",
       "           -2.01445293, -0.33256304, -0.67748523, -0.07782592, -0.74868691,\n",
       "           -1.42290127, -0.65997046,  0.17809716, -1.32133055, -0.50310916,\n",
       "            0.96680468,  0.05321744, -0.08649234,  0.4523648 ,  0.12985845,\n",
       "            0.39186218,  0.12440665, -0.4461799 , -0.69103634,  0.21796136]]]], dtype=float32)]"
      ]
     },
     "execution_count": 76,
     "metadata": {},
     "output_type": "execute_result"
    }
   ],
   "source": [
    "im_enc"
   ]
  },
  {
   "cell_type": "code",
   "execution_count": 77,
   "metadata": {},
   "outputs": [
    {
     "data": {
      "text/plain": [
       "array([[[[-0.88167173, -0.47838661,  0.97080672,  0.41897887, -0.51601774,\n",
       "          -0.03565793,  0.46633065,  0.67933583,  0.22824095, -1.19912624,\n",
       "           0.90824533, -0.91070569, -0.99108416, -0.30911991,  0.36635077,\n",
       "           0.92729878,  0.42510635,  0.44120246,  0.09522473,  1.66041291,\n",
       "           0.98284602,  0.84811872,  0.06451426, -0.25231373, -0.54249716,\n",
       "          -0.96819144,  0.74750715,  0.87951934,  0.73489887, -0.78016281,\n",
       "          -0.65559441,  0.14689623,  1.33041191,  0.47905725, -1.51827323,\n",
       "           0.20341301, -0.33562282, -0.57989943, -0.42445692,  0.82146692,\n",
       "           0.27795294, -0.61299497,  0.9907425 ,  0.6294502 , -0.25431648,\n",
       "          -0.25661266, -1.17466807,  0.31850073, -1.68194735,  1.44399679,\n",
       "          -0.37547922, -0.35185614,  0.23959364, -0.31805101, -0.18322591,\n",
       "          -1.58122981, -0.3949663 ,  0.95481849, -1.83542144, -0.69051844,\n",
       "           1.16937757, -0.65209371,  0.56770295, -0.84848207,  1.20790875,\n",
       "           0.56392723,  0.50472677,  0.22526661, -0.14905837, -1.81093717,\n",
       "           1.1019851 , -0.78768408, -1.32412779,  0.2662468 ,  0.32560191,\n",
       "           0.46868339,  0.45560053,  0.83714163,  0.32932845,  1.69230556,\n",
       "           0.072414  ,  0.74338979,  0.38697705,  0.13923629, -0.13872819,\n",
       "          -1.02291405, -1.19389951,  0.2442551 , -1.49194026, -1.84810388,\n",
       "           0.80027813,  1.38143802, -1.02478254,  1.4742533 , -0.75171143,\n",
       "           1.76403332,  1.20371318, -0.78746736, -0.19044302, -0.80660874]]]], dtype=float32)"
      ]
     },
     "execution_count": 77,
     "metadata": {},
     "output_type": "execute_result"
    }
   ],
   "source": [
    "im_re_enc"
   ]
  },
  {
   "cell_type": "code",
   "execution_count": 12,
   "metadata": {},
   "outputs": [
    {
     "data": {
      "image/png": "[encoded data removed]",
      "text/plain": [
       "<matplotlib.figure.Figure at 0x7f014ebfe208>"
      ]
     },
     "metadata": {},
     "output_type": "display_data"
    },
    {
     "data": {
      "image/png": "[encoded data removed]",
      "text/plain": [
       "<matplotlib.figure.Figure at 0x7f014ec2ac50>"
      ]
     },
     "metadata": {},
     "output_type": "display_data"
    },
    {
     "name": "stdout",
     "output_type": "stream",
     "text": [
      "[[[[ 0.  0.  0.  0.  0.  0.  0.  1.  0.  0.]]]] [[  5.04244735e-09   4.34335379e-06   2.54133804e-04   5.32691729e-07\n",
      "    1.45695537e-07   9.34310492e-07   7.17467188e-08   9.99739826e-01\n",
      "    2.12198412e-10   3.45024169e-08]]\n",
      "0.0871557 0.482112 [[ 0.96709937]] [[ 0.77173918]]\n"
     ]
    }
   ],
   "source": [
    "im =  test_normal_data[11]      \n",
    "plt.imshow(np.reshape(im,(64, 64)), cmap='Greys_r')\n",
    "\n",
    "plt.show()\n",
    "im_enc= sess.run([D_enc],{u : np.reshape(im,(1,64, 64,1)),isTrain : False})\n",
    "\n",
    "\n",
    "\n",
    "\n",
    "im_re, im_z, im_c= sess.run([re_image, E_z, E_c],{u : np.reshape(im,(1,64, 64,1)),isTrain : False})\n",
    "Q_c, im_re_enc= sess.run([Q_fake,D_enc],{u : np.reshape(im_re,(1,64, 64,1)),z : im_z, c : im_c,isTrain : False})\n",
    "\n",
    "plt.imshow(np.reshape(im_re,(64, 64)), cmap='Greys_r')\n",
    "plt.show()\n",
    "\n",
    "print(im_c,Q_c)\n",
    "\n",
    "residual_e = np.mean(np.sqrt((np.reshape(im,(1,64*64))-np.reshape(im_re,(1,64*64)))**2))\n",
    "residual_cosine = cosine_similarity(np.reshape(im,(1,64*64)),np.reshape(im_re,(1,64*64)))\n",
    "feature_e = np.mean(np.sqrt((np.reshape(im_enc,(1,100))-np.reshape(im_re_enc,(1,100)))**2))\n",
    "feature_cosine = cosine_similarity(np.reshape(im_enc,(1,100)),np.reshape(im_re_enc,(1,100)))\n",
    "\n",
    "print(residual_e, feature_e, residual_cosine ,feature_cosine)\n"
   ]
  },
  {
   "cell_type": "code",
   "execution_count": 16,
   "metadata": {},
   "outputs": [
    {
     "data": {
      "text/plain": [
       "(64, 64, 1)"
      ]
     },
     "execution_count": 16,
     "metadata": {},
     "output_type": "execute_result"
    }
   ],
   "source": [
    "im.shape"
   ]
  },
  {
   "cell_type": "code",
   "execution_count": 108,
   "metadata": {},
   "outputs": [
    {
     "data": {
      "text/plain": [
       "[array([[[[-1.0442009 , -1.2174989 ,  0.78466833, -0.06493638, -0.42672884,\n",
       "           -0.02165738, -0.05761369, -0.14354043,  1.95414138, -0.03972762,\n",
       "            1.7519052 ,  0.69944096, -0.137216  ,  2.73255587,  0.57894844,\n",
       "            0.13307145, -2.72707748,  0.7887392 , -0.46772271,  0.36753005,\n",
       "            0.99045557,  1.08381224, -2.04231787, -0.28952855,  1.16511881,\n",
       "           -0.09269818,  0.21882159, -1.38667035, -1.5240593 , -0.15768303,\n",
       "           -0.37698126, -0.08693676, -0.52939802,  0.31267899, -0.78428346,\n",
       "           -0.70939583,  0.51934546, -0.47691047,  0.48383945, -0.86951733,\n",
       "           -0.59379929,  0.84701878,  2.15388775, -1.01329422, -1.48119771,\n",
       "           -0.47108242, -0.53680354,  1.26883519, -1.9925276 ,  0.04763317,\n",
       "           -0.40418774,  0.25088447,  0.21704571,  0.42381671,  0.2439028 ,\n",
       "            0.01956891, -0.08416337, -0.36871439,  0.38290477, -0.18850632,\n",
       "           -0.83704424,  1.67133176,  0.0206124 , -0.80822062,  0.16582556,\n",
       "           -0.36981419, -0.67028153,  2.04654026,  1.37314498, -0.52170545,\n",
       "            0.96831083,  0.78051734,  0.98276204, -0.19932432,  1.09980357,\n",
       "            0.27859464,  0.90437424, -0.03715034,  0.4233658 ,  1.07080328,\n",
       "           -0.30265164,  0.47291929, -0.68919277,  0.89167595,  0.93977159,\n",
       "            0.02240586,  0.57152009,  0.40433004, -0.64787525, -1.49309444,\n",
       "            0.15379599, -0.42924103, -0.72475642, -0.12019289,  0.73020917,\n",
       "           -1.51274097,  0.8141799 , -1.30112672, -1.43855393,  1.52136958]]]], dtype=float32)]"
      ]
     },
     "execution_count": 108,
     "metadata": {},
     "output_type": "execute_result"
    }
   ],
   "source": [
    "im_enc"
   ]
  },
  {
   "cell_type": "code",
   "execution_count": 62,
   "metadata": {},
   "outputs": [
    {
     "data": {
      "text/plain": [
       "array([[[[ 0.1514827 , -1.73705161,  0.52878952, -0.26899302, -0.78680176,\n",
       "          -1.62515593, -1.29692125, -0.26600212, -0.11160326, -0.40646294,\n",
       "           1.17891037,  0.73167515, -0.25412643,  0.45711863,  2.24698138,\n",
       "           0.13331503, -1.04749596, -0.54755634,  0.02332181,  0.81080586,\n",
       "          -0.40863806,  0.70400774, -0.0570921 ,  0.54057407,  1.48574543,\n",
       "           1.50982797,  0.45173204, -0.73856127, -0.99792892,  0.72820026,\n",
       "           0.89937109, -0.42155895,  0.48322028,  2.70137525, -0.122012  ,\n",
       "          -0.07574479,  0.13852282, -0.06618971, -0.25236696, -0.010827  ,\n",
       "          -0.78373206, -0.51174581,  1.21372986,  0.1668032 , -0.49213141,\n",
       "           0.50222182,  0.40120843, -1.23369932, -0.43447611, -0.15583466,\n",
       "          -0.00430887,  0.16617599, -0.55016851,  1.10362005, -0.41871378,\n",
       "          -0.39123785,  1.24991417,  0.21686901, -0.40791848,  0.35970661,\n",
       "           0.96574777,  0.34319532, -0.47307238,  0.76584947, -1.32688725,\n",
       "          -0.43664825, -2.14414048,  1.18995094, -1.26703775,  1.10011351,\n",
       "           0.16515842, -1.69383931, -1.30441713,  0.5905813 , -1.6179564 ,\n",
       "          -0.44053859,  1.78210843, -0.97989458,  0.1486032 ,  1.02589262,\n",
       "          -1.59978878,  0.66221052, -0.93309146, -0.7565583 , -1.39890611,\n",
       "           0.89803725,  0.16610315, -0.41101369,  0.32859552,  0.90201306,\n",
       "          -0.74461061, -0.96720511, -0.83542877, -0.21419185, -0.47740653,\n",
       "           0.2655839 ,  0.44272277, -0.05428885, -1.03646159, -0.25250494]]]], dtype=float32)"
      ]
     },
     "execution_count": 62,
     "metadata": {},
     "output_type": "execute_result"
    }
   ],
   "source": [
    "im_re_enc"
   ]
  },
  {
   "cell_type": "code",
   "execution_count": 110,
   "metadata": {},
   "outputs": [
    {
     "data": {
      "image/png": "[encoded data removed]",
      "text/plain": [
       "<matplotlib.figure.Figure at 0x7f03531a7668>"
      ]
     },
     "metadata": {},
     "output_type": "display_data"
    }
   ],
   "source": [
    "import matplotlib.pyplot as plt\n",
    "\n",
    "plt.hist(np.reshape(im_enc,-1), bins='auto')  # arguments are passed to np.histogram\n",
    "plt.title(\"Histogram with 'auto' bins\")\n",
    "plt.show()\n"
   ]
  },
  {
   "cell_type": "code",
   "execution_count": null,
   "metadata": {},
   "outputs": [],
   "source": []
  },
  {
   "cell_type": "code",
   "execution_count": null,
   "metadata": {},
   "outputs": [],
   "source": []
  },
  {
   "cell_type": "code",
   "execution_count": null,
   "metadata": {},
   "outputs": [],
   "source": []
  }
 ],
 "metadata": {
  "kernelspec": {
   "display_name": "Python 3",
   "language": "python",
   "name": "python3"
  },
  "language_info": {
   "codemirror_mode": {
    "name": "ipython",
    "version": 3
   },
   "file_extension": ".py",
   "mimetype": "text/x-python",
   "name": "python",
   "nbconvert_exporter": "python",
   "pygments_lexer": "ipython3",
   "version": "3.5.2"
  },
  "toc": {
   "base_numbering": 1,
   "nav_menu": {},
   "number_sections": true,
   "sideBar": true,
   "skip_h1_title": false,
   "title_cell": "Table of Contents",
   "title_sidebar": "Contents",
   "toc_cell": false,
   "toc_position": {
    "height": "calc(100% - 180px)",
    "left": "10px",
    "top": "150px",
    "width": "321px"
   },
   "toc_section_display": true,
   "toc_window_display": false
  },
  "varInspector": {
   "cols": {
    "lenName": 16,
    "lenType": 16,
    "lenVar": 40
   },
   "kernels_config": {
    "python": {
     "delete_cmd_postfix": "",
     "delete_cmd_prefix": "del ",
     "library": "var_list.py",
     "varRefreshCmd": "print(var_dic_list())"
    },
    "r": {
     "delete_cmd_postfix": ") ",
     "delete_cmd_prefix": "rm(",
     "library": "var_list.r",
     "varRefreshCmd": "cat(var_dic_list()) "
    }
   },
   "oldHeight": 514,
   "position": {
    "height": "40px",
    "left": "1550px",
    "right": "20px",
    "top": "120px",
    "width": "350px"
   },
   "types_to_exclude": [
    "module",
    "function",
    "builtin_function_or_method",
    "instance",
    "_Feature"
   ],
   "varInspector_section_display": "none",
   "window_display": true
  }
 },
 "nbformat": 4,
 "nbformat_minor": 2
}
