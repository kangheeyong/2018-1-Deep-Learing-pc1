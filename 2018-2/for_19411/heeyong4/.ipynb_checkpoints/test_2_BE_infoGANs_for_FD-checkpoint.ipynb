{
 "cells": [
  {
   "cell_type": "markdown",
   "metadata": {
    "code_folding": [
     17,
     21,
     25,
     29,
     33,
     44
    ]
   },
   "source": [
    "# Boundary Equilibrimum infoGANs for Fault Detection example\n",
    "\n",
    "## 초기 설정들"
   ]
  },
  {
   "cell_type": "code",
   "execution_count": 1,
   "metadata": {
    "code_folding": [
     17,
     21,
     25,
     29,
     33,
     44,
     63
    ]
   },
   "outputs": [
    {
     "name": "stdout",
     "output_type": "stream",
     "text": [
      "test_normal_data :  (5139, 64, 64, 1)\n",
      "test_anomalous_data :  (4861, 64, 64, 1)\n",
      "train_normal_data :  (28038, 64, 64, 1)\n",
      "train_anomalous_data :  (26962, 64, 64, 1)\n"
     ]
    }
   ],
   "source": [
    "import tensorflow as tf\n",
    "import numpy as np\n",
    "import os\n",
    "import sys\n",
    "import time\n",
    "import time \n",
    "import matplotlib.pyplot as plt\n",
    "import matplotlib.gridspec as gridspec \n",
    "\n",
    "os.environ[\"CUDA_VISIBLE_DEVICES\"]=\"0\"\n",
    "\n",
    "\n",
    "import pickle\n",
    "import gzip\n",
    "\n",
    "file_dir = 'anoGANs_MNIST_data/'\n",
    "\n",
    "with gzip.open(file_dir + 'test_normal_data.pickle.gzip','rb') as f :\n",
    "    test_normal_data = pickle.load(f)\n",
    "    print('test_normal_data : ' ,test_normal_data.shape)\n",
    "\n",
    "with gzip.open(file_dir + 'test_anomalous_data.pickle.gzip','rb') as f :\n",
    "    test_anomalous_data = pickle.load(f)\n",
    "    print('test_anomalous_data : ',test_anomalous_data.shape)\n",
    "    \n",
    "with gzip.open(file_dir + 'train_normal_data.pickle.gzip','rb') as f :\n",
    "    train_normal_data = pickle.load(f)\n",
    "    print('train_normal_data : ', train_normal_data.shape)\n",
    "    \n",
    "with gzip.open(file_dir + 'train_anomalous_data.pickle.gzip','rb') as f :\n",
    "    train_anomalous_data = pickle.load(f)\n",
    "    print('train_anomalous_data : ',train_anomalous_data.shape )\n",
    "\n",
    "def idx_shuffle(x) : \n",
    "    l = x.shape[0]\n",
    "    idx = np.arange(l)\n",
    "    np.random.shuffle(idx)\n",
    "    shuffled_x = np.empty(x.shape)\n",
    "\n",
    "    for i in range(l):\n",
    "        shuffled_x[idx[i]] = x[i]\n",
    "    \n",
    "    return shuffled_x\n",
    "\n",
    "def mnist_4by4_save(samples,path):\n",
    "    fig = plt.figure(figsize=(4, 4))\n",
    "    gs = gridspec.GridSpec(4, 4)    \n",
    "    gs.update(wspace=0.05, hspace=0.05) #이미지 사이간격 조절\n",
    "  \n",
    "    for i, sample in enumerate(samples):\n",
    "        ax = plt.subplot(gs[i])\n",
    "        plt.axis('off')    \n",
    "        ax.set_xticklabels([])\n",
    "        ax.set_yticklabels([])\n",
    "        ax.set_aspect('equal')\n",
    "   \n",
    "        plt.imshow(sample.reshape(64, 64), cmap='Greys_r',clim=(0.0,1.0))\n",
    "    plt.colorbar()\n",
    "    plt.savefig(path, bbox_inches='tight')\n",
    "    plt.close(fig)\n",
    "   \n",
    "    return None\n",
    "\n",
    "def gan_loss_graph_save(G_loss,D_loss,path):\n",
    "    x1 = range(len(G_loss))\n",
    "    x2 = range(len(D_loss))\n",
    "      \n",
    "    y1 = G_loss\n",
    "    y2 = D_loss\n",
    "  \n",
    "      \n",
    "    plt.plot(x1,y1,label='G_loss') \n",
    "    plt.plot(x2,y2,label='D_loss') \n",
    "  \n",
    "    plt.xlabel('weight per update')\n",
    "    plt.ylabel('loss')             \n",
    "    plt.legend(loc=4)              \n",
    "    plt.grid(True)\n",
    "    plt.tight_layout()\n",
    "  \n",
    "    plt.savefig(path)              \n",
    "\n",
    "    return None\n",
    "\n",
    "file_name = 'ex_BE_infoGANs_for_FD'\n",
    "\n",
    "if not os.path.isdir(file_name) :\n",
    "    os.mkdir(file_name)\n"
   ]
  },
  {
   "cell_type": "markdown",
   "metadata": {},
   "source": [
    "## 네트워크 정의\n",
    "\n",
    "D부분을 encoder와 discriminator로 나눈 이유는 encoder를 나중에 feature map으로 쓰기 위해서 편의상 나누어서 정의함\n",
    "\n"
   ]
  },
  {
   "cell_type": "code",
   "execution_count": null,
   "metadata": {
    "code_folding": [
     11,
     44,
     88,
     120,
     154
    ]
   },
   "outputs": [],
   "source": [
    "\n",
    "\n",
    "train_epoch = 100\n",
    "batch_size = 100\n",
    "z_size = 100\n",
    "lam = 0.01\n",
    "gamma = 0.7\n",
    "k_curr = 0.001\n",
    "c_size = 10\n",
    "\n",
    "\n",
    "def G(x,c,isTrain = True, reuse = False, name = 'G') : #input = (minibatch * w * h * ch)\n",
    "    \n",
    "    # out size = (in size + 2*padding - kenel)/strides + 1    \n",
    "    w_init = tf.truncated_normal_initializer(mean= 0.0, stddev=0.02)\n",
    "    b_init = tf.constant_initializer(0.0)\n",
    "\n",
    "    with tf.variable_scope('G',reuse=reuse)  :\n",
    "        \n",
    "        #x = (-1, 1, 1, 100)\n",
    "        x_concat = tf.concat([x,c],3)\n",
    "        conv1 = tf.layers.conv2d_transpose(x_concat,512,[4,4], strides=(1,1),padding = 'valid',\n",
    "                kernel_initializer=w_init, bias_initializer=b_init) \n",
    "        r1 = tf.nn.elu(tf.layers.batch_normalization(conv1,training=isTrain))#4*4*512\n",
    "        \n",
    "        conv2 = tf.layers.conv2d_transpose(r1,256,[5,5], strides=(2,2),padding = 'same',\n",
    "                kernel_initializer=w_init, bias_initializer=b_init)\n",
    "        r2 = tf.nn.elu(tf.layers.batch_normalization(conv2,training=isTrain))#8*8*256\n",
    "                \n",
    "        conv3 = tf.layers.conv2d_transpose(r2,128,[5,5], strides=(2,2),padding = 'same',\n",
    "                kernel_initializer=w_init, bias_initializer=b_init)\n",
    "        r3 = tf.nn.elu(tf.layers.batch_normalization(conv3,training=isTrain))#16*16*128\n",
    "\n",
    "        conv4 = tf.layers.conv2d_transpose(r3,64,[5,5], strides=(2,2),padding = 'same',\n",
    "                kernel_initializer=w_init, bias_initializer=b_init)\n",
    "        r4 = tf.nn.elu(tf.layers.batch_normalization(conv4,training=isTrain))#32*32*64\n",
    "\n",
    "        conv5 = tf.layers.conv2d_transpose(r4,1,[5,5], strides=(2,2),padding = 'same',\n",
    "                kernel_initializer=w_init, bias_initializer=b_init) #64*64*1\n",
    "        \n",
    "    r5= tf.nn.tanh(conv5,name=name)#64*64*1\n",
    "  \n",
    "    return r5\n",
    "\n",
    "def E(x,isTrain = True, reuse = False, name = 'E') : #input = (minibatch * w * h * ch)\n",
    "    \n",
    "    # out size = (in size + 2*padding - kenel)/strides + 1    \n",
    "    w_init = tf.truncated_normal_initializer(mean= 0.0, stddev=0.02)\n",
    "    b_init = tf.constant_initializer(0.0)\n",
    "\n",
    "    with tf.variable_scope('E',reuse=reuse)  :\n",
    "        \n",
    "        #x = (-1, 64, 64, 1)\n",
    "\n",
    "        conv1 = tf.layers.conv2d(x,64,[5,5], strides=(2,2),padding = 'same',\n",
    "                kernel_initializer=w_init, bias_initializer=b_init) \n",
    "        r1 = tf.nn.elu(conv1)#32*32*64\n",
    "        \n",
    "        conv2 = tf.layers.conv2d(r1,128,[5,5], strides=(2,2),padding = 'same',\n",
    "                kernel_initializer=w_init, bias_initializer=b_init)\n",
    "        r2 = tf.nn.elu(tf.layers.batch_normalization(conv2,training=isTrain))#16*16*128\n",
    "                \n",
    "        conv3 = tf.layers.conv2d(r2,256,[5,5], strides=(2,2),padding = 'same',\n",
    "                kernel_initializer=w_init, bias_initializer=b_init)\n",
    "        r3 = tf.nn.elu(tf.layers.batch_normalization(conv3,training=isTrain))#8*8*256\n",
    "\n",
    "        conv4 = tf.layers.conv2d(r3,512,[5,5], strides=(2,2),padding = 'same',\n",
    "                kernel_initializer=w_init, bias_initializer=b_init)\n",
    "        r4 = tf.nn.elu(tf.layers.batch_normalization(conv4,training=isTrain))#4*4*512\n",
    "\n",
    "        conv5 = tf.layers.conv2d(r4,100,[4,4], strides=(1,1),padding = 'valid',\n",
    "                kernel_initializer=w_init, bias_initializer=b_init) #1*1*100\n",
    "        \n",
    "        #\n",
    "        \n",
    "        fc0  = tf.reshape(conv4, (-1, 4*4*512))\n",
    "        \n",
    "        w1 = tf.get_variable('w1',[4*4*512, c_size],initializer=w_init)\n",
    "        b1 = tf.get_variable('b1',[c_size],initializer=b_init)\n",
    "        \n",
    "                                          \n",
    "        fc1 = tf.nn.softmax(tf.matmul(fc0,w1) + b1, name = name)\n",
    "        \n",
    "        \n",
    "    r5 = tf.nn.tanh(tf.layers.batch_normalization(conv5,training=isTrain), name = name)#4*4*512\n",
    "  \n",
    "    return r5, tf.reshape(fc1,(-1,1,1,c_size))\n",
    "\n",
    "def D_enc(x,isTrain=True,reuse = False, name = 'D_enc') :\n",
    "    \n",
    "    w_init = tf.truncated_normal_initializer(mean= 0.0, stddev=0.02)\n",
    "    b_init = tf.constant_initializer(0.0)\n",
    "    with tf.variable_scope('D_enc', reuse=reuse) :\n",
    "        \n",
    "        #x = (-1,64,64,1)\n",
    "        # out size = (in size + 2*padding - kenel)/strides + 1   \n",
    "\n",
    "        conv1 = tf.layers.conv2d(x,64,[5,5], strides=(2,2),padding = 'same',\n",
    "                                kernel_initializer=w_init, bias_initializer=b_init) \n",
    "        r1 = tf.nn.elu(conv1)#32*32*64\n",
    "\n",
    "   \n",
    "        conv2 = tf.layers.conv2d(r1,128,[5,5], strides=(2,2),padding = 'same',\n",
    "                                kernel_initializer=w_init, bias_initializer=b_init)\n",
    "        r2 = tf.nn.elu(tf.layers.batch_normalization(conv2,training=isTrain))#16*16*128\n",
    "\n",
    "  \n",
    "        conv3 = tf.layers.conv2d(r2,256,[5,5], strides=(2,2),padding = 'same',\n",
    "                                kernel_initializer=w_init, bias_initializer=b_init)\n",
    "        r3 = tf.nn.elu(tf.layers.batch_normalization(conv3,training=isTrain))#8*8*256\n",
    "        \n",
    "        conv4 = tf.layers.conv2d(r3,512,[5,5], strides=(2,2),padding = 'same',\n",
    "                                kernel_initializer=w_init, bias_initializer=b_init)    \n",
    "        r4 = tf.nn.elu(tf.layers.batch_normalization(conv4,training=isTrain), name = name)#4*4*512\n",
    "        \n",
    "        conv5 = tf.layers.conv2d(r4,100,[4,4], strides=(1,1),padding = 'valid',\n",
    "                                kernel_initializer=w_init, bias_initializer=b_init)    \n",
    "        r5 = tf.layers.batch_normalization(conv5,training=isTrain)\n",
    "    return tf.add(r5,0,name=name)\n",
    "\n",
    "def D_dec(x,isTrain=True,reuse = False, name = 'D_dec') :\n",
    "    \n",
    "    w_init = tf.truncated_normal_initializer(mean= 0.0, stddev=0.02)\n",
    "    b_init = tf.constant_initializer(0.0)\n",
    "    with tf.variable_scope('D_dec', reuse=reuse) :\n",
    "        \n",
    "        #x = (-1,64,64,1)\n",
    "        # out size = (in size + 2*padding - kenel)/strides + 1   \n",
    "        # 256*16*16\n",
    "        # 128*32*32\n",
    "        # 1*64*64\n",
    "        conv6 = tf.layers.conv2d_transpose(x,512,[4,4], strides=(1,1),padding = 'valid',\n",
    "                                kernel_initializer=w_init, bias_initializer=b_init)\n",
    "        r6 = tf.nn.elu(tf.layers.batch_normalization(conv6,training=isTrain))#4*4*256\n",
    "        \n",
    "        conv7 = tf.layers.conv2d_transpose(r6,256,[5,5], strides=(2,2),padding = 'same',\n",
    "                                kernel_initializer=w_init, bias_initializer=b_init)\n",
    "        r7 = tf.nn.elu(tf.layers.batch_normalization(conv7,training=isTrain))#8*8*256\n",
    "\n",
    "\n",
    "        conv8 = tf.layers.conv2d_transpose(r7,128,[5,5], strides=(2,2),padding = 'same',\n",
    "                                kernel_initializer=w_init, bias_initializer=b_init)\n",
    "        r8 = tf.nn.elu(tf.layers.batch_normalization(conv8,training=isTrain))#16*16*128\n",
    "             \n",
    "        conv9 = tf.layers.conv2d_transpose(r8,64,[5,5], strides=(2,2),padding = 'same',\n",
    "                                kernel_initializer=w_init, bias_initializer=b_init)\n",
    "        r9 = tf.nn.elu(tf.layers.batch_normalization(conv9,training=isTrain))#32*32*64\n",
    "          \n",
    "        conv10 = tf.layers.conv2d_transpose(r9,1,[5,5], strides=(2,2),padding = 'same',\n",
    "                kernel_initializer=w_init, bias_initializer=b_init) #64*64*1\n",
    "        \n",
    "    r10= tf.nn.tanh(conv10,name=name)#64*64*1\n",
    "    \n",
    "    return r10\n",
    "def Q_cat(x,reuse = False, name = 'Q_cat') :\n",
    "    \n",
    "    w_init = tf.truncated_normal_initializer(mean= 0.0, stddev=0.02)\n",
    "    b_init = tf.constant_initializer(0.0)\n",
    "    with tf.variable_scope('Q_cat', reuse=reuse) :\n",
    "        \n",
    "        #x = (-1,64,64,1)\n",
    "        # out size = (in size + 2*padding - kenel)/strides + 1   \n",
    "        fc0  = tf.reshape(x, (-1, 100))\n",
    "        \n",
    "        w1 = tf.get_variable('w1',[100, c_size],initializer=w_init)\n",
    "        b1 = tf.get_variable('b1',[c_size],initializer=b_init)\n",
    "        \n",
    "                                          \n",
    "    fc1 = tf.nn.softmax(tf.matmul(fc0,w1) + b1, name = name)\n",
    "    \n",
    "    return tf.reshape(fc1, (-1,1,1,c_size))\n"
   ]
  },
  {
   "cell_type": "markdown",
   "metadata": {},
   "source": [
    "## 네트워크 연결"
   ]
  },
  {
   "cell_type": "code",
   "execution_count": null,
   "metadata": {},
   "outputs": [],
   "source": [
    "\n",
    "\n",
    "\n",
    "\n",
    "z = tf.placeholder(tf.float32,shape=(None,1,1,z_size),name = 'z')    #x_z = G(z)\n",
    "c = tf.placeholder(tf.float32,shape=(None,1,1,c_size),name = 'c')    #x_z = G(z,c)\n",
    "\n",
    "u = tf.placeholder(tf.float32, shape = (None, 64,64,1),name='u')      #u = x\n",
    "k = tf.placeholder(tf.float32, name = 'k')\n",
    "\n",
    "\n",
    "isTrain = tf.placeholder(dtype=tf.bool,name='isTrain')  # BN 설정 parameter\n",
    "\n",
    "\n",
    "G_sample = G(z,c,name='G_sample') # G(z)\n",
    "E_z, E_c = E(u,isTrain,name = 'E_z') \n",
    "\n",
    "re_image = G(E_z,E_c, isTrain, reuse=True, name ='re_image')\n",
    "re_z, re_c = E(G_sample, isTrain, reuse=True, name ='re_z')\n",
    "\n",
    "\n",
    "re_z_loss = tf.reduce_mean(tf.sqrt(tf.reduce_sum((re_z - z)**2, axis=[1,2,3])) , name = 're_z_loss') \n",
    "re_c_loss = tf.reduce_mean(tf.reduce_sum(-c*tf.log(re_c + 1e-8), axis = [1,2,3]),name = 're_c_loss')\n",
    "\n",
    "E_loss = tf.add(re_z_loss, re_c_loss, name = 'E_loss')            \n",
    "\n",
    "\n",
    "D_real = D_dec(D_enc(u, isTrain,reuse=False), isTrain, reuse=False, name = 'D_real')                       # D(x)\n",
    "D_fake = D_dec(D_enc(G_sample, isTrain,reuse=True), isTrain, reuse=True, name = 'D_fake')         # D(G(z))\n",
    "Q_fake = Q_cat(D_enc(G_sample, isTrain,reuse=True), reuse=False, name='Q_fake')\n",
    "\n",
    "#input = (minibatch * w * h * ch)\n",
    "D_real_loss = tf.reduce_mean(tf.sqrt(tf.reduce_sum((D_real-u)**2, axis=[1,2,3])) , name = 'D_real_loss')             \n",
    "\n",
    "D_fake_loss = tf.reduce_mean(tf.sqrt(tf.reduce_sum((D_fake - G_sample)**2, axis=[1,2,3])),  name = 'D_fake_loss' )\n",
    "\n",
    "D_loss =  tf.add(D_real_loss, -k*D_fake_loss, name='D_loss')                                        \n",
    "\n",
    "G_loss =  tf.reduce_mean(tf.sqrt(tf.reduce_sum((D_fake - G_sample)**2, axis=[1,2,3])), name='G_loss')                             # E[-log(D(G(z)))]\n",
    "Q_loss = tf.reduce_mean(tf.reduce_sum(-c*tf.log(Q_fake + 1e-8), axis = (1,2,3)),name = 'Q_loss')\n",
    "\n",
    "                                                                                                                                \n",
    "T_vars = tf.trainable_variables()\n",
    "D_vars = [var for var in T_vars if var.name.startswith('D_dec') or var.name.startswith('D_enc')]\n",
    "G_vars = [var for var in T_vars if var.name.startswith('G')]\n",
    "E_vars = [var for var in T_vars if var.name.startswith('E')]\n",
    "Q_vars = [var for var in T_vars if var.name.startswith('Q')]\n",
    "\n",
    "    # When using the batchnormalization layers,\n",
    "    # it is necessary to manually add the update operations\n",
    "    # because the moving averages are not included in the graph\n",
    "with tf.control_dependencies(tf.get_collection(tf.GraphKeys.UPDATE_OPS)) :        \n",
    "    D_optim = tf.train.AdamOptimizer(2e-5,beta1=0.5).minimize(D_loss, var_list=D_vars, name='D_optim') \n",
    "    G_optim = tf.train.AdamOptimizer(2e-4,beta1=0.5).minimize(G_loss + Q_loss, var_list=G_vars+Q_vars, name='G_optim')\n",
    "    E_optim = tf.train.AdamOptimizer(2e-4,beta1=0.5).minimize(E_loss, var_list=E_vars, name='E_optim')\n",
    "    \n",
    "\n"
   ]
  },
  {
   "cell_type": "code",
   "execution_count": null,
   "metadata": {},
   "outputs": [],
   "source": [
    "aaa"
   ]
  },
  {
   "cell_type": "markdown",
   "metadata": {},
   "source": [
    "## 학습"
   ]
  },
  {
   "cell_type": "code",
   "execution_count": null,
   "metadata": {
    "code_folding": []
   },
   "outputs": [],
   "source": [
    "with tf.Session(config=tf.ConfigProto(gpu_options=tf.GPUOptions(allow_growth=True))) as sess :\n",
    "    sess.run(tf.global_variables_initializer())\n",
    "\n",
    "    np.random.seed(int(time.time()))\n",
    "    tf.set_random_seed(int(time.time()))\n",
    "    \n",
    "    one_hot = np.eye(c_size)\n",
    "    temp2 = np.array([1,1,1,1,2,2,2,2,3,3,3,3,4,4,4,4])\n",
    "    test_c = one_hot[temp2].reshape([-1,1,1,c_size])\n",
    "    test_z = np.random.uniform(-1,1,size=(16,1,1,z_size))\n",
    "    mnist_4by4_save(np.reshape(test_normal_data[0:16],(-1,64,64,1)),file_name + '/D_origin.png')    \n",
    "    mnist_4by4_save(np.reshape(test_anomalous_data[0:16],(-1,64,64,1)),file_name + '/anomalous.png')    \n",
    "    log_txt = open(file_name +'/log.txt','w')\n",
    "\n",
    "    hist_G = []\n",
    "    hist_D = []\n",
    "    G_error = []\n",
    "    D_error = []\n",
    "    Q_error=[]\n",
    "    E_error = []\n",
    "    D_fake_error = []\n",
    "    D_real_error = []\n",
    "    new_measure = []\n",
    "    new_k = []\n",
    "    \n",
    "    start = time.time()\n",
    "    for epoch in range(train_epoch) :\n",
    "        \n",
    "        train_normal_data = idx_shuffle(train_normal_data) \n",
    "        \n",
    "        for iteration in range(train_normal_data.shape[0] // batch_size) : \n",
    "        \n",
    "            \n",
    "            train_images = train_normal_data[iteration*batch_size : (iteration+1)*batch_size]      \n",
    "            u_ = np.reshape(train_images,(-1,64,64,1)) \n",
    "            z_ = np.random.uniform(-1,1,size=(batch_size,1,1,z_size))\n",
    "            temp1 = np.random.randint(0,10,(batch_size))                                                                                                                                     \n",
    "            c_ = one_hot[temp1].reshape([-1,1,1,c_size])\n",
    "        \n",
    "            _ , D_e,D_real_e,D_fake_e = sess.run([D_optim, D_loss,D_real_loss,D_fake_loss], {u : u_, z : z_, c : c_, k : k_curr,isTrain : True})\n",
    "            D_error.append(D_e)\n",
    "            D_real_error.append(np.maximum(0.0, D_real_e))\n",
    "            D_fake_error.append(np.maximum(0.0,D_fake_e))\n",
    "\n",
    "            #    train_images,train_labels = mnist.train.next_batch(100)    \n",
    "            #    u_ = np.reshape(train_images,(-1,64,64,1)) \n",
    "            #    z_ = np.random.normal(0,1,size=(100,1,1,100))\n",
    "   \n",
    "            _ , G_e,Q_e = sess.run([G_optim, G_loss,Q_loss], {u : u_, z : z_, c : c_, k : k_curr, isTrain : True}) \n",
    "            G_error.append(G_e)\n",
    "            Q_error.append(Q_e)\n",
    "            _ , E_e = sess.run([E_optim, E_loss], {u : u_, z : z_, c : c_,isTrain : True})\n",
    "            E_error.append(E_e)\n",
    "            \n",
    "            k_curr = k_curr + lam * (gamma*D_real_e - G_e)\n",
    "            \n",
    "\n",
    "            \n",
    "            measure = D_real_e + np.abs(gamma*D_real_e - G_e)\n",
    "            \n",
    "            new_measure.append(measure)\n",
    "            new_k.append(k_curr)\n",
    "        hist_D.append(np.mean(D_error)) \n",
    "        hist_G.append(np.mean(G_error))\n",
    "\n",
    "        print('D_e : %.3f, D_real_e : %.3f, D_fake_e : %.3f, G_e : %.3f, Q_e : %.3f, E_e : %.3f, new_measure : %.3f, k_curr : %3f'\n",
    "              %(np.mean(D_error), np.mean(D_real_error),np.mean(D_fake_error), np.mean(G_error),\n",
    "                np.mean(Q_error),np.mean(E_error),np.mean(new_measure),k_curr))\n",
    "        log_txt.write('D_e : %.6f, D_real_e : %.6f, D_fake_e : %.6f, G_e : %.6f\\n'%(np.mean(D_error),\n",
    "            np.mean(D_real_error), np.mean(D_fake_error), np.mean(G_error)))\n",
    "      \n",
    "        r = sess.run([G_sample],feed_dict={z : test_z, c : test_c, isTrain : False})       \n",
    "        mnist_4by4_save(np.reshape(r,(-1,64,64,1)),file_name + '/result_{}.png'.format(str(epoch).zfill(3)))\n",
    "\n",
    "        r = sess.run([D_real],feed_dict={u : test_normal_data[0:16], isTrain : False})        \n",
    "        mnist_4by4_save(np.reshape(r,(-1,64,64,1)),file_name + '/D_{}.png'.format(str(epoch).zfill(3)))\n",
    "        \n",
    "        r = sess.run([re_image],feed_dict={u : test_normal_data[0:16],isTrain : False})        \n",
    "        mnist_4by4_save(np.reshape(r,(-1,64,64,1)),file_name + '/origin_{}.png'.format(str(epoch).zfill(3)))\n",
    "        \n",
    "        r = sess.run([re_image],feed_dict={u : test_anomalous_data[0:16],isTrain : False})        \n",
    "        mnist_4by4_save(np.reshape(r,(-1,64,64,1)),file_name + '/anomlous_{}.png'.format(str(epoch).zfill(3)))\n",
    "        \n",
    "        np.random.seed(int(time.time()))\n",
    "\n",
    "\n",
    "        G_error = []\n",
    "        D_error = []       \n",
    "        D_fake_error = []     \n",
    "        D_real_error = []\n",
    "        new_measure = []\n",
    "\n",
    "    log_txt.close()\n",
    "    gan_loss_graph_save(G_loss = hist_G,D_loss=hist_D,path = file_name + '/loss_graph.png')   \n",
    "    saver = tf.train.Saver()\n",
    "    saver.save(sess,file_name + '/para.cktp')\n",
    "\n",
    "    end = time.time()-start\n",
    "\n",
    "    print(\"total time : \",end)"
   ]
  },
  {
   "cell_type": "markdown",
   "metadata": {},
   "source": [
    "## network load"
   ]
  },
  {
   "cell_type": "code",
   "execution_count": 2,
   "metadata": {},
   "outputs": [
    {
     "name": "stdout",
     "output_type": "stream",
     "text": [
      "INFO:tensorflow:Restoring parameters from ex_BE_infoGANs_for_FD/para.cktp\n"
     ]
    }
   ],
   "source": [
    "if not os.path.isdir(file_name) :\n",
    "    os.mkdir(file_name)\n",
    "\n",
    "    \n",
    "sess = tf.InteractiveSession()\n",
    "    \n",
    "new_saver = tf.train.import_meta_graph(file_name + '/para.cktp.meta')\n",
    "new_saver.restore(sess, tf.train.latest_checkpoint(file_name + '/'))\n",
    "\n",
    "\n",
    "z = sess.graph.get_tensor_by_name(\"z:0\")\n",
    "c = sess.graph.get_tensor_by_name(\"c:0\")\n",
    "u = sess.graph.get_tensor_by_name(\"u:0\")\n",
    "k = sess.graph.get_tensor_by_name(\"k:0\")\n",
    "\n",
    "isTrain = sess.graph.get_tensor_by_name(\"isTrain:0\")\n",
    "\n",
    "G_sample = sess.graph.get_tensor_by_name(\"G_sample:0\")\n",
    "E_z = sess.graph.get_tensor_by_name(\"E_z:0\")\n",
    "E_c = sess.graph.get_tensor_by_name(\"Reshape:0\")\n",
    "\n",
    "re_image = sess.graph.get_tensor_by_name(\"re_image:0\")\n",
    "re_z = sess.graph.get_tensor_by_name(\"re_z:0\")\n",
    "re_c = sess.graph.get_tensor_by_name(\"Reshape_1:0\")\n",
    "\n",
    "re_z_loss = sess.graph.get_tensor_by_name(\"re_z_loss:0\")\n",
    "re_c_loss = sess.graph.get_tensor_by_name(\"re_c_loss:0\")\n",
    "\n",
    "E_loss = sess.graph.get_tensor_by_name(\"E_loss:0\")\n",
    "\n",
    "D_real = sess.graph.get_tensor_by_name('D_real:0')                       # D(x)\n",
    "D_fake = sess.graph.get_tensor_by_name('D_fake:0')         # D(G(z))\n",
    "Q_fake = sess.graph.get_tensor_by_name(\"Q_fake:0\")\n",
    "\n",
    "\n",
    "D_enc = sess.graph.get_tensor_by_name(\"D_enc_1:0\")\n",
    "\n",
    "\n",
    "\n",
    "D_real_loss = sess.graph.get_tensor_by_name('D_real_loss:0')\n",
    "D_fake_loss = sess.graph.get_tensor_by_name('D_fake_loss:0')\n",
    "\n",
    "D_loss = sess.graph.get_tensor_by_name(\"D_loss:0\")\n",
    "G_loss = sess.graph.get_tensor_by_name(\"G_loss:0\")\n",
    "Q_loss  = sess.graph.get_tensor_by_name(\"Q_loss:0\")\n",
    "\n",
    "D_optim = sess.graph.get_operation_by_name(\"D_optim\")\n",
    "G_optim = sess.graph.get_operation_by_name(\"G_optim\")\n",
    "E_optim = sess.graph.get_operation_by_name(\"E_optim\")\n",
    "#\n",
    "\n"
   ]
  },
  {
   "cell_type": "code",
   "execution_count": null,
   "metadata": {},
   "outputs": [
    {
     "name": "stdout",
     "output_type": "stream",
     "text": [
      "0 5.81703\n",
      "100 6.08094\n",
      "200 6.09167\n",
      "300 6.07631\n",
      "400 6.00054\n",
      "500 6.36458\n",
      "600 6.76199\n",
      "700 6.10364\n"
     ]
    }
   ],
   "source": [
    "\n",
    "z_size = 100\n",
    "batch_size = 100\n",
    "c_size = 10\n",
    "temp2 = np.array([1,1,1,1,2,2,2,2,3,3,3,3,4,4,4,4])\n",
    "test_c = one_hot[temp2].reshape([-1,1,1,c_size])\n",
    "test_z = np.random.uniform(-1,1,size=(16,1,1,z_size))\n",
    "\n",
    "train_normal_data = idx_shuffle(train_normal_data) \n",
    "        \n",
    "          \n",
    "train_images = train_normal_data[0 : batch_size]      \n",
    "u_ = np.reshape(train_images,(-1,64,64,1)) \n",
    "\n",
    "for i in range(10000) :\n",
    "        z_ = np.random.uniform(-1,1,size=(batch_size,1,1,z_size))\n",
    "        temp1 = np.random.randint(0,10,(batch_size))                                                                                                                                     \n",
    "        c_ = one_hot[temp1].reshape([-1,1,1,c_size])\n",
    "        _ , E_e = sess.run([E_optim, E_loss], {u : u_, z : z_, c : c_,isTrain : True})\n",
    "        \n",
    "        if i % 100 == 0 :\n",
    "            r = sess.run([re_image],feed_dict={u : test_normal_data[0:16],isTrain : False})        \n",
    "            mnist_4by4_save(np.reshape(r,(-1,64,64,1)),file_name + '/add_origin_{}.png'.format(str(i).zfill(3)))\n",
    "\n",
    "            r = sess.run([re_image],feed_dict={u : test_anomalous_data[0:16],isTrain : False})        \n",
    "            mnist_4by4_save(np.reshape(r,(-1,64,64,1)),file_name + '/add_anomlous_{}.png'.format(str(i).zfill(3)))\n",
    "            \n",
    "            print(i, E_e)"
   ]
  },
  {
   "cell_type": "code",
   "execution_count": null,
   "metadata": {},
   "outputs": [],
   "source": [
    "z_ = np.random.uniform(-1,1,size=(1,1,1,100))\n",
    "temp1 = np.random.randint(0,10,(1))         \n",
    "one_hot = np.eye(10)\n",
    "c_ = one_hot[temp1].reshape([-1,1,1,10])"
   ]
  },
  {
   "cell_type": "code",
   "execution_count": 29,
   "metadata": {},
   "outputs": [
    {
     "data": {
      "image/png": "[encoded data removed]",
      "text/plain": [
       "<matplotlib.figure.Figure at 0x7f1eb7cde358>"
      ]
     },
     "metadata": {},
     "output_type": "display_data"
    },
    {
     "name": "stdout",
     "output_type": "stream",
     "text": [
      "[[  9.17253613e-01   8.32403515e-08   2.32914932e-09   5.01985426e-07\n",
      "    1.13459682e-05   1.54161986e-04   8.25658962e-02   1.29288091e-08\n",
      "    3.91620370e-06   1.03770008e-05]]\n"
     ]
    },
    {
     "data": {
      "image/png": "[encoded data removed]",
      "text/plain": [
       "<matplotlib.figure.Figure at 0x7f1eb7c38f28>"
      ]
     },
     "metadata": {},
     "output_type": "display_data"
    },
    {
     "name": "stdout",
     "output_type": "stream",
     "text": [
      "[[[[ 1.  0.  0.  0.  0.  0.  0.  0.  0.  0.]]]] [[  9.17253733e-01   8.32402094e-08   2.32913644e-09   5.01985426e-07\n",
      "    1.13459810e-05   1.54161709e-04   8.25657472e-02   1.29288109e-08\n",
      "    3.91619642e-06   1.03770117e-05]]\n",
      "0.321282 1.20099\n"
     ]
    }
   ],
   "source": [
    "\n",
    "\n",
    "im =  test_anomalous_data[994]      \n",
    "plt.imshow(np.reshape(im,(64, 64)), cmap='Greys_r')\n",
    "plt.show()\n",
    "Q_c ,im_enc= sess.run([Q_fake,D_enc],{u : np.reshape(im,(1,64, 64,1)),z : z_, c : c_,isTrain : False})\n",
    "print(Q_c)\n",
    "\n",
    "\n",
    "\n",
    "\n",
    "im_re, im_z, im_c= sess.run([re_image, re_z, re_c],{u : np.reshape(im,(1,64, 64,1)),z : z_, c : c_,isTrain : False})\n",
    "Q_c, im_re_enc= sess.run([Q_fake,D_enc],{u : np.reshape(im_re,(1,64, 64,1)),z : z_, c : c_,isTrain : False})\n",
    "\n",
    "plt.imshow(np.reshape(im_re,(64, 64)), cmap='Greys_r')\n",
    "plt.show()\n",
    "\n",
    "print(im_c,Q_c)\n",
    "\n",
    "residual_e = np.mean(np.sqrt((np.reshape(im,(1,64*64))-np.reshape(im_re,(1,64*64)))**2))\n",
    "\n",
    "feature_e = np.mean(np.sqrt((np.reshape(im_enc,(1,100))-np.reshape(im_re_enc,(1,100)))**2))\n",
    "print(residual_e, feature_e)\n"
   ]
  },
  {
   "cell_type": "code",
   "execution_count": 30,
   "metadata": {},
   "outputs": [
    {
     "data": {
      "text/plain": [
       "array([[[[ 0.3454085 , -1.07250035, -0.15720087,  0.18117756,  0.31611806,\n",
       "           1.86193478,  0.05354033,  0.38144141,  1.12480414,  0.62453216,\n",
       "          -1.25604677, -0.02542746,  2.13960791, -0.20512566, -1.15229011,\n",
       "           0.84828305, -0.83588266,  0.92892498, -0.76244903,  1.1592623 ,\n",
       "           1.52675283,  1.5360086 ,  1.39800406,  0.29868564, -0.69915837,\n",
       "           0.24886328,  0.27502513,  2.77251315, -0.09729509, -0.16750275,\n",
       "           1.60752976, -0.11762629,  1.34391963, -1.0085845 ,  1.99463773,\n",
       "           0.20103273,  1.11585927,  1.56859362,  2.77476096, -0.89380407,\n",
       "           1.78177869,  0.26608288, -0.17692348, -0.38929209,  1.21011436,\n",
       "          -1.33267665,  2.13432837,  0.40859905, -0.98678023,  1.78124774,\n",
       "          -0.28414878,  0.15583672,  0.06295174,  2.16332984, -1.29035068,\n",
       "          -0.46616495, -0.38877624, -0.84523088, -0.31404287, -0.66653627,\n",
       "          -1.04342258,  1.29847562,  1.12077975,  0.42492175, -0.42890248,\n",
       "          -1.46163797,  0.14776954, -0.09683858,  0.3053422 , -0.39864326,\n",
       "          -0.04927852,  0.63727099,  2.76564336, -0.35457426, -1.45629478,\n",
       "           0.88658106,  0.26770833,  0.79061282, -0.39591008,  0.47103411,\n",
       "          -0.63428152, -0.42918608, -0.75029904, -0.44000718, -0.62388277,\n",
       "          -0.58856177,  1.54571521,  0.09997523, -0.99342257,  1.39468789,\n",
       "           1.11259234,  0.11776664,  0.9024182 , -0.59065121, -1.95843077,\n",
       "           1.5798521 ,  1.16599059, -0.40675262,  1.34188938, -1.36971366]]]], dtype=float32)"
      ]
     },
     "execution_count": 30,
     "metadata": {},
     "output_type": "execute_result"
    }
   ],
   "source": [
    "im_enc"
   ]
  },
  {
   "cell_type": "code",
   "execution_count": 31,
   "metadata": {},
   "outputs": [
    {
     "data": {
      "text/plain": [
       "array([[[[ 1.05475128,  0.52500916, -0.07847567,  0.08582554, -1.19791496,\n",
       "           0.38338825, -1.41324222, -0.51461947,  1.38611841, -0.36501139,\n",
       "          -1.07824004,  1.6439023 , -0.49539313,  0.64104354,  1.84621131,\n",
       "          -0.38624772,  1.45121408, -0.52013052,  0.69039243, -1.20089436,\n",
       "           2.49457073, -0.09084887, -0.0444929 , -0.30438218,  1.26391971,\n",
       "           0.20996834, -0.17774852,  0.4503448 ,  0.91194999, -0.87107891,\n",
       "           0.41813001, -2.11385775,  0.10310882,  0.38580307, -1.02549839,\n",
       "          -1.48116994,  1.1742692 ,  0.38830224,  1.47942412,  0.31643429,\n",
       "           0.80990112,  0.44209325, -0.16349408, -0.574305  ,  0.82738453,\n",
       "          -0.17692961,  0.35092977,  1.94060612, -1.48966527,  0.00275267,\n",
       "           1.75119293,  0.09787638,  1.76832986, -1.54253721,  0.30947897,\n",
       "          -0.65275514,  1.38701773, -0.32645944, -0.13076025, -1.24106169,\n",
       "          -0.94335806, -0.27889529,  0.26526153,  1.25394106, -1.12581778,\n",
       "           0.48676217, -0.71034521,  0.98960972,  0.83400518, -1.11139905,\n",
       "          -0.47025073,  1.53660703,  0.29235831, -0.35412368, -1.9491775 ,\n",
       "          -1.45529318, -0.06199102, -1.28503215, -1.46225703, -1.67565405,\n",
       "           1.57301497, -1.06937981,  0.45178157,  1.79203784,  0.17824546,\n",
       "          -1.14071393, -0.64313918,  0.07607991,  0.75421178, -0.47542897,\n",
       "          -0.18824527,  1.28310621,  0.31298712, -1.77228248, -0.47793218,\n",
       "          -0.32549536,  1.61595941, -0.86141109, -1.13241541,  0.40080172]]]], dtype=float32)"
      ]
     },
     "execution_count": 31,
     "metadata": {},
     "output_type": "execute_result"
    }
   ],
   "source": [
    "im_re_enc"
   ]
  },
  {
   "cell_type": "code",
   "execution_count": 26,
   "metadata": {},
   "outputs": [
    {
     "data": {
      "image/png": "[encoded data removed]",
      "text/plain": [
       "<matplotlib.figure.Figure at 0x7f1ed401f898>"
      ]
     },
     "metadata": {},
     "output_type": "display_data"
    },
    {
     "name": "stdout",
     "output_type": "stream",
     "text": [
      "[[  9.17254031e-01   8.32402307e-08   2.32913711e-09   5.01985141e-07\n",
      "    1.13459519e-05   1.54161462e-04   8.25655311e-02   1.29288145e-08\n",
      "    3.91618642e-06   1.03770053e-05]]\n"
     ]
    },
    {
     "data": {
      "image/png": "[encoded data removed]",
      "text/plain": [
       "<matplotlib.figure.Figure at 0x7f1eb7cc10f0>"
      ]
     },
     "metadata": {},
     "output_type": "display_data"
    },
    {
     "name": "stdout",
     "output_type": "stream",
     "text": [
      "[[[[ 1.  0.  0.  0.  0.  0.  0.  0.  0.  0.]]]] [[  9.17253792e-01   8.32403728e-08   2.32914554e-09   5.01985483e-07\n",
      "    1.13459710e-05   1.54161855e-04   8.25656801e-02   1.29288118e-08\n",
      "    3.91620415e-06   1.03770326e-05]]\n",
      "0.0901314 0.76849\n"
     ]
    }
   ],
   "source": [
    "im =  test_normal_data[397]      \n",
    "plt.imshow(np.reshape(im,(64, 64)), cmap='Greys_r')\n",
    "\n",
    "plt.show()\n",
    "Q_c ,im_enc= sess.run([Q_fake,D_enc],{u : np.reshape(im,(1,64, 64,1)),z : z_, c : c_,isTrain : False})\n",
    "print(Q_c)\n",
    "\n",
    "\n",
    "\n",
    "\n",
    "im_re, im_z, im_c= sess.run([re_image, re_z, re_c],{u : np.reshape(im,(1,64, 64,1)),z : z_, c : c_,isTrain : False})\n",
    "Q_c, im_re_enc= sess.run([Q_fake,D_enc],{u : np.reshape(im_re,(1,64, 64,1)),z : z_, c : c_,isTrain : False})\n",
    "\n",
    "plt.imshow(np.reshape(im_re,(64, 64)), cmap='Greys_r')\n",
    "plt.show()\n",
    "\n",
    "print(im_c,Q_c)\n",
    "\n",
    "residual_e = np.mean(np.sqrt((np.reshape(im,(1,64*64))-np.reshape(im_re,(1,64*64)))**2))\n",
    "\n",
    "feature_e = np.mean(np.sqrt((np.reshape(im_enc,(1,100))-np.reshape(im_re_enc,(1,100)))**2))\n",
    "print(residual_e, feature_e)\n"
   ]
  },
  {
   "cell_type": "code",
   "execution_count": 27,
   "metadata": {},
   "outputs": [
    {
     "data": {
      "text/plain": [
       "array([[[[-0.89601749,  0.47803158, -0.04937659, -0.0829699 , -1.07996082,\n",
       "          -1.44532681,  1.0824424 ,  1.31361103, -0.78213131,  1.13517463,\n",
       "          -1.34511161,  0.34091109,  0.0662052 , -0.82735229,  0.68639791,\n",
       "          -0.63517457, -0.05994821, -1.10671055, -0.69323397,  0.11084983,\n",
       "           0.89952308, -0.72788966,  1.69608653,  0.12325699, -0.67357904,\n",
       "           2.72341442, -1.49244845, -0.56093866, -0.4439519 , -0.14227991,\n",
       "           0.46522787,  0.85626513,  0.68879348,  0.74089456,  1.00644517,\n",
       "           0.35284296, -1.10459554,  0.88948542,  0.7759819 , -1.11515248,\n",
       "          -0.29909781, -0.12374014, -0.32682794, -0.22377446,  0.09074184,\n",
       "           1.40080678, -1.28697813,  0.19204894,  0.75963289, -0.44952574,\n",
       "           1.273085  ,  0.95856458, -1.25711405,  0.58814329,  0.62443489,\n",
       "           0.97482955, -0.87184972,  1.5253011 ,  0.3945846 , -0.92261446,\n",
       "           0.18834224, -0.76677608,  0.19572985, -1.25615513, -0.49887019,\n",
       "          -0.90967065,  0.78398669, -0.11380751,  1.2007817 , -0.48168445,\n",
       "           0.58723372, -1.89524913, -0.38377371,  0.13137847,  0.51378512,\n",
       "           1.26189625,  0.30329603,  0.8570177 ,  0.04667551, -1.21502566,\n",
       "          -0.52238113,  1.75424862,  0.83225077,  2.21844673, -0.50239956,\n",
       "           0.94183385,  0.05835061, -1.2374692 ,  0.11945827,  0.98422945,\n",
       "           0.2824536 ,  0.93693823,  0.33267865, -0.20312145,  0.97576463,\n",
       "           0.93814754, -0.67759514,  0.649441  , -0.83266103, -0.36102188]]]], dtype=float32)"
      ]
     },
     "execution_count": 27,
     "metadata": {},
     "output_type": "execute_result"
    }
   ],
   "source": [
    "im_enc"
   ]
  },
  {
   "cell_type": "code",
   "execution_count": 28,
   "metadata": {},
   "outputs": [
    {
     "data": {
      "text/plain": [
       "array([[[[-1.40885198, -0.81129986,  1.45127773,  0.90616769,  0.23639663,\n",
       "           1.23218417, -0.23882324,  0.05086373, -0.53162205,  1.5601114 ,\n",
       "          -1.253263  ,  1.17118287, -1.47452855, -0.35821763,  1.07903171,\n",
       "           0.54638749, -1.03195024, -1.37868798,  0.40413463,  1.21944392,\n",
       "           0.84383649,  1.00337207,  0.75300199,  1.13208461, -0.67520857,\n",
       "           0.74391222,  0.08056459,  0.9724794 ,  0.27609438, -0.31558058,\n",
       "          -0.72915304,  0.63398802,  0.61480319,  0.97100484,  0.61133832,\n",
       "           0.31384185,  0.35604849, -0.28329134, -0.61174488, -0.91970158,\n",
       "          -0.86137998, -0.6248911 , -0.02150748,  0.91242027, -1.18641555,\n",
       "          -0.57018739, -0.68445373, -0.9509353 ,  0.94091898, -1.19961607,\n",
       "           0.73479241,  1.2287873 , -0.75601095, -0.4037334 ,  0.99050325,\n",
       "           1.19890213, -0.3241798 ,  1.38998806, -0.79264253, -0.050839  ,\n",
       "           1.14629471, -0.6843372 ,  1.1423105 , -1.09150636, -1.19944203,\n",
       "           0.21106569,  1.82291341, -1.22667277,  0.66965765, -1.52002072,\n",
       "           1.25727189, -0.92771655,  0.41431746, -0.39796576, -0.01300933,\n",
       "           1.38361871,  0.11160848,  0.11825049,  1.16875827, -0.67229635,\n",
       "          -0.1140349 ,  0.5585081 ,  1.01995504,  0.45099005,  1.0549705 ,\n",
       "           1.00369036, -0.45193061, -0.67216605,  0.37890977, -0.49737525,\n",
       "           0.82171077,  1.23300505,  0.14623836, -0.4911806 ,  1.08963907,\n",
       "           1.50714862,  0.0284856 , -0.97502255, -0.8751716 ,  0.56786305]]]], dtype=float32)"
      ]
     },
     "execution_count": 28,
     "metadata": {},
     "output_type": "execute_result"
    }
   ],
   "source": [
    "im_re_enc"
   ]
  },
  {
   "cell_type": "code",
   "execution_count": null,
   "metadata": {},
   "outputs": [],
   "source": []
  }
 ],
 "metadata": {
  "kernelspec": {
   "display_name": "Python 3",
   "language": "python",
   "name": "python3"
  },
  "language_info": {
   "codemirror_mode": {
    "name": "ipython",
    "version": 3
   },
   "file_extension": ".py",
   "mimetype": "text/x-python",
   "name": "python",
   "nbconvert_exporter": "python",
   "pygments_lexer": "ipython3",
   "version": "3.5.2"
  },
  "toc": {
   "base_numbering": 1,
   "nav_menu": {},
   "number_sections": true,
   "sideBar": true,
   "skip_h1_title": false,
   "title_cell": "Table of Contents",
   "title_sidebar": "Contents",
   "toc_cell": false,
   "toc_position": {
    "height": "calc(100% - 180px)",
    "left": "10px",
    "top": "150px",
    "width": "321px"
   },
   "toc_section_display": true,
   "toc_window_display": false
  },
  "varInspector": {
   "cols": {
    "lenName": 16,
    "lenType": 16,
    "lenVar": 40
   },
   "kernels_config": {
    "python": {
     "delete_cmd_postfix": "",
     "delete_cmd_prefix": "del ",
     "library": "var_list.py",
     "varRefreshCmd": "print(var_dic_list())"
    },
    "r": {
     "delete_cmd_postfix": ") ",
     "delete_cmd_prefix": "rm(",
     "library": "var_list.r",
     "varRefreshCmd": "cat(var_dic_list()) "
    }
   },
   "types_to_exclude": [
    "module",
    "function",
    "builtin_function_or_method",
    "instance",
    "_Feature"
   ],
   "window_display": false
  }
 },
 "nbformat": 4,
 "nbformat_minor": 2
}
