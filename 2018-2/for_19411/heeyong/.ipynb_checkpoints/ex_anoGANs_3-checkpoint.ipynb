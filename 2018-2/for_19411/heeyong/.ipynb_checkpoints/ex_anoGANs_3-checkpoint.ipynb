{
 "cells": [
  {
   "cell_type": "markdown",
   "metadata": {},
   "source": [
    "# add some tips\n",
    "\n",
    "https://medium.com/@utk.is.here/keep-calm-and-train-a-gan-pitfalls-and-tips-on-training-generative-adversarial-networks-edd529764aa9\n",
    "\n"
   ]
  },
  {
   "cell_type": "code",
   "execution_count": 1,
   "metadata": {
    "code_folding": [
     11,
     28,
     42,
     61
    ]
   },
   "outputs": [],
   "source": [
    "import tensorflow as tf\n",
    "import numpy as np\n",
    "import os\n",
    "import sys\n",
    "import time\n",
    "import time \n",
    "import matplotlib.pyplot as plt\n",
    "import matplotlib.gridspec as gridspec \n",
    "\n",
    "os.environ[\"CUDA_VISIBLE_DEVICES\"]=\"0\"\n",
    "\n",
    "def my_mnist_train_batch(size) :\n",
    "    m = 500\n",
    "    data = []\n",
    "    for i in range(1000) :\n",
    "        number = number = np.random.randint(5)\n",
    "        image, label = mnist.train.next_batch(m)       \n",
    "        for j in range(len(label)) : \n",
    "            \n",
    "            if np.argmax(label[j])==number :\n",
    "                data.append(image[j])\n",
    "                number = number = np.random.randint(5)\n",
    "            if len(data) == size :\n",
    "                break\n",
    "        if len(data) == size :\n",
    "            break\n",
    "    return data\n",
    "\n",
    "def my_mnist_test_batch(size, number = 0) :\n",
    "    m = 500\n",
    "    data = []\n",
    "    for i in range(1000) :\n",
    "        image, label = mnist.test.next_batch(m)       \n",
    "        for j in range(len(label)) : \n",
    "            if np.argmax(label[j])==number :\n",
    "                data.append(image[j])              \n",
    "            if len(data) == size :\n",
    "                break\n",
    "        if len(data) == size :\n",
    "            break\n",
    "    return data\n",
    "\n",
    "def mnist_4by4_save(samples,path):\n",
    "    fig = plt.figure(figsize=(4, 4))\n",
    "    gs = gridspec.GridSpec(4, 4)    \n",
    "    gs.update(wspace=0.05, hspace=0.05) #이미지 사이간격 조절\n",
    "  \n",
    "    for i, sample in enumerate(samples):\n",
    "        ax = plt.subplot(gs[i])\n",
    "        plt.axis('off')    \n",
    "        ax.set_xticklabels([])\n",
    "        ax.set_yticklabels([])\n",
    "        ax.set_aspect('equal')\n",
    "   \n",
    "        plt.imshow(sample.reshape(28, 28), cmap='Greys_r',clim=(0.0,1.0))\n",
    "    plt.colorbar()\n",
    "    plt.savefig(path, bbox_inches='tight')\n",
    "    plt.close(fig)\n",
    "   \n",
    "    return None\n",
    "\n",
    "def gan_loss_graph_save(G_loss,D_loss,path):\n",
    "    x1 = range(len(G_loss))\n",
    "    x2 = range(len(D_loss))\n",
    "      \n",
    "    y1 = G_loss\n",
    "    y2 = D_loss\n",
    "  \n",
    "      \n",
    "    plt.plot(x1,y1,label='G_loss') \n",
    "    plt.plot(x2,y2,label='D_loss') \n",
    "  \n",
    "    plt.xlabel('weight per update')\n",
    "    plt.ylabel('loss')             \n",
    "    plt.legend(loc=4)              \n",
    "    plt.grid(True)\n",
    "    plt.tight_layout()\n",
    "  \n",
    "    plt.savefig(path)              \n",
    "\n",
    "    return None\n"
   ]
  },
  {
   "cell_type": "code",
   "execution_count": 2,
   "metadata": {
    "code_folding": [
     7,
     45,
     75,
     115
    ]
   },
   "outputs": [
    {
     "name": "stdout",
     "output_type": "stream",
     "text": [
      "Extracting ../MNIST_data/train-images-idx3-ubyte.gz\n",
      "Extracting ../MNIST_data/train-labels-idx1-ubyte.gz\n",
      "Extracting ../MNIST_data/t10k-images-idx3-ubyte.gz\n",
      "Extracting ../MNIST_data/t10k-labels-idx1-ubyte.gz\n"
     ]
    }
   ],
   "source": [
    "from tensorflow.examples.tutorials.mnist import input_data\n",
    "mnist = input_data.read_data_sets(\"../MNIST_data\", one_hot=True)\n",
    "\n",
    "file_name = 'ex_anoGANs_3'\n",
    "\n",
    "if not os.path.isdir(file_name) :\n",
    "    os.mkdir(file_name)\n",
    "def simple_G(x,isTrain = True, reuse = False, name = 'G_out') : #input = (minibatch * w * h * ch)\n",
    "    \n",
    "    # out size = (in size + 2*padding - kenel)/strides + 1    \n",
    "    w_init = tf.truncated_normal_initializer(mean= 0.0, stddev=0.02)\n",
    "    b_init = tf.constant_initializer(0.0)\n",
    "\n",
    "\n",
    "    with tf.variable_scope('G',reuse=reuse) :\n",
    "        \n",
    "        #x = (-1, 1, 1, 100)\n",
    "\n",
    "\n",
    "        conv1 = tf.layers.conv2d_transpose(x,2048,[4,4], strides=(1,1),padding = 'valid',\n",
    "                kernel_initializer=w_init, bias_initializer=b_init) \n",
    "        r1 = tf.nn.elu(tf.layers.batch_normalization(conv1,training=isTrain))#1024*4*4\n",
    "        \n",
    "        conv2 = tf.layers.conv2d_transpose(r1,1024,[4,4], strides=(2,2),padding = 'same',\n",
    "                kernel_initializer=w_init, bias_initializer=b_init)\n",
    "        r2 = tf.nn.elu(tf.layers.batch_normalization(conv2,training=isTrain))#512*8*8\n",
    "                \n",
    "        conv3 = tf.layers.conv2d_transpose(r2,512,[4,4], strides=(2,2),padding = 'same',\n",
    "                kernel_initializer=w_init, bias_initializer=b_init)\n",
    "        r3 = tf.nn.elu(tf.layers.batch_normalization(conv3,training=isTrain))#256*16*16\n",
    "\n",
    "        conv4 = tf.layers.conv2d_transpose(r3,256,[4,4], strides=(2,2),padding = 'same',\n",
    "                kernel_initializer=w_init, bias_initializer=b_init)\n",
    "        r4 = tf.nn.elu(tf.layers.batch_normalization(conv4,training=isTrain))#128*32*32\n",
    "\n",
    "        conv5 = tf.layers.conv2d(r4,128,[3,3], strides=(1,1),padding = 'valid',\n",
    "                kernel_initializer=w_init, bias_initializer=b_init)\n",
    "        r5 = tf.nn.elu(tf.layers.batch_normalization(conv5,training=isTrain))#64*30*30\n",
    "\n",
    "        conv6 = tf.layers.conv2d(r5,1,[3,3], strides=(1,1),padding = 'valid',\n",
    "                kernel_initializer=w_init, bias_initializer=b_init)\n",
    "    r6 = tf.nn.sigmoid(conv6,name=name)#1*28*28\n",
    "  \n",
    "\n",
    "    return r6\n",
    "def residual_loss_G(x,isTrain = False, reuse = True, name = 'residual_loss_out') : #input = (minibatch * w * h * ch)\n",
    "    \n",
    "    # out size = (in size + 2*padding - kenel)/strides + 1    \n",
    "\n",
    "\n",
    "    with tf.variable_scope('G',reuse=reuse) as scope :\n",
    "        scope.reuse_variables()\n",
    "        #x = (-1, 1, 1, 100)\n",
    "\n",
    "\n",
    "        conv1 = tf.layers.conv2d_transpose(x,2048,[4,4], strides=(1,1),padding = 'valid')\n",
    "        r1 = tf.nn.elu(tf.layers.batch_normalization(conv1,training=isTrain))#1024*4*4\n",
    "        \n",
    "        conv2 = tf.layers.conv2d_transpose(r1,1024,[4,4], strides=(2,2),padding = 'same')\n",
    "        r2 = tf.nn.elu(tf.layers.batch_normalization(conv2,training=isTrain))#512*8*8\n",
    "                \n",
    "        conv3 = tf.layers.conv2d_transpose(r2,512,[4,4], strides=(2,2),padding = 'same')\n",
    "        r3 = tf.nn.elu(tf.layers.batch_normalization(conv3,training=isTrain))#256*16*16\n",
    "\n",
    "        conv4 = tf.layers.conv2d_transpose(r3,256,[4,4], strides=(2,2),padding = 'same')\n",
    "        r4 = tf.nn.elu(tf.layers.batch_normalization(conv4,training=isTrain))#128*32*32\n",
    "\n",
    "        conv5 = tf.layers.conv2d(r4,128,[3,3], strides=(1,1),padding = 'valid')\n",
    "        r5 = tf.nn.elu(tf.layers.batch_normalization(conv5,training=isTrain))#64*30*30\n",
    "\n",
    "        conv6 = tf.layers.conv2d(r5,1,[3,3], strides=(1,1),padding = 'valid')\n",
    "    r6 = tf.nn.sigmoid(conv6,name=name)#1*28*28\n",
    "  \n",
    "\n",
    "    return r6\n",
    "def simple_D(x,isTrain=True,reuse = False) :\n",
    "    \n",
    "    w_init = tf.truncated_normal_initializer(mean= 0.0, stddev=0.02)\n",
    "    b_init = tf.constant_initializer(0.0)\n",
    "    with tf.variable_scope('D', reuse=reuse) :\n",
    "        \n",
    "        #x = (-1,28,28,1)\n",
    "        # out size = (in size + 2*padding - kenel)/strides + 1   \n",
    "\n",
    "        conv1 = tf.layers.conv2d(x,128,[5,5], strides=(1,1),padding = 'valid',\n",
    "                                kernel_initializer=w_init, bias_initializer=b_init) \n",
    "        r1 = tf.nn.elu(tf.layers.batch_normalization(conv1,training=isTrain))#64*24*24\n",
    "\n",
    "   \n",
    "        conv2 = tf.layers.conv2d(r1,256,[5,5], strides=(1,1),padding = 'valid',\n",
    "                                kernel_initializer=w_init, bias_initializer=b_init)\n",
    "        r2 = tf.nn.elu(tf.layers.batch_normalization(conv2,training=isTrain))#128*20*20\n",
    "\n",
    "  \n",
    "        conv3 = tf.layers.conv2d(r2,512,[5,5], strides=(1,1),padding = 'valid',\n",
    "                                kernel_initializer=w_init, bias_initializer=b_init)\n",
    "        r3 = tf.nn.elu(tf.layers.batch_normalization(conv3,training=isTrain))#256*16*16\n",
    "\n",
    " \n",
    "        conv4 = tf.layers.conv2d(r3,1024,[4,4], strides=(2,2),padding = 'same',\n",
    "                                kernel_initializer=w_init, bias_initializer=b_init)\n",
    "        r4 = tf.nn.elu(tf.layers.batch_normalization(conv4,training=isTrain))#512*8*8\n",
    "\n",
    "\n",
    "        conv5 = tf.layers.conv2d(r4,2048,[4,4], strides=(2,2),padding = 'same',\n",
    "                                kernel_initializer=w_init, bias_initializer=b_init)\n",
    "        r5 = tf.nn.elu(tf.layers.batch_normalization(conv5,training=isTrain))#1024*4*4\n",
    "\n",
    "       \n",
    "        conv6 = tf.layers.conv2d(r5,1,[4,4], strides=(1,1),padding = 'valid',\n",
    "                                kernel_initializer=w_init, bias_initializer=b_init)\n",
    "    r6 = tf.nn.sigmoid(conv6)#1*1*1\n",
    "\n",
    "\n",
    "    return r6\n",
    "def feature_extractor_D(x,isTrain=False,reuse = True, name='feature_out') :\n",
    "    \n",
    "    with tf.variable_scope('D', reuse=reuse) as scope :\n",
    "        scope.reuse_variables()\n",
    "        #x = (-1,28,28,1)\n",
    "\n",
    "        conv1 = tf.layers.conv2d(x,128,[5,5], strides=(1,1),padding = 'valid')\n",
    "        r1 = tf.nn.elu(tf.layers.batch_normalization(conv1,training=isTrain))#64*24*24\n",
    "\n",
    "   \n",
    "        conv2 = tf.layers.conv2d(r1,256,[5,5], strides=(1,1),padding = 'valid')\n",
    "        r2 = tf.nn.elu(tf.layers.batch_normalization(conv2,training=isTrain))#128*20*20\n",
    "\n",
    "  \n",
    "        conv3 = tf.layers.conv2d(r2,512,[5,5], strides=(1,1),padding = 'valid')\n",
    "    r3 = tf.nn.elu(tf.layers.batch_normalization(conv3,training=isTrain),name = name)#256*16*16\n",
    "\n",
    " \n",
    "        #conv4 = tf.layers.conv2d(r3,1024,[4,4], strides=(2,2),padding = 'same')\n",
    "        #r4 = tf.nn.lrelu(tf.layers.batch_normalization(conv4,training=isTrain),0.2)#512*8*8\n",
    "\n",
    "\n",
    "        #conv5 = tf.layers.conv2d(r4,2048,[4,4], strides=(2,2),padding = 'same')\n",
    "        #r5 = tf.nn.lrelu(tf.layers.batch_normalization(conv5,training=isTrain),0.2)#1024*4*4\n",
    "\n",
    "\n",
    "    return r3\n",
    "\n"
   ]
  },
  {
   "cell_type": "code",
   "execution_count": 3,
   "metadata": {},
   "outputs": [],
   "source": [
    "lr = 0.001\n",
    "\n",
    "z_size = 100\n",
    "ramda = 0.1\n",
    "\n",
    "\n",
    "z = tf.placeholder(tf.float32,shape=(None,1,1,z_size),name = 'z')    \n",
    "u = tf.placeholder(tf.float32, shape = (None, 28,28,1),name='u')\n",
    "ano_y = tf.placeholder(tf.float32, shape = (1, 28,28,1),name='ano_y')\n",
    "\n",
    "ano_z = tf.get_variable('ano_z', shape = [1, 1, 1, z_size], dtype = tf.float32, \n",
    "        initializer = tf.truncated_normal_initializer(mean= 0.0, stddev=0.1))\n",
    "\n",
    "isTrain = tf.placeholder(dtype=tf.bool,name='isTrain') \n",
    "soft_one = tf.placeholder(tf.float32, shape = (None, 1,1,1),name='soft_one') # 0.9~1.0\n",
    "soft_zero = tf.placeholder(tf.float32, shape = (None, 1,1,1),name='soft_zero') # 0.0~0.1\n",
    "\n",
    "G_z = simple_G(z,name='G_z')\n",
    "\n",
    "D_real = simple_D(u,isTrain)\n",
    "D_fake = simple_D(G_z,isTrain,reuse=True)\n",
    "\n",
    "\n",
    "img_z = residual_loss_G(ano_z, name ='img_z')\n",
    "img_z_result= simple_D(img_z,isTrain=False,reuse=True)\n",
    "\n",
    "feature_y = feature_extractor_D(ano_y, reuse = True, name ='feature_y')\n",
    "feature_z = feature_extractor_D(img_z, reuse = True, name ='feature_z')\n",
    "\n",
    "\n",
    "feature_loss = tf.reduce_mean(tf.abs(feature_y-feature_z),name = 'feature_loss')\n",
    "D_real_loss = tf.reduce_mean(-(soft_one*tf.log(D_real + 1e-8) + (1-soft_one)*tf.log(1- D_real + 1e-8)),name = 'D_real_loss')\n",
    "D_fake_loss = tf.reduce_mean(-(soft_zero*tf.log(D_fake + 1e-8) + (1-soft_zero)*tf.log(1 - D_fake + 1e-8)),name = 'D_fake_loss')\n",
    "\n",
    "\n",
    "D_loss =  tf.add(D_real_loss,D_fake_loss,name='D_loss')\n",
    "G_loss =  tf.reduce_mean(-tf.log(D_fake + 1e-8),name='G_loss')\n",
    "residual_loss = tf.reduce_mean(tf.abs(img_z - ano_y), name = 'residual_loss')\n",
    "#discrimination_loss = tf.reduce_mean(-tf.log(img_z_result + 1e-8),name = 'discrimination_loss')\n",
    "\n",
    "\n",
    "mapping_loss = tf.add((1-ramda)*residual_loss, ramda*feature_loss,name = 'mapping_loss') \n",
    "\n",
    "T_vars = tf.trainable_variables()\n",
    "D_vars = [var for var in T_vars if var.name.startswith('D')]\n",
    "G_vars = [var for var in T_vars if var.name.startswith('G')]\n",
    "ano_vars = [var for var in T_vars if var.name.startswith('ano')]\n",
    "    # When using the batchnormalization layers,\n",
    "    # it is necessary to manually add the update operations\n",
    "    # because the moving averages are not included in the graph\n",
    "\n",
    "with tf.control_dependencies(tf.get_collection(tf.GraphKeys.UPDATE_OPS)) :        \n",
    "    D_optim = tf.train.AdamOptimizer(0.001,beta1=0.5).minimize(D_loss, var_list=D_vars, name='D_optim') \n",
    "    G_optim = tf.train.AdamOptimizer(0.001,beta1=0.5).minimize(G_loss, var_list=G_vars, name='G_optim')\n",
    "    \n",
    "mapping_optim = tf.train.AdamOptimizer(0.001,beta1=0.5).minimize(mapping_loss, var_list=ano_vars, name='mapping_optim')\n",
    "\n"
   ]
  },
  {
   "cell_type": "code",
   "execution_count": 4,
   "metadata": {},
   "outputs": [
    {
     "name": "stdout",
     "output_type": "stream",
     "text": [
      "D_e : 2.646101, D_real_e : 1.390458, D_fake_e : 1.255643, G_e : 16.767776\n",
      "D_e : 9.166995, D_real_e : 2.751991, D_fake_e : 6.480212, G_e : 9.600489\n",
      "D_e : 6.557391, D_real_e : 2.061724, D_fake_e : 1.859966, G_e : 7.027040\n",
      "D_e : 5.254876, D_real_e : 1.351932, D_fake_e : 1.284887, G_e : 5.474447\n",
      "D_e : 4.535750, D_real_e : 1.213625, D_fake_e : 1.157560, G_e : 4.675671\n",
      "D_e : 4.047741, D_real_e : 1.063876, D_fake_e : 1.026950, G_e : 4.156870\n",
      "D_e : 3.725646, D_real_e : 1.087378, D_fake_e : 1.024569, G_e : 3.815478\n",
      "D_e : 3.471066, D_real_e : 1.001168, D_fake_e : 0.939873, G_e : 3.572829\n",
      "D_e : 3.279632, D_real_e : 0.991289, D_fake_e : 0.946392, G_e : 3.369103\n",
      "D_e : 3.129984, D_real_e : 0.975282, D_fake_e : 0.956022, G_e : 3.200999\n",
      "D_e : 3.009201, D_real_e : 0.978853, D_fake_e : 0.942093, G_e : 3.063857\n",
      "D_e : 2.898388, D_real_e : 0.914574, D_fake_e : 0.874581, G_e : 2.944850\n",
      "D_e : 2.803854, D_real_e : 0.900224, D_fake_e : 0.862802, G_e : 2.840727\n",
      "D_e : 2.723940, D_real_e : 0.897847, D_fake_e : 0.866329, G_e : 2.745729\n",
      "D_e : 2.651985, D_real_e : 0.866012, D_fake_e : 0.849838, G_e : 2.660565\n",
      "D_e : 2.589223, D_real_e : 0.863396, D_fake_e : 0.846534, G_e : 2.585649\n",
      "D_e : 2.529989, D_real_e : 0.817911, D_fake_e : 0.822963, G_e : 2.513767\n",
      "D_e : 2.473803, D_real_e : 0.796991, D_fake_e : 0.777286, G_e : 2.451952\n",
      "D_e : 2.421858, D_real_e : 0.778206, D_fake_e : 0.760057, G_e : 2.398422\n",
      "D_e : 2.376624, D_real_e : 0.776710, D_fake_e : 0.785263, G_e : 2.349651\n",
      "D_e : 2.334803, D_real_e : 0.772330, D_fake_e : 0.767457, G_e : 2.304264\n",
      "D_e : 2.293625, D_real_e : 0.734466, D_fake_e : 0.735176, G_e : 2.267106\n",
      "D_e : 2.257899, D_real_e : 0.766348, D_fake_e : 0.740946, G_e : 2.230172\n",
      "D_e : 2.226459, D_real_e : 0.774437, D_fake_e : 0.760039, G_e : 2.195914\n",
      "D_e : 2.197717, D_real_e : 0.779507, D_fake_e : 0.756853, G_e : 2.164191\n",
      "D_e : 2.166928, D_real_e : 0.714088, D_fake_e : 0.713595, G_e : 2.133853\n",
      "D_e : 2.140068, D_real_e : 0.739033, D_fake_e : 0.729269, G_e : 2.107209\n",
      "D_e : 2.114918, D_real_e : 0.737390, D_fake_e : 0.723360, G_e : 2.082756\n",
      "D_e : 2.090455, D_real_e : 0.721278, D_fake_e : 0.708448, G_e : 2.059835\n",
      "D_e : 2.066839, D_real_e : 0.709560, D_fake_e : 0.695800, G_e : 2.038855\n",
      "D_e : 2.042865, D_real_e : 0.680599, D_fake_e : 0.666779, G_e : 2.022294\n",
      "D_e : 2.021349, D_real_e : 0.691042, D_fake_e : 0.684616, G_e : 2.005286\n",
      "D_e : 1.998991, D_real_e : 0.656107, D_fake_e : 0.649541, G_e : 1.992508\n",
      "D_e : 1.981646, D_real_e : 0.720129, D_fake_e : 0.706313, G_e : 1.976933\n",
      "D_e : 1.963720, D_real_e : 0.691012, D_fake_e : 0.680966, G_e : 1.962335\n",
      "D_e : 1.946003, D_real_e : 0.675225, D_fake_e : 0.668239, G_e : 1.951444\n",
      "D_e : 1.927408, D_real_e : 0.638093, D_fake_e : 0.638293, G_e : 1.940298\n",
      "D_e : 1.910132, D_real_e : 0.645894, D_fake_e : 0.642137, G_e : 1.931538\n",
      "D_e : 1.897986, D_real_e : 0.733263, D_fake_e : 0.715179, G_e : 1.921972\n",
      "D_e : 1.880930, D_real_e : 0.617259, D_fake_e : 0.615404, G_e : 1.913014\n",
      "D_e : 1.866818, D_real_e : 0.661226, D_fake_e : 0.655085, G_e : 1.904477\n",
      "D_e : 1.851594, D_real_e : 0.625064, D_fake_e : 0.617381, G_e : 1.897941\n",
      "D_e : 1.839286, D_real_e : 0.668159, D_fake_e : 0.666375, G_e : 1.890837\n",
      "D_e : 1.825770, D_real_e : 0.629696, D_fake_e : 0.628273, G_e : 1.883476\n",
      "D_e : 1.813264, D_real_e : 0.637839, D_fake_e : 0.637537, G_e : 1.876529\n",
      "D_e : 1.799820, D_real_e : 0.609921, D_fake_e : 0.598236, G_e : 1.872265\n",
      "D_e : 1.786736, D_real_e : 0.598413, D_fake_e : 0.599418, G_e : 1.868624\n",
      "D_e : 1.776641, D_real_e : 0.660957, D_fake_e : 0.651213, G_e : 1.862921\n",
      "D_e : 1.764570, D_real_e : 0.596984, D_fake_e : 0.600151, G_e : 1.858293\n",
      "D_e : 1.755413, D_real_e : 0.665868, D_fake_e : 0.649914, G_e : 1.853049\n",
      "D_e : 1.742916, D_real_e : 0.568892, D_fake_e : 0.561553, G_e : 1.850563\n",
      "D_e : 1.732340, D_real_e : 0.600679, D_fake_e : 0.602717, G_e : 1.849090\n",
      "D_e : 1.721937, D_real_e : 0.601112, D_fake_e : 0.590173, G_e : 1.845605\n",
      "D_e : 1.711056, D_real_e : 0.567643, D_fake_e : 0.577481, G_e : 1.844550\n",
      "D_e : 1.700502, D_real_e : 0.567087, D_fake_e : 0.573967, G_e : 1.843734\n",
      "D_e : 1.691624, D_real_e : 0.613806, D_fake_e : 0.598327, G_e : 1.841247\n",
      "D_e : 1.683749, D_real_e : 0.622834, D_fake_e : 0.627696, G_e : 1.839020\n",
      "D_e : 1.676639, D_real_e : 0.647301, D_fake_e : 0.631103, G_e : 1.836070\n",
      "D_e : 1.666598, D_real_e : 0.548015, D_fake_e : 0.546153, G_e : 1.834957\n",
      "D_e : 1.658183, D_real_e : 0.583450, D_fake_e : 0.586568, G_e : 1.834055\n",
      "D_e : 1.648862, D_real_e : 0.554450, D_fake_e : 0.544369, G_e : 1.834668\n",
      "D_e : 1.639574, D_real_e : 0.539602, D_fake_e : 0.542632, G_e : 1.835595\n",
      "D_e : 1.630517, D_real_e : 0.540052, D_fake_e : 0.537861, G_e : 1.836236\n",
      "D_e : 1.618775, D_real_e : 0.441442, D_fake_e : 0.449242, G_e : 1.840294\n",
      "D_e : 1.610997, D_real_e : 0.567193, D_fake_e : 0.553727, G_e : 1.843190\n",
      "D_e : 1.601427, D_real_e : 0.496162, D_fake_e : 0.492655, G_e : 1.845592\n",
      "D_e : 1.595623, D_real_e : 0.619600, D_fake_e : 0.598727, G_e : 1.847334\n",
      "D_e : 1.587572, D_real_e : 0.527139, D_fake_e : 0.529009, G_e : 1.847222\n",
      "D_e : 1.579198, D_real_e : 0.517743, D_fake_e : 0.500251, G_e : 1.849370\n",
      "D_e : 1.571914, D_real_e : 0.532437, D_fake_e : 0.544105, G_e : 1.851174\n",
      "D_e : 1.564278, D_real_e : 0.515170, D_fake_e : 0.522140, G_e : 1.852510\n",
      "D_e : 1.560189, D_real_e : 0.677785, D_fake_e : 0.596167, G_e : 1.857461\n",
      "D_e : 1.552529, D_real_e : 0.501737, D_fake_e : 0.506844, G_e : 1.859233\n",
      "D_e : 1.544312, D_real_e : 0.482593, D_fake_e : 0.470030, G_e : 1.862510\n",
      "D_e : 1.536764, D_real_e : 0.486553, D_fake_e : 0.499122, G_e : 1.864963\n",
      "D_e : 1.528834, D_real_e : 0.475783, D_fake_e : 0.466133, G_e : 1.868371\n",
      "D_e : 1.522711, D_real_e : 0.544846, D_fake_e : 0.518594, G_e : 1.870702\n",
      "D_e : 1.514574, D_real_e : 0.447446, D_fake_e : 0.448662, G_e : 1.873754\n",
      "D_e : 1.506696, D_real_e : 0.451591, D_fake_e : 0.448409, G_e : 1.876850\n",
      "D_e : 1.501047, D_real_e : 0.535670, D_fake_e : 0.524726, G_e : 1.879564\n",
      "D_e : 1.494740, D_real_e : 0.493515, D_fake_e : 0.502855, G_e : 1.881223\n",
      "D_e : 1.487600, D_real_e : 0.462360, D_fake_e : 0.453954, G_e : 1.883693\n",
      "D_e : 1.481440, D_real_e : 0.493584, D_fake_e : 0.488832, G_e : 1.887885\n",
      "D_e : 1.474058, D_real_e : 0.431928, D_fake_e : 0.436721, G_e : 1.892340\n",
      "D_e : 1.467271, D_real_e : 0.450395, D_fake_e : 0.453557, G_e : 1.895470\n",
      "D_e : 1.461024, D_real_e : 0.465003, D_fake_e : 0.471170, G_e : 1.899988\n",
      "D_e : 1.454461, D_real_e : 0.456828, D_fake_e : 0.439771, G_e : 1.904528\n",
      "D_e : 1.447001, D_real_e : 0.401214, D_fake_e : 0.404077, G_e : 1.908088\n",
      "D_e : 1.439945, D_real_e : 0.411960, D_fake_e : 0.414088, G_e : 1.912894\n",
      "D_e : 1.435085, D_real_e : 0.503188, D_fake_e : 0.504177, G_e : 1.916802\n",
      "D_e : 1.429450, D_real_e : 0.478183, D_fake_e : 0.449686, G_e : 1.920719\n",
      "D_e : 1.424843, D_real_e : 0.520501, D_fake_e : 0.489661, G_e : 1.924761\n",
      "D_e : 1.418685, D_real_e : 0.430977, D_fake_e : 0.427239, G_e : 1.927260\n",
      "D_e : 1.412370, D_real_e : 0.415417, D_fake_e : 0.415939, G_e : 1.931775\n",
      "D_e : 1.407628, D_real_e : 0.487559, D_fake_e : 0.479004, G_e : 1.935538\n",
      "D_e : 1.401826, D_real_e : 0.430029, D_fake_e : 0.426402, G_e : 1.937959\n",
      "D_e : 1.397549, D_real_e : 0.498033, D_fake_e : 0.493087, G_e : 1.941553\n",
      "D_e : 1.392715, D_real_e : 0.463251, D_fake_e : 0.465378, G_e : 1.943951\n",
      "D_e : 1.387988, D_real_e : 0.461642, D_fake_e : 0.467753, G_e : 1.946381\n",
      "D_e : 1.382665, D_real_e : 0.433851, D_fake_e : 0.427129, G_e : 1.949778\n",
      "total time :  8918.766687393188\n"
     ]
    },
    {
     "data": {
      "image/png": "[encoded data removed]",
      "text/plain": [
       "<matplotlib.figure.Figure at 0x7f94a8cdec50>"
      ]
     },
     "metadata": {},
     "output_type": "display_data"
    }
   ],
   "source": [
    "with tf.Session(config=tf.ConfigProto(gpu_options=tf.GPUOptions(allow_growth=True))) as sess :\n",
    "    sess.run(tf.global_variables_initializer())\n",
    "\n",
    "    np.random.seed(int(time.time()))\n",
    "\n",
    "    test_z = np.random.normal(0,1,size=(16,1,1,z_size))\n",
    "\n",
    "    \n",
    "    log_txt = open(file_name +'/log.txt','w')\n",
    "\n",
    "    hist_G = []\n",
    "    hist_D = []\n",
    "    G_error = []\n",
    "    D_error = []\n",
    "    D_fake_error = []\n",
    "    D_real_error = []\n",
    "    \n",
    "    start = time.time()\n",
    "    for i in range(10000) :\n",
    "        \n",
    "        train_images = my_mnist_train_batch(100) \n",
    "        u_ = np.reshape(train_images,(-1,28,28,1)) \n",
    "        z_ = np.random.normal(0,1,size=(100,1,1,z_size))\n",
    "        soft_one_ = np.random.uniform(0.9,1.0,(100,1,1,1))\n",
    "        soft_zero_ = np.random.uniform(0.0,0.1,(100,1,1,1))\n",
    "        \n",
    "        _ , D_e,D_real_e,D_fake_e = sess.run([D_optim, D_loss,D_real_loss,D_fake_loss], {u : u_, z : z_, isTrain : True,\n",
    "                                                                                         soft_one : soft_one_, soft_zero : soft_zero_})\n",
    "        D_error.append(D_e)\n",
    "        D_real_error.append(D_real_e)\n",
    "        D_fake_error.append(D_fake_e)\n",
    "\n",
    "\n",
    "    #    train_images,train_labels = mnist.train.next_batch(100)    \n",
    "    #    u_ = np.reshape(train_images,(-1,28,28,1)) \n",
    "    #    z_ = np.random.normal(0,1,size=(100,1,1,100))\n",
    "   \n",
    "        _ , G_e = sess.run([G_optim, G_loss], {u : u_, z : z_, isTrain : True}) \n",
    "        G_error.append(G_e)\n",
    "        \n",
    "        if i%100 == 0:\n",
    "\n",
    "            hist_D.append(np.mean(D_error)) \n",
    "            hist_G.append(np.mean(G_error))\n",
    "\n",
    "            print('D_e : %.6f, D_real_e : %.6f, D_fake_e : %.6f, G_e : %.6f'%(np.mean(D_error), np.mean(D_real_error),\n",
    "                np.mean(D_fake_error), np.mean(G_error)))\n",
    "            log_txt.write('D_e : %.6f, D_real_e : %.6f, D_fake_e : %.6f, G_e : %.6f\\n'%(np.mean(D_error),\n",
    "                np.mean(D_real_error), np.mean(D_fake_error), np.mean(G_error)))\n",
    "      \n",
    "            r = sess.run([G_z],feed_dict={z : test_z, isTrain : False})        \n",
    "            mnist_4by4_save(np.reshape(r,(-1,784)),file_name + '/result_{}.png'.format(str(i).zfill(3)))\n",
    "\n",
    "            np.random.seed(int(time.time()))\n",
    "\n",
    "            G_errer = []\n",
    "            D_errer = []\n",
    "            D_fake_error = []\n",
    "            D_real_error = []\n",
    "\n",
    "\n",
    "    log_txt.close()\n",
    "    gan_loss_graph_save(G_loss = hist_G,D_loss=hist_D,path = file_name + '/loss_graph.png')   \n",
    "    saver = tf.train.Saver()\n",
    "    saver.save(sess,file_name + '/para.cktp')\n",
    "\n",
    "    end = time.time()-start\n",
    "\n",
    "    print(\"total time : \",end)"
   ]
  },
  {
   "cell_type": "code",
   "execution_count": 6,
   "metadata": {},
   "outputs": [
    {
     "name": "stdout",
     "output_type": "stream",
     "text": [
      "INFO:tensorflow:Restoring parameters from ex_anoGANs_3/para.cktp\n"
     ]
    }
   ],
   "source": [
    "\n",
    "\n",
    "if not os.path.isdir(file_name) :\n",
    "    os.mkdir(file_name)\n",
    "\n",
    "    \n",
    "sess = tf.InteractiveSession()\n",
    "    \n",
    "new_saver = tf.train.import_meta_graph(file_name + '/para.cktp.meta')\n",
    "new_saver.restore(sess, tf.train.latest_checkpoint(file_name + '/'))\n",
    "\n",
    "\n",
    "z = sess.graph.get_tensor_by_name(\"z:0\")\n",
    "u = sess.graph.get_tensor_by_name(\"u:0\")\n",
    "\n",
    "ano_y = sess.graph.get_tensor_by_name(\"ano_y:0\")\n",
    "ano_z = sess.graph.get_tensor_by_name(\"ano_z:0\")\n",
    "\n",
    "isTrain = sess.graph.get_tensor_by_name(\"isTrain:0\")\n",
    "\n",
    "    \n",
    "G_z = sess.graph.get_tensor_by_name(\"G_z:0\")\n",
    "img_z = sess.graph.get_tensor_by_name(\"img_z:0\")\n",
    "\n",
    "\n",
    "feature_loss = sess.graph.get_tensor_by_name(\"feature_loss:0\")\n",
    "D_real_loss = sess.graph.get_tensor_by_name('D_real_loss:0')\n",
    "D_fake_loss = sess.graph.get_tensor_by_name('D_fake_loss:0')\n",
    "\n",
    "D_loss = sess.graph.get_tensor_by_name(\"D_loss:0\")\n",
    "G_loss = sess.graph.get_tensor_by_name(\"G_loss:0\")\n",
    "residual_loss = sess.graph.get_tensor_by_name(\"residual_loss:0\")\n",
    "mapping_loss = sess.graph.get_tensor_by_name(\"mapping_loss:0\")\n",
    "\n",
    "D_optim = sess.graph.get_operation_by_name(\"D_optim\")\n",
    "G_optim = sess.graph.get_operation_by_name(\"G_optim\")\n",
    "\n",
    "mapping_optim = sess.graph.get_operation_by_name(\"mapping_optim\")\n",
    "\n",
    "\n",
    "\n"
   ]
  },
  {
   "cell_type": "code",
   "execution_count": 7,
   "metadata": {},
   "outputs": [
    {
     "data": {
      "image/png": "[encoded data removed]",
      "text/plain": [
       "<matplotlib.figure.Figure at 0x7f96743f39b0>"
      ]
     },
     "metadata": {},
     "output_type": "display_data"
    },
    {
     "data": {
      "image/png": "[encoded data removed]",
      "text/plain": [
       "<matplotlib.figure.Figure at 0x7f94a062ff28>"
      ]
     },
     "metadata": {},
     "output_type": "display_data"
    },
    {
     "data": {
      "image/png": "[encoded data removed]",
      "text/plain": [
       "<matplotlib.figure.Figure at 0x7f96633c4d68>"
      ]
     },
     "metadata": {},
     "output_type": "display_data"
    },
    {
     "name": "stdout",
     "output_type": "stream",
     "text": [
      "11.1125 0.21388\n",
      "0.21388 3.2229\n",
      "0.0845401 0.27183\n",
      "0.0409172 0.136939\n",
      "0.0327801 0.128986\n",
      "0.0293575 0.124109\n",
      "0.0272375 0.120467\n",
      "0.0260102 0.126561\n",
      "0.0250867 0.129862\n",
      "0.0245464 0.131297\n",
      "0.0239371 0.130943\n"
     ]
    },
    {
     "data": {
      "image/png": "[encoded data removed]",
      "text/plain": [
       "<matplotlib.figure.Figure at 0x7f94a061f278>"
      ]
     },
     "metadata": {},
     "output_type": "display_data"
    },
    {
     "data": {
      "image/png": "[encoded data removed]",
      "text/plain": [
       "<matplotlib.figure.Figure at 0x7f94a0dd7780>"
      ]
     },
     "metadata": {},
     "output_type": "display_data"
    },
    {
     "data": {
      "image/png": "[encoded data removed]",
      "text/plain": [
       "<matplotlib.figure.Figure at 0x7f9663e84ba8>"
      ]
     },
     "metadata": {},
     "output_type": "display_data"
    },
    {
     "name": "stdout",
     "output_type": "stream",
     "text": [
      "2.59335 0.0234797\n"
     ]
    }
   ],
   "source": [
    "im = my_mnist_test_batch(1, number = 0) \n",
    "plt.imshow(np.reshape(im,(28, 28)), cmap='Greys_r')\n",
    "plt.show()\n",
    "    \n",
    "\n",
    "im_fake = sess.run([img_z]) \n",
    "plt.imshow(np.reshape(im_fake,(28, 28)), cmap='Greys_r')\n",
    "plt.show()\n",
    "\n",
    "ano_gap  = np.abs(np.reshape(im_fake,(28, 28)) - np.reshape(im,(28, 28)))\n",
    "plt.imshow(ano_gap, cmap='Greys_r')\n",
    "plt.show()  \n",
    "\n",
    "fea_loss, res_loss = sess.run([feature_loss,residual_loss], {ano_y : np.reshape(im,(1,28, 28,1))})\n",
    "\n",
    "print(fea_loss, res_loss)\n",
    "\n",
    "\n",
    "for i in range(1000) :\n",
    "    _ , loss1, loss2 = sess.run([mapping_optim,residual_loss,feature_loss], {ano_y : np.reshape(im,(1,28, 28,1))})\n",
    "    if  i % 100 == 0 : \n",
    "        print(loss1,loss2)\n",
    "        \n",
    "        \n",
    "plt.imshow(np.reshape(im,(28, 28)), cmap='Greys_r')\n",
    "plt.show()\n",
    "    \n",
    "\n",
    "im_fake = sess.run([img_z]) \n",
    "plt.imshow(np.reshape(im_fake,(28, 28)), cmap='Greys_r')\n",
    "plt.show()\n",
    "\n",
    "ano_gap  = np.abs(np.reshape(im_fake,(28, 28)) - np.reshape(im,(28, 28)))\n",
    "plt.imshow(ano_gap, cmap='Greys_r')\n",
    "plt.show()  \n",
    "\n",
    "fea_loss, res_loss = sess.run([feature_loss,residual_loss], {ano_y : np.reshape(im,(1,28, 28,1))})\n",
    "\n",
    "print(fea_loss, res_loss)"
   ]
  },
  {
   "cell_type": "code",
   "execution_count": 8,
   "metadata": {},
   "outputs": [
    {
     "name": "stdout",
     "output_type": "stream",
     "text": [
      "INFO:tensorflow:Restoring parameters from ex_anoGANs_3/para.cktp\n"
     ]
    }
   ],
   "source": [
    "\n",
    "\n",
    "if not os.path.isdir(file_name) :\n",
    "    os.mkdir(file_name)\n",
    "\n",
    "    \n",
    "sess = tf.InteractiveSession()\n",
    "    \n",
    "new_saver = tf.train.import_meta_graph(file_name + '/para.cktp.meta')\n",
    "new_saver.restore(sess, tf.train.latest_checkpoint(file_name + '/'))\n",
    "\n",
    "\n",
    "z = sess.graph.get_tensor_by_name(\"z:0\")\n",
    "u = sess.graph.get_tensor_by_name(\"u:0\")\n",
    "\n",
    "ano_y = sess.graph.get_tensor_by_name(\"ano_y:0\")\n",
    "ano_z = sess.graph.get_tensor_by_name(\"ano_z:0\")\n",
    "\n",
    "isTrain = sess.graph.get_tensor_by_name(\"isTrain:0\")\n",
    "\n",
    "    \n",
    "G_z = sess.graph.get_tensor_by_name(\"G_z:0\")\n",
    "img_z = sess.graph.get_tensor_by_name(\"img_z:0\")\n",
    "\n",
    "\n",
    "feature_loss = sess.graph.get_tensor_by_name(\"feature_loss:0\")\n",
    "D_real_loss = sess.graph.get_tensor_by_name('D_real_loss:0')\n",
    "D_fake_loss = sess.graph.get_tensor_by_name('D_fake_loss:0')\n",
    "\n",
    "D_loss = sess.graph.get_tensor_by_name(\"D_loss:0\")\n",
    "G_loss = sess.graph.get_tensor_by_name(\"G_loss:0\")\n",
    "residual_loss = sess.graph.get_tensor_by_name(\"residual_loss:0\")\n",
    "mapping_loss = sess.graph.get_tensor_by_name(\"mapping_loss:0\")\n",
    "\n",
    "D_optim = sess.graph.get_operation_by_name(\"D_optim\")\n",
    "G_optim = sess.graph.get_operation_by_name(\"G_optim\")\n",
    "\n",
    "mapping_optim = sess.graph.get_operation_by_name(\"mapping_optim\")\n",
    "\n",
    "\n",
    "\n",
    "\n"
   ]
  },
  {
   "cell_type": "code",
   "execution_count": 9,
   "metadata": {},
   "outputs": [
    {
     "data": {
      "image/png": "[encoded data removed]",
      "text/plain": [
       "<matplotlib.figure.Figure at 0x7f949d8bf6d8>"
      ]
     },
     "metadata": {},
     "output_type": "display_data"
    },
    {
     "data": {
      "image/png": "[encoded data removed]",
      "text/plain": [
       "<matplotlib.figure.Figure at 0x7f94767fb2e8>"
      ]
     },
     "metadata": {},
     "output_type": "display_data"
    },
    {
     "data": {
      "image/png": "[encoded data removed]",
      "text/plain": [
       "<matplotlib.figure.Figure at 0x7f94764ed3c8>"
      ]
     },
     "metadata": {},
     "output_type": "display_data"
    },
    {
     "name": "stdout",
     "output_type": "stream",
     "text": [
      "13.866 0.331206\n",
      "0.331206 3.22289\n",
      "0.194047 1.53578\n",
      "0.131273 1.57424\n",
      "0.105318 1.10696\n",
      "0.0294231 0.65601\n",
      "0.0207044 0.647637\n",
      "0.015444 0.658972\n",
      "0.0136809 0.678367\n",
      "0.0127842 0.680889\n",
      "0.0117429 0.661922\n"
     ]
    },
    {
     "data": {
      "image/png": "[encoded data removed]",
      "text/plain": [
       "<matplotlib.figure.Figure at 0x7f94916c6048>"
      ]
     },
     "metadata": {},
     "output_type": "display_data"
    },
    {
     "data": {
      "image/png": "[encoded data removed]",
      "text/plain": [
       "<matplotlib.figure.Figure at 0x7f9475e06f60>"
      ]
     },
     "metadata": {},
     "output_type": "display_data"
    },
    {
     "data": {
      "image/png": "[encoded data removed]",
      "text/plain": [
       "<matplotlib.figure.Figure at 0x7f949dc91ef0>"
      ]
     },
     "metadata": {},
     "output_type": "display_data"
    },
    {
     "name": "stdout",
     "output_type": "stream",
     "text": [
      "1.3595 0.0109701\n"
     ]
    }
   ],
   "source": [
    "im = my_mnist_test_batch(1, number = 1) \n",
    "plt.imshow(np.reshape(im,(28, 28)), cmap='Greys_r')\n",
    "plt.show()\n",
    "    \n",
    "\n",
    "im_fake = sess.run([img_z]) \n",
    "plt.imshow(np.reshape(im_fake,(28, 28)), cmap='Greys_r')\n",
    "plt.show()\n",
    "\n",
    "ano_gap  = np.abs(np.reshape(im_fake,(28, 28)) - np.reshape(im,(28, 28)))\n",
    "plt.imshow(ano_gap, cmap='Greys_r')\n",
    "plt.show()  \n",
    "\n",
    "fea_loss, res_loss = sess.run([feature_loss,residual_loss], {ano_y : np.reshape(im,(1,28, 28,1))})\n",
    "\n",
    "print(fea_loss, res_loss)\n",
    "\n",
    "\n",
    "for i in range(1000) :\n",
    "    _ , loss1, loss2 = sess.run([mapping_optim,residual_loss,feature_loss], {ano_y : np.reshape(im,(1,28, 28,1))})\n",
    "    if  i % 100 == 0 : \n",
    "        print(loss1,loss2)\n",
    "        \n",
    "        \n",
    "plt.imshow(np.reshape(im,(28, 28)), cmap='Greys_r')\n",
    "plt.show()\n",
    "    \n",
    "\n",
    "im_fake = sess.run([img_z]) \n",
    "plt.imshow(np.reshape(im_fake,(28, 28)), cmap='Greys_r')\n",
    "plt.show()\n",
    "\n",
    "ano_gap  = np.abs(np.reshape(im_fake,(28, 28)) - np.reshape(im,(28, 28)))\n",
    "plt.imshow(ano_gap, cmap='Greys_r')\n",
    "plt.show()  \n",
    "\n",
    "fea_loss, res_loss = sess.run([feature_loss,residual_loss], {ano_y : np.reshape(im,(1,28, 28,1))})\n",
    "\n",
    "print(fea_loss, res_loss)"
   ]
  },
  {
   "cell_type": "code",
   "execution_count": 10,
   "metadata": {},
   "outputs": [
    {
     "name": "stdout",
     "output_type": "stream",
     "text": [
      "INFO:tensorflow:Restoring parameters from ex_anoGANs_3/para.cktp\n"
     ]
    }
   ],
   "source": [
    "\n",
    "\n",
    "if not os.path.isdir(file_name) :\n",
    "    os.mkdir(file_name)\n",
    "\n",
    "    \n",
    "sess = tf.InteractiveSession()\n",
    "    \n",
    "new_saver = tf.train.import_meta_graph(file_name + '/para.cktp.meta')\n",
    "new_saver.restore(sess, tf.train.latest_checkpoint(file_name + '/'))\n",
    "\n",
    "\n",
    "z = sess.graph.get_tensor_by_name(\"z:0\")\n",
    "u = sess.graph.get_tensor_by_name(\"u:0\")\n",
    "\n",
    "ano_y = sess.graph.get_tensor_by_name(\"ano_y:0\")\n",
    "ano_z = sess.graph.get_tensor_by_name(\"ano_z:0\")\n",
    "\n",
    "isTrain = sess.graph.get_tensor_by_name(\"isTrain:0\")\n",
    "\n",
    "    \n",
    "G_z = sess.graph.get_tensor_by_name(\"G_z:0\")\n",
    "img_z = sess.graph.get_tensor_by_name(\"img_z:0\")\n",
    "\n",
    "\n",
    "feature_loss = sess.graph.get_tensor_by_name(\"feature_loss:0\")\n",
    "D_real_loss = sess.graph.get_tensor_by_name('D_real_loss:0')\n",
    "D_fake_loss = sess.graph.get_tensor_by_name('D_fake_loss:0')\n",
    "\n",
    "D_loss = sess.graph.get_tensor_by_name(\"D_loss:0\")\n",
    "G_loss = sess.graph.get_tensor_by_name(\"G_loss:0\")\n",
    "residual_loss = sess.graph.get_tensor_by_name(\"residual_loss:0\")\n",
    "mapping_loss = sess.graph.get_tensor_by_name(\"mapping_loss:0\")\n",
    "\n",
    "D_optim = sess.graph.get_operation_by_name(\"D_optim\")\n",
    "G_optim = sess.graph.get_operation_by_name(\"G_optim\")\n",
    "\n",
    "mapping_optim = sess.graph.get_operation_by_name(\"mapping_optim\")\n",
    "\n",
    "\n",
    "\n",
    "\n"
   ]
  },
  {
   "cell_type": "code",
   "execution_count": 11,
   "metadata": {},
   "outputs": [
    {
     "data": {
      "image/png": "[encoded data removed]",
      "text/plain": [
       "<matplotlib.figure.Figure at 0x7f94a091a278>"
      ]
     },
     "metadata": {},
     "output_type": "display_data"
    },
    {
     "data": {
      "image/png": "[encoded data removed]",
      "text/plain": [
       "<matplotlib.figure.Figure at 0x7f94664ece80>"
      ]
     },
     "metadata": {},
     "output_type": "display_data"
    },
    {
     "data": {
      "image/png": "[encoded data removed]",
      "text/plain": [
       "<matplotlib.figure.Figure at 0x7f9466f6eac8>"
      ]
     },
     "metadata": {},
     "output_type": "display_data"
    },
    {
     "name": "stdout",
     "output_type": "stream",
     "text": [
      "14.7627 0.299692\n",
      "0.299692 3.2229\n",
      "0.265581 1.66056\n",
      "0.190488 0.967523\n",
      "0.155582 2.16256\n",
      "0.144133 2.50608\n",
      "0.12955 2.25253\n",
      "0.0669253 2.6654\n",
      "0.0565292 2.50882\n",
      "0.0530432 2.32082\n",
      "0.0515689 2.2464\n"
     ]
    },
    {
     "data": {
      "image/png": "[encoded data removed]",
      "text/plain": [
       "<matplotlib.figure.Figure at 0x7f9466c91860>"
      ]
     },
     "metadata": {},
     "output_type": "display_data"
    },
    {
     "data": {
      "image/png": "[encoded data removed]",
      "text/plain": [
       "<matplotlib.figure.Figure at 0x7f94640ed438>"
      ]
     },
     "metadata": {},
     "output_type": "display_data"
    },
    {
     "data": {
      "image/png": "[encoded data removed]",
      "text/plain": [
       "<matplotlib.figure.Figure at 0x7f94661752e8>"
      ]
     },
     "metadata": {},
     "output_type": "display_data"
    },
    {
     "name": "stdout",
     "output_type": "stream",
     "text": [
      "5.70579 0.0504724\n"
     ]
    }
   ],
   "source": [
    "im = my_mnist_test_batch(1, number = 2) \n",
    "plt.imshow(np.reshape(im,(28, 28)), cmap='Greys_r')\n",
    "plt.show()\n",
    "    \n",
    "\n",
    "im_fake = sess.run([img_z]) \n",
    "plt.imshow(np.reshape(im_fake,(28, 28)), cmap='Greys_r')\n",
    "plt.show()\n",
    "\n",
    "ano_gap  = np.abs(np.reshape(im_fake,(28, 28)) - np.reshape(im,(28, 28)))\n",
    "plt.imshow(ano_gap, cmap='Greys_r')\n",
    "plt.show()  \n",
    "\n",
    "fea_loss, res_loss = sess.run([feature_loss,residual_loss], {ano_y : np.reshape(im,(1,28, 28,1))})\n",
    "\n",
    "print(fea_loss, res_loss)\n",
    "\n",
    "\n",
    "for i in range(1000) :\n",
    "    _ , loss1, loss2 = sess.run([mapping_optim,residual_loss,feature_loss], {ano_y : np.reshape(im,(1,28, 28,1))})\n",
    "    if  i % 100 == 0 : \n",
    "        print(loss1,loss2)\n",
    "        \n",
    "        \n",
    "plt.imshow(np.reshape(im,(28, 28)), cmap='Greys_r')\n",
    "plt.show()\n",
    "    \n",
    "\n",
    "im_fake = sess.run([img_z]) \n",
    "plt.imshow(np.reshape(im_fake,(28, 28)), cmap='Greys_r')\n",
    "plt.show()\n",
    "\n",
    "ano_gap  = np.abs(np.reshape(im_fake,(28, 28)) - np.reshape(im,(28, 28)))\n",
    "plt.imshow(ano_gap, cmap='Greys_r')\n",
    "plt.show()  \n",
    "\n",
    "fea_loss, res_loss = sess.run([feature_loss,residual_loss], {ano_y : np.reshape(im,(1,28, 28,1))})\n",
    "\n",
    "print(fea_loss, res_loss)"
   ]
  },
  {
   "cell_type": "code",
   "execution_count": 12,
   "metadata": {},
   "outputs": [
    {
     "name": "stdout",
     "output_type": "stream",
     "text": [
      "INFO:tensorflow:Restoring parameters from ex_anoGANs_3/para.cktp\n"
     ]
    }
   ],
   "source": [
    "\n",
    "\n",
    "if not os.path.isdir(file_name) :\n",
    "    os.mkdir(file_name)\n",
    "\n",
    "    \n",
    "sess = tf.InteractiveSession()\n",
    "    \n",
    "new_saver = tf.train.import_meta_graph(file_name + '/para.cktp.meta')\n",
    "new_saver.restore(sess, tf.train.latest_checkpoint(file_name + '/'))\n",
    "\n",
    "\n",
    "z = sess.graph.get_tensor_by_name(\"z:0\")\n",
    "u = sess.graph.get_tensor_by_name(\"u:0\")\n",
    "\n",
    "ano_y = sess.graph.get_tensor_by_name(\"ano_y:0\")\n",
    "ano_z = sess.graph.get_tensor_by_name(\"ano_z:0\")\n",
    "\n",
    "isTrain = sess.graph.get_tensor_by_name(\"isTrain:0\")\n",
    "\n",
    "    \n",
    "G_z = sess.graph.get_tensor_by_name(\"G_z:0\")\n",
    "img_z = sess.graph.get_tensor_by_name(\"img_z:0\")\n",
    "\n",
    "\n",
    "feature_loss = sess.graph.get_tensor_by_name(\"feature_loss:0\")\n",
    "D_real_loss = sess.graph.get_tensor_by_name('D_real_loss:0')\n",
    "D_fake_loss = sess.graph.get_tensor_by_name('D_fake_loss:0')\n",
    "\n",
    "D_loss = sess.graph.get_tensor_by_name(\"D_loss:0\")\n",
    "G_loss = sess.graph.get_tensor_by_name(\"G_loss:0\")\n",
    "residual_loss = sess.graph.get_tensor_by_name(\"residual_loss:0\")\n",
    "mapping_loss = sess.graph.get_tensor_by_name(\"mapping_loss:0\")\n",
    "\n",
    "D_optim = sess.graph.get_operation_by_name(\"D_optim\")\n",
    "G_optim = sess.graph.get_operation_by_name(\"G_optim\")\n",
    "\n",
    "mapping_optim = sess.graph.get_operation_by_name(\"mapping_optim\")\n",
    "\n",
    "\n",
    "\n",
    "\n"
   ]
  },
  {
   "cell_type": "code",
   "execution_count": 13,
   "metadata": {},
   "outputs": [
    {
     "data": {
      "image/png": "[encoded data removed]",
      "text/plain": [
       "<matplotlib.figure.Figure at 0x7f94564bd3c8>"
      ]
     },
     "metadata": {},
     "output_type": "display_data"
    },
    {
     "data": {
      "image/png": "[encoded data removed]",
      "text/plain": [
       "<matplotlib.figure.Figure at 0x7f9454d11128>"
      ]
     },
     "metadata": {},
     "output_type": "display_data"
    },
    {
     "data": {
      "image/png": "[encoded data removed]",
      "text/plain": [
       "<matplotlib.figure.Figure at 0x7f945595d710>"
      ]
     },
     "metadata": {},
     "output_type": "display_data"
    },
    {
     "name": "stdout",
     "output_type": "stream",
     "text": [
      "13.6655 0.253291\n",
      "0.253291 3.2229\n",
      "0.0879922 0.752738\n",
      "0.0462649 1.31843\n",
      "0.0325833 1.53575\n",
      "0.0258382 1.64081\n",
      "0.0248479 1.66647\n",
      "0.0244126 1.72433\n",
      "0.0239712 1.79468\n",
      "0.0236526 1.86788\n",
      "0.0238106 1.938\n"
     ]
    },
    {
     "data": {
      "image/png": "[encoded data removed]",
      "text/plain": [
       "<matplotlib.figure.Figure at 0x7f9455574d68>"
      ]
     },
     "metadata": {},
     "output_type": "display_data"
    },
    {
     "data": {
      "image/png": "[encoded data removed]",
      "text/plain": [
       "<matplotlib.figure.Figure at 0x7f9454ada278>"
      ]
     },
     "metadata": {},
     "output_type": "display_data"
    },
    {
     "data": {
      "image/png": "[encoded data removed]",
      "text/plain": [
       "<matplotlib.figure.Figure at 0x7f9464acfbe0>"
      ]
     },
     "metadata": {},
     "output_type": "display_data"
    },
    {
     "name": "stdout",
     "output_type": "stream",
     "text": [
      "2.56593 0.0236183\n"
     ]
    }
   ],
   "source": [
    "im = my_mnist_test_batch(1, number = 3) \n",
    "plt.imshow(np.reshape(im,(28, 28)), cmap='Greys_r')\n",
    "plt.show()\n",
    "    \n",
    "\n",
    "im_fake = sess.run([img_z]) \n",
    "plt.imshow(np.reshape(im_fake,(28, 28)), cmap='Greys_r')\n",
    "plt.show()\n",
    "\n",
    "ano_gap  = np.abs(np.reshape(im_fake,(28, 28)) - np.reshape(im,(28, 28)))\n",
    "plt.imshow(ano_gap, cmap='Greys_r')\n",
    "plt.show()  \n",
    "\n",
    "fea_loss, res_loss = sess.run([feature_loss,residual_loss], {ano_y : np.reshape(im,(1,28, 28,1))})\n",
    "\n",
    "print(fea_loss, res_loss)\n",
    "\n",
    "\n",
    "for i in range(1000) :\n",
    "    _ , loss1, loss2 = sess.run([mapping_optim,residual_loss,feature_loss], {ano_y : np.reshape(im,(1,28, 28,1))})\n",
    "    if  i % 100 == 0 : \n",
    "        print(loss1,loss2)\n",
    "        \n",
    "        \n",
    "plt.imshow(np.reshape(im,(28, 28)), cmap='Greys_r')\n",
    "plt.show()\n",
    "    \n",
    "\n",
    "im_fake = sess.run([img_z]) \n",
    "plt.imshow(np.reshape(im_fake,(28, 28)), cmap='Greys_r')\n",
    "plt.show()\n",
    "\n",
    "ano_gap  = np.abs(np.reshape(im_fake,(28, 28)) - np.reshape(im,(28, 28)))\n",
    "plt.imshow(ano_gap, cmap='Greys_r')\n",
    "plt.show()  \n",
    "\n",
    "fea_loss, res_loss = sess.run([feature_loss,residual_loss], {ano_y : np.reshape(im,(1,28, 28,1))})\n",
    "\n",
    "print(fea_loss, res_loss)"
   ]
  },
  {
   "cell_type": "code",
   "execution_count": 14,
   "metadata": {},
   "outputs": [
    {
     "name": "stdout",
     "output_type": "stream",
     "text": [
      "INFO:tensorflow:Restoring parameters from ex_anoGANs_3/para.cktp\n"
     ]
    }
   ],
   "source": [
    "\n",
    "\n",
    "if not os.path.isdir(file_name) :\n",
    "    os.mkdir(file_name)\n",
    "\n",
    "    \n",
    "sess = tf.InteractiveSession()\n",
    "    \n",
    "new_saver = tf.train.import_meta_graph(file_name + '/para.cktp.meta')\n",
    "new_saver.restore(sess, tf.train.latest_checkpoint(file_name + '/'))\n",
    "\n",
    "\n",
    "z = sess.graph.get_tensor_by_name(\"z:0\")\n",
    "u = sess.graph.get_tensor_by_name(\"u:0\")\n",
    "\n",
    "ano_y = sess.graph.get_tensor_by_name(\"ano_y:0\")\n",
    "ano_z = sess.graph.get_tensor_by_name(\"ano_z:0\")\n",
    "\n",
    "isTrain = sess.graph.get_tensor_by_name(\"isTrain:0\")\n",
    "\n",
    "    \n",
    "G_z = sess.graph.get_tensor_by_name(\"G_z:0\")\n",
    "img_z = sess.graph.get_tensor_by_name(\"img_z:0\")\n",
    "\n",
    "\n",
    "feature_loss = sess.graph.get_tensor_by_name(\"feature_loss:0\")\n",
    "D_real_loss = sess.graph.get_tensor_by_name('D_real_loss:0')\n",
    "D_fake_loss = sess.graph.get_tensor_by_name('D_fake_loss:0')\n",
    "\n",
    "D_loss = sess.graph.get_tensor_by_name(\"D_loss:0\")\n",
    "G_loss = sess.graph.get_tensor_by_name(\"G_loss:0\")\n",
    "residual_loss = sess.graph.get_tensor_by_name(\"residual_loss:0\")\n",
    "mapping_loss = sess.graph.get_tensor_by_name(\"mapping_loss:0\")\n",
    "\n",
    "D_optim = sess.graph.get_operation_by_name(\"D_optim\")\n",
    "G_optim = sess.graph.get_operation_by_name(\"G_optim\")\n",
    "\n",
    "mapping_optim = sess.graph.get_operation_by_name(\"mapping_optim\")\n",
    "\n",
    "\n",
    "\n",
    "\n"
   ]
  },
  {
   "cell_type": "code",
   "execution_count": 15,
   "metadata": {},
   "outputs": [
    {
     "data": {
      "image/png": "[encoded data removed]",
      "text/plain": [
       "<matplotlib.figure.Figure at 0x7f94440d34e0>"
      ]
     },
     "metadata": {},
     "output_type": "display_data"
    },
    {
     "data": {
      "image/png": "[encoded data removed]",
      "text/plain": [
       "<matplotlib.figure.Figure at 0x7f94553e4d68>"
      ]
     },
     "metadata": {},
     "output_type": "display_data"
    },
    {
     "data": {
      "image/png": "[encoded data removed]",
      "text/plain": [
       "<matplotlib.figure.Figure at 0x7f9466c56fd0>"
      ]
     },
     "metadata": {},
     "output_type": "display_data"
    },
    {
     "name": "stdout",
     "output_type": "stream",
     "text": [
      "12.427 0.233793\n",
      "0.233793 3.22289\n",
      "0.141684 1.32407\n",
      "0.0892379 0.494527\n",
      "0.0646173 0.412037\n",
      "0.0560612 0.334581\n",
      "0.0532258 0.328263\n",
      "0.0488119 0.258166\n",
      "0.0402296 0.222833\n",
      "0.0365211 0.263084\n",
      "0.0336248 0.283915\n"
     ]
    },
    {
     "data": {
      "image/png": "[encoded data removed]",
      "text/plain": [
       "<matplotlib.figure.Figure at 0x7f9491f25160>"
      ]
     },
     "metadata": {},
     "output_type": "display_data"
    },
    {
     "data": {
      "image/png": "[encoded data removed]",
      "text/plain": [
       "<matplotlib.figure.Figure at 0x7f9491d0da90>"
      ]
     },
     "metadata": {},
     "output_type": "display_data"
    },
    {
     "data": {
      "image/png": "[encoded data removed]",
      "text/plain": [
       "<matplotlib.figure.Figure at 0x7f945451dd68>"
      ]
     },
     "metadata": {},
     "output_type": "display_data"
    },
    {
     "name": "stdout",
     "output_type": "stream",
     "text": [
      "3.48301 0.0299288\n"
     ]
    }
   ],
   "source": [
    "im = my_mnist_test_batch(1, number = 4) \n",
    "plt.imshow(np.reshape(im,(28, 28)), cmap='Greys_r')\n",
    "plt.show()\n",
    "    \n",
    "\n",
    "im_fake = sess.run([img_z]) \n",
    "plt.imshow(np.reshape(im_fake,(28, 28)), cmap='Greys_r')\n",
    "plt.show()\n",
    "\n",
    "ano_gap  = np.abs(np.reshape(im_fake,(28, 28)) - np.reshape(im,(28, 28)))\n",
    "plt.imshow(ano_gap, cmap='Greys_r')\n",
    "plt.show()  \n",
    "\n",
    "fea_loss, res_loss = sess.run([feature_loss,residual_loss], {ano_y : np.reshape(im,(1,28, 28,1))})\n",
    "\n",
    "print(fea_loss, res_loss)\n",
    "\n",
    "\n",
    "for i in range(1000) :\n",
    "    _ , loss1, loss2 = sess.run([mapping_optim,residual_loss,feature_loss], {ano_y : np.reshape(im,(1,28, 28,1))})\n",
    "    if  i % 100 == 0 : \n",
    "        print(loss1,loss2)\n",
    "        \n",
    "        \n",
    "plt.imshow(np.reshape(im,(28, 28)), cmap='Greys_r')\n",
    "plt.show()\n",
    "    \n",
    "\n",
    "im_fake = sess.run([img_z]) \n",
    "plt.imshow(np.reshape(im_fake,(28, 28)), cmap='Greys_r')\n",
    "plt.show()\n",
    "\n",
    "ano_gap  = np.abs(np.reshape(im_fake,(28, 28)) - np.reshape(im,(28, 28)))\n",
    "plt.imshow(ano_gap, cmap='Greys_r')\n",
    "plt.show()  \n",
    "\n",
    "fea_loss, res_loss = sess.run([feature_loss,residual_loss], {ano_y : np.reshape(im,(1,28, 28,1))})\n",
    "\n",
    "print(fea_loss, res_loss)"
   ]
  },
  {
   "cell_type": "code",
   "execution_count": 16,
   "metadata": {},
   "outputs": [
    {
     "name": "stdout",
     "output_type": "stream",
     "text": [
      "INFO:tensorflow:Restoring parameters from ex_anoGANs_3/para.cktp\n"
     ]
    }
   ],
   "source": [
    "\n",
    "\n",
    "if not os.path.isdir(file_name) :\n",
    "    os.mkdir(file_name)\n",
    "\n",
    "    \n",
    "sess = tf.InteractiveSession()\n",
    "    \n",
    "new_saver = tf.train.import_meta_graph(file_name + '/para.cktp.meta')\n",
    "new_saver.restore(sess, tf.train.latest_checkpoint(file_name + '/'))\n",
    "\n",
    "\n",
    "z = sess.graph.get_tensor_by_name(\"z:0\")\n",
    "u = sess.graph.get_tensor_by_name(\"u:0\")\n",
    "\n",
    "ano_y = sess.graph.get_tensor_by_name(\"ano_y:0\")\n",
    "ano_z = sess.graph.get_tensor_by_name(\"ano_z:0\")\n",
    "\n",
    "isTrain = sess.graph.get_tensor_by_name(\"isTrain:0\")\n",
    "\n",
    "    \n",
    "G_z = sess.graph.get_tensor_by_name(\"G_z:0\")\n",
    "img_z = sess.graph.get_tensor_by_name(\"img_z:0\")\n",
    "\n",
    "\n",
    "feature_loss = sess.graph.get_tensor_by_name(\"feature_loss:0\")\n",
    "D_real_loss = sess.graph.get_tensor_by_name('D_real_loss:0')\n",
    "D_fake_loss = sess.graph.get_tensor_by_name('D_fake_loss:0')\n",
    "\n",
    "D_loss = sess.graph.get_tensor_by_name(\"D_loss:0\")\n",
    "G_loss = sess.graph.get_tensor_by_name(\"G_loss:0\")\n",
    "residual_loss = sess.graph.get_tensor_by_name(\"residual_loss:0\")\n",
    "mapping_loss = sess.graph.get_tensor_by_name(\"mapping_loss:0\")\n",
    "\n",
    "D_optim = sess.graph.get_operation_by_name(\"D_optim\")\n",
    "G_optim = sess.graph.get_operation_by_name(\"G_optim\")\n",
    "\n",
    "mapping_optim = sess.graph.get_operation_by_name(\"mapping_optim\")\n",
    "\n",
    "\n",
    "\n",
    "\n"
   ]
  },
  {
   "cell_type": "code",
   "execution_count": 17,
   "metadata": {},
   "outputs": [
    {
     "data": {
      "image/png": "[encoded data removed]",
      "text/plain": [
       "<matplotlib.figure.Figure at 0x7f94c43e5b00>"
      ]
     },
     "metadata": {},
     "output_type": "display_data"
    },
    {
     "data": {
      "image/png": "[encoded data removed]",
      "text/plain": [
       "<matplotlib.figure.Figure at 0x7f9654ad0710>"
      ]
     },
     "metadata": {},
     "output_type": "display_data"
    },
    {
     "data": {
      "image/png": "[encoded data removed]",
      "text/plain": [
       "<matplotlib.figure.Figure at 0x7f94f51ef828>"
      ]
     },
     "metadata": {},
     "output_type": "display_data"
    },
    {
     "name": "stdout",
     "output_type": "stream",
     "text": [
      "16.5616 0.325844\n",
      "0.325844 3.22289\n",
      "0.214509 3.14809\n",
      "0.149571 1.48623\n",
      "0.126468 0.580448\n",
      "0.122294 0.473686\n",
      "0.119363 0.225241\n",
      "0.116897 0.229012\n",
      "0.115748 0.299882\n",
      "0.115912 0.404212\n",
      "0.115881 0.536636\n"
     ]
    },
    {
     "data": {
      "image/png": "[encoded data removed]",
      "text/plain": [
       "<matplotlib.figure.Figure at 0x7f9663e24668>"
      ]
     },
     "metadata": {},
     "output_type": "display_data"
    },
    {
     "data": {
      "image/png": "[encoded data removed]",
      "text/plain": [
       "<matplotlib.figure.Figure at 0x7f94555d18d0>"
      ]
     },
     "metadata": {},
     "output_type": "display_data"
    },
    {
     "data": {
      "image/png": "[encoded data removed]",
      "text/plain": [
       "<matplotlib.figure.Figure at 0x7f94c6da9a58>"
      ]
     },
     "metadata": {},
     "output_type": "display_data"
    },
    {
     "name": "stdout",
     "output_type": "stream",
     "text": [
      "8.85788 0.113871\n"
     ]
    }
   ],
   "source": [
    "im = my_mnist_test_batch(1, number = 5) \n",
    "plt.imshow(np.reshape(im,(28, 28)), cmap='Greys_r')\n",
    "plt.show()\n",
    "    \n",
    "\n",
    "im_fake = sess.run([img_z]) \n",
    "plt.imshow(np.reshape(im_fake,(28, 28)), cmap='Greys_r')\n",
    "plt.show()\n",
    "\n",
    "ano_gap  = np.abs(np.reshape(im_fake,(28, 28)) - np.reshape(im,(28, 28)))\n",
    "plt.imshow(ano_gap, cmap='Greys_r')\n",
    "plt.show()  \n",
    "\n",
    "fea_loss, res_loss = sess.run([feature_loss,residual_loss], {ano_y : np.reshape(im,(1,28, 28,1))})\n",
    "\n",
    "print(fea_loss, res_loss)\n",
    "\n",
    "\n",
    "for i in range(1000) :\n",
    "    _ , loss1, loss2 = sess.run([mapping_optim,residual_loss,feature_loss], {ano_y : np.reshape(im,(1,28, 28,1))})\n",
    "    if  i % 100 == 0 : \n",
    "        print(loss1,loss2)\n",
    "        \n",
    "        \n",
    "plt.imshow(np.reshape(im,(28, 28)), cmap='Greys_r')\n",
    "plt.show()\n",
    "    \n",
    "\n",
    "im_fake = sess.run([img_z]) \n",
    "plt.imshow(np.reshape(im_fake,(28, 28)), cmap='Greys_r')\n",
    "plt.show()\n",
    "\n",
    "ano_gap  = np.abs(np.reshape(im_fake,(28, 28)) - np.reshape(im,(28, 28)))\n",
    "plt.imshow(ano_gap, cmap='Greys_r')\n",
    "plt.show()  \n",
    "\n",
    "fea_loss, res_loss = sess.run([feature_loss,residual_loss], {ano_y : np.reshape(im,(1,28, 28,1))})\n",
    "\n",
    "print(fea_loss, res_loss)"
   ]
  },
  {
   "cell_type": "code",
   "execution_count": 18,
   "metadata": {},
   "outputs": [
    {
     "name": "stdout",
     "output_type": "stream",
     "text": [
      "INFO:tensorflow:Restoring parameters from ex_anoGANs_3/para.cktp\n"
     ]
    }
   ],
   "source": [
    "\n",
    "\n",
    "if not os.path.isdir(file_name) :\n",
    "    os.mkdir(file_name)\n",
    "\n",
    "    \n",
    "sess = tf.InteractiveSession()\n",
    "    \n",
    "new_saver = tf.train.import_meta_graph(file_name + '/para.cktp.meta')\n",
    "new_saver.restore(sess, tf.train.latest_checkpoint(file_name + '/'))\n",
    "\n",
    "\n",
    "z = sess.graph.get_tensor_by_name(\"z:0\")\n",
    "u = sess.graph.get_tensor_by_name(\"u:0\")\n",
    "\n",
    "ano_y = sess.graph.get_tensor_by_name(\"ano_y:0\")\n",
    "ano_z = sess.graph.get_tensor_by_name(\"ano_z:0\")\n",
    "\n",
    "isTrain = sess.graph.get_tensor_by_name(\"isTrain:0\")\n",
    "\n",
    "    \n",
    "G_z = sess.graph.get_tensor_by_name(\"G_z:0\")\n",
    "img_z = sess.graph.get_tensor_by_name(\"img_z:0\")\n",
    "\n",
    "\n",
    "feature_loss = sess.graph.get_tensor_by_name(\"feature_loss:0\")\n",
    "D_real_loss = sess.graph.get_tensor_by_name('D_real_loss:0')\n",
    "D_fake_loss = sess.graph.get_tensor_by_name('D_fake_loss:0')\n",
    "\n",
    "D_loss = sess.graph.get_tensor_by_name(\"D_loss:0\")\n",
    "G_loss = sess.graph.get_tensor_by_name(\"G_loss:0\")\n",
    "residual_loss = sess.graph.get_tensor_by_name(\"residual_loss:0\")\n",
    "mapping_loss = sess.graph.get_tensor_by_name(\"mapping_loss:0\")\n",
    "\n",
    "D_optim = sess.graph.get_operation_by_name(\"D_optim\")\n",
    "G_optim = sess.graph.get_operation_by_name(\"G_optim\")\n",
    "\n",
    "mapping_optim = sess.graph.get_operation_by_name(\"mapping_optim\")\n",
    "\n",
    "\n",
    "\n",
    "\n"
   ]
  },
  {
   "cell_type": "code",
   "execution_count": 19,
   "metadata": {},
   "outputs": [
    {
     "data": {
      "image/png": "[encoded data removed]",
      "text/plain": [
       "<matplotlib.figure.Figure at 0x7f94fa3e84e0>"
      ]
     },
     "metadata": {},
     "output_type": "display_data"
    },
    {
     "data": {
      "image/png": "[encoded data removed]",
      "text/plain": [
       "<matplotlib.figure.Figure at 0x7f94be5a4f98>"
      ]
     },
     "metadata": {},
     "output_type": "display_data"
    },
    {
     "data": {
      "image/png": "[encoded data removed]",
      "text/plain": [
       "<matplotlib.figure.Figure at 0x7f94f085ada0>"
      ]
     },
     "metadata": {},
     "output_type": "display_data"
    },
    {
     "name": "stdout",
     "output_type": "stream",
     "text": [
      "14.3832 0.260415\n",
      "0.260415 3.22289\n",
      "0.244467 2.38045\n",
      "0.218071 2.39958\n",
      "0.186449 2.10844\n",
      "0.133324 1.05949\n",
      "0.128285 0.794666\n",
      "0.12323 1.00769\n",
      "0.11891 1.07669\n",
      "0.104121 0.131409\n",
      "0.0904648 0.188638\n"
     ]
    },
    {
     "data": {
      "image/png": "[encoded data removed]",
      "text/plain": [
       "<matplotlib.figure.Figure at 0x7f94bb07ceb8>"
      ]
     },
     "metadata": {},
     "output_type": "display_data"
    },
    {
     "data": {
      "image/png": "[encoded data removed]",
      "text/plain": [
       "<matplotlib.figure.Figure at 0x7f94c1ee2eb8>"
      ]
     },
     "metadata": {},
     "output_type": "display_data"
    },
    {
     "data": {
      "image/png": "[encoded data removed]",
      "text/plain": [
       "<matplotlib.figure.Figure at 0x7f95300e6cf8>"
      ]
     },
     "metadata": {},
     "output_type": "display_data"
    },
    {
     "name": "stdout",
     "output_type": "stream",
     "text": [
      "5.97728 0.0793255\n"
     ]
    }
   ],
   "source": [
    "im = my_mnist_test_batch(1, number = 6) \n",
    "plt.imshow(np.reshape(im,(28, 28)), cmap='Greys_r')\n",
    "plt.show()\n",
    "    \n",
    "\n",
    "im_fake = sess.run([img_z]) \n",
    "plt.imshow(np.reshape(im_fake,(28, 28)), cmap='Greys_r')\n",
    "plt.show()\n",
    "\n",
    "ano_gap  = np.abs(np.reshape(im_fake,(28, 28)) - np.reshape(im,(28, 28)))\n",
    "plt.imshow(ano_gap, cmap='Greys_r')\n",
    "plt.show()  \n",
    "\n",
    "fea_loss, res_loss = sess.run([feature_loss,residual_loss], {ano_y : np.reshape(im,(1,28, 28,1))})\n",
    "\n",
    "print(fea_loss, res_loss)\n",
    "\n",
    "\n",
    "for i in range(1000) :\n",
    "    _ , loss1, loss2 = sess.run([mapping_optim,residual_loss,feature_loss], {ano_y : np.reshape(im,(1,28, 28,1))})\n",
    "    if  i % 100 == 0 : \n",
    "        print(loss1,loss2)\n",
    "        \n",
    "        \n",
    "plt.imshow(np.reshape(im,(28, 28)), cmap='Greys_r')\n",
    "plt.show()\n",
    "    \n",
    "\n",
    "im_fake = sess.run([img_z]) \n",
    "plt.imshow(np.reshape(im_fake,(28, 28)), cmap='Greys_r')\n",
    "plt.show()\n",
    "\n",
    "ano_gap  = np.abs(np.reshape(im_fake,(28, 28)) - np.reshape(im,(28, 28)))\n",
    "plt.imshow(ano_gap, cmap='Greys_r')\n",
    "plt.show()  \n",
    "\n",
    "fea_loss, res_loss = sess.run([feature_loss,residual_loss], {ano_y : np.reshape(im,(1,28, 28,1))})\n",
    "\n",
    "print(fea_loss, res_loss)"
   ]
  },
  {
   "cell_type": "code",
   "execution_count": 3,
   "metadata": {},
   "outputs": [
    {
     "name": "stdout",
     "output_type": "stream",
     "text": [
      "INFO:tensorflow:Restoring parameters from ex_anoGANs_3/para.cktp\n"
     ]
    }
   ],
   "source": [
    "\n",
    "\n",
    "if not os.path.isdir(file_name) :\n",
    "    os.mkdir(file_name)\n",
    "\n",
    "    \n",
    "sess = tf.InteractiveSession()\n",
    "    \n",
    "new_saver = tf.train.import_meta_graph(file_name + '/para.cktp.meta')\n",
    "new_saver.restore(sess, tf.train.latest_checkpoint(file_name + '/'))\n",
    "\n",
    "\n",
    "z = sess.graph.get_tensor_by_name(\"z:0\")\n",
    "u = sess.graph.get_tensor_by_name(\"u:0\")\n",
    "\n",
    "ano_y = sess.graph.get_tensor_by_name(\"ano_y:0\")\n",
    "ano_z = sess.graph.get_tensor_by_name(\"ano_z:0\")\n",
    "\n",
    "isTrain = sess.graph.get_tensor_by_name(\"isTrain:0\")\n",
    "\n",
    "    \n",
    "G_z = sess.graph.get_tensor_by_name(\"G_z:0\")\n",
    "img_z = sess.graph.get_tensor_by_name(\"img_z:0\")\n",
    "\n",
    "\n",
    "feature_loss = sess.graph.get_tensor_by_name(\"feature_loss:0\")\n",
    "D_real_loss = sess.graph.get_tensor_by_name('D_real_loss:0')\n",
    "D_fake_loss = sess.graph.get_tensor_by_name('D_fake_loss:0')\n",
    "\n",
    "D_loss = sess.graph.get_tensor_by_name(\"D_loss:0\")\n",
    "G_loss = sess.graph.get_tensor_by_name(\"G_loss:0\")\n",
    "residual_loss = sess.graph.get_tensor_by_name(\"residual_loss:0\")\n",
    "mapping_loss = sess.graph.get_tensor_by_name(\"mapping_loss:0\")\n",
    "\n",
    "D_optim = sess.graph.get_operation_by_name(\"D_optim\")\n",
    "G_optim = sess.graph.get_operation_by_name(\"G_optim\")\n",
    "\n",
    "mapping_optim = sess.graph.get_operation_by_name(\"mapping_optim\")\n",
    "\n",
    "\n",
    "\n",
    "\n"
   ]
  },
  {
   "cell_type": "code",
   "execution_count": 4,
   "metadata": {},
   "outputs": [
    {
     "data": {
      "image/png": "[encoded data removed]",
      "text/plain": [
       "<matplotlib.figure.Figure at 0x7f5c4623e208>"
      ]
     },
     "metadata": {},
     "output_type": "display_data"
    },
    {
     "data": {
      "image/png": "[encoded data removed]",
      "text/plain": [
       "<matplotlib.figure.Figure at 0x7f5b740bdf28>"
      ]
     },
     "metadata": {},
     "output_type": "display_data"
    },
    {
     "data": {
      "image/png": "[encoded data removed]",
      "text/plain": [
       "<matplotlib.figure.Figure at 0x7f5af21969b0>"
      ]
     },
     "metadata": {},
     "output_type": "display_data"
    },
    {
     "name": "stdout",
     "output_type": "stream",
     "text": [
      "13.8411 0.269186\n",
      "0.269186 13.8411\n",
      "0.181927 11.1016\n",
      "0.142437 10.1847\n",
      "0.127428 9.75436\n",
      "0.121677 9.35224\n",
      "0.118853 9.11685\n",
      "0.117178 8.94129\n",
      "0.116004 8.82388\n",
      "0.114295 8.73652\n",
      "0.110601 8.62955\n"
     ]
    },
    {
     "data": {
      "image/png": "[encoded data removed]",
      "text/plain": [
       "<matplotlib.figure.Figure at 0x7f5af2495f60>"
      ]
     },
     "metadata": {},
     "output_type": "display_data"
    },
    {
     "data": {
      "image/png": "[encoded data removed]",
      "text/plain": [
       "<matplotlib.figure.Figure at 0x7f5af2774d68>"
      ]
     },
     "metadata": {},
     "output_type": "display_data"
    },
    {
     "data": {
      "image/png": "[encoded data removed]",
      "text/plain": [
       "<matplotlib.figure.Figure at 0x7f5af1eeb7b8>"
      ]
     },
     "metadata": {},
     "output_type": "display_data"
    },
    {
     "name": "stdout",
     "output_type": "stream",
     "text": [
      "8.53457 0.10811\n"
     ]
    }
   ],
   "source": [
    "im = my_mnist_test_batch(1, number = 7) \n",
    "plt.imshow(np.reshape(im,(28, 28)), cmap='Greys_r')\n",
    "plt.show()\n",
    "    \n",
    "\n",
    "im_fake = sess.run([img_z]) \n",
    "plt.imshow(np.reshape(im_fake,(28, 28)), cmap='Greys_r')\n",
    "plt.show()\n",
    "\n",
    "ano_gap  = np.abs(np.reshape(im_fake,(28, 28)) - np.reshape(im,(28, 28)))\n",
    "plt.imshow(ano_gap, cmap='Greys_r')\n",
    "plt.show()  \n",
    "\n",
    "fea_loss, res_loss = sess.run([feature_loss,residual_loss], {ano_y : np.reshape(im,(1,28, 28,1))})\n",
    "\n",
    "print(fea_loss, res_loss)\n",
    "\n",
    "\n",
    "for i in range(1000) :\n",
    "    _ , loss1, loss2 = sess.run([mapping_optim,residual_loss,feature_loss], {ano_y : np.reshape(im,(1,28, 28,1))})\n",
    "    if  i % 100 == 0 : \n",
    "        print(loss1,loss2)\n",
    "        \n",
    "        \n",
    "plt.imshow(np.reshape(im,(28, 28)), cmap='Greys_r')\n",
    "plt.show()\n",
    "    \n",
    "\n",
    "im_fake = sess.run([img_z]) \n",
    "plt.imshow(np.reshape(im_fake,(28, 28)), cmap='Greys_r')\n",
    "plt.show()\n",
    "\n",
    "ano_gap  = np.abs(np.reshape(im_fake,(28, 28)) - np.reshape(im,(28, 28)))\n",
    "plt.imshow(ano_gap, cmap='Greys_r')\n",
    "plt.show()  \n",
    "\n",
    "fea_loss, res_loss = sess.run([feature_loss,residual_loss], {ano_y : np.reshape(im,(1,28, 28,1))})\n",
    "\n",
    "print(fea_loss, res_loss)"
   ]
  },
  {
   "cell_type": "code",
   "execution_count": 5,
   "metadata": {},
   "outputs": [
    {
     "name": "stdout",
     "output_type": "stream",
     "text": [
      "INFO:tensorflow:Restoring parameters from ex_anoGANs_3/para.cktp\n"
     ]
    }
   ],
   "source": [
    "\n",
    "\n",
    "if not os.path.isdir(file_name) :\n",
    "    os.mkdir(file_name)\n",
    "\n",
    "    \n",
    "sess = tf.InteractiveSession()\n",
    "    \n",
    "new_saver = tf.train.import_meta_graph(file_name + '/para.cktp.meta')\n",
    "new_saver.restore(sess, tf.train.latest_checkpoint(file_name + '/'))\n",
    "\n",
    "\n",
    "z = sess.graph.get_tensor_by_name(\"z:0\")\n",
    "u = sess.graph.get_tensor_by_name(\"u:0\")\n",
    "\n",
    "ano_y = sess.graph.get_tensor_by_name(\"ano_y:0\")\n",
    "ano_z = sess.graph.get_tensor_by_name(\"ano_z:0\")\n",
    "\n",
    "isTrain = sess.graph.get_tensor_by_name(\"isTrain:0\")\n",
    "\n",
    "    \n",
    "G_z = sess.graph.get_tensor_by_name(\"G_z:0\")\n",
    "img_z = sess.graph.get_tensor_by_name(\"img_z:0\")\n",
    "\n",
    "\n",
    "feature_loss = sess.graph.get_tensor_by_name(\"feature_loss:0\")\n",
    "D_real_loss = sess.graph.get_tensor_by_name('D_real_loss:0')\n",
    "D_fake_loss = sess.graph.get_tensor_by_name('D_fake_loss:0')\n",
    "\n",
    "D_loss = sess.graph.get_tensor_by_name(\"D_loss:0\")\n",
    "G_loss = sess.graph.get_tensor_by_name(\"G_loss:0\")\n",
    "residual_loss = sess.graph.get_tensor_by_name(\"residual_loss:0\")\n",
    "mapping_loss = sess.graph.get_tensor_by_name(\"mapping_loss:0\")\n",
    "\n",
    "D_optim = sess.graph.get_operation_by_name(\"D_optim\")\n",
    "G_optim = sess.graph.get_operation_by_name(\"G_optim\")\n",
    "\n",
    "mapping_optim = sess.graph.get_operation_by_name(\"mapping_optim\")\n",
    "\n",
    "\n",
    "\n",
    "\n"
   ]
  },
  {
   "cell_type": "code",
   "execution_count": 6,
   "metadata": {},
   "outputs": [
    {
     "data": {
      "image/png": "[encoded data removed]",
      "text/plain": [
       "<matplotlib.figure.Figure at 0x7f5c3560deb8>"
      ]
     },
     "metadata": {},
     "output_type": "display_data"
    },
    {
     "data": {
      "image/png": "[encoded data removed]",
      "text/plain": [
       "<matplotlib.figure.Figure at 0x7f5c34fb96a0>"
      ]
     },
     "metadata": {},
     "output_type": "display_data"
    },
    {
     "data": {
      "image/png": "[encoded data removed]",
      "text/plain": [
       "<matplotlib.figure.Figure at 0x7f5abccddc50>"
      ]
     },
     "metadata": {},
     "output_type": "display_data"
    },
    {
     "name": "stdout",
     "output_type": "stream",
     "text": [
      "14.5205 0.27756\n",
      "0.27756 14.5205\n",
      "0.172046 10.1419\n",
      "0.131435 8.73981\n",
      "0.109077 7.76844\n",
      "0.0943723 7.28012\n",
      "0.0804062 6.72544\n",
      "0.0731969 6.301\n",
      "0.0682908 5.94231\n",
      "0.0629979 5.65916\n",
      "0.058356 5.37168\n"
     ]
    },
    {
     "data": {
      "image/png": "[encoded data removed]",
      "text/plain": [
       "<matplotlib.figure.Figure at 0x7f5af33816d8>"
      ]
     },
     "metadata": {},
     "output_type": "display_data"
    },
    {
     "data": {
      "image/png": "[encoded data removed]",
      "text/plain": [
       "<matplotlib.figure.Figure at 0x7f5b400d0f28>"
      ]
     },
     "metadata": {},
     "output_type": "display_data"
    },
    {
     "data": {
      "image/png": "[encoded data removed]",
      "text/plain": [
       "<matplotlib.figure.Figure at 0x7f5abc4936d8>"
      ]
     },
     "metadata": {},
     "output_type": "display_data"
    },
    {
     "name": "stdout",
     "output_type": "stream",
     "text": [
      "5.18416 0.0549861\n"
     ]
    }
   ],
   "source": [
    "im = my_mnist_test_batch(1, number = 8) \n",
    "plt.imshow(np.reshape(im,(28, 28)), cmap='Greys_r')\n",
    "plt.show()\n",
    "    \n",
    "\n",
    "im_fake = sess.run([img_z]) \n",
    "plt.imshow(np.reshape(im_fake,(28, 28)), cmap='Greys_r')\n",
    "plt.show()\n",
    "\n",
    "ano_gap  = np.abs(np.reshape(im_fake,(28, 28)) - np.reshape(im,(28, 28)))\n",
    "plt.imshow(ano_gap, cmap='Greys_r')\n",
    "plt.show()  \n",
    "\n",
    "fea_loss, res_loss = sess.run([feature_loss,residual_loss], {ano_y : np.reshape(im,(1,28, 28,1))})\n",
    "\n",
    "print(fea_loss, res_loss)\n",
    "\n",
    "\n",
    "for i in range(1000) :\n",
    "    _ , loss1, loss2 = sess.run([mapping_optim,residual_loss,feature_loss], {ano_y : np.reshape(im,(1,28, 28,1))})\n",
    "    if  i % 100 == 0 : \n",
    "        print(loss1,loss2)\n",
    "        \n",
    "        \n",
    "plt.imshow(np.reshape(im,(28, 28)), cmap='Greys_r')\n",
    "plt.show()\n",
    "    \n",
    "\n",
    "im_fake = sess.run([img_z]) \n",
    "plt.imshow(np.reshape(im_fake,(28, 28)), cmap='Greys_r')\n",
    "plt.show()\n",
    "\n",
    "ano_gap  = np.abs(np.reshape(im_fake,(28, 28)) - np.reshape(im,(28, 28)))\n",
    "plt.imshow(ano_gap, cmap='Greys_r')\n",
    "plt.show()  \n",
    "\n",
    "fea_loss, res_loss = sess.run([feature_loss,residual_loss], {ano_y : np.reshape(im,(1,28, 28,1))})\n",
    "\n",
    "print(fea_loss, res_loss)"
   ]
  },
  {
   "cell_type": "code",
   "execution_count": 7,
   "metadata": {},
   "outputs": [
    {
     "name": "stdout",
     "output_type": "stream",
     "text": [
      "INFO:tensorflow:Restoring parameters from ex_anoGANs_3/para.cktp\n"
     ]
    }
   ],
   "source": [
    "\n",
    "\n",
    "if not os.path.isdir(file_name) :\n",
    "    os.mkdir(file_name)\n",
    "\n",
    "    \n",
    "sess = tf.InteractiveSession()\n",
    "    \n",
    "new_saver = tf.train.import_meta_graph(file_name + '/para.cktp.meta')\n",
    "new_saver.restore(sess, tf.train.latest_checkpoint(file_name + '/'))\n",
    "\n",
    "\n",
    "z = sess.graph.get_tensor_by_name(\"z:0\")\n",
    "u = sess.graph.get_tensor_by_name(\"u:0\")\n",
    "\n",
    "ano_y = sess.graph.get_tensor_by_name(\"ano_y:0\")\n",
    "ano_z = sess.graph.get_tensor_by_name(\"ano_z:0\")\n",
    "\n",
    "isTrain = sess.graph.get_tensor_by_name(\"isTrain:0\")\n",
    "\n",
    "    \n",
    "G_z = sess.graph.get_tensor_by_name(\"G_z:0\")\n",
    "img_z = sess.graph.get_tensor_by_name(\"img_z:0\")\n",
    "\n",
    "\n",
    "feature_loss = sess.graph.get_tensor_by_name(\"feature_loss:0\")\n",
    "D_real_loss = sess.graph.get_tensor_by_name('D_real_loss:0')\n",
    "D_fake_loss = sess.graph.get_tensor_by_name('D_fake_loss:0')\n",
    "\n",
    "D_loss = sess.graph.get_tensor_by_name(\"D_loss:0\")\n",
    "G_loss = sess.graph.get_tensor_by_name(\"G_loss:0\")\n",
    "residual_loss = sess.graph.get_tensor_by_name(\"residual_loss:0\")\n",
    "mapping_loss = sess.graph.get_tensor_by_name(\"mapping_loss:0\")\n",
    "\n",
    "D_optim = sess.graph.get_operation_by_name(\"D_optim\")\n",
    "G_optim = sess.graph.get_operation_by_name(\"G_optim\")\n",
    "\n",
    "mapping_optim = sess.graph.get_operation_by_name(\"mapping_optim\")\n",
    "\n",
    "\n",
    "\n",
    "\n"
   ]
  },
  {
   "cell_type": "code",
   "execution_count": 8,
   "metadata": {},
   "outputs": [
    {
     "data": {
      "image/png": "[encoded data removed]",
      "text/plain": [
       "<matplotlib.figure.Figure at 0x7f5a95c6a550>"
      ]
     },
     "metadata": {},
     "output_type": "display_data"
    },
    {
     "data": {
      "image/png": "[encoded data removed]",
      "text/plain": [
       "<matplotlib.figure.Figure at 0x7f5bb00500f0>"
      ]
     },
     "metadata": {},
     "output_type": "display_data"
    },
    {
     "data": {
      "image/png": "[encoded data removed]",
      "text/plain": [
       "<matplotlib.figure.Figure at 0x7f5a95751748>"
      ]
     },
     "metadata": {},
     "output_type": "display_data"
    },
    {
     "name": "stdout",
     "output_type": "stream",
     "text": [
      "12.8627 0.260421\n",
      "0.260421 12.8627\n",
      "0.219349 11.3932\n",
      "0.189922 11.0696\n",
      "0.143861 9.46008\n",
      "0.104705 7.35855\n",
      "0.0975794 6.96464\n",
      "0.0871721 6.34887\n",
      "0.0791452 5.83727\n",
      "0.074194 5.36111\n",
      "0.0716253 5.04705\n"
     ]
    },
    {
     "data": {
      "image/png": "[encoded data removed]",
      "text/plain": [
       "<matplotlib.figure.Figure at 0x7f5a95541518>"
      ]
     },
     "metadata": {},
     "output_type": "display_data"
    },
    {
     "data": {
      "image/png": "[encoded data removed]",
      "text/plain": [
       "<matplotlib.figure.Figure at 0x7f5a956b4cc0>"
      ]
     },
     "metadata": {},
     "output_type": "display_data"
    },
    {
     "data": {
      "image/png": "[encoded data removed]",
      "text/plain": [
       "<matplotlib.figure.Figure at 0x7f5a952a1d68>"
      ]
     },
     "metadata": {},
     "output_type": "display_data"
    },
    {
     "name": "stdout",
     "output_type": "stream",
     "text": [
      "4.8394 0.069772\n"
     ]
    }
   ],
   "source": [
    "im = my_mnist_test_batch(1, number = 9) \n",
    "plt.imshow(np.reshape(im,(28, 28)), cmap='Greys_r')\n",
    "plt.show()\n",
    "    \n",
    "\n",
    "im_fake = sess.run([img_z]) \n",
    "plt.imshow(np.reshape(im_fake,(28, 28)), cmap='Greys_r')\n",
    "plt.show()\n",
    "\n",
    "ano_gap  = np.abs(np.reshape(im_fake,(28, 28)) - np.reshape(im,(28, 28)))\n",
    "plt.imshow(ano_gap, cmap='Greys_r')\n",
    "plt.show()  \n",
    "\n",
    "fea_loss, res_loss = sess.run([feature_loss,residual_loss], {ano_y : np.reshape(im,(1,28, 28,1))})\n",
    "\n",
    "print(fea_loss, res_loss)\n",
    "\n",
    "\n",
    "for i in range(1000) :\n",
    "    _ , loss1, loss2 = sess.run([mapping_optim,residual_loss,feature_loss], {ano_y : np.reshape(im,(1,28, 28,1))})\n",
    "    if  i % 100 == 0 : \n",
    "        print(loss1,loss2)\n",
    "        \n",
    "        \n",
    "plt.imshow(np.reshape(im,(28, 28)), cmap='Greys_r')\n",
    "plt.show()\n",
    "    \n",
    "\n",
    "im_fake = sess.run([img_z]) \n",
    "plt.imshow(np.reshape(im_fake,(28, 28)), cmap='Greys_r')\n",
    "plt.show()\n",
    "\n",
    "ano_gap  = np.abs(np.reshape(im_fake,(28, 28)) - np.reshape(im,(28, 28)))\n",
    "plt.imshow(ano_gap, cmap='Greys_r')\n",
    "plt.show()  \n",
    "\n",
    "fea_loss, res_loss = sess.run([feature_loss,residual_loss], {ano_y : np.reshape(im,(1,28, 28,1))})\n",
    "\n",
    "print(fea_loss, res_loss)"
   ]
  },
  {
   "cell_type": "code",
   "execution_count": null,
   "metadata": {},
   "outputs": [],
   "source": [
    "\n",
    "\n"
   ]
  },
  {
   "cell_type": "code",
   "execution_count": null,
   "metadata": {},
   "outputs": [],
   "source": []
  },
  {
   "cell_type": "code",
   "execution_count": null,
   "metadata": {},
   "outputs": [],
   "source": []
  }
 ],
 "metadata": {
  "kernelspec": {
   "display_name": "Python 3",
   "language": "python",
   "name": "python3"
  },
  "language_info": {
   "codemirror_mode": {
    "name": "ipython",
    "version": 3
   },
   "file_extension": ".py",
   "mimetype": "text/x-python",
   "name": "python",
   "nbconvert_exporter": "python",
   "pygments_lexer": "ipython3",
   "version": "3.5.2"
  },
  "toc": {
   "base_numbering": 1,
   "nav_menu": {},
   "number_sections": true,
   "sideBar": true,
   "skip_h1_title": false,
   "title_cell": "Table of Contents",
   "title_sidebar": "Contents",
   "toc_cell": false,
   "toc_position": {},
   "toc_section_display": true,
   "toc_window_display": true
  },
  "varInspector": {
   "cols": {
    "lenName": 16,
    "lenType": 16,
    "lenVar": 40
   },
   "kernels_config": {
    "python": {
     "delete_cmd_postfix": "",
     "delete_cmd_prefix": "del ",
     "library": "var_list.py",
     "varRefreshCmd": "print(var_dic_list())"
    },
    "r": {
     "delete_cmd_postfix": ") ",
     "delete_cmd_prefix": "rm(",
     "library": "var_list.r",
     "varRefreshCmd": "cat(var_dic_list()) "
    }
   },
   "types_to_exclude": [
    "module",
    "function",
    "builtin_function_or_method",
    "instance",
    "_Feature"
   ],
   "window_display": true
  }
 },
 "nbformat": 4,
 "nbformat_minor": 2
}
