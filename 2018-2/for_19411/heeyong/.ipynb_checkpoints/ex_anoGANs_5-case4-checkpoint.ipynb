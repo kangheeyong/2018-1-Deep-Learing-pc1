{
 "cells": [
  {
   "cell_type": "markdown",
   "metadata": {},
   "source": [
    "# anoGANs with noise\n",
    "\n",
    "\n",
    "normal data : 0 ~ 4 숫자로 구성\n",
    "\n",
    "anomalous data : 5 ~ 9 숫자로 구성\n",
    "\n",
    "이미지 데이터는 64 by 64 크기는 -1 ~ 1\n",
    "\n",
    "architecture는 DCGANs으로 구성\n"
   ]
  },
  {
   "cell_type": "code",
   "execution_count": 1,
   "metadata": {
    "code_folding": [
     17,
     21,
     25,
     29,
     33,
     44,
     63
    ]
   },
   "outputs": [
    {
     "name": "stdout",
     "output_type": "stream",
     "text": [
      "test_normal_data :  (5139, 64, 64, 1)\n",
      "test_anomalous_data :  (4861, 64, 64, 1)\n",
      "train_normal_data :  (28038, 64, 64, 1)\n",
      "train_anomalous_data :  (26962, 64, 64, 1)\n"
     ]
    }
   ],
   "source": [
    "import tensorflow as tf\n",
    "import numpy as np\n",
    "import os\n",
    "import sys\n",
    "import time\n",
    "import time \n",
    "import matplotlib.pyplot as plt\n",
    "import matplotlib.gridspec as gridspec \n",
    "\n",
    "os.environ[\"CUDA_VISIBLE_DEVICES\"]=\"0\"\n",
    "\n",
    "\n",
    "import pickle\n",
    "import gzip\n",
    "\n",
    "file_dir = 'anoGANs_MNIST_data/'\n",
    "\n",
    "with gzip.open(file_dir + 'test_normal_data.pickle.gzip','rb') as f :\n",
    "    test_normal_data = pickle.load(f)\n",
    "    print('test_normal_data : ' ,test_normal_data.shape)\n",
    "\n",
    "with gzip.open(file_dir + 'test_anomalous_data.pickle.gzip','rb') as f :\n",
    "    test_anomalous_data = pickle.load(f)\n",
    "    print('test_anomalous_data : ',test_anomalous_data.shape)\n",
    "    \n",
    "with gzip.open(file_dir + 'train_normal_data.pickle.gzip','rb') as f :\n",
    "    train_normal_data = pickle.load(f)\n",
    "    print('train_normal_data : ', train_normal_data.shape)\n",
    "    \n",
    "with gzip.open(file_dir + 'train_anomalous_data.pickle.gzip','rb') as f :\n",
    "    train_anomalous_data = pickle.load(f)\n",
    "    print('train_anomalous_data : ',train_anomalous_data.shape )\n",
    "\n",
    "def idx_shuffle(x) : \n",
    "    l = x.shape[0]\n",
    "    idx = np.arange(l)\n",
    "    np.random.shuffle(idx)\n",
    "    shuffled_x = np.empty(x.shape)\n",
    "\n",
    "    for i in range(l):\n",
    "        shuffled_x[idx[i]] = x[i]\n",
    "    \n",
    "    return shuffled_x\n",
    "\n",
    "def mnist_4by4_save(samples,path):\n",
    "    fig = plt.figure(figsize=(4, 4))\n",
    "    gs = gridspec.GridSpec(4, 4)    \n",
    "    gs.update(wspace=0.05, hspace=0.05) #이미지 사이간격 조절\n",
    "  \n",
    "    for i, sample in enumerate(samples):\n",
    "        ax = plt.subplot(gs[i])\n",
    "        plt.axis('off')    \n",
    "        ax.set_xticklabels([])\n",
    "        ax.set_yticklabels([])\n",
    "        ax.set_aspect('equal')\n",
    "   \n",
    "        plt.imshow(sample.reshape(64, 64), cmap='Greys_r',clim=(0.0,1.0))\n",
    "    plt.colorbar()\n",
    "    plt.savefig(path, bbox_inches='tight')\n",
    "    plt.close(fig)\n",
    "   \n",
    "    return None\n",
    "\n",
    "def gan_loss_graph_save(G_loss,D_loss,path):\n",
    "    x1 = range(len(G_loss))\n",
    "    x2 = range(len(D_loss))\n",
    "      \n",
    "    y1 = G_loss\n",
    "    y2 = D_loss\n",
    "  \n",
    "      \n",
    "    plt.plot(x1,y1,label='G_loss') \n",
    "    plt.plot(x2,y2,label='D_loss') \n",
    "  \n",
    "    plt.xlabel('weight per update')\n",
    "    plt.ylabel('loss')             \n",
    "    plt.legend(loc=4)              \n",
    "    plt.grid(True)\n",
    "    plt.tight_layout()\n",
    "  \n",
    "    plt.savefig(path)              \n",
    "\n",
    "    return None\n"
   ]
  },
  {
   "cell_type": "code",
   "execution_count": null,
   "metadata": {},
   "outputs": [],
   "source": []
  },
  {
   "cell_type": "code",
   "execution_count": 2,
   "metadata": {
    "code_folding": []
   },
   "outputs": [],
   "source": [
    "\n",
    "\n",
    "file_name = 'ex_anoGANs_5-case3'\n",
    "\n",
    "if not os.path.isdir(file_name) :\n",
    "    os.mkdir(file_name)\n",
    "def simple_G(x,isTrain = True, reuse = False, name = 'G_out') : #input = (minibatch * w * h * ch)\n",
    "    \n",
    "    # out size = (in size + 2*padding - kenel)/strides + 1    \n",
    "    w_init = tf.truncated_normal_initializer(mean= 0.0, stddev=0.02)\n",
    "    b_init = tf.constant_initializer(0.0)\n",
    "\n",
    "\n",
    "    with tf.variable_scope('G',reuse=reuse)  :\n",
    "        \n",
    "        #x = (-1, 1, 1, 100)\n",
    "\n",
    "        conv1 = tf.layers.conv2d_transpose(x,1024,[4,4], strides=(1,1),padding = 'valid',\n",
    "                kernel_initializer=w_init, bias_initializer=b_init) \n",
    "        r1 = tf.nn.elu(tf.layers.batch_normalization(conv1,training=isTrain))#1024*4*4\n",
    "        \n",
    "        conv2 = tf.layers.conv2d_transpose(r1,512,[5,5], strides=(2,2),padding = 'same',\n",
    "                kernel_initializer=w_init, bias_initializer=b_init)\n",
    "        r2 = tf.nn.elu(tf.layers.batch_normalization(conv2,training=isTrain))#512*8*8\n",
    "                \n",
    "        conv3 = tf.layers.conv2d_transpose(r2,256,[5,5], strides=(2,2),padding = 'same',\n",
    "                kernel_initializer=w_init, bias_initializer=b_init)\n",
    "        r3 = tf.nn.elu(tf.layers.batch_normalization(conv3,training=isTrain))#256*16*16\n",
    "\n",
    "        conv4 = tf.layers.conv2d_transpose(r3,128,[5,5], strides=(2,2),padding = 'same',\n",
    "                kernel_initializer=w_init, bias_initializer=b_init)\n",
    "        r4 = tf.nn.elu(tf.layers.batch_normalization(conv4,training=isTrain))#128*32*32\n",
    "\n",
    "        conv5 = tf.layers.conv2d_transpose(r4,1,[5,5], strides=(2,2),padding = 'same',\n",
    "                kernel_initializer=w_init, bias_initializer=b_init) #1*64*64\n",
    "        \n",
    "    r5= tf.nn.tanh(conv5,name=name)#1*64*64\n",
    "  \n",
    "    return r5\n",
    "\n",
    "def residual_loss_G(x,isTrain = False, reuse = True, name = 'residual_loss_out') : #input = (minibatch * w * h * ch)\n",
    "    \n",
    "    # out size = (in size + 2*padding - kenel)/strides + 1    \n",
    "\n",
    "\n",
    "    with tf.variable_scope('G',reuse=reuse) as scope :\n",
    "        scope.reuse_variables()\n",
    "        #x = (-1, 1, 1, 100)\n",
    "\n",
    "\n",
    "        conv1 = tf.layers.conv2d_transpose(x,1024,[4,4], strides=(1,1),padding = 'valid')\n",
    "        r1 = tf.nn.elu(tf.layers.batch_normalization(conv1,training=isTrain))#1024*4*4\n",
    "        \n",
    "        conv2 = tf.layers.conv2d_transpose(r1,512,[5,5], strides=(2,2),padding = 'same')\n",
    "        r2 = tf.nn.elu(tf.layers.batch_normalization(conv2,training=isTrain))#512*8*8\n",
    "                \n",
    "        conv3 = tf.layers.conv2d_transpose(r2,256,[5,5], strides=(2,2),padding = 'same')\n",
    "        r3 = tf.nn.elu(tf.layers.batch_normalization(conv3,training=isTrain))#256*16*16\n",
    "\n",
    "        conv4 = tf.layers.conv2d_transpose(r3,128,[5,5], strides=(2,2),padding = 'same')\n",
    "        r4 = tf.nn.elu(tf.layers.batch_normalization(conv4,training=isTrain))#128*32*32\n",
    "\n",
    "        conv5 = tf.layers.conv2d_transpose(r4,1,[5,5], strides=(2,2),padding = 'same')\n",
    "        \n",
    "    r5= tf.nn.tanh(conv5,name=name)#1*64*64\n",
    "    return r5\n",
    "\n",
    "def simple_D(x,isTrain=True,reuse = False) :\n",
    "    \n",
    "    w_init = tf.truncated_normal_initializer(mean= 0.0, stddev=0.02)\n",
    "    b_init = tf.constant_initializer(0.0)\n",
    "    with tf.variable_scope('D', reuse=reuse) :\n",
    "        \n",
    "        #x = (-1,64,64,1)\n",
    "        # out size = (in size + 2*padding - kenel)/strides + 1   \n",
    "\n",
    "        conv1 = tf.layers.conv2d(x,128,[5,5], strides=(2,2),padding = 'same',\n",
    "                                kernel_initializer=w_init, bias_initializer=b_init) \n",
    "        r1 = tf.nn.elu(conv1)#128*32*32\n",
    "\n",
    "   \n",
    "        conv2 = tf.layers.conv2d(r1,256,[5,5], strides=(2,2),padding = 'same',\n",
    "                                kernel_initializer=w_init, bias_initializer=b_init)\n",
    "        r2 = tf.nn.elu(tf.layers.batch_normalization(conv2,training=isTrain))#256*16*16\n",
    "\n",
    "  \n",
    "        conv3 = tf.layers.conv2d(r2,512,[5,5], strides=(2,2),padding = 'same',\n",
    "                                kernel_initializer=w_init, bias_initializer=b_init)\n",
    "        r3 = tf.nn.elu(tf.layers.batch_normalization(conv3,training=isTrain))#512*8*8\n",
    "\n",
    " \n",
    "        conv4 = tf.layers.conv2d(r3,1024,[5,5], strides=(2,2),padding = 'same',\n",
    "                                kernel_initializer=w_init, bias_initializer=b_init)\n",
    "        r4 = tf.nn.elu(tf.layers.batch_normalization(conv4,training=isTrain))#1024*4*4\n",
    "\n",
    "\n",
    "        conv5 = tf.layers.conv2d(r4,1,[4,4], strides=(1,1),padding = 'valid',\n",
    "                                kernel_initializer=w_init, bias_initializer=b_init)\n",
    "      \n",
    "    r5 = tf.nn.sigmoid(conv5)#1*1*1\n",
    "\n",
    "    return r5\n",
    "\n",
    "def feature_extractor_D(x,isTrain=False,reuse = True, name='feature_out') :\n",
    "    \n",
    "    with tf.variable_scope('D', reuse=reuse) as scope :\n",
    "        scope.reuse_variables()\n",
    "        #x = (-1,28,28,1)\n",
    "\n",
    "        conv1 = tf.layers.conv2d(x,128,[5,5], strides=(2,2),padding = 'same') \n",
    "        r1 = tf.nn.elu(conv1)#128*32*32\n",
    "\n",
    "   \n",
    "        conv2 = tf.layers.conv2d(r1,256,[5,5], strides=(2,2),padding = 'same')\n",
    "        r2 = tf.nn.elu(tf.layers.batch_normalization(conv2,training=isTrain))#256*16*16\n",
    "\n",
    "  \n",
    "        conv3 = tf.layers.conv2d(r2,512,[5,5], strides=(2,2),padding = 'same')\n",
    "    r3 = tf.nn.elu(tf.layers.batch_normalization(conv3,training=isTrain),name=name)#512*8*8\n",
    "\n",
    " \n",
    "        #conv4 = tf.layers.conv2d(r3,1024,[5,5], strides=(2,2),padding = 'same')\n",
    "        #r4 = tf.nn.elu(tf.layers.batch_normalization(conv4,training=isTrain))#1024*4*4\n",
    "\n",
    "\n",
    "        #conv5 = tf.layers.conv2d(r4,1,[4,4], strides=(1,1),padding = 'valid')\n",
    "      \n",
    "        #r5 = tf.nn.sigmoid(conv5)#1*1*1\n",
    "\n",
    "\n",
    "\n",
    "    return r3\n",
    "\n"
   ]
  },
  {
   "cell_type": "code",
   "execution_count": 3,
   "metadata": {},
   "outputs": [
    {
     "name": "stdout",
     "output_type": "stream",
     "text": [
      "[<tf.Tensor 'grad_z/G_1/conv2d_transpose/conv2d_transpose_grad/Conv2D:0' shape=(?, 1, 1, 10) dtype=float32>]\n"
     ]
    }
   ],
   "source": [
    "lr = 0.001\n",
    "train_epoch = 100\n",
    "batch_size = 100\n",
    "z_size = 10\n",
    "\n",
    "\n",
    "z = tf.placeholder(tf.float32,shape=(None,1,1,z_size),name = 'z')    \n",
    "u = tf.placeholder(tf.float32, shape = (None, 64,64,1),name='u')\n",
    "\n",
    "noise = tf.placeholder(tf.float32, shape = (None, 64,64,1),name='noise')\n",
    "\n",
    "test_u = tf.placeholder(tf.float32, shape = (None, 64,64,1),name='test_u')\n",
    "latent_z = tf.placeholder(tf.float32,shape=(None,1,1,z_size),name = 'latent_z')    \n",
    "\n",
    "isTrain = tf.placeholder(dtype=tf.bool,name='isTrain') \n",
    "\n",
    "soft_one = tf.placeholder(tf.float32, shape = (None, 1,1,1),name='soft_one') # 0.9~1.0\n",
    "soft_zero = tf.placeholder(tf.float32, shape = (None, 1,1,1),name='soft_zero') # 0.0~0.1\n",
    "\n",
    "ramda = tf.placeholder(tf.float32,name='ramda') # 0.0~0.1\n",
    "\n",
    "G_z = simple_G(z,name='G_z')\n",
    "\n",
    "D_real = simple_D(u +noise, isTrain)\n",
    "D_fake = simple_D(G_z+noise ,isTrain,reuse=True)\n",
    "\n",
    "query_z =  residual_loss_G(latent_z, reuse = True,name ='query_z')\n",
    "\n",
    "\n",
    "discrimination_from_query_z= simple_D(query_z,isTrain=False,reuse=True)\n",
    "\n",
    "feature_u = feature_extractor_D(test_u, reuse = True, name ='feature_y')\n",
    "feature_z = feature_extractor_D(query_z, reuse = True, name ='feature_z')\n",
    "\n",
    "\n",
    "D_real_loss = tf.reduce_mean(-(soft_one*tf.log(D_real + 1e-8) + (1-soft_one)*tf.log(1- D_real + 1e-8)),name = 'D_real_loss')\n",
    "D_fake_loss = tf.reduce_mean(-(soft_zero*tf.log(D_fake + 1e-8) + (1-soft_zero)*tf.log(1 - D_fake + 1e-8)),name = 'D_fake_loss')\n",
    "\n",
    "\n",
    "D_loss =  tf.add(D_real_loss,D_fake_loss,name='D_loss')\n",
    "G_loss =  tf.reduce_mean(-tf.log(D_fake + 1e-8),name='G_loss')\n",
    "\n",
    "residual_loss = tf.reduce_mean(tf.abs(query_z - test_u),axis = (1,2,3), name = 'residual_loss')\n",
    "feature_loss = tf.reduce_mean(tf.abs(feature_u-feature_z),axis = (1,2,3),name = 'feature_loss')\n",
    "discrimination_loss = tf.reduce_mean(-tf.log(discrimination_from_query_z+ 1e-8),axis = (1),name = 'discrimination_loss')\n",
    "\n",
    "mapping_loss = tf.add((1-ramda)*residual_loss, ramda*feature_loss,name = 'mapping_loss') \n",
    "\n",
    "T_vars = tf.trainable_variables()\n",
    "D_vars = [var for var in T_vars if var.name.startswith('D')]\n",
    "G_vars = [var for var in T_vars if var.name.startswith('G')]\n",
    "    # When using the batchnormalization layers,\n",
    "    # it is necessary to manually add the update operations\n",
    "    # because the moving averages are not included in the graph\n",
    "\n",
    "with tf.control_dependencies(tf.get_collection(tf.GraphKeys.UPDATE_OPS)) :        \n",
    "    D_optim = tf.train.AdamOptimizer(lr,beta1=0.5).minimize(D_loss, var_list=D_vars, name='D_optim') \n",
    "    G_optim = tf.train.AdamOptimizer(lr,beta1=0.5).minimize(G_loss, var_list=G_vars, name='G_optim')\n",
    "    \n",
    "grad_z = tf.gradients(mapping_loss, latent_z, name ='grad_z')\n",
    "print(grad_z)"
   ]
  },
  {
   "cell_type": "markdown",
   "metadata": {},
   "source": [
    "# train DCGANs"
   ]
  },
  {
   "cell_type": "code",
   "execution_count": null,
   "metadata": {},
   "outputs": [
    {
     "name": "stdout",
     "output_type": "stream",
     "text": [
      "D_e : 4.103287, D_real_e : 1.469330, D_fake_e : 2.633957, G_e : 3.701922\n",
      "D_e : 2.886233, D_real_e : 0.856696, D_fake_e : 0.812482, G_e : 2.640682\n",
      "D_e : 2.400176, D_real_e : 0.732734, D_fake_e : 0.695327, G_e : 2.376894\n",
      "D_e : 2.034466, D_real_e : 0.482369, D_fake_e : 0.454969, G_e : 2.161071\n",
      "D_e : 1.771900, D_real_e : 0.371917, D_fake_e : 0.349717, G_e : 1.896617\n",
      "D_e : 1.594079, D_real_e : 0.366808, D_fake_e : 0.338166, G_e : 1.698482\n",
      "D_e : 1.440319, D_real_e : 0.262817, D_fake_e : 0.254945, G_e : 1.502519\n",
      "D_e : 1.345154, D_real_e : 0.347601, D_fake_e : 0.331396, G_e : 1.403254\n",
      "D_e : 1.281029, D_real_e : 0.400556, D_fake_e : 0.367472, G_e : 1.348411\n",
      "D_e : 1.201373, D_real_e : 0.243499, D_fake_e : 0.240971, G_e : 1.238501\n",
      "D_e : 1.144095, D_real_e : 0.290176, D_fake_e : 0.281145, G_e : 1.163254\n",
      "D_e : 1.106997, D_real_e : 0.359707, D_fake_e : 0.339214, G_e : 1.141402\n",
      "D_e : 1.068496, D_real_e : 0.311727, D_fake_e : 0.294751, G_e : 1.087679\n",
      "D_e : 1.024045, D_real_e : 0.223795, D_fake_e : 0.222389, G_e : 1.018926\n",
      "D_e : 0.983949, D_real_e : 0.210519, D_fake_e : 0.212085, G_e : 0.953178\n",
      "D_e : 0.973624, D_real_e : 0.421700, D_fake_e : 0.397046, G_e : 0.961335\n",
      "D_e : 0.940717, D_real_e : 0.206620, D_fake_e : 0.207593, G_e : 0.906734\n",
      "D_e : 0.925578, D_real_e : 0.337410, D_fake_e : 0.330794, G_e : 0.886122\n",
      "D_e : 0.901221, D_real_e : 0.231961, D_fake_e : 0.230847, G_e : 0.851921\n",
      "D_e : 0.886919, D_real_e : 0.316317, D_fake_e : 0.298858, G_e : 0.832968\n",
      "D_e : 0.866464, D_real_e : 0.228848, D_fake_e : 0.228517, G_e : 0.800344\n",
      "D_e : 0.845816, D_real_e : 0.205593, D_fake_e : 0.206622, G_e : 0.764856\n"
     ]
    }
   ],
   "source": [
    "with tf.Session(config=tf.ConfigProto(gpu_options=tf.GPUOptions(allow_growth=True))) as sess :\n",
    "    sess.run(tf.global_variables_initializer())\n",
    "\n",
    "    np.random.seed(int(time.time()))\n",
    "\n",
    "    test_z = np.random.normal(0,1,size=(16,1,1,z_size))\n",
    "\n",
    "    \n",
    "    log_txt = open(file_name +'/log.txt','w')\n",
    "\n",
    "    hist_G = []\n",
    "    hist_D = []\n",
    "    G_error = []\n",
    "    D_error = []\n",
    "    D_fake_error = []\n",
    "    D_real_error = []\n",
    "    \n",
    "    start = time.time()\n",
    "    for epoch in range(train_epoch) :\n",
    "        \n",
    "        np.random.seed(int(time.time()))\n",
    "        train_normal_data = idx_shuffle(train_normal_data) \n",
    "        \n",
    "        for iteration in range(train_normal_data.shape[0] // batch_size) : \n",
    "        \n",
    "            train_images = train_normal_data[iteration*batch_size : (iteration+1)*batch_size]      \n",
    "            u_ = np.reshape(train_images,(-1,64,64,1)) \n",
    "            z_ = np.random.normal(0,1,size=(batch_size,1,1,z_size))\n",
    "            noise_ = np.random.normal(0,0.1,size=(batch_size,64,64,1))\n",
    "            zeros_ = np.zeros([batch_size,64,64,1])\n",
    "            soft_one_ = np.random.uniform(0.9,1.0,(batch_size,1,1,1))\n",
    "            soft_zero_ = np.random.uniform(0.0,0.1,(batch_size,1,1,1))\n",
    "        \n",
    "      \n",
    "            _ , D_e,D_real_e,D_fake_e = sess.run([D_optim, D_loss,D_real_loss,D_fake_loss], {u : u_, z : z_, isTrain : True,\n",
    "                                                                                         noise : noise_, soft_one : soft_one_, soft_zero : soft_zero_})\n",
    "            D_error.append(D_e)\n",
    "            D_real_error.append(D_real_e)\n",
    "            D_fake_error.append(D_fake_e)\n",
    "\n",
    "            #    train_images,train_labels = mnist.train.next_batch(100)    \n",
    "            #    u_ = np.reshape(train_images,(-1,64,64,1)) \n",
    "            #    z_ = np.random.normal(0,1,size=(100,1,1,100))\n",
    "   \n",
    "            _ , G_e = sess.run([G_optim, G_loss], {u : u_, z : z_,noise : zeros_, isTrain : True}) \n",
    "            G_error.append(G_e)\n",
    "        \n",
    "\n",
    "\n",
    "        hist_D.append(np.mean(D_error)) \n",
    "        hist_G.append(np.mean(G_error))\n",
    "\n",
    "        print('D_e : %.6f, D_real_e : %.6f, D_fake_e : %.6f, G_e : %.6f'%(np.mean(D_error), np.mean(D_real_error),\n",
    "            np.mean(D_fake_error), np.mean(G_error)))\n",
    "        log_txt.write('D_e : %.6f, D_real_e : %.6f, D_fake_e : %.6f, G_e : %.6f\\n'%(np.mean(D_error),\n",
    "            np.mean(D_real_error), np.mean(D_fake_error), np.mean(G_error)))\n",
    "      \n",
    "        r = sess.run([G_z],feed_dict={z : test_z, isTrain : False})        \n",
    "        mnist_4by4_save(np.reshape(r,(-1,64,64,1)),file_name + '/result_{}.png'.format(str(epoch).zfill(3)))\n",
    "\n",
    "        np.random.seed(int(time.time()))\n",
    "\n",
    "        G_errer = []\n",
    "        D_errer = []\n",
    "        D_fake_error = []\n",
    "        D_real_error = []\n",
    "\n",
    "\n",
    "    log_txt.close()\n",
    "    gan_loss_graph_save(G_loss = hist_G,D_loss=hist_D,path = file_name + '/loss_graph.png')   \n",
    "    saver = tf.train.Saver()\n",
    "    saver.save(sess,file_name + '/para.cktp')\n",
    "\n",
    "    end = time.time()-start\n",
    "\n",
    "    print(\"total time : \",end)"
   ]
  },
  {
   "cell_type": "markdown",
   "metadata": {},
   "source": [
    "# Detect anomalous data"
   ]
  },
  {
   "cell_type": "markdown",
   "metadata": {},
   "source": [
    "## load networks"
   ]
  },
  {
   "cell_type": "code",
   "execution_count": 5,
   "metadata": {},
   "outputs": [
    {
     "name": "stdout",
     "output_type": "stream",
     "text": [
      "INFO:tensorflow:Restoring parameters from ex_anoGANs_5-case3/para.cktp\n"
     ]
    }
   ],
   "source": [
    "\n",
    "\n",
    "if not os.path.isdir(file_name) :\n",
    "    os.mkdir(file_name)\n",
    "\n",
    "    \n",
    "sess = tf.InteractiveSession()\n",
    "    \n",
    "new_saver = tf.train.import_meta_graph(file_name + '/para.cktp.meta')\n",
    "new_saver.restore(sess, tf.train.latest_checkpoint(file_name + '/'))\n",
    "\n",
    "\n",
    "z = sess.graph.get_tensor_by_name(\"z:0\")\n",
    "u = sess.graph.get_tensor_by_name(\"u:0\")\n",
    "\n",
    "noise = sess.graph.get_tensor_by_name(\"noise:0\")\n",
    "\n",
    "test_u = sess.graph.get_tensor_by_name(\"test_u:0\")\n",
    "latent_z = sess.graph.get_tensor_by_name(\"latent_z:0\")\n",
    "\n",
    "isTrain = sess.graph.get_tensor_by_name(\"isTrain:0\")\n",
    "\n",
    "soft_one =sess.graph.get_tensor_by_name(\"soft_one:0\") # 0.9~1.0\n",
    "soft_zero = sess.graph.get_tensor_by_name(\"soft_zero:0\") # 0.0~0.1\n",
    "\n",
    "ramda = sess.graph.get_tensor_by_name(\"ramda:0\")\n",
    "\n",
    "G_z = sess.graph.get_tensor_by_name(\"G_z:0\")\n",
    "query_z = sess.graph.get_tensor_by_name(\"query_z:0\")\n",
    "\n",
    "\n",
    "feature_u = sess.graph.get_tensor_by_name('feature_y:0')\n",
    "feature_z = sess.graph.get_tensor_by_name('feature_z:0')\n",
    "\n",
    "D_real_loss = sess.graph.get_tensor_by_name('D_real_loss:0')\n",
    "D_fake_loss = sess.graph.get_tensor_by_name('D_fake_loss:0')\n",
    "\n",
    "D_loss = sess.graph.get_tensor_by_name(\"D_loss:0\")\n",
    "G_loss = sess.graph.get_tensor_by_name(\"G_loss:0\")\n",
    "\n",
    "residual_loss = sess.graph.get_tensor_by_name(\"residual_loss:0\")\n",
    "feature_loss = sess.graph.get_tensor_by_name(\"feature_loss:0\")\n",
    "discrimination_loss = sess.graph.get_tensor_by_name(\"discrimination_loss:0\")\n",
    "mapping_loss = sess.graph.get_tensor_by_name(\"mapping_loss:0\")\n",
    "\n",
    "D_optim = sess.graph.get_operation_by_name(\"D_optim\")\n",
    "G_optim = sess.graph.get_operation_by_name(\"G_optim\")\n",
    "\n",
    "grad_z =  sess.graph.get_tensor_by_name(\"grad_z/G_1/conv2d_transpose/conv2d_transpose_grad/Conv2D:0\")\n",
    "\n",
    "\n"
   ]
  },
  {
   "cell_type": "markdown",
   "metadata": {},
   "source": [
    "## detect"
   ]
  },
  {
   "cell_type": "code",
   "execution_count": 20,
   "metadata": {},
   "outputs": [
    {
     "data": {
      "image/png": "[encoded data removed]",
      "text/plain": [
       "<matplotlib.figure.Figure at 0x7f1b3db0bcc0>"
      ]
     },
     "metadata": {},
     "output_type": "display_data"
    },
    {
     "data": {
      "image/png": "[encoded data removed]",
      "text/plain": [
       "<matplotlib.figure.Figure at 0x7f1cff6fb048>"
      ]
     },
     "metadata": {},
     "output_type": "display_data"
    },
    {
     "data": {
      "image/png": "[encoded data removed]",
      "text/plain": [
       "<matplotlib.figure.Figure at 0x7f1b3d9fbdd8>"
      ]
     },
     "metadata": {},
     "output_type": "display_data"
    },
    {
     "name": "stdout",
     "output_type": "stream",
     "text": [
      "[ 1.44662654] [ 11.46157074] [ 0.33385485]\n",
      "[ 1.44662654] [ 11.46157074] [ 0.33385488] [[[ 0.04180374]]]\n",
      "[ 1.23841023] [ 9.61229134] [ 0.30797893] [[[ 0.0367113]]]\n",
      "[ 1.1491183] [ 8.85120392] [ 0.29333103] [[[ 0.03180666]]]\n",
      "[ 1.06693256] [ 8.18992043] [ 0.27548945] [[[ 0.02617701]]]\n",
      "[ 0.91121] [ 7.00673485] [ 0.23392941] [[[ 0.02517352]]]\n",
      "[ 0.78209841] [ 6.05784416] [ 0.19590445] [[[ 0.02455593]]]\n",
      "[ 0.51196396] [ 4.11858368] [ 0.11122844] [[[ 0.01644699]]]\n",
      "[ 0.37749243] [ 3.03141165] [ 0.08261248] [[[ 0.01547991]]]\n",
      "[ 0.34342867] [ 2.77156854] [ 0.07363533] [[[ 0.01557308]]]\n",
      "[ 0.32805443] [ 2.66252947] [ 0.06866828] [[[ 0.01553694]]]\n"
     ]
    },
    {
     "data": {
      "image/png": "[encoded data removed]",
      "text/plain": [
       "<matplotlib.figure.Figure at 0x7f1cc1ed68d0>"
      ]
     },
     "metadata": {},
     "output_type": "display_data"
    },
    {
     "data": {
      "image/png": "[encoded data removed]",
      "text/plain": [
       "<matplotlib.figure.Figure at 0x7f1cff7087b8>"
      ]
     },
     "metadata": {},
     "output_type": "display_data"
    },
    {
     "data": {
      "image/png": "[encoded data removed]",
      "text/plain": [
       "<matplotlib.figure.Figure at 0x7f1b3e874f60>"
      ]
     },
     "metadata": {},
     "output_type": "display_data"
    },
    {
     "name": "stdout",
     "output_type": "stream",
     "text": [
      "[ 0.3152408] [ 2.57499671] [ 0.06415682] 0.345995232447\n"
     ]
    }
   ],
   "source": [
    "####   여기는 아직 못함\n",
    "test_batch = 1\n",
    "ramda_ = 0.1\n",
    "z_size = 10\n",
    "np.random.seed(1)\n",
    "latent_z_ = np.random.normal(0,1,size=(test_batch,1,1,z_size))\n",
    "####\n",
    "\n",
    "\n",
    "im =  test_normal_data[15]      \n",
    "plt.imshow(np.reshape(im,(64, 64)), cmap='Greys_r')\n",
    "plt.show()\n",
    "    \n",
    "\n",
    "im_fake = sess.run([query_z],{latent_z : latent_z_}) \n",
    "plt.imshow(np.reshape(im_fake,(64, 64)), cmap='Greys_r')\n",
    "plt.show()\n",
    "\n",
    "ano_gap  = np.abs(np.reshape(im_fake,(64, 64)) - np.reshape(im,(64, 64)))\n",
    "plt.imshow(ano_gap, cmap='Greys_r')\n",
    "plt.show()  \n",
    "\n",
    "\n",
    "############################################\n",
    "\n",
    "\n",
    "#latent_z_ = np.random.normal(0,1,size=(test_batch,1,1,z_size))\n",
    "map_loss, fea_loss, res_loss = sess.run([mapping_loss, feature_loss,residual_loss], \n",
    "                                        {test_u : np.reshape(im,(1,64, 64,1)), latent_z : latent_z_, ramda : ramda_ })\n",
    "adam_m = np.zeros((test_batch,1,1,z_size))\n",
    "adam_v = np.zeros((test_batch,1,1,z_size))\n",
    "beta1 = 0.5\n",
    "beta2 = 0.999\n",
    "lr = 0.001\n",
    "beta1_t = beta1\n",
    "beta2_t = beta2\n",
    "\n",
    "print(map_loss, fea_loss, res_loss)\n",
    "\n",
    "for i in range(1000) :\n",
    "     \n",
    "    grad,map_loss, fea_loss, res_loss,dis_loss = sess.run([grad_z,mapping_loss, feature_loss,residual_loss,discrimination_loss],\n",
    "                                                 {test_u : np.reshape(im,(-1,64, 64,1)), latent_z : latent_z_, ramda : ramda_ })\n",
    "    \n",
    "    lr_t = lr*np.sqrt(1-beta2_t)/(1-beta1_t)\n",
    "    adam_m = beta1*adam_m + (1-beta1)*grad\n",
    "    adam_v = beta2*adam_v + (1-beta2)*grad*grad\n",
    "    latent_z_ = latent_z_ - lr*adam_m/(np.sqrt(adam_v)+1e-8)\n",
    "    beta1_t = beta1_t*beta1\n",
    "    beta2_t = beta2_t*beta2\n",
    "    \n",
    "    latent_z_ = np.maximum(-1, latent_z_)\n",
    "    latent_z_ = np.minimum(1,latent_z_)\n",
    "    \n",
    "    \n",
    "    if  i % 100 == 0 : \n",
    "        print(map_loss, fea_loss, res_loss, dis_loss)\n",
    "        \n",
    "###########################################        \n",
    "plt.imshow(np.reshape(im,(64, 64)), cmap='Greys_r')\n",
    "plt.show()\n",
    "    \n",
    "\n",
    "im_fake = sess.run([query_z],{latent_z : latent_z_}) \n",
    "plt.imshow(np.reshape(im_fake,(64,64)), cmap='Greys_r')\n",
    "plt.show()\n",
    "\n",
    "ano_gap  = np.abs(np.reshape(im_fake,(64,64)) - np.reshape(im,(64,64)))\n",
    "plt.imshow(ano_gap, cmap='Greys_r')\n",
    "plt.show()  \n",
    "\n",
    "map_loss, fea_loss, res_loss = sess.run([mapping_loss, feature_loss,residual_loss], \n",
    "                                        {test_u : np.reshape(im,(-1,64,64,1)), latent_z : latent_z_, ramda : ramda_ })\n",
    "\n",
    "\n",
    "print(map_loss, fea_loss, res_loss, np.mean(latent_z_**2 ))"
   ]
  },
  {
   "cell_type": "markdown",
   "metadata": {},
   "source": [
    "\n",
    "0 : [ 0.59240586] [ 4.90967894] [ 0.11270887] 0.378613360638\n",
    "\n",
    "1 : [ 0.28402928] [ 2.36387014] [ 0.05293586] 0.758903205356\n",
    "\n",
    "2 : [ 0.72502923] [ 6.13816738] [ 0.12356941] 1.31454709642\n",
    "\n",
    "4 : [ 1.0371722] [ 8.24159622] [ 0.23668061] 1.13677950926\n",
    "\n",
    "7 : [ 0.87539589] [ 7.32782125] [ 0.15845978] 0.396723060528\n",
    "\n",
    "8 : [ 0.77330983] [ 6.46000051] [ 0.14145525] 0.633122863456\n",
    "\n",
    "9 : [ 0.78346467] [ 6.58478975] [ 0.13887297] 0.330264698341\n"
   ]
  },
  {
   "cell_type": "code",
   "execution_count": 21,
   "metadata": {},
   "outputs": [
    {
     "data": {
      "text/plain": [
       "array([[[[-0.87689411, -0.56311153,  0.87423077,  0.07369916, -0.29161905,\n",
       "          -0.71472453,  0.62661377,  0.43598436, -0.46642887, -0.45612229]]]])"
      ]
     },
     "execution_count": 21,
     "metadata": {},
     "output_type": "execute_result"
    }
   ],
   "source": [
    "latent_z_"
   ]
  },
  {
   "cell_type": "code",
   "execution_count": null,
   "metadata": {},
   "outputs": [],
   "source": [
    "####\n",
    "test_batch = 3\n",
    "np.random.seed(1)\n",
    "latent_z_ = np.random.normal(0,1,size=(test_batch,1,1,z_size))\n",
    "####\n",
    "\n",
    "im = test_anomalous_data[110:113]      \n",
    "\n",
    "\n",
    "############################################\n",
    "\n",
    "ramda_ = 0.1\n",
    "z_size = 100\n",
    "#latent_z_ = np.random.normal(0,1,size=(test_batch,1,1,z_size))\n",
    "map_loss, fea_loss, res_loss = sess.run([mapping_loss, feature_loss,residual_loss], \n",
    "                                        {test_u : np.reshape(im,(-1,64, 64,1)), latent_z : latent_z_, ramda : ramda_ })\n",
    "adam_m = np.zeros((test_batch,1,1,z_size))\n",
    "adam_v = np.zeros((test_batch,1,1,z_size))\n",
    "beta1 = 0.5\n",
    "beta2 = 0.999\n",
    "lr = 0.001\n",
    "beta1_t = beta1\n",
    "beta2_t = beta2\n",
    "\n",
    "print(map_loss, fea_loss, res_loss)\n",
    "\n",
    "for i in range(1000) :\n",
    "     \n",
    "    grad,map_loss, fea_loss, res_loss = sess.run([grad_z,mapping_loss, feature_loss,residual_loss],\n",
    "                                                 {test_u : np.reshape(im,(-1,64, 64,1)), latent_z : latent_z_, ramda : ramda_ })\n",
    "    \n",
    "    lr_t = lr*np.sqrt(1-beta2_t)/(1-beta1_t)\n",
    "    adam_m = beta1*adam_m + (1-beta1)*grad\n",
    "    adam_v = beta2*adam_v + (1-beta2)*grad*grad\n",
    "    latent_z_ = latent_z_ - lr*adam_m/(np.sqrt(adam_v)+1e-8)\n",
    "    beta1_t = beta1_t*beta1\n",
    "    beta2_t = beta2_t*beta2\n",
    "    \n",
    "    if  i % 100 == 0 : \n",
    "        print(map_loss, fea_loss, res_loss)\n",
    "        \n",
    "###########################################        \n",
    "\n",
    "    \n",
    "\n",
    "map_loss, fea_loss, res_loss = sess.run([mapping_loss, feature_loss,residual_loss], \n",
    "                                        {test_u : np.reshape(im,(-1,64, 64,1)), latent_z : latent_z_, ramda : ramda_ })\n",
    "\n",
    "print('ddd')\n",
    "print(map_loss, fea_loss, res_loss)                   "
   ]
  },
  {
   "cell_type": "code",
   "execution_count": null,
   "metadata": {},
   "outputs": [],
   "source": [
    "grad.shape"
   ]
  },
  {
   "cell_type": "code",
   "execution_count": null,
   "metadata": {},
   "outputs": [],
   "source": [
    "map_loss"
   ]
  },
  {
   "cell_type": "code",
   "execution_count": null,
   "metadata": {},
   "outputs": [],
   "source": [
    "plt.imshow(np.reshape(im[2],(28,28)), cmap='Greys_r')\n",
    "plt.show()                                                                                                                                                                                                                                                                                                                                                                                                                                                                                                                                                                                                                                                                                                                                                                                                                                                                                                                                                                                                                                                                                                                                                                                                                                                                                                                                                                                                                                                                                                                                                                                                                                                                                                                                                                                                                                                                                                                                                                                                                                                                                                                                                                                                                                                                                                                                                                                                                                                                                                                                                             "
   ]
  },
  {
   "cell_type": "code",
   "execution_count": null,
   "metadata": {},
   "outputs": [],
   "source": [
    "im_fake = sess.run([query_z],{latent_z : latent_z_[2].reshape(1,1,1,100)}) \n",
    "plt.imshow(np.reshape(im_fake,(28, 28)), cmap='Greys_r')\n",
    "plt.show()"
   ]
  },
  {
   "cell_type": "code",
   "execution_count": null,
   "metadata": {},
   "outputs": [],
   "source": [
    "latent_z_[0].reshape(1,1,1,100).shape"
   ]
  },
  {
   "cell_type": "code",
   "execution_count": null,
   "metadata": {},
   "outputs": [],
   "source": []
  }
 ],
 "metadata": {
  "kernelspec": {
   "display_name": "Python 3",
   "language": "python",
   "name": "python3"
  },
  "language_info": {
   "codemirror_mode": {
    "name": "ipython",
    "version": 3
   },
   "file_extension": ".py",
   "mimetype": "text/x-python",
   "name": "python",
   "nbconvert_exporter": "python",
   "pygments_lexer": "ipython3",
   "version": "3.5.2"
  },
  "toc": {
   "base_numbering": 1,
   "nav_menu": {},
   "number_sections": true,
   "sideBar": true,
   "skip_h1_title": false,
   "title_cell": "Table of Contents",
   "title_sidebar": "Contents",
   "toc_cell": false,
   "toc_position": {},
   "toc_section_display": true,
   "toc_window_display": false
  },
  "varInspector": {
   "cols": {
    "lenName": 16,
    "lenType": 16,
    "lenVar": 40
   },
   "kernels_config": {
    "python": {
     "delete_cmd_postfix": "",
     "delete_cmd_prefix": "del ",
     "library": "var_list.py",
     "varRefreshCmd": "print(var_dic_list())"
    },
    "r": {
     "delete_cmd_postfix": ") ",
     "delete_cmd_prefix": "rm(",
     "library": "var_list.r",
     "varRefreshCmd": "cat(var_dic_list()) "
    }
   },
   "oldHeight": 122,
   "position": {
    "height": "40px",
    "left": "1010px",
    "right": "20px",
    "top": "120px",
    "width": "250px"
   },
   "types_to_exclude": [
    "module",
    "function",
    "builtin_function_or_method",
    "instance",
    "_Feature"
   ],
   "varInspector_section_display": "none",
   "window_display": false
  }
 },
 "nbformat": 4,
 "nbformat_minor": 2
}
