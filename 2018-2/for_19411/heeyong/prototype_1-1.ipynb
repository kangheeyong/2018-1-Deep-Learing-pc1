{
 "cells": [
  {
   "cell_type": "markdown",
   "metadata": {},
   "source": [
    "# add some tips\n",
    "\n",
    "https://medium.com/@utk.is.here/keep-calm-and-train-a-gan-pitfalls-and-tips-on-training-generative-adversarial-networks-edd529764aa9\n",
    "\n",
    "pro 1-1 : one class at mini batch\n",
    "pro 2-1 : n-class at mini batch\n"
   ]
  },
  {
   "cell_type": "code",
   "execution_count": 1,
   "metadata": {
    "code_folding": [
     11,
     25,
     39,
     58
    ]
   },
   "outputs": [],
   "source": [
    "import tensorflow as tf\n",
    "import numpy as np\n",
    "import os\n",
    "import sys\n",
    "import time\n",
    "import time \n",
    "import matplotlib.pyplot as plt\n",
    "import matplotlib.gridspec as gridspec \n",
    "\n",
    "os.environ[\"CUDA_VISIBLE_DEVICES\"]=\"1\"\n",
    "\n",
    "def my_mnist_train_batch(size, number=0) :\n",
    "    m = 500\n",
    "    data = []\n",
    "    for i in range(1000) :\n",
    "        image, label = mnist.train.next_batch(m)       \n",
    "        for j in range(len(label)) : \n",
    "            if np.argmax(label[j])==number :\n",
    "                data.append(image[j])              \n",
    "            if len(data) == size :\n",
    "                break\n",
    "        if len(data) == size :\n",
    "            break\n",
    "    return data\n",
    "\n",
    "def my_mnist_test_batch(size, number = 0) :\n",
    "    m = 500\n",
    "    data = []\n",
    "    for i in range(1000) :\n",
    "        image, label = mnist.test.next_batch(m)       \n",
    "        for j in range(len(label)) : \n",
    "            if np.argmax(label[j])==number :\n",
    "                data.append(image[j])              \n",
    "            if len(data) == size :\n",
    "                break\n",
    "        if len(data) == size :\n",
    "            break\n",
    "    return data\n",
    "\n",
    "def mnist_4by4_save(samples,path):\n",
    "    fig = plt.figure(figsize=(4, 4))\n",
    "    gs = gridspec.GridSpec(4, 4)    \n",
    "    gs.update(wspace=0.05, hspace=0.05) #이미지 사이간격 조절\n",
    "  \n",
    "    for i, sample in enumerate(samples):\n",
    "        ax = plt.subplot(gs[i])\n",
    "        plt.axis('off')    \n",
    "        ax.set_xticklabels([])\n",
    "        ax.set_yticklabels([])\n",
    "        ax.set_aspect('equal')\n",
    "   \n",
    "        plt.imshow(sample.reshape(28, 28), cmap='Greys_r',clim=(0.0,1.0))\n",
    "    plt.colorbar()\n",
    "    plt.savefig(path, bbox_inches='tight')\n",
    "    plt.close(fig)\n",
    "   \n",
    "    return None\n",
    "\n",
    "def gan_loss_graph_save(G_loss,D_loss,path):\n",
    "    x1 = range(len(G_loss))\n",
    "    x2 = range(len(D_loss))\n",
    "      \n",
    "    y1 = G_loss\n",
    "    y2 = D_loss\n",
    "  \n",
    "      \n",
    "    plt.plot(x1,y1,label='G_loss') \n",
    "    plt.plot(x2,y2,label='D_loss') \n",
    "  \n",
    "    plt.xlabel('weight per update')\n",
    "    plt.ylabel('loss')             \n",
    "    plt.legend(loc=4)              \n",
    "    plt.grid(True)\n",
    "    plt.tight_layout()\n",
    "  \n",
    "    plt.savefig(path)              \n",
    "\n",
    "    return None\n"
   ]
  },
  {
   "cell_type": "code",
   "execution_count": 2,
   "metadata": {
    "code_folding": []
   },
   "outputs": [
    {
     "name": "stdout",
     "output_type": "stream",
     "text": [
      "Extracting ../MNIST_data/train-images-idx3-ubyte.gz\n",
      "Extracting ../MNIST_data/train-labels-idx1-ubyte.gz\n",
      "Extracting ../MNIST_data/t10k-images-idx3-ubyte.gz\n",
      "Extracting ../MNIST_data/t10k-labels-idx1-ubyte.gz\n"
     ]
    }
   ],
   "source": [
    "from tensorflow.examples.tutorials.mnist import input_data\n",
    "mnist = input_data.read_data_sets(\"../MNIST_data\", one_hot=True)\n",
    "\n",
    "file_name = 'proto_1-1'\n",
    "\n",
    "if not os.path.isdir(file_name) :\n",
    "    os.mkdir(file_name)\n",
    "def simple_G(x,isTrain = True, reuse = False, name = 'G_out') : #input = (minibatch * w * h * ch)\n",
    "    \n",
    "    # out size = (in size + 2*padding - kenel)/strides + 1    \n",
    "    w_init = tf.truncated_normal_initializer(mean= 0.0, stddev=0.02)\n",
    "    b_init = tf.constant_initializer(0.0)\n",
    "\n",
    "\n",
    "    with tf.variable_scope('G',reuse=reuse) :\n",
    "        \n",
    "        #x = (-1, 1, 1, 100)\n",
    "\n",
    "\n",
    "        conv1 = tf.layers.conv2d_transpose(x,2048,[4,4], strides=(1,1),padding = 'valid',\n",
    "                kernel_initializer=w_init, bias_initializer=b_init) \n",
    "        r1 = tf.nn.elu(tf.layers.batch_normalization(conv1,training=isTrain))#1024*4*4\n",
    "        \n",
    "        conv2 = tf.layers.conv2d_transpose(r1,1024,[4,4], strides=(2,2),padding = 'same',\n",
    "                kernel_initializer=w_init, bias_initializer=b_init)\n",
    "        r2 = tf.nn.elu(tf.layers.batch_normalization(conv2,training=isTrain))#512*8*8\n",
    "                \n",
    "        conv3 = tf.layers.conv2d_transpose(r2,512,[4,4], strides=(2,2),padding = 'same',\n",
    "                kernel_initializer=w_init, bias_initializer=b_init)\n",
    "        r3 = tf.nn.elu(tf.layers.batch_normalization(conv3,training=isTrain))#256*16*16\n",
    "\n",
    "        conv4 = tf.layers.conv2d_transpose(r3,256,[4,4], strides=(2,2),padding = 'same',\n",
    "                kernel_initializer=w_init, bias_initializer=b_init)\n",
    "        r4 = tf.nn.elu(tf.layers.batch_normalization(conv4,training=isTrain))#128*32*32\n",
    "\n",
    "        conv5 = tf.layers.conv2d(r4,128,[3,3], strides=(1,1),padding = 'valid',\n",
    "                kernel_initializer=w_init, bias_initializer=b_init)\n",
    "        r5 = tf.nn.elu(tf.layers.batch_normalization(conv5,training=isTrain))#64*30*30\n",
    "\n",
    "        conv6 = tf.layers.conv2d(r5,1,[3,3], strides=(1,1),padding = 'valid',\n",
    "                kernel_initializer=w_init, bias_initializer=b_init)\n",
    "    r6 = tf.nn.sigmoid(conv6,name=name)#1*28*28\n",
    "  \n",
    "\n",
    "    return r6\n",
    "def residual_loss_G(x,isTrain = False, reuse = True, name = 'residual_loss_out') : #input = (minibatch * w * h * ch)\n",
    "    \n",
    "    # out size = (in size + 2*padding - kenel)/strides + 1    \n",
    "\n",
    "\n",
    "    with tf.variable_scope('G',reuse=reuse) as scope :\n",
    "        scope.reuse_variables()\n",
    "        #x = (-1, 1, 1, 100)\n",
    "\n",
    "\n",
    "        conv1 = tf.layers.conv2d_transpose(x,2048,[4,4], strides=(1,1),padding = 'valid')\n",
    "        r1 = tf.nn.elu(tf.layers.batch_normalization(conv1,training=isTrain))#1024*4*4\n",
    "        \n",
    "        conv2 = tf.layers.conv2d_transpose(r1,1024,[4,4], strides=(2,2),padding = 'same')\n",
    "        r2 = tf.nn.elu(tf.layers.batch_normalization(conv2,training=isTrain))#512*8*8\n",
    "                \n",
    "        conv3 = tf.layers.conv2d_transpose(r2,512,[4,4], strides=(2,2),padding = 'same')\n",
    "        r3 = tf.nn.elu(tf.layers.batch_normalization(conv3,training=isTrain))#256*16*16\n",
    "\n",
    "        conv4 = tf.layers.conv2d_transpose(r3,256,[4,4], strides=(2,2),padding = 'same')\n",
    "        r4 = tf.nn.elu(tf.layers.batch_normalization(conv4,training=isTrain))#128*32*32\n",
    "\n",
    "        conv5 = tf.layers.conv2d(r4,128,[3,3], strides=(1,1),padding = 'valid')\n",
    "        r5 = tf.nn.elu(tf.layers.batch_normalization(conv5,training=isTrain))#64*30*30\n",
    "\n",
    "        conv6 = tf.layers.conv2d(r5,1,[3,3], strides=(1,1),padding = 'valid')\n",
    "    r6 = tf.nn.sigmoid(conv6,name=name)#1*28*28\n",
    "  \n",
    "\n",
    "    return r6\n",
    "def simple_D(x,isTrain=True,reuse = False) :\n",
    "    \n",
    "    w_init = tf.truncated_normal_initializer(mean= 0.0, stddev=0.02)\n",
    "    b_init = tf.constant_initializer(0.0)\n",
    "    with tf.variable_scope('D', reuse=reuse) :\n",
    "        \n",
    "        #x = (-1,28,28,1)\n",
    "\n",
    "\n",
    "        conv1 = tf.layers.conv2d(x,128,[5,5], strides=(1,1),padding = 'valid',\n",
    "                                kernel_initializer=w_init, bias_initializer=b_init) \n",
    "        r1 = tf.nn.elu(tf.layers.batch_normalization(conv1,training=isTrain))#64*24*24\n",
    "\n",
    "   \n",
    "        conv2 = tf.layers.conv2d(r1,256,[5,5], strides=(1,1),padding = 'valid',\n",
    "                                kernel_initializer=w_init, bias_initializer=b_init)\n",
    "        r2 = tf.nn.elu(tf.layers.batch_normalization(conv2,training=isTrain))#128*20*20\n",
    "\n",
    "  \n",
    "        conv3 = tf.layers.conv2d(r2,512,[5,5], strides=(1,1),padding = 'valid',\n",
    "                                kernel_initializer=w_init, bias_initializer=b_init)\n",
    "        r3 = tf.nn.elu(tf.layers.batch_normalization(conv3,training=isTrain))#256*16*16\n",
    "\n",
    " \n",
    "        conv4 = tf.layers.conv2d(r3,1024,[4,4], strides=(2,2),padding = 'same',\n",
    "                                kernel_initializer=w_init, bias_initializer=b_init)\n",
    "        r4 = tf.nn.elu(tf.layers.batch_normalization(conv4,training=isTrain))#512*8*8\n",
    "\n",
    "\n",
    "        conv5 = tf.layers.conv2d(r4,2048,[4,4], strides=(2,2),padding = 'same',\n",
    "                                kernel_initializer=w_init, bias_initializer=b_init)\n",
    "        r5 = tf.nn.elu(tf.layers.batch_normalization(conv5,training=isTrain))#1024*4*4\n",
    "\n",
    "       \n",
    "        conv6 = tf.layers.conv2d(r5,1,[4,4], strides=(1,1),padding = 'valid',\n",
    "                                kernel_initializer=w_init, bias_initializer=b_init)\n",
    "    r6 = tf.nn.sigmoid(conv6)#1*1*1\n",
    "\n",
    "\n",
    "    return r6\n",
    "def feature_extractor_D(x,isTrain=False,reuse = True, name='feature_out') :\n",
    "    \n",
    "    with tf.variable_scope('D', reuse=reuse) as scope :\n",
    "        scope.reuse_variables()\n",
    "        #x = (-1,28,28,1)\n",
    "\n",
    "        conv1 = tf.layers.conv2d(x,128,[5,5], strides=(1,1),padding = 'valid')\n",
    "        r1 = tf.nn.elu(tf.layers.batch_normalization(conv1,training=isTrain))#64*24*24\n",
    "\n",
    "   \n",
    "        conv2 = tf.layers.conv2d(r1,256,[5,5], strides=(1,1),padding = 'valid')\n",
    "        r2 = tf.nn.elu(tf.layers.batch_normalization(conv2,training=isTrain))#128*20*20\n",
    "\n",
    "  \n",
    "        conv3 = tf.layers.conv2d(r2,512,[5,5], strides=(1,1),padding = 'valid')\n",
    "    r3 = tf.nn.elu(tf.layers.batch_normalization(conv3,training=isTrain),name = name)#256*16*16\n",
    "\n",
    " \n",
    "        #conv4 = tf.layers.conv2d(r3,1024,[4,4], strides=(2,2),padding = 'same')\n",
    "        #r4 = tf.nn.lrelu(tf.layers.batch_normalization(conv4,training=isTrain),0.2)#512*8*8\n",
    "\n",
    "\n",
    "        #conv5 = tf.layers.conv2d(r4,2048,[4,4], strides=(2,2),padding = 'same')\n",
    "        #r5 = tf.nn.lrelu(tf.layers.batch_normalization(conv5,training=isTrain),0.2)#1024*4*4\n",
    "\n",
    "\n",
    "    return r3\n",
    "\n",
    "\n"
   ]
  },
  {
   "cell_type": "code",
   "execution_count": null,
   "metadata": {},
   "outputs": [],
   "source": [
    "lr = 0.001\n",
    "\n",
    "z_size = 100\n",
    "\n",
    "z = tf.placeholder(tf.float32,shape=(None,1,1,z_size),name = 'z')    \n",
    "u = tf.placeholder(tf.float32, shape = (None, 28,28,1),name='u')\n",
    "ano_y = tf.placeholder(tf.float32, shape = (1, 28,28,1),name='ano_y')\n",
    "\n",
    "ano_z = tf.get_variable('ano_z', shape = [1, 1, 1, z_size], dtype = tf.float32, \n",
    "        initializer = tf.random_uniform_initializer(minval=-1, maxval=1, dtype=tf.float32))\n",
    "\n",
    "isTrain = tf.placeholder(dtype=tf.bool,name='isTrain') \n",
    "soft_one = tf.placeholder(tf.float32, shape = (None, 1,1,1),name='soft_one') # 0.9~1.0\n",
    "\n",
    "G_z = simple_G(z,name='G_z')\n",
    "\n",
    "D_real = simple_D(u,isTrain)\n",
    "D_fake = simple_D(G_z,isTrain,reuse=True)\n",
    "\n",
    "\n",
    "img_z = residual_loss_G(ano_z, name ='img_z')\n",
    "\n",
    "feature_y = feature_extractor_D(ano_y, reuse = True, name ='feature_y')\n",
    "feature_z = feature_extractor_D(img_z, reuse = True, name ='feature_z')\n",
    "\n",
    "\n",
    "feature_loss = tf.reduce_mean(tf.abs(feature_y-feature_z),name = 'feature_loss')\n",
    "D_real_loss = tf.reduce_mean(-(soft_one*tf.log(D_real + 1e-8) + (1-soft_one)*tf.log(1- D_real + 1e-8)),name = 'D_real_loss')\n",
    "D_fake_loss = tf.reduce_mean(-((1-soft_one)*tf.log(D_fake + 1e-8) + soft_one*tf.log(1 - D_fake + 1e-8)),name = 'D_fake_loss')\n",
    "\n",
    "\n",
    "D_loss =  tf.add(D_real_loss,D_fake_loss,name='D_loss')\n",
    "G_loss =  tf.reduce_mean(-tf.log(D_fake + 1e-8),name='G_loss')\n",
    "residual_loss = tf.reduce_mean(tf.abs(img_z - ano_y), name = 'residual_loss')\n",
    "\n",
    "T_vars = tf.trainable_variables()\n",
    "D_vars = [var for var in T_vars if var.name.startswith('D')]\n",
    "G_vars = [var for var in T_vars if var.name.startswith('G')]\n",
    "ano_vars = [var for var in T_vars if var.name.startswith('ano')]\n",
    "    # When using the batchnormalization layers,\n",
    "    # it is necessary to manually add the update operations\n",
    "    # because the moving averages are not included in the graph\n",
    "\n",
    "with tf.control_dependencies(tf.get_collection(tf.GraphKeys.UPDATE_OPS)) :        \n",
    "    D_optim = tf.train.AdamOptimizer(0.001,beta1=0.5).minimize(D_loss, var_list=D_vars, name='D_optim') \n",
    "    G_optim = tf.train.AdamOptimizer(0.001,beta1=0.5).minimize(G_loss, var_list=G_vars, name='G_optim')\n",
    "    \n",
    "residual_optim = tf.train.AdamOptimizer(0.001,beta1=0.5).minimize(residual_loss, var_list=ano_vars, name='residual_optim')\n"
   ]
  },
  {
   "cell_type": "code",
   "execution_count": null,
   "metadata": {},
   "outputs": [],
   "source": [
    "with tf.Session(config=tf.ConfigProto(gpu_options=tf.GPUOptions(allow_growth=True))) as sess :\n",
    "    sess.run(tf.global_variables_initializer())\n",
    "\n",
    "    np.random.seed(int(time.time()))\n",
    "\n",
    "    test_z = np.random.normal(0,1,size=(16,1,1,z_size))\n",
    "\n",
    "    \n",
    "    log_txt = open(file_name +'/log.txt','w')\n",
    "\n",
    "    hist_G = []\n",
    "    hist_D = []\n",
    "    G_error = []\n",
    "    D_error = []\n",
    "    D_fake_error = []\n",
    "    D_real_error = []\n",
    "    \n",
    "    start = time.time()\n",
    "    for i in range(10000) :\n",
    "        number = np.random.randint(5)\n",
    "        train_images = my_mnist_train_batch(100,number) \n",
    "        u_ = np.reshape(train_images,(-1,28,28,1)) \n",
    "        z_ = np.random.normal(0,1,size=(100,1,1,z_size))\n",
    "        soft_one_ = np.random.uniform(0.9,1.0,(100,1,1,1))\n",
    "\n",
    "        _ , D_e,D_real_e,D_fake_e = sess.run([D_optim, D_loss,D_real_loss,D_fake_loss], {u : u_, z : z_, isTrain : True,soft_one : soft_one_})\n",
    "        D_error.append(D_e)\n",
    "        D_real_error.append(D_real_e)\n",
    "        D_fake_error.append(D_fake_e)\n",
    "\n",
    "\n",
    "    #    train_images,train_labels = mnist.train.next_batch(100)    \n",
    "    #    u_ = np.reshape(train_images,(-1,28,28,1)) \n",
    "    #    z_ = np.random.normal(0,1,size=(100,1,1,100))\n",
    "   \n",
    "        _ , G_e = sess.run([G_optim, G_loss], {u : u_, z : z_, isTrain : True}) \n",
    "        G_error.append(G_e)\n",
    "        \n",
    "        if i%100 == 0:\n",
    "\n",
    "            hist_D.append(np.mean(D_error)) \n",
    "            hist_G.append(np.mean(G_error))\n",
    "\n",
    "            print('D_e : %.6f, D_real_e : %.6f, D_fake_e : %.6f, G_e : %.6f'%(np.mean(D_error), np.mean(D_real_error),\n",
    "                np.mean(D_fake_error), np.mean(G_error)))\n",
    "            log_txt.write('D_e : %.6f, D_real_e : %.6f, D_fake_e : %.6f, G_e : %.6f\\n'%(np.mean(D_error),\n",
    "                np.mean(D_real_error), np.mean(D_fake_error), np.mean(G_error)))\n",
    "      \n",
    "            r = sess.run([G_z],feed_dict={z : test_z, isTrain : False})        \n",
    "            mnist_4by4_save(np.reshape(r,(-1,784)),file_name + '/result_{}.png'.format(str(i).zfill(3)))\n",
    "\n",
    "            np.random.seed(int(time.time()))\n",
    "\n",
    "            G_errer = []\n",
    "            D_errer = []\n",
    "            D_fake_error = []\n",
    "            D_real_error = []\n",
    "\n",
    "\n",
    "    log_txt.close()\n",
    "    gan_loss_graph_save(G_loss = hist_G,D_loss=hist_D,path = file_name + '/loss_graph.png')   \n",
    "    saver = tf.train.Saver()\n",
    "    saver.save(sess,file_name + '/para.cktp')\n",
    "\n",
    "    end = time.time()-start\n",
    "\n",
    "    print(\"total time : \",end)"
   ]
  },
  {
   "cell_type": "code",
   "execution_count": 4,
   "metadata": {},
   "outputs": [
    {
     "name": "stdout",
     "output_type": "stream",
     "text": [
      "INFO:tensorflow:Restoring parameters from proto_1-1/para.cktp\n"
     ]
    }
   ],
   "source": [
    "\n",
    "\n",
    "if not os.path.isdir(file_name) :\n",
    "    os.mkdir(file_name)\n",
    "\n",
    "    \n",
    "sess = tf.InteractiveSession()\n",
    "    \n",
    "new_saver = tf.train.import_meta_graph(file_name + '/para.cktp.meta')\n",
    "new_saver.restore(sess, tf.train.latest_checkpoint(file_name + '/'))\n",
    "\n",
    "\n",
    "z = sess.graph.get_tensor_by_name(\"z:0\")\n",
    "u = sess.graph.get_tensor_by_name(\"u:0\")\n",
    "\n",
    "ano_y = sess.graph.get_tensor_by_name(\"ano_y:0\")\n",
    "ano_z = sess.graph.get_tensor_by_name(\"ano_z:0\")\n",
    "\n",
    "isTrain = sess.graph.get_tensor_by_name(\"isTrain:0\")\n",
    "\n",
    "    \n",
    "G_z = sess.graph.get_tensor_by_name(\"G/G_z:0\")\n",
    "img_z = sess.graph.get_tensor_by_name(\"G_1/img_z:0\")\n",
    "\n",
    "\n",
    "feature_loss = sess.graph.get_tensor_by_name(\"feature_loss:0\")\n",
    "D_real_loss = sess.graph.get_tensor_by_name('D_real_loss:0')\n",
    "D_fake_loss = sess.graph.get_tensor_by_name('D_fake_loss:0')\n",
    "\n",
    "D_loss = sess.graph.get_tensor_by_name(\"D_loss:0\")\n",
    "G_loss = sess.graph.get_tensor_by_name(\"G_loss:0\")\n",
    "residual_loss = sess.graph.get_tensor_by_name(\"residual_loss:0\")\n",
    "\n",
    "\n",
    "D_optim = sess.graph.get_operation_by_name(\"D_optim\")\n",
    "G_optim = sess.graph.get_operation_by_name(\"G_optim\")\n",
    "\n",
    "residual_optim = sess.graph.get_operation_by_name(\"residual_optim\")\n",
    "\n",
    "\n",
    "\n"
   ]
  },
  {
   "cell_type": "code",
   "execution_count": 5,
   "metadata": {},
   "outputs": [],
   "source": [
    "im = my_mnist_test_batch(1, number = 7) "
   ]
  },
  {
   "cell_type": "code",
   "execution_count": 6,
   "metadata": {},
   "outputs": [
    {
     "data": {
      "image/png": "[encoded data removed]",
      "text/plain": [
       "<matplotlib.figure.Figure at 0x7f166b4360b8>"
      ]
     },
     "metadata": {},
     "output_type": "display_data"
    },
    {
     "data": {
      "image/png": "[encoded data removed]",
      "text/plain": [
       "<matplotlib.figure.Figure at 0x7f166abf3fd0>"
      ]
     },
     "metadata": {},
     "output_type": "display_data"
    },
    {
     "data": {
      "image/png": "[encoded data removed]",
      "text/plain": [
       "<matplotlib.figure.Figure at 0x7f1662ab6b70>"
      ]
     },
     "metadata": {},
     "output_type": "display_data"
    },
    {
     "name": "stdout",
     "output_type": "stream",
     "text": [
      "0.530916 0.16166\n"
     ]
    }
   ],
   "source": [
    " \n",
    "plt.imshow(np.reshape(im,(28, 28)), cmap='Greys_r')\n",
    "plt.show()\n",
    "    \n",
    "\n",
    "im_fake = sess.run([img_z]) \n",
    "plt.imshow(np.reshape(im_fake,(28, 28)), cmap='Greys_r')\n",
    "plt.show()\n",
    "\n",
    "ano_gap  = np.abs(np.reshape(im_fake,(28, 28)) - np.reshape(im,(28, 28)))\n",
    "plt.imshow(ano_gap, cmap='Greys_r')\n",
    "plt.show()  \n",
    "\n",
    "fea_loss, res_loss = sess.run([feature_loss,residual_loss], {ano_y : np.reshape(im,(1,28, 28,1))})\n",
    "\n",
    "print(fea_loss, res_loss)"
   ]
  },
  {
   "cell_type": "code",
   "execution_count": 7,
   "metadata": {},
   "outputs": [
    {
     "name": "stdout",
     "output_type": "stream",
     "text": [
      "0.16166\n",
      "0.0965822\n",
      "0.091226\n",
      "0.0896878\n",
      "0.0874885\n",
      "0.0866887\n",
      "0.0860575\n",
      "0.0855462\n",
      "0.085133\n",
      "0.0847297\n",
      "0.0842326\n",
      "0.0836325\n",
      "0.0829216\n",
      "0.0821818\n",
      "0.0815322\n",
      "0.0807741\n",
      "0.079712\n",
      "0.0776988\n",
      "0.0765512\n",
      "0.0754161\n",
      "0.0741482\n",
      "0.0726955\n",
      "0.0714723\n",
      "0.0703705\n",
      "0.0696522\n",
      "0.069086\n",
      "0.0686306\n",
      "0.0681147\n",
      "0.0677445\n",
      "0.0673772\n",
      "0.0669941\n",
      "0.066565\n",
      "0.0662269\n",
      "0.0658368\n",
      "0.0655105\n",
      "0.0652552\n",
      "0.0649374\n",
      "0.0645448\n",
      "0.0642459\n",
      "0.0638008\n",
      "0.0634529\n",
      "0.0633299\n",
      "0.0630773\n",
      "0.062874\n",
      "0.0627109\n",
      "0.0625673\n",
      "0.0624347\n",
      "0.0623359\n",
      "0.0622362\n",
      "0.0621202\n"
     ]
    }
   ],
   "source": [
    "for i in range(5000) :\n",
    "    _ , loss = sess.run([residual_optim,residual_loss], {ano_y : np.reshape(im,(1,28, 28,1))})\n",
    "    if  i % 100 == 0 : \n",
    "        print(loss)"
   ]
  },
  {
   "cell_type": "code",
   "execution_count": 8,
   "metadata": {},
   "outputs": [
    {
     "data": {
      "image/png": "[encoded data removed]",
      "text/plain": [
       "<matplotlib.figure.Figure at 0x7f17100c4c50>"
      ]
     },
     "metadata": {},
     "output_type": "display_data"
    },
    {
     "data": {
      "image/png": "[encoded data removed]",
      "text/plain": [
       "<matplotlib.figure.Figure at 0x7f16606191d0>"
      ]
     },
     "metadata": {},
     "output_type": "display_data"
    },
    {
     "data": {
      "image/png": "[encoded data removed]",
      "text/plain": [
       "<matplotlib.figure.Figure at 0x7f16603f8e48>"
      ]
     },
     "metadata": {},
     "output_type": "display_data"
    },
    {
     "name": "stdout",
     "output_type": "stream",
     "text": [
      "0.334227 0.062027\n"
     ]
    }
   ],
   "source": [
    "plt.imshow(np.reshape(im,(28, 28)), cmap='Greys_r')\n",
    "plt.show()\n",
    "    \n",
    "\n",
    "im_fake = sess.run([img_z]) \n",
    "plt.imshow(np.reshape(im_fake,(28, 28)), cmap='Greys_r')\n",
    "plt.show()\n",
    "\n",
    "ano_gap  = np.abs(np.reshape(im_fake,(28, 28)) - np.reshape(im,(28, 28)))\n",
    "plt.imshow(ano_gap, cmap='Greys_r')\n",
    "plt.show()  \n",
    "\n",
    "fea_loss, res_loss = sess.run([feature_loss,residual_loss], {ano_y : np.reshape(im,(1,28, 28,1))})\n",
    "\n",
    "print(fea_loss, res_loss)"
   ]
  },
  {
   "cell_type": "code",
   "execution_count": null,
   "metadata": {},
   "outputs": [],
   "source": []
  },
  {
   "cell_type": "code",
   "execution_count": 9,
   "metadata": {},
   "outputs": [
    {
     "name": "stdout",
     "output_type": "stream",
     "text": [
      "INFO:tensorflow:Restoring parameters from proto_1-1/para.cktp\n"
     ]
    }
   ],
   "source": [
    "\n",
    "\n",
    "if not os.path.isdir(file_name) :\n",
    "    os.mkdir(file_name)\n",
    "\n",
    "    \n",
    "sess = tf.InteractiveSession()\n",
    "    \n",
    "new_saver = tf.train.import_meta_graph(file_name + '/para.cktp.meta')\n",
    "new_saver.restore(sess, tf.train.latest_checkpoint(file_name + '/'))\n",
    "\n",
    "\n",
    "z = sess.graph.get_tensor_by_name(\"z:0\")\n",
    "u = sess.graph.get_tensor_by_name(\"u:0\")\n",
    "\n",
    "ano_y = sess.graph.get_tensor_by_name(\"ano_y:0\")\n",
    "ano_z = sess.graph.get_tensor_by_name(\"ano_z:0\")\n",
    "\n",
    "isTrain = sess.graph.get_tensor_by_name(\"isTrain:0\")\n",
    "\n",
    "    \n",
    "G_z = sess.graph.get_tensor_by_name(\"G/G_z:0\")\n",
    "img_z = sess.graph.get_tensor_by_name(\"G_1/img_z:0\")\n",
    "\n",
    "\n",
    "feature_loss = sess.graph.get_tensor_by_name(\"feature_loss:0\")\n",
    "D_real_loss = sess.graph.get_tensor_by_name('D_real_loss:0')\n",
    "D_fake_loss = sess.graph.get_tensor_by_name('D_fake_loss:0')\n",
    "\n",
    "D_loss = sess.graph.get_tensor_by_name(\"D_loss:0\")\n",
    "G_loss = sess.graph.get_tensor_by_name(\"G_loss:0\")\n",
    "residual_loss = sess.graph.get_tensor_by_name(\"residual_loss:0\")\n",
    "\n",
    "\n",
    "D_optim = sess.graph.get_operation_by_name(\"D_optim\")\n",
    "G_optim = sess.graph.get_operation_by_name(\"G_optim\")\n",
    "\n",
    "residual_optim = sess.graph.get_operation_by_name(\"residual_optim\")\n",
    "\n",
    "\n"
   ]
  },
  {
   "cell_type": "code",
   "execution_count": 10,
   "metadata": {},
   "outputs": [],
   "source": [
    "im = my_mnist_test_batch(1, number = 4) "
   ]
  },
  {
   "cell_type": "code",
   "execution_count": 11,
   "metadata": {},
   "outputs": [
    {
     "data": {
      "image/png": "[encoded data removed]",
      "text/plain": [
       "<matplotlib.figure.Figure at 0x7f17aa672940>"
      ]
     },
     "metadata": {},
     "output_type": "display_data"
    },
    {
     "data": {
      "image/png": "[encoded data removed]",
      "text/plain": [
       "<matplotlib.figure.Figure at 0x7f17a990beb8>"
      ]
     },
     "metadata": {},
     "output_type": "display_data"
    },
    {
     "data": {
      "image/png": "[encoded data removed]",
      "text/plain": [
       "<matplotlib.figure.Figure at 0x7f16629a4ba8>"
      ]
     },
     "metadata": {},
     "output_type": "display_data"
    },
    {
     "name": "stdout",
     "output_type": "stream",
     "text": [
      "0.504236 0.167839\n"
     ]
    }
   ],
   "source": [
    "\n",
    "plt.imshow(np.reshape(im,(28, 28)), cmap='Greys_r')\n",
    "plt.show()\n",
    "    \n",
    "\n",
    "im_fake = sess.run([img_z]) \n",
    "plt.imshow(np.reshape(im_fake,(28, 28)), cmap='Greys_r')\n",
    "plt.show()\n",
    "\n",
    "ano_gap  = np.abs(np.reshape(im_fake,(28, 28)) - np.reshape(im,(28, 28)))\n",
    "plt.imshow(ano_gap, cmap='Greys_r')\n",
    "plt.show()  \n",
    "\n",
    "fea_loss, res_loss = sess.run([feature_loss,residual_loss], {ano_y : np.reshape(im,(1,28, 28,1))})\n",
    "\n",
    "print(fea_loss, res_loss)"
   ]
  },
  {
   "cell_type": "code",
   "execution_count": 12,
   "metadata": {},
   "outputs": [
    {
     "name": "stdout",
     "output_type": "stream",
     "text": [
      "0.167839\n",
      "0.149975\n",
      "0.143186\n",
      "0.139729\n",
      "0.137313\n",
      "0.13605\n",
      "0.135221\n",
      "0.13456\n",
      "0.132549\n",
      "0.131273\n",
      "0.130347\n",
      "0.129641\n",
      "0.128943\n",
      "0.128368\n",
      "0.127719\n",
      "0.127121\n",
      "0.126522\n",
      "0.126036\n",
      "0.125554\n",
      "0.125168\n",
      "0.124775\n",
      "0.124326\n",
      "0.12388\n",
      "0.123352\n",
      "0.122765\n",
      "0.122074\n",
      "0.121389\n",
      "0.120175\n",
      "0.118655\n",
      "0.117371\n",
      "0.116391\n",
      "0.115373\n",
      "0.114278\n",
      "0.113335\n",
      "0.112619\n",
      "0.111962\n",
      "0.11138\n",
      "0.110711\n",
      "0.109742\n",
      "0.108272\n",
      "0.107096\n",
      "0.105994\n",
      "0.104822\n",
      "0.102879\n",
      "0.101631\n",
      "0.100662\n",
      "0.0998223\n",
      "0.0989313\n",
      "0.0980394\n",
      "0.0969657\n"
     ]
    }
   ],
   "source": [
    "for i in range(5000) :\n",
    "    _ , loss = sess.run([residual_optim,residual_loss], {ano_y : np.reshape(im,(1,28, 28,1))})\n",
    "    if  i % 100 == 0 : \n",
    "        print(loss)"
   ]
  },
  {
   "cell_type": "code",
   "execution_count": 13,
   "metadata": {},
   "outputs": [
    {
     "data": {
      "image/png": "[encoded data removed]",
      "text/plain": [
       "<matplotlib.figure.Figure at 0x7f17a9cc78d0>"
      ]
     },
     "metadata": {},
     "output_type": "display_data"
    },
    {
     "data": {
      "image/png": "[encoded data removed]",
      "text/plain": [
       "<matplotlib.figure.Figure at 0x7f17a9102780>"
      ]
     },
     "metadata": {},
     "output_type": "display_data"
    },
    {
     "data": {
      "image/png": "[encoded data removed]",
      "text/plain": [
       "<matplotlib.figure.Figure at 0x7f1631208b00>"
      ]
     },
     "metadata": {},
     "output_type": "display_data"
    },
    {
     "name": "stdout",
     "output_type": "stream",
     "text": [
      "0.388825 0.0958299\n"
     ]
    }
   ],
   "source": [
    "plt.imshow(np.reshape(im,(28, 28)), cmap='Greys_r')\n",
    "plt.show()\n",
    "    \n",
    "\n",
    "im_fake = sess.run([img_z]) \n",
    "plt.imshow(np.reshape(im_fake,(28, 28)), cmap='Greys_r')\n",
    "plt.show()\n",
    "\n",
    "ano_gap  = np.abs(np.reshape(im_fake,(28, 28)) - np.reshape(im,(28, 28)))\n",
    "plt.imshow(ano_gap, cmap='Greys_r')\n",
    "plt.show()  \n",
    "\n",
    "fea_loss, res_loss = sess.run([feature_loss,residual_loss], {ano_y : np.reshape(im,(1,28, 28,1))})\n",
    "\n",
    "print(fea_loss, res_loss)"
   ]
  },
  {
   "cell_type": "code",
   "execution_count": null,
   "metadata": {},
   "outputs": [],
   "source": []
  },
  {
   "cell_type": "code",
   "execution_count": null,
   "metadata": {},
   "outputs": [],
   "source": []
  }
 ],
 "metadata": {
  "kernelspec": {
   "display_name": "Python 3",
   "language": "python",
   "name": "python3"
  },
  "language_info": {
   "codemirror_mode": {
    "name": "ipython",
    "version": 3
   },
   "file_extension": ".py",
   "mimetype": "text/x-python",
   "name": "python",
   "nbconvert_exporter": "python",
   "pygments_lexer": "ipython3",
   "version": "3.5.2"
  },
  "toc": {
   "base_numbering": 1,
   "nav_menu": {},
   "number_sections": true,
   "sideBar": true,
   "skip_h1_title": false,
   "title_cell": "Table of Contents",
   "title_sidebar": "Contents",
   "toc_cell": false,
   "toc_position": {},
   "toc_section_display": true,
   "toc_window_display": true
  },
  "varInspector": {
   "cols": {
    "lenName": 16,
    "lenType": 16,
    "lenVar": 40
   },
   "kernels_config": {
    "python": {
     "delete_cmd_postfix": "",
     "delete_cmd_prefix": "del ",
     "library": "var_list.py",
     "varRefreshCmd": "print(var_dic_list())"
    },
    "r": {
     "delete_cmd_postfix": ") ",
     "delete_cmd_prefix": "rm(",
     "library": "var_list.r",
     "varRefreshCmd": "cat(var_dic_list()) "
    }
   },
   "types_to_exclude": [
    "module",
    "function",
    "builtin_function_or_method",
    "instance",
    "_Feature"
   ],
   "window_display": true
  }
 },
 "nbformat": 4,
 "nbformat_minor": 2
}
