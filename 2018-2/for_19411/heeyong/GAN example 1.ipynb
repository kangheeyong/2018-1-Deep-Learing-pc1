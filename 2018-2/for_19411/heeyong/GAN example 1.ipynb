{
 "cells": [
  {
   "cell_type": "markdown",
   "metadata": {},
   "source": [
    "# GAN example 1"
   ]
  },
  {
   "cell_type": "code",
   "execution_count": 1,
   "metadata": {},
   "outputs": [],
   "source": [
    "import torch\n",
    "import torch.nn as nn\n",
    "import torch.nn.functional as F\n",
    "from torch.autograd import Variable\n",
    "\n",
    "import numpy as np\n",
    "\n",
    "import matplotlib.pyplot as plt\n",
    "%matplotlib inline"
   ]
  },
  {
   "cell_type": "code",
   "execution_count": 2,
   "metadata": {},
   "outputs": [],
   "source": [
    "class Generator(torch.nn.Module):\n",
    "    def __init__(self, input_size, hidden_size, output_size):\n",
    "        super(Generator, self).__init__()\n",
    "        self.map1 = nn.Linear(input_size, hidden_size)\n",
    "        self.map2 = nn.Linear(hidden_size, hidden_size)\n",
    "        self.map3 = nn.Linear(hidden_size, output_size)\n",
    "\n",
    "    def forward(self, x):\n",
    "        h1 = F.elu(self.map1(x))\n",
    "        h2 = F.elu(self.map2(h1))\n",
    "        return self.map3(h2)\n",
    "    \n",
    "class Discriminator(torch.nn.Module):\n",
    "    def __init__(self, input_size, hidden_size, output_size):\n",
    "        super(Discriminator, self).__init__()\n",
    "        self.map1 = nn.Linear(input_size, hidden_size)\n",
    "        self.map2 = nn.Linear(hidden_size, hidden_size)\n",
    "        self.map3 = nn.Linear(hidden_size, output_size)\n",
    "\n",
    "    def forward(self, x):\n",
    "        h1 = F.elu(self.map1(x))\n",
    "        h2 = F.elu(self.map2(h1))\n",
    "        return torch.sigmoid(self.map3(h2))   \n",
    "    \n"
   ]
  },
  {
   "cell_type": "code",
   "execution_count": 3,
   "metadata": {
    "scrolled": true
   },
   "outputs": [],
   "source": [
    "batch_size = 256 # 16개마다 weight update\n",
    "learning_rate = 0.001\n",
    "num_epochs = 5000\n",
    "d_steps = 1\n",
    "g_steps = 1\n",
    "\n",
    "device = torch.device(\"cuda:1\" if torch.cuda.is_available() else \"cpu\")\n",
    "\n",
    "G = Generator(input_size=1, hidden_size=100, output_size = 1)\n",
    "D = Discriminator(input_size=1, hidden_size=100, output_size=1)\n",
    "\n",
    "loss_func = nn.BCELoss() # Binery Cross Entropy\n",
    "\n",
    "G.to(device)\n",
    "D.to(device)\n",
    "\n",
    "\n",
    "# Optimizers\n",
    "optimizer_G = torch.optim.Adam(G.parameters(), lr=learning_rate)\n",
    "optimizer_D = torch.optim.Adam(D.parameters(), lr=learning_rate)\n",
    "\n",
    "\n",
    "valid = Variable(torch.Tensor(batch_size, 1).fill_(1.0), requires_grad=False).to(device)\n",
    "fake = Variable(torch.Tensor(batch_size, 1).fill_(0.0), requires_grad=False).to(device)\n",
    "\n",
    "mu, sigma = 7, 3 # mean and standard deviation\n",
    "input_mu, input_sigma = 0.0, 0.2\n",
    "\n",
    "\n",
    "input_x = np.random.normal(input_mu, input_sigma, (1000,1))\n",
    "\n",
    "\n",
    "x = Variable(torch.Tensor(input_x)).to(device)\n",
    "\n",
    "before_y = G(x).to(\"cpu\").data.numpy()\n",
    "\n",
    "\n"
   ]
  },
  {
   "cell_type": "code",
   "execution_count": 4,
   "metadata": {
    "scrolled": true
   },
   "outputs": [
    {
     "name": "stdout",
     "output_type": "stream",
     "text": [
      "epoch : 1.000000, d_real_error : 0.474370 ,d_fake_error : 0.631085 ,g_error : 0.778616\n",
      "epoch : 101.000000, d_real_error : 0.382890 ,d_fake_error : 1.388946 ,g_error : 0.306350\n",
      "epoch : 201.000000, d_real_error : 0.592245 ,d_fake_error : 0.357558 ,g_error : 1.340146\n",
      "epoch : 301.000000, d_real_error : 1.085403 ,d_fake_error : 0.540530 ,g_error : 0.879331\n",
      "epoch : 401.000000, d_real_error : 0.457408 ,d_fake_error : 0.509301 ,g_error : 0.932008\n",
      "epoch : 501.000000, d_real_error : 0.588308 ,d_fake_error : 1.044108 ,g_error : 0.446896\n",
      "epoch : 601.000000, d_real_error : 0.771643 ,d_fake_error : 0.672223 ,g_error : 0.798356\n",
      "epoch : 701.000000, d_real_error : 0.473021 ,d_fake_error : 0.483357 ,g_error : 1.093585\n",
      "epoch : 801.000000, d_real_error : 0.455211 ,d_fake_error : 0.433445 ,g_error : 1.105274\n",
      "epoch : 901.000000, d_real_error : 0.556928 ,d_fake_error : 0.952065 ,g_error : 1.752551\n",
      "epoch : 1001.000000, d_real_error : 0.477551 ,d_fake_error : 0.430566 ,g_error : 1.033434\n",
      "epoch : 1101.000000, d_real_error : 0.545441 ,d_fake_error : 0.512239 ,g_error : 1.068242\n",
      "epoch : 1201.000000, d_real_error : 0.678343 ,d_fake_error : 0.603173 ,g_error : 0.983398\n",
      "epoch : 1301.000000, d_real_error : 0.559211 ,d_fake_error : 0.655664 ,g_error : 0.886586\n",
      "epoch : 1401.000000, d_real_error : 0.578182 ,d_fake_error : 0.675877 ,g_error : 0.715561\n",
      "epoch : 1501.000000, d_real_error : 0.607685 ,d_fake_error : 0.656183 ,g_error : 0.685358\n",
      "epoch : 1601.000000, d_real_error : 0.619448 ,d_fake_error : 0.651883 ,g_error : 0.698105\n",
      "epoch : 1701.000000, d_real_error : 0.564545 ,d_fake_error : 0.635980 ,g_error : 0.673070\n",
      "epoch : 1801.000000, d_real_error : 0.646621 ,d_fake_error : 0.629865 ,g_error : 0.737880\n",
      "epoch : 1901.000000, d_real_error : 0.646668 ,d_fake_error : 0.617770 ,g_error : 0.831329\n",
      "epoch : 2001.000000, d_real_error : 0.618963 ,d_fake_error : 0.646452 ,g_error : 0.787724\n",
      "epoch : 2101.000000, d_real_error : 0.578745 ,d_fake_error : 0.605919 ,g_error : 0.755641\n",
      "epoch : 2201.000000, d_real_error : 0.579290 ,d_fake_error : 0.607184 ,g_error : 0.713525\n",
      "epoch : 2301.000000, d_real_error : 0.615777 ,d_fake_error : 0.559175 ,g_error : 0.812051\n",
      "epoch : 2401.000000, d_real_error : 0.693472 ,d_fake_error : 0.557853 ,g_error : 0.718118\n",
      "epoch : 2501.000000, d_real_error : 0.501446 ,d_fake_error : 0.655104 ,g_error : 0.692159\n",
      "epoch : 2601.000000, d_real_error : 0.545216 ,d_fake_error : 0.666434 ,g_error : 0.674891\n",
      "epoch : 2701.000000, d_real_error : 0.544718 ,d_fake_error : 0.603782 ,g_error : 0.722658\n",
      "epoch : 2801.000000, d_real_error : 0.644599 ,d_fake_error : 0.577594 ,g_error : 0.839403\n",
      "epoch : 2901.000000, d_real_error : 0.599596 ,d_fake_error : 0.477429 ,g_error : 0.910980\n",
      "epoch : 3001.000000, d_real_error : 0.530123 ,d_fake_error : 0.636875 ,g_error : 0.653941\n",
      "epoch : 3101.000000, d_real_error : 0.566382 ,d_fake_error : 0.585071 ,g_error : 0.733550\n",
      "epoch : 3201.000000, d_real_error : 0.561955 ,d_fake_error : 0.575530 ,g_error : 0.738307\n",
      "epoch : 3301.000000, d_real_error : 0.591007 ,d_fake_error : 0.515919 ,g_error : 0.797646\n",
      "epoch : 3401.000000, d_real_error : 0.568209 ,d_fake_error : 0.479254 ,g_error : 0.878106\n",
      "epoch : 3501.000000, d_real_error : 0.537508 ,d_fake_error : 0.555894 ,g_error : 0.760416\n",
      "epoch : 3601.000000, d_real_error : 0.531618 ,d_fake_error : 0.534598 ,g_error : 0.899725\n",
      "epoch : 3701.000000, d_real_error : 0.574826 ,d_fake_error : 0.487941 ,g_error : 0.850919\n",
      "epoch : 3801.000000, d_real_error : 0.524788 ,d_fake_error : 0.456514 ,g_error : 1.055457\n",
      "epoch : 3901.000000, d_real_error : 0.607117 ,d_fake_error : 0.375487 ,g_error : 1.146272\n",
      "epoch : 4001.000000, d_real_error : 0.615546 ,d_fake_error : 0.477105 ,g_error : 0.915632\n",
      "epoch : 4101.000000, d_real_error : 0.518498 ,d_fake_error : 0.387756 ,g_error : 1.100907\n",
      "epoch : 4201.000000, d_real_error : 0.572049 ,d_fake_error : 0.322017 ,g_error : 1.343056\n",
      "epoch : 4301.000000, d_real_error : 0.426849 ,d_fake_error : 0.366510 ,g_error : 1.312636\n",
      "epoch : 4401.000000, d_real_error : 0.458533 ,d_fake_error : 0.353758 ,g_error : 1.293670\n",
      "epoch : 4501.000000, d_real_error : 0.680174 ,d_fake_error : 0.412847 ,g_error : 1.530603\n",
      "epoch : 4601.000000, d_real_error : 0.849169 ,d_fake_error : 0.739081 ,g_error : 0.593445\n",
      "epoch : 4701.000000, d_real_error : 0.665442 ,d_fake_error : 0.600823 ,g_error : 1.046296\n",
      "epoch : 4801.000000, d_real_error : 0.520415 ,d_fake_error : 0.505536 ,g_error : 0.699935\n",
      "epoch : 4901.000000, d_real_error : 0.716800 ,d_fake_error : 0.550229 ,g_error : 0.809917\n"
     ]
    }
   ],
   "source": [
    "for epoch in range(num_epochs):\n",
    "    for d_index in range(d_steps):\n",
    "        # 1. D를 진짜와 가짜 데이터로 훈련시킨다. \n",
    "        D.zero_grad()\n",
    "\n",
    "        #  1A: 실제 데이터로 D를 훈련시킨다. \n",
    "        d_real_data = Variable(torch.Tensor(np.random.normal(mu, sigma, (batch_size,1)))).to(device)\n",
    "        d_real_decision = D(d_real_data)\n",
    "        d_real_error = loss_func(d_real_decision, valid)  # ones = true\n",
    "        d_real_error.backward() # 마분값을 계산 / 저장하지만, 파라미터를 바꾸지는 않는다. \n",
    "\n",
    "        d_gen_input = Variable(torch.Tensor(np.random.normal(0, 1, (batch_size,1)))).to(device)\n",
    "        d_fake_data = G(d_gen_input).detach()  # G가 훈련할 때 이 라벨들을 피하도록 빼버린다. \n",
    "        d_fake_decision = D(d_fake_data)\n",
    "        d_fake_error = loss_func(d_fake_decision, fake)  # zeros = fake\n",
    "        d_fake_error.backward()\n",
    "        optimizer_D.step()     # 오직 D의 파라미터만 최적화한다. backward()로 게산된 저장된 미분값에 의해 바뀐다.\n",
    "\n",
    "    for g_index in range(g_steps):\n",
    "        # 2. D의 응답을 활용해서 G를 트레이닝 시킨다. (그렇지만 D를 이 라벨로 트레이닝 하지는 않는다. )\n",
    "        G.zero_grad()\n",
    "\n",
    "        gen_input = Variable(torch.Tensor(np.random.normal(input_mu, input_sigma, (batch_size,1)))).to(device)\n",
    "        g_fake_data = G(gen_input)\n",
    "        dg_fake_decision = D(g_fake_data)\n",
    "        g_error = loss_func(dg_fake_decision, valid)  # 우리는 바보를 원하기 떄문에 모든 게 진짜 것 처럼 행동한다.\n",
    "\n",
    "        g_error.backward()\n",
    "        optimizer_G.step()  # 오직 G의 파라미터만 최적화한다. \n",
    "    if(epoch % 100 == 1):\n",
    "        print(\"epoch : %f, d_real_error : %f ,d_fake_error : %f ,g_error : %f\"%(epoch, d_real_error ,d_fake_error ,g_error) )\n",
    "    "
   ]
  },
  {
   "cell_type": "code",
   "execution_count": 5,
   "metadata": {},
   "outputs": [],
   "source": [
    "\n",
    "\n",
    "t = np.arange(-1, 1, 0.001)\n",
    "\n",
    "gen_input = Variable(torch.Tensor(np.resize(t,(np.size(t),1)))).to(device)\n",
    "g_fake_data = G(gen_input).to(\"cpu\").data.numpy()\n",
    "\n",
    "y = t*sigma+mu"
   ]
  },
  {
   "cell_type": "code",
   "execution_count": 6,
   "metadata": {},
   "outputs": [
    {
     "data": {
      "image/png": "[encoded data removed]",
      "text/plain": [
       "<matplotlib.figure.Figure at 0x7fb07643c198>"
      ]
     },
     "metadata": {},
     "output_type": "display_data"
    }
   ],
   "source": [
    "plt.plot(t,g_fake_data,t,y)\n",
    "\n",
    "plt.show()"
   ]
  },
  {
   "cell_type": "markdown",
   "metadata": {},
   "source": [
    "# hostogram exmaple"
   ]
  },
  {
   "cell_type": "code",
   "execution_count": 7,
   "metadata": {},
   "outputs": [
    {
     "data": {
      "image/png": "[encoded data removed]",
      "text/plain": [
       "<matplotlib.figure.Figure at 0x7fb11d8fa4e0>"
      ]
     },
     "metadata": {},
     "output_type": "display_data"
    }
   ],
   "source": [
    "s = np.random.normal(mu, sigma, 1000)\n",
    "count, bins, ignored = plt.hist(s, 30, density=True)\n",
    "plt.plot(bins, 1/(sigma * np.sqrt(2 * np.pi)) *np.exp( - (bins - mu)**2 / (2 * sigma**2) ),linewidth=2, color='r')\n",
    "plt.show()"
   ]
  },
  {
   "cell_type": "markdown",
   "metadata": {},
   "source": [
    "\n",
    "# compare GAN histogram\n"
   ]
  },
  {
   "cell_type": "code",
   "execution_count": 8,
   "metadata": {},
   "outputs": [
    {
     "data": {
      "image/png": "[encoded data removed]",
      "text/plain": [
       "<matplotlib.figure.Figure at 0x7fb0764958d0>"
      ]
     },
     "metadata": {},
     "output_type": "display_data"
    }
   ],
   "source": [
    "\n",
    "#input_x = np.random.normal(input_mu, input_sigma, (1000,1))\n",
    "\n",
    "s = input_x\n",
    "count, bins, ignored = plt.hist(s, 30, density=True)\n",
    "plt.plot(bins, 1/(input_sigma * np.sqrt(2 * np.pi)) *np.exp( - (bins - input_mu)**2 / (2 * input_sigma**2) ),linewidth=2, color='r')\n",
    "plt.show()"
   ]
  },
  {
   "cell_type": "code",
   "execution_count": 11,
   "metadata": {},
   "outputs": [
    {
     "data": {
      "image/png": "[encoded data removed]",
      "text/plain": [
       "<matplotlib.figure.Figure at 0x7fafa8bf4a20>"
      ]
     },
     "metadata": {},
     "output_type": "display_data"
    }
   ],
   "source": [
    "\n",
    "t = np.arange(mu-2*sigma, mu+2*sigma, 0.001)\n",
    "\n",
    "x = Variable(torch.Tensor(input_x)).to(device)\n",
    "\n",
    "y= G(x).to(\"cpu\").data.numpy()\n",
    "\n",
    "s = y\n",
    "count, bins, ignored = plt.hist(s, 30, density=True)\n",
    "plt.plot(t, 1/(sigma * np.sqrt(2 * np.pi)) *np.exp( - (t - mu)**2 / (2 * sigma**2) ),linewidth=2, color='r')\n",
    "plt.show()\n",
    "\n"
   ]
  },
  {
   "cell_type": "code",
   "execution_count": 10,
   "metadata": {},
   "outputs": [
    {
     "data": {
      "image/png": "[encoded data removed]",
      "text/plain": [
       "<matplotlib.figure.Figure at 0x7fb06c07c160>"
      ]
     },
     "metadata": {},
     "output_type": "display_data"
    }
   ],
   "source": [
    "s = before_y\n",
    "count, bins, ignored = plt.hist(s, 30, density=True)\n",
    "#plt.plot(t, 1/(sigma * np.sqrt(2 * np.pi)) *np.exp( - (t - mu)**2 / (2 * sigma**2) ),linewidth=2, color='r')\n",
    "plt.show()\n",
    "\n"
   ]
  },
  {
   "cell_type": "code",
   "execution_count": null,
   "metadata": {},
   "outputs": [],
   "source": []
  },
  {
   "cell_type": "code",
   "execution_count": null,
   "metadata": {},
   "outputs": [],
   "source": []
  },
  {
   "cell_type": "code",
   "execution_count": null,
   "metadata": {},
   "outputs": [],
   "source": []
  }
 ],
 "metadata": {
  "kernelspec": {
   "display_name": "Python 3",
   "language": "python",
   "name": "python3"
  },
  "language_info": {
   "codemirror_mode": {
    "name": "ipython",
    "version": 3
   },
   "file_extension": ".py",
   "mimetype": "text/x-python",
   "name": "python",
   "nbconvert_exporter": "python",
   "pygments_lexer": "ipython3",
   "version": "3.5.2"
  },
  "toc": {
   "base_numbering": 1,
   "nav_menu": {},
   "number_sections": true,
   "sideBar": true,
   "skip_h1_title": false,
   "title_cell": "Table of Contents",
   "title_sidebar": "Contents",
   "toc_cell": false,
   "toc_position": {
    "height": "calc(100% - 180px)",
    "left": "10px",
    "top": "150px",
    "width": "165px"
   },
   "toc_section_display": true,
   "toc_window_display": true
  },
  "varInspector": {
   "cols": {
    "lenName": 16,
    "lenType": 16,
    "lenVar": 40
   },
   "kernels_config": {
    "python": {
     "delete_cmd_postfix": "",
     "delete_cmd_prefix": "del ",
     "library": "var_list.py",
     "varRefreshCmd": "print(var_dic_list())"
    },
    "r": {
     "delete_cmd_postfix": ") ",
     "delete_cmd_prefix": "rm(",
     "library": "var_list.r",
     "varRefreshCmd": "cat(var_dic_list()) "
    }
   },
   "oldHeight": 368,
   "position": {
    "height": "40px",
    "left": "910px",
    "right": "29px",
    "top": "120px",
    "width": "341px"
   },
   "types_to_exclude": [
    "module",
    "function",
    "builtin_function_or_method",
    "instance",
    "_Feature"
   ],
   "varInspector_section_display": "none",
   "window_display": true
  }
 },
 "nbformat": 4,
 "nbformat_minor": 2
}
