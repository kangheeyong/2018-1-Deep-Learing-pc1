{
 "cells": [
  {
   "cell_type": "code",
   "execution_count": 1,
   "metadata": {
    "code_folding": [
     11,
     26,
     40,
     59
    ]
   },
   "outputs": [],
   "source": [
    "import tensorflow as tf\n",
    "import numpy as np\n",
    "import os\n",
    "import sys\n",
    "import time\n",
    "import time \n",
    "import matplotlib.pyplot as plt\n",
    "import matplotlib.gridspec as gridspec \n",
    "\n",
    "os.environ[\"CUDA_VISIBLE_DEVICES\"]=\"0\"\n",
    "\n",
    "def my_mnist_train_batch(size) :\n",
    "    m = 500\n",
    "    data = []\n",
    "    for i in range(1000) :\n",
    "        number = np.random.randint(5)\n",
    "        image, label = mnist.train.next_batch(m)       \n",
    "        for j in range(len(label)) : \n",
    "            if np.argmax(label[j])==number :\n",
    "                data.append(image[j])              \n",
    "            if len(data) == size :\n",
    "                break\n",
    "        if len(data) == size :\n",
    "            break\n",
    "    return data\n",
    "\n",
    "def my_mnist_test_batch(size, number = 0) :\n",
    "    m = 500\n",
    "    data = []\n",
    "    for i in range(1000) :\n",
    "        image, label = mnist.test.next_batch(m)       \n",
    "        for j in range(len(label)) : \n",
    "            if np.argmax(label[j])==number :\n",
    "                data.append(image[j])              \n",
    "            if len(data) == size :\n",
    "                break\n",
    "        if len(data) == size :\n",
    "            break\n",
    "    return data\n",
    "\n",
    "def mnist_4by4_save(samples,path):\n",
    "    fig = plt.figure(figsize=(4, 4))\n",
    "    gs = gridspec.GridSpec(4, 4)    \n",
    "    gs.update(wspace=0.05, hspace=0.05) #이미지 사이간격 조절\n",
    "  \n",
    "    for i, sample in enumerate(samples):\n",
    "        ax = plt.subplot(gs[i])\n",
    "        plt.axis('off')    \n",
    "        ax.set_xticklabels([])\n",
    "        ax.set_yticklabels([])\n",
    "        ax.set_aspect('equal')\n",
    "   \n",
    "        plt.imshow(sample.reshape(28, 28), cmap='Greys_r',clim=(0.0,1.0))\n",
    "    plt.colorbar()\n",
    "    plt.savefig(path, bbox_inches='tight')\n",
    "    plt.close(fig)\n",
    "   \n",
    "    return None\n",
    "\n",
    "def gan_loss_graph_save(G_loss,D_loss,path):\n",
    "    x1 = range(len(G_loss))\n",
    "    x2 = range(len(D_loss))\n",
    "      \n",
    "    y1 = G_loss\n",
    "    y2 = D_loss\n",
    "  \n",
    "      \n",
    "    plt.plot(x1,y1,label='G_loss') \n",
    "    plt.plot(x2,y2,label='D_loss') \n",
    "  \n",
    "    plt.xlabel('weight per update')\n",
    "    plt.ylabel('loss')             \n",
    "    plt.legend(loc=4)              \n",
    "    plt.grid(True)\n",
    "    plt.tight_layout()\n",
    "  \n",
    "    plt.savefig(path)              \n",
    "\n",
    "    return None\n"
   ]
  },
  {
   "cell_type": "code",
   "execution_count": 2,
   "metadata": {
    "code_folding": [
     46,
     76
    ]
   },
   "outputs": [
    {
     "name": "stdout",
     "output_type": "stream",
     "text": [
      "Extracting ../MNIST_data/train-images-idx3-ubyte.gz\n",
      "Extracting ../MNIST_data/train-labels-idx1-ubyte.gz\n",
      "Extracting ../MNIST_data/t10k-images-idx3-ubyte.gz\n",
      "Extracting ../MNIST_data/t10k-labels-idx1-ubyte.gz\n"
     ]
    }
   ],
   "source": [
    "from tensorflow.examples.tutorials.mnist import input_data\n",
    "mnist = input_data.read_data_sets(\"../MNIST_data\", one_hot=True)\n",
    "\n",
    "file_name = 'proto_2'\n",
    "\n",
    "if not os.path.isdir(file_name) :\n",
    "    os.mkdir(file_name)\n",
    "\n",
    "def simple_G(x,isTrain = True, reuse = False, name = 'G_out') : #input = (minibatch * w * h * ch)\n",
    "    \n",
    "    # out size = (in size + 2*padding - kenel)/strides + 1    \n",
    "    w_init = tf.truncated_normal_initializer(mean= 0.0, stddev=0.02)\n",
    "    b_init = tf.constant_initializer(0.0)\n",
    "\n",
    "\n",
    "    with tf.variable_scope('G',reuse=reuse) :\n",
    "        \n",
    "        #x = (-1, 1, 1, 100)\n",
    "\n",
    "\n",
    "        conv1 = tf.layers.conv2d_transpose(x,1024,[4,4], strides=(1,1),padding = 'valid',\n",
    "                kernel_initializer=w_init, bias_initializer=b_init) \n",
    "        r1 = tf.nn.elu(tf.layers.batch_normalization(conv1,training=isTrain))#1024*4*4\n",
    "        \n",
    "        conv2 = tf.layers.conv2d_transpose(r1,512,[4,4], strides=(2,2),padding = 'same',\n",
    "                kernel_initializer=w_init, bias_initializer=b_init)\n",
    "        r2 = tf.nn.elu(tf.layers.batch_normalization(conv2,training=isTrain))#512*8*8\n",
    "                \n",
    "        conv3 = tf.layers.conv2d_transpose(r2,256,[4,4], strides=(2,2),padding = 'same',\n",
    "                kernel_initializer=w_init, bias_initializer=b_init)\n",
    "        r3 = tf.nn.elu(tf.layers.batch_normalization(conv3,training=isTrain))#256*16*16\n",
    "\n",
    "        conv4 = tf.layers.conv2d_transpose(r3,128,[4,4], strides=(2,2),padding = 'same',\n",
    "                kernel_initializer=w_init, bias_initializer=b_init)\n",
    "        r4 = tf.nn.elu(tf.layers.batch_normalization(conv4,training=isTrain))#128*32*32\n",
    "\n",
    "        conv5 = tf.layers.conv2d(r4,64,[3,3], strides=(1,1),padding = 'valid',\n",
    "                kernel_initializer=w_init, bias_initializer=b_init)\n",
    "        r5 = tf.nn.elu(tf.layers.batch_normalization(conv5,training=isTrain))#64*30*30\n",
    "\n",
    "        conv6 = tf.layers.conv2d(r5,1,[3,3], strides=(1,1),padding = 'valid',\n",
    "                kernel_initializer=w_init, bias_initializer=b_init)\n",
    "    r6 = tf.nn.sigmoid(conv6,name=name)#1*28*28\n",
    "  \n",
    "\n",
    "    return r6\n",
    "def residual_loss_G(x,isTrain = False, reuse = True, name = 'residual_loss_out') : #input = (minibatch * w * h * ch)\n",
    "    \n",
    "    # out size = (in size + 2*padding - kenel)/strides + 1    \n",
    "\n",
    "\n",
    "    with tf.variable_scope('G',reuse=reuse) as scope :\n",
    "        scope.reuse_variables()\n",
    "        #x = (-1, 1, 1, 100)\n",
    "\n",
    "\n",
    "        conv1 = tf.layers.conv2d_transpose(x,1024,[4,4], strides=(1,1),padding = 'valid')\n",
    "        r1 = tf.nn.elu(tf.layers.batch_normalization(conv1,training=isTrain))#1024*4*4\n",
    "        \n",
    "        conv2 = tf.layers.conv2d_transpose(r1,512,[4,4], strides=(2,2),padding = 'same')\n",
    "        r2 = tf.nn.elu(tf.layers.batch_normalization(conv2,training=isTrain))#512*8*8\n",
    "                \n",
    "        conv3 = tf.layers.conv2d_transpose(r2,256,[4,4], strides=(2,2),padding = 'same')\n",
    "        r3 = tf.nn.elu(tf.layers.batch_normalization(conv3,training=isTrain))#256*16*16\n",
    "\n",
    "        conv4 = tf.layers.conv2d_transpose(r3,128,[4,4], strides=(2,2),padding = 'same')\n",
    "        r4 = tf.nn.elu(tf.layers.batch_normalization(conv4,training=isTrain))#128*32*32\n",
    "\n",
    "        conv5 = tf.layers.conv2d(r4,64,[3,3], strides=(1,1),padding = 'valid')\n",
    "        r5 = tf.nn.elu(tf.layers.batch_normalization(conv5,training=isTrain))#64*30*30\n",
    "\n",
    "        conv6 = tf.layers.conv2d(r5,1,[3,3], strides=(1,1),padding = 'valid')\n",
    "    r6 = tf.nn.sigmoid(conv6,name=name)#1*28*28\n",
    "  \n",
    "\n",
    "    return r6\n",
    "def simple_D(x,isTrain=True,reuse = False) :\n",
    "    \n",
    "    with tf.variable_scope('D', reuse=reuse) :\n",
    "        \n",
    "        #x = (-1,28,28,1)\n",
    "\n",
    "\n",
    "        conv1 = tf.layers.conv2d(x,64,[5,5], strides=(1,1),padding = 'valid')\n",
    "        r1 = tf.nn.elu(tf.layers.batch_normalization(conv1,training=isTrain))#64*24*24\n",
    "\n",
    "   \n",
    "        conv2 = tf.layers.conv2d(r1,128,[5,5], strides=(1,1),padding = 'valid')\n",
    "        r2 = tf.nn.elu(tf.layers.batch_normalization(conv2,training=isTrain))#128*20*20\n",
    "\n",
    "  \n",
    "        conv3 = tf.layers.conv2d(r2,256,[5,5], strides=(1,1),padding = 'valid')\n",
    "        r3 = tf.nn.elu(tf.layers.batch_normalization(conv3,training=isTrain))#256*16*16\n",
    "\n",
    " \n",
    "        conv4 = tf.layers.conv2d(r3,512,[4,4], strides=(2,2),padding = 'same')\n",
    "        r4 = tf.nn.elu(tf.layers.batch_normalization(conv4,training=isTrain))#512*8*8\n",
    "\n",
    "\n",
    "        conv5 = tf.layers.conv2d(r4,1024,[4,4], strides=(2,2),padding = 'same')\n",
    "        r5 = tf.nn.elu(tf.layers.batch_normalization(conv5,training=isTrain))#1024*4*4\n",
    "\n",
    "       \n",
    "        conv6 = tf.layers.conv2d(r5,1,[4,4], strides=(1,1),padding = 'valid')\n",
    "        r6 = tf.nn.sigmoid(conv6)#1*1*1\n",
    "\n",
    "\n",
    "        return r6\n",
    "def feature_extractor_D(x,isTrain=False,reuse = True, name='feature_out') :\n",
    "    \n",
    "    with tf.variable_scope('D', reuse=reuse) as scope :\n",
    "        scope.reuse_variables()\n",
    "        #x = (-1,28,28,1)\n",
    "\n",
    "\n",
    "        conv1 = tf.layers.conv2d(x,64,[5,5], strides=(1,1),padding = 'valid')\n",
    "        r1 = tf.nn.elu(tf.layers.batch_normalization(conv1,training=isTrain))#64*24*24\n",
    "\n",
    "   \n",
    "        conv2 = tf.layers.conv2d(r1,128,[5,5], strides=(1,1),padding = 'valid')\n",
    "        r2 = tf.nn.elu(tf.layers.batch_normalization(conv2,training=isTrain), name = name)#128*20*20\n",
    "\n",
    "  \n",
    "        #conv3 = tf.layers.conv2d(r2,256,[5,5], strides=(1,1),padding = 'valid')\n",
    "        #r3 = tf.nn.elu(tf.layers.batch_normalization(conv3,training=isTrain))#256*16*16\n",
    "\n",
    " \n",
    "        #conv4 = tf.layers.conv2d(r3,512,[4,4], strides=(2,2),padding = 'same')\n",
    "        #r4 = tf.nn.elu(tf.layers.batch_normalization(conv4,training=isTrain))#512*8*8\n",
    "\n",
    "\n",
    "        #conv5 = tf.layers.conv2d(r4,1024,[4,4], strides=(2,2),padding = 'same')\n",
    "        #r5 = tf.nn.elu(tf.layers.batch_normalization(conv5,training=isTrain))#1024*4*4\n",
    "\n",
    "       \n",
    "        #conv6 = tf.layers.conv2d(r5,1,[4,4], strides=(1,1),padding = 'valid')\n",
    "        #r6 = tf.nn.sigmoid(conv6)#1*1*1\n",
    "\n",
    "\n",
    "        return r2\n",
    "\n"
   ]
  },
  {
   "cell_type": "code",
   "execution_count": 3,
   "metadata": {},
   "outputs": [],
   "source": [
    "lr = 0.0001\n",
    "\n",
    "z_size = 10\n",
    "\n",
    "z = tf.placeholder(tf.float32,shape=(None,1,1,z_size),name = 'z')    \n",
    "u = tf.placeholder(tf.float32, shape = (None, 28,28,1),name='u')\n",
    "ano_y = tf.placeholder(tf.float32, shape = (1, 28,28,1),name='ano_y')\n",
    "\n",
    "ano_z = tf.get_variable('ano_z', shape = [1, 1, 1, z_size], dtype = tf.float32, \n",
    "        initializer = tf.random_uniform_initializer(minval=-1, maxval=1, dtype=tf.float32))\n",
    "\n",
    "isTrain = tf.placeholder(dtype=tf.bool,name='isTrain') \n",
    "    \n",
    "G_z = simple_G(z,name='G_z')\n",
    "\n",
    "D_real = simple_D(u,isTrain)\n",
    "D_fake = simple_D(G_z,isTrain,reuse=True)\n",
    "\n",
    "\n",
    "img_z = residual_loss_G(ano_z, name ='img_z')\n",
    "\n",
    "feature_y = feature_extractor_D(ano_y, reuse = True, name ='feature_y')\n",
    "feature_z = feature_extractor_D(img_z, reuse = True, name ='feature_z')\n",
    "\n",
    "\n",
    "feature_loss = tf.reduce_mean(tf.abs(feature_y-feature_z),name = 'feature_loss')\n",
    "D_real_loss = tf.reduce_mean(-0.5*tf.log(D_real + 1e-8),name = 'D_real_loss')\n",
    "D_fake_loss = tf.reduce_mean(-0.5*tf.log(1 - D_fake + 1e-8),name = 'D_fake_loss')\n",
    "\n",
    "\n",
    "D_loss =  tf.add(D_real_loss,D_fake_loss,name='D_loss')\n",
    "G_loss =  tf.reduce_mean(-0.5*(tf.log(D_fake + 1e-8)),name='G_loss')\n",
    "residual_loss = tf.reduce_mean(tf.abs(img_z - ano_y), name = 'residual_loss')\n",
    "\n",
    "T_vars = tf.trainable_variables()\n",
    "D_vars = [var for var in T_vars if var.name.startswith('D')]\n",
    "G_vars = [var for var in T_vars if var.name.startswith('G')]\n",
    "ano_vars = [var for var in T_vars if var.name.startswith('ano')]\n",
    "    # When using the batchnormalization layers,\n",
    "    # it is necessary to manually add the update operations\n",
    "    # because the moving averages are not included in the graph\n",
    "\n",
    "with tf.control_dependencies(tf.get_collection(tf.GraphKeys.UPDATE_OPS)) :        \n",
    "    D_optim = tf.train.AdamOptimizer(lr,beta1=0.5).minimize(D_loss, var_list=D_vars, name='D_optim') \n",
    "    G_optim = tf.train.AdamOptimizer(lr,beta1=0.5).minimize(G_loss, var_list=G_vars, name='G_optim')\n",
    "    \n",
    "residual_optim = tf.train.AdamOptimizer(0.001,beta1=0.5).minimize(residual_loss, var_list=ano_vars, name='residual_optim')\n"
   ]
  },
  {
   "cell_type": "code",
   "execution_count": 4,
   "metadata": {},
   "outputs": [
    {
     "name": "stdout",
     "output_type": "stream",
     "text": [
      "D_e : 0.677087, D_real_e : 0.293259, D_fake_e : 0.383829, G_e : 3.001663\n",
      "D_e : 0.913368, D_real_e : 0.363601, D_fake_e : 0.552129, G_e : 4.060502\n",
      "D_e : 0.738035, D_real_e : 0.290322, D_fake_e : 0.270627, G_e : 3.133231\n",
      "D_e : 0.622300, D_real_e : 0.205706, D_fake_e : 0.183967, G_e : 2.675476\n",
      "D_e : 0.529271, D_real_e : 0.128841, D_fake_e : 0.120412, G_e : 2.435210\n",
      "D_e : 0.495249, D_real_e : 0.179613, D_fake_e : 0.179205, G_e : 2.282903\n",
      "D_e : 0.489886, D_real_e : 0.247426, D_fake_e : 0.215592, G_e : 2.136636\n",
      "D_e : 0.467148, D_real_e : 0.174747, D_fake_e : 0.155747, G_e : 2.037795\n",
      "D_e : 0.453805, D_real_e : 0.183404, D_fake_e : 0.176863, G_e : 1.956156\n",
      "D_e : 0.448803, D_real_e : 0.212340, D_fake_e : 0.196403, G_e : 1.883284\n",
      "D_e : 0.446061, D_real_e : 0.222660, D_fake_e : 0.198690, G_e : 1.826156\n",
      "D_e : 0.439080, D_real_e : 0.197495, D_fake_e : 0.171708, G_e : 1.778461\n",
      "D_e : 0.438394, D_real_e : 0.227710, D_fake_e : 0.203136, G_e : 1.733302\n",
      "D_e : 0.437391, D_real_e : 0.222050, D_fake_e : 0.203294, G_e : 1.688171\n",
      "D_e : 0.434468, D_real_e : 0.218826, D_fake_e : 0.177608, G_e : 1.656016\n",
      "D_e : 0.427896, D_real_e : 0.182282, D_fake_e : 0.153544, G_e : 1.626893\n",
      "D_e : 0.426266, D_real_e : 0.225377, D_fake_e : 0.176418, G_e : 1.604562\n",
      "D_e : 0.422187, D_real_e : 0.202116, D_fake_e : 0.154764, G_e : 1.582612\n",
      "D_e : 0.416238, D_real_e : 0.172827, D_fake_e : 0.142221, G_e : 1.564457\n",
      "D_e : 0.412490, D_real_e : 0.197178, D_fake_e : 0.147811, G_e : 1.550910\n",
      "D_e : 0.410712, D_real_e : 0.216837, D_fake_e : 0.160078, G_e : 1.535593\n",
      "D_e : 0.407479, D_real_e : 0.194866, D_fake_e : 0.147920, G_e : 1.520718\n",
      "D_e : 0.401322, D_real_e : 0.161835, D_fake_e : 0.110139, G_e : 1.514752\n",
      "D_e : 0.396754, D_real_e : 0.165436, D_fake_e : 0.130776, G_e : 1.507115\n",
      "D_e : 0.391923, D_real_e : 0.155706, D_fake_e : 0.125036, G_e : 1.499937\n",
      "D_e : 0.390361, D_real_e : 0.210551, D_fake_e : 0.142309, G_e : 1.495528\n",
      "D_e : 0.386474, D_real_e : 0.175561, D_fake_e : 0.113719, G_e : 1.493364\n",
      "D_e : 0.383584, D_real_e : 0.179941, D_fake_e : 0.128463, G_e : 1.490314\n",
      "D_e : 0.379563, D_real_e : 0.159498, D_fake_e : 0.111464, G_e : 1.485943\n",
      "D_e : 0.375042, D_real_e : 0.146816, D_fake_e : 0.101599, G_e : 1.486419\n",
      "D_e : 0.370918, D_real_e : 0.151899, D_fake_e : 0.099358, G_e : 1.488823\n",
      "D_e : 0.372118, D_real_e : 0.239920, D_fake_e : 0.168204, G_e : 1.487328\n",
      "D_e : 0.370628, D_real_e : 0.192449, D_fake_e : 0.131977, G_e : 1.487425\n",
      "D_e : 0.367768, D_real_e : 0.154721, D_fake_e : 0.121516, G_e : 1.483667\n",
      "D_e : 0.366408, D_real_e : 0.197452, D_fake_e : 0.124070, G_e : 1.483201\n",
      "D_e : 0.363004, D_real_e : 0.150112, D_fake_e : 0.097124, G_e : 1.482889\n",
      "D_e : 0.358978, D_real_e : 0.124959, D_fake_e : 0.093058, G_e : 1.482357\n",
      "D_e : 0.356737, D_real_e : 0.163446, D_fake_e : 0.112577, G_e : 1.480385\n",
      "D_e : 0.354629, D_real_e : 0.168355, D_fake_e : 0.108263, G_e : 1.483694\n",
      "D_e : 0.354732, D_real_e : 0.224273, D_fake_e : 0.134367, G_e : 1.480017\n",
      "D_e : 0.352046, D_real_e : 0.141576, D_fake_e : 0.105713, G_e : 1.479023\n",
      "D_e : 0.349637, D_real_e : 0.158722, D_fake_e : 0.094508, G_e : 1.482466\n",
      "D_e : 0.346982, D_real_e : 0.134490, D_fake_e : 0.103609, G_e : 1.482396\n",
      "D_e : 0.345911, D_real_e : 0.175189, D_fake_e : 0.125734, G_e : 1.482308\n",
      "D_e : 0.342552, D_real_e : 0.115984, D_fake_e : 0.082120, G_e : 1.485448\n",
      "D_e : 0.340318, D_real_e : 0.147408, D_fake_e : 0.094566, G_e : 1.487981\n",
      "D_e : 0.339964, D_real_e : 0.187970, D_fake_e : 0.136086, G_e : 1.488948\n",
      "D_e : 0.338566, D_real_e : 0.163397, D_fake_e : 0.110854, G_e : 1.488867\n",
      "D_e : 0.335556, D_real_e : 0.114702, D_fake_e : 0.079327, G_e : 1.488858\n",
      "D_e : 0.334267, D_real_e : 0.164105, D_fake_e : 0.108294, G_e : 1.489430\n",
      "D_e : 0.331004, D_real_e : 0.095541, D_fake_e : 0.075510, G_e : 1.489713\n",
      "D_e : 0.329569, D_real_e : 0.153575, D_fake_e : 0.104231, G_e : 1.490778\n",
      "D_e : 0.328592, D_real_e : 0.170665, D_fake_e : 0.108117, G_e : 1.491884\n",
      "D_e : 0.327811, D_real_e : 0.173759, D_fake_e : 0.113432, G_e : 1.492589\n",
      "D_e : 0.326375, D_real_e : 0.160279, D_fake_e : 0.089982, G_e : 1.493604\n",
      "D_e : 0.325462, D_real_e : 0.177900, D_fake_e : 0.098233, G_e : 1.496235\n",
      "D_e : 0.323731, D_real_e : 0.130707, D_fake_e : 0.097820, G_e : 1.497396\n",
      "D_e : 0.321560, D_real_e : 0.120094, D_fake_e : 0.079841, G_e : 1.499540\n",
      "D_e : 0.320882, D_real_e : 0.183651, D_fake_e : 0.098593, G_e : 1.500839\n",
      "D_e : 0.319320, D_real_e : 0.142001, D_fake_e : 0.086690, G_e : 1.500255\n",
      "D_e : 0.318340, D_real_e : 0.160788, D_fake_e : 0.099760, G_e : 1.502086\n",
      "D_e : 0.317465, D_real_e : 0.171220, D_fake_e : 0.093692, G_e : 1.502166\n",
      "D_e : 0.316124, D_real_e : 0.142082, D_fake_e : 0.092245, G_e : 1.502201\n",
      "D_e : 0.314100, D_real_e : 0.111757, D_fake_e : 0.076854, G_e : 1.503370\n",
      "D_e : 0.312937, D_real_e : 0.135206, D_fake_e : 0.104421, G_e : 1.504210\n",
      "D_e : 0.311483, D_real_e : 0.128083, D_fake_e : 0.090357, G_e : 1.507149\n",
      "D_e : 0.311044, D_real_e : 0.167815, D_fake_e : 0.114676, G_e : 1.507563\n",
      "D_e : 0.308951, D_real_e : 0.097736, D_fake_e : 0.073025, G_e : 1.508777\n",
      "D_e : 0.308024, D_real_e : 0.143177, D_fake_e : 0.102729, G_e : 1.510650\n",
      "D_e : 0.307552, D_real_e : 0.170968, D_fake_e : 0.104503, G_e : 1.512150\n",
      "D_e : 0.306644, D_real_e : 0.160901, D_fake_e : 0.083066, G_e : 1.512278\n",
      "D_e : 0.305915, D_real_e : 0.160517, D_fake_e : 0.094399, G_e : 1.512900\n",
      "D_e : 0.305114, D_real_e : 0.161852, D_fake_e : 0.086365, G_e : 1.514162\n",
      "D_e : 0.304595, D_real_e : 0.170921, D_fake_e : 0.096318, G_e : 1.513838\n",
      "D_e : 0.303658, D_real_e : 0.138495, D_fake_e : 0.096705, G_e : 1.515643\n",
      "D_e : 0.303210, D_real_e : 0.162849, D_fake_e : 0.107217, G_e : 1.516319\n",
      "D_e : 0.302295, D_real_e : 0.143961, D_fake_e : 0.089699, G_e : 1.519637\n",
      "D_e : 0.300287, D_real_e : 0.088393, D_fake_e : 0.059283, G_e : 1.521170\n",
      "D_e : 0.299464, D_real_e : 0.151122, D_fake_e : 0.084934, G_e : 1.523298\n",
      "D_e : 0.298030, D_real_e : 0.113154, D_fake_e : 0.073032, G_e : 1.525111\n",
      "D_e : 0.296553, D_real_e : 0.099348, D_fake_e : 0.080552, G_e : 1.533112\n",
      "D_e : 0.295123, D_real_e : 0.101444, D_fake_e : 0.079235, G_e : 1.540129\n",
      "D_e : 0.293353, D_real_e : 0.077028, D_fake_e : 0.072921, G_e : 1.546111\n",
      "D_e : 0.291464, D_real_e : 0.075821, D_fake_e : 0.060779, G_e : 1.549947\n",
      "D_e : 0.289257, D_real_e : 0.061709, D_fake_e : 0.044318, G_e : 1.556298\n",
      "D_e : 0.287030, D_real_e : 0.058281, D_fake_e : 0.041628, G_e : 1.562042\n",
      "D_e : 0.285352, D_real_e : 0.085296, D_fake_e : 0.057423, G_e : 1.568613\n",
      "D_e : 0.284049, D_real_e : 0.105169, D_fake_e : 0.066816, G_e : 1.573705\n",
      "D_e : 0.282693, D_real_e : 0.099540, D_fake_e : 0.065147, G_e : 1.579496\n",
      "D_e : 0.281445, D_real_e : 0.092444, D_fake_e : 0.079184, G_e : 1.586578\n",
      "D_e : 0.280398, D_real_e : 0.111082, D_fake_e : 0.076113, G_e : 1.590926\n",
      "D_e : 0.278541, D_real_e : 0.057903, D_fake_e : 0.053538, G_e : 1.598166\n",
      "D_e : 0.277037, D_real_e : 0.077817, D_fake_e : 0.062298, G_e : 1.603684\n",
      "D_e : 0.275025, D_real_e : 0.054186, D_fake_e : 0.035765, G_e : 1.608106\n",
      "D_e : 0.273442, D_real_e : 0.079357, D_fake_e : 0.046844, G_e : 1.611672\n",
      "D_e : 0.272406, D_real_e : 0.107152, D_fake_e : 0.067851, G_e : 1.616249\n",
      "D_e : 0.271351, D_real_e : 0.100754, D_fake_e : 0.070286, G_e : 1.620304\n",
      "D_e : 0.269901, D_real_e : 0.078854, D_fake_e : 0.051918, G_e : 1.625251\n",
      "D_e : 0.268851, D_real_e : 0.098146, D_fake_e : 0.068841, G_e : 1.629964\n",
      "D_e : 0.267367, D_real_e : 0.066058, D_fake_e : 0.055846, G_e : 1.635015\n",
      "D_e : 0.266645, D_real_e : 0.115993, D_fake_e : 0.079197, G_e : 1.638144\n",
      "D_e : 0.266354, D_real_e : 0.152844, D_fake_e : 0.084327, G_e : 1.640576\n",
      "D_e : 0.265429, D_real_e : 0.111189, D_fake_e : 0.060809, G_e : 1.641928\n",
      "D_e : 0.264970, D_real_e : 0.133831, D_fake_e : 0.084347, G_e : 1.643183\n",
      "D_e : 0.263398, D_real_e : 0.064393, D_fake_e : 0.037082, G_e : 1.645229\n",
      "D_e : 0.261841, D_real_e : 0.050911, D_fake_e : 0.048975, G_e : 1.649038\n",
      "D_e : 0.260895, D_real_e : 0.090288, D_fake_e : 0.071279, G_e : 1.654157\n",
      "D_e : 0.260675, D_real_e : 0.151390, D_fake_e : 0.085998, G_e : 1.658004\n",
      "D_e : 0.259633, D_real_e : 0.082430, D_fake_e : 0.065675, G_e : 1.660241\n",
      "D_e : 0.258789, D_real_e : 0.101736, D_fake_e : 0.065900, G_e : 1.664521\n",
      "D_e : 0.257672, D_real_e : 0.079948, D_fake_e : 0.055894, G_e : 1.669318\n",
      "D_e : 0.256742, D_real_e : 0.096129, D_fake_e : 0.058335, G_e : 1.672769\n",
      "D_e : 0.255354, D_real_e : 0.061823, D_fake_e : 0.039460, G_e : 1.675828\n"
     ]
    },
    {
     "name": "stdout",
     "output_type": "stream",
     "text": [
      "D_e : 0.254165, D_real_e : 0.075655, D_fake_e : 0.045283, G_e : 1.678064\n",
      "D_e : 0.253710, D_real_e : 0.128255, D_fake_e : 0.074023, G_e : 1.679252\n",
      "D_e : 0.253058, D_real_e : 0.114080, D_fake_e : 0.064642, G_e : 1.680825\n",
      "D_e : 0.252066, D_real_e : 0.087572, D_fake_e : 0.050429, G_e : 1.682983\n",
      "D_e : 0.251213, D_real_e : 0.089281, D_fake_e : 0.063029, G_e : 1.684827\n",
      "D_e : 0.250595, D_real_e : 0.113840, D_fake_e : 0.064452, G_e : 1.686164\n",
      "D_e : 0.249621, D_real_e : 0.090886, D_fake_e : 0.043800, G_e : 1.688145\n",
      "D_e : 0.249474, D_real_e : 0.157872, D_fake_e : 0.074047, G_e : 1.689154\n",
      "D_e : 0.248640, D_real_e : 0.094752, D_fake_e : 0.053877, G_e : 1.689873\n",
      "D_e : 0.248208, D_real_e : 0.130806, D_fake_e : 0.065117, G_e : 1.691252\n",
      "D_e : 0.247914, D_real_e : 0.133225, D_fake_e : 0.078806, G_e : 1.692036\n",
      "D_e : 0.246970, D_real_e : 0.071802, D_fake_e : 0.058975, G_e : 1.694530\n",
      "D_e : 0.246546, D_real_e : 0.119952, D_fake_e : 0.074053, G_e : 1.696444\n",
      "D_e : 0.246264, D_real_e : 0.134294, D_fake_e : 0.076681, G_e : 1.697151\n",
      "D_e : 0.245911, D_real_e : 0.137390, D_fake_e : 0.064075, G_e : 1.698663\n",
      "D_e : 0.244590, D_real_e : 0.041298, D_fake_e : 0.035454, G_e : 1.700362\n",
      "D_e : 0.244194, D_real_e : 0.112070, D_fake_e : 0.081541, G_e : 1.702699\n",
      "D_e : 0.243690, D_real_e : 0.110429, D_fake_e : 0.068236, G_e : 1.703620\n",
      "D_e : 0.243164, D_real_e : 0.112500, D_fake_e : 0.062263, G_e : 1.705727\n",
      "D_e : 0.242953, D_real_e : 0.126874, D_fake_e : 0.088359, G_e : 1.708043\n",
      "D_e : 0.242557, D_real_e : 0.125987, D_fake_e : 0.064279, G_e : 1.709637\n",
      "D_e : 0.241317, D_real_e : 0.044358, D_fake_e : 0.032073, G_e : 1.711153\n",
      "D_e : 0.240207, D_real_e : 0.053625, D_fake_e : 0.037792, G_e : 1.712808\n",
      "D_e : 0.239477, D_real_e : 0.084738, D_fake_e : 0.056167, G_e : 1.715932\n",
      "D_e : 0.238278, D_real_e : 0.043769, D_fake_e : 0.031547, G_e : 1.718150\n",
      "D_e : 0.237802, D_real_e : 0.096427, D_fake_e : 0.076164, G_e : 1.721222\n",
      "D_e : 0.237323, D_real_e : 0.097005, D_fake_e : 0.074137, G_e : 1.723915\n",
      "D_e : 0.236794, D_real_e : 0.093658, D_fake_e : 0.069571, G_e : 1.725909\n",
      "D_e : 0.236745, D_real_e : 0.143275, D_fake_e : 0.086682, G_e : 1.728232\n",
      "D_e : 0.235844, D_real_e : 0.074948, D_fake_e : 0.033839, G_e : 1.730710\n",
      "D_e : 0.234841, D_real_e : 0.052504, D_fake_e : 0.039899, G_e : 1.733101\n",
      "D_e : 0.234379, D_real_e : 0.090602, D_fake_e : 0.077679, G_e : 1.736732\n",
      "D_e : 0.234675, D_real_e : 0.178890, D_fake_e : 0.098386, G_e : 1.739598\n",
      "D_e : 0.234669, D_real_e : 0.158875, D_fake_e : 0.074908, G_e : 1.740654\n",
      "D_e : 0.234575, D_real_e : 0.149397, D_fake_e : 0.071493, G_e : 1.741519\n",
      "D_e : 0.233848, D_real_e : 0.080045, D_fake_e : 0.046971, G_e : 1.743712\n",
      "D_e : 0.232858, D_real_e : 0.049614, D_fake_e : 0.036651, G_e : 1.746349\n",
      "D_e : 0.232140, D_real_e : 0.074321, D_fake_e : 0.050894, G_e : 1.748481\n",
      "D_e : 0.231394, D_real_e : 0.075592, D_fake_e : 0.043839, G_e : 1.751304\n",
      "D_e : 0.230236, D_real_e : 0.031260, D_fake_e : 0.024103, G_e : 1.753447\n",
      "D_e : 0.229213, D_real_e : 0.040669, D_fake_e : 0.033046, G_e : 1.755793\n",
      "D_e : 0.228490, D_real_e : 0.071086, D_fake_e : 0.046764, G_e : 1.758999\n",
      "D_e : 0.227959, D_real_e : 0.084952, D_fake_e : 0.061179, G_e : 1.761971\n",
      "D_e : 0.227063, D_real_e : 0.050054, D_fake_e : 0.038243, G_e : 1.764243\n",
      "D_e : 0.226431, D_real_e : 0.080655, D_fake_e : 0.047180, G_e : 1.766814\n",
      "D_e : 0.225972, D_real_e : 0.096271, D_fake_e : 0.057652, G_e : 1.769122\n",
      "D_e : 0.225304, D_real_e : 0.073108, D_fake_e : 0.046610, G_e : 1.771022\n",
      "D_e : 0.224821, D_real_e : 0.096308, D_fake_e : 0.051705, G_e : 1.771909\n",
      "D_e : 0.224068, D_real_e : 0.065258, D_fake_e : 0.038301, G_e : 1.773412\n",
      "D_e : 0.223414, D_real_e : 0.072221, D_fake_e : 0.045883, G_e : 1.774981\n",
      "D_e : 0.222658, D_real_e : 0.060717, D_fake_e : 0.039512, G_e : 1.776342\n",
      "D_e : 0.222211, D_real_e : 0.092545, D_fake_e : 0.056768, G_e : 1.778055\n",
      "D_e : 0.221850, D_real_e : 0.105075, D_fake_e : 0.057564, G_e : 1.779510\n",
      "D_e : 0.221345, D_real_e : 0.079279, D_fake_e : 0.058710, G_e : 1.780796\n",
      "D_e : 0.220827, D_real_e : 0.081083, D_fake_e : 0.053751, G_e : 1.782865\n",
      "D_e : 0.220171, D_real_e : 0.069475, D_fake_e : 0.041112, G_e : 1.785304\n",
      "D_e : 0.219943, D_real_e : 0.112764, D_fake_e : 0.068929, G_e : 1.787213\n",
      "D_e : 0.219590, D_real_e : 0.082708, D_fake_e : 0.077276, G_e : 1.788644\n",
      "D_e : 0.219371, D_real_e : 0.106125, D_fake_e : 0.075955, G_e : 1.790715\n",
      "D_e : 0.218672, D_real_e : 0.061460, D_fake_e : 0.037597, G_e : 1.791912\n",
      "D_e : 0.218204, D_real_e : 0.081954, D_fake_e : 0.055758, G_e : 1.793823\n",
      "D_e : 0.217891, D_real_e : 0.103750, D_fake_e : 0.060092, G_e : 1.795153\n",
      "D_e : 0.217579, D_real_e : 0.106376, D_fake_e : 0.056805, G_e : 1.795912\n",
      "D_e : 0.217077, D_real_e : 0.080358, D_fake_e : 0.048893, G_e : 1.796895\n",
      "D_e : 0.216394, D_real_e : 0.048560, D_fake_e : 0.047715, G_e : 1.798417\n",
      "D_e : 0.215910, D_real_e : 0.077872, D_fake_e : 0.052324, G_e : 1.800682\n",
      "D_e : 0.216307, D_real_e : 0.185194, D_fake_e : 0.101826, G_e : 1.801002\n",
      "D_e : 0.216091, D_real_e : 0.106574, D_fake_e : 0.070771, G_e : 1.801875\n",
      "D_e : 0.215548, D_real_e : 0.070686, D_fake_e : 0.047096, G_e : 1.803060\n",
      "D_e : 0.215210, D_real_e : 0.096929, D_fake_e : 0.057195, G_e : 1.804582\n",
      "D_e : 0.214675, D_real_e : 0.077352, D_fake_e : 0.039844, G_e : 1.805974\n",
      "D_e : 0.214375, D_real_e : 0.102230, D_fake_e : 0.057355, G_e : 1.807450\n",
      "D_e : 0.213836, D_real_e : 0.067062, D_fake_e : 0.047476, G_e : 1.809232\n",
      "D_e : 0.213144, D_real_e : 0.048765, D_fake_e : 0.036383, G_e : 1.811798\n",
      "D_e : 0.212762, D_real_e : 0.090667, D_fake_e : 0.051096, G_e : 1.813879\n",
      "D_e : 0.212434, D_real_e : 0.081568, D_fake_e : 0.069521, G_e : 1.817943\n",
      "D_e : 0.211657, D_real_e : 0.034754, D_fake_e : 0.030837, G_e : 1.819753\n",
      "D_e : 0.211174, D_real_e : 0.074858, D_fake_e : 0.044907, G_e : 1.821422\n",
      "D_e : 0.210994, D_real_e : 0.113208, D_fake_e : 0.063663, G_e : 1.822449\n",
      "D_e : 0.210891, D_real_e : 0.128010, D_fake_e : 0.063244, G_e : 1.822817\n",
      "D_e : 0.210619, D_real_e : 0.107619, D_fake_e : 0.050653, G_e : 1.823451\n",
      "D_e : 0.210184, D_real_e : 0.087026, D_fake_e : 0.039195, G_e : 1.823982\n",
      "D_e : 0.209626, D_real_e : 0.059444, D_fake_e : 0.042086, G_e : 1.824400\n",
      "D_e : 0.209226, D_real_e : 0.078908, D_fake_e : 0.052131, G_e : 1.825539\n",
      "D_e : 0.209240, D_real_e : 0.143671, D_fake_e : 0.068447, G_e : 1.827116\n",
      "D_e : 0.209130, D_real_e : 0.121979, D_fake_e : 0.065484, G_e : 1.827932\n",
      "D_e : 0.208542, D_real_e : 0.056565, D_fake_e : 0.035569, G_e : 1.828720\n",
      "total time :  5285.4191744327545\n"
     ]
    },
    {
     "data": {
      "image/png": "[encoded data removed]",
      "text/plain": [
       "<matplotlib.figure.Figure at 0x7fb73bff8828>"
      ]
     },
     "metadata": {},
     "output_type": "display_data"
    }
   ],
   "source": [
    "with tf.Session(config=tf.ConfigProto(gpu_options=tf.GPUOptions(allow_growth=True))) as sess :\n",
    "    sess.run(tf.global_variables_initializer())\n",
    "\n",
    "    np.random.seed(int(time.time()))\n",
    "\n",
    "    test_z = np.random.normal(0,1,size=(16,1,1,z_size))\n",
    "\n",
    "    \n",
    "    log_txt = open(file_name +'/log.txt','w')\n",
    "\n",
    "    hist_G = []\n",
    "    hist_D = []\n",
    "    G_error = []\n",
    "    D_error = []\n",
    "    D_fake_error = []\n",
    "    D_real_error = []\n",
    "    \n",
    "    start = time.time()\n",
    "    for i in range(20000) :\n",
    "\n",
    "        train_images = my_mnist_train_batch(100) \n",
    "        u_ = np.reshape(train_images,(-1,28,28,1)) \n",
    "        z_ = np.random.normal(0,1,size=(100,1,1,z_size))\n",
    "\n",
    "\n",
    "        _ , D_e,D_real_e,D_fake_e = sess.run([D_optim, D_loss,D_real_loss,D_fake_loss], {u : u_, z : z_, isTrain : True})\n",
    "        D_error.append(D_e)\n",
    "        D_real_error.append(D_real_e)\n",
    "        D_fake_error.append(D_fake_e)\n",
    "\n",
    "\n",
    "    #    train_images,train_labels = mnist.train.next_batch(100)    \n",
    "    #    u_ = np.reshape(train_images,(-1,28,28,1)) \n",
    "    #    z_ = np.random.normal(0,1,size=(100,1,1,100))\n",
    "   \n",
    "        _ , G_e = sess.run([G_optim, G_loss], {u : u_, z : z_, isTrain : True}) \n",
    "        G_error.append(G_e)\n",
    "        \n",
    "        if i%100 == 0:\n",
    "\n",
    "            hist_D.append(np.mean(D_error)) \n",
    "            hist_G.append(np.mean(G_error))\n",
    "\n",
    "            print('D_e : %.6f, D_real_e : %.6f, D_fake_e : %.6f, G_e : %.6f'%(np.mean(D_error), np.mean(D_real_error),\n",
    "                np.mean(D_fake_error), np.mean(G_error)))\n",
    "            log_txt.write('D_e : %.6f, D_real_e : %.6f, D_fake_e : %.6f, G_e : %.6f\\n'%(np.mean(D_error),\n",
    "                np.mean(D_real_error), np.mean(D_fake_error), np.mean(G_error)))\n",
    "      \n",
    "            r = sess.run([G_z],feed_dict={z : test_z, isTrain : False})        \n",
    "            mnist_4by4_save(np.reshape(r,(-1,784)),file_name + '/result_{}.png'.format(str(i).zfill(3)))\n",
    "\n",
    "            np.random.seed(int(time.time()))\n",
    "\n",
    "            G_errer = []\n",
    "            D_errer = []\n",
    "            D_fake_error = []\n",
    "            D_real_error = []\n",
    "\n",
    "\n",
    "    log_txt.close()\n",
    "    gan_loss_graph_save(G_loss = hist_G,D_loss=hist_D,path = file_name + '/loss_graph.png')   \n",
    "    saver = tf.train.Saver()\n",
    "    saver.save(sess,file_name + '/para.cktp')\n",
    "\n",
    "    end = time.time()-start\n",
    "\n",
    "    print(\"total time : \",end)"
   ]
  },
  {
   "cell_type": "code",
   "execution_count": 5,
   "metadata": {},
   "outputs": [
    {
     "name": "stdout",
     "output_type": "stream",
     "text": [
      "INFO:tensorflow:Restoring parameters from proto_2/para.cktp\n"
     ]
    }
   ],
   "source": [
    "\n",
    "\n",
    "if not os.path.isdir(file_name) :\n",
    "    os.mkdir(file_name)\n",
    "\n",
    "    \n",
    "sess = tf.InteractiveSession()\n",
    "    \n",
    "new_saver = tf.train.import_meta_graph(file_name + '/para.cktp.meta')\n",
    "new_saver.restore(sess, tf.train.latest_checkpoint(file_name + '/'))\n",
    "\n",
    "\n",
    "z = sess.graph.get_tensor_by_name(\"z:0\")\n",
    "u = sess.graph.get_tensor_by_name(\"u:0\")\n",
    "\n",
    "ano_y = sess.graph.get_tensor_by_name(\"ano_y:0\")\n",
    "ano_z = sess.graph.get_tensor_by_name(\"ano_z:0\")\n",
    "\n",
    "isTrain = sess.graph.get_tensor_by_name(\"isTrain:0\")\n",
    "\n",
    "    \n",
    "G_z = sess.graph.get_tensor_by_name(\"G_z:0\")\n",
    "img_z = sess.graph.get_tensor_by_name(\"img_z:0\")\n",
    "\n",
    "\n",
    "feature_loss = sess.graph.get_tensor_by_name(\"feature_loss:0\")\n",
    "D_real_loss = sess.graph.get_tensor_by_name('D_real_loss:0')\n",
    "D_fake_loss = sess.graph.get_tensor_by_name('D_fake_loss:0')\n",
    "\n",
    "D_loss = sess.graph.get_tensor_by_name(\"D_loss:0\")\n",
    "G_loss = sess.graph.get_tensor_by_name(\"G_loss:0\")\n",
    "residual_loss = sess.graph.get_tensor_by_name(\"residual_loss:0\")\n",
    "\n",
    "\n",
    "D_optim = sess.graph.get_operation_by_name(\"D_optim\")\n",
    "G_optim = sess.graph.get_operation_by_name(\"G_optim\")\n",
    "\n",
    "residual_optim = sess.graph.get_operation_by_name(\"residual_optim\")\n",
    "\n",
    "\n",
    "\n"
   ]
  },
  {
   "cell_type": "code",
   "execution_count": 6,
   "metadata": {},
   "outputs": [],
   "source": [
    "im = my_mnist_test_batch(1, number = 7) "
   ]
  },
  {
   "cell_type": "code",
   "execution_count": 7,
   "metadata": {},
   "outputs": [
    {
     "data": {
      "image/png": "[encoded data removed]",
      "text/plain": [
       "<matplotlib.figure.Figure at 0x7fb91e441a20>"
      ]
     },
     "metadata": {},
     "output_type": "display_data"
    },
    {
     "data": {
      "image/png": "[encoded data removed]",
      "text/plain": [
       "<matplotlib.figure.Figure at 0x7fb73b1135c0>"
      ]
     },
     "metadata": {},
     "output_type": "display_data"
    },
    {
     "data": {
      "image/png": "[encoded data removed]",
      "text/plain": [
       "<matplotlib.figure.Figure at 0x7fb738709748>"
      ]
     },
     "metadata": {},
     "output_type": "display_data"
    },
    {
     "name": "stdout",
     "output_type": "stream",
     "text": [
      "0.679669 0.159397\n"
     ]
    }
   ],
   "source": [
    " \n",
    "plt.imshow(np.reshape(im,(28, 28)), cmap='Greys_r')\n",
    "plt.show()\n",
    "    \n",
    "\n",
    "im_fake = sess.run([img_z]) \n",
    "plt.imshow(np.reshape(im_fake,(28, 28)), cmap='Greys_r')\n",
    "plt.show()\n",
    "\n",
    "ano_gap  = np.abs(np.reshape(im_fake,(28, 28)) - np.reshape(im,(28, 28)))\n",
    "plt.imshow(ano_gap, cmap='Greys_r')\n",
    "plt.show()  \n",
    "\n",
    "fea_loss, res_loss = sess.run([feature_loss,residual_loss], {ano_y : np.reshape(im,(1,28, 28,1))})\n",
    "\n",
    "print(fea_loss, res_loss)"
   ]
  },
  {
   "cell_type": "code",
   "execution_count": 8,
   "metadata": {},
   "outputs": [
    {
     "name": "stdout",
     "output_type": "stream",
     "text": [
      "0.159397\n",
      "0.157878\n",
      "0.154295\n",
      "0.152469\n",
      "0.151174\n",
      "0.150409\n",
      "0.149959\n",
      "0.149572\n",
      "0.147281\n",
      "0.146422\n"
     ]
    }
   ],
   "source": [
    "for i in range(1000) :\n",
    "    _ , loss = sess.run([residual_optim,residual_loss], {ano_y : np.reshape(im,(1,28, 28,1))})\n",
    "    if  i % 100 == 0 : \n",
    "        print(loss)"
   ]
  },
  {
   "cell_type": "code",
   "execution_count": 9,
   "metadata": {},
   "outputs": [
    {
     "data": {
      "image/png": "[encoded data removed]",
      "text/plain": [
       "<matplotlib.figure.Figure at 0x7fb738460f60>"
      ]
     },
     "metadata": {},
     "output_type": "display_data"
    },
    {
     "data": {
      "image/png": "[encoded data removed]",
      "text/plain": [
       "<matplotlib.figure.Figure at 0x7fb737937668>"
      ]
     },
     "metadata": {},
     "output_type": "display_data"
    },
    {
     "data": {
      "image/png": "[encoded data removed]",
      "text/plain": [
       "<matplotlib.figure.Figure at 0x7fb737a77710>"
      ]
     },
     "metadata": {},
     "output_type": "display_data"
    },
    {
     "name": "stdout",
     "output_type": "stream",
     "text": [
      "0.679411 0.146044\n"
     ]
    }
   ],
   "source": [
    "plt.imshow(np.reshape(im,(28, 28)), cmap='Greys_r')\n",
    "plt.show()\n",
    "    \n",
    "\n",
    "im_fake = sess.run([img_z]) \n",
    "plt.imshow(np.reshape(im_fake,(28, 28)), cmap='Greys_r')\n",
    "plt.show()\n",
    "\n",
    "ano_gap  = np.abs(np.reshape(im_fake,(28, 28)) - np.reshape(im,(28, 28)))\n",
    "plt.imshow(ano_gap, cmap='Greys_r')\n",
    "plt.show()  \n",
    "\n",
    "fea_loss, res_loss = sess.run([feature_loss,residual_loss], {ano_y : np.reshape(im,(1,28, 28,1))})\n",
    "\n",
    "print(fea_loss, res_loss)"
   ]
  },
  {
   "cell_type": "code",
   "execution_count": null,
   "metadata": {},
   "outputs": [],
   "source": []
  },
  {
   "cell_type": "code",
   "execution_count": 10,
   "metadata": {},
   "outputs": [
    {
     "name": "stdout",
     "output_type": "stream",
     "text": [
      "INFO:tensorflow:Restoring parameters from proto_2/para.cktp\n"
     ]
    }
   ],
   "source": [
    "\n",
    "\n",
    "if not os.path.isdir(file_name) :\n",
    "    os.mkdir(file_name)\n",
    "\n",
    "    \n",
    "sess = tf.InteractiveSession()\n",
    "    \n",
    "new_saver = tf.train.import_meta_graph(file_name + '/para.cktp.meta')\n",
    "new_saver.restore(sess, tf.train.latest_checkpoint(file_name + '/'))\n",
    "\n",
    "\n",
    "z = sess.graph.get_tensor_by_name(\"z:0\")\n",
    "u = sess.graph.get_tensor_by_name(\"u:0\")\n",
    "\n",
    "ano_y = sess.graph.get_tensor_by_name(\"ano_y:0\")\n",
    "ano_z = sess.graph.get_tensor_by_name(\"ano_z:0\")\n",
    "\n",
    "isTrain = sess.graph.get_tensor_by_name(\"isTrain:0\")\n",
    "\n",
    "    \n",
    "G_z = sess.graph.get_tensor_by_name(\"G_z:0\")\n",
    "img_z = sess.graph.get_tensor_by_name(\"img_z:0\")\n",
    "\n",
    "\n",
    "feature_loss = sess.graph.get_tensor_by_name(\"feature_loss:0\")\n",
    "D_real_loss = sess.graph.get_tensor_by_name('D_real_loss:0')\n",
    "D_fake_loss = sess.graph.get_tensor_by_name('D_fake_loss:0')\n",
    "\n",
    "D_loss = sess.graph.get_tensor_by_name(\"D_loss:0\")\n",
    "G_loss = sess.graph.get_tensor_by_name(\"G_loss:0\")\n",
    "residual_loss = sess.graph.get_tensor_by_name(\"residual_loss:0\")\n",
    "\n",
    "\n",
    "D_optim = sess.graph.get_operation_by_name(\"D_optim\")\n",
    "G_optim = sess.graph.get_operation_by_name(\"G_optim\")\n",
    "\n",
    "residual_optim = sess.graph.get_operation_by_name(\"residual_optim\")\n",
    "\n",
    "\n"
   ]
  },
  {
   "cell_type": "code",
   "execution_count": 11,
   "metadata": {},
   "outputs": [],
   "source": [
    "im = my_mnist_test_batch(1, number = 4) "
   ]
  },
  {
   "cell_type": "code",
   "execution_count": 12,
   "metadata": {},
   "outputs": [
    {
     "data": {
      "image/png": "[encoded data removed]",
      "text/plain": [
       "<matplotlib.figure.Figure at 0x7fb73aaa49e8>"
      ]
     },
     "metadata": {},
     "output_type": "display_data"
    },
    {
     "data": {
      "image/png": "[encoded data removed]",
      "text/plain": [
       "<matplotlib.figure.Figure at 0x7fb76f132710>"
      ]
     },
     "metadata": {},
     "output_type": "display_data"
    },
    {
     "data": {
      "image/png": "[encoded data removed]",
      "text/plain": [
       "<matplotlib.figure.Figure at 0x7fb760e0bba8>"
      ]
     },
     "metadata": {},
     "output_type": "display_data"
    },
    {
     "name": "stdout",
     "output_type": "stream",
     "text": [
      "0.762171 0.172377\n"
     ]
    }
   ],
   "source": [
    "\n",
    "plt.imshow(np.reshape(im,(28, 28)), cmap='Greys_r')\n",
    "plt.show()\n",
    "    \n",
    "\n",
    "im_fake = sess.run([img_z]) \n",
    "plt.imshow(np.reshape(im_fake,(28, 28)), cmap='Greys_r')\n",
    "plt.show()\n",
    "\n",
    "ano_gap  = np.abs(np.reshape(im_fake,(28, 28)) - np.reshape(im,(28, 28)))\n",
    "plt.imshow(ano_gap, cmap='Greys_r')\n",
    "plt.show()  \n",
    "\n",
    "fea_loss, res_loss = sess.run([feature_loss,residual_loss], {ano_y : np.reshape(im,(1,28, 28,1))})\n",
    "\n",
    "print(fea_loss, res_loss)"
   ]
  },
  {
   "cell_type": "code",
   "execution_count": 13,
   "metadata": {},
   "outputs": [
    {
     "name": "stdout",
     "output_type": "stream",
     "text": [
      "0.172377\n",
      "0.162139\n",
      "0.122998\n",
      "0.0802613\n",
      "0.0763519\n",
      "0.0752089\n",
      "0.0744103\n",
      "0.0738048\n",
      "0.0732666\n",
      "0.0728041\n"
     ]
    }
   ],
   "source": [
    "for i in range(1000) :\n",
    "    _ , loss = sess.run([residual_optim,residual_loss], {ano_y : np.reshape(im,(1,28, 28,1))})\n",
    "    if  i % 100 == 0 : \n",
    "        print(loss)"
   ]
  },
  {
   "cell_type": "code",
   "execution_count": 14,
   "metadata": {},
   "outputs": [
    {
     "data": {
      "image/png": "[encoded data removed]",
      "text/plain": [
       "<matplotlib.figure.Figure at 0x7fb7655f7c50>"
      ]
     },
     "metadata": {},
     "output_type": "display_data"
    },
    {
     "data": {
      "image/png": "[encoded data removed]",
      "text/plain": [
       "<matplotlib.figure.Figure at 0x7fb73bf0d550>"
      ]
     },
     "metadata": {},
     "output_type": "display_data"
    },
    {
     "data": {
      "image/png": "[encoded data removed]",
      "text/plain": [
       "<matplotlib.figure.Figure at 0x7fb73aa75fd0>"
      ]
     },
     "metadata": {},
     "output_type": "display_data"
    },
    {
     "name": "stdout",
     "output_type": "stream",
     "text": [
      "0.445004 0.0723448\n"
     ]
    }
   ],
   "source": [
    "plt.imshow(np.reshape(im,(28, 28)), cmap='Greys_r')\n",
    "plt.show()\n",
    "    \n",
    "\n",
    "im_fake = sess.run([img_z]) \n",
    "plt.imshow(np.reshape(im_fake,(28, 28)), cmap='Greys_r')\n",
    "plt.show()\n",
    "\n",
    "ano_gap  = np.abs(np.reshape(im_fake,(28, 28)) - np.reshape(im,(28, 28)))\n",
    "plt.imshow(ano_gap, cmap='Greys_r')\n",
    "plt.show()  \n",
    "\n",
    "fea_loss, res_loss = sess.run([feature_loss,residual_loss], {ano_y : np.reshape(im,(1,28, 28,1))})\n",
    "\n",
    "print(fea_loss, res_loss)"
   ]
  },
  {
   "cell_type": "code",
   "execution_count": null,
   "metadata": {},
   "outputs": [],
   "source": []
  },
  {
   "cell_type": "code",
   "execution_count": null,
   "metadata": {},
   "outputs": [],
   "source": []
  }
 ],
 "metadata": {
  "kernelspec": {
   "display_name": "Python 3",
   "language": "python",
   "name": "python3"
  },
  "language_info": {
   "codemirror_mode": {
    "name": "ipython",
    "version": 3
   },
   "file_extension": ".py",
   "mimetype": "text/x-python",
   "name": "python",
   "nbconvert_exporter": "python",
   "pygments_lexer": "ipython3",
   "version": "3.5.2"
  },
  "toc": {
   "base_numbering": 1,
   "nav_menu": {},
   "number_sections": true,
   "sideBar": true,
   "skip_h1_title": false,
   "title_cell": "Table of Contents",
   "title_sidebar": "Contents",
   "toc_cell": false,
   "toc_position": {},
   "toc_section_display": true,
   "toc_window_display": true
  },
  "varInspector": {
   "cols": {
    "lenName": 16,
    "lenType": 16,
    "lenVar": 40
   },
   "kernels_config": {
    "python": {
     "delete_cmd_postfix": "",
     "delete_cmd_prefix": "del ",
     "library": "var_list.py",
     "varRefreshCmd": "print(var_dic_list())"
    },
    "r": {
     "delete_cmd_postfix": ") ",
     "delete_cmd_prefix": "rm(",
     "library": "var_list.r",
     "varRefreshCmd": "cat(var_dic_list()) "
    }
   },
   "types_to_exclude": [
    "module",
    "function",
    "builtin_function_or_method",
    "instance",
    "_Feature"
   ],
   "window_display": true
  }
 },
 "nbformat": 4,
 "nbformat_minor": 2
}
