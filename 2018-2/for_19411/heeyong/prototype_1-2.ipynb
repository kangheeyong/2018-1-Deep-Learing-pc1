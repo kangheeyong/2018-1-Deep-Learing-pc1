{
 "cells": [
  {
   "cell_type": "markdown",
   "metadata": {},
   "source": [
    "# add some tips\n",
    "\n",
    "https://medium.com/@utk.is.here/keep-calm-and-train-a-gan-pitfalls-and-tips-on-training-generative-adversarial-networks-edd529764aa9\n",
    "\n",
    "pro 1-1 : one class at mini batch\n",
    "pro 2-1 : n-class at mini batch"
   ]
  },
  {
   "cell_type": "code",
   "execution_count": 1,
   "metadata": {
    "code_folding": [
     25,
     39,
     58
    ]
   },
   "outputs": [],
   "source": [
    "import tensorflow as tf\n",
    "import numpy as np\n",
    "import os\n",
    "import sys\n",
    "import time\n",
    "import time \n",
    "import matplotlib.pyplot as plt\n",
    "import matplotlib.gridspec as gridspec \n",
    "\n",
    "os.environ[\"CUDA_VISIBLE_DEVICES\"]=\"1\"\n",
    "\n",
    "def my_mnist_train_batch(size) :\n",
    "    m = 500\n",
    "    data = []\n",
    "    for i in range(1000) :\n",
    "        number = number = np.random.randint(5)\n",
    "        image, label = mnist.train.next_batch(m)       \n",
    "        for j in range(len(label)) : \n",
    "            \n",
    "            if np.argmax(label[j])==number :\n",
    "                data.append(image[j])\n",
    "                number = number = np.random.randint(5)\n",
    "            if len(data) == size :\n",
    "                break\n",
    "        if len(data) == size :\n",
    "            break\n",
    "    return data\n",
    "\n",
    "def my_mnist_test_batch(size, number = 0) :\n",
    "    m = 500\n",
    "    data = []\n",
    "    for i in range(1000) :\n",
    "        image, label = mnist.test.next_batch(m)       \n",
    "        for j in range(len(label)) : \n",
    "            if np.argmax(label[j])==number :\n",
    "                data.append(image[j])              \n",
    "            if len(data) == size :\n",
    "                break\n",
    "        if len(data) == size :\n",
    "            break\n",
    "    return data\n",
    "\n",
    "def mnist_4by4_save(samples,path):\n",
    "    fig = plt.figure(figsize=(4, 4))\n",
    "    gs = gridspec.GridSpec(4, 4)    \n",
    "    gs.update(wspace=0.05, hspace=0.05) #이미지 사이간격 조절\n",
    "  \n",
    "    for i, sample in enumerate(samples):\n",
    "        ax = plt.subplot(gs[i])\n",
    "        plt.axis('off')    \n",
    "        ax.set_xticklabels([])\n",
    "        ax.set_yticklabels([])\n",
    "        ax.set_aspect('equal')\n",
    "   \n",
    "        plt.imshow(sample.reshape(28, 28), cmap='Greys_r',clim=(0.0,1.0))\n",
    "    plt.colorbar()\n",
    "    plt.savefig(path, bbox_inches='tight')\n",
    "    plt.close(fig)\n",
    "   \n",
    "    return None\n",
    "\n",
    "def gan_loss_graph_save(G_loss,D_loss,path):\n",
    "    x1 = range(len(G_loss))\n",
    "    x2 = range(len(D_loss))\n",
    "      \n",
    "    y1 = G_loss\n",
    "    y2 = D_loss\n",
    "  \n",
    "      \n",
    "    plt.plot(x1,y1,label='G_loss') \n",
    "    plt.plot(x2,y2,label='D_loss') \n",
    "  \n",
    "    plt.xlabel('weight per update')\n",
    "    plt.ylabel('loss')             \n",
    "    plt.legend(loc=4)              \n",
    "    plt.grid(True)\n",
    "    plt.tight_layout()\n",
    "  \n",
    "    plt.savefig(path)              \n",
    "\n",
    "    return None\n"
   ]
  },
  {
   "cell_type": "code",
   "execution_count": 2,
   "metadata": {
    "code_folding": []
   },
   "outputs": [
    {
     "name": "stdout",
     "output_type": "stream",
     "text": [
      "Extracting ../MNIST_data/train-images-idx3-ubyte.gz\n",
      "Extracting ../MNIST_data/train-labels-idx1-ubyte.gz\n",
      "Extracting ../MNIST_data/t10k-images-idx3-ubyte.gz\n",
      "Extracting ../MNIST_data/t10k-labels-idx1-ubyte.gz\n"
     ]
    }
   ],
   "source": [
    "from tensorflow.examples.tutorials.mnist import input_data\n",
    "mnist = input_data.read_data_sets(\"../MNIST_data\", one_hot=True)\n",
    "\n",
    "file_name = 'proto_1-2'\n",
    "\n",
    "if not os.path.isdir(file_name) :\n",
    "    os.mkdir(file_name)\n",
    "def simple_G(x,isTrain = True, reuse = False, name = 'G_out') : #input = (minibatch * w * h * ch)\n",
    "    \n",
    "    # out size = (in size + 2*padding - kenel)/strides + 1    \n",
    "    w_init = tf.truncated_normal_initializer(mean= 0.0, stddev=0.02)\n",
    "    b_init = tf.constant_initializer(0.0)\n",
    "\n",
    "\n",
    "    with tf.variable_scope('G',reuse=reuse) :\n",
    "        \n",
    "        #x = (-1, 1, 1, 100)\n",
    "\n",
    "\n",
    "        conv1 = tf.layers.conv2d_transpose(x,2048,[4,4], strides=(1,1),padding = 'valid',\n",
    "                kernel_initializer=w_init, bias_initializer=b_init) \n",
    "        r1 = tf.nn.elu(tf.layers.batch_normalization(conv1,training=isTrain))#1024*4*4\n",
    "        \n",
    "        conv2 = tf.layers.conv2d_transpose(r1,1024,[4,4], strides=(2,2),padding = 'same',\n",
    "                kernel_initializer=w_init, bias_initializer=b_init)\n",
    "        r2 = tf.nn.elu(tf.layers.batch_normalization(conv2,training=isTrain))#512*8*8\n",
    "                \n",
    "        conv3 = tf.layers.conv2d_transpose(r2,512,[4,4], strides=(2,2),padding = 'same',\n",
    "                kernel_initializer=w_init, bias_initializer=b_init)\n",
    "        r3 = tf.nn.elu(tf.layers.batch_normalization(conv3,training=isTrain))#256*16*16\n",
    "\n",
    "        conv4 = tf.layers.conv2d_transpose(r3,256,[4,4], strides=(2,2),padding = 'same',\n",
    "                kernel_initializer=w_init, bias_initializer=b_init)\n",
    "        r4 = tf.nn.elu(tf.layers.batch_normalization(conv4,training=isTrain))#128*32*32\n",
    "\n",
    "        conv5 = tf.layers.conv2d(r4,128,[3,3], strides=(1,1),padding = 'valid',\n",
    "                kernel_initializer=w_init, bias_initializer=b_init)\n",
    "        r5 = tf.nn.elu(tf.layers.batch_normalization(conv5,training=isTrain))#64*30*30\n",
    "\n",
    "        conv6 = tf.layers.conv2d(r5,1,[3,3], strides=(1,1),padding = 'valid',\n",
    "                kernel_initializer=w_init, bias_initializer=b_init)\n",
    "    r6 = tf.nn.sigmoid(conv6,name=name)#1*28*28\n",
    "  \n",
    "\n",
    "    return r6\n",
    "def residual_loss_G(x,isTrain = False, reuse = True, name = 'residual_loss_out') : #input = (minibatch * w * h * ch)\n",
    "    \n",
    "    # out size = (in size + 2*padding - kenel)/strides + 1    \n",
    "\n",
    "\n",
    "    with tf.variable_scope('G',reuse=reuse) as scope :\n",
    "        scope.reuse_variables()\n",
    "        #x = (-1, 1, 1, 100)\n",
    "\n",
    "\n",
    "        conv1 = tf.layers.conv2d_transpose(x,2048,[4,4], strides=(1,1),padding = 'valid')\n",
    "        r1 = tf.nn.elu(tf.layers.batch_normalization(conv1,training=isTrain))#1024*4*4\n",
    "        \n",
    "        conv2 = tf.layers.conv2d_transpose(r1,1024,[4,4], strides=(2,2),padding = 'same')\n",
    "        r2 = tf.nn.elu(tf.layers.batch_normalization(conv2,training=isTrain))#512*8*8\n",
    "                \n",
    "        conv3 = tf.layers.conv2d_transpose(r2,512,[4,4], strides=(2,2),padding = 'same')\n",
    "        r3 = tf.nn.elu(tf.layers.batch_normalization(conv3,training=isTrain))#256*16*16\n",
    "\n",
    "        conv4 = tf.layers.conv2d_transpose(r3,256,[4,4], strides=(2,2),padding = 'same')\n",
    "        r4 = tf.nn.elu(tf.layers.batch_normalization(conv4,training=isTrain))#128*32*32\n",
    "\n",
    "        conv5 = tf.layers.conv2d(r4,128,[3,3], strides=(1,1),padding = 'valid')\n",
    "        r5 = tf.nn.elu(tf.layers.batch_normalization(conv5,training=isTrain))#64*30*30\n",
    "\n",
    "        conv6 = tf.layers.conv2d(r5,1,[3,3], strides=(1,1),padding = 'valid')\n",
    "    r6 = tf.nn.sigmoid(conv6,name=name)#1*28*28\n",
    "  \n",
    "\n",
    "    return r6\n",
    "def simple_D(x,isTrain=True,reuse = False) :\n",
    "    \n",
    "    w_init = tf.truncated_normal_initializer(mean= 0.0, stddev=0.02)\n",
    "    b_init = tf.constant_initializer(0.0)\n",
    "    with tf.variable_scope('D', reuse=reuse) :\n",
    "        \n",
    "        #x = (-1,28,28,1)\n",
    "\n",
    "\n",
    "        conv1 = tf.layers.conv2d(x,128,[5,5], strides=(1,1),padding = 'valid',\n",
    "                                kernel_initializer=w_init, bias_initializer=b_init) \n",
    "        r1 = tf.nn.elu(tf.layers.batch_normalization(conv1,training=isTrain))#64*24*24\n",
    "\n",
    "   \n",
    "        conv2 = tf.layers.conv2d(r1,256,[5,5], strides=(1,1),padding = 'valid',\n",
    "                                kernel_initializer=w_init, bias_initializer=b_init)\n",
    "        r2 = tf.nn.elu(tf.layers.batch_normalization(conv2,training=isTrain))#128*20*20\n",
    "\n",
    "  \n",
    "        conv3 = tf.layers.conv2d(r2,512,[5,5], strides=(1,1),padding = 'valid',\n",
    "                                kernel_initializer=w_init, bias_initializer=b_init)\n",
    "        r3 = tf.nn.elu(tf.layers.batch_normalization(conv3,training=isTrain))#256*16*16\n",
    "\n",
    " \n",
    "        conv4 = tf.layers.conv2d(r3,1024,[4,4], strides=(2,2),padding = 'same',\n",
    "                                kernel_initializer=w_init, bias_initializer=b_init)\n",
    "        r4 = tf.nn.elu(tf.layers.batch_normalization(conv4,training=isTrain))#512*8*8\n",
    "\n",
    "\n",
    "        conv5 = tf.layers.conv2d(r4,2048,[4,4], strides=(2,2),padding = 'same',\n",
    "                                kernel_initializer=w_init, bias_initializer=b_init)\n",
    "        r5 = tf.nn.elu(tf.layers.batch_normalization(conv5,training=isTrain))#1024*4*4\n",
    "\n",
    "       \n",
    "        conv6 = tf.layers.conv2d(r5,1,[4,4], strides=(1,1),padding = 'valid',\n",
    "                                kernel_initializer=w_init, bias_initializer=b_init)\n",
    "    r6 = tf.nn.sigmoid(conv6)#1*1*1\n",
    "\n",
    "\n",
    "    return r6\n",
    "def feature_extractor_D(x,isTrain=False,reuse = True, name='feature_out') :\n",
    "    \n",
    "    with tf.variable_scope('D', reuse=reuse) as scope :\n",
    "        scope.reuse_variables()\n",
    "        #x = (-1,28,28,1)\n",
    "\n",
    "        conv1 = tf.layers.conv2d(x,128,[5,5], strides=(1,1),padding = 'valid')\n",
    "        r1 = tf.nn.elu(tf.layers.batch_normalization(conv1,training=isTrain))#64*24*24\n",
    "\n",
    "   \n",
    "        conv2 = tf.layers.conv2d(r1,256,[5,5], strides=(1,1),padding = 'valid')\n",
    "        r2 = tf.nn.elu(tf.layers.batch_normalization(conv2,training=isTrain))#128*20*20\n",
    "\n",
    "  \n",
    "        conv3 = tf.layers.conv2d(r2,512,[5,5], strides=(1,1),padding = 'valid')\n",
    "    r3 = tf.nn.elu(tf.layers.batch_normalization(conv3,training=isTrain),name = name)#256*16*16\n",
    "\n",
    " \n",
    "        #conv4 = tf.layers.conv2d(r3,1024,[4,4], strides=(2,2),padding = 'same')\n",
    "        #r4 = tf.nn.lrelu(tf.layers.batch_normalization(conv4,training=isTrain),0.2)#512*8*8\n",
    "\n",
    "\n",
    "        #conv5 = tf.layers.conv2d(r4,2048,[4,4], strides=(2,2),padding = 'same')\n",
    "        #r5 = tf.nn.lrelu(tf.layers.batch_normalization(conv5,training=isTrain),0.2)#1024*4*4\n",
    "\n",
    "\n",
    "    return r3\n",
    "\n"
   ]
  },
  {
   "cell_type": "code",
   "execution_count": 3,
   "metadata": {},
   "outputs": [],
   "source": [
    "lr = 0.001\n",
    "\n",
    "z_size = 25\n",
    "\n",
    "z = tf.placeholder(tf.float32,shape=(None,1,1,z_size),name = 'z')    \n",
    "u = tf.placeholder(tf.float32, shape = (None, 28,28,1),name='u')\n",
    "ano_y = tf.placeholder(tf.float32, shape = (1, 28,28,1),name='ano_y')\n",
    "\n",
    "ano_z = tf.get_variable('ano_z', shape = [1, 1, 1, z_size], dtype = tf.float32, \n",
    "        initializer = tf.random_uniform_initializer(minval=-1, maxval=1, dtype=tf.float32))\n",
    "\n",
    "isTrain = tf.placeholder(dtype=tf.bool,name='isTrain') \n",
    "soft_one = tf.placeholder(tf.float32, shape = (None, 1,1,1),name='soft_one') # 0.9~1.0\n",
    "\n",
    "G_z = simple_G(z,name='G_z')\n",
    "\n",
    "D_real = simple_D(u,isTrain)\n",
    "D_fake = simple_D(G_z,isTrain,reuse=True)\n",
    "\n",
    "\n",
    "img_z = residual_loss_G(ano_z, name ='img_z')\n",
    "\n",
    "feature_y = feature_extractor_D(ano_y, reuse = True, name ='feature_y')\n",
    "feature_z = feature_extractor_D(img_z, reuse = True, name ='feature_z')\n",
    "\n",
    "\n",
    "feature_loss = tf.reduce_mean(tf.abs(feature_y-feature_z),name = 'feature_loss')\n",
    "D_real_loss = tf.reduce_mean(-(soft_one*tf.log(D_real + 1e-8) + (1-soft_one)*tf.log(1- D_real + 1e-8)),name = 'D_real_loss')\n",
    "D_fake_loss = tf.reduce_mean(-((1-soft_one)*tf.log(D_fake + 1e-8) + soft_one*tf.log(1 - D_fake + 1e-8)),name = 'D_fake_loss')\n",
    "\n",
    "\n",
    "D_loss =  tf.add(D_real_loss,D_fake_loss,name='D_loss')\n",
    "G_loss =  tf.reduce_mean(-tf.log(D_fake + 1e-8),name='G_loss')\n",
    "residual_loss = tf.reduce_mean(tf.abs(img_z - ano_y), name = 'residual_loss')\n",
    "\n",
    "T_vars = tf.trainable_variables()\n",
    "D_vars = [var for var in T_vars if var.name.startswith('D')]\n",
    "G_vars = [var for var in T_vars if var.name.startswith('G')]\n",
    "ano_vars = [var for var in T_vars if var.name.startswith('ano')]\n",
    "    # When using the batchnormalization layers,\n",
    "    # it is necessary to manually add the update operations\n",
    "    # because the moving averages are not included in the graph\n",
    "\n",
    "with tf.control_dependencies(tf.get_collection(tf.GraphKeys.UPDATE_OPS)) :        \n",
    "    D_optim = tf.train.AdamOptimizer(0.001,beta1=0.5).minimize(D_loss, var_list=D_vars, name='D_optim') \n",
    "    G_optim = tf.train.AdamOptimizer(0.001,beta1=0.5).minimize(G_loss, var_list=G_vars, name='G_optim')\n",
    "    \n",
    "residual_optim = tf.train.AdamOptimizer(0.001,beta1=0.5).minimize(residual_loss, var_list=ano_vars, name='residual_optim')\n",
    "\n"
   ]
  },
  {
   "cell_type": "code",
   "execution_count": 4,
   "metadata": {},
   "outputs": [
    {
     "name": "stdout",
     "output_type": "stream",
     "text": [
      "D_e : 2.594805, D_real_e : 1.699517, D_fake_e : 0.895288, G_e : 15.619098\n",
      "D_e : 11.992368, D_real_e : 3.821537, D_fake_e : 8.264807, G_e : 9.120634\n",
      "D_e : 8.988879, D_real_e : 3.203213, D_fake_e : 2.752143, G_e : 7.941249\n",
      "D_e : 6.871267, D_real_e : 1.330997, D_fake_e : 1.283870, G_e : 6.134465\n",
      "D_e : 5.777091, D_real_e : 1.243881, D_fake_e : 1.239738, G_e : 5.141655\n",
      "D_e : 5.095725, D_real_e : 1.192337, D_fake_e : 1.171112, G_e : 4.508668\n",
      "D_e : 4.608215, D_real_e : 1.099775, D_fake_e : 1.066013, G_e : 4.065163\n",
      "D_e : 4.245059, D_real_e : 1.029714, D_fake_e : 1.032781, G_e : 3.731655\n",
      "D_e : 3.962852, D_real_e : 0.992970, D_fake_e : 0.991607, G_e : 3.479572\n",
      "D_e : 3.733498, D_real_e : 0.954555, D_fake_e : 0.941823, G_e : 3.282557\n",
      "D_e : 3.563403, D_real_e : 1.035670, D_fake_e : 0.995178, G_e : 3.136131\n",
      "D_e : 3.402393, D_real_e : 0.909583, D_fake_e : 0.881095, G_e : 3.003356\n",
      "D_e : 3.267605, D_real_e : 0.896098, D_fake_e : 0.887488, G_e : 2.889887\n",
      "D_e : 3.155303, D_real_e : 0.908808, D_fake_e : 0.897759, G_e : 2.791976\n",
      "D_e : 3.049679, D_real_e : 0.838641, D_fake_e : 0.836863, G_e : 2.700249\n",
      "D_e : 2.956463, D_real_e : 0.831078, D_fake_e : 0.819428, G_e : 2.620309\n",
      "D_e : 2.871650, D_real_e : 0.808428, D_fake_e : 0.790179, G_e : 2.547615\n",
      "D_e : 2.802923, D_real_e : 0.860549, D_fake_e : 0.842057, G_e : 2.482351\n",
      "D_e : 2.732865, D_real_e : 0.776385, D_fake_e : 0.764785, G_e : 2.421031\n",
      "D_e : 2.668956, D_real_e : 0.767290, D_fake_e : 0.750674, G_e : 2.366607\n",
      "D_e : 2.611630, D_real_e : 0.769485, D_fake_e : 0.752371, G_e : 2.313465\n",
      "D_e : 2.556627, D_real_e : 0.733981, D_fake_e : 0.722047, G_e : 2.268221\n",
      "D_e : 2.508239, D_real_e : 0.745284, D_fake_e : 0.746326, G_e : 2.227122\n",
      "D_e : 2.462378, D_real_e : 0.734460, D_fake_e : 0.718518, G_e : 2.190727\n",
      "D_e : 2.420308, D_real_e : 0.731457, D_fake_e : 0.720819, G_e : 2.154650\n",
      "D_e : 2.381281, D_real_e : 0.730122, D_fake_e : 0.714109, G_e : 2.120290\n",
      "D_e : 2.344580, D_real_e : 0.713880, D_fake_e : 0.712818, G_e : 2.086615\n",
      "D_e : 2.311604, D_real_e : 0.732457, D_fake_e : 0.721442, G_e : 2.055599\n",
      "D_e : 2.280731, D_real_e : 0.726527, D_fake_e : 0.720326, G_e : 2.027122\n",
      "D_e : 2.250191, D_real_e : 0.698497, D_fake_e : 0.696269, G_e : 2.001646\n",
      "D_e : 2.222206, D_real_e : 0.709121, D_fake_e : 0.701229, G_e : 1.979475\n",
      "D_e : 2.196325, D_real_e : 0.710560, D_fake_e : 0.709067, G_e : 1.956841\n",
      "D_e : 2.171344, D_real_e : 0.699965, D_fake_e : 0.696714, G_e : 1.935809\n",
      "D_e : 2.148871, D_real_e : 0.720639, D_fake_e : 0.708881, G_e : 1.915576\n",
      "D_e : 2.127354, D_real_e : 0.707888, D_fake_e : 0.709183, G_e : 1.896294\n",
      "D_e : 2.106969, D_real_e : 0.714078, D_fake_e : 0.699605, G_e : 1.877708\n",
      "D_e : 2.087174, D_real_e : 0.695816, D_fake_e : 0.698320, G_e : 1.859799\n",
      "D_e : 2.068267, D_real_e : 0.694819, D_fake_e : 0.692613, G_e : 1.844283\n",
      "D_e : 2.050855, D_real_e : 0.702453, D_fake_e : 0.704009, G_e : 1.828719\n",
      "D_e : 2.033576, D_real_e : 0.686410, D_fake_e : 0.690376, G_e : 1.813752\n",
      "D_e : 2.017052, D_real_e : 0.690185, D_fake_e : 0.682258, G_e : 1.800293\n",
      "D_e : 2.001910, D_real_e : 0.697377, D_fake_e : 0.698708, G_e : 1.786509\n",
      "D_e : 1.986311, D_real_e : 0.672725, D_fake_e : 0.673883, G_e : 1.776484\n",
      "D_e : 1.971226, D_real_e : 0.671685, D_fake_e : 0.665804, G_e : 1.767105\n",
      "D_e : 1.956567, D_real_e : 0.671411, D_fake_e : 0.654657, G_e : 1.758830\n",
      "D_e : 1.942920, D_real_e : 0.673877, D_fake_e : 0.668451, G_e : 1.747693\n",
      "D_e : 1.931644, D_real_e : 0.713103, D_fake_e : 0.711035, G_e : 1.739556\n",
      "D_e : 1.919394, D_real_e : 0.687460, D_fake_e : 0.668300, G_e : 1.731496\n",
      "D_e : 1.907524, D_real_e : 0.672101, D_fake_e : 0.677401, G_e : 1.722590\n",
      "D_e : 1.896232, D_real_e : 0.683733, D_fake_e : 0.670385, G_e : 1.713622\n",
      "D_e : 1.883485, D_real_e : 0.628305, D_fake_e : 0.630444, G_e : 1.706487\n",
      "D_e : 1.873042, D_real_e : 0.680563, D_fake_e : 0.670197, G_e : 1.701245\n",
      "D_e : 1.861477, D_real_e : 0.636276, D_fake_e : 0.635289, G_e : 1.695652\n",
      "D_e : 1.850566, D_real_e : 0.643095, D_fake_e : 0.640006, G_e : 1.689892\n",
      "D_e : 1.838832, D_real_e : 0.608923, D_fake_e : 0.607856, G_e : 1.685555\n",
      "D_e : 1.828076, D_real_e : 0.628644, D_fake_e : 0.618537, G_e : 1.682781\n",
      "D_e : 1.818854, D_real_e : 0.659593, D_fake_e : 0.651957, G_e : 1.678703\n",
      "D_e : 1.808549, D_real_e : 0.615145, D_fake_e : 0.616184, G_e : 1.674407\n",
      "D_e : 1.799889, D_real_e : 0.651102, D_fake_e : 0.655118, G_e : 1.670916\n",
      "D_e : 1.790481, D_real_e : 0.625422, D_fake_e : 0.619308, G_e : 1.667672\n",
      "D_e : 1.781176, D_real_e : 0.621867, D_fake_e : 0.610202, G_e : 1.665317\n",
      "D_e : 1.771596, D_real_e : 0.596420, D_fake_e : 0.600263, G_e : 1.663803\n",
      "D_e : 1.761662, D_real_e : 0.583199, D_fake_e : 0.572410, G_e : 1.662656\n",
      "D_e : 1.753206, D_real_e : 0.616381, D_fake_e : 0.612464, G_e : 1.660526\n",
      "D_e : 1.744119, D_real_e : 0.586200, D_fake_e : 0.585354, G_e : 1.659961\n",
      "D_e : 1.735191, D_real_e : 0.583686, D_fake_e : 0.580023, G_e : 1.659693\n",
      "D_e : 1.729593, D_real_e : 0.693823, D_fake_e : 0.671838, G_e : 1.658138\n",
      "D_e : 1.721067, D_real_e : 0.576788, D_fake_e : 0.581455, G_e : 1.656738\n",
      "D_e : 1.712469, D_real_e : 0.572780, D_fake_e : 0.563594, G_e : 1.657634\n",
      "D_e : 1.704049, D_real_e : 0.566521, D_fake_e : 0.564838, G_e : 1.657370\n",
      "D_e : 1.696867, D_real_e : 0.603702, D_fake_e : 0.597552, G_e : 1.657033\n",
      "D_e : 1.688946, D_real_e : 0.567495, D_fake_e : 0.566904, G_e : 1.656155\n",
      "D_e : 1.681015, D_real_e : 0.558372, D_fake_e : 0.559424, G_e : 1.657309\n",
      "D_e : 1.671855, D_real_e : 0.505661, D_fake_e : 0.506596, G_e : 1.659675\n",
      "D_e : 1.663837, D_real_e : 0.541268, D_fake_e : 0.537229, G_e : 1.662147\n",
      "D_e : 1.656174, D_real_e : 0.545819, D_fake_e : 0.543208, G_e : 1.662794\n",
      "D_e : 1.648565, D_real_e : 0.538708, D_fake_e : 0.539067, G_e : 1.664263\n",
      "D_e : 1.640819, D_real_e : 0.527493, D_fake_e : 0.524561, G_e : 1.665645\n",
      "D_e : 1.631851, D_real_e : 0.467478, D_fake_e : 0.473768, G_e : 1.669876\n",
      "D_e : 1.623454, D_real_e : 0.490550, D_fake_e : 0.477834, G_e : 1.674986\n",
      "D_e : 1.616141, D_real_e : 0.517544, D_fake_e : 0.520820, G_e : 1.677938\n",
      "D_e : 1.608903, D_real_e : 0.521288, D_fake_e : 0.508522, G_e : 1.681418\n",
      "D_e : 1.601411, D_real_e : 0.493473, D_fake_e : 0.501003, G_e : 1.683967\n",
      "D_e : 1.593501, D_real_e : 0.477858, D_fake_e : 0.466876, G_e : 1.687900\n",
      "D_e : 1.586478, D_real_e : 0.507993, D_fake_e : 0.495539, G_e : 1.692670\n",
      "D_e : 1.580806, D_real_e : 0.553519, D_fake_e : 0.550776, G_e : 1.694568\n",
      "D_e : 1.574398, D_real_e : 0.510093, D_fake_e : 0.519530, G_e : 1.696999\n",
      "D_e : 1.568511, D_real_e : 0.531017, D_fake_e : 0.531202, G_e : 1.698718\n",
      "D_e : 1.561924, D_real_e : 0.499711, D_fake_e : 0.489044, G_e : 1.701638\n",
      "D_e : 1.554170, D_real_e : 0.434109, D_fake_e : 0.437698, G_e : 1.705345\n",
      "D_e : 1.548517, D_real_e : 0.518454, D_fake_e : 0.526867, G_e : 1.709457\n",
      "D_e : 1.541671, D_real_e : 0.465584, D_fake_e : 0.459876, G_e : 1.712297\n",
      "D_e : 1.535930, D_real_e : 0.508545, D_fake_e : 0.504884, G_e : 1.715168\n",
      "D_e : 1.529816, D_real_e : 0.483280, D_fake_e : 0.483998, G_e : 1.718962\n",
      "D_e : 1.523183, D_real_e : 0.456014, D_fake_e : 0.450249, G_e : 1.722483\n",
      "D_e : 1.516435, D_real_e : 0.442867, D_fake_e : 0.439199, G_e : 1.727461\n",
      "D_e : 1.510550, D_real_e : 0.472122, D_fake_e : 0.479301, G_e : 1.731870\n",
      "D_e : 1.504772, D_real_e : 0.478209, D_fake_e : 0.471792, G_e : 1.734878\n",
      "D_e : 1.499247, D_real_e : 0.481415, D_fake_e : 0.481835, G_e : 1.737859\n",
      "D_e : 1.493238, D_real_e : 0.454523, D_fake_e : 0.449784, G_e : 1.741432\n",
      "total time :  8938.592529535294\n"
     ]
    },
    {
     "data": {
      "image/png": "[encoded data removed]",
      "text/plain": [
       "<matplotlib.figure.Figure at 0x7f2355b0bf60>"
      ]
     },
     "metadata": {},
     "output_type": "display_data"
    }
   ],
   "source": [
    "with tf.Session(config=tf.ConfigProto(gpu_options=tf.GPUOptions(allow_growth=True))) as sess :\n",
    "    sess.run(tf.global_variables_initializer())\n",
    "\n",
    "    np.random.seed(int(time.time()))\n",
    "\n",
    "    test_z = np.random.normal(0,1,size=(16,1,1,z_size))\n",
    "\n",
    "    \n",
    "    log_txt = open(file_name +'/log.txt','w')\n",
    "\n",
    "    hist_G = []\n",
    "    hist_D = []\n",
    "    G_error = []\n",
    "    D_error = []\n",
    "    D_fake_error = []\n",
    "    D_real_error = []\n",
    "    \n",
    "    start = time.time()\n",
    "    for i in range(10000) :\n",
    "        \n",
    "        train_images = my_mnist_train_batch(100) \n",
    "        u_ = np.reshape(train_images,(-1,28,28,1)) \n",
    "        z_ = np.random.normal(0,1,size=(100,1,1,z_size))\n",
    "        soft_one_ = np.random.uniform(0.9,1.0,(100,1,1,1))\n",
    "\n",
    "        _ , D_e,D_real_e,D_fake_e = sess.run([D_optim, D_loss,D_real_loss,D_fake_loss], {u : u_, z : z_, isTrain : True,soft_one : soft_one_})\n",
    "        D_error.append(D_e)\n",
    "        D_real_error.append(D_real_e)\n",
    "        D_fake_error.append(D_fake_e)\n",
    "\n",
    "\n",
    "    #    train_images,train_labels = mnist.train.next_batch(100)    \n",
    "    #    u_ = np.reshape(train_images,(-1,28,28,1)) \n",
    "    #    z_ = np.random.normal(0,1,size=(100,1,1,100))\n",
    "   \n",
    "        _ , G_e = sess.run([G_optim, G_loss], {u : u_, z : z_, isTrain : True}) \n",
    "        G_error.append(G_e)\n",
    "        \n",
    "        if i%100 == 0:\n",
    "\n",
    "            hist_D.append(np.mean(D_error)) \n",
    "            hist_G.append(np.mean(G_error))\n",
    "\n",
    "            print('D_e : %.6f, D_real_e : %.6f, D_fake_e : %.6f, G_e : %.6f'%(np.mean(D_error), np.mean(D_real_error),\n",
    "                np.mean(D_fake_error), np.mean(G_error)))\n",
    "            log_txt.write('D_e : %.6f, D_real_e : %.6f, D_fake_e : %.6f, G_e : %.6f\\n'%(np.mean(D_error),\n",
    "                np.mean(D_real_error), np.mean(D_fake_error), np.mean(G_error)))\n",
    "      \n",
    "            r = sess.run([G_z],feed_dict={z : test_z, isTrain : False})        \n",
    "            mnist_4by4_save(np.reshape(r,(-1,784)),file_name + '/result_{}.png'.format(str(i).zfill(3)))\n",
    "\n",
    "            np.random.seed(int(time.time()))\n",
    "\n",
    "            G_errer = []\n",
    "            D_errer = []\n",
    "            D_fake_error = []\n",
    "            D_real_error = []\n",
    "\n",
    "\n",
    "    log_txt.close()\n",
    "    gan_loss_graph_save(G_loss = hist_G,D_loss=hist_D,path = file_name + '/loss_graph.png')   \n",
    "    saver = tf.train.Saver()\n",
    "    saver.save(sess,file_name + '/para.cktp')\n",
    "\n",
    "    end = time.time()-start\n",
    "\n",
    "    print(\"total time : \",end)"
   ]
  },
  {
   "cell_type": "code",
   "execution_count": 5,
   "metadata": {},
   "outputs": [
    {
     "name": "stdout",
     "output_type": "stream",
     "text": [
      "INFO:tensorflow:Restoring parameters from proto_1-2/para.cktp\n"
     ]
    }
   ],
   "source": [
    "\n",
    "\n",
    "if not os.path.isdir(file_name) :\n",
    "    os.mkdir(file_name)\n",
    "\n",
    "    \n",
    "sess = tf.InteractiveSession()\n",
    "    \n",
    "new_saver = tf.train.import_meta_graph(file_name + '/para.cktp.meta')\n",
    "new_saver.restore(sess, tf.train.latest_checkpoint(file_name + '/'))\n",
    "\n",
    "\n",
    "z = sess.graph.get_tensor_by_name(\"z:0\")\n",
    "u = sess.graph.get_tensor_by_name(\"u:0\")\n",
    "\n",
    "ano_y = sess.graph.get_tensor_by_name(\"ano_y:0\")\n",
    "ano_z = sess.graph.get_tensor_by_name(\"ano_z:0\")\n",
    "\n",
    "isTrain = sess.graph.get_tensor_by_name(\"isTrain:0\")\n",
    "\n",
    "    \n",
    "G_z = sess.graph.get_tensor_by_name(\"G_z:0\")\n",
    "img_z = sess.graph.get_tensor_by_name(\"img_z:0\")\n",
    "\n",
    "\n",
    "feature_loss = sess.graph.get_tensor_by_name(\"feature_loss:0\")\n",
    "D_real_loss = sess.graph.get_tensor_by_name('D_real_loss:0')\n",
    "D_fake_loss = sess.graph.get_tensor_by_name('D_fake_loss:0')\n",
    "\n",
    "D_loss = sess.graph.get_tensor_by_name(\"D_loss:0\")\n",
    "G_loss = sess.graph.get_tensor_by_name(\"G_loss:0\")\n",
    "residual_loss = sess.graph.get_tensor_by_name(\"residual_loss:0\")\n",
    "\n",
    "\n",
    "D_optim = sess.graph.get_operation_by_name(\"D_optim\")\n",
    "G_optim = sess.graph.get_operation_by_name(\"G_optim\")\n",
    "\n",
    "residual_optim = sess.graph.get_operation_by_name(\"residual_optim\")\n",
    "\n",
    "\n",
    "\n"
   ]
  },
  {
   "cell_type": "code",
   "execution_count": 6,
   "metadata": {},
   "outputs": [],
   "source": [
    "im = my_mnist_test_batch(1, number = 7) "
   ]
  },
  {
   "cell_type": "code",
   "execution_count": 7,
   "metadata": {},
   "outputs": [
    {
     "data": {
      "image/png": "[encoded data removed]",
      "text/plain": [
       "<matplotlib.figure.Figure at 0x7f251f9bcda0>"
      ]
     },
     "metadata": {},
     "output_type": "display_data"
    },
    {
     "data": {
      "image/png": "[encoded data removed]",
      "text/plain": [
       "<matplotlib.figure.Figure at 0x7f234f49da58>"
      ]
     },
     "metadata": {},
     "output_type": "display_data"
    },
    {
     "data": {
      "image/png": "[encoded data removed]",
      "text/plain": [
       "<matplotlib.figure.Figure at 0x7f234f376eb8>"
      ]
     },
     "metadata": {},
     "output_type": "display_data"
    },
    {
     "name": "stdout",
     "output_type": "stream",
     "text": [
      "10.6343 0.203448\n"
     ]
    }
   ],
   "source": [
    " \n",
    "plt.imshow(np.reshape(im,(28, 28)), cmap='Greys_r')\n",
    "plt.show()\n",
    "    \n",
    "\n",
    "im_fake = sess.run([img_z]) \n",
    "plt.imshow(np.reshape(im_fake,(28, 28)), cmap='Greys_r')\n",
    "plt.show()\n",
    "\n",
    "ano_gap  = np.abs(np.reshape(im_fake,(28, 28)) - np.reshape(im,(28, 28)))\n",
    "plt.imshow(ano_gap, cmap='Greys_r')\n",
    "plt.show()  \n",
    "\n",
    "fea_loss, res_loss = sess.run([feature_loss,residual_loss], {ano_y : np.reshape(im,(1,28, 28,1))})\n",
    "\n",
    "print(fea_loss, res_loss)"
   ]
  },
  {
   "cell_type": "code",
   "execution_count": 8,
   "metadata": {},
   "outputs": [
    {
     "name": "stdout",
     "output_type": "stream",
     "text": [
      "0.203448\n",
      "0.176495\n",
      "0.161024\n",
      "0.147709\n",
      "0.118769\n",
      "0.0901975\n",
      "0.0870838\n",
      "0.0727327\n",
      "0.0673584\n",
      "0.0627525\n"
     ]
    }
   ],
   "source": [
    "for i in range(1000) :\n",
    "    _ , loss = sess.run([residual_optim,residual_loss], {ano_y : np.reshape(im,(1,28, 28,1))})\n",
    "    if  i % 100 == 0 : \n",
    "        print(loss)"
   ]
  },
  {
   "cell_type": "code",
   "execution_count": 9,
   "metadata": {},
   "outputs": [
    {
     "data": {
      "image/png": "[encoded data removed]",
      "text/plain": [
       "<matplotlib.figure.Figure at 0x7f234fe9dda0>"
      ]
     },
     "metadata": {},
     "output_type": "display_data"
    },
    {
     "data": {
      "image/png": "[encoded data removed]",
      "text/plain": [
       "<matplotlib.figure.Figure at 0x7f234ff6cac8>"
      ]
     },
     "metadata": {},
     "output_type": "display_data"
    },
    {
     "data": {
      "image/png": "[encoded data removed]",
      "text/plain": [
       "<matplotlib.figure.Figure at 0x7f234fc1d6d8>"
      ]
     },
     "metadata": {},
     "output_type": "display_data"
    },
    {
     "name": "stdout",
     "output_type": "stream",
     "text": [
      "7.66652 0.058929\n"
     ]
    }
   ],
   "source": [
    "plt.imshow(np.reshape(im,(28, 28)), cmap='Greys_r')\n",
    "plt.show()\n",
    "    \n",
    "\n",
    "im_fake = sess.run([img_z]) \n",
    "plt.imshow(np.reshape(im_fake,(28, 28)), cmap='Greys_r')\n",
    "plt.show()\n",
    "\n",
    "ano_gap  = np.abs(np.reshape(im_fake,(28, 28)) - np.reshape(im,(28, 28)))\n",
    "plt.imshow(ano_gap, cmap='Greys_r')\n",
    "plt.show()  \n",
    "\n",
    "fea_loss, res_loss = sess.run([feature_loss,residual_loss], {ano_y : np.reshape(im,(1,28, 28,1))})\n",
    "\n",
    "print(fea_loss, res_loss)"
   ]
  },
  {
   "cell_type": "code",
   "execution_count": null,
   "metadata": {},
   "outputs": [],
   "source": []
  },
  {
   "cell_type": "code",
   "execution_count": 10,
   "metadata": {},
   "outputs": [
    {
     "name": "stdout",
     "output_type": "stream",
     "text": [
      "INFO:tensorflow:Restoring parameters from proto_1-2/para.cktp\n"
     ]
    }
   ],
   "source": [
    "\n",
    "\n",
    "if not os.path.isdir(file_name) :\n",
    "    os.mkdir(file_name)\n",
    "\n",
    "    \n",
    "sess = tf.InteractiveSession()\n",
    "    \n",
    "new_saver = tf.train.import_meta_graph(file_name + '/para.cktp.meta')\n",
    "new_saver.restore(sess, tf.train.latest_checkpoint(file_name + '/'))\n",
    "\n",
    "\n",
    "z = sess.graph.get_tensor_by_name(\"z:0\")\n",
    "u = sess.graph.get_tensor_by_name(\"u:0\")\n",
    "\n",
    "ano_y = sess.graph.get_tensor_by_name(\"ano_y:0\")\n",
    "ano_z = sess.graph.get_tensor_by_name(\"ano_z:0\")\n",
    "\n",
    "isTrain = sess.graph.get_tensor_by_name(\"isTrain:0\")\n",
    "\n",
    "    \n",
    "G_z = sess.graph.get_tensor_by_name(\"G_z:0\")\n",
    "img_z = sess.graph.get_tensor_by_name(\"img_z:0\")\n",
    "\n",
    "\n",
    "feature_loss = sess.graph.get_tensor_by_name(\"feature_loss:0\")\n",
    "D_real_loss = sess.graph.get_tensor_by_name('D_real_loss:0')\n",
    "D_fake_loss = sess.graph.get_tensor_by_name('D_fake_loss:0')\n",
    "\n",
    "D_loss = sess.graph.get_tensor_by_name(\"D_loss:0\")\n",
    "G_loss = sess.graph.get_tensor_by_name(\"G_loss:0\")\n",
    "residual_loss = sess.graph.get_tensor_by_name(\"residual_loss:0\")\n",
    "\n",
    "\n",
    "D_optim = sess.graph.get_operation_by_name(\"D_optim\")\n",
    "G_optim = sess.graph.get_operation_by_name(\"G_optim\")\n",
    "\n",
    "residual_optim = sess.graph.get_operation_by_name(\"residual_optim\")\n",
    "\n",
    "\n"
   ]
  },
  {
   "cell_type": "code",
   "execution_count": 11,
   "metadata": {},
   "outputs": [],
   "source": [
    "im = my_mnist_test_batch(1, number = 4) "
   ]
  },
  {
   "cell_type": "code",
   "execution_count": 12,
   "metadata": {},
   "outputs": [
    {
     "data": {
      "image/png": "[encoded data removed]",
      "text/plain": [
       "<matplotlib.figure.Figure at 0x7f23526f20f0>"
      ]
     },
     "metadata": {},
     "output_type": "display_data"
    },
    {
     "data": {
      "image/png": "[encoded data removed]",
      "text/plain": [
       "<matplotlib.figure.Figure at 0x7f250f72f710>"
      ]
     },
     "metadata": {},
     "output_type": "display_data"
    },
    {
     "data": {
      "image/png": "[encoded data removed]",
      "text/plain": [
       "<matplotlib.figure.Figure at 0x7f250f2cd470>"
      ]
     },
     "metadata": {},
     "output_type": "display_data"
    },
    {
     "name": "stdout",
     "output_type": "stream",
     "text": [
      "11.1757 0.242867\n"
     ]
    }
   ],
   "source": [
    "\n",
    "plt.imshow(np.reshape(im,(28, 28)), cmap='Greys_r')\n",
    "plt.show()\n",
    "    \n",
    "\n",
    "im_fake = sess.run([img_z]) \n",
    "plt.imshow(np.reshape(im_fake,(28, 28)), cmap='Greys_r')\n",
    "plt.show()\n",
    "\n",
    "ano_gap  = np.abs(np.reshape(im_fake,(28, 28)) - np.reshape(im,(28, 28)))\n",
    "plt.imshow(ano_gap, cmap='Greys_r')\n",
    "plt.show()  \n",
    "\n",
    "fea_loss, res_loss = sess.run([feature_loss,residual_loss], {ano_y : np.reshape(im,(1,28, 28,1))})\n",
    "\n",
    "print(fea_loss, res_loss)"
   ]
  },
  {
   "cell_type": "code",
   "execution_count": 13,
   "metadata": {},
   "outputs": [
    {
     "name": "stdout",
     "output_type": "stream",
     "text": [
      "0.242867\n",
      "0.214654\n",
      "0.16572\n",
      "0.0722174\n",
      "0.0651914\n",
      "0.0587704\n",
      "0.0559467\n",
      "0.0550584\n",
      "0.0541826\n",
      "0.0533294\n"
     ]
    }
   ],
   "source": [
    "for i in range(1000) :\n",
    "    _ , loss = sess.run([residual_optim,residual_loss], {ano_y : np.reshape(im,(1,28, 28,1))})\n",
    "    if  i % 100 == 0 : \n",
    "        print(loss)"
   ]
  },
  {
   "cell_type": "code",
   "execution_count": 14,
   "metadata": {},
   "outputs": [
    {
     "data": {
      "image/png": "[encoded data removed]",
      "text/plain": [
       "<matplotlib.figure.Figure at 0x7f23526eb5c0>"
      ]
     },
     "metadata": {},
     "output_type": "display_data"
    },
    {
     "data": {
      "image/png": "[encoded data removed]",
      "text/plain": [
       "<matplotlib.figure.Figure at 0x7f250f3d4dd8>"
      ]
     },
     "metadata": {},
     "output_type": "display_data"
    },
    {
     "data": {
      "image/png": "[encoded data removed]",
      "text/plain": [
       "<matplotlib.figure.Figure at 0x7f234d980e80>"
      ]
     },
     "metadata": {},
     "output_type": "display_data"
    },
    {
     "name": "stdout",
     "output_type": "stream",
     "text": [
      "6.06547 0.052539\n"
     ]
    }
   ],
   "source": [
    "plt.imshow(np.reshape(im,(28, 28)), cmap='Greys_r')\n",
    "plt.show()\n",
    "    \n",
    "\n",
    "im_fake = sess.run([img_z]) \n",
    "plt.imshow(np.reshape(im_fake,(28, 28)), cmap='Greys_r')\n",
    "plt.show()\n",
    "\n",
    "ano_gap  = np.abs(np.reshape(im_fake,(28, 28)) - np.reshape(im,(28, 28)))\n",
    "plt.imshow(ano_gap, cmap='Greys_r')\n",
    "plt.show()  \n",
    "\n",
    "fea_loss, res_loss = sess.run([feature_loss,residual_loss], {ano_y : np.reshape(im,(1,28, 28,1))})\n",
    "\n",
    "print(fea_loss, res_loss)"
   ]
  },
  {
   "cell_type": "code",
   "execution_count": null,
   "metadata": {},
   "outputs": [],
   "source": []
  },
  {
   "cell_type": "code",
   "execution_count": null,
   "metadata": {},
   "outputs": [],
   "source": []
  }
 ],
 "metadata": {
  "kernelspec": {
   "display_name": "Python 3",
   "language": "python",
   "name": "python3"
  },
  "language_info": {
   "codemirror_mode": {
    "name": "ipython",
    "version": 3
   },
   "file_extension": ".py",
   "mimetype": "text/x-python",
   "name": "python",
   "nbconvert_exporter": "python",
   "pygments_lexer": "ipython3",
   "version": "3.5.2"
  },
  "toc": {
   "base_numbering": 1,
   "nav_menu": {},
   "number_sections": true,
   "sideBar": true,
   "skip_h1_title": false,
   "title_cell": "Table of Contents",
   "title_sidebar": "Contents",
   "toc_cell": false,
   "toc_position": {},
   "toc_section_display": true,
   "toc_window_display": true
  },
  "varInspector": {
   "cols": {
    "lenName": 16,
    "lenType": 16,
    "lenVar": 40
   },
   "kernels_config": {
    "python": {
     "delete_cmd_postfix": "",
     "delete_cmd_prefix": "del ",
     "library": "var_list.py",
     "varRefreshCmd": "print(var_dic_list())"
    },
    "r": {
     "delete_cmd_postfix": ") ",
     "delete_cmd_prefix": "rm(",
     "library": "var_list.r",
     "varRefreshCmd": "cat(var_dic_list()) "
    }
   },
   "types_to_exclude": [
    "module",
    "function",
    "builtin_function_or_method",
    "instance",
    "_Feature"
   ],
   "window_display": true
  }
 },
 "nbformat": 4,
 "nbformat_minor": 2
}
