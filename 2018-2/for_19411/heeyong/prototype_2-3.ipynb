{
 "cells": [
  {
   "cell_type": "markdown",
   "metadata": {},
   "source": [
    "# add some tips\n",
    "\n",
    "https://medium.com/@utk.is.here/keep-calm-and-train-a-gan-pitfalls-and-tips-on-training-generative-adversarial-networks-edd529764aa9\n",
    "\n",
    "pro 2-2 : noise uni -> normal\n",
    "\n",
    "pro 2-3 : noise uni -> normal + img size 28 -> 64\n",
    "\n",
    "pro 2-1 : n-class at mini batch"
   ]
  },
  {
   "cell_type": "code",
   "execution_count": 1,
   "metadata": {
    "code_folding": [
     42,
     61
    ]
   },
   "outputs": [],
   "source": [
    "import tensorflow as tf\n",
    "import numpy as np\n",
    "import os\n",
    "import sys\n",
    "import time\n",
    "import time \n",
    "import matplotlib.pyplot as plt\n",
    "import matplotlib.gridspec as gridspec \n",
    "\n",
    "os.environ[\"CUDA_VISIBLE_DEVICES\"]=\"0\"\n",
    "\n",
    "def my_mnist_train_batch(size) :\n",
    "    m = 500\n",
    "    data = []\n",
    "    for i in range(1000) :\n",
    "        number = number = np.random.randint(5)\n",
    "        image, label = mnist.train.next_batch(m)       \n",
    "        for j in range(len(label)) : \n",
    "            \n",
    "            if np.argmax(label[j])==number :\n",
    "                data.append(image[j])\n",
    "                number = number = np.random.randint(5)\n",
    "            if len(data) == size :\n",
    "                break\n",
    "        if len(data) == size :\n",
    "            break\n",
    "    return np.array(data).reshape(-1,28,28,1)\n",
    "\n",
    "def my_mnist_test_batch(size, number = 0) :\n",
    "    m = 500\n",
    "    data = []\n",
    "    for i in range(1000) :\n",
    "        image, label = mnist.test.next_batch(m)       \n",
    "        for j in range(len(label)) : \n",
    "            if np.argmax(label[j])==number :\n",
    "                data.append(image[j])              \n",
    "            if len(data) == size :\n",
    "                break\n",
    "        if len(data) == size :\n",
    "            break\n",
    "    return np.array(data).reshape(-1,28,28,1)\n",
    "\n",
    "def mnist_4by4_save(samples,path):\n",
    "    fig = plt.figure(figsize=(4, 4))\n",
    "    gs = gridspec.GridSpec(4, 4)    \n",
    "    gs.update(wspace=0.05, hspace=0.05) #이미지 사이간격 조절\n",
    "  \n",
    "    for i, sample in enumerate(samples):\n",
    "        ax = plt.subplot(gs[i])\n",
    "        plt.axis('off')    \n",
    "        ax.set_xticklabels([])\n",
    "        ax.set_yticklabels([])\n",
    "        ax.set_aspect('equal')\n",
    "   \n",
    "        plt.imshow(sample.reshape(64, 64), cmap='Greys_r',clim=(0.0,1.0))\n",
    "    plt.colorbar()\n",
    "    plt.savefig(path, bbox_inches='tight')\n",
    "    plt.close(fig)\n",
    "   \n",
    "    return None\n",
    "\n",
    "def gan_loss_graph_save(G_loss,D_loss,path):\n",
    "    x1 = range(len(G_loss))\n",
    "    x2 = range(len(D_loss))\n",
    "      \n",
    "    y1 = G_loss\n",
    "    y2 = D_loss\n",
    "  \n",
    "      \n",
    "    plt.plot(x1,y1,label='G_loss') \n",
    "    plt.plot(x2,y2,label='D_loss') \n",
    "  \n",
    "    plt.xlabel('weight per update')\n",
    "    plt.ylabel('loss')             \n",
    "    plt.legend(loc=4)              \n",
    "    plt.grid(True)\n",
    "    plt.tight_layout()\n",
    "  \n",
    "    plt.savefig(path)              \n",
    "\n",
    "    return None\n"
   ]
  },
  {
   "cell_type": "code",
   "execution_count": 2,
   "metadata": {
    "code_folding": [
     7,
     45,
     83,
     119
    ]
   },
   "outputs": [
    {
     "name": "stdout",
     "output_type": "stream",
     "text": [
      "Extracting ../MNIST_data/train-images-idx3-ubyte.gz\n",
      "Extracting ../MNIST_data/train-labels-idx1-ubyte.gz\n",
      "Extracting ../MNIST_data/t10k-images-idx3-ubyte.gz\n",
      "Extracting ../MNIST_data/t10k-labels-idx1-ubyte.gz\n"
     ]
    }
   ],
   "source": [
    "from tensorflow.examples.tutorials.mnist import input_data\n",
    "mnist = input_data.read_data_sets(\"../MNIST_data\", one_hot=True)\n",
    "\n",
    "file_name = 'proto_2-3'\n",
    "\n",
    "if not os.path.isdir(file_name) :\n",
    "    os.mkdir(file_name)\n",
    "def simple_G(x,isTrain = True, reuse = False, name = 'G_out') : #input = (minibatch * w * h * ch)\n",
    "    \n",
    "    # out size = (in size + 2*padding - kenel)/strides + 1    \n",
    "    w_init = tf.truncated_normal_initializer(mean= 0.0, stddev=0.02)\n",
    "    b_init = tf.constant_initializer(0.0)\n",
    "\n",
    "\n",
    "    with tf.variable_scope('G',reuse=reuse) :\n",
    "        \n",
    "        #x = (-1, 1, 1, 100)\n",
    "\n",
    "\n",
    "        conv1 = tf.layers.conv2d_transpose(x,2048,[4,4], strides=(1,1),padding = 'valid',\n",
    "                kernel_initializer=w_init, bias_initializer=b_init) \n",
    "        r1 = tf.nn.elu(tf.layers.batch_normalization(conv1,training=isTrain))#2048*4*4\n",
    "        \n",
    "        conv2 = tf.layers.conv2d_transpose(r1,1024,[4,4], strides=(2,2),padding = 'same',\n",
    "                kernel_initializer=w_init, bias_initializer=b_init)\n",
    "        r2 = tf.nn.elu(tf.layers.batch_normalization(conv2,training=isTrain))#1024*8*8\n",
    "                \n",
    "        conv3 = tf.layers.conv2d_transpose(r2,512,[4,4], strides=(2,2),padding = 'same',\n",
    "                kernel_initializer=w_init, bias_initializer=b_init)\n",
    "        r3 = tf.nn.elu(tf.layers.batch_normalization(conv3,training=isTrain))#512*16*16\n",
    "\n",
    "        conv4 = tf.layers.conv2d_transpose(r3,256,[4,4], strides=(2,2),padding = 'same',\n",
    "                kernel_initializer=w_init, bias_initializer=b_init)\n",
    "        r4 = tf.nn.elu(tf.layers.batch_normalization(conv4,training=isTrain))#256*32*32\n",
    "\n",
    "        conv5 = tf.layers.conv2d_transpose(r4,128,[4,4], strides=(2,2),padding = 'same',\n",
    "                kernel_initializer=w_init, bias_initializer=b_init)\n",
    "        r5 = tf.nn.elu(tf.layers.batch_normalization(conv5,training=isTrain))#128*64*64\n",
    "\n",
    "        conv6 = tf.layers.conv2d_transpose(r5,1,[3,3], strides=(1,1),padding = 'same',\n",
    "                kernel_initializer=w_init, bias_initializer=b_init)\n",
    "    r6 = tf.nn.tanh(conv6,name=name)#1*64*64\n",
    "  \n",
    "\n",
    "    return r6\n",
    "def residual_loss_G(x,isTrain = False, reuse = True, name = 'residual_loss_out') : #input = (minibatch * w * h * ch)\n",
    "    \n",
    "    # out size = (in size + 2*padding - kenel)/strides + 1    \n",
    "    w_init = tf.truncated_normal_initializer(mean= 0.0, stddev=0.02)\n",
    "    b_init = tf.constant_initializer(0.0)    \n",
    "\n",
    "\n",
    "    with tf.variable_scope('G',reuse=reuse) as scope :\n",
    "        scope.reuse_variables()\n",
    "        #x = (-1, 1, 1, 100)\n",
    "\n",
    "\n",
    "        conv1 = tf.layers.conv2d_transpose(x,2048,[4,4], strides=(1,1),padding = 'valid',\n",
    "                kernel_initializer=w_init, bias_initializer=b_init) \n",
    "        r1 = tf.nn.elu(tf.layers.batch_normalization(conv1,training=isTrain))#2048*4*4\n",
    "        \n",
    "        conv2 = tf.layers.conv2d_transpose(r1,1024,[4,4], strides=(2,2),padding = 'same',\n",
    "                kernel_initializer=w_init, bias_initializer=b_init)\n",
    "        r2 = tf.nn.elu(tf.layers.batch_normalization(conv2,training=isTrain))#1024*8*8\n",
    "                \n",
    "        conv3 = tf.layers.conv2d_transpose(r2,512,[4,4], strides=(2,2),padding = 'same',\n",
    "                kernel_initializer=w_init, bias_initializer=b_init)\n",
    "        r3 = tf.nn.elu(tf.layers.batch_normalization(conv3,training=isTrain))#512*16*16\n",
    "\n",
    "        conv4 = tf.layers.conv2d_transpose(r3,256,[4,4], strides=(2,2),padding = 'same',\n",
    "                kernel_initializer=w_init, bias_initializer=b_init)\n",
    "        r4 = tf.nn.elu(tf.layers.batch_normalization(conv4,training=isTrain))#256*32*32\n",
    "\n",
    "        conv5 = tf.layers.conv2d_transpose(r4,128,[4,4], strides=(2,2),padding = 'same',\n",
    "                kernel_initializer=w_init, bias_initializer=b_init)\n",
    "        r5 = tf.nn.elu(tf.layers.batch_normalization(conv5,training=isTrain))#128*64*64\n",
    "\n",
    "        conv6 = tf.layers.conv2d_transpose(r5,1,[3,3], strides=(1,1),padding = 'same',\n",
    "                kernel_initializer=w_init, bias_initializer=b_init)\n",
    "    r6 = tf.nn.tanh(conv6,name=name)#1*64*64\n",
    "  \n",
    "\n",
    "    return r6\n",
    "def simple_D(x,isTrain=True,reuse = False) :\n",
    "    \n",
    "    w_init = tf.truncated_normal_initializer(mean= 0.0, stddev=0.02)\n",
    "    b_init = tf.constant_initializer(0.0)\n",
    "    with tf.variable_scope('D', reuse=reuse) :\n",
    "        \n",
    "        #x = (-1,64,64,1)\n",
    "\n",
    "\n",
    "        conv1 = tf.layers.conv2d(x,128,[4,4], strides=(2,2),padding = 'same',\n",
    "                                kernel_initializer=w_init, bias_initializer=b_init) \n",
    "        r1 = tf.nn.elu(tf.layers.batch_normalization(conv1,training=isTrain))#128*32*32\n",
    "\n",
    "   \n",
    "        conv2 = tf.layers.conv2d(r1,256,[4,4], strides=(2,2),padding = 'same',\n",
    "                                kernel_initializer=w_init, bias_initializer=b_init)\n",
    "        r2 = tf.nn.elu(tf.layers.batch_normalization(conv2,training=isTrain))#256*16*16\n",
    "\n",
    "  \n",
    "        conv3 = tf.layers.conv2d(r2,512,[4,4], strides=(2,2),padding = 'same',\n",
    "                                kernel_initializer=w_init, bias_initializer=b_init)\n",
    "        r3 = tf.nn.elu(tf.layers.batch_normalization(conv3,training=isTrain))#512*8*8\n",
    "\n",
    " \n",
    "        conv4 = tf.layers.conv2d(r3,1024,[4,4], strides=(2,2),padding = 'same',\n",
    "                                kernel_initializer=w_init, bias_initializer=b_init)\n",
    "        r4 = tf.nn.elu(tf.layers.batch_normalization(conv4,training=isTrain))#1024*4*4\n",
    "\n",
    "\n",
    "        conv5 = tf.layers.conv2d(r4,1,[4,4], strides=(1,1),padding = 'valid',\n",
    "                                 kernel_initializer=w_init, bias_initializer=b_init)\n",
    "       \n",
    "    r5 = tf.nn.sigmoid(conv5)#1*1*1\n",
    "\n",
    "\n",
    "    return r5\n",
    "def feature_extractor_D(x,isTrain=False,reuse = True, name='feature_out') :\n",
    "    w_init = tf.truncated_normal_initializer(mean= 0.0, stddev=0.02)\n",
    "    b_init = tf.constant_initializer(0.0)\n",
    "    with tf.variable_scope('D', reuse=reuse) as scope :\n",
    "        scope.reuse_variables()\n",
    "        #x = (-1,28,28,1)\n",
    "\n",
    "        conv1 = tf.layers.conv2d(x,128,[4,4], strides=(2,2),padding = 'same',\n",
    "                                kernel_initializer=w_init, bias_initializer=b_init) \n",
    "        r1 = tf.nn.elu(tf.layers.batch_normalization(conv1,training=isTrain))#128*32*32\n",
    "\n",
    "   \n",
    "        conv2 = tf.layers.conv2d(r1,256,[4,4], strides=(2,2),padding = 'same',\n",
    "                                kernel_initializer=w_init, bias_initializer=b_init)\n",
    "        r2 = tf.nn.elu(tf.layers.batch_normalization(conv2,training=isTrain))#256*16*16\n",
    "\n",
    "  \n",
    "        conv3 = tf.layers.conv2d(r2,512,[4,4], strides=(2,2),padding = 'same',\n",
    "                                kernel_initializer=w_init, bias_initializer=b_init)\n",
    "    r3 = tf.nn.elu(tf.layers.batch_normalization(conv3,training=isTrain),name=name)#512*8*8\n",
    "\n",
    " \n",
    "        #conv4 = tf.layers.conv2d(r3,1024,[4,4], strides=(2,2),padding = 'same',\n",
    "        #                        kernel_initializer=w_init, bias_initializer=b_init)\n",
    "        #r4 = tf.nn.elu(tf.layers.batch_normalization(conv4,training=isTrain))#1024*4*4\n",
    "\n",
    "\n",
    "        #conv5 = tf.layers.conv2d(r4,1,[4,4], strides=(1,1),padding = 'valid',\n",
    "       #                         kernel_initializer=w_init, bias_initializer=b_init)\n",
    "       \n",
    "  \n",
    "\n",
    "    return r3\n",
    "\n"
   ]
  },
  {
   "cell_type": "code",
   "execution_count": 3,
   "metadata": {},
   "outputs": [],
   "source": [
    "lr = 0.001\n",
    "\n",
    "z_size = 100\n",
    "\n",
    "z = tf.placeholder(tf.float32,shape=(None,1,1,z_size),name = 'z')    \n",
    "u = tf.placeholder(tf.float32, shape = (None, 64,64,1),name='u')\n",
    "ano_y = tf.placeholder(tf.float32, shape = (1, 64,64,1),name='ano_y')\n",
    "\n",
    "ano_z = tf.get_variable('ano_z', shape = [1, 1, 1, z_size], dtype = tf.float32, \n",
    "        initializer = tf.truncated_normal_initializer(mean= 0.0, stddev=0.1))\n",
    "\n",
    "isTrain = tf.placeholder(dtype=tf.bool,name='isTrain') \n",
    "soft_one = tf.placeholder(tf.float32, shape = (None, 1,1,1),name='soft_one') # 0.9~1.0\n",
    "soft_zero = tf.placeholder(tf.float32, shape = (None, 1,1,1),name='soft_zero') # 0.0~0.1\n",
    "\n",
    "G_z = simple_G(z,name='G_z')\n",
    "\n",
    "D_real = simple_D(u,isTrain)\n",
    "D_fake = simple_D(G_z,isTrain,reuse=True)\n",
    "\n",
    "\n",
    "img_z = residual_loss_G(ano_z, name ='img_z')\n",
    "\n",
    "feature_y = feature_extractor_D(ano_y, reuse = True, name ='feature_y')\n",
    "feature_z = feature_extractor_D(img_z, reuse = True, name ='feature_z')\n",
    "\n",
    "\n",
    "feature_loss = tf.reduce_mean(tf.abs(feature_y-feature_z),name = 'feature_loss')\n",
    "D_real_loss = tf.reduce_mean(-(soft_one*tf.log(D_real + 1e-8) + (1-soft_one)*tf.log(1- D_real + 1e-8)),name = 'D_real_loss')\n",
    "D_fake_loss = tf.reduce_mean(-(soft_zero*tf.log(D_fake + 1e-8) + (1-soft_zero)*tf.log(1 - D_fake + 1e-8)),name = 'D_fake_loss')\n",
    "\n",
    "\n",
    "D_loss =  tf.add(D_real_loss,D_fake_loss,name='D_loss')\n",
    "G_loss =  tf.reduce_mean(-tf.log(D_fake + 1e-8),name='G_loss')\n",
    "residual_loss = tf.reduce_mean(tf.abs(img_z - ano_y), name = 'residual_loss')\n",
    "\n",
    "T_vars = tf.trainable_variables()\n",
    "D_vars = [var for var in T_vars if var.name.startswith('D')]\n",
    "G_vars = [var for var in T_vars if var.name.startswith('G')]\n",
    "ano_vars = [var for var in T_vars if var.name.startswith('ano')]\n",
    "    # When using the batchnormalization layers,\n",
    "    # it is necessary to manually add the update operations\n",
    "    # because the moving averages are not included in the graph\n",
    "\n",
    "with tf.control_dependencies(tf.get_collection(tf.GraphKeys.UPDATE_OPS)) :        \n",
    "    D_optim = tf.train.AdamOptimizer(0.001,beta1=0.5).minimize(D_loss, var_list=D_vars, name='D_optim') \n",
    "    G_optim = tf.train.AdamOptimizer(0.001,beta1=0.5).minimize(G_loss, var_list=G_vars, name='G_optim')\n",
    "    \n",
    "residual_optim = tf.train.AdamOptimizer(0.001,beta1=0.5).minimize(residual_loss, var_list=ano_vars, name='residual_optim')\n",
    "\n"
   ]
  },
  {
   "cell_type": "code",
   "execution_count": 4,
   "metadata": {},
   "outputs": [
    {
     "name": "stdout",
     "output_type": "stream",
     "text": [
      "D_e : 1.734658, D_real_e : 0.748062, D_fake_e : 0.986597, G_e : 17.217432\n",
      "D_e : 4.530227, D_real_e : 1.534567, D_fake_e : 3.023616, G_e : 6.946587\n",
      "D_e : 3.355836, D_real_e : 1.100029, D_fake_e : 1.069672, G_e : 4.511214\n",
      "D_e : 2.815817, D_real_e : 0.863579, D_fake_e : 0.866801, G_e : 3.654909\n",
      "D_e : 2.541703, D_real_e : 0.886332, D_fake_e : 0.830286, G_e : 3.224428\n",
      "D_e : 2.365279, D_real_e : 0.854672, D_fake_e : 0.803149, G_e : 2.934522\n",
      "D_e : 2.245595, D_real_e : 0.829523, D_fake_e : 0.816456, G_e : 2.747756\n",
      "D_e : 2.138833, D_real_e : 0.771623, D_fake_e : 0.725570, G_e : 2.630184\n",
      "D_e : 1.989335, D_real_e : 0.492190, D_fake_e : 0.449163, G_e : 2.667604\n",
      "D_e : 1.922543, D_real_e : 0.738849, D_fake_e : 0.648692, G_e : 2.675349\n",
      "D_e : 1.881681, D_real_e : 0.783097, D_fake_e : 0.730416, G_e : 2.665968\n",
      "D_e : 1.838478, D_real_e : 0.727222, D_fake_e : 0.678796, G_e : 2.652492\n",
      "D_e : 1.794990, D_real_e : 0.679578, D_fake_e : 0.636609, G_e : 2.637339\n",
      "D_e : 1.743438, D_real_e : 0.587595, D_fake_e : 0.536697, G_e : 2.641550\n",
      "D_e : 1.709474, D_real_e : 0.644476, D_fake_e : 0.623130, G_e : 2.639404\n",
      "D_e : 1.677111, D_real_e : 0.638868, D_fake_e : 0.584831, G_e : 2.637226\n",
      "D_e : 1.652187, D_real_e : 0.660831, D_fake_e : 0.617252, G_e : 2.638075\n",
      "D_e : 1.609709, D_real_e : 0.469562, D_fake_e : 0.460082, G_e : 2.657782\n",
      "D_e : 1.577767, D_real_e : 0.537143, D_fake_e : 0.497277, G_e : 2.681990\n",
      "D_e : 1.546332, D_real_e : 0.495675, D_fake_e : 0.484510, G_e : 2.696795\n",
      "D_e : 1.518224, D_real_e : 0.501199, D_fake_e : 0.482698, G_e : 2.717817\n",
      "D_e : 1.488069, D_real_e : 0.447219, D_fake_e : 0.437459, G_e : 2.738519\n",
      "D_e : 1.469070, D_real_e : 0.552731, D_fake_e : 0.517165, G_e : 2.741829\n",
      "D_e : 1.442663, D_real_e : 0.435809, D_fake_e : 0.425631, G_e : 2.764091\n",
      "D_e : 1.428886, D_real_e : 0.575231, D_fake_e : 0.536638, G_e : 2.763991\n",
      "D_e : 1.408745, D_real_e : 0.469218, D_fake_e : 0.455962, G_e : 2.775515\n",
      "D_e : 1.391675, D_real_e : 0.494496, D_fake_e : 0.470260, G_e : 2.781431\n",
      "D_e : 1.373681, D_real_e : 0.467963, D_fake_e : 0.437689, G_e : 2.791392\n",
      "D_e : 1.360120, D_real_e : 0.503028, D_fake_e : 0.490797, G_e : 2.794818\n",
      "D_e : 1.342138, D_real_e : 0.427189, D_fake_e : 0.411276, G_e : 2.800115\n",
      "D_e : 1.324059, D_real_e : 0.405014, D_fake_e : 0.394593, G_e : 2.805780\n",
      "D_e : 1.319111, D_real_e : 0.598577, D_fake_e : 0.572041, G_e : 2.797934\n",
      "D_e : 1.308805, D_real_e : 0.500980, D_fake_e : 0.488210, G_e : 2.796549\n",
      "D_e : 1.299910, D_real_e : 0.522418, D_fake_e : 0.492774, G_e : 2.794473\n",
      "D_e : 1.283903, D_real_e : 0.380287, D_fake_e : 0.375218, G_e : 2.800823\n",
      "D_e : 1.278769, D_real_e : 0.561321, D_fake_e : 0.542851, G_e : 2.794157\n",
      "D_e : 1.273209, D_real_e : 0.541784, D_fake_e : 0.536759, G_e : 2.784788\n",
      "D_e : 1.262840, D_real_e : 0.453842, D_fake_e : 0.435637, G_e : 2.785329\n",
      "D_e : 1.259005, D_real_e : 0.566040, D_fake_e : 0.551024, G_e : 2.779360\n",
      "D_e : 1.246617, D_real_e : 0.393958, D_fake_e : 0.381790, G_e : 2.780693\n",
      "D_e : 1.241463, D_real_e : 0.526283, D_fake_e : 0.514111, G_e : 2.778168\n",
      "D_e : 1.236137, D_real_e : 0.516260, D_fake_e : 0.506773, G_e : 2.774189\n",
      "D_e : 1.230973, D_real_e : 0.518805, D_fake_e : 0.500422, G_e : 2.769681\n",
      "D_e : 1.217671, D_real_e : 0.328068, D_fake_e : 0.330772, G_e : 2.776368\n",
      "D_e : 1.211996, D_real_e : 0.491748, D_fake_e : 0.476143, G_e : 2.774662\n",
      "D_e : 1.204342, D_real_e : 0.437963, D_fake_e : 0.429547, G_e : 2.777982\n",
      "D_e : 1.197953, D_real_e : 0.479421, D_fake_e : 0.430961, G_e : 2.781966\n",
      "D_e : 1.192579, D_real_e : 0.474060, D_fake_e : 0.471282, G_e : 2.783635\n",
      "D_e : 1.185993, D_real_e : 0.445250, D_fake_e : 0.431139, G_e : 2.786583\n",
      "D_e : 1.182677, D_real_e : 0.516718, D_fake_e : 0.506726, G_e : 2.787598\n",
      "total time :  5025.507118701935\n"
     ]
    },
    {
     "data": {
      "image/png": "[encoded data removed]",
      "text/plain": [
       "<matplotlib.figure.Figure at 0x7f10ac02f978>"
      ]
     },
     "metadata": {},
     "output_type": "display_data"
    }
   ],
   "source": [
    "with tf.Session(config=tf.ConfigProto(gpu_options=tf.GPUOptions(allow_growth=True))) as sess :\n",
    "    sess.run(tf.global_variables_initializer())\n",
    "\n",
    "    np.random.seed(int(time.time()))\n",
    "\n",
    "    test_z = np.random.normal(0,1,size=(16,1,1,z_size))\n",
    "\n",
    "    \n",
    "    log_txt = open(file_name +'/log.txt','w')\n",
    "\n",
    "    hist_G = []\n",
    "    hist_D = []\n",
    "    G_error = []\n",
    "    D_error = []\n",
    "    D_fake_error = []\n",
    "    D_real_error = []\n",
    "    \n",
    "    start = time.time()\n",
    "    for i in range(5000) :\n",
    "        \n",
    "        train_images = my_mnist_train_batch(100)\n",
    "        train_images = tf.image.resize_images(train_images,[64,64]).eval()                                                                                                           \n",
    "        train_images = (train_images -0.5)/0.5 \n",
    "        \n",
    "        u_ = np.reshape(train_images,(-1,64,64,1)) \n",
    "        z_ = np.random.normal(0,1,size=(100,1,1,z_size))\n",
    "        soft_one_ = np.random.uniform(0.9,1.0,(100,1,1,1))\n",
    "        soft_zero_ = np.random.uniform(0.0,0.1,(100,1,1,1))\n",
    "        \n",
    "        _ , D_e,D_real_e,D_fake_e = sess.run([D_optim, D_loss,D_real_loss,D_fake_loss], {u : u_, z : z_, isTrain : True,\n",
    "                                                                                         soft_one : soft_one_, soft_zero : soft_zero_})\n",
    "        D_error.append(D_e)\n",
    "        D_real_error.append(D_real_e)\n",
    "        D_fake_error.append(D_fake_e)\n",
    "\n",
    "\n",
    "    #    train_images,train_labels = mnist.train.next_batch(100)    \n",
    "    #    u_ = np.reshape(train_images,(-1,28,28,1)) \n",
    "    #    z_ = np.random.normal(0,1,size=(100,1,1,100))\n",
    "   \n",
    "        _ , G_e = sess.run([G_optim, G_loss], {u : u_, z : z_, isTrain : True}) \n",
    "        G_error.append(G_e)\n",
    "        \n",
    "        if i%100 == 0:\n",
    "\n",
    "            hist_D.append(np.mean(D_error)) \n",
    "            hist_G.append(np.mean(G_error))\n",
    "\n",
    "            print('D_e : %.6f, D_real_e : %.6f, D_fake_e : %.6f, G_e : %.6f'%(np.mean(D_error), np.mean(D_real_error),\n",
    "                np.mean(D_fake_error), np.mean(G_error)))\n",
    "            log_txt.write('D_e : %.6f, D_real_e : %.6f, D_fake_e : %.6f, G_e : %.6f\\n'%(np.mean(D_error),\n",
    "                np.mean(D_real_error), np.mean(D_fake_error), np.mean(G_error)))\n",
    "      \n",
    "            r = sess.run([G_z],feed_dict={z : test_z, isTrain : False})        \n",
    "            mnist_4by4_save(np.reshape(r,(-1,64*64)),file_name + '/result_{}.png'.format(str(i).zfill(3)))\n",
    "\n",
    "            np.random.seed(int(time.time()))\n",
    "\n",
    "            G_errer = []\n",
    "            D_errer = []\n",
    "            D_fake_error = []\n",
    "            D_real_error = []\n",
    "\n",
    "\n",
    "    log_txt.close()\n",
    "    gan_loss_graph_save(G_loss = hist_G,D_loss=hist_D,path = file_name + '/loss_graph.png')   \n",
    "    saver = tf.train.Saver()\n",
    "    saver.save(sess,file_name + '/para.cktp')\n",
    "\n",
    "    end = time.time()-start\n",
    "\n",
    "    print(\"total time : \",end)"
   ]
  },
  {
   "cell_type": "code",
   "execution_count": 3,
   "metadata": {},
   "outputs": [
    {
     "name": "stdout",
     "output_type": "stream",
     "text": [
      "INFO:tensorflow:Restoring parameters from proto_2-3/para.cktp\n"
     ]
    }
   ],
   "source": [
    "\n",
    "\n",
    "if not os.path.isdir(file_name) :\n",
    "    os.mkdir(file_name)\n",
    "\n",
    "    \n",
    "sess = tf.InteractiveSession()\n",
    "    \n",
    "new_saver = tf.train.import_meta_graph(file_name + '/para.cktp.meta')\n",
    "new_saver.restore(sess, tf.train.latest_checkpoint(file_name + '/'))\n",
    "\n",
    "\n",
    "z = sess.graph.get_tensor_by_name(\"z:0\")\n",
    "u = sess.graph.get_tensor_by_name(\"u:0\")\n",
    "\n",
    "ano_y = sess.graph.get_tensor_by_name(\"ano_y:0\")\n",
    "ano_z = sess.graph.get_tensor_by_name(\"ano_z:0\")\n",
    "\n",
    "isTrain = sess.graph.get_tensor_by_name(\"isTrain:0\")\n",
    "\n",
    "soft_one = sess.graph.get_tensor_by_name('soft_one:0') # 0.9~1.0\n",
    "soft_zero = sess.graph.get_tensor_by_name('soft_zero:0') # 0.0~0.1\n",
    "    \n",
    "G_z = sess.graph.get_tensor_by_name(\"G_z:0\")\n",
    "img_z = sess.graph.get_tensor_by_name(\"img_z:0\")\n",
    "\n",
    "\n",
    "feature_loss = sess.graph.get_tensor_by_name(\"feature_loss:0\")\n",
    "D_real_loss = sess.graph.get_tensor_by_name('D_real_loss:0')\n",
    "D_fake_loss = sess.graph.get_tensor_by_name('D_fake_loss:0')\n",
    "\n",
    "D_loss = sess.graph.get_tensor_by_name(\"D_loss:0\")\n",
    "G_loss = sess.graph.get_tensor_by_name(\"G_loss:0\")\n",
    "residual_loss = sess.graph.get_tensor_by_name(\"residual_loss:0\")\n",
    "\n",
    "\n",
    "D_optim = sess.graph.get_operation_by_name(\"D_optim\")\n",
    "G_optim = sess.graph.get_operation_by_name(\"G_optim\")\n",
    "\n",
    "residual_optim = sess.graph.get_operation_by_name(\"residual_optim\")\n",
    "\n",
    "\n",
    "\n"
   ]
  },
  {
   "cell_type": "code",
   "execution_count": 4,
   "metadata": {},
   "outputs": [],
   "source": [
    "im = my_mnist_test_batch(1, number = 7) "
   ]
  },
  {
   "cell_type": "code",
   "execution_count": 5,
   "metadata": {},
   "outputs": [
    {
     "data": {
      "image/png": "[encoded data removed]",
      "text/plain": [
       "<matplotlib.figure.Figure at 0x7f3bbe915f98>"
      ]
     },
     "metadata": {},
     "output_type": "display_data"
    },
    {
     "data": {
      "image/png": "[encoded data removed]",
      "text/plain": [
       "<matplotlib.figure.Figure at 0x7f3bc4b2ee48>"
      ]
     },
     "metadata": {},
     "output_type": "display_data"
    },
    {
     "data": {
      "image/png": "[encoded data removed]",
      "text/plain": [
       "<matplotlib.figure.Figure at 0x7f3bc46910f0>"
      ]
     },
     "metadata": {},
     "output_type": "display_data"
    },
    {
     "name": "stdout",
     "output_type": "stream",
     "text": [
      "2.68188 0.225014\n"
     ]
    }
   ],
   "source": [
    "\n",
    "im = tf.image.resize_images(im,[64,64]).eval()                                                                                                           \n",
    "im = (im -0.5)/0.5 \n",
    "plt.imshow(np.reshape(im,(64, 64)), cmap='Greys_r')\n",
    "plt.show()\n",
    "    \n",
    "\n",
    "im_fake = sess.run([img_z]) \n",
    "plt.imshow(np.reshape(im_fake,(64, 64)), cmap='Greys_r')\n",
    "plt.show()\n",
    "\n",
    "ano_gap  = np.abs(np.reshape(im_fake,(64, 64)) - np.reshape(im,(64, 64)))\n",
    "plt.imshow(ano_gap, cmap='Greys_r')\n",
    "plt.show()  \n",
    "\n",
    "fea_loss, res_loss = sess.run([feature_loss,residual_loss], {ano_y : np.reshape(im,(1,64, 64,1))})\n",
    "\n",
    "print(fea_loss, res_loss)"
   ]
  },
  {
   "cell_type": "code",
   "execution_count": 6,
   "metadata": {},
   "outputs": [
    {
     "name": "stdout",
     "output_type": "stream",
     "text": [
      "0.225014\n",
      "0.127725\n",
      "0.0934494\n",
      "0.0767775\n",
      "0.0663418\n",
      "0.0608891\n",
      "0.0572847\n",
      "0.0547876\n",
      "0.0529794\n",
      "0.051659\n"
     ]
    }
   ],
   "source": [
    "for i in range(1000) :\n",
    "    _ , loss = sess.run([residual_optim,residual_loss], {ano_y : np.reshape(im,(1,64, 64,1))})\n",
    "    if  i % 100 == 0 : \n",
    "        print(loss)"
   ]
  },
  {
   "cell_type": "code",
   "execution_count": 7,
   "metadata": {},
   "outputs": [
    {
     "data": {
      "image/png": "[encoded data removed]",
      "text/plain": [
       "<matplotlib.figure.Figure at 0x7f3d863d6780>"
      ]
     },
     "metadata": {},
     "output_type": "display_data"
    },
    {
     "data": {
      "image/png": "[encoded data removed]",
      "text/plain": [
       "<matplotlib.figure.Figure at 0x7f3bc4bed438>"
      ]
     },
     "metadata": {},
     "output_type": "display_data"
    },
    {
     "data": {
      "image/png": "[encoded data removed]",
      "text/plain": [
       "<matplotlib.figure.Figure at 0x7f3bc475c3c8>"
      ]
     },
     "metadata": {},
     "output_type": "display_data"
    },
    {
     "name": "stdout",
     "output_type": "stream",
     "text": [
      "0.848494 0.0506097\n"
     ]
    }
   ],
   "source": [
    "\n",
    "plt.imshow(np.reshape(im,(64, 64)), cmap='Greys_r')\n",
    "plt.show()\n",
    "    \n",
    "\n",
    "im_fake = sess.run([img_z]) \n",
    "plt.imshow(np.reshape(im_fake,(64, 64)), cmap='Greys_r')\n",
    "plt.show()\n",
    "\n",
    "ano_gap  = np.abs(np.reshape(im_fake,(64, 64)) - np.reshape(im,(64, 64)))\n",
    "plt.imshow(ano_gap, cmap='Greys_r')\n",
    "plt.show()  \n",
    "\n",
    "fea_loss, res_loss = sess.run([feature_loss,residual_loss], {ano_y : np.reshape(im,(1,64, 64,1))})\n",
    "\n",
    "print(fea_loss, res_loss)"
   ]
  },
  {
   "cell_type": "code",
   "execution_count": null,
   "metadata": {},
   "outputs": [],
   "source": []
  },
  {
   "cell_type": "code",
   "execution_count": 3,
   "metadata": {},
   "outputs": [
    {
     "name": "stdout",
     "output_type": "stream",
     "text": [
      "INFO:tensorflow:Restoring parameters from proto_2-3/para.cktp\n"
     ]
    }
   ],
   "source": [
    "\n",
    "\n",
    "if not os.path.isdir(file_name) :\n",
    "    os.mkdir(file_name)\n",
    "\n",
    "    \n",
    "sess = tf.InteractiveSession()\n",
    "    \n",
    "new_saver = tf.train.import_meta_graph(file_name + '/para.cktp.meta')\n",
    "new_saver.restore(sess, tf.train.latest_checkpoint(file_name + '/'))\n",
    "\n",
    "\n",
    "z = sess.graph.get_tensor_by_name(\"z:0\")\n",
    "u = sess.graph.get_tensor_by_name(\"u:0\")\n",
    "\n",
    "ano_y = sess.graph.get_tensor_by_name(\"ano_y:0\")\n",
    "ano_z = sess.graph.get_tensor_by_name(\"ano_z:0\")\n",
    "\n",
    "isTrain = sess.graph.get_tensor_by_name(\"isTrain:0\")\n",
    "\n",
    "soft_one = sess.graph.get_tensor_by_name('soft_one:0') # 0.9~1.0\n",
    "soft_zero = sess.graph.get_tensor_by_name('soft_zero:0') # 0.0~0.1\n",
    "    \n",
    "G_z = sess.graph.get_tensor_by_name(\"G_z:0\")\n",
    "img_z = sess.graph.get_tensor_by_name(\"img_z:0\")\n",
    "\n",
    "\n",
    "feature_loss = sess.graph.get_tensor_by_name(\"feature_loss:0\")\n",
    "D_real_loss = sess.graph.get_tensor_by_name('D_real_loss:0')\n",
    "D_fake_loss = sess.graph.get_tensor_by_name('D_fake_loss:0')\n",
    "\n",
    "D_loss = sess.graph.get_tensor_by_name(\"D_loss:0\")\n",
    "G_loss = sess.graph.get_tensor_by_name(\"G_loss:0\")\n",
    "residual_loss = sess.graph.get_tensor_by_name(\"residual_loss:0\")\n",
    "\n",
    "\n",
    "D_optim = sess.graph.get_operation_by_name(\"D_optim\")\n",
    "G_optim = sess.graph.get_operation_by_name(\"G_optim\")\n",
    "\n",
    "residual_optim = sess.graph.get_operation_by_name(\"residual_optim\")\n",
    "\n",
    "\n"
   ]
  },
  {
   "cell_type": "code",
   "execution_count": 4,
   "metadata": {},
   "outputs": [],
   "source": [
    "im = my_mnist_test_batch(1, number = 4) "
   ]
  },
  {
   "cell_type": "code",
   "execution_count": 5,
   "metadata": {},
   "outputs": [
    {
     "data": {
      "image/png": "[encoded data removed]",
      "text/plain": [
       "<matplotlib.figure.Figure at 0x7fb3e00acf60>"
      ]
     },
     "metadata": {},
     "output_type": "display_data"
    },
    {
     "data": {
      "image/png": "[encoded data removed]",
      "text/plain": [
       "<matplotlib.figure.Figure at 0x7fb2dffd9d30>"
      ]
     },
     "metadata": {},
     "output_type": "display_data"
    },
    {
     "data": {
      "image/png": "[encoded data removed]",
      "text/plain": [
       "<matplotlib.figure.Figure at 0x7fb2e5e029e8>"
      ]
     },
     "metadata": {},
     "output_type": "display_data"
    },
    {
     "name": "stdout",
     "output_type": "stream",
     "text": [
      "2.0705 0.14799\n"
     ]
    }
   ],
   "source": [
    "\n",
    "im = tf.image.resize_images(im,[64,64]).eval()                                                                                                           \n",
    "im = (im -0.5)/0.5 \n",
    "plt.imshow(np.reshape(im,(64, 64)), cmap='Greys_r')\n",
    "plt.show()\n",
    "    \n",
    "\n",
    "im_fake = sess.run([img_z]) \n",
    "plt.imshow(np.reshape(im_fake,(64, 64)), cmap='Greys_r')\n",
    "plt.show()\n",
    "\n",
    "ano_gap  = np.abs(np.reshape(im_fake,(64, 64)) - np.reshape(im,(64, 64)))\n",
    "plt.imshow(ano_gap, cmap='Greys_r')\n",
    "plt.show()  \n",
    "\n",
    "fea_loss, res_loss = sess.run([feature_loss,residual_loss], {ano_y : np.reshape(im,(1,64, 64,1))})\n",
    "\n",
    "print(fea_loss, res_loss)"
   ]
  },
  {
   "cell_type": "code",
   "execution_count": 6,
   "metadata": {},
   "outputs": [
    {
     "name": "stdout",
     "output_type": "stream",
     "text": [
      "0.14799\n",
      "0.0667686\n",
      "0.0488222\n",
      "0.0445642\n",
      "0.0420812\n",
      "0.0398962\n",
      "0.0378948\n",
      "0.0360479\n",
      "0.0341703\n",
      "0.0326409\n"
     ]
    }
   ],
   "source": [
    "for i in range(1000) :\n",
    "    _ , loss = sess.run([residual_optim,residual_loss], {ano_y : np.reshape(im,(1,64, 64,1))})\n",
    "    if  i % 100 == 0 : \n",
    "        print(loss)"
   ]
  },
  {
   "cell_type": "code",
   "execution_count": 7,
   "metadata": {},
   "outputs": [
    {
     "data": {
      "image/png": "[encoded data removed]",
      "text/plain": [
       "<matplotlib.figure.Figure at 0x7fb49ee54f28>"
      ]
     },
     "metadata": {},
     "output_type": "display_data"
    },
    {
     "data": {
      "image/png": "[encoded data removed]",
      "text/plain": [
       "<matplotlib.figure.Figure at 0x7fb2dfd7ee80>"
      ]
     },
     "metadata": {},
     "output_type": "display_data"
    },
    {
     "data": {
      "image/png": "[encoded data removed]",
      "text/plain": [
       "<matplotlib.figure.Figure at 0x7fb2e6229358>"
      ]
     },
     "metadata": {},
     "output_type": "display_data"
    },
    {
     "name": "stdout",
     "output_type": "stream",
     "text": [
      "0.696669 0.0312632\n"
     ]
    }
   ],
   "source": [
    "\n",
    "plt.imshow(np.reshape(im,(64, 64)), cmap='Greys_r')\n",
    "plt.show()\n",
    "    \n",
    "\n",
    "im_fake = sess.run([img_z]) \n",
    "plt.imshow(np.reshape(im_fake,(64, 64)), cmap='Greys_r')\n",
    "plt.show()\n",
    "\n",
    "ano_gap  = np.abs(np.reshape(im_fake,(64, 64)) - np.reshape(im,(64, 64)))\n",
    "plt.imshow(ano_gap, cmap='Greys_r')\n",
    "plt.show()  \n",
    "\n",
    "fea_loss, res_loss = sess.run([feature_loss,residual_loss], {ano_y : np.reshape(im,(1,64, 64,1))})\n",
    "\n",
    "print(fea_loss, res_loss)"
   ]
  },
  {
   "cell_type": "code",
   "execution_count": null,
   "metadata": {},
   "outputs": [],
   "source": [
    "\n",
    "#mnist.train.images.shape"
   ]
  },
  {
   "cell_type": "markdown",
   "metadata": {},
   "source": []
  },
  {
   "cell_type": "code",
   "execution_count": null,
   "metadata": {},
   "outputs": [],
   "source": [
    "#train_images.reshape(-1,28,28).shape"
   ]
  },
  {
   "cell_type": "code",
   "execution_count": null,
   "metadata": {},
   "outputs": [],
   "source": [
    "#tf.image.resize_images(np.reshape(train_images,(-1,28,28,1)),[64,64]).shape"
   ]
  },
  {
   "cell_type": "code",
   "execution_count": null,
   "metadata": {},
   "outputs": [],
   "source": [
    "#from tensorflow.examples.tutorials.mnist import input_data\n",
    "#mnist = input_data.read_data_sets(\"../MNIST_data\", one_hot=True,reshape = [])"
   ]
  },
  {
   "cell_type": "code",
   "execution_count": null,
   "metadata": {},
   "outputs": [],
   "source": []
  }
 ],
 "metadata": {
  "kernelspec": {
   "display_name": "Python 3",
   "language": "python",
   "name": "python3"
  },
  "language_info": {
   "codemirror_mode": {
    "name": "ipython",
    "version": 3
   },
   "file_extension": ".py",
   "mimetype": "text/x-python",
   "name": "python",
   "nbconvert_exporter": "python",
   "pygments_lexer": "ipython3",
   "version": "3.5.2"
  },
  "toc": {
   "base_numbering": 1,
   "nav_menu": {},
   "number_sections": true,
   "sideBar": true,
   "skip_h1_title": false,
   "title_cell": "Table of Contents",
   "title_sidebar": "Contents",
   "toc_cell": false,
   "toc_position": {},
   "toc_section_display": true,
   "toc_window_display": false
  },
  "varInspector": {
   "cols": {
    "lenName": 16,
    "lenType": 16,
    "lenVar": 40
   },
   "kernels_config": {
    "python": {
     "delete_cmd_postfix": "",
     "delete_cmd_prefix": "del ",
     "library": "var_list.py",
     "varRefreshCmd": "print(var_dic_list())"
    },
    "r": {
     "delete_cmd_postfix": ") ",
     "delete_cmd_prefix": "rm(",
     "library": "var_list.r",
     "varRefreshCmd": "cat(var_dic_list()) "
    }
   },
   "types_to_exclude": [
    "module",
    "function",
    "builtin_function_or_method",
    "instance",
    "_Feature"
   ],
   "window_display": false
  }
 },
 "nbformat": 4,
 "nbformat_minor": 2
}
