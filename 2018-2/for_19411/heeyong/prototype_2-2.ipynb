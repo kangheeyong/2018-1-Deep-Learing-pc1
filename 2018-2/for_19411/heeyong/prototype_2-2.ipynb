{
 "cells": [
  {
   "cell_type": "markdown",
   "metadata": {},
   "source": [
    "# add some tips\n",
    "\n",
    "https://medium.com/@utk.is.here/keep-calm-and-train-a-gan-pitfalls-and-tips-on-training-generative-adversarial-networks-edd529764aa9\n",
    "\n",
    "pro 2-2 : noise uni -> normal\n",
    "\n",
    "pro 2-1 : n-class at mini batch"
   ]
  },
  {
   "cell_type": "code",
   "execution_count": 1,
   "metadata": {
    "code_folding": [
     25,
     39,
     58
    ]
   },
   "outputs": [],
   "source": [
    "import tensorflow as tf\n",
    "import numpy as np\n",
    "import os\n",
    "import sys\n",
    "import time\n",
    "import time \n",
    "import matplotlib.pyplot as plt\n",
    "import matplotlib.gridspec as gridspec \n",
    "\n",
    "os.environ[\"CUDA_VISIBLE_DEVICES\"]=\"0\"\n",
    "\n",
    "def my_mnist_train_batch(size) :\n",
    "    m = 500\n",
    "    data = []\n",
    "    for i in range(1000) :\n",
    "        number = number = np.random.randint(5)\n",
    "        image, label = mnist.train.next_batch(m)       \n",
    "        for j in range(len(label)) : \n",
    "            \n",
    "            if np.argmax(label[j])==number :\n",
    "                data.append(image[j])\n",
    "                number = number = np.random.randint(5)\n",
    "            if len(data) == size :\n",
    "                break\n",
    "        if len(data) == size :\n",
    "            break\n",
    "    return data\n",
    "\n",
    "def my_mnist_test_batch(size, number = 0) :\n",
    "    m = 500\n",
    "    data = []\n",
    "    for i in range(1000) :\n",
    "        image, label = mnist.test.next_batch(m)       \n",
    "        for j in range(len(label)) : \n",
    "            if np.argmax(label[j])==number :\n",
    "                data.append(image[j])              \n",
    "            if len(data) == size :\n",
    "                break\n",
    "        if len(data) == size :\n",
    "            break\n",
    "    return data\n",
    "\n",
    "def mnist_4by4_save(samples,path):\n",
    "    fig = plt.figure(figsize=(4, 4))\n",
    "    gs = gridspec.GridSpec(4, 4)    \n",
    "    gs.update(wspace=0.05, hspace=0.05) #이미지 사이간격 조절\n",
    "  \n",
    "    for i, sample in enumerate(samples):\n",
    "        ax = plt.subplot(gs[i])\n",
    "        plt.axis('off')    \n",
    "        ax.set_xticklabels([])\n",
    "        ax.set_yticklabels([])\n",
    "        ax.set_aspect('equal')\n",
    "   \n",
    "        plt.imshow(sample.reshape(28, 28), cmap='Greys_r',clim=(0.0,1.0))\n",
    "    plt.colorbar()\n",
    "    plt.savefig(path, bbox_inches='tight')\n",
    "    plt.close(fig)\n",
    "   \n",
    "    return None\n",
    "\n",
    "def gan_loss_graph_save(G_loss,D_loss,path):\n",
    "    x1 = range(len(G_loss))\n",
    "    x2 = range(len(D_loss))\n",
    "      \n",
    "    y1 = G_loss\n",
    "    y2 = D_loss\n",
    "  \n",
    "      \n",
    "    plt.plot(x1,y1,label='G_loss') \n",
    "    plt.plot(x2,y2,label='D_loss') \n",
    "  \n",
    "    plt.xlabel('weight per update')\n",
    "    plt.ylabel('loss')             \n",
    "    plt.legend(loc=4)              \n",
    "    plt.grid(True)\n",
    "    plt.tight_layout()\n",
    "  \n",
    "    plt.savefig(path)              \n",
    "\n",
    "    return None\n"
   ]
  },
  {
   "cell_type": "code",
   "execution_count": 2,
   "metadata": {
    "code_folding": []
   },
   "outputs": [
    {
     "name": "stdout",
     "output_type": "stream",
     "text": [
      "Extracting ../MNIST_data/train-images-idx3-ubyte.gz\n",
      "Extracting ../MNIST_data/train-labels-idx1-ubyte.gz\n",
      "Extracting ../MNIST_data/t10k-images-idx3-ubyte.gz\n",
      "Extracting ../MNIST_data/t10k-labels-idx1-ubyte.gz\n"
     ]
    }
   ],
   "source": [
    "from tensorflow.examples.tutorials.mnist import input_data\n",
    "mnist = input_data.read_data_sets(\"../MNIST_data\", one_hot=True)\n",
    "\n",
    "file_name = 'proto_2-2'\n",
    "\n",
    "if not os.path.isdir(file_name) :\n",
    "    os.mkdir(file_name)\n",
    "def simple_G(x,isTrain = True, reuse = False, name = 'G_out') : #input = (minibatch * w * h * ch)\n",
    "    \n",
    "    # out size = (in size + 2*padding - kenel)/strides + 1    \n",
    "    w_init = tf.truncated_normal_initializer(mean= 0.0, stddev=0.02)\n",
    "    b_init = tf.constant_initializer(0.0)\n",
    "\n",
    "\n",
    "    with tf.variable_scope('G',reuse=reuse) :\n",
    "        \n",
    "        #x = (-1, 1, 1, 100)\n",
    "\n",
    "\n",
    "        conv1 = tf.layers.conv2d_transpose(x,2048,[4,4], strides=(1,1),padding = 'valid',\n",
    "                kernel_initializer=w_init, bias_initializer=b_init) \n",
    "        r1 = tf.nn.elu(tf.layers.batch_normalization(conv1,training=isTrain))#1024*4*4\n",
    "        \n",
    "        conv2 = tf.layers.conv2d_transpose(r1,1024,[4,4], strides=(2,2),padding = 'same',\n",
    "                kernel_initializer=w_init, bias_initializer=b_init)\n",
    "        r2 = tf.nn.elu(tf.layers.batch_normalization(conv2,training=isTrain))#512*8*8\n",
    "                \n",
    "        conv3 = tf.layers.conv2d_transpose(r2,512,[4,4], strides=(2,2),padding = 'same',\n",
    "                kernel_initializer=w_init, bias_initializer=b_init)\n",
    "        r3 = tf.nn.elu(tf.layers.batch_normalization(conv3,training=isTrain))#256*16*16\n",
    "\n",
    "        conv4 = tf.layers.conv2d_transpose(r3,256,[4,4], strides=(2,2),padding = 'same',\n",
    "                kernel_initializer=w_init, bias_initializer=b_init)\n",
    "        r4 = tf.nn.elu(tf.layers.batch_normalization(conv4,training=isTrain))#128*32*32\n",
    "\n",
    "        conv5 = tf.layers.conv2d(r4,128,[3,3], strides=(1,1),padding = 'valid',\n",
    "                kernel_initializer=w_init, bias_initializer=b_init)\n",
    "        r5 = tf.nn.elu(tf.layers.batch_normalization(conv5,training=isTrain))#64*30*30\n",
    "\n",
    "        conv6 = tf.layers.conv2d(r5,1,[3,3], strides=(1,1),padding = 'valid',\n",
    "                kernel_initializer=w_init, bias_initializer=b_init)\n",
    "    r6 = tf.nn.sigmoid(conv6,name=name)#1*28*28\n",
    "  \n",
    "\n",
    "    return r6\n",
    "def residual_loss_G(x,isTrain = False, reuse = True, name = 'residual_loss_out') : #input = (minibatch * w * h * ch)\n",
    "    \n",
    "    # out size = (in size + 2*padding - kenel)/strides + 1    \n",
    "\n",
    "\n",
    "    with tf.variable_scope('G',reuse=reuse) as scope :\n",
    "        scope.reuse_variables()\n",
    "        #x = (-1, 1, 1, 100)\n",
    "\n",
    "\n",
    "        conv1 = tf.layers.conv2d_transpose(x,2048,[4,4], strides=(1,1),padding = 'valid')\n",
    "        r1 = tf.nn.elu(tf.layers.batch_normalization(conv1,training=isTrain))#1024*4*4\n",
    "        \n",
    "        conv2 = tf.layers.conv2d_transpose(r1,1024,[4,4], strides=(2,2),padding = 'same')\n",
    "        r2 = tf.nn.elu(tf.layers.batch_normalization(conv2,training=isTrain))#512*8*8\n",
    "                \n",
    "        conv3 = tf.layers.conv2d_transpose(r2,512,[4,4], strides=(2,2),padding = 'same')\n",
    "        r3 = tf.nn.elu(tf.layers.batch_normalization(conv3,training=isTrain))#256*16*16\n",
    "\n",
    "        conv4 = tf.layers.conv2d_transpose(r3,256,[4,4], strides=(2,2),padding = 'same')\n",
    "        r4 = tf.nn.elu(tf.layers.batch_normalization(conv4,training=isTrain))#128*32*32\n",
    "\n",
    "        conv5 = tf.layers.conv2d(r4,128,[3,3], strides=(1,1),padding = 'valid')\n",
    "        r5 = tf.nn.elu(tf.layers.batch_normalization(conv5,training=isTrain))#64*30*30\n",
    "\n",
    "        conv6 = tf.layers.conv2d(r5,1,[3,3], strides=(1,1),padding = 'valid')\n",
    "    r6 = tf.nn.sigmoid(conv6,name=name)#1*28*28\n",
    "  \n",
    "\n",
    "    return r6\n",
    "def simple_D(x,isTrain=True,reuse = False) :\n",
    "    \n",
    "    w_init = tf.truncated_normal_initializer(mean= 0.0, stddev=0.02)\n",
    "    b_init = tf.constant_initializer(0.0)\n",
    "    with tf.variable_scope('D', reuse=reuse) :\n",
    "        \n",
    "        #x = (-1,28,28,1)\n",
    "\n",
    "\n",
    "        conv1 = tf.layers.conv2d(x,128,[5,5], strides=(1,1),padding = 'valid',\n",
    "                                kernel_initializer=w_init, bias_initializer=b_init) \n",
    "        r1 = tf.nn.elu(tf.layers.batch_normalization(conv1,training=isTrain))#64*24*24\n",
    "\n",
    "   \n",
    "        conv2 = tf.layers.conv2d(r1,256,[5,5], strides=(1,1),padding = 'valid',\n",
    "                                kernel_initializer=w_init, bias_initializer=b_init)\n",
    "        r2 = tf.nn.elu(tf.layers.batch_normalization(conv2,training=isTrain))#128*20*20\n",
    "\n",
    "  \n",
    "        conv3 = tf.layers.conv2d(r2,512,[5,5], strides=(1,1),padding = 'valid',\n",
    "                                kernel_initializer=w_init, bias_initializer=b_init)\n",
    "        r3 = tf.nn.elu(tf.layers.batch_normalization(conv3,training=isTrain))#256*16*16\n",
    "\n",
    " \n",
    "        conv4 = tf.layers.conv2d(r3,1024,[4,4], strides=(2,2),padding = 'same',\n",
    "                                kernel_initializer=w_init, bias_initializer=b_init)\n",
    "        r4 = tf.nn.elu(tf.layers.batch_normalization(conv4,training=isTrain))#512*8*8\n",
    "\n",
    "\n",
    "        conv5 = tf.layers.conv2d(r4,2048,[4,4], strides=(2,2),padding = 'same',\n",
    "                                kernel_initializer=w_init, bias_initializer=b_init)\n",
    "        r5 = tf.nn.elu(tf.layers.batch_normalization(conv5,training=isTrain))#1024*4*4\n",
    "\n",
    "       \n",
    "        conv6 = tf.layers.conv2d(r5,1,[4,4], strides=(1,1),padding = 'valid',\n",
    "                                kernel_initializer=w_init, bias_initializer=b_init)\n",
    "    r6 = tf.nn.sigmoid(conv6)#1*1*1\n",
    "\n",
    "\n",
    "    return r6\n",
    "def feature_extractor_D(x,isTrain=False,reuse = True, name='feature_out') :\n",
    "    \n",
    "    with tf.variable_scope('D', reuse=reuse) as scope :\n",
    "        scope.reuse_variables()\n",
    "        #x = (-1,28,28,1)\n",
    "\n",
    "        conv1 = tf.layers.conv2d(x,128,[5,5], strides=(1,1),padding = 'valid')\n",
    "        r1 = tf.nn.elu(tf.layers.batch_normalization(conv1,training=isTrain))#64*24*24\n",
    "\n",
    "   \n",
    "        conv2 = tf.layers.conv2d(r1,256,[5,5], strides=(1,1),padding = 'valid')\n",
    "        r2 = tf.nn.elu(tf.layers.batch_normalization(conv2,training=isTrain))#128*20*20\n",
    "\n",
    "  \n",
    "        conv3 = tf.layers.conv2d(r2,512,[5,5], strides=(1,1),padding = 'valid')\n",
    "    r3 = tf.nn.elu(tf.layers.batch_normalization(conv3,training=isTrain),name = name)#256*16*16\n",
    "\n",
    " \n",
    "        #conv4 = tf.layers.conv2d(r3,1024,[4,4], strides=(2,2),padding = 'same')\n",
    "        #r4 = tf.nn.lrelu(tf.layers.batch_normalization(conv4,training=isTrain),0.2)#512*8*8\n",
    "\n",
    "\n",
    "        #conv5 = tf.layers.conv2d(r4,2048,[4,4], strides=(2,2),padding = 'same')\n",
    "        #r5 = tf.nn.lrelu(tf.layers.batch_normalization(conv5,training=isTrain),0.2)#1024*4*4\n",
    "\n",
    "\n",
    "    return r3\n",
    "\n"
   ]
  },
  {
   "cell_type": "code",
   "execution_count": 3,
   "metadata": {},
   "outputs": [],
   "source": [
    "lr = 0.001\n",
    "\n",
    "z_size = 100\n",
    "\n",
    "z = tf.placeholder(tf.float32,shape=(None,1,1,z_size),name = 'z')    \n",
    "u = tf.placeholder(tf.float32, shape = (None, 28,28,1),name='u')\n",
    "ano_y = tf.placeholder(tf.float32, shape = (1, 28,28,1),name='ano_y')\n",
    "\n",
    "ano_z = tf.get_variable('ano_z', shape = [1, 1, 1, z_size], dtype = tf.float32, \n",
    "        initializer = tf.truncated_normal_initializer(mean= 0.0, stddev=0.1))\n",
    "\n",
    "isTrain = tf.placeholder(dtype=tf.bool,name='isTrain') \n",
    "soft_one = tf.placeholder(tf.float32, shape = (None, 1,1,1),name='soft_one') # 0.9~1.0\n",
    "\n",
    "G_z = simple_G(z,name='G_z')\n",
    "\n",
    "D_real = simple_D(u,isTrain)\n",
    "D_fake = simple_D(G_z,isTrain,reuse=True)\n",
    "\n",
    "\n",
    "img_z = residual_loss_G(ano_z, name ='img_z')\n",
    "\n",
    "feature_y = feature_extractor_D(ano_y, reuse = True, name ='feature_y')\n",
    "feature_z = feature_extractor_D(img_z, reuse = True, name ='feature_z')\n",
    "\n",
    "\n",
    "feature_loss = tf.reduce_mean(tf.abs(feature_y-feature_z),name = 'feature_loss')\n",
    "D_real_loss = tf.reduce_mean(-(soft_one*tf.log(D_real + 1e-8) + (1-soft_one)*tf.log(1- D_real + 1e-8)),name = 'D_real_loss')\n",
    "D_fake_loss = tf.reduce_mean(-((1-soft_one)*tf.log(D_fake + 1e-8) + soft_one*tf.log(1 - D_fake + 1e-8)),name = 'D_fake_loss')\n",
    "\n",
    "\n",
    "D_loss =  tf.add(D_real_loss,D_fake_loss,name='D_loss')\n",
    "G_loss =  tf.reduce_mean(-tf.log(D_fake + 1e-8),name='G_loss')\n",
    "residual_loss = tf.reduce_mean(tf.abs(img_z - ano_y), name = 'residual_loss')\n",
    "\n",
    "T_vars = tf.trainable_variables()\n",
    "D_vars = [var for var in T_vars if var.name.startswith('D')]\n",
    "G_vars = [var for var in T_vars if var.name.startswith('G')]\n",
    "ano_vars = [var for var in T_vars if var.name.startswith('ano')]\n",
    "    # When using the batchnormalization layers,\n",
    "    # it is necessary to manually add the update operations\n",
    "    # because the moving averages are not included in the graph\n",
    "\n",
    "with tf.control_dependencies(tf.get_collection(tf.GraphKeys.UPDATE_OPS)) :        \n",
    "    D_optim = tf.train.AdamOptimizer(0.001,beta1=0.5).minimize(D_loss, var_list=D_vars, name='D_optim') \n",
    "    G_optim = tf.train.AdamOptimizer(0.001,beta1=0.5).minimize(G_loss, var_list=G_vars, name='G_optim')\n",
    "    \n",
    "residual_optim = tf.train.AdamOptimizer(0.001,beta1=0.5).minimize(residual_loss, var_list=ano_vars, name='residual_optim')\n",
    "\n"
   ]
  },
  {
   "cell_type": "code",
   "execution_count": 4,
   "metadata": {},
   "outputs": [
    {
     "name": "stdout",
     "output_type": "stream",
     "text": [
      "D_e : 2.092322, D_real_e : 0.750657, D_fake_e : 1.341665, G_e : 18.238483\n",
      "D_e : 9.788411, D_real_e : 3.108670, D_fake_e : 6.756701, G_e : 9.607759\n",
      "D_e : 7.069813, D_real_e : 2.452569, D_fake_e : 1.871462, G_e : 7.795866\n",
      "D_e : 5.628557, D_real_e : 1.372902, D_fake_e : 1.358728, G_e : 6.068973\n",
      "D_e : 4.816817, D_real_e : 1.230705, D_fake_e : 1.142776, G_e : 5.115735\n",
      "D_e : 4.281418, D_real_e : 1.072028, D_fake_e : 1.062438, G_e : 4.483690\n",
      "D_e : 3.920648, D_real_e : 1.071429, D_fake_e : 1.041767, G_e : 4.055521\n",
      "D_e : 3.648535, D_real_e : 1.017252, D_fake_e : 0.995879, G_e : 3.739384\n",
      "D_e : 3.434436, D_real_e : 0.975728, D_fake_e : 0.957875, G_e : 3.510547\n",
      "D_e : 3.273996, D_real_e : 1.001876, D_fake_e : 0.987000, G_e : 3.335631\n",
      "D_e : 3.133174, D_real_e : 0.945260, D_fake_e : 0.919108, G_e : 3.194832\n",
      "D_e : 3.013012, D_real_e : 0.915570, D_fake_e : 0.894616, G_e : 3.067853\n",
      "D_e : 2.917446, D_real_e : 0.943664, D_fake_e : 0.921599, G_e : 2.960931\n",
      "D_e : 2.829018, D_real_e : 0.893361, D_fake_e : 0.873645, G_e : 2.862334\n",
      "D_e : 2.751807, D_real_e : 0.885373, D_fake_e : 0.861912, G_e : 2.773002\n",
      "D_e : 2.687656, D_real_e : 0.903170, D_fake_e : 0.885733, G_e : 2.696631\n",
      "D_e : 2.619417, D_real_e : 0.798114, D_fake_e : 0.797027, G_e : 2.620458\n",
      "D_e : 2.559652, D_real_e : 0.808588, D_fake_e : 0.794230, G_e : 2.553302\n",
      "D_e : 2.506474, D_real_e : 0.802588, D_fake_e : 0.799331, G_e : 2.492302\n",
      "D_e : 2.455730, D_real_e : 0.778739, D_fake_e : 0.763104, G_e : 2.437902\n",
      "D_e : 2.409524, D_real_e : 0.772042, D_fake_e : 0.759092, G_e : 2.388263\n",
      "D_e : 2.365156, D_real_e : 0.742666, D_fake_e : 0.734695, G_e : 2.342482\n",
      "D_e : 2.323602, D_real_e : 0.730591, D_fake_e : 0.719964, G_e : 2.303091\n",
      "D_e : 2.286965, D_real_e : 0.747734, D_fake_e : 0.732848, G_e : 2.266119\n",
      "D_e : 2.252281, D_real_e : 0.729390, D_fake_e : 0.724810, G_e : 2.233915\n",
      "D_e : 2.220723, D_real_e : 0.740769, D_fake_e : 0.722253, G_e : 2.201837\n",
      "D_e : 2.186914, D_real_e : 0.672685, D_fake_e : 0.668658, G_e : 2.175466\n",
      "D_e : 2.158944, D_real_e : 0.718652, D_fake_e : 0.712783, G_e : 2.151263\n",
      "D_e : 2.128327, D_real_e : 0.651908, D_fake_e : 0.649466, G_e : 2.130339\n",
      "D_e : 2.102916, D_real_e : 0.705732, D_fake_e : 0.685405, G_e : 2.111723\n",
      "D_e : 2.079100, D_real_e : 0.693820, D_fake_e : 0.694390, G_e : 2.093055\n",
      "D_e : 2.054750, D_real_e : 0.665258, D_fake_e : 0.658756, G_e : 2.076592\n",
      "D_e : 2.030746, D_real_e : 0.645801, D_fake_e : 0.640578, G_e : 2.063389\n",
      "D_e : 2.009199, D_real_e : 0.668728, D_fake_e : 0.650731, G_e : 2.050835\n",
      "D_e : 1.988101, D_real_e : 0.649110, D_fake_e : 0.642548, G_e : 2.036833\n",
      "D_e : 1.965377, D_real_e : 0.594478, D_fake_e : 0.598071, G_e : 2.027583\n",
      "D_e : 1.945597, D_real_e : 0.635167, D_fake_e : 0.617929, G_e : 2.019551\n",
      "D_e : 1.927770, D_real_e : 0.646980, D_fake_e : 0.638858, G_e : 2.011409\n",
      "D_e : 1.908799, D_real_e : 0.609194, D_fake_e : 0.597487, G_e : 2.006459\n",
      "D_e : 1.891123, D_real_e : 0.620086, D_fake_e : 0.599144, G_e : 2.001173\n",
      "D_e : 1.874393, D_real_e : 0.609702, D_fake_e : 0.612078, G_e : 1.996695\n",
      "D_e : 1.856901, D_real_e : 0.585203, D_fake_e : 0.571842, G_e : 1.992290\n",
      "D_e : 1.842270, D_real_e : 0.622912, D_fake_e : 0.619329, G_e : 1.987184\n",
      "D_e : 1.830522, D_real_e : 0.671114, D_fake_e : 0.665872, G_e : 1.979107\n",
      "D_e : 1.816195, D_real_e : 0.602253, D_fake_e : 0.597722, G_e : 1.972272\n",
      "D_e : 1.802946, D_real_e : 0.615353, D_fake_e : 0.604546, G_e : 1.966969\n",
      "D_e : 1.788464, D_real_e : 0.565392, D_fake_e : 0.571212, G_e : 1.964683\n",
      "D_e : 1.775053, D_real_e : 0.581409, D_fake_e : 0.576615, G_e : 1.963545\n",
      "D_e : 1.761139, D_real_e : 0.554287, D_fake_e : 0.552728, G_e : 1.962652\n",
      "D_e : 1.748756, D_real_e : 0.578116, D_fake_e : 0.576164, G_e : 1.961470\n",
      "D_e : 1.737471, D_real_e : 0.595883, D_fake_e : 0.588469, G_e : 1.957878\n",
      "D_e : 1.725556, D_real_e : 0.562150, D_fake_e : 0.567574, G_e : 1.958842\n",
      "D_e : 1.717238, D_real_e : 0.652608, D_fake_e : 0.640320, G_e : 1.956320\n",
      "D_e : 1.705793, D_real_e : 0.561784, D_fake_e : 0.548741, G_e : 1.954247\n",
      "D_e : 1.693612, D_real_e : 0.526918, D_fake_e : 0.520988, G_e : 1.953705\n",
      "D_e : 1.684224, D_real_e : 0.589066, D_fake_e : 0.588129, G_e : 1.952840\n",
      "D_e : 1.674950, D_real_e : 0.586940, D_fake_e : 0.577826, G_e : 1.950689\n",
      "D_e : 1.666235, D_real_e : 0.588686, D_fake_e : 0.589440, G_e : 1.950093\n",
      "D_e : 1.657574, D_real_e : 0.584121, D_fake_e : 0.579677, G_e : 1.947138\n",
      "D_e : 1.647858, D_real_e : 0.541052, D_fake_e : 0.543202, G_e : 1.946245\n",
      "D_e : 1.639695, D_real_e : 0.583278, D_fake_e : 0.574714, G_e : 1.945105\n",
      "D_e : 1.630464, D_real_e : 0.537105, D_fake_e : 0.539422, G_e : 1.944742\n",
      "D_e : 1.620792, D_real_e : 0.521119, D_fake_e : 0.509539, G_e : 1.946154\n",
      "D_e : 1.612013, D_real_e : 0.530228, D_fake_e : 0.537414, G_e : 1.947144\n",
      "D_e : 1.606141, D_real_e : 0.623764, D_fake_e : 0.612397, G_e : 1.946133\n",
      "D_e : 1.598641, D_real_e : 0.572944, D_fake_e : 0.545642, G_e : 1.945714\n",
      "D_e : 1.591469, D_real_e : 0.557824, D_fake_e : 0.567352, G_e : 1.944263\n",
      "D_e : 1.584040, D_real_e : 0.551643, D_fake_e : 0.542040, G_e : 1.944836\n",
      "D_e : 1.576735, D_real_e : 0.541568, D_fake_e : 0.545659, G_e : 1.944211\n",
      "D_e : 1.570218, D_real_e : 0.567681, D_fake_e : 0.559318, G_e : 1.943646\n",
      "D_e : 1.562506, D_real_e : 0.511260, D_fake_e : 0.519029, G_e : 1.944067\n",
      "D_e : 1.554243, D_real_e : 0.485533, D_fake_e : 0.490221, G_e : 1.947950\n",
      "D_e : 1.545475, D_real_e : 0.466551, D_fake_e : 0.456265, G_e : 1.952240\n",
      "D_e : 1.537299, D_real_e : 0.473429, D_fake_e : 0.475153, G_e : 1.955219\n",
      "D_e : 1.531352, D_real_e : 0.552016, D_fake_e : 0.545162, G_e : 1.956212\n",
      "D_e : 1.525454, D_real_e : 0.551181, D_fake_e : 0.537711, G_e : 1.957401\n",
      "D_e : 1.517563, D_real_e : 0.468819, D_fake_e : 0.456824, G_e : 1.960027\n",
      "D_e : 1.509788, D_real_e : 0.460644, D_fake_e : 0.458229, G_e : 1.963130\n",
      "D_e : 1.502801, D_real_e : 0.481299, D_fake_e : 0.483435, G_e : 1.966754\n",
      "D_e : 1.497242, D_real_e : 0.543789, D_fake_e : 0.519809, G_e : 1.969554\n",
      "D_e : 1.489855, D_real_e : 0.446500, D_fake_e : 0.459660, G_e : 1.973117\n",
      "D_e : 1.482310, D_real_e : 0.449452, D_fake_e : 0.429173, G_e : 1.977850\n",
      "D_e : 1.475967, D_real_e : 0.475084, D_fake_e : 0.487039, G_e : 1.981051\n",
      "D_e : 1.469864, D_real_e : 0.487834, D_fake_e : 0.481502, G_e : 1.983816\n",
      "D_e : 1.464023, D_real_e : 0.487021, D_fake_e : 0.492142, G_e : 1.986677\n",
      "D_e : 1.458210, D_real_e : 0.488952, D_fake_e : 0.480986, G_e : 1.989551\n",
      "D_e : 1.452616, D_real_e : 0.498046, D_fake_e : 0.478998, G_e : 1.992966\n",
      "D_e : 1.447468, D_real_e : 0.516234, D_fake_e : 0.488444, G_e : 1.995094\n",
      "D_e : 1.440979, D_real_e : 0.436447, D_fake_e : 0.439900, G_e : 1.997430\n",
      "D_e : 1.435256, D_real_e : 0.460960, D_fake_e : 0.470641, G_e : 2.000525\n",
      "D_e : 1.429711, D_real_e : 0.467633, D_fake_e : 0.468519, G_e : 2.004111\n",
      "D_e : 1.424550, D_real_e : 0.486864, D_fake_e : 0.473172, G_e : 2.006655\n",
      "D_e : 1.418319, D_real_e : 0.425634, D_fake_e : 0.425583, G_e : 2.010644\n",
      "D_e : 1.412916, D_real_e : 0.455582, D_fake_e : 0.460224, G_e : 2.014264\n",
      "D_e : 1.406740, D_real_e : 0.407887, D_fake_e : 0.424380, G_e : 2.018332\n",
      "D_e : 1.401631, D_real_e : 0.465227, D_fake_e : 0.456136, G_e : 2.021400\n",
      "D_e : 1.395955, D_real_e : 0.437769, D_fake_e : 0.418917, G_e : 2.024582\n",
      "D_e : 1.390701, D_real_e : 0.445386, D_fake_e : 0.440826, G_e : 2.027817\n",
      "D_e : 1.384915, D_real_e : 0.413174, D_fake_e : 0.410485, G_e : 2.032168\n",
      "D_e : 1.379171, D_real_e : 0.410452, D_fake_e : 0.405714, G_e : 2.037120\n",
      "total time :  8602.484810590744\n"
     ]
    },
    {
     "data": {
      "image/png": "[encoded data removed]",
      "text/plain": [
       "<matplotlib.figure.Figure at 0x7fddce300d68>"
      ]
     },
     "metadata": {},
     "output_type": "display_data"
    }
   ],
   "source": [
    "with tf.Session(config=tf.ConfigProto(gpu_options=tf.GPUOptions(allow_growth=True))) as sess :\n",
    "    sess.run(tf.global_variables_initializer())\n",
    "\n",
    "    np.random.seed(int(time.time()))\n",
    "\n",
    "    test_z = np.random.normal(0,1,size=(16,1,1,z_size))\n",
    "\n",
    "    \n",
    "    log_txt = open(file_name +'/log.txt','w')\n",
    "\n",
    "    hist_G = []\n",
    "    hist_D = []\n",
    "    G_error = []\n",
    "    D_error = []\n",
    "    D_fake_error = []\n",
    "    D_real_error = []\n",
    "    \n",
    "    start = time.time()\n",
    "    for i in range(10000) :\n",
    "        \n",
    "        train_images = my_mnist_train_batch(100) \n",
    "        u_ = np.reshape(train_images,(-1,28,28,1)) \n",
    "        z_ = np.random.normal(0,1,size=(100,1,1,z_size))\n",
    "        soft_one_ = np.random.uniform(0.9,1.0,(100,1,1,1))\n",
    "\n",
    "        _ , D_e,D_real_e,D_fake_e = sess.run([D_optim, D_loss,D_real_loss,D_fake_loss], {u : u_, z : z_, isTrain : True,soft_one : soft_one_})\n",
    "        D_error.append(D_e)\n",
    "        D_real_error.append(D_real_e)\n",
    "        D_fake_error.append(D_fake_e)\n",
    "\n",
    "\n",
    "    #    train_images,train_labels = mnist.train.next_batch(100)    \n",
    "    #    u_ = np.reshape(train_images,(-1,28,28,1)) \n",
    "    #    z_ = np.random.normal(0,1,size=(100,1,1,100))\n",
    "   \n",
    "        _ , G_e = sess.run([G_optim, G_loss], {u : u_, z : z_, isTrain : True}) \n",
    "        G_error.append(G_e)\n",
    "        \n",
    "        if i%100 == 0:\n",
    "\n",
    "            hist_D.append(np.mean(D_error)) \n",
    "            hist_G.append(np.mean(G_error))\n",
    "\n",
    "            print('D_e : %.6f, D_real_e : %.6f, D_fake_e : %.6f, G_e : %.6f'%(np.mean(D_error), np.mean(D_real_error),\n",
    "                np.mean(D_fake_error), np.mean(G_error)))\n",
    "            log_txt.write('D_e : %.6f, D_real_e : %.6f, D_fake_e : %.6f, G_e : %.6f\\n'%(np.mean(D_error),\n",
    "                np.mean(D_real_error), np.mean(D_fake_error), np.mean(G_error)))\n",
    "      \n",
    "            r = sess.run([G_z],feed_dict={z : test_z, isTrain : False})        \n",
    "            mnist_4by4_save(np.reshape(r,(-1,784)),file_name + '/result_{}.png'.format(str(i).zfill(3)))\n",
    "\n",
    "            np.random.seed(int(time.time()))\n",
    "\n",
    "            G_errer = []\n",
    "            D_errer = []\n",
    "            D_fake_error = []\n",
    "            D_real_error = []\n",
    "\n",
    "\n",
    "    log_txt.close()\n",
    "    gan_loss_graph_save(G_loss = hist_G,D_loss=hist_D,path = file_name + '/loss_graph.png')   \n",
    "    saver = tf.train.Saver()\n",
    "    saver.save(sess,file_name + '/para.cktp')\n",
    "\n",
    "    end = time.time()-start\n",
    "\n",
    "    print(\"total time : \",end)"
   ]
  },
  {
   "cell_type": "code",
   "execution_count": 5,
   "metadata": {},
   "outputs": [
    {
     "name": "stdout",
     "output_type": "stream",
     "text": [
      "INFO:tensorflow:Restoring parameters from proto_2-2/para.cktp\n"
     ]
    }
   ],
   "source": [
    "\n",
    "\n",
    "if not os.path.isdir(file_name) :\n",
    "    os.mkdir(file_name)\n",
    "\n",
    "    \n",
    "sess = tf.InteractiveSession()\n",
    "    \n",
    "new_saver = tf.train.import_meta_graph(file_name + '/para.cktp.meta')\n",
    "new_saver.restore(sess, tf.train.latest_checkpoint(file_name + '/'))\n",
    "\n",
    "\n",
    "z = sess.graph.get_tensor_by_name(\"z:0\")\n",
    "u = sess.graph.get_tensor_by_name(\"u:0\")\n",
    "\n",
    "ano_y = sess.graph.get_tensor_by_name(\"ano_y:0\")\n",
    "ano_z = sess.graph.get_tensor_by_name(\"ano_z:0\")\n",
    "\n",
    "isTrain = sess.graph.get_tensor_by_name(\"isTrain:0\")\n",
    "\n",
    "    \n",
    "G_z = sess.graph.get_tensor_by_name(\"G_z:0\")\n",
    "img_z = sess.graph.get_tensor_by_name(\"img_z:0\")\n",
    "\n",
    "\n",
    "feature_loss = sess.graph.get_tensor_by_name(\"feature_loss:0\")\n",
    "D_real_loss = sess.graph.get_tensor_by_name('D_real_loss:0')\n",
    "D_fake_loss = sess.graph.get_tensor_by_name('D_fake_loss:0')\n",
    "\n",
    "D_loss = sess.graph.get_tensor_by_name(\"D_loss:0\")\n",
    "G_loss = sess.graph.get_tensor_by_name(\"G_loss:0\")\n",
    "residual_loss = sess.graph.get_tensor_by_name(\"residual_loss:0\")\n",
    "\n",
    "\n",
    "D_optim = sess.graph.get_operation_by_name(\"D_optim\")\n",
    "G_optim = sess.graph.get_operation_by_name(\"G_optim\")\n",
    "\n",
    "residual_optim = sess.graph.get_operation_by_name(\"residual_optim\")\n",
    "\n",
    "\n",
    "\n"
   ]
  },
  {
   "cell_type": "code",
   "execution_count": 6,
   "metadata": {},
   "outputs": [],
   "source": [
    "im = my_mnist_test_batch(1, number = 7) "
   ]
  },
  {
   "cell_type": "code",
   "execution_count": 7,
   "metadata": {},
   "outputs": [
    {
     "data": {
      "image/png": "[encoded data removed]",
      "text/plain": [
       "<matplotlib.figure.Figure at 0x7fdddfb90fd0>"
      ]
     },
     "metadata": {},
     "output_type": "display_data"
    },
    {
     "data": {
      "image/png": "[encoded data removed]",
      "text/plain": [
       "<matplotlib.figure.Figure at 0x7fde9c09dc50>"
      ]
     },
     "metadata": {},
     "output_type": "display_data"
    },
    {
     "data": {
      "image/png": "[encoded data removed]",
      "text/plain": [
       "<matplotlib.figure.Figure at 0x7fddcf142748>"
      ]
     },
     "metadata": {},
     "output_type": "display_data"
    },
    {
     "name": "stdout",
     "output_type": "stream",
     "text": [
      "12.5127 0.384721\n"
     ]
    }
   ],
   "source": [
    " \n",
    "plt.imshow(np.reshape(im,(28, 28)), cmap='Greys_r')\n",
    "plt.show()\n",
    "    \n",
    "\n",
    "im_fake = sess.run([img_z]) \n",
    "plt.imshow(np.reshape(im_fake,(28, 28)), cmap='Greys_r')\n",
    "plt.show()\n",
    "\n",
    "ano_gap  = np.abs(np.reshape(im_fake,(28, 28)) - np.reshape(im,(28, 28)))\n",
    "plt.imshow(ano_gap, cmap='Greys_r')\n",
    "plt.show()  \n",
    "\n",
    "fea_loss, res_loss = sess.run([feature_loss,residual_loss], {ano_y : np.reshape(im,(1,28, 28,1))})\n",
    "\n",
    "print(fea_loss, res_loss)"
   ]
  },
  {
   "cell_type": "code",
   "execution_count": 8,
   "metadata": {},
   "outputs": [
    {
     "name": "stdout",
     "output_type": "stream",
     "text": [
      "0.384721\n",
      "0.117945\n",
      "0.0933527\n",
      "0.0858332\n",
      "0.0825313\n",
      "0.0795107\n",
      "0.0762715\n",
      "0.0727176\n",
      "0.0693579\n",
      "0.0666943\n"
     ]
    }
   ],
   "source": [
    "for i in range(1000) :\n",
    "    _ , loss = sess.run([residual_optim,residual_loss], {ano_y : np.reshape(im,(1,28, 28,1))})\n",
    "    if  i % 100 == 0 : \n",
    "        print(loss)"
   ]
  },
  {
   "cell_type": "code",
   "execution_count": 9,
   "metadata": {},
   "outputs": [
    {
     "data": {
      "image/png": "[encoded data removed]",
      "text/plain": [
       "<matplotlib.figure.Figure at 0x7fddd1c83c18>"
      ]
     },
     "metadata": {},
     "output_type": "display_data"
    },
    {
     "data": {
      "image/png": "[encoded data removed]",
      "text/plain": [
       "<matplotlib.figure.Figure at 0x7fde16667c50>"
      ]
     },
     "metadata": {},
     "output_type": "display_data"
    },
    {
     "data": {
      "image/png": "[encoded data removed]",
      "text/plain": [
       "<matplotlib.figure.Figure at 0x7fddcb561208>"
      ]
     },
     "metadata": {},
     "output_type": "display_data"
    },
    {
     "name": "stdout",
     "output_type": "stream",
     "text": [
      "7.02998 0.0643458\n"
     ]
    }
   ],
   "source": [
    "plt.imshow(np.reshape(im,(28, 28)), cmap='Greys_r')\n",
    "plt.show()\n",
    "    \n",
    "\n",
    "im_fake = sess.run([img_z]) \n",
    "plt.imshow(np.reshape(im_fake,(28, 28)), cmap='Greys_r')\n",
    "plt.show()\n",
    "\n",
    "ano_gap  = np.abs(np.reshape(im_fake,(28, 28)) - np.reshape(im,(28, 28)))\n",
    "plt.imshow(ano_gap, cmap='Greys_r')\n",
    "plt.show()  \n",
    "\n",
    "fea_loss, res_loss = sess.run([feature_loss,residual_loss], {ano_y : np.reshape(im,(1,28, 28,1))})\n",
    "\n",
    "print(fea_loss, res_loss)"
   ]
  },
  {
   "cell_type": "code",
   "execution_count": null,
   "metadata": {},
   "outputs": [],
   "source": []
  },
  {
   "cell_type": "code",
   "execution_count": 10,
   "metadata": {},
   "outputs": [
    {
     "name": "stdout",
     "output_type": "stream",
     "text": [
      "INFO:tensorflow:Restoring parameters from proto_2-2/para.cktp\n"
     ]
    }
   ],
   "source": [
    "\n",
    "\n",
    "if not os.path.isdir(file_name) :\n",
    "    os.mkdir(file_name)\n",
    "\n",
    "    \n",
    "sess = tf.InteractiveSession()\n",
    "    \n",
    "new_saver = tf.train.import_meta_graph(file_name + '/para.cktp.meta')\n",
    "new_saver.restore(sess, tf.train.latest_checkpoint(file_name + '/'))\n",
    "\n",
    "\n",
    "z = sess.graph.get_tensor_by_name(\"z:0\")\n",
    "u = sess.graph.get_tensor_by_name(\"u:0\")\n",
    "\n",
    "ano_y = sess.graph.get_tensor_by_name(\"ano_y:0\")\n",
    "ano_z = sess.graph.get_tensor_by_name(\"ano_z:0\")\n",
    "\n",
    "isTrain = sess.graph.get_tensor_by_name(\"isTrain:0\")\n",
    "\n",
    "    \n",
    "G_z = sess.graph.get_tensor_by_name(\"G_z:0\")\n",
    "img_z = sess.graph.get_tensor_by_name(\"img_z:0\")\n",
    "\n",
    "\n",
    "feature_loss = sess.graph.get_tensor_by_name(\"feature_loss:0\")\n",
    "D_real_loss = sess.graph.get_tensor_by_name('D_real_loss:0')\n",
    "D_fake_loss = sess.graph.get_tensor_by_name('D_fake_loss:0')\n",
    "\n",
    "D_loss = sess.graph.get_tensor_by_name(\"D_loss:0\")\n",
    "G_loss = sess.graph.get_tensor_by_name(\"G_loss:0\")\n",
    "residual_loss = sess.graph.get_tensor_by_name(\"residual_loss:0\")\n",
    "\n",
    "\n",
    "D_optim = sess.graph.get_operation_by_name(\"D_optim\")\n",
    "G_optim = sess.graph.get_operation_by_name(\"G_optim\")\n",
    "\n",
    "residual_optim = sess.graph.get_operation_by_name(\"residual_optim\")\n",
    "\n",
    "\n"
   ]
  },
  {
   "cell_type": "code",
   "execution_count": 11,
   "metadata": {},
   "outputs": [],
   "source": [
    "im = my_mnist_test_batch(1, number = 4) "
   ]
  },
  {
   "cell_type": "code",
   "execution_count": 12,
   "metadata": {},
   "outputs": [
    {
     "data": {
      "image/png": "[encoded data removed]",
      "text/plain": [
       "<matplotlib.figure.Figure at 0x7fddefeb1630>"
      ]
     },
     "metadata": {},
     "output_type": "display_data"
    },
    {
     "data": {
      "image/png": "[encoded data removed]",
      "text/plain": [
       "<matplotlib.figure.Figure at 0x7fddde704780>"
      ]
     },
     "metadata": {},
     "output_type": "display_data"
    },
    {
     "data": {
      "image/png": "[encoded data removed]",
      "text/plain": [
       "<matplotlib.figure.Figure at 0x7fdde73eff28>"
      ]
     },
     "metadata": {},
     "output_type": "display_data"
    },
    {
     "name": "stdout",
     "output_type": "stream",
     "text": [
      "12.4662 0.398387\n"
     ]
    }
   ],
   "source": [
    "\n",
    "plt.imshow(np.reshape(im,(28, 28)), cmap='Greys_r')\n",
    "plt.show()\n",
    "    \n",
    "\n",
    "im_fake = sess.run([img_z]) \n",
    "plt.imshow(np.reshape(im_fake,(28, 28)), cmap='Greys_r')\n",
    "plt.show()\n",
    "\n",
    "ano_gap  = np.abs(np.reshape(im_fake,(28, 28)) - np.reshape(im,(28, 28)))\n",
    "plt.imshow(ano_gap, cmap='Greys_r')\n",
    "plt.show()  \n",
    "\n",
    "fea_loss, res_loss = sess.run([feature_loss,residual_loss], {ano_y : np.reshape(im,(1,28, 28,1))})\n",
    "\n",
    "print(fea_loss, res_loss)"
   ]
  },
  {
   "cell_type": "code",
   "execution_count": 13,
   "metadata": {},
   "outputs": [
    {
     "name": "stdout",
     "output_type": "stream",
     "text": [
      "0.398387\n",
      "0.108099\n",
      "0.0494047\n",
      "0.0384909\n",
      "0.0329708\n",
      "0.0287559\n",
      "0.0266536\n",
      "0.0252762\n",
      "0.0242986\n",
      "0.0236084\n"
     ]
    }
   ],
   "source": [
    "for i in range(1000) :\n",
    "    _ , loss = sess.run([residual_optim,residual_loss], {ano_y : np.reshape(im,(1,28, 28,1))})\n",
    "    if  i % 100 == 0 : \n",
    "        print(loss)"
   ]
  },
  {
   "cell_type": "code",
   "execution_count": 14,
   "metadata": {},
   "outputs": [
    {
     "data": {
      "image/png": "[encoded data removed]",
      "text/plain": [
       "<matplotlib.figure.Figure at 0x7fde1c7348d0>"
      ]
     },
     "metadata": {},
     "output_type": "display_data"
    },
    {
     "data": {
      "image/png": "[encoded data removed]",
      "text/plain": [
       "<matplotlib.figure.Figure at 0x7fdf97d3a400>"
      ]
     },
     "metadata": {},
     "output_type": "display_data"
    },
    {
     "data": {
      "image/png": "[encoded data removed]",
      "text/plain": [
       "<matplotlib.figure.Figure at 0x7fddce2f1be0>"
      ]
     },
     "metadata": {},
     "output_type": "display_data"
    },
    {
     "name": "stdout",
     "output_type": "stream",
     "text": [
      "3.73813 0.0230386\n"
     ]
    }
   ],
   "source": [
    "plt.imshow(np.reshape(im,(28, 28)), cmap='Greys_r')\n",
    "plt.show()\n",
    "    \n",
    "\n",
    "im_fake = sess.run([img_z]) \n",
    "plt.imshow(np.reshape(im_fake,(28, 28)), cmap='Greys_r')\n",
    "plt.show()\n",
    "\n",
    "ano_gap  = np.abs(np.reshape(im_fake,(28, 28)) - np.reshape(im,(28, 28)))\n",
    "plt.imshow(ano_gap, cmap='Greys_r')\n",
    "plt.show()  \n",
    "\n",
    "fea_loss, res_loss = sess.run([feature_loss,residual_loss], {ano_y : np.reshape(im,(1,28, 28,1))})\n",
    "\n",
    "print(fea_loss, res_loss)"
   ]
  },
  {
   "cell_type": "code",
   "execution_count": null,
   "metadata": {},
   "outputs": [],
   "source": []
  },
  {
   "cell_type": "code",
   "execution_count": 3,
   "metadata": {},
   "outputs": [
    {
     "name": "stdout",
     "output_type": "stream",
     "text": [
      "INFO:tensorflow:Restoring parameters from proto_2-2/para.cktp\n",
      "0.371845\n",
      "0.156812\n",
      "0.132227\n",
      "0.122164\n",
      "0.117485\n",
      "0.112973\n",
      "0.109754\n",
      "0.108622\n",
      "0.107939\n",
      "0.108015\n"
     ]
    },
    {
     "data": {
      "image/png": "[encoded data removed]",
      "text/plain": [
       "<matplotlib.figure.Figure at 0x7fd605643128>"
      ]
     },
     "metadata": {},
     "output_type": "display_data"
    },
    {
     "data": {
      "image/png": "[encoded data removed]",
      "text/plain": [
       "<matplotlib.figure.Figure at 0x7fd51c0e4828>"
      ]
     },
     "metadata": {},
     "output_type": "display_data"
    },
    {
     "data": {
      "image/png": "[encoded data removed]",
      "text/plain": [
       "<matplotlib.figure.Figure at 0x7fd4c3469fd0>"
      ]
     },
     "metadata": {},
     "output_type": "display_data"
    },
    {
     "name": "stdout",
     "output_type": "stream",
     "text": [
      "8.51585 0.107154\n"
     ]
    }
   ],
   "source": [
    "\n",
    "\n",
    "\n",
    "if not os.path.isdir(file_name) :\n",
    "    os.mkdir(file_name)\n",
    "\n",
    "    \n",
    "sess = tf.InteractiveSession()\n",
    "    \n",
    "new_saver = tf.train.import_meta_graph(file_name + '/para.cktp.meta')\n",
    "new_saver.restore(sess, tf.train.latest_checkpoint(file_name + '/'))\n",
    "\n",
    "\n",
    "z = sess.graph.get_tensor_by_name(\"z:0\")\n",
    "u = sess.graph.get_tensor_by_name(\"u:0\")\n",
    "\n",
    "ano_y = sess.graph.get_tensor_by_name(\"ano_y:0\")\n",
    "ano_z = sess.graph.get_tensor_by_name(\"ano_z:0\")\n",
    "\n",
    "isTrain = sess.graph.get_tensor_by_name(\"isTrain:0\")\n",
    "\n",
    "    \n",
    "G_z = sess.graph.get_tensor_by_name(\"G_z:0\")\n",
    "img_z = sess.graph.get_tensor_by_name(\"img_z:0\")\n",
    "\n",
    "\n",
    "feature_loss = sess.graph.get_tensor_by_name(\"feature_loss:0\")\n",
    "D_real_loss = sess.graph.get_tensor_by_name('D_real_loss:0')\n",
    "D_fake_loss = sess.graph.get_tensor_by_name('D_fake_loss:0')\n",
    "\n",
    "D_loss = sess.graph.get_tensor_by_name(\"D_loss:0\")\n",
    "G_loss = sess.graph.get_tensor_by_name(\"G_loss:0\")\n",
    "residual_loss = sess.graph.get_tensor_by_name(\"residual_loss:0\")\n",
    "\n",
    "\n",
    "D_optim = sess.graph.get_operation_by_name(\"D_optim\")\n",
    "G_optim = sess.graph.get_operation_by_name(\"G_optim\")\n",
    "\n",
    "residual_optim = sess.graph.get_operation_by_name(\"residual_optim\")\n",
    "\n",
    "im = my_mnist_test_batch(1, number = 8) \n",
    "for i in range(1000) :\n",
    "    _ , loss = sess.run([residual_optim,residual_loss], {ano_y : np.reshape(im,(1,28, 28,1))})\n",
    "    if  i % 100 == 0 : \n",
    "        print(loss)\n",
    "plt.imshow(np.reshape(im,(28, 28)), cmap='Greys_r')\n",
    "plt.show()\n",
    "    \n",
    "\n",
    "im_fake = sess.run([img_z]) \n",
    "plt.imshow(np.reshape(im_fake,(28, 28)), cmap='Greys_r')\n",
    "plt.show()\n",
    "\n",
    "ano_gap  = np.abs(np.reshape(im_fake,(28, 28)) - np.reshape(im,(28, 28)))\n",
    "plt.imshow(ano_gap, cmap='Greys_r')\n",
    "plt.show()  \n",
    "\n",
    "fea_loss, res_loss = sess.run([feature_loss,residual_loss], {ano_y : np.reshape(im,(1,28, 28,1))})\n",
    "\n",
    "print(fea_loss, res_loss)"
   ]
  },
  {
   "cell_type": "code",
   "execution_count": 4,
   "metadata": {},
   "outputs": [
    {
     "name": "stdout",
     "output_type": "stream",
     "text": [
      "INFO:tensorflow:Restoring parameters from proto_2-2/para.cktp\n",
      "0.399626\n",
      "0.120717\n",
      "0.0811795\n",
      "0.0727481\n",
      "0.0706273\n",
      "0.068589\n",
      "0.0671104\n",
      "0.0655344\n",
      "0.0640264\n",
      "0.06274\n"
     ]
    },
    {
     "data": {
      "image/png": "[encoded data removed]",
      "text/plain": [
       "<matplotlib.figure.Figure at 0x7fd4c35fb390>"
      ]
     },
     "metadata": {},
     "output_type": "display_data"
    },
    {
     "data": {
      "image/png": "[encoded data removed]",
      "text/plain": [
       "<matplotlib.figure.Figure at 0x7fd5a00956d8>"
      ]
     },
     "metadata": {},
     "output_type": "display_data"
    },
    {
     "data": {
      "image/png": "[encoded data removed]",
      "text/plain": [
       "<matplotlib.figure.Figure at 0x7fd600df09b0>"
      ]
     },
     "metadata": {},
     "output_type": "display_data"
    },
    {
     "name": "stdout",
     "output_type": "stream",
     "text": [
      "7.01179 0.0620335\n"
     ]
    }
   ],
   "source": [
    "\n",
    "\n",
    "\n",
    "if not os.path.isdir(file_name) :\n",
    "    os.mkdir(file_name)\n",
    "\n",
    "    \n",
    "sess = tf.InteractiveSession()\n",
    "    \n",
    "new_saver = tf.train.import_meta_graph(file_name + '/para.cktp.meta')\n",
    "new_saver.restore(sess, tf.train.latest_checkpoint(file_name + '/'))\n",
    "\n",
    "\n",
    "z = sess.graph.get_tensor_by_name(\"z:0\")\n",
    "u = sess.graph.get_tensor_by_name(\"u:0\")\n",
    "\n",
    "ano_y = sess.graph.get_tensor_by_name(\"ano_y:0\")\n",
    "ano_z = sess.graph.get_tensor_by_name(\"ano_z:0\")\n",
    "\n",
    "isTrain = sess.graph.get_tensor_by_name(\"isTrain:0\")\n",
    "\n",
    "    \n",
    "G_z = sess.graph.get_tensor_by_name(\"G_z:0\")\n",
    "img_z = sess.graph.get_tensor_by_name(\"img_z:0\")\n",
    "\n",
    "\n",
    "feature_loss = sess.graph.get_tensor_by_name(\"feature_loss:0\")\n",
    "D_real_loss = sess.graph.get_tensor_by_name('D_real_loss:0')\n",
    "D_fake_loss = sess.graph.get_tensor_by_name('D_fake_loss:0')\n",
    "\n",
    "D_loss = sess.graph.get_tensor_by_name(\"D_loss:0\")\n",
    "G_loss = sess.graph.get_tensor_by_name(\"G_loss:0\")\n",
    "residual_loss = sess.graph.get_tensor_by_name(\"residual_loss:0\")\n",
    "\n",
    "\n",
    "D_optim = sess.graph.get_operation_by_name(\"D_optim\")\n",
    "G_optim = sess.graph.get_operation_by_name(\"G_optim\")\n",
    "\n",
    "residual_optim = sess.graph.get_operation_by_name(\"residual_optim\")\n",
    "\n",
    "im = my_mnist_test_batch(1, number = 9) \n",
    "for i in range(1000) :\n",
    "    _ , loss = sess.run([residual_optim,residual_loss], {ano_y : np.reshape(im,(1,28, 28,1))})\n",
    "    if  i % 100 == 0 : \n",
    "        print(loss)\n",
    "plt.imshow(np.reshape(im,(28, 28)), cmap='Greys_r')\n",
    "plt.show()\n",
    "    \n",
    "\n",
    "im_fake = sess.run([img_z]) \n",
    "plt.imshow(np.reshape(im_fake,(28, 28)), cmap='Greys_r')\n",
    "plt.show()\n",
    "\n",
    "ano_gap  = np.abs(np.reshape(im_fake,(28, 28)) - np.reshape(im,(28, 28)))\n",
    "plt.imshow(ano_gap, cmap='Greys_r')\n",
    "plt.show()  \n",
    "\n",
    "fea_loss, res_loss = sess.run([feature_loss,residual_loss], {ano_y : np.reshape(im,(1,28, 28,1))})\n",
    "\n",
    "print(fea_loss, res_loss)"
   ]
  },
  {
   "cell_type": "code",
   "execution_count": 5,
   "metadata": {},
   "outputs": [
    {
     "name": "stdout",
     "output_type": "stream",
     "text": [
      "INFO:tensorflow:Restoring parameters from proto_2-2/para.cktp\n",
      "0.33927\n",
      "0.119965\n",
      "0.0875205\n",
      "0.0752852\n",
      "0.0594837\n",
      "0.0532018\n",
      "0.0509419\n",
      "0.0493821\n",
      "0.0480617\n",
      "0.0470557\n"
     ]
    },
    {
     "data": {
      "image/png": "[encoded data removed]",
      "text/plain": [
       "<matplotlib.figure.Figure at 0x7fd4c35f2d68>"
      ]
     },
     "metadata": {},
     "output_type": "display_data"
    },
    {
     "data": {
      "image/png": "[encoded data removed]",
      "text/plain": [
       "<matplotlib.figure.Figure at 0x7fd4ec4ad780>"
      ]
     },
     "metadata": {},
     "output_type": "display_data"
    },
    {
     "data": {
      "image/png": "[encoded data removed]",
      "text/plain": [
       "<matplotlib.figure.Figure at 0x7fd600e85ac8>"
      ]
     },
     "metadata": {},
     "output_type": "display_data"
    },
    {
     "name": "stdout",
     "output_type": "stream",
     "text": [
      "5.62574 0.0462497\n"
     ]
    }
   ],
   "source": [
    "\n",
    "\n",
    "\n",
    "if not os.path.isdir(file_name) :\n",
    "    os.mkdir(file_name)\n",
    "\n",
    "    \n",
    "sess = tf.InteractiveSession()\n",
    "    \n",
    "new_saver = tf.train.import_meta_graph(file_name + '/para.cktp.meta')\n",
    "new_saver.restore(sess, tf.train.latest_checkpoint(file_name + '/'))\n",
    "\n",
    "\n",
    "z = sess.graph.get_tensor_by_name(\"z:0\")\n",
    "u = sess.graph.get_tensor_by_name(\"u:0\")\n",
    "\n",
    "ano_y = sess.graph.get_tensor_by_name(\"ano_y:0\")\n",
    "ano_z = sess.graph.get_tensor_by_name(\"ano_z:0\")\n",
    "\n",
    "isTrain = sess.graph.get_tensor_by_name(\"isTrain:0\")\n",
    "\n",
    "    \n",
    "G_z = sess.graph.get_tensor_by_name(\"G_z:0\")\n",
    "img_z = sess.graph.get_tensor_by_name(\"img_z:0\")\n",
    "\n",
    "\n",
    "feature_loss = sess.graph.get_tensor_by_name(\"feature_loss:0\")\n",
    "D_real_loss = sess.graph.get_tensor_by_name('D_real_loss:0')\n",
    "D_fake_loss = sess.graph.get_tensor_by_name('D_fake_loss:0')\n",
    "\n",
    "D_loss = sess.graph.get_tensor_by_name(\"D_loss:0\")\n",
    "G_loss = sess.graph.get_tensor_by_name(\"G_loss:0\")\n",
    "residual_loss = sess.graph.get_tensor_by_name(\"residual_loss:0\")\n",
    "\n",
    "\n",
    "D_optim = sess.graph.get_operation_by_name(\"D_optim\")\n",
    "G_optim = sess.graph.get_operation_by_name(\"G_optim\")\n",
    "\n",
    "residual_optim = sess.graph.get_operation_by_name(\"residual_optim\")\n",
    "\n",
    "im = my_mnist_test_batch(1, number = 3) \n",
    "for i in range(1000) :\n",
    "    _ , loss = sess.run([residual_optim,residual_loss], {ano_y : np.reshape(im,(1,28, 28,1))})\n",
    "    if  i % 100 == 0 : \n",
    "        print(loss)\n",
    "plt.imshow(np.reshape(im,(28, 28)), cmap='Greys_r')\n",
    "plt.show()\n",
    "    \n",
    "\n",
    "im_fake = sess.run([img_z]) \n",
    "plt.imshow(np.reshape(im_fake,(28, 28)), cmap='Greys_r')\n",
    "plt.show()\n",
    "\n",
    "ano_gap  = np.abs(np.reshape(im_fake,(28, 28)) - np.reshape(im,(28, 28)))\n",
    "plt.imshow(ano_gap, cmap='Greys_r')\n",
    "plt.show()  \n",
    "\n",
    "fea_loss, res_loss = sess.run([feature_loss,residual_loss], {ano_y : np.reshape(im,(1,28, 28,1))})\n",
    "\n",
    "print(fea_loss, res_loss)"
   ]
  },
  {
   "cell_type": "code",
   "execution_count": 6,
   "metadata": {},
   "outputs": [
    {
     "name": "stdout",
     "output_type": "stream",
     "text": [
      "INFO:tensorflow:Restoring parameters from proto_2-2/para.cktp\n",
      "0.367115\n",
      "0.209367\n",
      "0.170688\n",
      "0.125652\n",
      "0.111993\n",
      "0.104418\n",
      "0.0880687\n",
      "0.0656667\n",
      "0.0558366\n",
      "0.0499524\n"
     ]
    },
    {
     "data": {
      "image/png": "[encoded data removed]",
      "text/plain": [
       "<matplotlib.figure.Figure at 0x7fd600c66400>"
      ]
     },
     "metadata": {},
     "output_type": "display_data"
    },
    {
     "data": {
      "image/png": "[encoded data removed]",
      "text/plain": [
       "<matplotlib.figure.Figure at 0x7fd455bc89e8>"
      ]
     },
     "metadata": {},
     "output_type": "display_data"
    },
    {
     "data": {
      "image/png": "[encoded data removed]",
      "text/plain": [
       "<matplotlib.figure.Figure at 0x7fd4c0436320>"
      ]
     },
     "metadata": {},
     "output_type": "display_data"
    },
    {
     "name": "stdout",
     "output_type": "stream",
     "text": [
      "4.41624 0.044105\n"
     ]
    }
   ],
   "source": [
    "\n",
    "\n",
    "\n",
    "if not os.path.isdir(file_name) :\n",
    "    os.mkdir(file_name)\n",
    "\n",
    "    \n",
    "sess = tf.InteractiveSession()\n",
    "    \n",
    "new_saver = tf.train.import_meta_graph(file_name + '/para.cktp.meta')\n",
    "new_saver.restore(sess, tf.train.latest_checkpoint(file_name + '/'))\n",
    "\n",
    "\n",
    "z = sess.graph.get_tensor_by_name(\"z:0\")\n",
    "u = sess.graph.get_tensor_by_name(\"u:0\")\n",
    "\n",
    "ano_y = sess.graph.get_tensor_by_name(\"ano_y:0\")\n",
    "ano_z = sess.graph.get_tensor_by_name(\"ano_z:0\")\n",
    "\n",
    "isTrain = sess.graph.get_tensor_by_name(\"isTrain:0\")\n",
    "\n",
    "    \n",
    "G_z = sess.graph.get_tensor_by_name(\"G_z:0\")\n",
    "img_z = sess.graph.get_tensor_by_name(\"img_z:0\")\n",
    "\n",
    "\n",
    "feature_loss = sess.graph.get_tensor_by_name(\"feature_loss:0\")\n",
    "D_real_loss = sess.graph.get_tensor_by_name('D_real_loss:0')\n",
    "D_fake_loss = sess.graph.get_tensor_by_name('D_fake_loss:0')\n",
    "\n",
    "D_loss = sess.graph.get_tensor_by_name(\"D_loss:0\")\n",
    "G_loss = sess.graph.get_tensor_by_name(\"G_loss:0\")\n",
    "residual_loss = sess.graph.get_tensor_by_name(\"residual_loss:0\")\n",
    "\n",
    "\n",
    "D_optim = sess.graph.get_operation_by_name(\"D_optim\")\n",
    "G_optim = sess.graph.get_operation_by_name(\"G_optim\")\n",
    "\n",
    "residual_optim = sess.graph.get_operation_by_name(\"residual_optim\")\n",
    "\n",
    "im = my_mnist_test_batch(1, number = 2) \n",
    "for i in range(1000) :\n",
    "    _ , loss = sess.run([residual_optim,residual_loss], {ano_y : np.reshape(im,(1,28, 28,1))})\n",
    "    if  i % 100 == 0 : \n",
    "        print(loss)\n",
    "plt.imshow(np.reshape(im,(28, 28)), cmap='Greys_r')\n",
    "plt.show()\n",
    "    \n",
    "\n",
    "im_fake = sess.run([img_z]) \n",
    "plt.imshow(np.reshape(im_fake,(28, 28)), cmap='Greys_r')\n",
    "plt.show()\n",
    "\n",
    "ano_gap  = np.abs(np.reshape(im_fake,(28, 28)) - np.reshape(im,(28, 28)))\n",
    "plt.imshow(ano_gap, cmap='Greys_r')\n",
    "plt.show()  \n",
    "\n",
    "fea_loss, res_loss = sess.run([feature_loss,residual_loss], {ano_y : np.reshape(im,(1,28, 28,1))})\n",
    "\n",
    "print(fea_loss, res_loss)"
   ]
  },
  {
   "cell_type": "code",
   "execution_count": 7,
   "metadata": {},
   "outputs": [
    {
     "name": "stdout",
     "output_type": "stream",
     "text": [
      "INFO:tensorflow:Restoring parameters from proto_2-2/para.cktp\n",
      "0.434958\n",
      "0.108991\n",
      "0.0279601\n",
      "0.0185409\n",
      "0.0158029\n",
      "0.0143065\n",
      "0.0135124\n",
      "0.0129249\n",
      "0.0126044\n",
      "0.012363\n"
     ]
    },
    {
     "data": {
      "image/png": "[encoded data removed]",
      "text/plain": [
       "<matplotlib.figure.Figure at 0x7fd4ecbc8240>"
      ]
     },
     "metadata": {},
     "output_type": "display_data"
    },
    {
     "data": {
      "image/png": "[encoded data removed]",
      "text/plain": [
       "<matplotlib.figure.Figure at 0x7fd455907f60>"
      ]
     },
     "metadata": {},
     "output_type": "display_data"
    },
    {
     "data": {
      "image/png": "[encoded data removed]",
      "text/plain": [
       "<matplotlib.figure.Figure at 0x7fd43c333cf8>"
      ]
     },
     "metadata": {},
     "output_type": "display_data"
    },
    {
     "name": "stdout",
     "output_type": "stream",
     "text": [
      "1.78799 0.0121693\n"
     ]
    }
   ],
   "source": [
    "\n",
    "\n",
    "\n",
    "if not os.path.isdir(file_name) :\n",
    "    os.mkdir(file_name)\n",
    "\n",
    "    \n",
    "sess = tf.InteractiveSession()\n",
    "    \n",
    "new_saver = tf.train.import_meta_graph(file_name + '/para.cktp.meta')\n",
    "new_saver.restore(sess, tf.train.latest_checkpoint(file_name + '/'))\n",
    "\n",
    "\n",
    "z = sess.graph.get_tensor_by_name(\"z:0\")\n",
    "u = sess.graph.get_tensor_by_name(\"u:0\")\n",
    "\n",
    "ano_y = sess.graph.get_tensor_by_name(\"ano_y:0\")\n",
    "ano_z = sess.graph.get_tensor_by_name(\"ano_z:0\")\n",
    "\n",
    "isTrain = sess.graph.get_tensor_by_name(\"isTrain:0\")\n",
    "\n",
    "    \n",
    "G_z = sess.graph.get_tensor_by_name(\"G_z:0\")\n",
    "img_z = sess.graph.get_tensor_by_name(\"img_z:0\")\n",
    "\n",
    "\n",
    "feature_loss = sess.graph.get_tensor_by_name(\"feature_loss:0\")\n",
    "D_real_loss = sess.graph.get_tensor_by_name('D_real_loss:0')\n",
    "D_fake_loss = sess.graph.get_tensor_by_name('D_fake_loss:0')\n",
    "\n",
    "D_loss = sess.graph.get_tensor_by_name(\"D_loss:0\")\n",
    "G_loss = sess.graph.get_tensor_by_name(\"G_loss:0\")\n",
    "residual_loss = sess.graph.get_tensor_by_name(\"residual_loss:0\")\n",
    "\n",
    "\n",
    "D_optim = sess.graph.get_operation_by_name(\"D_optim\")\n",
    "G_optim = sess.graph.get_operation_by_name(\"G_optim\")\n",
    "\n",
    "residual_optim = sess.graph.get_operation_by_name(\"residual_optim\")\n",
    "\n",
    "im = my_mnist_test_batch(1, number = 1) \n",
    "for i in range(1000) :\n",
    "    _ , loss = sess.run([residual_optim,residual_loss], {ano_y : np.reshape(im,(1,28, 28,1))})\n",
    "    if  i % 100 == 0 : \n",
    "        print(loss)\n",
    "plt.imshow(np.reshape(im,(28, 28)), cmap='Greys_r')\n",
    "plt.show()\n",
    "    \n",
    "\n",
    "im_fake = sess.run([img_z]) \n",
    "plt.imshow(np.reshape(im_fake,(28, 28)), cmap='Greys_r')\n",
    "plt.show()\n",
    "\n",
    "ano_gap  = np.abs(np.reshape(im_fake,(28, 28)) - np.reshape(im,(28, 28)))\n",
    "plt.imshow(ano_gap, cmap='Greys_r')\n",
    "plt.show()  \n",
    "\n",
    "fea_loss, res_loss = sess.run([feature_loss,residual_loss], {ano_y : np.reshape(im,(1,28, 28,1))})\n",
    "\n",
    "print(fea_loss, res_loss)"
   ]
  },
  {
   "cell_type": "code",
   "execution_count": 3,
   "metadata": {},
   "outputs": [
    {
     "name": "stdout",
     "output_type": "stream",
     "text": [
      "INFO:tensorflow:Restoring parameters from proto_2-2/para.cktp\n",
      "0.365081\n",
      "0.157461\n",
      "0.097204\n",
      "0.0795753\n",
      "0.0654344\n",
      "0.0562971\n",
      "0.0528399\n",
      "0.050504\n",
      "0.048594\n",
      "0.0464684\n"
     ]
    },
    {
     "data": {
      "image/png": "[encoded data removed]",
      "text/plain": [
       "<matplotlib.figure.Figure at 0x7f532a82e080>"
      ]
     },
     "metadata": {},
     "output_type": "display_data"
    },
    {
     "data": {
      "image/png": "[encoded data removed]",
      "text/plain": [
       "<matplotlib.figure.Figure at 0x7f53212dec18>"
      ]
     },
     "metadata": {},
     "output_type": "display_data"
    },
    {
     "data": {
      "image/png": "[encoded data removed]",
      "text/plain": [
       "<matplotlib.figure.Figure at 0x7f521c591c50>"
      ]
     },
     "metadata": {},
     "output_type": "display_data"
    },
    {
     "name": "stdout",
     "output_type": "stream",
     "text": [
      "4.08162 0.0451449\n"
     ]
    }
   ],
   "source": [
    "\n",
    "\n",
    "\n",
    "if not os.path.isdir(file_name) :\n",
    "    os.mkdir(file_name)\n",
    "\n",
    "    \n",
    "sess = tf.InteractiveSession()\n",
    "    \n",
    "new_saver = tf.train.import_meta_graph(file_name + '/para.cktp.meta')\n",
    "new_saver.restore(sess, tf.train.latest_checkpoint(file_name + '/'))\n",
    "\n",
    "\n",
    "z = sess.graph.get_tensor_by_name(\"z:0\")\n",
    "u = sess.graph.get_tensor_by_name(\"u:0\")\n",
    "\n",
    "ano_y = sess.graph.get_tensor_by_name(\"ano_y:0\")\n",
    "ano_z = sess.graph.get_tensor_by_name(\"ano_z:0\")\n",
    "\n",
    "isTrain = sess.graph.get_tensor_by_name(\"isTrain:0\")\n",
    "\n",
    "    \n",
    "G_z = sess.graph.get_tensor_by_name(\"G_z:0\")\n",
    "img_z = sess.graph.get_tensor_by_name(\"img_z:0\")\n",
    "\n",
    "\n",
    "feature_loss = sess.graph.get_tensor_by_name(\"feature_loss:0\")\n",
    "D_real_loss = sess.graph.get_tensor_by_name('D_real_loss:0')\n",
    "D_fake_loss = sess.graph.get_tensor_by_name('D_fake_loss:0')\n",
    "\n",
    "D_loss = sess.graph.get_tensor_by_name(\"D_loss:0\")\n",
    "G_loss = sess.graph.get_tensor_by_name(\"G_loss:0\")\n",
    "residual_loss = sess.graph.get_tensor_by_name(\"residual_loss:0\")\n",
    "\n",
    "\n",
    "D_optim = sess.graph.get_operation_by_name(\"D_optim\")\n",
    "G_optim = sess.graph.get_operation_by_name(\"G_optim\")\n",
    "\n",
    "residual_optim = sess.graph.get_operation_by_name(\"residual_optim\")\n",
    "\n",
    "im = my_mnist_test_batch(1, number = 0) \n",
    "for i in range(1000) :\n",
    "    _ , loss = sess.run([residual_optim,residual_loss], {ano_y : np.reshape(im,(1,28, 28,1))})\n",
    "    if  i % 100 == 0 : \n",
    "        print(loss)\n",
    "plt.imshow(np.reshape(im,(28, 28)), cmap='Greys_r')\n",
    "plt.show()\n",
    "    \n",
    "\n",
    "im_fake = sess.run([img_z]) \n",
    "plt.imshow(np.reshape(im_fake,(28, 28)), cmap='Greys_r')\n",
    "plt.show()\n",
    "\n",
    "ano_gap  = np.abs(np.reshape(im_fake,(28, 28)) - np.reshape(im,(28, 28)))\n",
    "plt.imshow(ano_gap, cmap='Greys_r')\n",
    "plt.show()  \n",
    "\n",
    "fea_loss, res_loss = sess.run([feature_loss,residual_loss], {ano_y : np.reshape(im,(1,28, 28,1))})\n",
    "\n",
    "print(fea_loss, res_loss)"
   ]
  },
  {
   "cell_type": "code",
   "execution_count": 5,
   "metadata": {},
   "outputs": [
    {
     "name": "stdout",
     "output_type": "stream",
     "text": [
      "INFO:tensorflow:Restoring parameters from proto_2-2/para.cktp\n",
      "0.386656\n",
      "0.163974\n",
      "0.134988\n",
      "0.128313\n",
      "0.124151\n",
      "0.117876\n",
      "0.113677\n",
      "0.110559\n",
      "0.106658\n",
      "0.102548\n"
     ]
    },
    {
     "data": {
      "image/png": "[encoded data removed]",
      "text/plain": [
       "<matplotlib.figure.Figure at 0x7f5215fed160>"
      ]
     },
     "metadata": {},
     "output_type": "display_data"
    },
    {
     "data": {
      "image/png": "[encoded data removed]",
      "text/plain": [
       "<matplotlib.figure.Figure at 0x7f518bd6ada0>"
      ]
     },
     "metadata": {},
     "output_type": "display_data"
    },
    {
     "data": {
      "image/png": "[encoded data removed]",
      "text/plain": [
       "<matplotlib.figure.Figure at 0x7f525c08eb70>"
      ]
     },
     "metadata": {},
     "output_type": "display_data"
    },
    {
     "name": "stdout",
     "output_type": "stream",
     "text": [
      "8.04812 0.0989978\n"
     ]
    }
   ],
   "source": [
    "\n",
    "\n",
    "\n",
    "if not os.path.isdir(file_name) :\n",
    "    os.mkdir(file_name)\n",
    "\n",
    "    \n",
    "sess = tf.InteractiveSession()\n",
    "    \n",
    "new_saver = tf.train.import_meta_graph(file_name + '/para.cktp.meta')\n",
    "new_saver.restore(sess, tf.train.latest_checkpoint(file_name + '/'))\n",
    "\n",
    "\n",
    "z = sess.graph.get_tensor_by_name(\"z:0\")\n",
    "u = sess.graph.get_tensor_by_name(\"u:0\")\n",
    "\n",
    "ano_y = sess.graph.get_tensor_by_name(\"ano_y:0\")\n",
    "ano_z = sess.graph.get_tensor_by_name(\"ano_z:0\")\n",
    "\n",
    "isTrain = sess.graph.get_tensor_by_name(\"isTrain:0\")\n",
    "\n",
    "    \n",
    "G_z = sess.graph.get_tensor_by_name(\"G_z:0\")\n",
    "img_z = sess.graph.get_tensor_by_name(\"img_z:0\")\n",
    "\n",
    "\n",
    "feature_loss = sess.graph.get_tensor_by_name(\"feature_loss:0\")\n",
    "D_real_loss = sess.graph.get_tensor_by_name('D_real_loss:0')\n",
    "D_fake_loss = sess.graph.get_tensor_by_name('D_fake_loss:0')\n",
    "\n",
    "D_loss = sess.graph.get_tensor_by_name(\"D_loss:0\")\n",
    "G_loss = sess.graph.get_tensor_by_name(\"G_loss:0\")\n",
    "residual_loss = sess.graph.get_tensor_by_name(\"residual_loss:0\")\n",
    "\n",
    "\n",
    "D_optim = sess.graph.get_operation_by_name(\"D_optim\")\n",
    "G_optim = sess.graph.get_operation_by_name(\"G_optim\")\n",
    "\n",
    "residual_optim = sess.graph.get_operation_by_name(\"residual_optim\")\n",
    "\n",
    "im = my_mnist_test_batch(1, number = 5) \n",
    "for i in range(1000) :\n",
    "    _ , loss = sess.run([residual_optim,residual_loss], {ano_y : np.reshape(im,(1,28, 28,1))})\n",
    "    if  i % 100 == 0 : \n",
    "        print(loss)\n",
    "plt.imshow(np.reshape(im,(28, 28)), cmap='Greys_r')\n",
    "plt.show()\n",
    "    \n",
    "\n",
    "im_fake = sess.run([img_z]) \n",
    "plt.imshow(np.reshape(im_fake,(28, 28)), cmap='Greys_r')\n",
    "plt.show()\n",
    "\n",
    "ano_gap  = np.abs(np.reshape(im_fake,(28, 28)) - np.reshape(im,(28, 28)))\n",
    "plt.imshow(ano_gap, cmap='Greys_r')\n",
    "plt.show()  \n",
    "\n",
    "fea_loss, res_loss = sess.run([feature_loss,residual_loss], {ano_y : np.reshape(im,(1,28, 28,1))})\n",
    "\n",
    "print(fea_loss, res_loss)"
   ]
  },
  {
   "cell_type": "code",
   "execution_count": 6,
   "metadata": {},
   "outputs": [
    {
     "name": "stdout",
     "output_type": "stream",
     "text": [
      "INFO:tensorflow:Restoring parameters from proto_2-2/para.cktp\n",
      "0.374384\n",
      "0.148265\n",
      "0.115577\n",
      "0.104585\n",
      "0.0968201\n",
      "0.0876495\n",
      "0.0781529\n",
      "0.0763336\n",
      "0.0745416\n",
      "0.0732269\n"
     ]
    },
    {
     "data": {
      "image/png": "[encoded data removed]",
      "text/plain": [
       "<matplotlib.figure.Figure at 0x7f525c062048>"
      ]
     },
     "metadata": {},
     "output_type": "display_data"
    },
    {
     "data": {
      "image/png": "[encoded data removed]",
      "text/plain": [
       "<matplotlib.figure.Figure at 0x7f521c45df98>"
      ]
     },
     "metadata": {},
     "output_type": "display_data"
    },
    {
     "data": {
      "image/png": "[encoded data removed]",
      "text/plain": [
       "<matplotlib.figure.Figure at 0x7f51c0281d30>"
      ]
     },
     "metadata": {},
     "output_type": "display_data"
    },
    {
     "name": "stdout",
     "output_type": "stream",
     "text": [
      "7.39698 0.0717697\n"
     ]
    }
   ],
   "source": [
    "\n",
    "\n",
    "\n",
    "if not os.path.isdir(file_name) :\n",
    "    os.mkdir(file_name)\n",
    "\n",
    "    \n",
    "sess = tf.InteractiveSession()\n",
    "    \n",
    "new_saver = tf.train.import_meta_graph(file_name + '/para.cktp.meta')\n",
    "new_saver.restore(sess, tf.train.latest_checkpoint(file_name + '/'))\n",
    "\n",
    "\n",
    "z = sess.graph.get_tensor_by_name(\"z:0\")\n",
    "u = sess.graph.get_tensor_by_name(\"u:0\")\n",
    "\n",
    "ano_y = sess.graph.get_tensor_by_name(\"ano_y:0\")\n",
    "ano_z = sess.graph.get_tensor_by_name(\"ano_z:0\")\n",
    "\n",
    "isTrain = sess.graph.get_tensor_by_name(\"isTrain:0\")\n",
    "\n",
    "    \n",
    "G_z = sess.graph.get_tensor_by_name(\"G_z:0\")\n",
    "img_z = sess.graph.get_tensor_by_name(\"img_z:0\")\n",
    "\n",
    "\n",
    "feature_loss = sess.graph.get_tensor_by_name(\"feature_loss:0\")\n",
    "D_real_loss = sess.graph.get_tensor_by_name('D_real_loss:0')\n",
    "D_fake_loss = sess.graph.get_tensor_by_name('D_fake_loss:0')\n",
    "\n",
    "D_loss = sess.graph.get_tensor_by_name(\"D_loss:0\")\n",
    "G_loss = sess.graph.get_tensor_by_name(\"G_loss:0\")\n",
    "residual_loss = sess.graph.get_tensor_by_name(\"residual_loss:0\")\n",
    "\n",
    "\n",
    "D_optim = sess.graph.get_operation_by_name(\"D_optim\")\n",
    "G_optim = sess.graph.get_operation_by_name(\"G_optim\")\n",
    "\n",
    "residual_optim = sess.graph.get_operation_by_name(\"residual_optim\")\n",
    "\n",
    "im = my_mnist_test_batch(1, number = 6) \n",
    "for i in range(1000) :\n",
    "    _ , loss = sess.run([residual_optim,residual_loss], {ano_y : np.reshape(im,(1,28, 28,1))})\n",
    "    if  i % 100 == 0 : \n",
    "        print(loss)\n",
    "plt.imshow(np.reshape(im,(28, 28)), cmap='Greys_r')\n",
    "plt.show()\n",
    "    \n",
    "\n",
    "im_fake = sess.run([img_z]) \n",
    "plt.imshow(np.reshape(im_fake,(28, 28)), cmap='Greys_r')\n",
    "plt.show()\n",
    "\n",
    "ano_gap  = np.abs(np.reshape(im_fake,(28, 28)) - np.reshape(im,(28, 28)))\n",
    "plt.imshow(ano_gap, cmap='Greys_r')\n",
    "plt.show()  \n",
    "\n",
    "fea_loss, res_loss = sess.run([feature_loss,residual_loss], {ano_y : np.reshape(im,(1,28, 28,1))})\n",
    "\n",
    "print(fea_loss, res_loss)"
   ]
  },
  {
   "cell_type": "code",
   "execution_count": null,
   "metadata": {},
   "outputs": [],
   "source": []
  }
 ],
 "metadata": {
  "kernelspec": {
   "display_name": "Python 3",
   "language": "python",
   "name": "python3"
  },
  "language_info": {
   "codemirror_mode": {
    "name": "ipython",
    "version": 3
   },
   "file_extension": ".py",
   "mimetype": "text/x-python",
   "name": "python",
   "nbconvert_exporter": "python",
   "pygments_lexer": "ipython3",
   "version": "3.5.2"
  },
  "toc": {
   "base_numbering": 1,
   "nav_menu": {},
   "number_sections": true,
   "sideBar": true,
   "skip_h1_title": false,
   "title_cell": "Table of Contents",
   "title_sidebar": "Contents",
   "toc_cell": false,
   "toc_position": {},
   "toc_section_display": true,
   "toc_window_display": false
  },
  "varInspector": {
   "cols": {
    "lenName": 16,
    "lenType": 16,
    "lenVar": 40
   },
   "kernels_config": {
    "python": {
     "delete_cmd_postfix": "",
     "delete_cmd_prefix": "del ",
     "library": "var_list.py",
     "varRefreshCmd": "print(var_dic_list())"
    },
    "r": {
     "delete_cmd_postfix": ") ",
     "delete_cmd_prefix": "rm(",
     "library": "var_list.r",
     "varRefreshCmd": "cat(var_dic_list()) "
    }
   },
   "types_to_exclude": [
    "module",
    "function",
    "builtin_function_or_method",
    "instance",
    "_Feature"
   ],
   "window_display": false
  }
 },
 "nbformat": 4,
 "nbformat_minor": 2
}
