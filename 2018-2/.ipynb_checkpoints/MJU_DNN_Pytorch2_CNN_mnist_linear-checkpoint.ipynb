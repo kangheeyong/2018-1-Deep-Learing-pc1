{
 "cells": [
  {
   "cell_type": "markdown",
   "metadata": {},
   "source": [
    "# Convolutional Neural Network\n",
    "- MNIST data\n",
    "- only fully connected layers"
   ]
  },
  {
   "cell_type": "markdown",
   "metadata": {},
   "source": [
    "## 1. Settings\n",
    "### 1) Import required libraries"
   ]
  },
  {
   "cell_type": "code",
   "execution_count": 2,
   "metadata": {},
   "outputs": [],
   "source": [
    "import numpy as np\n",
    "import torch\n",
    "import torch.nn as nn\n",
    "import torch.optim as optim\n",
    "import torch.nn.init as init\n",
    "import torchvision.datasets as dset\n",
    "import torchvision.transforms as transforms\n",
    "from torch.utils.data import DataLoader"
   ]
  },
  {
   "cell_type": "markdown",
   "metadata": {},
   "source": [
    "### 2) Set hyperparameters"
   ]
  },
  {
   "cell_type": "code",
   "execution_count": 3,
   "metadata": {},
   "outputs": [],
   "source": [
    "batch_size = 16 # 16개마다 weight update\n",
    "learning_rate = 0.0002\n",
    "num_epoch = 10\n",
    "use_cuda = True\n",
    "#device = torch.device(\"cuda\" if use_cuda else \"cpu\")\n",
    "device = torch.device(\"cuda\" if torch.cuda.is_available() else \"cpu\")\n"
   ]
  },
  {
   "cell_type": "markdown",
   "metadata": {},
   "source": [
    "## 3. Data Generation\n",
    "\n",
    "### 1) Download Data"
   ]
  },
  {
   "cell_type": "code",
   "execution_count": 4,
   "metadata": {},
   "outputs": [
    {
     "name": "stdout",
     "output_type": "stream",
     "text": [
      "Downloading http://yann.lecun.com/exdb/mnist/train-images-idx3-ubyte.gz\n",
      "Downloading http://yann.lecun.com/exdb/mnist/train-labels-idx1-ubyte.gz\n",
      "Downloading http://yann.lecun.com/exdb/mnist/t10k-images-idx3-ubyte.gz\n",
      "Downloading http://yann.lecun.com/exdb/mnist/t10k-labels-idx1-ubyte.gz\n",
      "Processing...\n",
      "Done!\n"
     ]
    }
   ],
   "source": [
    "mnist_train = dset.MNIST(\"./\", train=True, transform=transforms.ToTensor(), target_transform=None, download=True)\n",
    "mnist_test = dset.MNIST(\"./\", train=False, transform=transforms.ToTensor(), target_transform=None, download=True)"
   ]
  },
  {
   "cell_type": "markdown",
   "metadata": {},
   "source": [
    "### 2) Check Dataset"
   ]
  },
  {
   "cell_type": "code",
   "execution_count": 5,
   "metadata": {},
   "outputs": [
    {
     "name": "stdout",
     "output_type": "stream",
     "text": [
      "tensor(5) 60000\n"
     ]
    },
    {
     "data": {
      "text/plain": [
       "(tensor(7), 10000)"
      ]
     },
     "execution_count": 5,
     "metadata": {},
     "output_type": "execute_result"
    }
   ],
   "source": [
    "print(mnist_train.__getitem__(0)[1], mnist_train.__len__())\n",
    "mnist_test.__getitem__(0)[1], mnist_test.__len__()"
   ]
  },
  {
   "cell_type": "markdown",
   "metadata": {},
   "source": [
    "### 3) Set DataLoader"
   ]
  },
  {
   "cell_type": "code",
   "execution_count": 6,
   "metadata": {},
   "outputs": [],
   "source": [
    "train_loader = torch.utils.data.DataLoader(mnist_train,batch_size=batch_size, shuffle=True,num_workers=2,drop_last=True)\n",
    "test_loader = torch.utils.data.DataLoader(mnist_test,batch_size=batch_size, shuffle=False,num_workers=2,drop_last=True)"
   ]
  },
  {
   "cell_type": "markdown",
   "metadata": {},
   "source": [
    "## 4. Model & Optimizer\n",
    "\n",
    "### 1) CNN Model"
   ]
  },
  {
   "cell_type": "code",
   "execution_count": 7,
   "metadata": {},
   "outputs": [],
   "source": [
    "class Linear(nn.Module):\n",
    "    def __init__(self):\n",
    "        super(Linear,self).__init__()\n",
    "        self.layer = nn.Sequential(\n",
    "            nn.Linear(784,300),\n",
    "            nn.ReLU(),\n",
    "            nn.Linear(300,100),\n",
    "            nn.ReLU(),\n",
    "            nn.Linear(100,10),\n",
    "            nn.ReLU()\n",
    "        )       \n",
    "        \n",
    "    def forward(self,x):\n",
    "        out = x.view(batch_size,-1)\n",
    "        out = self.layer(out)\n",
    "\n",
    "        return out\n",
    "\n",
    "model = Linear()\n",
    "model = model.to(device)"
   ]
  },
  {
   "cell_type": "markdown",
   "metadata": {},
   "source": [
    "### 2) Loss func & Optimizer"
   ]
  },
  {
   "cell_type": "code",
   "execution_count": 8,
   "metadata": {},
   "outputs": [],
   "source": [
    "loss_func = nn.CrossEntropyLoss()\n",
    "optimizer = torch.optim.SGD(model.parameters(), lr=learning_rate)"
   ]
  },
  {
   "cell_type": "markdown",
   "metadata": {},
   "source": [
    "## 5. Train "
   ]
  },
  {
   "cell_type": "code",
   "execution_count": 9,
   "metadata": {},
   "outputs": [
    {
     "name": "stdout",
     "output_type": "stream",
     "text": [
      "tensor(2.3121, device='cuda:0', grad_fn=<NllLossBackward>)\n",
      "tensor(2.3117, device='cuda:0', grad_fn=<NllLossBackward>)\n",
      "tensor(2.2973, device='cuda:0', grad_fn=<NllLossBackward>)\n",
      "tensor(2.3054, device='cuda:0', grad_fn=<NllLossBackward>)\n",
      "tensor(2.3057, device='cuda:0', grad_fn=<NllLossBackward>)\n",
      "tensor(2.2967, device='cuda:0', grad_fn=<NllLossBackward>)\n",
      "tensor(2.2960, device='cuda:0', grad_fn=<NllLossBackward>)\n",
      "tensor(2.2846, device='cuda:0', grad_fn=<NllLossBackward>)\n",
      "tensor(2.2515, device='cuda:0', grad_fn=<NllLossBackward>)\n",
      "tensor(2.2910, device='cuda:0', grad_fn=<NllLossBackward>)\n",
      "tensor(2.2563, device='cuda:0', grad_fn=<NllLossBackward>)\n",
      "tensor(2.2615, device='cuda:0', grad_fn=<NllLossBackward>)\n",
      "tensor(2.2760, device='cuda:0', grad_fn=<NllLossBackward>)\n",
      "tensor(2.2685, device='cuda:0', grad_fn=<NllLossBackward>)\n",
      "tensor(2.2804, device='cuda:0', grad_fn=<NllLossBackward>)\n",
      "tensor(2.2365, device='cuda:0', grad_fn=<NllLossBackward>)\n",
      "tensor(2.1595, device='cuda:0', grad_fn=<NllLossBackward>)\n",
      "tensor(2.1904, device='cuda:0', grad_fn=<NllLossBackward>)\n",
      "tensor(2.1950, device='cuda:0', grad_fn=<NllLossBackward>)\n",
      "tensor(2.0826, device='cuda:0', grad_fn=<NllLossBackward>)\n",
      "tensor(2.1907, device='cuda:0', grad_fn=<NllLossBackward>)\n",
      "tensor(2.0989, device='cuda:0', grad_fn=<NllLossBackward>)\n",
      "tensor(2.0798, device='cuda:0', grad_fn=<NllLossBackward>)\n",
      "tensor(2.1408, device='cuda:0', grad_fn=<NllLossBackward>)\n",
      "tensor(2.1142, device='cuda:0', grad_fn=<NllLossBackward>)\n",
      "tensor(2.2492, device='cuda:0', grad_fn=<NllLossBackward>)\n",
      "tensor(2.0698, device='cuda:0', grad_fn=<NllLossBackward>)\n",
      "tensor(1.9419, device='cuda:0', grad_fn=<NllLossBackward>)\n",
      "tensor(2.0225, device='cuda:0', grad_fn=<NllLossBackward>)\n",
      "tensor(2.1051, device='cuda:0', grad_fn=<NllLossBackward>)\n",
      "tensor(1.9077, device='cuda:0', grad_fn=<NllLossBackward>)\n",
      "tensor(2.1365, device='cuda:0', grad_fn=<NllLossBackward>)\n",
      "tensor(1.8030, device='cuda:0', grad_fn=<NllLossBackward>)\n",
      "tensor(2.1018, device='cuda:0', grad_fn=<NllLossBackward>)\n",
      "tensor(2.0813, device='cuda:0', grad_fn=<NllLossBackward>)\n",
      "tensor(1.7780, device='cuda:0', grad_fn=<NllLossBackward>)\n",
      "tensor(1.9172, device='cuda:0', grad_fn=<NllLossBackward>)\n",
      "tensor(2.0976, device='cuda:0', grad_fn=<NllLossBackward>)\n",
      "tensor(1.8940, device='cuda:0', grad_fn=<NllLossBackward>)\n",
      "tensor(1.2255, device='cuda:0', grad_fn=<NllLossBackward>)\n"
     ]
    }
   ],
   "source": [
    "for i in range(num_epoch):\n",
    "    for j,[image,label] in enumerate(train_loader):\n",
    "        x = image.to(device)\n",
    "        y_= label.to(device)        \n",
    "\n",
    "        output = model.forward(x)\n",
    "        loss = loss_func(output,y_)\n",
    "        \n",
    "        loss.backward()\n",
    "        optimizer.step()\n",
    "        optimizer.zero_grad()\n",
    "        \n",
    "        if j % 1000 == 0:\n",
    "            print(loss)"
   ]
  },
  {
   "cell_type": "markdown",
   "metadata": {},
   "source": [
    "## 6. Test"
   ]
  },
  {
   "cell_type": "code",
   "execution_count": 10,
   "metadata": {},
   "outputs": [
    {
     "name": "stdout",
     "output_type": "stream",
     "text": [
      "Accuracy of Test Data: 53.07999801635742\n"
     ]
    }
   ],
   "source": [
    "correct = 0\n",
    "total = 0\n",
    "\n",
    "with torch.no_grad(): \n",
    "    for image,label in test_loader:\n",
    "        x = image.to(device)\n",
    "        y_= label.to(device)   \n",
    "\n",
    "        output = model.forward(x)\n",
    "        _,output_index = torch.max(output,1)\n",
    "\n",
    "        total += label.size(0)\n",
    "        correct += (output_index == y_).sum().float()\n",
    "    \n",
    "print(\"Accuracy of Test Data: {}\".format(100*correct/total))"
   ]
  },
  {
   "cell_type": "code",
   "execution_count": null,
   "metadata": {},
   "outputs": [],
   "source": []
  },
  {
   "cell_type": "code",
   "execution_count": null,
   "metadata": {},
   "outputs": [],
   "source": []
  },
  {
   "cell_type": "code",
   "execution_count": null,
   "metadata": {},
   "outputs": [],
   "source": []
  }
 ],
 "metadata": {
  "kernelspec": {
   "display_name": "Python 3",
   "language": "python",
   "name": "python3"
  },
  "language_info": {
   "codemirror_mode": {
    "name": "ipython",
    "version": 3
   },
   "file_extension": ".py",
   "mimetype": "text/x-python",
   "name": "python",
   "nbconvert_exporter": "python",
   "pygments_lexer": "ipython3",
   "version": "3.5.2"
  },
  "toc": {
   "base_numbering": 1,
   "nav_menu": {},
   "number_sections": true,
   "sideBar": true,
   "skip_h1_title": false,
   "title_cell": "Table of Contents",
   "title_sidebar": "Contents",
   "toc_cell": false,
   "toc_position": {},
   "toc_section_display": true,
   "toc_window_display": true
  },
  "varInspector": {
   "cols": {
    "lenName": 16,
    "lenType": 16,
    "lenVar": 40
   },
   "kernels_config": {
    "python": {
     "delete_cmd_postfix": "",
     "delete_cmd_prefix": "del ",
     "library": "var_list.py",
     "varRefreshCmd": "print(var_dic_list())"
    },
    "r": {
     "delete_cmd_postfix": ") ",
     "delete_cmd_prefix": "rm(",
     "library": "var_list.r",
     "varRefreshCmd": "cat(var_dic_list()) "
    }
   },
   "types_to_exclude": [
    "module",
    "function",
    "builtin_function_or_method",
    "instance",
    "_Feature"
   ],
   "window_display": false
  }
 },
 "nbformat": 4,
 "nbformat_minor": 1
}
