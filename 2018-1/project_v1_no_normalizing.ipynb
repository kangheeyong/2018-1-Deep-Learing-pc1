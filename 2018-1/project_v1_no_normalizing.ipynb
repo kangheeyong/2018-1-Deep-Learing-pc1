{
 "cells": [
  {
   "cell_type": "markdown",
   "metadata": {},
   "source": [
    "# no normalizing version\n"
   ]
  },
  {
   "cell_type": "code",
   "execution_count": 1,
   "metadata": {},
   "outputs": [],
   "source": [
    "import numpy as np\n",
    "import pandas as pd\n",
    "import matplotlib.pyplot as plt"
   ]
  },
  {
   "cell_type": "code",
   "execution_count": 2,
   "metadata": {},
   "outputs": [],
   "source": [
    "data = np.genfromtxt('data.txt')\n",
    "\n",
    "np.random.seed(1)\n",
    "np.random.shuffle(data)\n",
    "\n",
    "X = data[:,0:5]\n",
    "Y = data[:,5:15]\n",
    "dfX=pd.DataFrame(X)\n",
    "dfy=pd.DataFrame(Y)\n",
    "\n",
    "table=pd.concat([dfX, dfy], axis=1)\n",
    "table.columns=['SiH4','N2O','Temp','Pressure','RF Power','Thickness','Depo. Rate','Uniformity','Ref. Index','Permittivity','Etch Rate','Stress','H2O','SiOH']"
   ]
  },
  {
   "cell_type": "code",
   "execution_count": 3,
   "metadata": {},
   "outputs": [
    {
     "name": "stdout",
     "output_type": "stream",
     "text": [
      "     SiH4     N2O   Temp  Pressure  RF Power  Thickness  Depo. Rate  \\\n",
      "0   400.0   900.0  250.0      1.10      80.0       5.01       587.0   \n",
      "1   400.0   900.0  200.0      0.50      80.0       5.31       324.0   \n",
      "2   400.0   900.0  150.0      0.50      20.0       4.63       210.0   \n",
      "3   300.0   650.0  300.0      1.03      85.0       4.98       433.0   \n",
      "4   909.0    91.0  375.0      1.80     150.0       4.25      1064.0   \n",
      "5   400.0   400.0  200.0      0.25      20.0       5.29       139.0   \n",
      "6   667.0   333.0  375.0      1.80     150.0       4.49       749.0   \n",
      "7   100.0   200.0  375.0      1.80     150.0       0.79        75.0   \n",
      "8   400.0   900.0  200.0      1.80     150.0       4.99       396.0   \n",
      "9   700.0  1400.0  375.0      1.80     150.0       2.85       813.0   \n",
      "10  400.0   900.0  250.0      0.50     150.0       5.41       491.0   \n",
      "11  400.0   900.0  200.0      1.10      20.0       5.78       375.0   \n",
      "12  300.0   600.0  375.0      1.80     150.0       1.95       301.0   \n",
      "13  550.0  1100.0  375.0      1.80     150.0       1.57       628.0   \n",
      "14  300.0   650.0  300.0      1.03      85.0       4.96       432.0   \n",
      "15  400.0   400.0  400.0      0.25     150.0       6.09       454.0   \n",
      "16  200.0   900.0  400.0      1.80      20.0       4.83       268.0   \n",
      "17  400.0   900.0  400.0      1.80     150.0       5.24       426.0   \n",
      "18  400.0   900.0  150.0      1.10     150.0       5.14       571.0   \n",
      "19  333.0   667.0  375.0      1.80     150.0       1.98       331.0   \n",
      "20  400.0   900.0  150.0      1.80      80.0       5.23       409.0   \n",
      "21  833.0   167.0  375.0      1.80     150.0       4.52      1005.0   \n",
      "22  200.0   900.0  200.0      1.80     150.0       5.12       196.0   \n",
      "23  200.0   400.0  400.0      1.80     150.0       4.86       173.0   \n",
      "24  200.0   900.0  400.0      0.25     150.0       5.39       222.0   \n",
      "25  200.0   400.0  200.0      1.80      20.0       5.69       304.0   \n",
      "26  400.0   900.0  250.0      1.80      20.0       5.44       351.0   \n",
      "27  400.0   400.0  400.0      1.80      20.0       5.10       460.0   \n",
      "28  200.0   400.0  200.0      0.25     150.0       5.52       287.0   \n",
      "29  200.0   400.0  400.0      0.25      20.0       5.76       123.0   \n",
      "30  400.0   900.0  400.0      0.25      20.0       3.36        56.0   \n",
      "31  400.0   900.0  200.0      0.25     150.0       5.68       362.0   \n",
      "32  400.0   400.0  200.0      1.80     150.0       4.80       352.0   \n",
      "33  300.0   650.0  300.0      1.03      85.0       4.92       428.0   \n",
      "34  400.0   900.0  200.0      1.80      20.0       4.36       242.0   \n",
      "35  200.0   900.0  200.0      0.25      20.0       5.75       101.0   \n",
      "\n",
      "    Uniformity  Ref. Index  Permittivity  Etch Rate  Stress   H2O  SiOH  \n",
      "0         2.00       1.460          5.63      690.0  -301.6  3.36  7.08  \n",
      "1         2.26       1.467          6.61    19470.0  -155.0  4.46  4.88  \n",
      "2        65.00       1.459          8.29   151900.0   -10.0  3.16  6.84  \n",
      "3         1.00       1.462          4.34      330.0  -411.9  2.37  4.43  \n",
      "4         0.94       1.480          4.11     1100.0  -288.4  2.34  8.79  \n",
      "5         1.13       1.458          7.15    15820.0  -145.8  6.90  6.37  \n",
      "6         1.34       1.458          4.23     1570.0  -510.3  2.25  8.82  \n",
      "7         1.27       1.465          3.15     1050.0  -252.7  0.11  2.93  \n",
      "8         2.81       1.463          6.26     2370.0  -349.0  3.00  6.06  \n",
      "9         4.56       1.459          4.14     1590.0  -617.5  0.70  5.26  \n",
      "10        5.73       1.468          5.85     2800.0  -145.0  1.24  5.91  \n",
      "11        1.74       1.466          6.17     3420.0   -42.0  2.97  6.28  \n",
      "12        1.54       1.463          4.00     1130.0  -747.4  2.32  1.42  \n",
      "13        1.91       1.459          4.03     1650.0  -655.6  0.67  4.89  \n",
      "14        1.41       1.462          4.33      300.0  -403.7  1.84  4.24  \n",
      "15       15.11       1.471          4.42     1240.0  -345.2  0.95  5.00  \n",
      "16        1.45       1.452          4.30     1130.0  -178.4  1.74  4.77  \n",
      "17        3.24       1.461          4.21      760.0  -371.5  2.02  2.36  \n",
      "18        0.97       1.456          7.19     4440.0   -76.0  3.82  5.07  \n",
      "19        1.52       1.465          3.95     1110.0  -356.0  2.39  1.38  \n",
      "20        2.88       1.454          6.64     6500.0   -16.0  3.95  4.94  \n",
      "21        0.66       1.459          4.28     1410.0  -432.1  2.34  8.79  \n",
      "22        1.37       1.463          4.99     1630.0  -187.6  2.32  4.82  \n",
      "23        2.88       1.465          4.19      540.0  -275.1  1.32  3.07  \n",
      "24       17.63       1.470          4.23      620.0  -309.2  1.22  4.98  \n",
      "25       11.34       1.464          7.71     1400.0   -32.3  1.18  2.98  \n",
      "26        2.59       1.461          5.89     1270.0  -240.9  1.97  3.70  \n",
      "27        6.67       1.459          4.36     1070.0  -121.5  1.79  5.21  \n",
      "28        3.80       1.452          7.64    31130.0  -173.2  4.41  7.53  \n",
      "29        9.40       1.467          5.18     4680.0  -313.8  3.18  4.86  \n",
      "30        2.08       1.467          6.04     6630.0  -231.3  3.26  6.12  \n",
      "31       13.38       1.451          7.60     4390.0  -246.0  5.92  6.59  \n",
      "32        0.42       1.459          4.67     1280.0  -259.1  2.61  8.54  \n",
      "33        1.42       1.461          4.32     1030.0  -407.4  2.10  4.01  \n",
      "34       12.39       1.462          5.63     2650.0  -111.1  1.06  3.03  \n",
      "35        4.52       1.424         10.32    38130.0  -122.8  6.62  7.16  \n"
     ]
    }
   ],
   "source": [
    "print(table)"
   ]
  },
  {
   "cell_type": "code",
   "execution_count": 4,
   "metadata": {},
   "outputs": [],
   "source": [
    "X_train = X[0:30,:]\n",
    "Y_train = Y[0:30,0]\n",
    "X_test = X[30:36,:]\n",
    "Y_test = Y[30:36,0]"
   ]
  },
  {
   "cell_type": "markdown",
   "metadata": {},
   "source": [
    "## Gradient Boosting Regression"
   ]
  },
  {
   "cell_type": "code",
   "execution_count": 5,
   "metadata": {},
   "outputs": [],
   "source": [
    "from sklearn import ensemble\n",
    "from sklearn.metrics import mean_squared_error"
   ]
  },
  {
   "cell_type": "code",
   "execution_count": 6,
   "metadata": {},
   "outputs": [
    {
     "name": "stdout",
     "output_type": "stream",
     "text": [
      "MSE: 1.0846\n"
     ]
    }
   ],
   "source": [
    "params = {'n_estimators': 500, 'max_depth': 6, 'min_samples_split': 4,\n",
    "          'learning_rate': 0.005, 'loss': 'ls'}\n",
    "\n",
    "GBR = ensemble.GradientBoostingRegressor(**params)\n",
    "\n",
    "GBR.fit(X_train, Y_train)\n",
    "mse = mean_squared_error(Y_test, GBR.predict(X_test))\n",
    "print(\"MSE: %.4f\" % mse)\n",
    "\n"
   ]
  },
  {
   "cell_type": "code",
   "execution_count": 7,
   "metadata": {},
   "outputs": [
    {
     "name": "stdout",
     "output_type": "stream",
     "text": [
      "[ 3.36  5.68  4.8   4.92  4.36  5.75]\n",
      "[ 5.59021115  5.32351961  5.34892729  4.95046393  5.3669432   5.44935533]\n"
     ]
    }
   ],
   "source": [
    "print(Y_test)\n",
    "print(GBR.predict(X_test))"
   ]
  },
  {
   "cell_type": "markdown",
   "metadata": {},
   "source": [
    "## Support Vecter Regression\n",
    "\n",
    "### rbf kernel?\n"
   ]
  },
  {
   "cell_type": "code",
   "execution_count": 8,
   "metadata": {},
   "outputs": [],
   "source": [
    "import numpy as np\n",
    "from sklearn.svm import SVR"
   ]
  },
  {
   "cell_type": "code",
   "execution_count": 9,
   "metadata": {},
   "outputs": [
    {
     "name": "stdout",
     "output_type": "stream",
     "text": [
      "MSE: 0.8785\n"
     ]
    }
   ],
   "source": [
    "svr_rbf = SVR(kernel='rbf', C=1e3, gamma=0.1)\n",
    "\n",
    "svr_rbf.fit(X_train, Y_train)\n",
    "mse = mean_squared_error(Y_test, svr_rbf.predict(X_test))\n",
    "print(\"MSE: %.4f\" % mse)"
   ]
  },
  {
   "cell_type": "code",
   "execution_count": 10,
   "metadata": {},
   "outputs": [
    {
     "name": "stdout",
     "output_type": "stream",
     "text": [
      "[ 3.36  5.68  4.8   4.92  4.36  5.75]\n",
      "[ 4.545       4.81631877  4.545       4.8796875   5.62572558  4.545     ]\n"
     ]
    }
   ],
   "source": [
    "print(Y_test)\n",
    "print(svr_rbf.predict(X_test))"
   ]
  },
  {
   "cell_type": "markdown",
   "metadata": {},
   "source": [
    "### no kernel?\n"
   ]
  },
  {
   "cell_type": "code",
   "execution_count": 11,
   "metadata": {},
   "outputs": [
    {
     "name": "stdout",
     "output_type": "stream",
     "text": [
      "MSE: 6022.5005\n"
     ]
    }
   ],
   "source": [
    "svr_lin = SVR(kernel='linear', C=1e3)\n",
    "\n",
    "svr_lin.fit(X_train, Y_train)\n",
    "mse = mean_squared_error(Y_test, svr_lin.predict(X_test))\n",
    "print(\"MSE: %.4f\" % mse)\n"
   ]
  },
  {
   "cell_type": "code",
   "execution_count": 12,
   "metadata": {},
   "outputs": [
    {
     "name": "stdout",
     "output_type": "stream",
     "text": [
      "[ 3.36  5.68  4.8   4.92  4.36  5.75]\n",
      "[ -50.27740678  -27.4037877   -61.26986226  -44.70336064 -153.90873607\n",
      "  -11.1850799 ]\n"
     ]
    }
   ],
   "source": [
    "print(Y_test)\n",
    "print(svr_lin.predict(X_test))"
   ]
  },
  {
   "cell_type": "markdown",
   "metadata": {},
   "source": [
    "## Decision Tree Regression\n",
    "### basic"
   ]
  },
  {
   "cell_type": "code",
   "execution_count": 13,
   "metadata": {},
   "outputs": [],
   "source": [
    "import numpy as np\n",
    "from sklearn.tree import DecisionTreeRegressor"
   ]
  },
  {
   "cell_type": "code",
   "execution_count": 14,
   "metadata": {},
   "outputs": [
    {
     "name": "stdout",
     "output_type": "stream",
     "text": [
      "MSE: 1.2366\n"
     ]
    }
   ],
   "source": [
    "regr_1 = DecisionTreeRegressor(max_depth=4)\n",
    "\n",
    "regr_1.fit(X_train, Y_train)\n",
    "mse = mean_squared_error(Y_test, regr_1.predict(X_test))\n",
    "print(\"MSE: %.4f\" % mse)\n",
    "\n"
   ]
  },
  {
   "cell_type": "code",
   "execution_count": 15,
   "metadata": {},
   "outputs": [
    {
     "name": "stdout",
     "output_type": "stream",
     "text": [
      "[ 3.36  5.68  4.8   4.92  4.36  5.75]\n",
      "[ 5.74666667  5.203       5.294       5.203       5.294       5.203     ]\n"
     ]
    }
   ],
   "source": [
    "print(Y_test)\n",
    "print(regr_1.predict(X_test))"
   ]
  },
  {
   "cell_type": "markdown",
   "metadata": {},
   "source": [
    "### with AdaBoost"
   ]
  },
  {
   "cell_type": "code",
   "execution_count": 16,
   "metadata": {},
   "outputs": [],
   "source": [
    "import numpy as np\n",
    "from sklearn.tree import DecisionTreeRegressor\n",
    "from sklearn.ensemble import AdaBoostRegressor"
   ]
  },
  {
   "cell_type": "code",
   "execution_count": 17,
   "metadata": {},
   "outputs": [
    {
     "name": "stdout",
     "output_type": "stream",
     "text": [
      "MSE: 0.8787\n"
     ]
    }
   ],
   "source": [
    "rng = np.random.RandomState(1)\n",
    "\n",
    "\n",
    "regr_2 = AdaBoostRegressor(DecisionTreeRegressor(max_depth=4),\n",
    "                           n_estimators=300, random_state=rng)\n",
    "regr_2.fit(X_train, Y_train)\n",
    "mse = mean_squared_error(Y_test, regr_2.predict(X_test))\n",
    "print(\"MSE: %.4f\" % mse)\n",
    "\n",
    "\n"
   ]
  },
  {
   "cell_type": "code",
   "execution_count": 18,
   "metadata": {},
   "outputs": [
    {
     "name": "stdout",
     "output_type": "stream",
     "text": [
      "[ 3.36  5.68  4.8   4.92  4.36  5.75]\n",
      "[ 5.39416667  5.16416667  4.99        4.97        5.152       5.3       ]\n"
     ]
    }
   ],
   "source": [
    "print(Y_test)\n",
    "print(regr_2.predict(X_test))"
   ]
  },
  {
   "cell_type": "code",
   "execution_count": null,
   "metadata": {},
   "outputs": [],
   "source": []
  },
  {
   "cell_type": "code",
   "execution_count": null,
   "metadata": {},
   "outputs": [],
   "source": []
  },
  {
   "cell_type": "code",
   "execution_count": null,
   "metadata": {},
   "outputs": [],
   "source": []
  }
 ],
 "metadata": {
  "kernelspec": {
   "display_name": "Python 3",
   "language": "python",
   "name": "python3"
  },
  "language_info": {
   "codemirror_mode": {
    "name": "ipython",
    "version": 3
   },
   "file_extension": ".py",
   "mimetype": "text/x-python",
   "name": "python",
   "nbconvert_exporter": "python",
   "pygments_lexer": "ipython3",
   "version": "3.5.2"
  }
 },
 "nbformat": 4,
 "nbformat_minor": 2
}
