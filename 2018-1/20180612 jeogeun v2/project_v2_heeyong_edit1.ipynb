{
 "cells": [
  {
   "cell_type": "markdown",
   "metadata": {},
   "source": [
    "# no normalizing version\n"
   ]
  },
  {
   "cell_type": "code",
   "execution_count": 1,
   "metadata": {},
   "outputs": [],
   "source": [
    "import numpy as np\n",
    "import pandas as pd\n",
    "import matplotlib.pyplot as plt"
   ]
  },
  {
   "cell_type": "code",
   "execution_count": 2,
   "metadata": {},
   "outputs": [],
   "source": [
    "data = np.genfromtxt('data_outlier little.txt')\n",
    "\n",
    "np.random.seed(4)\n",
    "np.random.shuffle(data)\n",
    "\n",
    "X = data[:,0:6]\n",
    "Y = data[:,6:16]\n",
    "dfX=pd.DataFrame(X)\n",
    "dfy=pd.DataFrame(Y)\n",
    "\n",
    "table=pd.concat([dfX, dfy], axis=1)\n",
    "table.columns=['SiH4','N2O','Temp','Pressure','RF Power','Time','Thickness','Depo. Rate','Uniformity','Ref. Index','Permittivity','Etch Rate','Stress','H2O','SiOH']"
   ]
  },
  {
   "cell_type": "code",
   "execution_count": 3,
   "metadata": {},
   "outputs": [
    {
     "name": "stdout",
     "output_type": "stream",
     "text": [
      "     SiH4    N2O   Temp  Pressure  RF Power   Time  Thickness  Depo. Rate  \\\n",
      "0   667.0  333.0  375.0      1.80     150.0   60.0       4.49       749.0   \n",
      "1   200.0  400.0  200.0      0.25     150.0  192.0       5.52       287.0   \n",
      "2   400.0  400.0  200.0      1.80     150.0  136.0       4.80       352.0   \n",
      "3   400.0  900.0  200.0      1.10      20.0  154.0       5.78       375.0   \n",
      "4   400.0  900.0  150.0      1.80      80.0  128.0       5.23       409.0   \n",
      "5   400.0  400.0  200.0      0.25      20.0  381.0       5.29       139.0   \n",
      "6   400.0  900.0  250.0      1.10      80.0   85.0       5.01       587.0   \n",
      "7   333.0  667.0  375.0      1.80     150.0   60.0       1.98       331.0   \n",
      "8   200.0  400.0  400.0      0.25      20.0  468.0       5.76       123.0   \n",
      "9   300.0  650.0  300.0      1.03      85.0  115.0       4.98       433.0   \n",
      "10  400.0  900.0  400.0      0.25      20.0  600.0       3.36        56.0   \n",
      "11  400.0  900.0  400.0      1.80     150.0  123.0       5.24       426.0   \n",
      "12  200.0  400.0  400.0      1.80     150.0  281.0       4.86       173.0   \n",
      "13  200.0  900.0  200.0      0.25      20.0  569.0       5.75       101.0   \n",
      "14  400.0  400.0  400.0      0.25     150.0  134.0       6.09       454.0   \n",
      "15  300.0  650.0  300.0      1.03      85.0  115.0       4.96       432.0   \n",
      "16  100.0  200.0  375.0      1.80     150.0  105.0       0.79        75.0   \n",
      "17  200.0  900.0  400.0      0.25     150.0  243.0       5.39       222.0   \n",
      "18  200.0  400.0  200.0      1.80      20.0  187.0       5.69       304.0   \n",
      "19  300.0  650.0  300.0      1.03      85.0  115.0       4.92       428.0   \n",
      "20  200.0  900.0  200.0      1.80     150.0  261.0       5.12       196.0   \n",
      "21  300.0  600.0  375.0      1.80     150.0   65.0       1.95       301.0   \n",
      "22  400.0  900.0  200.0      1.80      20.0  180.0       4.36       242.0   \n",
      "23  400.0  400.0  400.0      1.80      20.0  111.0       5.10       460.0   \n",
      "24  400.0  900.0  200.0      0.25     150.0  157.0       5.68       362.0   \n",
      "25  400.0  900.0  200.0      1.80     150.0  126.0       4.99       396.0   \n",
      "26  200.0  900.0  400.0      1.80      20.0  180.0       4.83       268.0   \n",
      "27  400.0  900.0  150.0      1.10     150.0   90.0       5.14       571.0   \n",
      "\n",
      "    Uniformity  Ref. Index  Permittivity  Etch Rate  Stress   H2O  SiOH  \n",
      "0         1.34       1.458          4.23     1570.0  -510.3  2.25  8.82  \n",
      "1         3.80       1.452          7.64    31130.0  -173.2  4.41  7.53  \n",
      "2         0.42       1.459          4.67     1280.0  -259.1  2.61  8.54  \n",
      "3         1.74       1.466          6.17     3420.0   -42.0  2.97  6.28  \n",
      "4         2.88       1.454          6.64     6500.0   -16.0  3.95  4.94  \n",
      "5         1.13       1.458          7.15    15820.0  -145.8  6.90  6.37  \n",
      "6         2.00       1.460          5.63      690.0  -301.6  3.36  7.08  \n",
      "7         1.52       1.465          3.95     1110.0  -356.0  2.39  1.38  \n",
      "8         9.40       1.467          5.18     4680.0  -313.8  3.18  4.86  \n",
      "9         1.00       1.462          4.34      330.0  -411.9  2.37  4.43  \n",
      "10        2.08       1.467          6.04     6630.0  -231.3  3.26  6.12  \n",
      "11        3.24       1.461          4.21      760.0  -371.5  2.02  2.36  \n",
      "12        2.88       1.465          4.19      540.0  -275.1  1.32  3.07  \n",
      "13        4.52       1.424         10.32    38130.0  -122.8  6.62  7.16  \n",
      "14       15.11       1.471          4.42     1240.0  -345.2  0.95  5.00  \n",
      "15        1.41       1.462          4.33      300.0  -403.7  1.84  4.24  \n",
      "16        1.27       1.465          3.15     1050.0  -252.7  0.11  2.93  \n",
      "17       17.63       1.470          4.23      620.0  -309.2  1.22  4.98  \n",
      "18       11.34       1.464          7.71     1400.0   -32.3  1.18  2.98  \n",
      "19        1.42       1.461          4.32     1030.0  -407.4  2.10  4.01  \n",
      "20        1.37       1.463          4.99     1630.0  -187.6  2.32  4.82  \n",
      "21        1.54       1.463          4.00     1130.0  -747.4  2.32  1.42  \n",
      "22       12.39       1.462          5.63     2650.0  -111.1  1.06  3.03  \n",
      "23        6.67       1.459          4.36     1070.0  -121.5  1.79  5.21  \n",
      "24       13.38       1.451          7.60     4390.0  -246.0  5.92  6.59  \n",
      "25        2.81       1.463          6.26     2370.0  -349.0  3.00  6.06  \n",
      "26        1.45       1.452          4.30     1130.0  -178.4  1.74  4.77  \n",
      "27        0.97       1.456          7.19     4440.0   -76.0  3.82  5.07  \n"
     ]
    }
   ],
   "source": [
    "print(table)"
   ]
  },
  {
   "cell_type": "code",
   "execution_count": 4,
   "metadata": {},
   "outputs": [],
   "source": [
    "from sklearn.metrics import mean_squared_error\n",
    "\n",
    "\n",
    "\n",
    "\n",
    "def test_1(func, x, y, k) :\n",
    "    \n",
    "    L = x.shape[0]\n",
    "       \n",
    "    if k >= L :\n",
    "        print('error\\n')\n",
    "        return -1\n",
    "    \n",
    "    d = int(L/k)\n",
    "      \n",
    "    mse = 0.0\n",
    "    \n",
    "    for i in range(0,d) :\n",
    "        \n",
    "        x_test = x[i*k:(i+1)*k]\n",
    "        y_test = y[i*k:(i+1)*k]\n",
    "        \n",
    "        x_train = np.concatenate([x[0 : i*k], x[(i+1)*k : L]], axis=0)\n",
    "        y_train = np.concatenate([y[0 : i*k], y[(i+1)*k : L]], axis=0)\n",
    "        \n",
    "        func.fit(x_train, y_train)\n",
    "        print(\"%d MSE : %f\" %(i+1,mean_squared_error(y_test, func.predict(x_test))))\n",
    "        mse = mse + mean_squared_error(y_test, func.predict(x_test))\n",
    "        \n",
    "    x_test = x[d*k:L]\n",
    "    y_test = y[d*k:L]\n",
    "    x_train = x[0:d*k]\n",
    "    y_train = y[0:d*k]\n",
    "    \n",
    "    func.fit(x_train, y_train)\n",
    "    print(\"%d MSE : %f\"%(d+1, mean_squared_error(y_test, func.predict(x_test))))\n",
    "    mse = mse + mean_squared_error(y_test, func.predict(x_test))\n",
    "    \n",
    "    return mse/(d+1)\n",
    "\n",
    "def test_2(func, x, y) :\n",
    "    \n",
    "    L = x.shape[0]\n",
    "      \n",
    "    x_test = x[0:L - 5]\n",
    "    y_test = y[0:L - 5]\n",
    "    x_train = x[L-5:L]\n",
    "    y_train = y[L-5:L]\n",
    "    \n",
    "    func.fit(x_train, y_train)\n",
    "    print(\"MSE : %f\"%( mean_squared_error(y_test, func.predict(x_test))))\n",
    "    mse = mean_squared_error(y_test, func.predict(x_test))\n",
    "    \n",
    "    return mse\n",
    "\n",
    "\n",
    "\n",
    "X_train = X[0:28,:]\n",
    "Y_train = Y[0:28,0]\n",
    "X_test = X[23:28,:]\n",
    "Y_test = Y[23:28,0]"
   ]
  },
  {
   "cell_type": "markdown",
   "metadata": {},
   "source": [
    "## Linear_regression"
   ]
  },
  {
   "cell_type": "markdown",
   "metadata": {},
   "source": [
    "### Multivariate regression  "
   ]
  },
  {
   "cell_type": "code",
   "execution_count": 5,
   "metadata": {},
   "outputs": [
    {
     "name": "stdout",
     "output_type": "stream",
     "text": [
      "1 MSE : 0.290170\n",
      "2 MSE : 1.298704\n",
      "3 MSE : 4.962395\n",
      "4 MSE : 2.929756\n",
      "5 MSE : 1.189320\n",
      "6 MSE : 0.470049\n",
      "MSE: 1.8567\n"
     ]
    }
   ],
   "source": [
    "from sklearn import linear_model\n",
    "\n",
    "MulReg=linear_model.LinearRegression()\n",
    "\n",
    "mse = test_1(MulReg, X_train, Y_train, k = 5)\n",
    "\n",
    "\n",
    "print(\"MSE: %.4f\" % mse)"
   ]
  },
  {
   "cell_type": "markdown",
   "metadata": {},
   "source": [
    "### Ridge Regression (Linear least squares with l2 regularization)"
   ]
  },
  {
   "cell_type": "code",
   "execution_count": 6,
   "metadata": {},
   "outputs": [
    {
     "name": "stdout",
     "output_type": "stream",
     "text": [
      "1 MSE : 0.262777\n",
      "2 MSE : 1.308143\n",
      "3 MSE : 5.012404\n",
      "4 MSE : 2.953351\n",
      "5 MSE : 1.186880\n",
      "6 MSE : 0.452393\n",
      "MSE: 1.8627\n"
     ]
    }
   ],
   "source": [
    "ridge = linear_model.Ridge(alpha=0.35)\n",
    "\n",
    "mse = test_1(ridge, X_train, Y_train, k = 5)\n",
    "\n",
    "print(\"MSE: %.4f\" % mse)"
   ]
  },
  {
   "cell_type": "markdown",
   "metadata": {},
   "source": [
    "### Lasso Regression (Linear least squares with l1 regularization)"
   ]
  },
  {
   "cell_type": "code",
   "execution_count": 7,
   "metadata": {},
   "outputs": [
    {
     "name": "stdout",
     "output_type": "stream",
     "text": [
      "1 MSE : 0.250662\n",
      "2 MSE : 1.643366\n",
      "3 MSE : 6.107704\n",
      "4 MSE : 3.523310\n",
      "5 MSE : 1.404637\n",
      "6 MSE : 0.193052\n",
      "MSE: 2.1871\n"
     ]
    }
   ],
   "source": [
    "lasso = linear_model.Lasso(alpha=0.35)\n",
    "\n",
    "\n",
    "mse = test_1(lasso, X_train, Y_train, k = 5)\n",
    "\n",
    "\n",
    "print(\"MSE: %.4f\" % mse)"
   ]
  },
  {
   "cell_type": "markdown",
   "metadata": {},
   "source": [
    "# Support Vecter Regression\n",
    "\n"
   ]
  },
  {
   "cell_type": "markdown",
   "metadata": {},
   "source": [
    "### *가장 낮은 MSE값을 가지는 C와 kernel을 선택"
   ]
  },
  {
   "cell_type": "code",
   "execution_count": 8,
   "metadata": {},
   "outputs": [],
   "source": [
    "import numpy as np\n",
    "from sklearn.svm import SVR"
   ]
  },
  {
   "cell_type": "code",
   "execution_count": 9,
   "metadata": {},
   "outputs": [
    {
     "name": "stdout",
     "output_type": "stream",
     "text": [
      "MSE : 26.328351\n",
      "kernel: linear \n",
      " C: 0.01 \n",
      " MSE:  26.3283509554 \n",
      " epsilon: 0.001 \n",
      " -------------------------\n",
      "MSE : 24.650832\n",
      "kernel: linear \n",
      " C: 0.01 \n",
      " MSE:  24.6508324227 \n",
      " epsilon: 0.01 \n",
      " -------------------------\n",
      "MSE : 11.240441\n",
      "kernel: linear \n",
      " C: 0.01 \n",
      " MSE:  11.2404413699 \n",
      " epsilon: 0.1 \n",
      " -------------------------\n",
      "MSE : 1.973243\n",
      "kernel: rbf \n",
      " C: 0.01 \n",
      " MSE:  1.97324347826 \n",
      " epsilon: 0.001 \n",
      " -------------------------\n",
      "MSE : 1.973243\n",
      "kernel: rbf \n",
      " C: 0.01 \n",
      " MSE:  1.97324347826 \n",
      " epsilon: 0.01 \n",
      " -------------------------\n",
      "MSE : 1.944095\n",
      "kernel: rbf \n",
      " C: 0.01 \n",
      " MSE:  1.94409456522 \n",
      " epsilon: 0.1 \n",
      " -------------------------\n",
      "MSE : 1.973243\n",
      "kernel: sigmoid \n",
      " C: 0.01 \n",
      " MSE:  1.97324347826 \n",
      " epsilon: 0.001 \n",
      " -------------------------\n",
      "MSE : 1.973243\n",
      "kernel: sigmoid \n",
      " C: 0.01 \n",
      " MSE:  1.97324347826 \n",
      " epsilon: 0.01 \n",
      " -------------------------\n",
      "MSE : 1.944095\n",
      "kernel: sigmoid \n",
      " C: 0.01 \n",
      " MSE:  1.94409456522 \n",
      " epsilon: 0.1 \n",
      " -------------------------\n",
      "MSE : 26.328351\n",
      "kernel: linear \n",
      " C: 0.1 \n",
      " MSE:  26.3283509554 \n",
      " epsilon: 0.001 \n",
      " -------------------------\n",
      "MSE : 24.650832\n",
      "kernel: linear \n",
      " C: 0.1 \n",
      " MSE:  24.6508324227 \n",
      " epsilon: 0.01 \n",
      " -------------------------\n",
      "MSE : 11.240441\n",
      "kernel: linear \n",
      " C: 0.1 \n",
      " MSE:  11.2404413699 \n",
      " epsilon: 0.1 \n",
      " -------------------------\n",
      "MSE : 1.953265\n",
      "kernel: rbf \n",
      " C: 0.1 \n",
      " MSE:  1.95326503865 \n",
      " epsilon: 0.001 \n",
      " -------------------------\n",
      "MSE : 1.950813\n",
      "kernel: rbf \n",
      " C: 0.1 \n",
      " MSE:  1.95081256039 \n",
      " epsilon: 0.01 \n",
      " -------------------------\n",
      "MSE : 1.944095\n",
      "kernel: rbf \n",
      " C: 0.1 \n",
      " MSE:  1.94409456522 \n",
      " epsilon: 0.1 \n",
      " -------------------------\n",
      "MSE : 1.973243\n",
      "kernel: sigmoid \n",
      " C: 0.1 \n",
      " MSE:  1.97324347826 \n",
      " epsilon: 0.001 \n",
      " -------------------------\n",
      "MSE : 1.973243\n",
      "kernel: sigmoid \n",
      " C: 0.1 \n",
      " MSE:  1.97324347826 \n",
      " epsilon: 0.01 \n",
      " -------------------------\n",
      "MSE : 1.944095\n",
      "kernel: sigmoid \n",
      " C: 0.1 \n",
      " MSE:  1.94409456522 \n",
      " epsilon: 0.1 \n",
      " -------------------------\n",
      "MSE : 26.328351\n",
      "kernel: linear \n",
      " C: 1 \n",
      " MSE:  26.3283509554 \n",
      " epsilon: 0.001 \n",
      " -------------------------\n",
      "MSE : 24.650832\n",
      "kernel: linear \n",
      " C: 1 \n",
      " MSE:  24.6508324227 \n",
      " epsilon: 0.01 \n",
      " -------------------------\n",
      "MSE : 11.240441\n",
      "kernel: linear \n",
      " C: 1 \n",
      " MSE:  11.2404413699 \n",
      " epsilon: 0.1 \n",
      " -------------------------\n",
      "MSE : 2.017782\n",
      "kernel: rbf \n",
      " C: 1 \n",
      " MSE:  2.01778178609 \n",
      " epsilon: 0.001 \n",
      " -------------------------\n",
      "MSE : 2.023022\n",
      "kernel: rbf \n",
      " C: 1 \n",
      " MSE:  2.02302208696 \n",
      " epsilon: 0.01 \n",
      " -------------------------\n",
      "MSE : 2.070026\n",
      "kernel: rbf \n",
      " C: 1 \n",
      " MSE:  2.07002608696 \n",
      " epsilon: 0.1 \n",
      " -------------------------\n",
      "MSE : 1.973243\n",
      "kernel: sigmoid \n",
      " C: 1 \n",
      " MSE:  1.97324347826 \n",
      " epsilon: 0.001 \n",
      " -------------------------\n",
      "MSE : 1.973243\n",
      "kernel: sigmoid \n",
      " C: 1 \n",
      " MSE:  1.97324347826 \n",
      " epsilon: 0.01 \n",
      " -------------------------\n",
      "MSE : 1.944095\n",
      "kernel: sigmoid \n",
      " C: 1 \n",
      " MSE:  1.94409456522 \n",
      " epsilon: 0.1 \n",
      " -------------------------\n",
      "MSE : 26.328351\n",
      "kernel: linear \n",
      " C: 10 \n",
      " MSE:  26.3283509554 \n",
      " epsilon: 0.001 \n",
      " -------------------------\n",
      "MSE : 24.650832\n",
      "kernel: linear \n",
      " C: 10 \n",
      " MSE:  24.6508324227 \n",
      " epsilon: 0.01 \n",
      " -------------------------\n",
      "MSE : 11.240441\n",
      "kernel: linear \n",
      " C: 10 \n",
      " MSE:  11.2404413699 \n",
      " epsilon: 0.1 \n",
      " -------------------------\n",
      "MSE : 2.017782\n",
      "kernel: rbf \n",
      " C: 10 \n",
      " MSE:  2.01778178609 \n",
      " epsilon: 0.001 \n",
      " -------------------------\n",
      "MSE : 2.023022\n",
      "kernel: rbf \n",
      " C: 10 \n",
      " MSE:  2.02302208696 \n",
      " epsilon: 0.01 \n",
      " -------------------------\n",
      "MSE : 2.070026\n",
      "kernel: rbf \n",
      " C: 10 \n",
      " MSE:  2.07002608696 \n",
      " epsilon: 0.1 \n",
      " -------------------------\n",
      "MSE : 1.973243\n",
      "kernel: sigmoid \n",
      " C: 10 \n",
      " MSE:  1.97324347826 \n",
      " epsilon: 0.001 \n",
      " -------------------------\n",
      "MSE : 1.973243\n",
      "kernel: sigmoid \n",
      " C: 10 \n",
      " MSE:  1.97324347826 \n",
      " epsilon: 0.01 \n",
      " -------------------------\n",
      "MSE : 1.944095\n",
      "kernel: sigmoid \n",
      " C: 10 \n",
      " MSE:  1.94409456522 \n",
      " epsilon: 0.1 \n",
      " -------------------------\n",
      "MSE : 26.328351\n",
      "kernel: linear \n",
      " C: 100 \n",
      " MSE:  26.3283509554 \n",
      " epsilon: 0.001 \n",
      " -------------------------\n",
      "MSE : 24.650832\n",
      "kernel: linear \n",
      " C: 100 \n",
      " MSE:  24.6508324227 \n",
      " epsilon: 0.01 \n",
      " -------------------------\n",
      "MSE : 11.240441\n",
      "kernel: linear \n",
      " C: 100 \n",
      " MSE:  11.2404413699 \n",
      " epsilon: 0.1 \n",
      " -------------------------\n",
      "MSE : 2.017782\n",
      "kernel: rbf \n",
      " C: 100 \n",
      " MSE:  2.01778178609 \n",
      " epsilon: 0.001 \n",
      " -------------------------\n",
      "MSE : 2.023022\n",
      "kernel: rbf \n",
      " C: 100 \n",
      " MSE:  2.02302208696 \n",
      " epsilon: 0.01 \n",
      " -------------------------\n",
      "MSE : 2.070026\n",
      "kernel: rbf \n",
      " C: 100 \n",
      " MSE:  2.07002608696 \n",
      " epsilon: 0.1 \n",
      " -------------------------\n",
      "MSE : 1.973243\n",
      "kernel: sigmoid \n",
      " C: 100 \n",
      " MSE:  1.97324347826 \n",
      " epsilon: 0.001 \n",
      " -------------------------\n",
      "MSE : 1.973243\n",
      "kernel: sigmoid \n",
      " C: 100 \n",
      " MSE:  1.97324347826 \n",
      " epsilon: 0.01 \n",
      " -------------------------\n",
      "MSE : 1.944095\n",
      "kernel: sigmoid \n",
      " C: 100 \n",
      " MSE:  1.94409456522 \n",
      " epsilon: 0.1 \n",
      " -------------------------\n"
     ]
    }
   ],
   "source": [
    "for c in [0.01,0.1,1,10,100]:\n",
    "    for i in [\"linear\",\"rbf\",\"sigmoid\"]:\n",
    "        for e in [0.001,0.01,0.1]:\n",
    "            svr_ck = SVR(kernel=i, C=c, epsilon=e)\n",
    "            \n",
    "            mse = test_2(svr_ck, X_train, Y_train)\n",
    "            \n",
    "            print(\"kernel:\",i,\"\\n\",\"C:\",c,\"\\n\",\"MSE: \",mse,\"\\n\",\"epsilon:\",e,\"\\n\" ,\"-\"*25)"
   ]
  },
  {
   "cell_type": "markdown",
   "metadata": {},
   "source": [
    "### rbf kernel?"
   ]
  },
  {
   "cell_type": "code",
   "execution_count": 10,
   "metadata": {},
   "outputs": [],
   "source": [
    "import numpy as np\n",
    "from sklearn.svm import SVR"
   ]
  },
  {
   "cell_type": "code",
   "execution_count": 11,
   "metadata": {},
   "outputs": [
    {
     "name": "stdout",
     "output_type": "stream",
     "text": [
      "1 MSE : 0.556085\n",
      "2 MSE : 1.804135\n",
      "3 MSE : 1.103668\n",
      "4 MSE : 3.436613\n",
      "5 MSE : 1.822956\n",
      "6 MSE : 0.124444\n",
      "MSE: 1.4747\n"
     ]
    }
   ],
   "source": [
    "svr_rbf = SVR(kernel='rbf', C=1e3, gamma=0.1)\n",
    "\n",
    "mse = test_1(svr_rbf, X_train, Y_train, k = 5)\n",
    "\n",
    "\n",
    "print(\"MSE: %.4f\" % mse)"
   ]
  },
  {
   "cell_type": "markdown",
   "metadata": {},
   "source": [
    "### poly kernel "
   ]
  },
  {
   "cell_type": "code",
   "execution_count": 12,
   "metadata": {},
   "outputs": [
    {
     "name": "stdout",
     "output_type": "stream",
     "text": [
      "1 MSE : 5.839939\n",
      "2 MSE : 22.963423\n",
      "3 MSE : 514.991517\n",
      "4 MSE : 4.197565\n",
      "5 MSE : 4.045382\n",
      "6 MSE : 1273.238522\n",
      "MSE: 304.2127\n"
     ]
    }
   ],
   "source": [
    "svr_poly = SVR(kernel='poly', C=1e3, gamma=0.1)\n",
    "\n",
    "mse = test_1(svr_poly, X_train, Y_train, k = 5)\n",
    "\n",
    "print(\"MSE: %.4f\" % mse)"
   ]
  },
  {
   "cell_type": "markdown",
   "metadata": {},
   "source": [
    "### sigmoid kernel"
   ]
  },
  {
   "cell_type": "code",
   "execution_count": 13,
   "metadata": {},
   "outputs": [
    {
     "name": "stdout",
     "output_type": "stream",
     "text": [
      "1 MSE : 0.232460\n",
      "2 MSE : 1.998620\n",
      "3 MSE : 0.899980\n",
      "4 MSE : 3.789785\n",
      "5 MSE : 2.141865\n",
      "6 MSE : 0.027758\n",
      "MSE: 1.5151\n"
     ]
    }
   ],
   "source": [
    "svr_sigmoid = SVR(kernel='sigmoid', C=1e3, gamma=0.1)\n",
    "\n",
    "mse = test_1(svr_sigmoid, X_train, Y_train, k = 5)\n",
    "\n",
    "\n",
    "print(\"MSE: %.4f\" % mse)"
   ]
  },
  {
   "cell_type": "markdown",
   "metadata": {},
   "source": [
    "### no kernel?\n"
   ]
  },
  {
   "cell_type": "code",
   "execution_count": 14,
   "metadata": {},
   "outputs": [],
   "source": [
    "#svr_lin = SVR(kernel='linear', C=1e2)\n",
    "\n",
    "\n",
    "#mse = test_1(svr_lin, X_train, Y_train, k = 5)\n",
    "\n",
    "\n",
    "#print(\"MSE: %.4f\" % mse)"
   ]
  },
  {
   "cell_type": "markdown",
   "metadata": {},
   "source": [
    "## Kernel Ridge Regression "
   ]
  },
  {
   "cell_type": "code",
   "execution_count": 15,
   "metadata": {},
   "outputs": [
    {
     "name": "stdout",
     "output_type": "stream",
     "text": [
      "1 MSE : 1.646522\n",
      "2 MSE : 2.718810\n",
      "3 MSE : 10.576098\n",
      "4 MSE : 2.757926\n",
      "5 MSE : 1.495921\n",
      "6 MSE : 0.365276\n",
      "MSE(linear): 3.2601\n",
      "\n",
      "1 MSE : 26.886360\n",
      "2 MSE : 18.605409\n",
      "3 MSE : 26.503480\n",
      "4 MSE : 14.811620\n",
      "5 MSE : 21.459780\n",
      "6 MSE : 24.882867\n",
      "MSE(rbf): 22.1916\n",
      "\n",
      "1 MSE : 801.923198\n",
      "2 MSE : 650.386272\n",
      "3 MSE : 1127.292203\n",
      "4 MSE : 22.096702\n",
      "5 MSE : 544.339629\n",
      "6 MSE : 1616.837630\n",
      "MSE(poly): 793.8126\n",
      "\n"
     ]
    },
    {
     "name": "stderr",
     "output_type": "stream",
     "text": [
      "/usr/local/lib/python3.5/dist-packages/scipy/linalg/basic.py:40: RuntimeWarning: scipy.linalg.solve\n",
      "Ill-conditioned matrix detected. Result is not guaranteed to be accurate.\n",
      "Reciprocal condition number/precision: 3.0254546782813985e-17 / 1.1102230246251565e-16\n",
      "  RuntimeWarning)\n"
     ]
    }
   ],
   "source": [
    "from sklearn.kernel_ridge import KernelRidge\n",
    "\n",
    "kr_linear = KernelRidge(kernel='linear', gamma=0.1)\n",
    "kr_rbf = KernelRidge(kernel='rbf', gamma=0.1)\n",
    "kr_poly = KernelRidge(kernel='poly', gamma=0.1)\n",
    "\n",
    "\n",
    "\n",
    "\n",
    "mse = test_1(kr_linear, X_train, Y_train, k = 5)\n",
    "print(\"MSE(linear): %.4f\\n\" % mse)\n",
    "mse = test_1(kr_rbf, X_train, Y_train, k = 5)\n",
    "print(\"MSE(rbf): %.4f\\n\" % mse)\n",
    "mse = test_1(kr_poly, X_train, Y_train, k = 5)\n",
    "print(\"MSE(poly): %.4f\\n\" % mse)"
   ]
  },
  {
   "cell_type": "markdown",
   "metadata": {},
   "source": [
    "## Decision Tree Regression\n",
    "### basic"
   ]
  },
  {
   "cell_type": "code",
   "execution_count": 16,
   "metadata": {},
   "outputs": [],
   "source": [
    "import numpy as np\n",
    "from sklearn.tree import DecisionTreeRegressor"
   ]
  },
  {
   "cell_type": "code",
   "execution_count": 17,
   "metadata": {},
   "outputs": [
    {
     "name": "stdout",
     "output_type": "stream",
     "text": [
      "1 MSE : 2.907557\n",
      "2 MSE : 1.294993\n",
      "3 MSE : 1.217765\n",
      "4 MSE : 3.972693\n",
      "5 MSE : 0.113156\n",
      "6 MSE : 0.059518\n",
      "MSE: 1.5943\n"
     ]
    }
   ],
   "source": [
    "regr_1 = DecisionTreeRegressor(max_depth=4)\n",
    "\n",
    "mse = test_1(regr_1, X_train, Y_train, k = 5)\n",
    "\n",
    "print(\"MSE: %.4f\" % mse)\n",
    "\n"
   ]
  },
  {
   "cell_type": "markdown",
   "metadata": {},
   "source": [
    "### with AdaBoost"
   ]
  },
  {
   "cell_type": "code",
   "execution_count": 18,
   "metadata": {},
   "outputs": [],
   "source": [
    "import numpy as np\n",
    "from sklearn.tree import DecisionTreeRegressor\n",
    "from sklearn.ensemble import AdaBoostRegressor"
   ]
  },
  {
   "cell_type": "code",
   "execution_count": 19,
   "metadata": {},
   "outputs": [
    {
     "name": "stdout",
     "output_type": "stream",
     "text": [
      "1 MSE : 1.442465\n",
      "2 MSE : 0.051134\n",
      "3 MSE : 1.092403\n",
      "4 MSE : 3.692385\n",
      "5 MSE : 0.144768\n",
      "6 MSE : 0.013148\n",
      "MSE: 1.0727\n"
     ]
    }
   ],
   "source": [
    "rng = np.random.RandomState(1)\n",
    "\n",
    "\n",
    "regr_2 = AdaBoostRegressor(DecisionTreeRegressor(max_depth=4),\n",
    "                           n_estimators=300, random_state=rng)\n",
    "\n",
    "\n",
    "mse = test_1(regr_2, X_train, Y_train, k = 5)\n",
    "print(\"MSE: %.4f\" % mse)\n",
    "\n",
    "\n"
   ]
  },
  {
   "cell_type": "markdown",
   "metadata": {},
   "source": [
    "## Gradient Boosting Regression"
   ]
  },
  {
   "cell_type": "code",
   "execution_count": 20,
   "metadata": {},
   "outputs": [],
   "source": [
    "from sklearn import ensemble"
   ]
  },
  {
   "cell_type": "code",
   "execution_count": 21,
   "metadata": {},
   "outputs": [
    {
     "name": "stdout",
     "output_type": "stream",
     "text": [
      "1 MSE : 1.093595\n",
      "2 MSE : 0.302104\n",
      "3 MSE : 1.081929\n",
      "4 MSE : 4.328384\n",
      "5 MSE : 0.333211\n",
      "6 MSE : 0.025101\n",
      "MSE: 1.1941\n"
     ]
    }
   ],
   "source": [
    "params = {'n_estimators': 500, 'max_depth': 6, 'min_samples_split': 4,\n",
    "          'learning_rate': 0.005, 'loss': 'ls'}\n",
    "\n",
    "GBR = ensemble.GradientBoostingRegressor(**params)\n",
    "\n",
    "\n",
    "\n",
    "mse = test_1(GBR, X_train, Y_train, k = 5)\n",
    "\n",
    "print(\"MSE: %.4f\" % mse)"
   ]
  },
  {
   "cell_type": "code",
   "execution_count": null,
   "metadata": {},
   "outputs": [],
   "source": []
  },
  {
   "cell_type": "code",
   "execution_count": null,
   "metadata": {},
   "outputs": [],
   "source": []
  },
  {
   "cell_type": "code",
   "execution_count": null,
   "metadata": {},
   "outputs": [],
   "source": []
  },
  {
   "cell_type": "code",
   "execution_count": null,
   "metadata": {},
   "outputs": [],
   "source": []
  }
 ],
 "metadata": {
  "kernelspec": {
   "display_name": "Python 3",
   "language": "python",
   "name": "python3"
  },
  "language_info": {
   "codemirror_mode": {
    "name": "ipython",
    "version": 3
   },
   "file_extension": ".py",
   "mimetype": "text/x-python",
   "name": "python",
   "nbconvert_exporter": "python",
   "pygments_lexer": "ipython3",
   "version": "3.5.2"
  }
 },
 "nbformat": 4,
 "nbformat_minor": 2
}
