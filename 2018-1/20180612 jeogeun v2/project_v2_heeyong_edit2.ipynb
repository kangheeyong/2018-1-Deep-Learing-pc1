{
 "cells": [
  {
   "cell_type": "markdown",
   "metadata": {},
   "source": [
    "# no normalizing version\n"
   ]
  },
  {
   "cell_type": "code",
   "execution_count": 1,
   "metadata": {},
   "outputs": [],
   "source": [
    "import numpy as np\n",
    "import pandas as pd\n",
    "import matplotlib.pyplot as plt"
   ]
  },
  {
   "cell_type": "code",
   "execution_count": 2,
   "metadata": {},
   "outputs": [],
   "source": [
    "data = np.genfromtxt('data.txt')\n",
    "\n",
    "np.random.seed(126)\n",
    "np.random.shuffle(data)\n",
    "\n",
    "X = data[:,0:6]\n",
    "Y = data[:,6:16]\n",
    "dfX=pd.DataFrame(X)\n",
    "dfy=pd.DataFrame(Y)\n",
    "\n",
    "table=pd.concat([dfX, dfy], axis=1)\n",
    "table.columns=['SiH4','N2O','Temp','Pressure','RF Power','Time','Thickness','Depo. Rate','Uniformity','Ref. Index','Permittivity','Etch Rate','Stress','H2O','SiOH']"
   ]
  },
  {
   "cell_type": "code",
   "execution_count": 3,
   "metadata": {},
   "outputs": [
    {
     "name": "stdout",
     "output_type": "stream",
     "text": [
      "     SiH4     N2O   Temp  Pressure  RF Power   Time  Thickness  Depo. Rate  \\\n",
      "0   909.0    91.0  375.0      1.80     150.0   40.0       4.25      1064.0   \n",
      "1   667.0   333.0  375.0      1.80     150.0   60.0       4.49       749.0   \n",
      "2   400.0   900.0  200.0      1.80     150.0  126.0       4.99       396.0   \n",
      "3   400.0   400.0  200.0      1.80     150.0  136.0       4.80       352.0   \n",
      "4   400.0   900.0  400.0      0.25      20.0  600.0       3.36        56.0   \n",
      "5   200.0   400.0  400.0      0.25      20.0  468.0       5.76       123.0   \n",
      "6   400.0   900.0  250.0      0.50     150.0  110.0       5.41       491.0   \n",
      "7   100.0   200.0  375.0      1.80     150.0  105.0       0.79        75.0   \n",
      "8   200.0   400.0  200.0      1.80      20.0  187.0       5.69       304.0   \n",
      "9   400.0   900.0  250.0      1.10      80.0   85.0       5.01       587.0   \n",
      "10  833.0   167.0  375.0      1.80     150.0   45.0       4.52      1005.0   \n",
      "11  550.0  1100.0  375.0      1.80     150.0   25.0       1.57       628.0   \n",
      "12  400.0   900.0  200.0      0.50      80.0  164.0       5.31       324.0   \n",
      "13  400.0   900.0  200.0      1.80      20.0  180.0       4.36       242.0   \n",
      "14  400.0   900.0  200.0      0.25     150.0  157.0       5.68       362.0   \n",
      "15  200.0   900.0  400.0      1.80      20.0  180.0       4.83       268.0   \n",
      "16  400.0   900.0  150.0      1.80      80.0  128.0       5.23       409.0   \n",
      "17  200.0   900.0  200.0      0.25      20.0  569.0       5.75       101.0   \n",
      "18  400.0   900.0  200.0      1.10      20.0  154.0       5.78       375.0   \n",
      "19  400.0   900.0  150.0      0.50      20.0  220.0       4.63       210.0   \n",
      "20  700.0  1400.0  375.0      1.80     150.0   35.0       2.85       813.0   \n",
      "21  200.0   900.0  200.0      1.80     150.0  261.0       5.12       196.0   \n",
      "22  400.0   900.0  150.0      1.10     150.0   90.0       5.14       571.0   \n",
      "23  200.0   400.0  400.0      1.80     150.0  281.0       4.86       173.0   \n",
      "24  400.0   900.0  250.0      1.80      20.0  155.0       5.44       351.0   \n",
      "25  400.0   400.0  400.0      0.25     150.0  134.0       6.09       454.0   \n",
      "26  300.0   600.0  375.0      1.80     150.0   65.0       1.95       301.0   \n",
      "27  400.0   400.0  200.0      0.25      20.0  381.0       5.29       139.0   \n",
      "28  333.0   667.0  375.0      1.80     150.0   60.0       1.98       331.0   \n",
      "29  300.0   650.0  300.0      1.03      85.0  115.0       4.92       428.0   \n",
      "30  200.0   900.0  400.0      0.25     150.0  243.0       5.39       222.0   \n",
      "31  300.0   650.0  300.0      1.03      85.0  115.0       4.96       432.0   \n",
      "32  200.0   400.0  200.0      0.25     150.0  192.0       5.52       287.0   \n",
      "33  300.0   650.0  300.0      1.03      85.0  115.0       4.98       433.0   \n",
      "34  400.0   400.0  400.0      1.80      20.0  111.0       5.10       460.0   \n",
      "35  400.0   900.0  400.0      1.80     150.0  123.0       5.24       426.0   \n",
      "\n",
      "    Uniformity  Ref. Index  Permittivity  Etch Rate  Stress   H2O  SiOH  \n",
      "0         0.94       1.480          4.11     1100.0  -288.4  2.34  8.79  \n",
      "1         1.34       1.458          4.23     1570.0  -510.3  2.25  8.82  \n",
      "2         2.81       1.463          6.26     2370.0  -349.0  3.00  6.06  \n",
      "3         0.42       1.459          4.67     1280.0  -259.1  2.61  8.54  \n",
      "4         2.08       1.467          6.04     6630.0  -231.3  3.26  6.12  \n",
      "5         9.40       1.467          5.18     4680.0  -313.8  3.18  4.86  \n",
      "6         5.73       1.468          5.85     2800.0  -145.0  1.24  5.91  \n",
      "7         1.27       1.465          3.15     1050.0  -252.7  0.11  2.93  \n",
      "8        11.34       1.464          7.71     1400.0   -32.3  1.18  2.98  \n",
      "9         2.00       1.460          5.63      690.0  -301.6  3.36  7.08  \n",
      "10        0.66       1.459          4.28     1410.0  -432.1  2.34  8.79  \n",
      "11        1.91       1.459          4.03     1650.0  -655.6  0.67  4.89  \n",
      "12        2.26       1.467          6.61    19470.0  -155.0  4.46  4.88  \n",
      "13       12.39       1.462          5.63     2650.0  -111.1  1.06  3.03  \n",
      "14       13.38       1.451          7.60     4390.0  -246.0  5.92  6.59  \n",
      "15        1.45       1.452          4.30     1130.0  -178.4  1.74  4.77  \n",
      "16        2.88       1.454          6.64     6500.0   -16.0  3.95  4.94  \n",
      "17        4.52       1.424         10.32    38130.0  -122.8  6.62  7.16  \n",
      "18        1.74       1.466          6.17     3420.0   -42.0  2.97  6.28  \n",
      "19       65.00       1.459          8.29   151900.0   -10.0  3.16  6.84  \n",
      "20        4.56       1.459          4.14     1590.0  -617.5  0.70  5.26  \n",
      "21        1.37       1.463          4.99     1630.0  -187.6  2.32  4.82  \n",
      "22        0.97       1.456          7.19     4440.0   -76.0  3.82  5.07  \n",
      "23        2.88       1.465          4.19      540.0  -275.1  1.32  3.07  \n",
      "24        2.59       1.461          5.89     1270.0  -240.9  1.97  3.70  \n",
      "25       15.11       1.471          4.42     1240.0  -345.2  0.95  5.00  \n",
      "26        1.54       1.463          4.00     1130.0  -747.4  2.32  1.42  \n",
      "27        1.13       1.458          7.15    15820.0  -145.8  6.90  6.37  \n",
      "28        1.52       1.465          3.95     1110.0  -356.0  2.39  1.38  \n",
      "29        1.42       1.461          4.32     1030.0  -407.4  2.10  4.01  \n",
      "30       17.63       1.470          4.23      620.0  -309.2  1.22  4.98  \n",
      "31        1.41       1.462          4.33      300.0  -403.7  1.84  4.24  \n",
      "32        3.80       1.452          7.64    31130.0  -173.2  4.41  7.53  \n",
      "33        1.00       1.462          4.34      330.0  -411.9  2.37  4.43  \n",
      "34        6.67       1.459          4.36     1070.0  -121.5  1.79  5.21  \n",
      "35        3.24       1.461          4.21      760.0  -371.5  2.02  2.36  \n"
     ]
    }
   ],
   "source": [
    "print(table)"
   ]
  },
  {
   "cell_type": "code",
   "execution_count": 4,
   "metadata": {},
   "outputs": [],
   "source": [
    "from sklearn.metrics import mean_squared_error\n",
    "\n",
    "\n",
    "\n",
    "\n",
    "def test_1(func, x, y, k) :\n",
    "    \n",
    "    L = x.shape[0]\n",
    "       \n",
    "    if k >= L :\n",
    "        print('error\\n')\n",
    "        return -1\n",
    "    \n",
    "    if L%k == 0 :\n",
    "        d = int(L/k) - 1\n",
    "    else :\n",
    "        d = int(L/k)\n",
    "      \n",
    "    mse = 0.0\n",
    "    \n",
    "    for i in range(0,d) :\n",
    "        \n",
    "        x_test = x[i*k:(i+1)*k]\n",
    "        y_test = y[i*k:(i+1)*k]\n",
    "        \n",
    "        x_train = np.concatenate([x[0 : i*k], x[(i+1)*k : L]], axis=0)\n",
    "        y_train = np.concatenate([y[0 : i*k], y[(i+1)*k : L]], axis=0)\n",
    "        \n",
    "        func.fit(x_train, y_train)\n",
    "        print(\"%d MSE : %f\" %(i+1,mean_squared_error(y_test, func.predict(x_test))))\n",
    "        mse = mse + mean_squared_error(y_test, func.predict(x_test))\n",
    "        \n",
    "    x_test = x[d*k:L]\n",
    "    y_test = y[d*k:L]\n",
    "    x_train = x[0:d*k]\n",
    "    y_train = y[0:d*k]\n",
    "    \n",
    "    func.fit(x_train, y_train)\n",
    "    print(\"%d MSE : %f\"%(d+1, mean_squared_error(y_test, func.predict(x_test))))\n",
    "    mse = mse + mean_squared_error(y_test, func.predict(x_test))\n",
    "    \n",
    "    return mse/(d+1)\n",
    "\n",
    "def test_2(func, x, y) :\n",
    "    \n",
    "    L = x.shape[0]\n",
    "      \n",
    "    x_test = x[0:L - 5]\n",
    "    y_test = y[0:L - 5]\n",
    "    x_train = x[L-5:L]\n",
    "    y_train = y[L-5:L]\n",
    "    \n",
    "    func.fit(x_train, y_train)\n",
    "    print(\"MSE : %f\"%( mean_squared_error(y_test, func.predict(x_test))))\n",
    "    mse = mean_squared_error(y_test, func.predict(x_test))\n",
    "    \n",
    "    return mse\n",
    "\n",
    "\n",
    "\n",
    "X_train = X[:,:]\n",
    "Y_train = Y[:,1]/100"
   ]
  },
  {
   "cell_type": "markdown",
   "metadata": {},
   "source": [
    "## Linear_regression"
   ]
  },
  {
   "cell_type": "markdown",
   "metadata": {},
   "source": [
    "### Multivariate regression  "
   ]
  },
  {
   "cell_type": "code",
   "execution_count": 5,
   "metadata": {},
   "outputs": [
    {
     "name": "stdout",
     "output_type": "stream",
     "text": [
      "1 MSE : 0.663586\n",
      "2 MSE : 1.363335\n",
      "3 MSE : 1.115933\n",
      "4 MSE : 1.488241\n",
      "5 MSE : 0.836300\n",
      "6 MSE : 1.119458\n",
      "7 MSE : 0.550296\n",
      "8 MSE : 0.075182\n",
      "MSE: 0.9015\n"
     ]
    }
   ],
   "source": [
    "from sklearn import linear_model\n",
    "\n",
    "MulReg=linear_model.LinearRegression()\n",
    "\n",
    "mse = test_1(MulReg, X_train, Y_train, k = 5)\n",
    "\n",
    "\n",
    "print(\"MSE: %.4f\" % mse)"
   ]
  },
  {
   "cell_type": "markdown",
   "metadata": {},
   "source": [
    "### Ridge Regression (Linear least squares with l2 regularization)"
   ]
  },
  {
   "cell_type": "code",
   "execution_count": 6,
   "metadata": {},
   "outputs": [
    {
     "name": "stdout",
     "output_type": "stream",
     "text": [
      "1 MSE : 0.664864\n",
      "2 MSE : 1.364786\n",
      "3 MSE : 1.111570\n",
      "4 MSE : 1.478227\n",
      "5 MSE : 0.826406\n",
      "6 MSE : 1.115797\n",
      "7 MSE : 0.551197\n",
      "8 MSE : 0.076716\n",
      "MSE: 0.8987\n"
     ]
    }
   ],
   "source": [
    "ridge = linear_model.Ridge(alpha=0.35)\n",
    "\n",
    "mse = test_1(ridge, X_train, Y_train, k = 5)\n",
    "\n",
    "print(\"MSE: %.4f\" % mse)"
   ]
  },
  {
   "cell_type": "markdown",
   "metadata": {},
   "source": [
    "### Lasso Regression (Linear least squares with l1 regularization)"
   ]
  },
  {
   "cell_type": "code",
   "execution_count": 7,
   "metadata": {},
   "outputs": [
    {
     "name": "stdout",
     "output_type": "stream",
     "text": [
      "1 MSE : 0.704881\n",
      "2 MSE : 1.392677\n",
      "3 MSE : 1.038850\n",
      "4 MSE : 1.240646\n",
      "5 MSE : 0.671918\n",
      "6 MSE : 1.054088\n",
      "7 MSE : 0.572130\n",
      "8 MSE : 0.119907\n",
      "MSE: 0.8494\n"
     ]
    }
   ],
   "source": [
    "lasso = linear_model.Lasso(alpha=0.35)\n",
    "\n",
    "\n",
    "mse = test_1(lasso, X_train, Y_train, k = 5)\n",
    "\n",
    "\n",
    "print(\"MSE: %.4f\" % mse)"
   ]
  },
  {
   "cell_type": "markdown",
   "metadata": {},
   "source": [
    "# Support Vecter Regression\n",
    "\n"
   ]
  },
  {
   "cell_type": "markdown",
   "metadata": {},
   "source": [
    "### *가장 낮은 MSE값을 가지는 C와 kernel을 선택"
   ]
  },
  {
   "cell_type": "code",
   "execution_count": 8,
   "metadata": {},
   "outputs": [],
   "source": [
    "import numpy as np\n",
    "from sklearn.svm import SVR"
   ]
  },
  {
   "cell_type": "code",
   "execution_count": 9,
   "metadata": {},
   "outputs": [
    {
     "name": "stdout",
     "output_type": "stream",
     "text": [
      "MSE : 5.086694\n",
      "kernel: linear \n",
      " C: 0.01 \n",
      " MSE:  5.08669421222 \n",
      " epsilon: 0.001 \n",
      " -------------------------\n",
      "MSE : 5.090661\n",
      "kernel: linear \n",
      " C: 0.01 \n",
      " MSE:  5.09066097116 \n",
      " epsilon: 0.01 \n",
      " -------------------------\n",
      "MSE : 4.862770\n",
      "kernel: linear \n",
      " C: 0.01 \n",
      " MSE:  4.86276966149 \n",
      " epsilon: 0.1 \n",
      " -------------------------\n",
      "MSE : 6.367155\n",
      "kernel: rbf \n",
      " C: 0.01 \n",
      " MSE:  6.36715483871 \n",
      " epsilon: 0.001 \n",
      " -------------------------\n",
      "MSE : 6.363109\n",
      "kernel: rbf \n",
      " C: 0.01 \n",
      " MSE:  6.36310887097 \n",
      " epsilon: 0.01 \n",
      " -------------------------\n",
      "MSE : 6.355154\n",
      "kernel: rbf \n",
      " C: 0.01 \n",
      " MSE:  6.35515403226 \n",
      " epsilon: 0.1 \n",
      " -------------------------\n",
      "MSE : 6.375368\n",
      "kernel: sigmoid \n",
      " C: 0.01 \n",
      " MSE:  6.37536774194 \n",
      " epsilon: 0.001 \n",
      " -------------------------\n",
      "MSE : 6.371225\n",
      "kernel: sigmoid \n",
      " C: 0.01 \n",
      " MSE:  6.371225 \n",
      " epsilon: 0.01 \n",
      " -------------------------\n",
      "MSE : 6.355154\n",
      "kernel: sigmoid \n",
      " C: 0.01 \n",
      " MSE:  6.35515403226 \n",
      " epsilon: 0.1 \n",
      " -------------------------\n",
      "MSE : 5.086694\n",
      "kernel: linear \n",
      " C: 0.1 \n",
      " MSE:  5.08669421223 \n",
      " epsilon: 0.001 \n",
      " -------------------------\n",
      "MSE : 5.090661\n",
      "kernel: linear \n",
      " C: 0.1 \n",
      " MSE:  5.09066097116 \n",
      " epsilon: 0.01 \n",
      " -------------------------\n",
      "MSE : 4.862770\n",
      "kernel: linear \n",
      " C: 0.1 \n",
      " MSE:  4.86276966149 \n",
      " epsilon: 0.1 \n",
      " -------------------------\n",
      "MSE : 6.352086\n",
      "kernel: rbf \n",
      " C: 0.1 \n",
      " MSE:  6.35208616129 \n",
      " epsilon: 0.001 \n",
      " -------------------------\n",
      "MSE : 6.355198\n",
      "kernel: rbf \n",
      " C: 0.1 \n",
      " MSE:  6.3551983871 \n",
      " epsilon: 0.01 \n",
      " -------------------------\n",
      "MSE : 6.355154\n",
      "kernel: rbf \n",
      " C: 0.1 \n",
      " MSE:  6.35515403226 \n",
      " epsilon: 0.1 \n",
      " -------------------------\n",
      "MSE : 6.375368\n",
      "kernel: sigmoid \n",
      " C: 0.1 \n",
      " MSE:  6.37536774194 \n",
      " epsilon: 0.001 \n",
      " -------------------------\n",
      "MSE : 6.371225\n",
      "kernel: sigmoid \n",
      " C: 0.1 \n",
      " MSE:  6.371225 \n",
      " epsilon: 0.01 \n",
      " -------------------------\n",
      "MSE : 6.355154\n",
      "kernel: sigmoid \n",
      " C: 0.1 \n",
      " MSE:  6.35515403226 \n",
      " epsilon: 0.1 \n",
      " -------------------------\n",
      "MSE : 5.086694\n",
      "kernel: linear \n",
      " C: 1 \n",
      " MSE:  5.08669421226 \n",
      " epsilon: 0.001 \n",
      " -------------------------\n",
      "MSE : 5.090661\n",
      "kernel: linear \n",
      " C: 1 \n",
      " MSE:  5.09066097116 \n",
      " epsilon: 0.01 \n",
      " -------------------------\n",
      "MSE : 4.862770\n",
      "kernel: linear \n",
      " C: 1 \n",
      " MSE:  4.86276966149 \n",
      " epsilon: 0.1 \n",
      " -------------------------\n",
      "MSE : 6.224630\n",
      "kernel: rbf \n",
      " C: 1 \n",
      " MSE:  6.22462960644 \n",
      " epsilon: 0.001 \n",
      " -------------------------\n",
      "MSE : 6.222594\n",
      "kernel: rbf \n",
      " C: 1 \n",
      " MSE:  6.22259416345 \n",
      " epsilon: 0.01 \n",
      " -------------------------\n",
      "MSE : 6.202364\n",
      "kernel: rbf \n",
      " C: 1 \n",
      " MSE:  6.20236391444 \n",
      " epsilon: 0.1 \n",
      " -------------------------\n",
      "MSE : 6.375368\n",
      "kernel: sigmoid \n",
      " C: 1 \n",
      " MSE:  6.37536774194 \n",
      " epsilon: 0.001 \n",
      " -------------------------\n",
      "MSE : 6.371225\n",
      "kernel: sigmoid \n",
      " C: 1 \n",
      " MSE:  6.371225 \n",
      " epsilon: 0.01 \n",
      " -------------------------\n",
      "MSE : 6.355154\n",
      "kernel: sigmoid \n",
      " C: 1 \n",
      " MSE:  6.35515403226 \n",
      " epsilon: 0.1 \n",
      " -------------------------\n",
      "MSE : 5.086597\n",
      "kernel: linear \n",
      " C: 10 \n",
      " MSE:  5.08659699001 \n",
      " epsilon: 0.001 \n",
      " -------------------------\n",
      "MSE : 5.090661\n",
      "kernel: linear \n",
      " C: 10 \n",
      " MSE:  5.09066097116 \n",
      " epsilon: 0.01 \n",
      " -------------------------\n",
      "MSE : 4.862770\n",
      "kernel: linear \n",
      " C: 10 \n",
      " MSE:  4.86276966149 \n",
      " epsilon: 0.1 \n",
      " -------------------------\n",
      "MSE : 6.211354\n",
      "kernel: rbf \n",
      " C: 10 \n",
      " MSE:  6.21135382258 \n",
      " epsilon: 0.001 \n",
      " -------------------------\n",
      "MSE : 6.210768\n",
      "kernel: rbf \n",
      " C: 10 \n",
      " MSE:  6.21076774194 \n",
      " epsilon: 0.01 \n",
      " -------------------------\n",
      "MSE : 6.202363\n",
      "kernel: rbf \n",
      " C: 10 \n",
      " MSE:  6.20236290323 \n",
      " epsilon: 0.1 \n",
      " -------------------------\n",
      "MSE : 6.375368\n",
      "kernel: sigmoid \n",
      " C: 10 \n",
      " MSE:  6.37536774194 \n",
      " epsilon: 0.001 \n",
      " -------------------------\n",
      "MSE : 6.371225\n",
      "kernel: sigmoid \n",
      " C: 10 \n",
      " MSE:  6.371225 \n",
      " epsilon: 0.01 \n",
      " -------------------------\n",
      "MSE : 6.355154\n",
      "kernel: sigmoid \n",
      " C: 10 \n",
      " MSE:  6.35515403226 \n",
      " epsilon: 0.1 \n",
      " -------------------------\n",
      "MSE : 5.086682\n",
      "kernel: linear \n",
      " C: 100 \n",
      " MSE:  5.08668197191 \n",
      " epsilon: 0.001 \n",
      " -------------------------\n",
      "MSE : 5.090661\n",
      "kernel: linear \n",
      " C: 100 \n",
      " MSE:  5.09066097116 \n",
      " epsilon: 0.01 \n",
      " -------------------------\n",
      "MSE : 4.862770\n",
      "kernel: linear \n",
      " C: 100 \n",
      " MSE:  4.86276966149 \n",
      " epsilon: 0.1 \n",
      " -------------------------\n",
      "MSE : 6.211354\n",
      "kernel: rbf \n",
      " C: 100 \n",
      " MSE:  6.21135382258 \n",
      " epsilon: 0.001 \n",
      " -------------------------\n",
      "MSE : 6.210768\n",
      "kernel: rbf \n",
      " C: 100 \n",
      " MSE:  6.21076774194 \n",
      " epsilon: 0.01 \n",
      " -------------------------\n",
      "MSE : 6.202363\n",
      "kernel: rbf \n",
      " C: 100 \n",
      " MSE:  6.20236290323 \n",
      " epsilon: 0.1 \n",
      " -------------------------\n",
      "MSE : 6.375368\n",
      "kernel: sigmoid \n",
      " C: 100 \n",
      " MSE:  6.37536774194 \n",
      " epsilon: 0.001 \n",
      " -------------------------\n",
      "MSE : 6.371225\n",
      "kernel: sigmoid \n",
      " C: 100 \n",
      " MSE:  6.371225 \n",
      " epsilon: 0.01 \n",
      " -------------------------\n",
      "MSE : 6.355154\n",
      "kernel: sigmoid \n",
      " C: 100 \n",
      " MSE:  6.35515403226 \n",
      " epsilon: 0.1 \n",
      " -------------------------\n"
     ]
    }
   ],
   "source": [
    "for c in [0.01,0.1,1,10,100]:\n",
    "    for i in [\"linear\",\"rbf\",\"sigmoid\"]:\n",
    "        for e in [0.001,0.01,0.1]:\n",
    "            svr_ck = SVR(kernel=i, C=c, epsilon=e)\n",
    "            \n",
    "            mse = test_2(svr_ck, X_train, Y_train)\n",
    "            \n",
    "            print(\"kernel:\",i,\"\\n\",\"C:\",c,\"\\n\",\"MSE: \",mse,\"\\n\",\"epsilon:\",e,\"\\n\" ,\"-\"*25)"
   ]
  },
  {
   "cell_type": "markdown",
   "metadata": {},
   "source": [
    "### rbf kernel?"
   ]
  },
  {
   "cell_type": "code",
   "execution_count": 10,
   "metadata": {},
   "outputs": [],
   "source": [
    "import numpy as np\n",
    "from sklearn.svm import SVR"
   ]
  },
  {
   "cell_type": "code",
   "execution_count": 11,
   "metadata": {},
   "outputs": [
    {
     "name": "stdout",
     "output_type": "stream",
     "text": [
      "1 MSE : 14.515676\n",
      "2 MSE : 4.801443\n",
      "3 MSE : 9.744776\n",
      "4 MSE : 3.209158\n",
      "5 MSE : 5.977618\n",
      "6 MSE : 1.771525\n",
      "7 MSE : 0.959625\n",
      "8 MSE : 0.117306\n",
      "MSE: 5.1371\n"
     ]
    }
   ],
   "source": [
    "svr_rbf = SVR(kernel='rbf', C=1e3, gamma=0.1)\n",
    "\n",
    "mse = test_1(svr_rbf, X_train, Y_train, k = 5)\n",
    "\n",
    "\n",
    "print(\"MSE: %.4f\" % mse)"
   ]
  },
  {
   "cell_type": "markdown",
   "metadata": {},
   "source": [
    "### poly kernel "
   ]
  },
  {
   "cell_type": "code",
   "execution_count": 12,
   "metadata": {},
   "outputs": [],
   "source": [
    "#svr_poly = SVR(kernel='poly', C=1e3, gamma=0.1)\n",
    "\n",
    "#mse = test_1(svr_poly, X_train, Y_train, k = 5)\n",
    "\n",
    "\n",
    "#print(\"MSE: %.4f\" % mse)"
   ]
  },
  {
   "cell_type": "markdown",
   "metadata": {},
   "source": [
    "### sigmoid kernel"
   ]
  },
  {
   "cell_type": "code",
   "execution_count": 13,
   "metadata": {},
   "outputs": [
    {
     "name": "stdout",
     "output_type": "stream",
     "text": [
      "1 MSE : 15.273665\n",
      "2 MSE : 4.216425\n",
      "3 MSE : 10.016025\n",
      "4 MSE : 2.140680\n",
      "5 MSE : 6.192185\n",
      "6 MSE : 1.354265\n",
      "7 MSE : 0.903705\n",
      "8 MSE : 0.483025\n",
      "MSE: 5.0725\n"
     ]
    }
   ],
   "source": [
    "svr_sigmoid = SVR(kernel='sigmoid', C=1e3, gamma=0.1)\n",
    "\n",
    "mse = test_1(svr_sigmoid, X_train, Y_train, k = 5)\n",
    "\n",
    "\n",
    "print(\"MSE: %.4f\" % mse)"
   ]
  },
  {
   "cell_type": "markdown",
   "metadata": {},
   "source": [
    "### no kernel?\n"
   ]
  },
  {
   "cell_type": "code",
   "execution_count": 14,
   "metadata": {},
   "outputs": [],
   "source": [
    "#svr_lin = SVR(kernel='linear', C=1e2)\n",
    "\n",
    "\n",
    "#mse = test_1(svr_lin, X_train, Y_train, k = 5)\n",
    "\n",
    "\n",
    "#print(\"MSE: %.4f\" % mse)"
   ]
  },
  {
   "cell_type": "markdown",
   "metadata": {},
   "source": [
    "## Kernel Ridge Regression "
   ]
  },
  {
   "cell_type": "code",
   "execution_count": 15,
   "metadata": {},
   "outputs": [
    {
     "name": "stdout",
     "output_type": "stream",
     "text": [
      "1 MSE : 0.893011\n",
      "2 MSE : 1.515477\n",
      "3 MSE : 0.902242\n",
      "4 MSE : 1.049398\n",
      "5 MSE : 0.637348\n",
      "6 MSE : 0.986137\n",
      "7 MSE : 0.737359\n",
      "8 MSE : 0.304507\n",
      "MSE(linear): 0.8782\n",
      "\n",
      "1 MSE : 39.539060\n",
      "2 MSE : 13.976400\n",
      "3 MSE : 33.979860\n",
      "4 MSE : 8.680620\n",
      "5 MSE : 23.571120\n",
      "6 MSE : 8.902116\n",
      "7 MSE : 8.774760\n",
      "8 MSE : 18.147600\n",
      "MSE(rbf): 19.4464\n",
      "\n",
      "1 MSE : 186.174657\n",
      "2 MSE : 13.541629\n",
      "3 MSE : 0.696815\n",
      "4 MSE : 218.403897\n",
      "5 MSE : 116.406939\n",
      "6 MSE : 52.827348\n",
      "7 MSE : 37.781788\n",
      "8 MSE : 0.169896\n",
      "MSE(poly): 78.2504\n",
      "\n"
     ]
    },
    {
     "name": "stderr",
     "output_type": "stream",
     "text": [
      "/usr/local/lib/python3.5/dist-packages/scipy/linalg/basic.py:40: RuntimeWarning: scipy.linalg.solve\n",
      "Ill-conditioned matrix detected. Result is not guaranteed to be accurate.\n",
      "Reciprocal condition number/precision: 7.063116475076062e-18 / 1.1102230246251565e-16\n",
      "  RuntimeWarning)\n",
      "/usr/local/lib/python3.5/dist-packages/scipy/linalg/basic.py:40: RuntimeWarning: scipy.linalg.solve\n",
      "Ill-conditioned matrix detected. Result is not guaranteed to be accurate.\n",
      "Reciprocal condition number/precision: 8.662671966713258e-18 / 1.1102230246251565e-16\n",
      "  RuntimeWarning)\n",
      "/usr/local/lib/python3.5/dist-packages/scipy/linalg/basic.py:40: RuntimeWarning: scipy.linalg.solve\n",
      "Ill-conditioned matrix detected. Result is not guaranteed to be accurate.\n",
      "Reciprocal condition number/precision: 7.421107960819473e-18 / 1.1102230246251565e-16\n",
      "  RuntimeWarning)\n",
      "/usr/local/lib/python3.5/dist-packages/scipy/linalg/basic.py:40: RuntimeWarning: scipy.linalg.solve\n",
      "Ill-conditioned matrix detected. Result is not guaranteed to be accurate.\n",
      "Reciprocal condition number/precision: 9.028273418504924e-18 / 1.1102230246251565e-16\n",
      "  RuntimeWarning)\n"
     ]
    }
   ],
   "source": [
    "from sklearn.kernel_ridge import KernelRidge\n",
    "\n",
    "kr_linear = KernelRidge(kernel='linear', gamma=0.1)\n",
    "kr_rbf = KernelRidge(kernel='rbf', gamma=0.1)\n",
    "kr_poly = KernelRidge(kernel='poly', gamma=0.1)\n",
    "\n",
    "\n",
    "\n",
    "\n",
    "mse = test_1(kr_linear, X_train, Y_train, k = 5)\n",
    "print(\"MSE(linear): %.4f\\n\" % mse)\n",
    "mse = test_1(kr_rbf, X_train, Y_train, k = 5)\n",
    "print(\"MSE(rbf): %.4f\\n\" % mse)\n",
    "mse = test_1(kr_poly, X_train, Y_train, k = 5)\n",
    "print(\"MSE(poly): %.4f\\n\" % mse)"
   ]
  },
  {
   "cell_type": "markdown",
   "metadata": {},
   "source": [
    "## Decision Tree Regression\n",
    "### basic"
   ]
  },
  {
   "cell_type": "code",
   "execution_count": 16,
   "metadata": {},
   "outputs": [],
   "source": [
    "import numpy as np\n",
    "from sklearn.tree import DecisionTreeRegressor"
   ]
  },
  {
   "cell_type": "code",
   "execution_count": 17,
   "metadata": {},
   "outputs": [
    {
     "name": "stdout",
     "output_type": "stream",
     "text": [
      "1 MSE : 0.408806\n",
      "2 MSE : 3.002435\n",
      "3 MSE : 1.799047\n",
      "4 MSE : 0.126426\n",
      "5 MSE : 1.556080\n",
      "6 MSE : 3.159511\n",
      "7 MSE : 0.197607\n",
      "8 MSE : 0.022751\n",
      "MSE: 1.2841\n"
     ]
    }
   ],
   "source": [
    "regr_1 = DecisionTreeRegressor(max_depth=4)\n",
    "\n",
    "mse = test_1(regr_1, X_train, Y_train, k = 5)\n",
    "\n",
    "print(\"MSE: %.4f\" % mse)\n",
    "\n"
   ]
  },
  {
   "cell_type": "markdown",
   "metadata": {},
   "source": [
    "### with AdaBoost"
   ]
  },
  {
   "cell_type": "code",
   "execution_count": 18,
   "metadata": {},
   "outputs": [],
   "source": [
    "import numpy as np\n",
    "from sklearn.tree import DecisionTreeRegressor\n",
    "from sklearn.ensemble import AdaBoostRegressor"
   ]
  },
  {
   "cell_type": "code",
   "execution_count": 19,
   "metadata": {},
   "outputs": [
    {
     "name": "stdout",
     "output_type": "stream",
     "text": [
      "1 MSE : 1.071451\n",
      "2 MSE : 2.954303\n",
      "3 MSE : 1.200964\n",
      "4 MSE : 0.110209\n",
      "5 MSE : 0.853677\n",
      "6 MSE : 4.027590\n",
      "7 MSE : 0.180564\n",
      "8 MSE : 0.004225\n",
      "MSE: 1.3004\n"
     ]
    }
   ],
   "source": [
    "rng = np.random.RandomState(1)\n",
    "\n",
    "\n",
    "regr_2 = AdaBoostRegressor(DecisionTreeRegressor(max_depth=4),\n",
    "                           n_estimators=300, random_state=rng)\n",
    "\n",
    "\n",
    "mse = test_1(regr_2, X_train, Y_train, k = 5)\n",
    "print(\"MSE: %.4f\" % mse)\n",
    "\n",
    "\n"
   ]
  },
  {
   "cell_type": "markdown",
   "metadata": {},
   "source": [
    "## Gradient Boosting Regression"
   ]
  },
  {
   "cell_type": "code",
   "execution_count": 20,
   "metadata": {},
   "outputs": [],
   "source": [
    "from sklearn import ensemble"
   ]
  },
  {
   "cell_type": "code",
   "execution_count": 21,
   "metadata": {},
   "outputs": [
    {
     "name": "stdout",
     "output_type": "stream",
     "text": [
      "1 MSE : 0.571345\n",
      "2 MSE : 2.150664\n",
      "3 MSE : 1.130804\n",
      "4 MSE : 0.018795\n",
      "5 MSE : 0.570633\n",
      "6 MSE : 3.272268\n",
      "7 MSE : 0.087305\n",
      "8 MSE : 0.034945\n",
      "MSE: 0.9796\n"
     ]
    }
   ],
   "source": [
    "params = {'n_estimators': 500, 'max_depth': 6, 'min_samples_split': 4,\n",
    "          'learning_rate': 0.005, 'loss': 'ls'}\n",
    "\n",
    "GBR = ensemble.GradientBoostingRegressor(**params)\n",
    "\n",
    "\n",
    "\n",
    "mse = test_1(GBR, X_train, Y_train, k = 5)\n",
    "\n",
    "print(\"MSE: %.4f\" % mse)"
   ]
  },
  {
   "cell_type": "code",
   "execution_count": null,
   "metadata": {},
   "outputs": [],
   "source": []
  },
  {
   "cell_type": "code",
   "execution_count": null,
   "metadata": {},
   "outputs": [],
   "source": []
  },
  {
   "cell_type": "code",
   "execution_count": null,
   "metadata": {},
   "outputs": [],
   "source": []
  },
  {
   "cell_type": "code",
   "execution_count": null,
   "metadata": {},
   "outputs": [],
   "source": []
  },
  {
   "cell_type": "code",
   "execution_count": null,
   "metadata": {},
   "outputs": [],
   "source": []
  }
 ],
 "metadata": {
  "kernelspec": {
   "display_name": "Python 3",
   "language": "python",
   "name": "python3"
  },
  "language_info": {
   "codemirror_mode": {
    "name": "ipython",
    "version": 3
   },
   "file_extension": ".py",
   "mimetype": "text/x-python",
   "name": "python",
   "nbconvert_exporter": "python",
   "pygments_lexer": "ipython3",
   "version": "3.5.2"
  }
 },
 "nbformat": 4,
 "nbformat_minor": 2
}
