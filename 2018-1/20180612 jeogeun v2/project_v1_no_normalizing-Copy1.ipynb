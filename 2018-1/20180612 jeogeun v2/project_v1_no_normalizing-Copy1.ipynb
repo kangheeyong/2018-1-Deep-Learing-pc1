{
 "cells": [
  {
   "cell_type": "markdown",
   "metadata": {},
   "source": [
    "# no normalizing version\n"
   ]
  },
  {
   "cell_type": "code",
   "execution_count": 1,
   "metadata": {},
   "outputs": [],
   "source": [
    "import numpy as np\n",
    "import pandas as pd\n",
    "import matplotlib.pyplot as plt"
   ]
  },
  {
   "cell_type": "code",
   "execution_count": 2,
   "metadata": {},
   "outputs": [],
   "source": [
    "data = np.genfromtxt('data_outlier little_timeless.txt')\n",
    "\n",
    "np.random.seed(4)\n",
    "np.random.shuffle(data)\n",
    "\n",
    "X = data[:,0:5]\n",
    "Y = data[:,5:16]\n",
    "dfX=pd.DataFrame(X)\n",
    "dfy=pd.DataFrame(Y)\n",
    "\n",
    "table=pd.concat([dfX, dfy], axis=1)\n",
    "table.columns=['SiH4','N2O','Temp','Pressure','RF Power','Thickness','Depo. Rate','Uniformity','Ref. Index','Permittivity','Etch Rate','Stress','H2O','SiOH']"
   ]
  },
  {
   "cell_type": "code",
   "execution_count": 3,
   "metadata": {},
   "outputs": [
    {
     "name": "stdout",
     "output_type": "stream",
     "text": [
      "     SiH4    N2O   Temp  Pressure  RF Power  Thickness  Depo. Rate  \\\n",
      "0   667.0  333.0  375.0       2.0     150.0        4.0       749.0   \n",
      "1   200.0  400.0  200.0       0.0     150.0        6.0       287.0   \n",
      "2   400.0  400.0  200.0       2.0     150.0        5.0       352.0   \n",
      "3   400.0  900.0  200.0       1.0      20.0        6.0       375.0   \n",
      "4   400.0  900.0  150.0       2.0      80.0        5.0       409.0   \n",
      "5   400.0  400.0  200.0       0.0      20.0        5.0       139.0   \n",
      "6   400.0  900.0  250.0       1.0      80.0        5.0       587.0   \n",
      "7   333.0  667.0  375.0       2.0     150.0        2.0       331.0   \n",
      "8   200.0  400.0  400.0       0.0      20.0        6.0       123.0   \n",
      "9   300.0  650.0  300.0       1.0      85.0        5.0       433.0   \n",
      "10  400.0  900.0  400.0       0.0      20.0        3.0        56.0   \n",
      "11  400.0  900.0  400.0       2.0     150.0        5.0       426.0   \n",
      "12  200.0  400.0  400.0       2.0     150.0        5.0       173.0   \n",
      "13  200.0  900.0  200.0       0.0      20.0        6.0       101.0   \n",
      "14  400.0  400.0  400.0       0.0     150.0        6.0       454.0   \n",
      "15  300.0  650.0  300.0       1.0      85.0        5.0       432.0   \n",
      "16  100.0  200.0  375.0       2.0     150.0        1.0        75.0   \n",
      "17  200.0  900.0  400.0       0.0     150.0        5.0       222.0   \n",
      "18  200.0  400.0  200.0       2.0      20.0        6.0       304.0   \n",
      "19  300.0  650.0  300.0       1.0      85.0        5.0       428.0   \n",
      "20  200.0  900.0  200.0       2.0     150.0        5.0       196.0   \n",
      "21  300.0  600.0  375.0       2.0     150.0        2.0       301.0   \n",
      "22  400.0  900.0  200.0       2.0      20.0        4.0       242.0   \n",
      "23  400.0  400.0  400.0       2.0      20.0        5.0       460.0   \n",
      "24  400.0  900.0  200.0       0.0     150.0        6.0       362.0   \n",
      "25  400.0  900.0  200.0       2.0     150.0        5.0       396.0   \n",
      "26  200.0  900.0  400.0       2.0      20.0        5.0       268.0   \n",
      "27  400.0  900.0  150.0       1.0     150.0        5.0       571.0   \n",
      "\n",
      "    Uniformity  Ref. Index  Permittivity  Etch Rate  Stress   H2O  SiOH  \n",
      "0         1.34        1.46           4.0     1570.0  -510.3  2.25  8.82  \n",
      "1         3.80        1.45           8.0    31130.0  -173.2  4.41  7.53  \n",
      "2         0.42        1.46           5.0     1280.0  -259.1  2.61  8.54  \n",
      "3         1.74        1.47           6.0     3420.0   -42.0  2.97  6.28  \n",
      "4         2.88        1.45           7.0     6500.0   -16.0  3.95  4.94  \n",
      "5         1.13        1.46           7.0    15820.0  -145.8  6.90  6.37  \n",
      "6         2.00        1.46           6.0      690.0  -301.6  3.36  7.08  \n",
      "7         1.52        1.47           4.0     1110.0  -356.0  2.39  1.38  \n",
      "8         9.40        1.47           5.0     4680.0  -313.8  3.18  4.86  \n",
      "9         1.00        1.46           4.0      330.0  -411.9  2.37  4.43  \n",
      "10        2.08        1.47           6.0     6630.0  -231.3  3.26  6.12  \n",
      "11        3.24        1.46           4.0      760.0  -371.5  2.02  2.36  \n",
      "12        2.88        1.47           4.0      540.0  -275.1  1.32  3.07  \n",
      "13        4.52        1.42          10.0    38130.0  -122.8  6.62  7.16  \n",
      "14       15.11        1.47           4.0     1240.0  -345.2  0.95  5.00  \n",
      "15        1.41        1.46           4.0      300.0  -403.7  1.84  4.24  \n",
      "16        1.27        1.47           3.0     1050.0  -252.7  0.11  2.93  \n",
      "17       17.63        1.47           4.0      620.0  -309.2  1.22  4.98  \n",
      "18       11.34        1.46           8.0     1400.0   -32.3  1.18  2.98  \n",
      "19        1.42        1.46           4.0     1030.0  -407.4  2.10  4.01  \n",
      "20        1.37        1.46           5.0     1630.0  -187.6  2.32  4.82  \n",
      "21        1.54        1.46           4.0     1130.0  -747.4  2.32  1.42  \n",
      "22       12.39        1.46           6.0     2650.0  -111.1  1.06  3.03  \n",
      "23        6.67        1.46           4.0     1070.0  -121.5  1.79  5.21  \n",
      "24       13.38        1.45           8.0     4390.0  -246.0  5.92  6.59  \n",
      "25        2.81        1.46           6.0     2370.0  -349.0  3.00  6.06  \n",
      "26        1.45        1.45           4.0     1130.0  -178.4  1.74  4.77  \n",
      "27        0.97        1.46           7.0     4440.0   -76.0  3.82  5.07  \n"
     ]
    }
   ],
   "source": [
    "print(table)"
   ]
  },
  {
   "cell_type": "code",
   "execution_count": 4,
   "metadata": {},
   "outputs": [],
   "source": [
    "X_train = X[0:23,:]\n",
    "Y_train = Y[0:23,0]\n",
    "X_test = X[23:28,:]\n",
    "Y_test = Y[23:28,0]"
   ]
  },
  {
   "cell_type": "markdown",
   "metadata": {},
   "source": [
    "## Gradient Boosting Regression"
   ]
  },
  {
   "cell_type": "code",
   "execution_count": 5,
   "metadata": {},
   "outputs": [],
   "source": [
    "from sklearn import ensemble\n",
    "from sklearn.metrics import mean_squared_error"
   ]
  },
  {
   "cell_type": "code",
   "execution_count": 6,
   "metadata": {},
   "outputs": [
    {
     "name": "stdout",
     "output_type": "stream",
     "text": [
      "MSE: 0.5554\n"
     ]
    }
   ],
   "source": [
    "params = {'n_estimators': 500, 'max_depth': 6, 'min_samples_split': 4,\n",
    "          'learning_rate': 0.005, 'loss': 'ls'}\n",
    "\n",
    "GBR = ensemble.GradientBoostingRegressor(**params)\n",
    "\n",
    "GBR.fit(X_train, Y_train)\n",
    "mse = mean_squared_error(Y_test, GBR.predict(X_test))\n",
    "print(\"MSE: %.4f\" % mse)\n",
    "\n"
   ]
  },
  {
   "cell_type": "code",
   "execution_count": 7,
   "metadata": {},
   "outputs": [
    {
     "name": "stdout",
     "output_type": "stream",
     "text": [
      "[5. 6. 5. 5. 5.]\n",
      "[3.75420773 5.92874269 4.73476302 5.53591565 5.92874269]\n"
     ]
    }
   ],
   "source": [
    "print(Y_test)\n",
    "print(GBR.predict(X_test))"
   ]
  },
  {
   "cell_type": "markdown",
   "metadata": {},
   "source": [
    "## Support Vecter Regression\n",
    "\n",
    "### rbf kernel?\n"
   ]
  },
  {
   "cell_type": "code",
   "execution_count": 8,
   "metadata": {},
   "outputs": [],
   "source": [
    "import numpy as np\n",
    "from sklearn.svm import SVR"
   ]
  },
  {
   "cell_type": "code",
   "execution_count": 9,
   "metadata": {},
   "outputs": [
    {
     "name": "stdout",
     "output_type": "stream",
     "text": [
      "MSE: 0.5746\n"
     ]
    }
   ],
   "source": [
    "svr_rbf = SVR(kernel='rbf', C=1e3, gamma=0.1)\n",
    "\n",
    "svr_rbf.fit(X_train, Y_train)\n",
    "mse = mean_squared_error(Y_test, svr_rbf.predict(X_test))\n",
    "print(\"MSE: %.4f\" % mse)"
   ]
  },
  {
   "cell_type": "code",
   "execution_count": null,
   "metadata": {},
   "outputs": [
    {
     "name": "stdout",
     "output_type": "stream",
     "text": [
      "[5. 6. 5. 5. 5.]\n",
      "[4.55610644 4.55610644 4.55610644 4.55610644 4.55610644]\n"
     ]
    }
   ],
   "source": [
    "print(Y_test)\n",
    "print(svr_rbf.predict(X_test))"
   ]
  },
  {
   "cell_type": "markdown",
   "metadata": {},
   "source": [
    "### no kernel?\n"
   ]
  },
  {
   "cell_type": "code",
   "execution_count": null,
   "metadata": {},
   "outputs": [],
   "source": [
    "svr_lin = SVR(kernel='linear', C=1e3)\n",
    "\n",
    "svr_lin.fit(X_train, Y_train)\n",
    "mse = mean_squared_error(Y_test, svr_lin.predict(X_test))\n",
    "print(\"MSE: %.4f\" % mse)\n"
   ]
  },
  {
   "cell_type": "code",
   "execution_count": null,
   "metadata": {},
   "outputs": [],
   "source": [
    "print(Y_test)\n",
    "print(svr_lin.predict(X_test))"
   ]
  },
  {
   "cell_type": "markdown",
   "metadata": {},
   "source": [
    "## Decision Tree Regression\n",
    "### basic"
   ]
  },
  {
   "cell_type": "code",
   "execution_count": null,
   "metadata": {},
   "outputs": [],
   "source": [
    "import numpy as np\n",
    "from sklearn.tree import DecisionTreeRegressor"
   ]
  },
  {
   "cell_type": "code",
   "execution_count": null,
   "metadata": {},
   "outputs": [],
   "source": [
    "regr_1 = DecisionTreeRegressor(max_depth=4)\n",
    "\n",
    "regr_1.fit(X_train, Y_train)\n",
    "mse = mean_squared_error(Y_test, regr_1.predict(X_test))\n",
    "print(\"MSE: %.4f\" % mse)\n",
    "\n"
   ]
  },
  {
   "cell_type": "code",
   "execution_count": null,
   "metadata": {},
   "outputs": [],
   "source": [
    "print(Y_test)\n",
    "print(regr_1.predict(X_test))\n"
   ]
  },
  {
   "cell_type": "markdown",
   "metadata": {},
   "source": [
    "### with AdaBoost"
   ]
  },
  {
   "cell_type": "code",
   "execution_count": null,
   "metadata": {},
   "outputs": [],
   "source": [
    "import numpy as np\n",
    "from sklearn.tree import DecisionTreeRegressor\n",
    "from sklearn.ensemble import AdaBoostRegressor"
   ]
  },
  {
   "cell_type": "code",
   "execution_count": null,
   "metadata": {},
   "outputs": [],
   "source": [
    "rng = np.random.RandomState(1)\n",
    "\n",
    "\n",
    "regr_2 = AdaBoostRegressor(DecisionTreeRegressor(max_depth=4),\n",
    "                           n_estimators=300, random_state=rng)\n",
    "regr_2.fit(X_train, Y_train)\n",
    "mse = mean_squared_error(Y_test, regr_2.predict(X_test))\n",
    "print(\"MSE: %.4f\" % mse)\n",
    "\n",
    "\n"
   ]
  },
  {
   "cell_type": "code",
   "execution_count": null,
   "metadata": {},
   "outputs": [],
   "source": [
    "print(Y_test)\n",
    "print(regr_2.predict(X_test))"
   ]
  },
  {
   "cell_type": "code",
   "execution_count": null,
   "metadata": {},
   "outputs": [],
   "source": []
  },
  {
   "cell_type": "code",
   "execution_count": null,
   "metadata": {},
   "outputs": [],
   "source": []
  },
  {
   "cell_type": "code",
   "execution_count": null,
   "metadata": {},
   "outputs": [],
   "source": []
  }
 ],
 "metadata": {
  "kernelspec": {
   "display_name": "Python 3",
   "language": "python",
   "name": "python3"
  },
  "language_info": {
   "codemirror_mode": {
    "name": "ipython",
    "version": 3
   },
   "file_extension": ".py",
   "mimetype": "text/x-python",
   "name": "python",
   "nbconvert_exporter": "python",
   "pygments_lexer": "ipython3",
   "version": "3.6.4"
  }
 },
 "nbformat": 4,
 "nbformat_minor": 2
}
