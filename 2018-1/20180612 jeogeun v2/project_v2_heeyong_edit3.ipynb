{
 "cells": [
  {
   "cell_type": "markdown",
   "metadata": {},
   "source": [
    "# no normalizing version\n"
   ]
  },
  {
   "cell_type": "code",
   "execution_count": 1,
   "metadata": {},
   "outputs": [],
   "source": [
    "import numpy as np\n",
    "import pandas as pd\n",
    "import matplotlib.pyplot as plt"
   ]
  },
  {
   "cell_type": "code",
   "execution_count": 2,
   "metadata": {},
   "outputs": [],
   "source": [
    "data = np.genfromtxt('data_dep_v2.txt')\n",
    "\n",
    "np.random.seed(12)\n",
    "np.random.shuffle(data)\n",
    "\n",
    "X = data[:,0:6]\n",
    "Y = data[:,6]\n",
    "dfX=pd.DataFrame(X)\n",
    "dfy=pd.DataFrame(Y)\n",
    "\n",
    "table=pd.concat([dfX, dfy], axis=1)\n",
    "table.columns=['SiH4','N2O','Temp','Pressure','RF Power','Time','dep.rate(nano)']"
   ]
  },
  {
   "cell_type": "code",
   "execution_count": 3,
   "metadata": {},
   "outputs": [
    {
     "name": "stdout",
     "output_type": "stream",
     "text": [
      "     SiH4     N2O   Temp  Pressure  RF Power   Time  dep.rate(nano)\n",
      "0   833.0   167.0  375.0      1.80     150.0   45.0           10.05\n",
      "1   400.0   900.0  200.0      0.25     150.0  157.0            3.62\n",
      "2   200.0   400.0  200.0      1.80      20.0  187.0            3.04\n",
      "3   200.0   400.0  200.0      0.25     150.0  192.0            2.87\n",
      "4   200.0   400.0  400.0      1.80     150.0  281.0            1.73\n",
      "5   200.0   900.0  400.0      1.80      20.0  180.0            2.68\n",
      "6   400.0   900.0  150.0      1.80      80.0  128.0            4.09\n",
      "7   300.0   650.0  300.0      1.03      85.0  115.0            4.33\n",
      "8   400.0   900.0  400.0      0.25      20.0  600.0            0.56\n",
      "9   909.0    91.0  375.0      1.80     150.0   40.0           10.64\n",
      "10  200.0   900.0  400.0      0.25     150.0  243.0            2.22\n",
      "11  400.0   400.0  200.0      0.25      20.0  381.0            1.39\n",
      "12  400.0   400.0  400.0      1.80      20.0  111.0            4.60\n",
      "13  400.0   400.0  400.0      0.25     150.0  134.0            4.54\n",
      "14  400.0   400.0  200.0      1.80     150.0  136.0            3.52\n",
      "15  400.0   900.0  250.0      0.50     150.0  110.0            4.91\n",
      "16  400.0   900.0  150.0      0.50      20.0  220.0            2.10\n",
      "17  400.0   900.0  200.0      1.80     150.0  126.0            3.96\n",
      "18  400.0   900.0  200.0      1.10      20.0  154.0            3.75\n",
      "19  300.0   650.0  300.0      1.03      85.0  115.0            4.28\n",
      "20  200.0   900.0  200.0      1.80     150.0  261.0            1.96\n",
      "21  200.0   900.0  200.0      0.25      20.0  569.0            1.01\n",
      "22  700.0  1400.0  375.0      1.80     150.0   35.0            8.13\n",
      "23  400.0   900.0  250.0      1.80      20.0  155.0            3.51\n",
      "24  400.0   900.0  200.0      1.80      20.0  180.0            2.42\n",
      "25  400.0   900.0  400.0      1.80     150.0  123.0            4.26\n"
     ]
    }
   ],
   "source": [
    "print(table)"
   ]
  },
  {
   "cell_type": "code",
   "execution_count": 4,
   "metadata": {},
   "outputs": [],
   "source": [
    "from sklearn.metrics import mean_squared_error\n",
    "\n",
    "\n",
    "\n",
    "\n",
    "def test_1(func, x, y, k) :\n",
    "    \n",
    "    L = x.shape[0]\n",
    "       \n",
    "    if k >= L :\n",
    "        print('error\\n')\n",
    "        return -1\n",
    "    \n",
    "    d = int(L/k)\n",
    "      \n",
    "    mse = 0.0\n",
    "    \n",
    "    for i in range(0,d) :\n",
    "        \n",
    "        x_test = x[i*k:(i+1)*k]\n",
    "        y_test = y[i*k:(i+1)*k]\n",
    "        \n",
    "        x_train = np.concatenate([x[0 : i*k], x[(i+1)*k : L]], axis=0)\n",
    "        y_train = np.concatenate([y[0 : i*k], y[(i+1)*k : L]], axis=0)\n",
    "        \n",
    "        func.fit(x_train, y_train)\n",
    "        print(\"%d MSE : %f\" %(i+1,mean_squared_error(y_test, func.predict(x_test))))\n",
    "        mse = mse + mean_squared_error(y_test, func.predict(x_test))\n",
    "        \n",
    "    x_test = x[d*k:L]\n",
    "    y_test = y[d*k:L]\n",
    "    x_train = x[0:d*k]\n",
    "    y_train = y[0:d*k]\n",
    "    \n",
    "    func.fit(x_train, y_train)\n",
    "    print(\"%d MSE : %f\"%(d+1, mean_squared_error(y_test, func.predict(x_test))))\n",
    "    mse = mse + mean_squared_error(y_test, func.predict(x_test))\n",
    "    \n",
    "    return mse/(d+1)\n",
    "\n",
    "def test_2(func, x, y) :\n",
    "    \n",
    "    L = x.shape[0]\n",
    "      \n",
    "    x_test = x[0:L - 5]\n",
    "    y_test = y[0:L - 5]\n",
    "    x_train = x[L-5:L]\n",
    "    y_train = y[L-5:L]\n",
    "    \n",
    "    func.fit(x_train, y_train)\n",
    "    print(\"MSE : %f\"%( mean_squared_error(y_test, func.predict(x_test))))\n",
    "    mse = mean_squared_error(y_test, func.predict(x_test))\n",
    "    \n",
    "    return mse\n",
    "\n",
    "\n",
    "\n",
    "X_train = X\n",
    "Y_train = Y"
   ]
  },
  {
   "cell_type": "markdown",
   "metadata": {},
   "source": [
    "## Linear_regression"
   ]
  },
  {
   "cell_type": "markdown",
   "metadata": {},
   "source": [
    "### Multivariate regression  "
   ]
  },
  {
   "cell_type": "code",
   "execution_count": 5,
   "metadata": {},
   "outputs": [
    {
     "name": "stdout",
     "output_type": "stream",
     "text": [
      "1 MSE : 0.745490\n",
      "2 MSE : 0.689580\n",
      "3 MSE : 0.969179\n",
      "4 MSE : 0.380060\n",
      "5 MSE : 2.221112\n",
      "6 MSE : 0.530656\n",
      "MSE: 0.9227\n"
     ]
    }
   ],
   "source": [
    "from sklearn import linear_model\n",
    "\n",
    "MulReg=linear_model.LinearRegression()\n",
    "\n",
    "mse = test_1(MulReg, X_train, Y_train, k = 5)\n",
    "\n",
    "\n",
    "print(\"MSE: %.4f\" % mse)"
   ]
  },
  {
   "cell_type": "markdown",
   "metadata": {},
   "source": [
    "### Ridge Regression (Linear least squares with l2 regularization)"
   ]
  },
  {
   "cell_type": "code",
   "execution_count": 6,
   "metadata": {},
   "outputs": [
    {
     "name": "stdout",
     "output_type": "stream",
     "text": [
      "1 MSE : 0.745555\n",
      "2 MSE : 0.689629\n",
      "3 MSE : 0.966624\n",
      "4 MSE : 0.380184\n",
      "5 MSE : 2.219479\n",
      "6 MSE : 0.528627\n",
      "MSE: 0.9217\n"
     ]
    }
   ],
   "source": [
    "ridge = linear_model.Ridge(alpha=0.35)\n",
    "\n",
    "mse = test_1(ridge, X_train, Y_train, k = 5)\n",
    "\n",
    "print(\"MSE: %.4f\" % mse)"
   ]
  },
  {
   "cell_type": "markdown",
   "metadata": {},
   "source": [
    "### Lasso Regression (Linear least squares with l1 regularization)"
   ]
  },
  {
   "cell_type": "code",
   "execution_count": 7,
   "metadata": {},
   "outputs": [
    {
     "name": "stdout",
     "output_type": "stream",
     "text": [
      "1 MSE : 0.744219\n",
      "2 MSE : 0.695555\n",
      "3 MSE : 0.930884\n",
      "4 MSE : 0.388015\n",
      "5 MSE : 2.182488\n",
      "6 MSE : 0.468580\n",
      "MSE: 0.9016\n"
     ]
    }
   ],
   "source": [
    "lasso = linear_model.Lasso(alpha=0.35)\n",
    "\n",
    "\n",
    "mse = test_1(lasso, X_train, Y_train, k = 5)\n",
    "\n",
    "\n",
    "print(\"MSE: %.4f\" % mse)"
   ]
  },
  {
   "cell_type": "markdown",
   "metadata": {},
   "source": [
    "# Support Vecter Regression\n",
    "\n"
   ]
  },
  {
   "cell_type": "markdown",
   "metadata": {},
   "source": [
    "### *가장 낮은 MSE값을 가지는 C와 kernel을 선택"
   ]
  },
  {
   "cell_type": "code",
   "execution_count": 8,
   "metadata": {},
   "outputs": [],
   "source": [
    "import numpy as np\n",
    "from sklearn.svm import SVR"
   ]
  },
  {
   "cell_type": "code",
   "execution_count": 9,
   "metadata": {},
   "outputs": [
    {
     "name": "stdout",
     "output_type": "stream",
     "text": [
      "MSE : 31.554629\n",
      "kernel: linear \n",
      " C: 0.01 \n",
      " MSE:  31.5546287277 \n",
      " epsilon: 0.001 \n",
      " -------------------------\n",
      "MSE : 30.680402\n",
      "kernel: linear \n",
      " C: 0.01 \n",
      " MSE:  30.6804015226 \n",
      " epsilon: 0.01 \n",
      " -------------------------\n",
      "MSE : 22.655434\n",
      "kernel: linear \n",
      " C: 0.01 \n",
      " MSE:  22.6554339569 \n",
      " epsilon: 0.1 \n",
      " -------------------------\n",
      "MSE : 5.877662\n",
      "kernel: rbf \n",
      " C: 0.01 \n",
      " MSE:  5.87766190476 \n",
      " epsilon: 0.001 \n",
      " -------------------------\n",
      "MSE : 5.877662\n",
      "kernel: rbf \n",
      " C: 0.01 \n",
      " MSE:  5.87766190476 \n",
      " epsilon: 0.01 \n",
      " -------------------------\n",
      "MSE : 5.877662\n",
      "kernel: rbf \n",
      " C: 0.01 \n",
      " MSE:  5.87766190476 \n",
      " epsilon: 0.1 \n",
      " -------------------------\n",
      "MSE : 5.877662\n",
      "kernel: sigmoid \n",
      " C: 0.01 \n",
      " MSE:  5.87766190476 \n",
      " epsilon: 0.001 \n",
      " -------------------------\n",
      "MSE : 5.877662\n",
      "kernel: sigmoid \n",
      " C: 0.01 \n",
      " MSE:  5.87766190476 \n",
      " epsilon: 0.01 \n",
      " -------------------------\n",
      "MSE : 5.877662\n",
      "kernel: sigmoid \n",
      " C: 0.01 \n",
      " MSE:  5.87766190476 \n",
      " epsilon: 0.1 \n",
      " -------------------------\n",
      "MSE : 31.554629\n",
      "kernel: linear \n",
      " C: 0.1 \n",
      " MSE:  31.5546287277 \n",
      " epsilon: 0.001 \n",
      " -------------------------\n",
      "MSE : 30.680402\n",
      "kernel: linear \n",
      " C: 0.1 \n",
      " MSE:  30.6804015226 \n",
      " epsilon: 0.01 \n",
      " -------------------------\n",
      "MSE : 22.655434\n",
      "kernel: linear \n",
      " C: 0.1 \n",
      " MSE:  22.6554339569 \n",
      " epsilon: 0.1 \n",
      " -------------------------\n",
      "MSE : 5.877662\n",
      "kernel: rbf \n",
      " C: 0.1 \n",
      " MSE:  5.87766190476 \n",
      " epsilon: 0.001 \n",
      " -------------------------\n",
      "MSE : 5.877662\n",
      "kernel: rbf \n",
      " C: 0.1 \n",
      " MSE:  5.87766190476 \n",
      " epsilon: 0.01 \n",
      " -------------------------\n",
      "MSE : 5.877662\n",
      "kernel: rbf \n",
      " C: 0.1 \n",
      " MSE:  5.87766190476 \n",
      " epsilon: 0.1 \n",
      " -------------------------\n",
      "MSE : 5.877662\n",
      "kernel: sigmoid \n",
      " C: 0.1 \n",
      " MSE:  5.87766190476 \n",
      " epsilon: 0.001 \n",
      " -------------------------\n",
      "MSE : 5.877662\n",
      "kernel: sigmoid \n",
      " C: 0.1 \n",
      " MSE:  5.87766190476 \n",
      " epsilon: 0.01 \n",
      " -------------------------\n",
      "MSE : 5.877662\n",
      "kernel: sigmoid \n",
      " C: 0.1 \n",
      " MSE:  5.87766190476 \n",
      " epsilon: 0.1 \n",
      " -------------------------\n",
      "MSE : 31.554629\n",
      "kernel: linear \n",
      " C: 1 \n",
      " MSE:  31.5546287277 \n",
      " epsilon: 0.001 \n",
      " -------------------------\n",
      "MSE : 30.680402\n",
      "kernel: linear \n",
      " C: 1 \n",
      " MSE:  30.6804015226 \n",
      " epsilon: 0.01 \n",
      " -------------------------\n",
      "MSE : 22.655434\n",
      "kernel: linear \n",
      " C: 1 \n",
      " MSE:  22.6554339569 \n",
      " epsilon: 0.1 \n",
      " -------------------------\n",
      "MSE : 5.967767\n",
      "kernel: rbf \n",
      " C: 1 \n",
      " MSE:  5.96776709524 \n",
      " epsilon: 0.001 \n",
      " -------------------------\n",
      "MSE : 5.970495\n",
      "kernel: rbf \n",
      " C: 1 \n",
      " MSE:  5.9704952381 \n",
      " epsilon: 0.01 \n",
      " -------------------------\n",
      "MSE : 5.998767\n",
      "kernel: rbf \n",
      " C: 1 \n",
      " MSE:  5.99876666667 \n",
      " epsilon: 0.1 \n",
      " -------------------------\n",
      "MSE : 5.877662\n",
      "kernel: sigmoid \n",
      " C: 1 \n",
      " MSE:  5.87766190476 \n",
      " epsilon: 0.001 \n",
      " -------------------------\n",
      "MSE : 5.877662\n",
      "kernel: sigmoid \n",
      " C: 1 \n",
      " MSE:  5.87766190476 \n",
      " epsilon: 0.01 \n",
      " -------------------------\n",
      "MSE : 5.877662\n",
      "kernel: sigmoid \n",
      " C: 1 \n",
      " MSE:  5.87766190476 \n",
      " epsilon: 0.1 \n",
      " -------------------------\n",
      "MSE : 31.554629\n",
      "kernel: linear \n",
      " C: 10 \n",
      " MSE:  31.5546287277 \n",
      " epsilon: 0.001 \n",
      " -------------------------\n",
      "MSE : 30.680402\n",
      "kernel: linear \n",
      " C: 10 \n",
      " MSE:  30.6804015226 \n",
      " epsilon: 0.01 \n",
      " -------------------------\n",
      "MSE : 22.655434\n",
      "kernel: linear \n",
      " C: 10 \n",
      " MSE:  22.6554339569 \n",
      " epsilon: 0.1 \n",
      " -------------------------\n",
      "MSE : 5.762664\n",
      "kernel: rbf \n",
      " C: 10 \n",
      " MSE:  5.76266358286 \n",
      " epsilon: 0.001 \n",
      " -------------------------\n",
      "MSE : 5.762727\n",
      "kernel: rbf \n",
      " C: 10 \n",
      " MSE:  5.76272685714 \n",
      " epsilon: 0.01 \n",
      " -------------------------\n",
      "MSE : 5.763716\n",
      "kernel: rbf \n",
      " C: 10 \n",
      " MSE:  5.763716 \n",
      " epsilon: 0.1 \n",
      " -------------------------\n",
      "MSE : 5.877662\n",
      "kernel: sigmoid \n",
      " C: 10 \n",
      " MSE:  5.87766190476 \n",
      " epsilon: 0.001 \n",
      " -------------------------\n",
      "MSE : 5.877662\n",
      "kernel: sigmoid \n",
      " C: 10 \n",
      " MSE:  5.87766190476 \n",
      " epsilon: 0.01 \n",
      " -------------------------\n",
      "MSE : 5.877662\n",
      "kernel: sigmoid \n",
      " C: 10 \n",
      " MSE:  5.87766190476 \n",
      " epsilon: 0.1 \n",
      " -------------------------\n",
      "MSE : 31.554629\n",
      "kernel: linear \n",
      " C: 100 \n",
      " MSE:  31.5546287277 \n",
      " epsilon: 0.001 \n",
      " -------------------------\n",
      "MSE : 30.680402\n",
      "kernel: linear \n",
      " C: 100 \n",
      " MSE:  30.6804015226 \n",
      " epsilon: 0.01 \n",
      " -------------------------\n",
      "MSE : 22.655434\n",
      "kernel: linear \n",
      " C: 100 \n",
      " MSE:  22.6554339569 \n",
      " epsilon: 0.1 \n",
      " -------------------------\n",
      "MSE : 5.762664\n",
      "kernel: rbf \n",
      " C: 100 \n",
      " MSE:  5.76266358286 \n",
      " epsilon: 0.001 \n",
      " -------------------------\n",
      "MSE : 5.762727\n",
      "kernel: rbf \n",
      " C: 100 \n",
      " MSE:  5.76272685714 \n",
      " epsilon: 0.01 \n",
      " -------------------------\n",
      "MSE : 5.763716\n",
      "kernel: rbf \n",
      " C: 100 \n",
      " MSE:  5.763716 \n",
      " epsilon: 0.1 \n",
      " -------------------------\n",
      "MSE : 5.877662\n",
      "kernel: sigmoid \n",
      " C: 100 \n",
      " MSE:  5.87766190476 \n",
      " epsilon: 0.001 \n",
      " -------------------------\n",
      "MSE : 5.877662\n",
      "kernel: sigmoid \n",
      " C: 100 \n",
      " MSE:  5.87766190476 \n",
      " epsilon: 0.01 \n",
      " -------------------------\n",
      "MSE : 5.877662\n",
      "kernel: sigmoid \n",
      " C: 100 \n",
      " MSE:  5.87766190476 \n",
      " epsilon: 0.1 \n",
      " -------------------------\n"
     ]
    }
   ],
   "source": [
    "for c in [0.01,0.1,1,10,100]:\n",
    "    for i in [\"linear\",\"rbf\",\"sigmoid\"]:\n",
    "        for e in [0.001,0.01,0.1]:\n",
    "            svr_ck = SVR(kernel=i, C=c, epsilon=e)\n",
    "            \n",
    "            mse = test_2(svr_ck, X_train, Y_train)\n",
    "            \n",
    "            print(\"kernel:\",i,\"\\n\",\"C:\",c,\"\\n\",\"MSE: \",mse,\"\\n\",\"epsilon:\",e,\"\\n\" ,\"-\"*25)"
   ]
  },
  {
   "cell_type": "markdown",
   "metadata": {},
   "source": [
    "### rbf kernel?"
   ]
  },
  {
   "cell_type": "code",
   "execution_count": 10,
   "metadata": {},
   "outputs": [],
   "source": [
    "import numpy as np\n",
    "from sklearn.svm import SVR"
   ]
  },
  {
   "cell_type": "code",
   "execution_count": 11,
   "metadata": {},
   "outputs": [
    {
     "name": "stdout",
     "output_type": "stream",
     "text": [
      "1 MSE : 9.030690\n",
      "2 MSE : 11.815228\n",
      "3 MSE : 2.186680\n",
      "4 MSE : 0.853981\n",
      "5 MSE : 6.530772\n",
      "6 MSE : 0.174216\n",
      "MSE: 5.0986\n"
     ]
    }
   ],
   "source": [
    "svr_rbf = SVR(kernel='rbf', C=1e3, gamma=0.1)\n",
    "\n",
    "mse = test_1(svr_rbf, X_train, Y_train, k = 5)\n",
    "\n",
    "\n",
    "print(\"MSE: %.4f\" % mse)"
   ]
  },
  {
   "cell_type": "markdown",
   "metadata": {},
   "source": [
    "### poly kernel "
   ]
  },
  {
   "cell_type": "code",
   "execution_count": 12,
   "metadata": {},
   "outputs": [],
   "source": [
    "#svr_poly = SVR(kernel='poly', C=1e3, gamma=0.1)\n",
    "\n",
    "#mse = test_1(svr_poly, X_train, Y_train, k = 5)\n",
    "\n",
    "\n",
    "#print(\"MSE: %.4f\" % mse)"
   ]
  },
  {
   "cell_type": "markdown",
   "metadata": {},
   "source": [
    "### sigmoid kernel"
   ]
  },
  {
   "cell_type": "code",
   "execution_count": 13,
   "metadata": {},
   "outputs": [
    {
     "name": "stdout",
     "output_type": "stream",
     "text": [
      "1 MSE : 9.013160\n",
      "2 MSE : 12.145945\n",
      "3 MSE : 1.757360\n",
      "4 MSE : 1.024345\n",
      "5 MSE : 6.369825\n",
      "6 MSE : 0.483025\n",
      "MSE: 5.1323\n"
     ]
    }
   ],
   "source": [
    "svr_sigmoid = SVR(kernel='sigmoid', C=1e3, gamma=0.1)\n",
    "\n",
    "mse = test_1(svr_sigmoid, X_train, Y_train, k = 5)\n",
    "\n",
    "\n",
    "print(\"MSE: %.4f\" % mse)"
   ]
  },
  {
   "cell_type": "markdown",
   "metadata": {},
   "source": [
    "### no kernel?\n"
   ]
  },
  {
   "cell_type": "code",
   "execution_count": 14,
   "metadata": {},
   "outputs": [],
   "source": [
    "#svr_lin = SVR(kernel='linear', C=1e2)\n",
    "\n",
    "\n",
    "#mse = test_1(svr_lin, X_train, Y_train, k = 5)\n",
    "\n",
    "\n",
    "#print(\"MSE: %.4f\" % mse)"
   ]
  },
  {
   "cell_type": "markdown",
   "metadata": {},
   "source": [
    "## Kernel Ridge Regression "
   ]
  },
  {
   "cell_type": "code",
   "execution_count": 15,
   "metadata": {},
   "outputs": [
    {
     "name": "stdout",
     "output_type": "stream",
     "text": [
      "1 MSE : 0.848610\n",
      "2 MSE : 0.831961\n",
      "3 MSE : 0.544645\n",
      "4 MSE : 0.384094\n",
      "5 MSE : 1.947071\n",
      "6 MSE : 0.869312\n",
      "MSE(linear): 0.9043\n",
      "\n",
      "1 MSE : 26.915660\n",
      "2 MSE : 28.445960\n",
      "3 MSE : 12.204500\n",
      "4 MSE : 12.547085\n",
      "5 MSE : 17.827020\n",
      "6 MSE : 18.147600\n",
      "MSE(rbf): 19.3480\n",
      "\n",
      "1 MSE : 18.188351\n",
      "2 MSE : 111.132252\n",
      "3 MSE : 117.162871\n",
      "4 MSE : 3.019767\n",
      "5 MSE : 257.975849\n",
      "6 MSE : 0.022484\n",
      "MSE(poly): 84.5836\n",
      "\n"
     ]
    }
   ],
   "source": [
    "from sklearn.kernel_ridge import KernelRidge\n",
    "\n",
    "\n",
    "kr_linear = KernelRidge(kernel='linear', gamma=0.1)\n",
    "kr_rbf = KernelRidge(kernel='rbf', gamma=0.1)\n",
    "kr_poly = KernelRidge(kernel='poly', gamma=0.1)\n",
    "\n",
    "\n",
    "\n",
    "\n",
    "mse = test_1(kr_linear, X_train, Y_train, k = 5)\n",
    "print(\"MSE(linear): %.4f\\n\" % mse)\n",
    "mse = test_1(kr_rbf, X_train, Y_train, k = 5)\n",
    "print(\"MSE(rbf): %.4f\\n\" % mse)\n",
    "mse = test_1(kr_poly, X_train, Y_train, k = 5)\n",
    "print(\"MSE(poly): %.4f\\n\" % mse)"
   ]
  },
  {
   "cell_type": "markdown",
   "metadata": {},
   "source": [
    "## Decision Tree Regression\n",
    "### basic"
   ]
  },
  {
   "cell_type": "code",
   "execution_count": 16,
   "metadata": {},
   "outputs": [],
   "source": [
    "import numpy as np\n",
    "from sklearn.tree import DecisionTreeRegressor"
   ]
  },
  {
   "cell_type": "code",
   "execution_count": 17,
   "metadata": {},
   "outputs": [
    {
     "name": "stdout",
     "output_type": "stream",
     "text": [
      "1 MSE : 0.167902\n",
      "2 MSE : 1.386256\n",
      "3 MSE : 0.198410\n",
      "4 MSE : 0.119245\n",
      "5 MSE : 1.489790\n",
      "6 MSE : 0.000400\n",
      "MSE: 0.5603\n"
     ]
    }
   ],
   "source": [
    "regr_1 = DecisionTreeRegressor(max_depth=4)\n",
    "\n",
    "mse = test_1(regr_1, X_train, Y_train, k = 5)\n",
    "\n",
    "print(\"MSE: %.4f\" % mse)\n",
    "\n"
   ]
  },
  {
   "cell_type": "markdown",
   "metadata": {},
   "source": [
    "### with AdaBoost"
   ]
  },
  {
   "cell_type": "code",
   "execution_count": 18,
   "metadata": {},
   "outputs": [],
   "source": [
    "import numpy as np\n",
    "from sklearn.tree import DecisionTreeRegressor\n",
    "from sklearn.ensemble import AdaBoostRegressor"
   ]
  },
  {
   "cell_type": "code",
   "execution_count": 19,
   "metadata": {},
   "outputs": [
    {
     "name": "stdout",
     "output_type": "stream",
     "text": [
      "1 MSE : 0.245422\n",
      "2 MSE : 0.127520\n",
      "3 MSE : 0.120703\n",
      "4 MSE : 0.129513\n",
      "5 MSE : 0.836134\n",
      "6 MSE : 0.013225\n",
      "MSE: 0.2454\n"
     ]
    }
   ],
   "source": [
    "rng = np.random.RandomState(1)\n",
    "\n",
    "\n",
    "regr_2 = AdaBoostRegressor(DecisionTreeRegressor(max_depth=4),\n",
    "                           n_estimators=300, random_state=rng)\n",
    "\n",
    "\n",
    "mse = test_1(regr_2, X_train, Y_train, k = 5)\n",
    "\n",
    "\n",
    "print(\"MSE: %.4f\" % mse)\n",
    "\n",
    "\n"
   ]
  },
  {
   "cell_type": "markdown",
   "metadata": {},
   "source": [
    "## Gradient Boosting Regression"
   ]
  },
  {
   "cell_type": "code",
   "execution_count": 20,
   "metadata": {},
   "outputs": [],
   "source": [
    "from sklearn import ensemble"
   ]
  },
  {
   "cell_type": "code",
   "execution_count": 21,
   "metadata": {},
   "outputs": [
    {
     "name": "stdout",
     "output_type": "stream",
     "text": [
      "1 MSE : 0.114514\n",
      "2 MSE : 0.409855\n",
      "3 MSE : 0.153836\n",
      "4 MSE : 0.163267\n",
      "5 MSE : 0.226841\n",
      "6 MSE : 0.012582\n",
      "MSE: 0.1801\n"
     ]
    }
   ],
   "source": [
    "params = {'n_estimators': 500, 'max_depth': 6, 'min_samples_split': 4,\n",
    "          'learning_rate': 0.005, 'loss': 'ls'}\n",
    "\n",
    "GBR = ensemble.GradientBoostingRegressor(**params)\n",
    "\n",
    "\n",
    "\n",
    "mse = test_1(GBR, X_train, Y_train, k = 5)\n",
    "\n",
    "print(\"MSE: %.4f\" % mse)"
   ]
  },
  {
   "cell_type": "code",
   "execution_count": null,
   "metadata": {},
   "outputs": [],
   "source": []
  },
  {
   "cell_type": "code",
   "execution_count": null,
   "metadata": {},
   "outputs": [],
   "source": []
  },
  {
   "cell_type": "code",
   "execution_count": null,
   "metadata": {},
   "outputs": [],
   "source": []
  },
  {
   "cell_type": "code",
   "execution_count": null,
   "metadata": {},
   "outputs": [],
   "source": []
  },
  {
   "cell_type": "code",
   "execution_count": null,
   "metadata": {},
   "outputs": [],
   "source": []
  },
  {
   "cell_type": "code",
   "execution_count": null,
   "metadata": {},
   "outputs": [],
   "source": []
  }
 ],
 "metadata": {
  "kernelspec": {
   "display_name": "Python 3",
   "language": "python",
   "name": "python3"
  },
  "language_info": {
   "codemirror_mode": {
    "name": "ipython",
    "version": 3
   },
   "file_extension": ".py",
   "mimetype": "text/x-python",
   "name": "python",
   "nbconvert_exporter": "python",
   "pygments_lexer": "ipython3",
   "version": "3.5.2"
  }
 },
 "nbformat": 4,
 "nbformat_minor": 2
}
