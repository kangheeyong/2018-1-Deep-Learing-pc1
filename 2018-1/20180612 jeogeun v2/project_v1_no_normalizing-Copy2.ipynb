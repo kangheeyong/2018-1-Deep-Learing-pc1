{
 "cells": [
  {
   "cell_type": "markdown",
   "metadata": {},
   "source": [
    "# no normalizing version\n"
   ]
  },
  {
   "cell_type": "code",
   "execution_count": 1,
   "metadata": {},
   "outputs": [],
   "source": [
    "import numpy as np\n",
    "import pandas as pd\n",
    "import matplotlib.pyplot as plt"
   ]
  },
  {
   "cell_type": "code",
   "execution_count": 2,
   "metadata": {},
   "outputs": [],
   "source": [
    "data = np.genfromtxt('data_normal.txt')\n",
    "\n",
    "np.random.seed(4)\n",
    "np.random.shuffle(data)\n",
    "\n",
    "X = data[:,0:6]\n",
    "Y = data[:,6:16]\n",
    "dfX=pd.DataFrame(X)\n",
    "dfy=pd.DataFrame(Y)\n",
    "\n",
    "table=pd.concat([dfX, dfy], axis=1)\n",
    "table.columns=['SiH4','N2O','Temp','Pressure','RF Power','Time','Thickness','Depo. Rate','Uniformity','Ref. Index','Permittivity','Etch Rate','Stress','H2O','SiOH']"
   ]
  },
  {
   "cell_type": "code",
   "execution_count": 3,
   "metadata": {
    "scrolled": true
   },
   "outputs": [
    {
     "name": "stdout",
     "output_type": "stream",
     "text": [
      "     SiH4    N2O   Temp  Pressure  RF Power   Time  Thickness  Depo. Rate  \\\n",
      "0   200.0  400.0  400.0      1.80     150.0  281.0       4.86       173.0   \n",
      "1   300.0  650.0  300.0      1.03      85.0  115.0       4.98       433.0   \n",
      "2   400.0  400.0  200.0      0.25      20.0  381.0       5.29       139.0   \n",
      "3   200.0  900.0  200.0      0.25      20.0  569.0       5.75       101.0   \n",
      "4   300.0  650.0  300.0      1.03      85.0  115.0       4.96       432.0   \n",
      "5   200.0  400.0  400.0      0.25      20.0  468.0       5.76       123.0   \n",
      "6   200.0  400.0  200.0      0.25     150.0  192.0       5.52       287.0   \n",
      "7   200.0  900.0  400.0      0.25     150.0  243.0       5.39       222.0   \n",
      "8   400.0  400.0  200.0      1.80     150.0  136.0       4.80       352.0   \n",
      "9   200.0  900.0  200.0      1.80     150.0  261.0       5.12       196.0   \n",
      "10  400.0  900.0  400.0      1.80     150.0  123.0       5.24       426.0   \n",
      "11  300.0  650.0  300.0      1.03      85.0  115.0       4.92       428.0   \n",
      "12  400.0  400.0  400.0      0.25     150.0  134.0       6.09       454.0   \n",
      "13  400.0  900.0  400.0      0.25      20.0  600.0       3.36        56.0   \n",
      "14  200.0  400.0  200.0      1.80      20.0  187.0       5.69       304.0   \n",
      "15  400.0  900.0  200.0      1.80      20.0  180.0       4.36       242.0   \n",
      "16  400.0  400.0  400.0      1.80      20.0  111.0       5.10       460.0   \n",
      "17  400.0  900.0  200.0      0.25     150.0  157.0       5.68       362.0   \n",
      "18  200.0  900.0  400.0      1.80      20.0  180.0       4.83       268.0   \n",
      "\n",
      "    Uniformity  Ref. Index  Permittivity  Etch Rate  Stress   H2O  SiOH  \n",
      "0         2.88       1.465          4.19      540.0  -275.1  1.32  3.07  \n",
      "1         1.00       1.462          4.34      330.0  -411.9  2.37  4.43  \n",
      "2         1.13       1.458          7.15    15820.0  -145.8  6.90  6.37  \n",
      "3         4.52       1.424         10.32    38130.0  -122.8  6.62  7.16  \n",
      "4         1.41       1.462          4.33      300.0  -403.7  1.84  4.24  \n",
      "5         9.40       1.467          5.18     4680.0  -313.8  3.18  4.86  \n",
      "6         3.80       1.452          7.64    31130.0  -173.2  4.41  7.53  \n",
      "7        17.63       1.470          4.23      620.0  -309.2  1.22  4.98  \n",
      "8         0.42       1.459          4.67     1280.0  -259.1  2.61  8.54  \n",
      "9         1.37       1.463          4.99     1630.0  -187.6  2.32  4.82  \n",
      "10        3.24       1.461          4.21      760.0  -371.5  2.02  2.36  \n",
      "11        1.42       1.461          4.32     1030.0  -407.4  2.10  4.01  \n",
      "12       15.11       1.471          4.42     1240.0  -345.2  0.95  5.00  \n",
      "13        2.08       1.467          6.04     6630.0  -231.3  3.26  6.12  \n",
      "14       11.34       1.464          7.71     1400.0   -32.3  1.18  2.98  \n",
      "15       12.39       1.462          5.63     2650.0  -111.1  1.06  3.03  \n",
      "16        6.67       1.459          4.36     1070.0  -121.5  1.79  5.21  \n",
      "17       13.38       1.451          7.60     4390.0  -246.0  5.92  6.59  \n",
      "18        1.45       1.452          4.30     1130.0  -178.4  1.74  4.77  \n"
     ]
    }
   ],
   "source": [
    "print(table)"
   ]
  },
  {
   "cell_type": "code",
   "execution_count": 4,
   "metadata": {},
   "outputs": [],
   "source": [
    "X_train = X[0:16,:]\n",
    "Y_train = Y[0:16,0]\n",
    "X_test = X[16:19,:]\n",
    "Y_test = Y[16:19,0]"
   ]
  },
  {
   "cell_type": "markdown",
   "metadata": {},
   "source": [
    "## Gradient Boosting Regression"
   ]
  },
  {
   "cell_type": "code",
   "execution_count": 5,
   "metadata": {},
   "outputs": [],
   "source": [
    "from sklearn import ensemble\n",
    "from sklearn.metrics import mean_squared_error"
   ]
  },
  {
   "cell_type": "code",
   "execution_count": 6,
   "metadata": {},
   "outputs": [
    {
     "name": "stdout",
     "output_type": "stream",
     "text": [
      "MSE: 0.0258\n"
     ]
    }
   ],
   "source": [
    "params = {'n_estimators': 500, 'max_depth': 6, 'min_samples_split': 4,\n",
    "          'learning_rate': 0.005, 'loss': 'ls'}\n",
    "\n",
    "GBR = ensemble.GradientBoostingRegressor(**params)\n",
    "\n",
    "GBR.fit(X_train, Y_train)\n",
    "mse = mean_squared_error(Y_test, GBR.predict(X_test))\n",
    "print(\"MSE: %.4f\" % mse)\n",
    "\n"
   ]
  },
  {
   "cell_type": "code",
   "execution_count": 7,
   "metadata": {},
   "outputs": [
    {
     "name": "stdout",
     "output_type": "stream",
     "text": [
      "[5.1  5.68 4.83]\n",
      "[5.03840208 5.9482079  4.86996726]\n"
     ]
    }
   ],
   "source": [
    "print(Y_test)\n",
    "print(GBR.predict(X_test))"
   ]
  },
  {
   "cell_type": "markdown",
   "metadata": {},
   "source": [
    "## Support Vecter Regression\n",
    "\n",
    "### rbf kernel?\n"
   ]
  },
  {
   "cell_type": "code",
   "execution_count": 8,
   "metadata": {},
   "outputs": [],
   "source": [
    "import numpy as np\n",
    "from sklearn.svm import SVR"
   ]
  },
  {
   "cell_type": "code",
   "execution_count": 9,
   "metadata": {},
   "outputs": [
    {
     "name": "stdout",
     "output_type": "stream",
     "text": [
      "MSE: 0.1307\n"
     ]
    }
   ],
   "source": [
    "svr_rbf = SVR(kernel='rbf', C=1e3, gamma=0.1)\n",
    "\n",
    "svr_rbf.fit(X_train, Y_train)\n",
    "mse = mean_squared_error(Y_test, svr_rbf.predict(X_test))\n",
    "print(\"MSE: %.4f\" % mse)"
   ]
  },
  {
   "cell_type": "code",
   "execution_count": 10,
   "metadata": {},
   "outputs": [
    {
     "name": "stdout",
     "output_type": "stream",
     "text": [
      "[5.1  5.68 4.83]\n",
      "[5.13307692 5.13307692 5.13307692]\n"
     ]
    }
   ],
   "source": [
    "print(Y_test)\n",
    "print(svr_rbf.predict(X_test))"
   ]
  },
  {
   "cell_type": "markdown",
   "metadata": {},
   "source": [
    "### no kernel?\n"
   ]
  },
  {
   "cell_type": "code",
   "execution_count": 11,
   "metadata": {},
   "outputs": [
    {
     "name": "stdout",
     "output_type": "stream",
     "text": [
      "MSE: 16769.4431\n"
     ]
    }
   ],
   "source": [
    "svr_lin = SVR(kernel='linear', C=1e3)\n",
    "\n",
    "svr_lin.fit(X_train, Y_train)\n",
    "mse = mean_squared_error(Y_test, svr_lin.predict(X_test))\n",
    "print(\"MSE: %.4f\" % mse)\n"
   ]
  },
  {
   "cell_type": "code",
   "execution_count": 12,
   "metadata": {},
   "outputs": [
    {
     "name": "stdout",
     "output_type": "stream",
     "text": [
      "[5.1  5.68 4.83]\n",
      "[ -76.9349877   113.54783365 -173.89638463]\n"
     ]
    }
   ],
   "source": [
    "print(Y_test)\n",
    "print(svr_lin.predict(X_test))"
   ]
  },
  {
   "cell_type": "markdown",
   "metadata": {},
   "source": [
    "## Decision Tree Regression\n",
    "### basic"
   ]
  },
  {
   "cell_type": "code",
   "execution_count": 13,
   "metadata": {},
   "outputs": [],
   "source": [
    "import numpy as np\n",
    "from sklearn.tree import DecisionTreeRegressor"
   ]
  },
  {
   "cell_type": "code",
   "execution_count": 14,
   "metadata": {},
   "outputs": [
    {
     "name": "stdout",
     "output_type": "stream",
     "text": [
      "MSE: 0.3122\n"
     ]
    }
   ],
   "source": [
    "regr_1 = DecisionTreeRegressor(max_depth=4)\n",
    "\n",
    "regr_1.fit(X_train, Y_train)\n",
    "mse = mean_squared_error(Y_test, regr_1.predict(X_test))\n",
    "print(\"MSE: %.4f\" % mse)\n",
    "\n"
   ]
  },
  {
   "cell_type": "code",
   "execution_count": 15,
   "metadata": {},
   "outputs": [
    {
     "name": "stdout",
     "output_type": "stream",
     "text": [
      "[5.1  5.68 4.83]\n",
      "[4.36 6.09 4.36]\n"
     ]
    }
   ],
   "source": [
    "print(Y_test)\n",
    "print(regr_1.predict(X_test))\n"
   ]
  },
  {
   "cell_type": "markdown",
   "metadata": {},
   "source": [
    "### with AdaBoost"
   ]
  },
  {
   "cell_type": "code",
   "execution_count": 16,
   "metadata": {},
   "outputs": [],
   "source": [
    "import numpy as np\n",
    "from sklearn.tree import DecisionTreeRegressor\n",
    "from sklearn.ensemble import AdaBoostRegressor"
   ]
  },
  {
   "cell_type": "code",
   "execution_count": 17,
   "metadata": {},
   "outputs": [
    {
     "name": "stdout",
     "output_type": "stream",
     "text": [
      "MSE: 0.0372\n"
     ]
    }
   ],
   "source": [
    "rng = np.random.RandomState(1)\n",
    "\n",
    "\n",
    "regr_2 = AdaBoostRegressor(DecisionTreeRegressor(max_depth=4),\n",
    "                           n_estimators=300, random_state=rng)\n",
    "regr_2.fit(X_train, Y_train)\n",
    "mse = mean_squared_error(Y_test, regr_2.predict(X_test))\n",
    "print(\"MSE: %.4f\" % mse)\n",
    "\n",
    "\n"
   ]
  },
  {
   "cell_type": "code",
   "execution_count": 18,
   "metadata": {},
   "outputs": [
    {
     "name": "stdout",
     "output_type": "stream",
     "text": [
      "[5.1  5.68 4.83]\n",
      "[4.95 5.75 5.12]\n"
     ]
    }
   ],
   "source": [
    "print(Y_test)\n",
    "print(regr_2.predict(X_test))"
   ]
  },
  {
   "cell_type": "code",
   "execution_count": null,
   "metadata": {},
   "outputs": [],
   "source": []
  },
  {
   "cell_type": "code",
   "execution_count": null,
   "metadata": {},
   "outputs": [],
   "source": []
  },
  {
   "cell_type": "code",
   "execution_count": null,
   "metadata": {},
   "outputs": [],
   "source": []
  }
 ],
 "metadata": {
  "kernelspec": {
   "display_name": "Python 3",
   "language": "python",
   "name": "python3"
  },
  "language_info": {
   "codemirror_mode": {
    "name": "ipython",
    "version": 3
   },
   "file_extension": ".py",
   "mimetype": "text/x-python",
   "name": "python",
   "nbconvert_exporter": "python",
   "pygments_lexer": "ipython3",
   "version": "3.6.4"
  }
 },
 "nbformat": 4,
 "nbformat_minor": 2
}
