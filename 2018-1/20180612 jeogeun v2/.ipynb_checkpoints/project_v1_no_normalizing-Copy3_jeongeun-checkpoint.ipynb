{
 "cells": [
  {
   "cell_type": "markdown",
   "metadata": {},
   "source": [
    "# no normalizing version\n"
   ]
  },
  {
   "cell_type": "code",
   "execution_count": 1,
   "metadata": {},
   "outputs": [],
   "source": [
    "import numpy as np\n",
    "import pandas as pd\n",
    "import matplotlib.pyplot as plt"
   ]
  },
  {
   "cell_type": "code",
   "execution_count": 2,
   "metadata": {},
   "outputs": [],
   "source": [
    "data = np.genfromtxt('data_outlier little.txt')\n",
    "\n",
    "np.random.seed(4)\n",
    "np.random.shuffle(data)\n",
    "\n",
    "X = data[:,0:6]\n",
    "Y = data[:,6:16]\n",
    "dfX=pd.DataFrame(X)\n",
    "dfy=pd.DataFrame(Y)\n",
    "\n",
    "table=pd.concat([dfX, dfy], axis=1)\n",
    "table.columns=['SiH4','N2O','Temp','Pressure','RF Power','Time','Thickness','Depo. Rate','Uniformity','Ref. Index','Permittivity','Etch Rate','Stress','H2O','SiOH']"
   ]
  },
  {
   "cell_type": "code",
   "execution_count": 3,
   "metadata": {},
   "outputs": [
    {
     "name": "stdout",
     "output_type": "stream",
     "text": [
      "     SiH4    N2O   Temp  Pressure  RF Power   Time  Thickness  Depo. Rate  \\\n",
      "0   667.0  333.0  375.0      1.80     150.0   60.0       4.49       749.0   \n",
      "1   200.0  400.0  200.0      0.25     150.0  192.0       5.52       287.0   \n",
      "2   400.0  400.0  200.0      1.80     150.0  136.0       4.80       352.0   \n",
      "3   400.0  900.0  200.0      1.10      20.0  154.0       5.78       375.0   \n",
      "4   400.0  900.0  150.0      1.80      80.0  128.0       5.23       409.0   \n",
      "5   400.0  400.0  200.0      0.25      20.0  381.0       5.29       139.0   \n",
      "6   400.0  900.0  250.0      1.10      80.0   85.0       5.01       587.0   \n",
      "7   333.0  667.0  375.0      1.80     150.0   60.0       1.98       331.0   \n",
      "8   200.0  400.0  400.0      0.25      20.0  468.0       5.76       123.0   \n",
      "9   300.0  650.0  300.0      1.03      85.0  115.0       4.98       433.0   \n",
      "10  400.0  900.0  400.0      0.25      20.0  600.0       3.36        56.0   \n",
      "11  400.0  900.0  400.0      1.80     150.0  123.0       5.24       426.0   \n",
      "12  200.0  400.0  400.0      1.80     150.0  281.0       4.86       173.0   \n",
      "13  200.0  900.0  200.0      0.25      20.0  569.0       5.75       101.0   \n",
      "14  400.0  400.0  400.0      0.25     150.0  134.0       6.09       454.0   \n",
      "15  300.0  650.0  300.0      1.03      85.0  115.0       4.96       432.0   \n",
      "16  100.0  200.0  375.0      1.80     150.0  105.0       0.79        75.0   \n",
      "17  200.0  900.0  400.0      0.25     150.0  243.0       5.39       222.0   \n",
      "18  200.0  400.0  200.0      1.80      20.0  187.0       5.69       304.0   \n",
      "19  300.0  650.0  300.0      1.03      85.0  115.0       4.92       428.0   \n",
      "20  200.0  900.0  200.0      1.80     150.0  261.0       5.12       196.0   \n",
      "21  300.0  600.0  375.0      1.80     150.0   65.0       1.95       301.0   \n",
      "22  400.0  900.0  200.0      1.80      20.0  180.0       4.36       242.0   \n",
      "23  400.0  400.0  400.0      1.80      20.0  111.0       5.10       460.0   \n",
      "24  400.0  900.0  200.0      0.25     150.0  157.0       5.68       362.0   \n",
      "25  400.0  900.0  200.0      1.80     150.0  126.0       4.99       396.0   \n",
      "26  200.0  900.0  400.0      1.80      20.0  180.0       4.83       268.0   \n",
      "27  400.0  900.0  150.0      1.10     150.0   90.0       5.14       571.0   \n",
      "\n",
      "    Uniformity  Ref. Index  Permittivity  Etch Rate  Stress   H2O  SiOH  \n",
      "0         1.34       1.458          4.23     1570.0  -510.3  2.25  8.82  \n",
      "1         3.80       1.452          7.64    31130.0  -173.2  4.41  7.53  \n",
      "2         0.42       1.459          4.67     1280.0  -259.1  2.61  8.54  \n",
      "3         1.74       1.466          6.17     3420.0   -42.0  2.97  6.28  \n",
      "4         2.88       1.454          6.64     6500.0   -16.0  3.95  4.94  \n",
      "5         1.13       1.458          7.15    15820.0  -145.8  6.90  6.37  \n",
      "6         2.00       1.460          5.63      690.0  -301.6  3.36  7.08  \n",
      "7         1.52       1.465          3.95     1110.0  -356.0  2.39  1.38  \n",
      "8         9.40       1.467          5.18     4680.0  -313.8  3.18  4.86  \n",
      "9         1.00       1.462          4.34      330.0  -411.9  2.37  4.43  \n",
      "10        2.08       1.467          6.04     6630.0  -231.3  3.26  6.12  \n",
      "11        3.24       1.461          4.21      760.0  -371.5  2.02  2.36  \n",
      "12        2.88       1.465          4.19      540.0  -275.1  1.32  3.07  \n",
      "13        4.52       1.424         10.32    38130.0  -122.8  6.62  7.16  \n",
      "14       15.11       1.471          4.42     1240.0  -345.2  0.95  5.00  \n",
      "15        1.41       1.462          4.33      300.0  -403.7  1.84  4.24  \n",
      "16        1.27       1.465          3.15     1050.0  -252.7  0.11  2.93  \n",
      "17       17.63       1.470          4.23      620.0  -309.2  1.22  4.98  \n",
      "18       11.34       1.464          7.71     1400.0   -32.3  1.18  2.98  \n",
      "19        1.42       1.461          4.32     1030.0  -407.4  2.10  4.01  \n",
      "20        1.37       1.463          4.99     1630.0  -187.6  2.32  4.82  \n",
      "21        1.54       1.463          4.00     1130.0  -747.4  2.32  1.42  \n",
      "22       12.39       1.462          5.63     2650.0  -111.1  1.06  3.03  \n",
      "23        6.67       1.459          4.36     1070.0  -121.5  1.79  5.21  \n",
      "24       13.38       1.451          7.60     4390.0  -246.0  5.92  6.59  \n",
      "25        2.81       1.463          6.26     2370.0  -349.0  3.00  6.06  \n",
      "26        1.45       1.452          4.30     1130.0  -178.4  1.74  4.77  \n",
      "27        0.97       1.456          7.19     4440.0   -76.0  3.82  5.07  \n"
     ]
    }
   ],
   "source": [
    "print(table)"
   ]
  },
  {
   "cell_type": "code",
   "execution_count": 4,
   "metadata": {},
   "outputs": [],
   "source": [
    "X_train = X[0:23,:]\n",
    "Y_train = Y[0:23,0]\n",
    "X_test = X[23:28,:]\n",
    "Y_test = Y[23:28,0]"
   ]
  },
  {
   "cell_type": "markdown",
   "metadata": {},
   "source": [
    "## Linear_regression"
   ]
  },
  {
   "cell_type": "markdown",
   "metadata": {},
   "source": [
    "### Multivariate regression  "
   ]
  },
  {
   "cell_type": "code",
   "execution_count": 5,
   "metadata": {},
   "outputs": [
    {
     "name": "stdout",
     "output_type": "stream",
     "text": [
      "MSE: 1.3817\n"
     ]
    }
   ],
   "source": [
    "from sklearn import linear_model\n",
    "from sklearn.metrics import mean_squared_error\n",
    "\n",
    "MulReg=linear_model.LinearRegression()\n",
    "MulReg.fit(X_train, Y_train)\n",
    "\n",
    "mse = mean_squared_error(Y_test, MulReg.predict(X_test))\n",
    "print(\"MSE: %.4f\" % mse)"
   ]
  },
  {
   "cell_type": "code",
   "execution_count": 6,
   "metadata": {},
   "outputs": [
    {
     "name": "stdout",
     "output_type": "stream",
     "text": [
      "[ 5.1   5.68  4.99  4.83  5.14]\n",
      "[ 3.38399326  6.472209    4.94792203  3.19210225  5.9472333 ]\n"
     ]
    }
   ],
   "source": [
    "print(Y_test)\n",
    "print(MulReg.predict(X_test))"
   ]
  },
  {
   "cell_type": "markdown",
   "metadata": {},
   "source": [
    "### Ridge Regression (Linear least squares with l2 regularization)"
   ]
  },
  {
   "cell_type": "code",
   "execution_count": 7,
   "metadata": {},
   "outputs": [
    {
     "name": "stdout",
     "output_type": "stream",
     "text": [
      "MSE: 1.3080\n"
     ]
    }
   ],
   "source": [
    "ridge = linear_model.Ridge(alpha=0.35)\n",
    "ridge.fit(X_train, Y_train)\n",
    "\n",
    "mse = mean_squared_error(Y_test, ridge.predict(X_test))\n",
    "print(\"MSE: %.4f\" % mse)"
   ]
  },
  {
   "cell_type": "code",
   "execution_count": 8,
   "metadata": {},
   "outputs": [
    {
     "name": "stdout",
     "output_type": "stream",
     "text": [
      "[ 5.1   5.68  4.99  4.83  5.14]\n",
      "[ 3.41548158  6.40952192  4.96062833  3.22845678  5.91738652]\n"
     ]
    }
   ],
   "source": [
    "print(Y_test)\n",
    "print(ridge.predict(X_test))"
   ]
  },
  {
   "cell_type": "markdown",
   "metadata": {},
   "source": [
    "### Lasso Regression (Linear least squares with l1 regularization)"
   ]
  },
  {
   "cell_type": "code",
   "execution_count": 9,
   "metadata": {},
   "outputs": [
    {
     "name": "stdout",
     "output_type": "stream",
     "text": [
      "MSE: 0.4800\n"
     ]
    }
   ],
   "source": [
    "lasso = linear_model.Lasso(alpha=0.35)\n",
    "lasso.fit(X_train, Y_train)\n",
    "\n",
    "mse = mean_squared_error(Y_test, lasso.predict(X_test))\n",
    "print(\"MSE: %.4f\" % mse)"
   ]
  },
  {
   "cell_type": "code",
   "execution_count": 10,
   "metadata": {},
   "outputs": [
    {
     "name": "stdout",
     "output_type": "stream",
     "text": [
      "[ 5.1   5.68  4.99  4.83  5.14]\n",
      "[ 3.98191211  5.26854015  5.19455128  3.88993802  5.37434426]\n"
     ]
    }
   ],
   "source": [
    "print(Y_test)\n",
    "print(lasso.predict(X_test))"
   ]
  },
  {
   "cell_type": "markdown",
   "metadata": {},
   "source": [
    "# Support Vecter Regression\n",
    "\n"
   ]
  },
  {
   "cell_type": "markdown",
   "metadata": {},
   "source": [
    "### *가장 낮은 MSE값을 가지는 C와 kernel을 선택"
   ]
  },
  {
   "cell_type": "code",
   "execution_count": null,
   "metadata": {},
   "outputs": [],
   "source": [
    "import numpy as np\n",
    "from sklearn.svm import SVR"
   ]
  },
  {
   "cell_type": "code",
   "execution_count": null,
   "metadata": {},
   "outputs": [
    {
     "name": "stdout",
     "output_type": "stream",
     "text": [
      "kernel: linear \n",
      " C: 0.01 \n",
      " MSE:  0.131443694416 \n",
      " epsilon: 0.001 \n",
      " -------------------------\n",
      "kernel: linear \n",
      " C: 0.01 \n",
      " MSE:  0.12799502732 \n",
      " epsilon: 0.01 \n",
      " -------------------------\n",
      "kernel: linear \n",
      " C: 0.01 \n",
      " MSE:  0.124679517757 \n",
      " epsilon: 0.1 \n",
      " -------------------------\n",
      "kernel: rbf \n",
      " C: 0.01 \n",
      " MSE:  0.101065 \n",
      " epsilon: 0.001 \n",
      " -------------------------\n",
      "kernel: rbf \n",
      " C: 0.01 \n",
      " MSE:  0.09868 \n",
      " epsilon: 0.01 \n",
      " -------------------------\n",
      "kernel: rbf \n",
      " C: 0.01 \n",
      " MSE:  0.08566 \n",
      " epsilon: 0.1 \n",
      " -------------------------\n",
      "kernel: sigmoid \n",
      " C: 0.01 \n",
      " MSE:  0.10134 \n",
      " epsilon: 0.001 \n",
      " -------------------------\n",
      "kernel: sigmoid \n",
      " C: 0.01 \n",
      " MSE:  0.10134 \n",
      " epsilon: 0.01 \n",
      " -------------------------\n",
      "kernel: sigmoid \n",
      " C: 0.01 \n",
      " MSE:  0.08838 \n",
      " epsilon: 0.1 \n",
      " -------------------------\n",
      "kernel: linear \n",
      " C: 0.1 \n",
      " MSE:  0.0763474958609 \n",
      " epsilon: 0.001 \n",
      " -------------------------\n",
      "kernel: linear \n",
      " C: 0.1 \n",
      " MSE:  0.0821607756645 \n",
      " epsilon: 0.01 \n",
      " -------------------------\n",
      "kernel: linear \n",
      " C: 0.1 \n",
      " MSE:  0.0739376274843 \n",
      " epsilon: 0.1 \n",
      " -------------------------\n",
      "kernel: rbf \n",
      " C: 0.1 \n",
      " MSE:  0.084321 \n",
      " epsilon: 0.001 \n",
      " -------------------------\n",
      "kernel: rbf \n",
      " C: 0.1 \n",
      " MSE:  0.0846075061035 \n",
      " epsilon: 0.01 \n",
      " -------------------------\n",
      "kernel: rbf \n",
      " C: 0.1 \n",
      " MSE:  0.085105 \n",
      " epsilon: 0.1 \n",
      " -------------------------\n",
      "kernel: sigmoid \n",
      " C: 0.1 \n",
      " MSE:  0.10134 \n",
      " epsilon: 0.001 \n",
      " -------------------------\n",
      "kernel: sigmoid \n",
      " C: 0.1 \n",
      " MSE:  0.10134 \n",
      " epsilon: 0.01 \n",
      " -------------------------\n",
      "kernel: sigmoid \n",
      " C: 0.1 \n",
      " MSE:  0.08838 \n",
      " epsilon: 0.1 \n",
      " -------------------------\n",
      "kernel: linear \n",
      " C: 1 \n",
      " MSE:  0.101799380127 \n",
      " epsilon: 0.001 \n",
      " -------------------------\n",
      "kernel: linear \n",
      " C: 1 \n",
      " MSE:  0.110613031428 \n",
      " epsilon: 0.01 \n",
      " -------------------------\n",
      "kernel: linear \n",
      " C: 1 \n",
      " MSE:  0.0597849715 \n",
      " epsilon: 0.1 \n",
      " -------------------------\n",
      "kernel: rbf \n",
      " C: 1 \n",
      " MSE:  0.099885390625 \n",
      " epsilon: 0.001 \n",
      " -------------------------\n",
      "kernel: rbf \n",
      " C: 1 \n",
      " MSE:  0.100603358459 \n",
      " epsilon: 0.01 \n",
      " -------------------------\n",
      "kernel: rbf \n",
      " C: 1 \n",
      " MSE:  0.111488163265 \n",
      " epsilon: 0.1 \n",
      " -------------------------\n",
      "kernel: sigmoid \n",
      " C: 1 \n",
      " MSE:  0.10134 \n",
      " epsilon: 0.001 \n",
      " -------------------------\n",
      "kernel: sigmoid \n",
      " C: 1 \n",
      " MSE:  0.10134 \n",
      " epsilon: 0.01 \n",
      " -------------------------\n",
      "kernel: sigmoid \n",
      " C: 1 \n",
      " MSE:  0.08838 \n",
      " epsilon: 0.1 \n",
      " -------------------------\n",
      "kernel: linear \n",
      " C: 10 \n",
      " MSE:  0.485818363183 \n",
      " epsilon: 0.001 \n",
      " -------------------------\n",
      "kernel: linear \n",
      " C: 10 \n",
      " MSE:  0.472371320271 \n",
      " epsilon: 0.01 \n",
      " -------------------------\n",
      "kernel: linear \n",
      " C: 10 \n",
      " MSE:  0.485337187556 \n",
      " epsilon: 0.1 \n",
      " -------------------------\n",
      "kernel: rbf \n",
      " C: 10 \n",
      " MSE:  0.341764954649 \n",
      " epsilon: 0.001 \n",
      " -------------------------\n",
      "kernel: rbf \n",
      " C: 10 \n",
      " MSE:  0.345709342404 \n",
      " epsilon: 0.01 \n",
      " -------------------------\n",
      "kernel: rbf \n",
      " C: 10 \n",
      " MSE:  0.385739591837 \n",
      " epsilon: 0.1 \n",
      " -------------------------\n",
      "kernel: sigmoid \n",
      " C: 10 \n",
      " MSE:  0.10134 \n",
      " epsilon: 0.001 \n",
      " -------------------------\n",
      "kernel: sigmoid \n",
      " C: 10 \n",
      " MSE:  0.10134 \n",
      " epsilon: 0.01 \n",
      " -------------------------\n",
      "kernel: sigmoid \n",
      " C: 10 \n",
      " MSE:  0.08838 \n",
      " epsilon: 0.1 \n",
      " -------------------------\n",
      "kernel: linear \n",
      " C: 100 \n",
      " MSE:  217.735321741 \n",
      " epsilon: 0.001 \n",
      " -------------------------\n",
      "kernel: linear \n",
      " C: 100 \n",
      " MSE:  218.080314604 \n",
      " epsilon: 0.01 \n",
      " -------------------------\n"
     ]
    }
   ],
   "source": [
    "for c in [0.01,0.1,1,10,100]:\n",
    "    for i in [\"linear\",\"rbf\",\"sigmoid\"]:\n",
    "        for e in [0.001,0.01,0.1]:\n",
    "            svr_ck = SVR(kernel=i, C=c, epsilon=e)\n",
    "            svr_ck.fit(X_train, Y_train)\n",
    "            mse = mean_squared_error(Y_test, svr_ck.predict(X_test))\n",
    "            print(\"kernel:\",i,\"\\n\",\"C:\",c,\"\\n\",\"MSE: \",mse,\"\\n\",\"epsilon:\",e,\"\\n\" ,\"-\"*25)"
   ]
  },
  {
   "cell_type": "markdown",
   "metadata": {},
   "source": [
    "### rbf kernel?"
   ]
  },
  {
   "cell_type": "code",
   "execution_count": null,
   "metadata": {},
   "outputs": [],
   "source": [
    "import numpy as np\n",
    "from sklearn.svm import SVR"
   ]
  },
  {
   "cell_type": "code",
   "execution_count": null,
   "metadata": {},
   "outputs": [],
   "source": [
    "svr_rbf = SVR(kernel='rbf', C=1e3, gamma=0.1)\n",
    "\n",
    "svr_rbf.fit(X_train, Y_train)\n",
    "mse = mean_squared_error(Y_test, svr_rbf.predict(X_test))\n",
    "print(\"MSE: %.4f\" % mse)"
   ]
  },
  {
   "cell_type": "code",
   "execution_count": null,
   "metadata": {},
   "outputs": [],
   "source": [
    "print(Y_test)\n",
    "print(svr_rbf.predict(X_test))"
   ]
  },
  {
   "cell_type": "markdown",
   "metadata": {},
   "source": [
    "### poly kernel "
   ]
  },
  {
   "cell_type": "code",
   "execution_count": null,
   "metadata": {},
   "outputs": [],
   "source": [
    "svr_poly = SVR(kernel='poly', C=1e3, gamma=0.1)\n",
    "\n",
    "svr_poly.fit(X_train, Y_train)\n",
    "mse = mean_squared_error(Y_test, svr_poly.predict(X_test))\n",
    "print(\"MSE: %.4f\" % mse)"
   ]
  },
  {
   "cell_type": "code",
   "execution_count": null,
   "metadata": {},
   "outputs": [],
   "source": [
    "print(Y_test)\n",
    "print(svr_poly.predict(X_test))"
   ]
  },
  {
   "cell_type": "markdown",
   "metadata": {},
   "source": [
    "### sigmoid kernel"
   ]
  },
  {
   "cell_type": "code",
   "execution_count": null,
   "metadata": {},
   "outputs": [],
   "source": [
    "svr_sigmoid = SVR(kernel='sigmoid', C=1e3, gamma=0.1)\n",
    "\n",
    "svr_sigmoid.fit(X_train, Y_train)\n",
    "mse = mean_squared_error(Y_test, svr_sigmoid.predict(X_test))\n",
    "print(\"MSE: %.4f\" % mse)"
   ]
  },
  {
   "cell_type": "code",
   "execution_count": null,
   "metadata": {},
   "outputs": [],
   "source": [
    "print(Y_test)\n",
    "print(svr_sigmoid.predict(X_test))"
   ]
  },
  {
   "cell_type": "markdown",
   "metadata": {},
   "source": [
    "### no kernel?\n"
   ]
  },
  {
   "cell_type": "code",
   "execution_count": null,
   "metadata": {},
   "outputs": [],
   "source": [
    "svr_lin = SVR(kernel='linear', C=1e3)\n",
    "\n",
    "svr_lin.fit(X_train, Y_train)\n",
    "\n",
    "mse = mean_squared_error(Y_test, svr_lin.predict(X_test))\n",
    "print(\"MSE: %.4f\" % mse)"
   ]
  },
  {
   "cell_type": "code",
   "execution_count": null,
   "metadata": {},
   "outputs": [],
   "source": [
    "print(Y_test)\n",
    "print(svr_lin.predict(X_test))"
   ]
  },
  {
   "cell_type": "markdown",
   "metadata": {},
   "source": [
    "## Kernel Ridge Regression "
   ]
  },
  {
   "cell_type": "code",
   "execution_count": null,
   "metadata": {},
   "outputs": [],
   "source": [
    "from sklearn.kernel_ridge import KernelRidge\n",
    "\n",
    "kr_linear = KernelRidge(kernel='linear', gamma=0.1)\n",
    "kr_rbf = KernelRidge(kernel='rbf', gamma=0.1)\n",
    "kr_poly = KernelRidge(kernel='poly', gamma=0.1)\n",
    "\n",
    "kr_linear.fit(X_train, Y_train)\n",
    "kr_rbf.fit(X_train, Y_train)\n",
    "kr_poly.fit(X_train, Y_train)\n",
    "\n",
    "mse = mean_squared_error(Y_test, kr_linear.predict(X_test))\n",
    "print(\"MSE(linear): %.4f\" % mse)\n",
    "mse = mean_squared_error(Y_test, kr_rbf.predict(X_test))\n",
    "print(\"MSE(rbf): %.4f\" % mse)\n",
    "mse = mean_squared_error(Y_test, kr_poly.predict(X_test))\n",
    "print(\"MSE(poly): %.4f\" % mse)"
   ]
  },
  {
   "cell_type": "code",
   "execution_count": null,
   "metadata": {},
   "outputs": [],
   "source": [
    "print(Y_test)\n",
    "print(\"Linear result\") \n",
    "print(kr_linear.predict(X_test))\n",
    "print(\"rbf result\") \n",
    "print(kr_rbf.predict(X_test))\n",
    "print(\"poly result\") \n",
    "print(kr_poly.predict(X_test))"
   ]
  },
  {
   "cell_type": "markdown",
   "metadata": {},
   "source": [
    "## Decision Tree Regression\n",
    "### basic"
   ]
  },
  {
   "cell_type": "code",
   "execution_count": null,
   "metadata": {},
   "outputs": [],
   "source": [
    "import numpy as np\n",
    "from sklearn.tree import DecisionTreeRegressor"
   ]
  },
  {
   "cell_type": "code",
   "execution_count": null,
   "metadata": {},
   "outputs": [],
   "source": [
    "regr_1 = DecisionTreeRegressor(max_depth=4)\n",
    "\n",
    "regr_1.fit(X_train, Y_train)\n",
    "\n",
    "mse = mean_squared_error(Y_test, regr_1.predict(X_test))\n",
    "print(\"MSE: %.4f\" % mse)\n",
    "\n"
   ]
  },
  {
   "cell_type": "code",
   "execution_count": null,
   "metadata": {},
   "outputs": [],
   "source": [
    "print(Y_test)\n",
    "print(regr_1.predict(X_test))\n"
   ]
  },
  {
   "cell_type": "markdown",
   "metadata": {},
   "source": [
    "### with AdaBoost"
   ]
  },
  {
   "cell_type": "code",
   "execution_count": null,
   "metadata": {},
   "outputs": [],
   "source": [
    "import numpy as np\n",
    "from sklearn.tree import DecisionTreeRegressor\n",
    "from sklearn.ensemble import AdaBoostRegressor"
   ]
  },
  {
   "cell_type": "code",
   "execution_count": null,
   "metadata": {},
   "outputs": [],
   "source": [
    "rng = np.random.RandomState(1)\n",
    "\n",
    "\n",
    "regr_2 = AdaBoostRegressor(DecisionTreeRegressor(max_depth=4),\n",
    "                           n_estimators=300, random_state=rng)\n",
    "regr_2.fit(X_train, Y_train)\n",
    "\n",
    "mse = mean_squared_error(Y_test, regr_2.predict(X_test))\n",
    "print(\"MSE: %.4f\" % mse)\n",
    "\n",
    "\n"
   ]
  },
  {
   "cell_type": "code",
   "execution_count": null,
   "metadata": {},
   "outputs": [],
   "source": [
    "print(Y_test)\n",
    "print(regr_2.predict(X_test))"
   ]
  },
  {
   "cell_type": "markdown",
   "metadata": {},
   "source": [
    "## Gradient Boosting Regression"
   ]
  },
  {
   "cell_type": "code",
   "execution_count": null,
   "metadata": {},
   "outputs": [],
   "source": [
    "from sklearn import ensemble"
   ]
  },
  {
   "cell_type": "code",
   "execution_count": null,
   "metadata": {},
   "outputs": [],
   "source": [
    "params = {'n_estimators': 500, 'max_depth': 6, 'min_samples_split': 4,\n",
    "          'learning_rate': 0.005, 'loss': 'ls'}\n",
    "\n",
    "GBR = ensemble.GradientBoostingRegressor(**params)\n",
    "\n",
    "GBR.fit(X_train, Y_train)\n",
    "\n",
    "mse = mean_squared_error(Y_test, GBR.predict(X_test))\n",
    "print(\"MSE: %.4f\" % mse)"
   ]
  },
  {
   "cell_type": "code",
   "execution_count": null,
   "metadata": {},
   "outputs": [],
   "source": [
    "print(Y_test)\n",
    "print(GBR.predict(X_test))"
   ]
  },
  {
   "cell_type": "markdown",
   "metadata": {},
   "source": [
    "# K-fold(K=7)"
   ]
  },
  {
   "cell_type": "code",
   "execution_count": null,
   "metadata": {},
   "outputs": [],
   "source": []
  }
 ],
 "metadata": {
  "kernelspec": {
   "display_name": "Python 3",
   "language": "python",
   "name": "python3"
  },
  "language_info": {
   "codemirror_mode": {
    "name": "ipython",
    "version": 3
   },
   "file_extension": ".py",
   "mimetype": "text/x-python",
   "name": "python",
   "nbconvert_exporter": "python",
   "pygments_lexer": "ipython3",
   "version": "3.5.2"
  }
 },
 "nbformat": 4,
 "nbformat_minor": 2
}
