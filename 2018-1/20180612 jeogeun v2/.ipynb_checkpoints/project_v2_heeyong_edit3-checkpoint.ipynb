{
 "cells": [
  {
   "cell_type": "markdown",
   "metadata": {},
   "source": [
    "# no normalizing version\n"
   ]
  },
  {
   "cell_type": "code",
   "execution_count": 1,
   "metadata": {},
   "outputs": [],
   "source": [
    "import numpy as np\n",
    "import pandas as pd\n",
    "import matplotlib.pyplot as plt"
   ]
  },
  {
   "cell_type": "code",
   "execution_count": 2,
   "metadata": {},
   "outputs": [],
   "source": [
    "data = np.genfromtxt('data_v2.txt')\n",
    "\n",
    "np.random.seed(12)\n",
    "np.random.shuffle(data)\n",
    "\n",
    "X = data[:,0:7]\n",
    "Y = data[:,7:17]\n",
    "dfX=pd.DataFrame(X)\n",
    "dfy=pd.DataFrame(Y)\n",
    "\n",
    "table=pd.concat([dfX, dfy], axis=1)\n",
    "table.columns=['SiH4','N2O','SiO','Temp','Pressure','RF Power','Time','Thickness','Depo. Rate','Uniformity','Ref. Index','Permittivity','Etch Rate','Stress','H2O','SiOH']"
   ]
  },
  {
   "cell_type": "code",
   "execution_count": 3,
   "metadata": {},
   "outputs": [
    {
     "name": "stdout",
     "output_type": "stream",
     "text": [
      "     SiH4     N2O    SiO   Temp  Pressure  RF Power   Time  Thickness  \\\n",
      "0   667.0   333.0  167.0  375.0       2.0     150.0   60.0       4.49   \n",
      "1   550.0  1100.0  550.0  375.0       2.0     150.0   25.0       1.57   \n",
      "2   300.0   600.0  300.0  375.0       2.0     150.0   65.0       1.95   \n",
      "3   700.0  1400.0  700.0  375.0       2.0     150.0   35.0       2.85   \n",
      "4   200.0   900.0  200.0  200.0       2.0     150.0  261.0       5.12   \n",
      "5   200.0   900.0  200.0  400.0       2.0      20.0  180.0       4.83   \n",
      "6   400.0   900.0  400.0  200.0       1.0      20.0  154.0       5.78   \n",
      "7   400.0   900.0  400.0  400.0       0.0      20.0  600.0       3.36   \n",
      "8   909.0    91.0   46.0  375.0       2.0     150.0   40.0       4.25   \n",
      "9   200.0   400.0  200.0  200.0       2.0      20.0  187.0       5.69   \n",
      "10  400.0   400.0  200.0  400.0       2.0      20.0  111.0       5.10   \n",
      "11  400.0   900.0  400.0  150.0       1.0      20.0  220.0       4.63   \n",
      "12  300.0   650.0  300.0  300.0       1.0      85.0  115.0       4.96   \n",
      "13  400.0   900.0  400.0  250.0       1.0      80.0   85.0       5.01   \n",
      "14  300.0   650.0  300.0  300.0       1.0      85.0  115.0       4.92   \n",
      "15  400.0   900.0  400.0  200.0       1.0      80.0  164.0       5.31   \n",
      "16  100.0   200.0  100.0  375.0       2.0     150.0  105.0       0.79   \n",
      "17  400.0   900.0  400.0  200.0       2.0     150.0  126.0       4.99   \n",
      "18  400.0   900.0  400.0  200.0       2.0      20.0  180.0       4.36   \n",
      "19  200.0   400.0  200.0  400.0       0.0      20.0  468.0       5.76   \n",
      "20  400.0   900.0  400.0  400.0       2.0     150.0  123.0       5.24   \n",
      "21  400.0   900.0  400.0  250.0       2.0      20.0  155.0       5.44   \n",
      "22  400.0   900.0  400.0  150.0       1.0     150.0   90.0       5.14   \n",
      "23  200.0   900.0  200.0  400.0       0.0     150.0  243.0       5.39   \n",
      "24  400.0   900.0  400.0  200.0       0.0     150.0  157.0       5.68   \n",
      "25  833.0   167.0   84.0  375.0       2.0     150.0   45.0       4.52   \n",
      "26  400.0   400.0  200.0  200.0       0.0      20.0  381.0       5.29   \n",
      "27  333.0   667.0  333.0  375.0       2.0     150.0   60.0       1.98   \n",
      "28  200.0   400.0  200.0  200.0       0.0     150.0  192.0       5.52   \n",
      "29  200.0   900.0  200.0  200.0       0.0      20.0  569.0       5.75   \n",
      "30  400.0   900.0  400.0  150.0       2.0      80.0  128.0       5.23   \n",
      "31  300.0   650.0  300.0  300.0       1.0      85.0  115.0       4.98   \n",
      "32  400.0   400.0  200.0  400.0       0.0     150.0  134.0       6.09   \n",
      "33  200.0   400.0  200.0  400.0       2.0     150.0  281.0       4.86   \n",
      "34  400.0   900.0  400.0  250.0       1.0     150.0  110.0       5.41   \n",
      "35  400.0   400.0  200.0  200.0       2.0     150.0  136.0       4.80   \n",
      "\n",
      "    Depo. Rate  Uniformity  Ref. Index  Permittivity  Etch Rate  Stress   H2O  \\\n",
      "0        749.0         1.0         1.5          4.23     1570.0  -510.3  2.25   \n",
      "1        628.0         2.0         1.5          4.03     1650.0  -655.6  0.67   \n",
      "2        301.0         2.0         1.5          4.00     1130.0  -747.4  2.32   \n",
      "3        813.0         5.0         1.5          4.14     1590.0  -617.5  0.70   \n",
      "4        196.0         1.0         1.5          4.99     1630.0  -187.6  2.32   \n",
      "5        268.0         1.0         1.5          4.30     1130.0  -178.4  1.74   \n",
      "6        375.0         2.0         1.5          6.17     3420.0   -42.0  2.97   \n",
      "7         56.0         2.0         1.5          6.04     6630.0  -231.3  3.26   \n",
      "8       1064.0         1.0         1.5          4.11     1100.0  -288.4  2.34   \n",
      "9        304.0        11.0         1.5          7.71     1400.0   -32.3  1.18   \n",
      "10       460.0         7.0         1.5          4.36     1070.0  -121.5  1.79   \n",
      "11       210.0        65.0         1.5          8.29   151900.0   -10.0  3.16   \n",
      "12       432.0         1.0         1.5          4.33      300.0  -403.7  1.84   \n",
      "13       587.0         2.0         1.5          5.63      690.0  -301.6  3.36   \n",
      "14       428.0         1.0         1.5          4.32     1030.0  -407.4  2.10   \n",
      "15       324.0         2.0         1.5          6.61    19470.0  -155.0  4.46   \n",
      "16        75.0         1.0         1.5          3.15     1050.0  -252.7  0.11   \n",
      "17       396.0         3.0         1.5          6.26     2370.0  -349.0  3.00   \n",
      "18       242.0        12.0         1.5          5.63     2650.0  -111.1  1.06   \n",
      "19       123.0         9.0         1.5          5.18     4680.0  -313.8  3.18   \n",
      "20       426.0         3.0         1.5          4.21      760.0  -371.5  2.02   \n",
      "21       351.0         3.0         1.5          5.89     1270.0  -240.9  1.97   \n",
      "22       571.0         1.0         1.5          7.19     4440.0   -76.0  3.82   \n",
      "23       222.0        18.0         1.5          4.23      620.0  -309.2  1.22   \n",
      "24       362.0        13.0         1.5          7.60     4390.0  -246.0  5.92   \n",
      "25      1005.0         1.0         1.5          4.28     1410.0  -432.1  2.34   \n",
      "26       139.0         1.0         1.5          7.15    15820.0  -145.8  6.90   \n",
      "27       331.0         2.0         1.5          3.95     1110.0  -356.0  2.39   \n",
      "28       287.0         4.0         1.5          7.64    31130.0  -173.2  4.41   \n",
      "29       101.0         5.0         1.4         10.32    38130.0  -122.8  6.62   \n",
      "30       409.0         3.0         1.5          6.64     6500.0   -16.0  3.95   \n",
      "31       433.0         1.0         1.5          4.34      330.0  -411.9  2.37   \n",
      "32       454.0        15.0         1.5          4.42     1240.0  -345.2  0.95   \n",
      "33       173.0         3.0         1.5          4.19      540.0  -275.1  1.32   \n",
      "34       491.0         6.0         1.5          5.85     2800.0  -145.0  1.24   \n",
      "35       352.0         0.0         1.5          4.67     1280.0  -259.1  2.61   \n",
      "\n",
      "    SiOH  \n",
      "0   8.82  \n",
      "1   4.89  \n",
      "2   1.42  \n",
      "3   5.26  \n",
      "4   4.82  \n",
      "5   4.77  \n",
      "6   6.28  \n",
      "7   6.12  \n",
      "8   8.79  \n",
      "9   2.98  \n",
      "10  5.21  \n",
      "11  6.84  \n",
      "12  4.24  \n",
      "13  7.08  \n",
      "14  4.01  \n",
      "15  4.88  \n",
      "16  2.93  \n",
      "17  6.06  \n",
      "18  3.03  \n",
      "19  4.86  \n",
      "20  2.36  \n",
      "21  3.70  \n",
      "22  5.07  \n",
      "23  4.98  \n",
      "24  6.59  \n",
      "25  8.79  \n",
      "26  6.37  \n",
      "27  1.38  \n",
      "28  7.53  \n",
      "29  7.16  \n",
      "30  4.94  \n",
      "31  4.43  \n",
      "32  5.00  \n",
      "33  3.07  \n",
      "34  5.91  \n",
      "35  8.54  \n"
     ]
    }
   ],
   "source": [
    "print(table)"
   ]
  },
  {
   "cell_type": "code",
   "execution_count": 4,
   "metadata": {},
   "outputs": [],
   "source": [
    "from sklearn.metrics import mean_squared_error\n",
    "\n",
    "\n",
    "\n",
    "\n",
    "def test_1(func, x, y, k) :\n",
    "    \n",
    "    L = x.shape[0]\n",
    "       \n",
    "    if k >= L :\n",
    "        print('error\\n')\n",
    "        return -1\n",
    "    \n",
    "    d = int(L/k)\n",
    "      \n",
    "    mse = 0.0\n",
    "    \n",
    "    for i in range(0,d) :\n",
    "        \n",
    "        x_test = x[i*k:(i+1)*k]\n",
    "        y_test = y[i*k:(i+1)*k]\n",
    "        \n",
    "        x_train = np.concatenate([x[0 : i*k], x[(i+1)*k : L]], axis=0)\n",
    "        y_train = np.concatenate([y[0 : i*k], y[(i+1)*k : L]], axis=0)\n",
    "        \n",
    "        func.fit(x_train, y_train)\n",
    "        print(\"%d MSE : %f\" %(i+1,mean_squared_error(y_test, func.predict(x_test))))\n",
    "        mse = mse + mean_squared_error(y_test, func.predict(x_test))\n",
    "        \n",
    "    x_test = x[d*k:L]\n",
    "    y_test = y[d*k:L]\n",
    "    x_train = x[0:d*k]\n",
    "    y_train = y[0:d*k]\n",
    "    \n",
    "    func.fit(x_train, y_train)\n",
    "    print(\"%d MSE : %f\"%(d+1, mean_squared_error(y_test, func.predict(x_test))))\n",
    "    mse = mse + mean_squared_error(y_test, func.predict(x_test))\n",
    "    \n",
    "    return mse/(d+1)\n",
    "\n",
    "def test_2(func, x, y) :\n",
    "    \n",
    "    L = x.shape[0]\n",
    "      \n",
    "    x_test = x[0:L - 5]\n",
    "    y_test = y[0:L - 5]\n",
    "    x_train = x[L-5:L]\n",
    "    y_train = y[L-5:L]\n",
    "    \n",
    "    func.fit(x_train, y_train)\n",
    "    print(\"MSE : %f\"%( mean_squared_error(y_test, func.predict(x_test))))\n",
    "    mse = mean_squared_error(y_test, func.predict(x_test))\n",
    "    \n",
    "    return mse\n",
    "\n",
    "\n",
    "\n",
    "X_train = X[:,:]\n",
    "Y_train = Y[:,0]"
   ]
  },
  {
   "cell_type": "markdown",
   "metadata": {},
   "source": [
    "## Linear_regression"
   ]
  },
  {
   "cell_type": "markdown",
   "metadata": {},
   "source": [
    "### Multivariate regression  "
   ]
  },
  {
   "cell_type": "code",
   "execution_count": 5,
   "metadata": {},
   "outputs": [
    {
     "name": "stdout",
     "output_type": "stream",
     "text": [
      "1 MSE : 2.663523\n",
      "2 MSE : 1.653405\n",
      "3 MSE : 0.506820\n",
      "4 MSE : 3.212627\n",
      "5 MSE : 1.307797\n",
      "6 MSE : 0.977013\n",
      "7 MSE : 2.077977\n",
      "8 MSE : 0.125186\n",
      "MSE: 1.5655\n"
     ]
    }
   ],
   "source": [
    "from sklearn import linear_model\n",
    "\n",
    "MulReg=linear_model.LinearRegression()\n",
    "\n",
    "mse = test_1(MulReg, X_train, Y_train, k = 5)\n",
    "\n",
    "\n",
    "print(\"MSE: %.4f\" % mse)"
   ]
  },
  {
   "cell_type": "markdown",
   "metadata": {},
   "source": [
    "### Ridge Regression (Linear least squares with l2 regularization)"
   ]
  },
  {
   "cell_type": "code",
   "execution_count": 6,
   "metadata": {},
   "outputs": [
    {
     "name": "stdout",
     "output_type": "stream",
     "text": [
      "1 MSE : 2.673355\n",
      "2 MSE : 1.650899\n",
      "3 MSE : 0.506393\n",
      "4 MSE : 3.226027\n",
      "5 MSE : 1.300008\n",
      "6 MSE : 0.970464\n",
      "7 MSE : 2.073158\n",
      "8 MSE : 0.114138\n",
      "MSE: 1.5643\n"
     ]
    }
   ],
   "source": [
    "ridge = linear_model.Ridge(alpha=0.35)\n",
    "\n",
    "mse = test_1(ridge, X_train, Y_train, k = 5)\n",
    "\n",
    "print(\"MSE: %.4f\" % mse)"
   ]
  },
  {
   "cell_type": "markdown",
   "metadata": {},
   "source": [
    "### Lasso Regression (Linear least squares with l1 regularization)"
   ]
  },
  {
   "cell_type": "code",
   "execution_count": 7,
   "metadata": {},
   "outputs": [
    {
     "name": "stdout",
     "output_type": "stream",
     "text": [
      "1 MSE : 3.296197\n",
      "2 MSE : 1.663973\n",
      "3 MSE : 0.636802\n",
      "4 MSE : 3.812154\n",
      "5 MSE : 1.723712\n",
      "6 MSE : 0.927884\n",
      "7 MSE : 2.357095\n",
      "8 MSE : 0.083068\n",
      "MSE: 1.8126\n"
     ]
    }
   ],
   "source": [
    "lasso = linear_model.Lasso(alpha=0.35)\n",
    "\n",
    "\n",
    "mse = test_1(lasso, X_train, Y_train, k = 5)\n",
    "\n",
    "\n",
    "print(\"MSE: %.4f\" % mse)"
   ]
  },
  {
   "cell_type": "markdown",
   "metadata": {},
   "source": [
    "# Support Vecter Regression\n",
    "\n"
   ]
  },
  {
   "cell_type": "markdown",
   "metadata": {},
   "source": [
    "### *가장 낮은 MSE값을 가지는 C와 kernel을 선택"
   ]
  },
  {
   "cell_type": "code",
   "execution_count": 8,
   "metadata": {},
   "outputs": [],
   "source": [
    "import numpy as np\n",
    "from sklearn.svm import SVR"
   ]
  },
  {
   "cell_type": "code",
   "execution_count": 9,
   "metadata": {},
   "outputs": [
    {
     "name": "stdout",
     "output_type": "stream",
     "text": [
      "MSE : 5.418959\n",
      "kernel: linear \n",
      " C: 0.01 \n",
      " MSE:  5.41895867516 \n",
      " epsilon: 0.001 \n",
      " -------------------------\n",
      "MSE : 5.337337\n",
      "kernel: linear \n",
      " C: 0.01 \n",
      " MSE:  5.33733744488 \n",
      " epsilon: 0.01 \n",
      " -------------------------\n",
      "MSE : 4.593347\n",
      "kernel: linear \n",
      " C: 0.01 \n",
      " MSE:  4.59334663432 \n",
      " epsilon: 0.1 \n",
      " -------------------------\n",
      "MSE : 1.933768\n",
      "kernel: rbf \n",
      " C: 0.01 \n",
      " MSE:  1.93376774194 \n",
      " epsilon: 0.001 \n",
      " -------------------------\n",
      "MSE : 1.933768\n",
      "kernel: rbf \n",
      " C: 0.01 \n",
      " MSE:  1.93376774194 \n",
      " epsilon: 0.01 \n",
      " -------------------------\n",
      "MSE : 1.974928\n",
      "kernel: rbf \n",
      " C: 0.01 \n",
      " MSE:  1.97492822581 \n",
      " epsilon: 0.1 \n",
      " -------------------------\n",
      "MSE : 1.933768\n",
      "kernel: sigmoid \n",
      " C: 0.01 \n",
      " MSE:  1.93376774194 \n",
      " epsilon: 0.001 \n",
      " -------------------------\n",
      "MSE : 1.933768\n",
      "kernel: sigmoid \n",
      " C: 0.01 \n",
      " MSE:  1.93376774194 \n",
      " epsilon: 0.01 \n",
      " -------------------------\n",
      "MSE : 1.970155\n",
      "kernel: sigmoid \n",
      " C: 0.01 \n",
      " MSE:  1.97015483871 \n",
      " epsilon: 0.1 \n",
      " -------------------------\n",
      "MSE : 5.418959\n",
      "kernel: linear \n",
      " C: 0.1 \n",
      " MSE:  5.41895867516 \n",
      " epsilon: 0.001 \n",
      " -------------------------\n",
      "MSE : 5.337337\n",
      "kernel: linear \n",
      " C: 0.1 \n",
      " MSE:  5.33733744488 \n",
      " epsilon: 0.01 \n",
      " -------------------------\n",
      "MSE : 4.593347\n",
      "kernel: linear \n",
      " C: 0.1 \n",
      " MSE:  4.59334663432 \n",
      " epsilon: 0.1 \n",
      " -------------------------\n",
      "MSE : 1.933768\n",
      "kernel: rbf \n",
      " C: 0.1 \n",
      " MSE:  1.93376774194 \n",
      " epsilon: 0.001 \n",
      " -------------------------\n",
      "MSE : 1.933768\n",
      "kernel: rbf \n",
      " C: 0.1 \n",
      " MSE:  1.93376774194 \n",
      " epsilon: 0.01 \n",
      " -------------------------\n",
      "MSE : 2.020139\n",
      "kernel: rbf \n",
      " C: 0.1 \n",
      " MSE:  2.02013870968 \n",
      " epsilon: 0.1 \n",
      " -------------------------\n",
      "MSE : 1.933768\n",
      "kernel: sigmoid \n",
      " C: 0.1 \n",
      " MSE:  1.93376774194 \n",
      " epsilon: 0.001 \n",
      " -------------------------\n",
      "MSE : 1.933768\n",
      "kernel: sigmoid \n",
      " C: 0.1 \n",
      " MSE:  1.93376774194 \n",
      " epsilon: 0.01 \n",
      " -------------------------\n",
      "MSE : 1.970155\n",
      "kernel: sigmoid \n",
      " C: 0.1 \n",
      " MSE:  1.97015483871 \n",
      " epsilon: 0.1 \n",
      " -------------------------\n",
      "MSE : 5.418959\n",
      "kernel: linear \n",
      " C: 1 \n",
      " MSE:  5.41895867516 \n",
      " epsilon: 0.001 \n",
      " -------------------------\n",
      "MSE : 5.337337\n",
      "kernel: linear \n",
      " C: 1 \n",
      " MSE:  5.33733744488 \n",
      " epsilon: 0.01 \n",
      " -------------------------\n",
      "MSE : 4.593347\n",
      "kernel: linear \n",
      " C: 1 \n",
      " MSE:  4.59334663432 \n",
      " epsilon: 0.1 \n",
      " -------------------------\n",
      "MSE : 2.205976\n",
      "kernel: rbf \n",
      " C: 1 \n",
      " MSE:  2.20597610154 \n",
      " epsilon: 0.001 \n",
      " -------------------------\n",
      "MSE : 2.208422\n",
      "kernel: rbf \n",
      " C: 1 \n",
      " MSE:  2.20842182548 \n",
      " epsilon: 0.01 \n",
      " -------------------------\n",
      "MSE : 2.233808\n",
      "kernel: rbf \n",
      " C: 1 \n",
      " MSE:  2.23380799644 \n",
      " epsilon: 0.1 \n",
      " -------------------------\n",
      "MSE : 1.933768\n",
      "kernel: sigmoid \n",
      " C: 1 \n",
      " MSE:  1.93376774194 \n",
      " epsilon: 0.001 \n",
      " -------------------------\n",
      "MSE : 1.933768\n",
      "kernel: sigmoid \n",
      " C: 1 \n",
      " MSE:  1.93376774194 \n",
      " epsilon: 0.01 \n",
      " -------------------------\n",
      "MSE : 1.970155\n",
      "kernel: sigmoid \n",
      " C: 1 \n",
      " MSE:  1.97015483871 \n",
      " epsilon: 0.1 \n",
      " -------------------------\n",
      "MSE : 5.418959\n",
      "kernel: linear \n",
      " C: 10 \n",
      " MSE:  5.41895867516 \n",
      " epsilon: 0.001 \n",
      " -------------------------\n",
      "MSE : 5.337337\n",
      "kernel: linear \n",
      " C: 10 \n",
      " MSE:  5.33733744488 \n",
      " epsilon: 0.01 \n",
      " -------------------------\n",
      "MSE : 4.593347\n",
      "kernel: linear \n",
      " C: 10 \n",
      " MSE:  4.59334663432 \n",
      " epsilon: 0.1 \n",
      " -------------------------\n",
      "MSE : 2.205976\n",
      "kernel: rbf \n",
      " C: 10 \n",
      " MSE:  2.20597610154 \n",
      " epsilon: 0.001 \n",
      " -------------------------\n",
      "MSE : 2.208422\n",
      "kernel: rbf \n",
      " C: 10 \n",
      " MSE:  2.20842182548 \n",
      " epsilon: 0.01 \n",
      " -------------------------\n",
      "MSE : 2.233808\n",
      "kernel: rbf \n",
      " C: 10 \n",
      " MSE:  2.23380799644 \n",
      " epsilon: 0.1 \n",
      " -------------------------\n",
      "MSE : 1.933768\n",
      "kernel: sigmoid \n",
      " C: 10 \n",
      " MSE:  1.93376774194 \n",
      " epsilon: 0.001 \n",
      " -------------------------\n",
      "MSE : 1.933768\n",
      "kernel: sigmoid \n",
      " C: 10 \n",
      " MSE:  1.93376774194 \n",
      " epsilon: 0.01 \n",
      " -------------------------\n",
      "MSE : 1.970155\n",
      "kernel: sigmoid \n",
      " C: 10 \n",
      " MSE:  1.97015483871 \n",
      " epsilon: 0.1 \n",
      " -------------------------\n",
      "MSE : 5.418959\n",
      "kernel: linear \n",
      " C: 100 \n",
      " MSE:  5.41895867516 \n",
      " epsilon: 0.001 \n",
      " -------------------------\n",
      "MSE : 5.337337\n",
      "kernel: linear \n",
      " C: 100 \n",
      " MSE:  5.33733744488 \n",
      " epsilon: 0.01 \n",
      " -------------------------\n",
      "MSE : 4.593347\n",
      "kernel: linear \n",
      " C: 100 \n",
      " MSE:  4.59334663432 \n",
      " epsilon: 0.1 \n",
      " -------------------------\n",
      "MSE : 2.205976\n",
      "kernel: rbf \n",
      " C: 100 \n",
      " MSE:  2.20597610154 \n",
      " epsilon: 0.001 \n",
      " -------------------------\n",
      "MSE : 2.208422\n",
      "kernel: rbf \n",
      " C: 100 \n",
      " MSE:  2.20842182548 \n",
      " epsilon: 0.01 \n",
      " -------------------------\n",
      "MSE : 2.233808\n",
      "kernel: rbf \n",
      " C: 100 \n",
      " MSE:  2.23380799644 \n",
      " epsilon: 0.1 \n",
      " -------------------------\n",
      "MSE : 1.933768\n",
      "kernel: sigmoid \n",
      " C: 100 \n",
      " MSE:  1.93376774194 \n",
      " epsilon: 0.001 \n",
      " -------------------------\n",
      "MSE : 1.933768\n",
      "kernel: sigmoid \n",
      " C: 100 \n",
      " MSE:  1.93376774194 \n",
      " epsilon: 0.01 \n",
      " -------------------------\n",
      "MSE : 1.970155\n",
      "kernel: sigmoid \n",
      " C: 100 \n",
      " MSE:  1.97015483871 \n",
      " epsilon: 0.1 \n",
      " -------------------------\n"
     ]
    }
   ],
   "source": [
    "for c in [0.01,0.1,1,10,100]:\n",
    "    for i in [\"linear\",\"rbf\",\"sigmoid\"]:\n",
    "        for e in [0.001,0.01,0.1]:\n",
    "            svr_ck = SVR(kernel=i, C=c, epsilon=e)\n",
    "            \n",
    "            mse = test_2(svr_ck, X_train, Y_train)\n",
    "            \n",
    "            print(\"kernel:\",i,\"\\n\",\"C:\",c,\"\\n\",\"MSE: \",mse,\"\\n\",\"epsilon:\",e,\"\\n\" ,\"-\"*25)"
   ]
  },
  {
   "cell_type": "markdown",
   "metadata": {},
   "source": [
    "### rbf kernel?"
   ]
  },
  {
   "cell_type": "code",
   "execution_count": 10,
   "metadata": {},
   "outputs": [],
   "source": [
    "import numpy as np\n",
    "from sklearn.svm import SVR"
   ]
  },
  {
   "cell_type": "code",
   "execution_count": 11,
   "metadata": {},
   "outputs": [
    {
     "name": "stdout",
     "output_type": "stream",
     "text": [
      "1 MSE : 4.597120\n",
      "2 MSE : 0.881018\n",
      "3 MSE : 0.103333\n",
      "4 MSE : 3.351077\n",
      "5 MSE : 0.895360\n",
      "6 MSE : 1.903993\n",
      "7 MSE : 0.840897\n",
      "8 MSE : 0.049580\n",
      "MSE: 1.5778\n"
     ]
    }
   ],
   "source": [
    "svr_rbf = SVR(kernel='rbf', C=1e3, gamma=0.1)\n",
    "\n",
    "mse = test_1(svr_rbf, X_train, Y_train, k = 5)\n",
    "\n",
    "\n",
    "print(\"MSE: %.4f\" % mse)"
   ]
  },
  {
   "cell_type": "markdown",
   "metadata": {},
   "source": [
    "### poly kernel "
   ]
  },
  {
   "cell_type": "code",
   "execution_count": 12,
   "metadata": {},
   "outputs": [],
   "source": [
    "#svr_poly = SVR(kernel='poly', C=1e3, gamma=0.1)\n",
    "\n",
    "#mse = test_1(svr_poly, X_train, Y_train, k = 5)\n",
    "\n",
    "\n",
    "#print(\"MSE: %.4f\" % mse)"
   ]
  },
  {
   "cell_type": "markdown",
   "metadata": {},
   "source": [
    "### sigmoid kernel"
   ]
  },
  {
   "cell_type": "code",
   "execution_count": 13,
   "metadata": {},
   "outputs": [
    {
     "name": "stdout",
     "output_type": "stream",
     "text": [
      "1 MSE : 5.563680\n",
      "2 MSE : 0.897400\n",
      "3 MSE : 0.051145\n",
      "4 MSE : 3.807880\n",
      "5 MSE : 0.243940\n",
      "6 MSE : 2.069480\n",
      "7 MSE : 0.279640\n",
      "8 MSE : 0.062500\n",
      "MSE: 1.6220\n"
     ]
    }
   ],
   "source": [
    "svr_sigmoid = SVR(kernel='sigmoid', C=1e3, gamma=0.1)\n",
    "\n",
    "mse = test_1(svr_sigmoid, X_train, Y_train, k = 5)\n",
    "\n",
    "\n",
    "print(\"MSE: %.4f\" % mse)"
   ]
  },
  {
   "cell_type": "markdown",
   "metadata": {},
   "source": [
    "### no kernel?\n"
   ]
  },
  {
   "cell_type": "code",
   "execution_count": 14,
   "metadata": {},
   "outputs": [],
   "source": [
    "#svr_lin = SVR(kernel='linear', C=1e2)\n",
    "\n",
    "\n",
    "#mse = test_1(svr_lin, X_train, Y_train, k = 5)\n",
    "\n",
    "\n",
    "#print(\"MSE: %.4f\" % mse)"
   ]
  },
  {
   "cell_type": "markdown",
   "metadata": {},
   "source": [
    "## Kernel Ridge Regression "
   ]
  },
  {
   "cell_type": "code",
   "execution_count": 15,
   "metadata": {},
   "outputs": [
    {
     "name": "stdout",
     "output_type": "stream",
     "text": [
      "1 MSE : 11.470213\n",
      "2 MSE : 8.981565\n",
      "3 MSE : 2.904012\n",
      "4 MSE : 1.504192\n",
      "5 MSE : 0.979573\n",
      "6 MSE : 2.192681\n",
      "7 MSE : 2.823443\n",
      "8 MSE : 0.679736\n",
      "MSE(linear): 3.9419\n",
      "\n",
      "1 MSE : 12.152880\n",
      "2 MSE : 23.693100\n",
      "3 MSE : 16.910560\n",
      "4 MSE : 21.181500\n",
      "5 MSE : 28.957060\n",
      "6 MSE : 23.173560\n",
      "7 MSE : 24.034709\n",
      "8 MSE : 23.040000\n",
      "MSE(rbf): 21.6429\n",
      "\n",
      "1 MSE : 796.684539\n",
      "2 MSE : 199.689899\n",
      "3 MSE : 143.523805\n",
      "4 MSE : 353.180198\n",
      "5 MSE : 123.618850\n",
      "6 MSE : 4399.995821\n",
      "7 MSE : 57.942373\n",
      "8 MSE : 111.670247\n",
      "MSE(poly): 773.2882\n",
      "\n"
     ]
    },
    {
     "name": "stderr",
     "output_type": "stream",
     "text": [
      "/usr/local/lib/python3.5/dist-packages/scipy/linalg/basic.py:40: RuntimeWarning: scipy.linalg.solve\n",
      "Ill-conditioned matrix detected. Result is not guaranteed to be accurate.\n",
      "Reciprocal condition number/precision: 1.582132052629392e-17 / 1.1102230246251565e-16\n",
      "  RuntimeWarning)\n",
      "/usr/local/lib/python3.5/dist-packages/scipy/linalg/basic.py:40: RuntimeWarning: scipy.linalg.solve\n",
      "Ill-conditioned matrix detected. Result is not guaranteed to be accurate.\n",
      "Reciprocal condition number/precision: 4.554196278787566e-18 / 1.1102230246251565e-16\n",
      "  RuntimeWarning)\n",
      "/usr/local/lib/python3.5/dist-packages/scipy/linalg/basic.py:40: RuntimeWarning: scipy.linalg.solve\n",
      "Ill-conditioned matrix detected. Result is not guaranteed to be accurate.\n",
      "Reciprocal condition number/precision: 7.006276324149122e-17 / 1.1102230246251565e-16\n",
      "  RuntimeWarning)\n"
     ]
    }
   ],
   "source": [
    "from sklearn.kernel_ridge import KernelRidge\n",
    "\n",
    "kr_linear = KernelRidge(kernel='linear', gamma=0.1)\n",
    "kr_rbf = KernelRidge(kernel='rbf', gamma=0.1)\n",
    "kr_poly = KernelRidge(kernel='poly', gamma=0.1)\n",
    "\n",
    "\n",
    "\n",
    "\n",
    "mse = test_1(kr_linear, X_train, Y_train, k = 5)\n",
    "print(\"MSE(linear): %.4f\\n\" % mse)\n",
    "mse = test_1(kr_rbf, X_train, Y_train, k = 5)\n",
    "print(\"MSE(rbf): %.4f\\n\" % mse)\n",
    "mse = test_1(kr_poly, X_train, Y_train, k = 5)\n",
    "print(\"MSE(poly): %.4f\\n\" % mse)"
   ]
  },
  {
   "cell_type": "markdown",
   "metadata": {},
   "source": [
    "## Decision Tree Regression\n",
    "### basic"
   ]
  },
  {
   "cell_type": "code",
   "execution_count": 16,
   "metadata": {},
   "outputs": [],
   "source": [
    "import numpy as np\n",
    "from sklearn.tree import DecisionTreeRegressor"
   ]
  },
  {
   "cell_type": "code",
   "execution_count": 17,
   "metadata": {},
   "outputs": [
    {
     "name": "stdout",
     "output_type": "stream",
     "text": [
      "1 MSE : 3.558679\n",
      "2 MSE : 1.520280\n",
      "3 MSE : 0.227808\n",
      "4 MSE : 3.691493\n",
      "5 MSE : 0.062966\n",
      "6 MSE : 1.169200\n",
      "7 MSE : 0.183074\n",
      "8 MSE : 0.171848\n",
      "MSE: 1.3232\n"
     ]
    }
   ],
   "source": [
    "regr_1 = DecisionTreeRegressor(max_depth=4)\n",
    "\n",
    "mse = test_1(regr_1, X_train, Y_train, k = 5)\n",
    "\n",
    "print(\"MSE: %.4f\" % mse)\n",
    "\n"
   ]
  },
  {
   "cell_type": "markdown",
   "metadata": {},
   "source": [
    "### with AdaBoost"
   ]
  },
  {
   "cell_type": "code",
   "execution_count": 18,
   "metadata": {},
   "outputs": [],
   "source": [
    "import numpy as np\n",
    "from sklearn.tree import DecisionTreeRegressor\n",
    "from sklearn.ensemble import AdaBoostRegressor"
   ]
  },
  {
   "cell_type": "code",
   "execution_count": 19,
   "metadata": {},
   "outputs": [
    {
     "name": "stdout",
     "output_type": "stream",
     "text": [
      "1 MSE : 1.033264\n",
      "2 MSE : 1.315880\n",
      "3 MSE : 0.109345\n",
      "4 MSE : 3.703797\n",
      "5 MSE : 0.100865\n",
      "6 MSE : 1.204160\n",
      "7 MSE : 0.212806\n",
      "8 MSE : 0.165378\n",
      "MSE: 0.9807\n"
     ]
    }
   ],
   "source": [
    "rng = np.random.RandomState(1)\n",
    "\n",
    "\n",
    "regr_2 = AdaBoostRegressor(DecisionTreeRegressor(max_depth=4),\n",
    "                           n_estimators=300, random_state=rng)\n",
    "\n",
    "\n",
    "mse = test_1(regr_2, X_train, Y_train, k = 5)\n",
    "print(\"MSE: %.4f\" % mse)\n",
    "\n",
    "\n"
   ]
  },
  {
   "cell_type": "markdown",
   "metadata": {},
   "source": [
    "## Gradient Boosting Regression"
   ]
  },
  {
   "cell_type": "code",
   "execution_count": 20,
   "metadata": {},
   "outputs": [],
   "source": [
    "from sklearn import ensemble"
   ]
  },
  {
   "cell_type": "code",
   "execution_count": 21,
   "metadata": {},
   "outputs": [
    {
     "name": "stdout",
     "output_type": "stream",
     "text": [
      "1 MSE : 1.075098\n",
      "2 MSE : 1.363536\n",
      "3 MSE : 0.128056\n",
      "4 MSE : 3.534280\n",
      "5 MSE : 0.045143\n",
      "6 MSE : 1.097297\n",
      "7 MSE : 0.268104\n",
      "8 MSE : 0.154120\n",
      "MSE: 0.9582\n"
     ]
    }
   ],
   "source": [
    "params = {'n_estimators': 500, 'max_depth': 6, 'min_samples_split': 4,\n",
    "          'learning_rate': 0.005, 'loss': 'ls'}\n",
    "\n",
    "GBR = ensemble.GradientBoostingRegressor(**params)\n",
    "\n",
    "\n",
    "\n",
    "mse = test_1(GBR, X_train, Y_train, k = 5)\n",
    "\n",
    "print(\"MSE: %.4f\" % mse)"
   ]
  },
  {
   "cell_type": "code",
   "execution_count": null,
   "metadata": {},
   "outputs": [],
   "source": []
  },
  {
   "cell_type": "code",
   "execution_count": null,
   "metadata": {},
   "outputs": [],
   "source": []
  },
  {
   "cell_type": "code",
   "execution_count": null,
   "metadata": {},
   "outputs": [],
   "source": []
  },
  {
   "cell_type": "code",
   "execution_count": null,
   "metadata": {},
   "outputs": [],
   "source": []
  },
  {
   "cell_type": "code",
   "execution_count": null,
   "metadata": {},
   "outputs": [],
   "source": []
  }
 ],
 "metadata": {
  "kernelspec": {
   "display_name": "Python 3",
   "language": "python",
   "name": "python3"
  },
  "language_info": {
   "codemirror_mode": {
    "name": "ipython",
    "version": 3
   },
   "file_extension": ".py",
   "mimetype": "text/x-python",
   "name": "python",
   "nbconvert_exporter": "python",
   "pygments_lexer": "ipython3",
   "version": "3.5.2"
  }
 },
 "nbformat": 4,
 "nbformat_minor": 2
}
