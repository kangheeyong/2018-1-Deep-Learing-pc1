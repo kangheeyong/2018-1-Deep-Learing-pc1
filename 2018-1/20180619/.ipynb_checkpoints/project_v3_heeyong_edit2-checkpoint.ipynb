{
 "cells": [
  {
   "cell_type": "markdown",
   "metadata": {},
   "source": [
    "# no normalizing version\n"
   ]
  },
  {
   "cell_type": "code",
   "execution_count": 2,
   "metadata": {},
   "outputs": [],
   "source": [
    "import numpy as np\n",
    "import pandas as pd\n",
    "import matplotlib.pyplot as plt"
   ]
  },
  {
   "cell_type": "code",
   "execution_count": 2,
   "metadata": {},
   "outputs": [],
   "source": [
    "data = np.genfromtxt('data.txt')\n",
    "\n",
    "i = 1\n",
    "\n",
    "\n",
    "txt_file_name = 'pr_v3_GB_random.txt'\n"
   ]
  },
  {
   "cell_type": "code",
   "execution_count": 3,
   "metadata": {},
   "outputs": [],
   "source": [
    "from sklearn.metrics import mean_squared_error\n",
    "\n",
    "#txt_file_name = 'sample_0.txt'\n",
    "\n",
    "\n",
    "def test_1(func, x, y, k, file_name = \"default\") :\n",
    "    \n",
    "    print(file_name)\n",
    "    \n",
    "    L = x.shape[0]\n",
    "       \n",
    "    if k >= L :\n",
    "        print('error\\n')\n",
    "        return -1\n",
    "    \n",
    "    if L%k == 0 :\n",
    "        d = int(L/k) - 1\n",
    "    else :\n",
    "        d = int(L/k)\n",
    "      \n",
    "    mse = 0.0\n",
    "    \n",
    "    \n",
    "    minimum = 1000.0\n",
    "    maximum = -1000.0\n",
    "    \n",
    "    \n",
    "    \n",
    "    for i in range(0,d) :\n",
    "        \n",
    "        x_test = x[i*k:(i+1)*k]\n",
    "        y_test = y[i*k:(i+1)*k]\n",
    "        \n",
    "        x_train = np.concatenate([x[0 : i*k], x[(i+1)*k : L]], axis=0)\n",
    "        y_train = np.concatenate([y[0 : i*k], y[(i+1)*k : L]], axis=0)\n",
    "        \n",
    "        func.fit(x_train, y_train)\n",
    "        #print(\"%d MSE : %f\" %(i+1,mean_squared_error(y_test, func.predict(x_test))))\n",
    "      \n",
    "        temp = mean_squared_error(y_test, func.predict(x_test))\n",
    "        \n",
    "   \n",
    "        \n",
    "        if temp < minimum :\n",
    "            minimum_train = np.concatenate([x_train, np.reshape(y_train,(-1,1))], axis=1)\n",
    "            minimum_test = np.concatenate([x_test, np.reshape(y_test,(-1,1))], axis=1)\n",
    "            minimum = temp\n",
    "            \n",
    "        if temp > maximum :\n",
    "            maximum_train = np.concatenate([x_train,np.reshape(y_train,(-1,1))],axis=1)\n",
    "            maximum_test = np.concatenate([x_test,np.reshape(y_test,(-1,1))],axis=1)\n",
    "            maximum = temp\n",
    "            \n",
    "        mse = mse + temp\n",
    "        \n",
    "    x_test = x[d*k:L]\n",
    "    y_test = y[d*k:L]\n",
    "    x_train = x[0:d*k]\n",
    "    y_train = y[0:d*k]\n",
    "    \n",
    "    \n",
    "    \n",
    "    func.fit(x_train, y_train)\n",
    "    \n",
    "    #print(\"%d MSE : %f\"%(d+1, mean_squared_error(y_test, func.predict(x_test))))\n",
    "    \n",
    "    temp = mean_squared_error(y_test, func.predict(x_test))\n",
    "    \n",
    "    if temp < minimum :\n",
    "        minimum_train = np.concatenate([x_train,np.reshape(y_train,(-1,1))],axis=1)\n",
    "        minimum_test = np.concatenate([x_test,np.reshape(y_test,(-1,1))],axis=1)\n",
    "        minimum = temp\n",
    "            \n",
    "    if temp > maximum :\n",
    "        \n",
    "        maximum_train = np.concatenate([x_train, np.reshape(y_train,(-1,1))],axis=1)\n",
    "        maximum_test = np.concatenate([x_test,np.reshape(y_test,(-1,1))],axis=1)\n",
    "        maximum = temp\n",
    "    \n",
    "    mse = mse + temp\n",
    "    \n",
    "    \n",
    "    f=open(txt_file_name,'ab')\n",
    "\n",
    "    np.savetxt(f, np.array([[maximum, minimum]]),fmt = '%.6f')\n",
    "    \n",
    "    \n",
    "    if abs(maximum - minimum) < 0.1 :\n",
    "        \n",
    "        s = \"pr_v3_GB_all_%d.txt\"%i\n",
    "        np.savetxt(s, x ,fmt = '%.6f')\n",
    "        i = i + 1\n",
    "    \n",
    "    \n",
    "    f.close()\n",
    "    \n",
    "    \n",
    "    return mse/(d+1)\n",
    "\n",
    "\n",
    "\n",
    "\n"
   ]
  },
  {
   "cell_type": "markdown",
   "metadata": {},
   "source": [
    "## Gradient Boosting Regression"
   ]
  },
  {
   "cell_type": "code",
   "execution_count": null,
   "metadata": {},
   "outputs": [],
   "source": [
    "from sklearn import ensemble\n",
    "import time"
   ]
  },
  {
   "cell_type": "code",
   "execution_count": null,
   "metadata": {},
   "outputs": [
    {
     "name": "stdout",
     "output_type": "stream",
     "text": [
      "Gradient_Boosting_Regression\n",
      "Gradient_Boosting_Regression\n",
      "Gradient_Boosting_Regression\n",
      "Gradient_Boosting_Regression\n",
      "Gradient_Boosting_Regression\n"
     ]
    }
   ],
   "source": [
    "\n",
    "\n",
    "params = {'n_estimators': 500, 'max_depth': 6, 'min_samples_split': 4,\n",
    "          'learning_rate': 0.005, 'loss': 'ls'}\n",
    "\n",
    "\n",
    "\n",
    "\n",
    "for i in range(0, 10000) : \n",
    "\n",
    "    data = np.genfromtxt('data.txt')\n",
    "    np.random.seed(int(time.time()))\n",
    "    np.random.shuffle(data)\n",
    "\n",
    "    X_train = data[:,0:6]\n",
    "    Y_train = data[:,6]\n",
    "\n",
    "\n",
    "\n",
    "\n",
    "    GBR = ensemble.GradientBoostingRegressor(**params)\n",
    "\n",
    "\n",
    "\n",
    "    mse = test_1(GBR, X_train, Y_train, k = 4, file_name = \"Gradient_Boosting_Regression\")\n",
    "\n",
    "#print(\"MSE: %.4f\" % mse)"
   ]
  },
  {
   "cell_type": "code",
   "execution_count": 1,
   "metadata": {},
   "outputs": [
    {
     "ename": "NameError",
     "evalue": "name 'np' is not defined",
     "output_type": "error",
     "traceback": [
      "\u001b[0;31m------------------------------------------------\u001b[0m",
      "\u001b[0;31mNameError\u001b[0m      Traceback (most recent call last)",
      "\u001b[0;32m<ipython-input-1-90a19c10e64b>\u001b[0m in \u001b[0;36m<module>\u001b[0;34m()\u001b[0m\n\u001b[1;32m      1\u001b[0m \u001b[0;34m\u001b[0m\u001b[0m\n\u001b[0;32m----> 2\u001b[0;31m \u001b[0mprint\u001b[0m\u001b[0;34m(\u001b[0m\u001b[0mnp\u001b[0m\u001b[0;34m.\u001b[0m\u001b[0mrandom\u001b[0m\u001b[0;34m(\u001b[0m\u001b[0;36m0\u001b[0m\u001b[0;34m,\u001b[0m\u001b[0;36m3\u001b[0m\u001b[0;34m)\u001b[0m\u001b[0;34m)\u001b[0m\u001b[0;34m\u001b[0m\u001b[0m\n\u001b[0m",
      "\u001b[0;31mNameError\u001b[0m: name 'np' is not defined"
     ]
    }
   ],
   "source": [
    "\n",
    "print(np.random(0,3))"
   ]
  },
  {
   "cell_type": "code",
   "execution_count": null,
   "metadata": {},
   "outputs": [],
   "source": [
    "#c = 'test'\n",
    "\n",
    "#f=open('temp.txt','ab')\n",
    "\n",
    "#np.savetxt(f, np.array([c]),fmt = '%s')\n",
    "#np.savetxt(f, d, delimiter=' ',fmt = '%.3f')\n",
    "\n",
    "#f.close()\n",
    "\n"
   ]
  },
  {
   "cell_type": "code",
   "execution_count": null,
   "metadata": {},
   "outputs": [],
   "source": [
    "i = 4\n",
    "\n",
    "print(\"sdsd_%d\"%i)"
   ]
  },
  {
   "cell_type": "code",
   "execution_count": null,
   "metadata": {},
   "outputs": [],
   "source": []
  },
  {
   "cell_type": "code",
   "execution_count": null,
   "metadata": {},
   "outputs": [],
   "source": []
  }
 ],
 "metadata": {
  "kernelspec": {
   "display_name": "Python 3",
   "language": "python",
   "name": "python3"
  },
  "language_info": {
   "codemirror_mode": {
    "name": "ipython",
    "version": 3
   },
   "file_extension": ".py",
   "mimetype": "text/x-python",
   "name": "python",
   "nbconvert_exporter": "python",
   "pygments_lexer": "ipython3",
   "version": "3.5.2"
  }
 },
 "nbformat": 4,
 "nbformat_minor": 2
}
