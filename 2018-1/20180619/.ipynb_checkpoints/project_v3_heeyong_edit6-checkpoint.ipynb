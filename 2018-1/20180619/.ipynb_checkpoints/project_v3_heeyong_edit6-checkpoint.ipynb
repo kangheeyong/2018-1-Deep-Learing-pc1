{
 "cells": [
  {
   "cell_type": "markdown",
   "metadata": {},
   "source": [
    "# no normalizing version\n"
   ]
  },
  {
   "cell_type": "code",
   "execution_count": 1,
   "metadata": {},
   "outputs": [],
   "source": [
    "import numpy as np\n",
    "import pandas as pd\n",
    "import matplotlib.pyplot as plt"
   ]
  },
  {
   "cell_type": "code",
   "execution_count": 2,
   "metadata": {},
   "outputs": [],
   "source": [
    "data = np.genfromtxt('data.txt')\n",
    "\n",
    "j = 1\n",
    "\n",
    "\n",
    "txt_file_name = 'pr_v3_DTR_w_ada_rand_5_20_v3.txt'\n"
   ]
  },
  {
   "cell_type": "code",
   "execution_count": 3,
   "metadata": {},
   "outputs": [],
   "source": [
    "from sklearn.metrics import mean_squared_error\n",
    "\n",
    "#txt_file_name = 'sample_0.txt'\n",
    "\n",
    "\n",
    "def test_1(func, x, y, k, file_name = \"default\") :\n",
    "    \n",
    "\n",
    "    \n",
    "    L = x.shape[0]\n",
    "       \n",
    "    if k >= L :\n",
    "        print('error\\n')\n",
    "        return -1\n",
    "    \n",
    "    if L%k == 0 :\n",
    "        d = int(L/k) - 1\n",
    "    else :\n",
    "        d = int(L/k)\n",
    "      \n",
    "    mse = 0.0\n",
    "    \n",
    "    \n",
    "    minimum = 1000.0\n",
    "    maximum = -1000.0\n",
    "    \n",
    "    \n",
    "    \n",
    "    for i in range(0,d) :\n",
    "        \n",
    "        x_test = x[i*k:(i+1)*k]\n",
    "        y_test = y[i*k:(i+1)*k]\n",
    "        \n",
    "        x_train = np.concatenate([x[0 : i*k], x[(i+1)*k : L]], axis=0)\n",
    "        y_train = np.concatenate([y[0 : i*k], y[(i+1)*k : L]], axis=0)\n",
    "        \n",
    "        func.fit(x_train, y_train)\n",
    "        #print(\"%d MSE : %f\" %(i+1,mean_squared_error(y_test, func.predict(x_test))))\n",
    "      \n",
    "        temp = mean_squared_error(y_test, func.predict(x_test))\n",
    "        \n",
    "   \n",
    "        \n",
    "        if temp < minimum :\n",
    "            minimum_train = np.concatenate([x_train, np.reshape(y_train,(-1,1))], axis=1)\n",
    "            minimum_test = np.concatenate([x_test, np.reshape(y_test,(-1,1))], axis=1)\n",
    "            minimum = temp\n",
    "            \n",
    "        if temp > maximum :\n",
    "            maximum_train = np.concatenate([x_train,np.reshape(y_train,(-1,1))],axis=1)\n",
    "            maximum_test = np.concatenate([x_test,np.reshape(y_test,(-1,1))],axis=1)\n",
    "            maximum = temp\n",
    "            \n",
    "        mse = mse + temp\n",
    "        \n",
    "    x_test = x[d*k:L]\n",
    "    y_test = y[d*k:L]\n",
    "    x_train = x[0:d*k]\n",
    "    y_train = y[0:d*k]\n",
    "    \n",
    "    \n",
    "    \n",
    "    func.fit(x_train, y_train)\n",
    "    \n",
    "    #print(\"%d MSE : %f\"%(d+1, mean_squared_error(y_test, func.predict(x_test))))\n",
    "    \n",
    "    temp = mean_squared_error(y_test, func.predict(x_test))\n",
    "    \n",
    "    if temp < minimum :\n",
    "        minimum_train = np.concatenate([x_train,np.reshape(y_train,(-1,1))],axis=1)\n",
    "        minimum_test = np.concatenate([x_test,np.reshape(y_test,(-1,1))],axis=1)\n",
    "        minimum = temp\n",
    "            \n",
    "    if temp > maximum :\n",
    "        \n",
    "        maximum_train = np.concatenate([x_train, np.reshape(y_train,(-1,1))],axis=1)\n",
    "        maximum_test = np.concatenate([x_test,np.reshape(y_test,(-1,1))],axis=1)\n",
    "        maximum = temp\n",
    "    \n",
    "    mse = mse + temp\n",
    "    \n",
    "    \n",
    "    f=open(txt_file_name,'ab')\n",
    "\n",
    "    np.savetxt(f, np.array([[L, maximum, minimum]]),fmt = '%.6f')\n",
    "    print(\"%d %.4f %.4f\"%(L,maximum, minimum))\n",
    "    \n",
    "    if maximum < 0.5 :\n",
    "        \n",
    "        s = \"pr_v3_DTR_w_ada_rand_5_20_v3_%d.txt\"%j\n",
    "        np.savetxt(s, np.concatenate([x,np.reshape(y,(-1,1))],axis=1) ,fmt = '%.6f')\n",
    "        j = j + 1\n",
    "    \n",
    "    \n",
    "    f.close()\n",
    "    \n",
    "    \n",
    "    return mse/(d+1)\n",
    "\n",
    "\n",
    "\n",
    "\n"
   ]
  },
  {
   "cell_type": "markdown",
   "metadata": {},
   "source": [
    "## Gradient Boosting Regression"
   ]
  },
  {
   "cell_type": "code",
   "execution_count": 4,
   "metadata": {},
   "outputs": [],
   "source": [
    "import numpy as np\n",
    "from sklearn.tree import DecisionTreeRegressor\n",
    "from sklearn.ensemble import AdaBoostRegressor\n",
    "import time"
   ]
  },
  {
   "cell_type": "code",
   "execution_count": 5,
   "metadata": {},
   "outputs": [
    {
     "name": "stdout",
     "output_type": "stream",
     "text": [
      "29 4.0276 0.0576\n",
      "29 3.9740 0.0576\n",
      "20 3.2501 0.0883\n",
      "24 2.1813 0.0734\n",
      "18 5.2978 0.0971\n",
      "30 4.4830 0.0198\n",
      "28 4.9172 0.0554\n",
      "20 4.3965 0.0458\n",
      "23 4.6964 0.1862\n",
      "17 2.1609 0.2868\n",
      "29 9.3080 0.2091\n",
      "27 4.5567 0.0355\n",
      "18 6.3038 0.3649\n",
      "27 2.1551 0.0627\n",
      "29 10.3041 0.2128\n",
      "18 0.4638 0.0506\n"
     ]
    },
    {
     "ename": "UnboundLocalError",
     "evalue": "local variable 'j' referenced before assignment",
     "output_type": "error",
     "traceback": [
      "\u001b[0;31m------------------------------------------------\u001b[0m",
      "\u001b[0;31mUnboundLocalError\u001b[0mTraceback (most recent call last)",
      "\u001b[0;32m<ipython-input-5-68eb38a6351a>\u001b[0m in \u001b[0;36m<module>\u001b[0;34m()\u001b[0m\n\u001b[1;32m     28\u001b[0m \u001b[0;34m\u001b[0m\u001b[0m\n\u001b[1;32m     29\u001b[0m \u001b[0;34m\u001b[0m\u001b[0m\n\u001b[0;32m---> 30\u001b[0;31m     \u001b[0mmse\u001b[0m \u001b[0;34m=\u001b[0m \u001b[0mtest_1\u001b[0m\u001b[0;34m(\u001b[0m\u001b[0mregr_2\u001b[0m\u001b[0;34m,\u001b[0m \u001b[0mX_train\u001b[0m\u001b[0;34m,\u001b[0m \u001b[0mY_train\u001b[0m\u001b[0;34m,\u001b[0m \u001b[0mk\u001b[0m \u001b[0;34m=\u001b[0m \u001b[0;36m4\u001b[0m\u001b[0;34m,\u001b[0m\u001b[0mfile_name\u001b[0m \u001b[0;34m=\u001b[0m \u001b[0;34m\"...\"\u001b[0m\u001b[0;34m)\u001b[0m\u001b[0;34m\u001b[0m\u001b[0m\n\u001b[0m\u001b[1;32m     31\u001b[0m \u001b[0;34m\u001b[0m\u001b[0m\n\u001b[1;32m     32\u001b[0m \u001b[0;34m\u001b[0m\u001b[0m\n",
      "\u001b[0;32m<ipython-input-3-2c69bbeb33c9>\u001b[0m in \u001b[0;36mtest_1\u001b[0;34m(func, x, y, k, file_name)\u001b[0m\n\u001b[1;32m     88\u001b[0m     \u001b[0;32mif\u001b[0m \u001b[0mmaximum\u001b[0m \u001b[0;34m<\u001b[0m \u001b[0;36m0.5\u001b[0m \u001b[0;34m:\u001b[0m\u001b[0;34m\u001b[0m\u001b[0m\n\u001b[1;32m     89\u001b[0m \u001b[0;34m\u001b[0m\u001b[0m\n\u001b[0;32m---> 90\u001b[0;31m         \u001b[0ms\u001b[0m \u001b[0;34m=\u001b[0m \u001b[0;34m\"pr_v3_DTR_w_ada_rand_5_20_v3_%d.txt\"\u001b[0m\u001b[0;34m%\u001b[0m\u001b[0mj\u001b[0m\u001b[0;34m\u001b[0m\u001b[0m\n\u001b[0m\u001b[1;32m     91\u001b[0m         \u001b[0mnp\u001b[0m\u001b[0;34m.\u001b[0m\u001b[0msavetxt\u001b[0m\u001b[0;34m(\u001b[0m\u001b[0ms\u001b[0m\u001b[0;34m,\u001b[0m \u001b[0mnp\u001b[0m\u001b[0;34m.\u001b[0m\u001b[0mconcatenate\u001b[0m\u001b[0;34m(\u001b[0m\u001b[0;34m[\u001b[0m\u001b[0mx\u001b[0m\u001b[0;34m,\u001b[0m\u001b[0mnp\u001b[0m\u001b[0;34m.\u001b[0m\u001b[0mreshape\u001b[0m\u001b[0;34m(\u001b[0m\u001b[0my\u001b[0m\u001b[0;34m,\u001b[0m\u001b[0;34m(\u001b[0m\u001b[0;34m-\u001b[0m\u001b[0;36m1\u001b[0m\u001b[0;34m,\u001b[0m\u001b[0;36m1\u001b[0m\u001b[0;34m)\u001b[0m\u001b[0;34m)\u001b[0m\u001b[0;34m]\u001b[0m\u001b[0;34m,\u001b[0m\u001b[0maxis\u001b[0m\u001b[0;34m=\u001b[0m\u001b[0;36m1\u001b[0m\u001b[0;34m)\u001b[0m \u001b[0;34m,\u001b[0m\u001b[0mfmt\u001b[0m \u001b[0;34m=\u001b[0m \u001b[0;34m'%.6f'\u001b[0m\u001b[0;34m)\u001b[0m\u001b[0;34m\u001b[0m\u001b[0m\n\u001b[1;32m     92\u001b[0m         \u001b[0mj\u001b[0m \u001b[0;34m=\u001b[0m \u001b[0mj\u001b[0m \u001b[0;34m+\u001b[0m \u001b[0;36m1\u001b[0m\u001b[0;34m\u001b[0m\u001b[0m\n",
      "\u001b[0;31mUnboundLocalError\u001b[0m: local variable 'j' referenced before assignment"
     ]
    }
   ],
   "source": [
    "\n",
    "\n",
    "\n",
    "\n",
    "\n",
    "\n",
    "\n",
    "\n",
    "\n",
    "for i in range(0, 10000) : \n",
    "\n",
    "    data = np.genfromtxt('data.txt')\n",
    "    \n",
    "    rng = np.random.RandomState(int(time.time())+np.random.randint(1,100))\n",
    "    \n",
    "    np.random.seed(int(time.time())+np.random.randint(1,100))\n",
    "    np.random.shuffle(data)\n",
    "\n",
    "    aaa = np.random.randint(5,20)\n",
    "    \n",
    "    X_train = data[: - aaa,0:6]\n",
    "    Y_train = data[: - aaa,6]\n",
    "\n",
    "\n",
    "\n",
    "    regr_2 = AdaBoostRegressor(DecisionTreeRegressor(max_depth=4),\n",
    "                           n_estimators=300, random_state=rng)\n",
    "\n",
    "\n",
    "    mse = test_1(regr_2, X_train, Y_train, k = 4,file_name = \"...\")\n",
    "\n",
    "\n",
    "\n",
    "#print(\"MSE: %.4f\" % mse)"
   ]
  },
  {
   "cell_type": "code",
   "execution_count": null,
   "metadata": {},
   "outputs": [],
   "source": [
    "\n",
    "print(np.random.randint(1,10))"
   ]
  },
  {
   "cell_type": "code",
   "execution_count": null,
   "metadata": {},
   "outputs": [],
   "source": [
    "#c = 'test'\n",
    "\n",
    "#f=open('temp.txt','ab')\n",
    "\n",
    "#np.savetxt(f, np.array([c]),fmt = '%s')\n",
    "#np.savetxt(f, d, delimiter=' ',fmt = '%.3f')\n",
    "\n",
    "#f.close()\n",
    "\n"
   ]
  },
  {
   "cell_type": "code",
   "execution_count": null,
   "metadata": {},
   "outputs": [],
   "source": [
    "i = 4\n",
    "\n",
    "print(\"sdsd_%d\"%i)"
   ]
  },
  {
   "cell_type": "code",
   "execution_count": null,
   "metadata": {},
   "outputs": [],
   "source": []
  },
  {
   "cell_type": "code",
   "execution_count": null,
   "metadata": {},
   "outputs": [],
   "source": []
  }
 ],
 "metadata": {
  "kernelspec": {
   "display_name": "Python 3",
   "language": "python",
   "name": "python3"
  },
  "language_info": {
   "codemirror_mode": {
    "name": "ipython",
    "version": 3
   },
   "file_extension": ".py",
   "mimetype": "text/x-python",
   "name": "python",
   "nbconvert_exporter": "python",
   "pygments_lexer": "ipython3",
   "version": "3.5.2"
  }
 },
 "nbformat": 4,
 "nbformat_minor": 2
}
