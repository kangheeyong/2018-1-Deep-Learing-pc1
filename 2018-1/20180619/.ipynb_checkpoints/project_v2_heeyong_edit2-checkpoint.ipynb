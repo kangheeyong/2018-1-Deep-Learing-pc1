{
 "cells": [
  {
   "cell_type": "markdown",
   "metadata": {},
   "source": [
    "# no normalizing version\n"
   ]
  },
  {
   "cell_type": "code",
   "execution_count": 1,
   "metadata": {},
   "outputs": [],
   "source": [
    "import numpy as np\n",
    "import pandas as pd\n",
    "import matplotlib.pyplot as plt"
   ]
  },
  {
   "cell_type": "code",
   "execution_count": 2,
   "metadata": {},
   "outputs": [],
   "source": [
    "data = np.genfromtxt('data.txt')\n",
    "\n",
    "np.random.seed(12)\n",
    "np.random.shuffle(data)\n",
    "\n",
    "X = data[:,0:6]\n",
    "Y = data[:,6:16]\n",
    "dfX=pd.DataFrame(X)\n",
    "dfy=pd.DataFrame(Y)\n",
    "\n",
    "table=pd.concat([dfX, dfy], axis=1)\n",
    "table.columns=['SiH4','N2O','Temp','Pressure','RF Power','Time','Thickness','Depo. Rate','Uniformity','Ref. Index','Permittivity','Etch Rate','Stress','H2O','SiOH']"
   ]
  },
  {
   "cell_type": "code",
   "execution_count": 3,
   "metadata": {},
   "outputs": [
    {
     "name": "stdout",
     "output_type": "stream",
     "text": [
      "     SiH4     N2O   Temp  Pressure  RF Power   Time  Thickness  Depo. Rate  \\\n",
      "0   667.0   333.0  375.0      1.80     150.0   60.0       4.49       749.0   \n",
      "1   550.0  1100.0  375.0      1.80     150.0   25.0       1.57       628.0   \n",
      "2   300.0   600.0  375.0      1.80     150.0   65.0       1.95       301.0   \n",
      "3   700.0  1400.0  375.0      1.80     150.0   35.0       2.85       813.0   \n",
      "4   200.0   900.0  200.0      1.80     150.0  261.0       5.12       196.0   \n",
      "5   200.0   900.0  400.0      1.80      20.0  180.0       4.83       268.0   \n",
      "6   400.0   900.0  200.0      1.10      20.0  154.0       5.78       375.0   \n",
      "7   400.0   900.0  400.0      0.25      20.0  600.0       3.36        56.0   \n",
      "8   909.0    91.0  375.0      1.80     150.0   40.0       4.25      1064.0   \n",
      "9   200.0   400.0  200.0      1.80      20.0  187.0       5.69       304.0   \n",
      "10  400.0   400.0  400.0      1.80      20.0  111.0       5.10       460.0   \n",
      "11  400.0   900.0  150.0      0.50      20.0  220.0       4.63       210.0   \n",
      "12  300.0   650.0  300.0      1.03      85.0  115.0       4.96       432.0   \n",
      "13  400.0   900.0  250.0      1.10      80.0   85.0       5.01       587.0   \n",
      "14  300.0   650.0  300.0      1.03      85.0  115.0       4.92       428.0   \n",
      "15  400.0   900.0  200.0      0.50      80.0  164.0       5.31       324.0   \n",
      "16  100.0   200.0  375.0      1.80     150.0  105.0       0.79        75.0   \n",
      "17  400.0   900.0  200.0      1.80     150.0  126.0       4.99       396.0   \n",
      "18  400.0   900.0  200.0      1.80      20.0  180.0       4.36       242.0   \n",
      "19  200.0   400.0  400.0      0.25      20.0  468.0       5.76       123.0   \n",
      "20  400.0   900.0  400.0      1.80     150.0  123.0       5.24       426.0   \n",
      "21  400.0   900.0  250.0      1.80      20.0  155.0       5.44       351.0   \n",
      "22  400.0   900.0  150.0      1.10     150.0   90.0       5.14       571.0   \n",
      "23  200.0   900.0  400.0      0.25     150.0  243.0       5.39       222.0   \n",
      "24  400.0   900.0  200.0      0.25     150.0  157.0       5.68       362.0   \n",
      "25  833.0   167.0  375.0      1.80     150.0   45.0       4.52      1005.0   \n",
      "26  400.0   400.0  200.0      0.25      20.0  381.0       5.29       139.0   \n",
      "27  333.0   667.0  375.0      1.80     150.0   60.0       1.98       331.0   \n",
      "28  200.0   400.0  200.0      0.25     150.0  192.0       5.52       287.0   \n",
      "29  200.0   900.0  200.0      0.25      20.0  569.0       5.75       101.0   \n",
      "30  400.0   900.0  150.0      1.80      80.0  128.0       5.23       409.0   \n",
      "31  300.0   650.0  300.0      1.03      85.0  115.0       4.98       433.0   \n",
      "32  400.0   400.0  400.0      0.25     150.0  134.0       6.09       454.0   \n",
      "33  200.0   400.0  400.0      1.80     150.0  281.0       4.86       173.0   \n",
      "34  400.0   900.0  250.0      0.50     150.0  110.0       5.41       491.0   \n",
      "35  400.0   400.0  200.0      1.80     150.0  136.0       4.80       352.0   \n",
      "\n",
      "    Uniformity  Ref. Index  Permittivity  Etch Rate  Stress   H2O  SiOH  \n",
      "0         1.34       1.458          4.23     1570.0  -510.3  2.25  8.82  \n",
      "1         1.91       1.459          4.03     1650.0  -655.6  0.67  4.89  \n",
      "2         1.54       1.463          4.00     1130.0  -747.4  2.32  1.42  \n",
      "3         4.56       1.459          4.14     1590.0  -617.5  0.70  5.26  \n",
      "4         1.37       1.463          4.99     1630.0  -187.6  2.32  4.82  \n",
      "5         1.45       1.452          4.30     1130.0  -178.4  1.74  4.77  \n",
      "6         1.74       1.466          6.17     3420.0   -42.0  2.97  6.28  \n",
      "7         2.08       1.467          6.04     6630.0  -231.3  3.26  6.12  \n",
      "8         0.94       1.480          4.11     1100.0  -288.4  2.34  8.79  \n",
      "9        11.34       1.464          7.71     1400.0   -32.3  1.18  2.98  \n",
      "10        6.67       1.459          4.36     1070.0  -121.5  1.79  5.21  \n",
      "11       65.00       1.459          8.29   151900.0   -10.0  3.16  6.84  \n",
      "12        1.41       1.462          4.33      300.0  -403.7  1.84  4.24  \n",
      "13        2.00       1.460          5.63      690.0  -301.6  3.36  7.08  \n",
      "14        1.42       1.461          4.32     1030.0  -407.4  2.10  4.01  \n",
      "15        2.26       1.467          6.61    19470.0  -155.0  4.46  4.88  \n",
      "16        1.27       1.465          3.15     1050.0  -252.7  0.11  2.93  \n",
      "17        2.81       1.463          6.26     2370.0  -349.0  3.00  6.06  \n",
      "18       12.39       1.462          5.63     2650.0  -111.1  1.06  3.03  \n",
      "19        9.40       1.467          5.18     4680.0  -313.8  3.18  4.86  \n",
      "20        3.24       1.461          4.21      760.0  -371.5  2.02  2.36  \n",
      "21        2.59       1.461          5.89     1270.0  -240.9  1.97  3.70  \n",
      "22        0.97       1.456          7.19     4440.0   -76.0  3.82  5.07  \n",
      "23       17.63       1.470          4.23      620.0  -309.2  1.22  4.98  \n",
      "24       13.38       1.451          7.60     4390.0  -246.0  5.92  6.59  \n",
      "25        0.66       1.459          4.28     1410.0  -432.1  2.34  8.79  \n",
      "26        1.13       1.458          7.15    15820.0  -145.8  6.90  6.37  \n",
      "27        1.52       1.465          3.95     1110.0  -356.0  2.39  1.38  \n",
      "28        3.80       1.452          7.64    31130.0  -173.2  4.41  7.53  \n",
      "29        4.52       1.424         10.32    38130.0  -122.8  6.62  7.16  \n",
      "30        2.88       1.454          6.64     6500.0   -16.0  3.95  4.94  \n",
      "31        1.00       1.462          4.34      330.0  -411.9  2.37  4.43  \n",
      "32       15.11       1.471          4.42     1240.0  -345.2  0.95  5.00  \n",
      "33        2.88       1.465          4.19      540.0  -275.1  1.32  3.07  \n",
      "34        5.73       1.468          5.85     2800.0  -145.0  1.24  5.91  \n",
      "35        0.42       1.459          4.67     1280.0  -259.1  2.61  8.54  \n"
     ]
    }
   ],
   "source": [
    "print(table)"
   ]
  },
  {
   "cell_type": "code",
   "execution_count": 4,
   "metadata": {},
   "outputs": [],
   "source": [
    "from sklearn.metrics import mean_squared_error\n",
    "\n",
    "\n",
    "\n",
    "\n",
    "def test_1(func, x, y, k) :\n",
    "    \n",
    "    L = x.shape[0]\n",
    "       \n",
    "    if k >= L :\n",
    "        print('error\\n')\n",
    "        return -1\n",
    "    \n",
    "    d = int(L/k)\n",
    "      \n",
    "    mse = 0.0\n",
    "    \n",
    "    for i in range(0,d) :\n",
    "        \n",
    "        x_test = x[i*k:(i+1)*k]\n",
    "        y_test = y[i*k:(i+1)*k]\n",
    "        \n",
    "        x_train = np.concatenate([x[0 : i*k], x[(i+1)*k : L]], axis=0)\n",
    "        y_train = np.concatenate([y[0 : i*k], y[(i+1)*k : L]], axis=0)\n",
    "        \n",
    "        func.fit(x_train, y_train)\n",
    "        print(\"%d MSE : %f\" %(i+1,mean_squared_error(y_test, func.predict(x_test))))\n",
    "        mse = mse + mean_squared_error(y_test, func.predict(x_test))\n",
    "        \n",
    "    x_test = x[d*k:L]\n",
    "    y_test = y[d*k:L]\n",
    "    x_train = x[0:d*k]\n",
    "    y_train = y[0:d*k]\n",
    "    \n",
    "    func.fit(x_train, y_train)\n",
    "    print(\"%d MSE : %f\"%(d+1, mean_squared_error(y_test, func.predict(x_test))))\n",
    "    mse = mse + mean_squared_error(y_test, func.predict(x_test))\n",
    "    \n",
    "    return mse/(d+1)\n",
    "\n",
    "def test_2(func, x, y) :\n",
    "    \n",
    "    L = x.shape[0]\n",
    "      \n",
    "    x_test = x[0:L - 5]\n",
    "    y_test = y[0:L - 5]\n",
    "    x_train = x[L-5:L]\n",
    "    y_train = y[L-5:L]\n",
    "    \n",
    "    func.fit(x_train, y_train)\n",
    "    print(\"MSE : %f\"%( mean_squared_error(y_test, func.predict(x_test))))\n",
    "    mse = mean_squared_error(y_test, func.predict(x_test))\n",
    "    \n",
    "    return mse\n",
    "\n",
    "\n",
    "\n",
    "X_train = X[:,:]\n",
    "Y_train = Y[:,0]"
   ]
  },
  {
   "cell_type": "markdown",
   "metadata": {},
   "source": [
    "## Linear_regression"
   ]
  },
  {
   "cell_type": "markdown",
   "metadata": {},
   "source": [
    "### Multivariate regression  "
   ]
  },
  {
   "cell_type": "code",
   "execution_count": 5,
   "metadata": {},
   "outputs": [
    {
     "name": "stdout",
     "output_type": "stream",
     "text": [
      "1 MSE : 3.489832\n",
      "2 MSE : 2.577057\n",
      "3 MSE : 0.736464\n",
      "4 MSE : 3.521751\n",
      "5 MSE : 1.754745\n",
      "6 MSE : 0.908321\n",
      "7 MSE : 1.270618\n",
      "8 MSE : 0.024112\n",
      "MSE: 1.7854\n"
     ]
    }
   ],
   "source": [
    "from sklearn import linear_model\n",
    "\n",
    "MulReg=linear_model.LinearRegression()\n",
    "\n",
    "mse = test_1(MulReg, X_train, Y_train, k = 5)\n",
    "\n",
    "\n",
    "print(\"MSE: %.4f\" % mse)"
   ]
  },
  {
   "cell_type": "markdown",
   "metadata": {},
   "source": [
    "### Ridge Regression (Linear least squares with l2 regularization)"
   ]
  },
  {
   "cell_type": "code",
   "execution_count": 6,
   "metadata": {},
   "outputs": [
    {
     "name": "stdout",
     "output_type": "stream",
     "text": [
      "1 MSE : 3.504416\n",
      "2 MSE : 2.565328\n",
      "3 MSE : 0.727332\n",
      "4 MSE : 3.535199\n",
      "5 MSE : 1.766276\n",
      "6 MSE : 0.903486\n",
      "7 MSE : 1.287312\n",
      "8 MSE : 0.018671\n",
      "MSE: 1.7885\n"
     ]
    }
   ],
   "source": [
    "ridge = linear_model.Ridge(alpha=0.35)\n",
    "\n",
    "mse = test_1(ridge, X_train, Y_train, k = 5)\n",
    "\n",
    "print(\"MSE: %.4f\" % mse)"
   ]
  },
  {
   "cell_type": "markdown",
   "metadata": {},
   "source": [
    "### Lasso Regression (Linear least squares with l1 regularization)"
   ]
  },
  {
   "cell_type": "code",
   "execution_count": 7,
   "metadata": {},
   "outputs": [
    {
     "name": "stdout",
     "output_type": "stream",
     "text": [
      "1 MSE : 4.053972\n",
      "2 MSE : 2.327574\n",
      "3 MSE : 0.632746\n",
      "4 MSE : 3.956104\n",
      "5 MSE : 2.182056\n",
      "6 MSE : 0.893283\n",
      "7 MSE : 1.790052\n",
      "8 MSE : 0.134147\n",
      "MSE: 1.9962\n"
     ]
    }
   ],
   "source": [
    "lasso = linear_model.Lasso(alpha=0.35)\n",
    "\n",
    "\n",
    "mse = test_1(lasso, X_train, Y_train, k = 5)\n",
    "\n",
    "\n",
    "print(\"MSE: %.4f\" % mse)"
   ]
  },
  {
   "cell_type": "markdown",
   "metadata": {},
   "source": [
    "# Support Vecter Regression\n",
    "\n"
   ]
  },
  {
   "cell_type": "markdown",
   "metadata": {},
   "source": [
    "### rbf kernel?"
   ]
  },
  {
   "cell_type": "code",
   "execution_count": 10,
   "metadata": {},
   "outputs": [],
   "source": [
    "import numpy as np\n",
    "from sklearn.svm import SVR"
   ]
  },
  {
   "cell_type": "code",
   "execution_count": 11,
   "metadata": {},
   "outputs": [
    {
     "name": "stdout",
     "output_type": "stream",
     "text": [
      "1 MSE : 4.597120\n",
      "2 MSE : 0.881018\n",
      "3 MSE : 0.103333\n",
      "4 MSE : 3.351077\n",
      "5 MSE : 0.895360\n",
      "6 MSE : 1.903993\n",
      "7 MSE : 0.840897\n",
      "8 MSE : 0.049580\n",
      "MSE: 1.5778\n"
     ]
    }
   ],
   "source": [
    "svr_rbf = SVR(kernel='rbf', C=1e3, gamma=0.1)\n",
    "\n",
    "mse = test_1(svr_rbf, X_train, Y_train, k = 5)\n",
    "\n",
    "\n",
    "print(\"MSE: %.4f\" % mse)"
   ]
  },
  {
   "cell_type": "markdown",
   "metadata": {},
   "source": [
    "### sigmoid kernel"
   ]
  },
  {
   "cell_type": "code",
   "execution_count": 13,
   "metadata": {},
   "outputs": [
    {
     "name": "stdout",
     "output_type": "stream",
     "text": [
      "1 MSE : 5.563680\n",
      "2 MSE : 0.897400\n",
      "3 MSE : 0.051145\n",
      "4 MSE : 3.807880\n",
      "5 MSE : 0.243940\n",
      "6 MSE : 2.069480\n",
      "7 MSE : 0.279640\n",
      "8 MSE : 0.062500\n",
      "MSE: 1.6220\n"
     ]
    }
   ],
   "source": [
    "svr_sigmoid = SVR(kernel='sigmoid', C=1e3, gamma=0.1)\n",
    "\n",
    "mse = test_1(svr_sigmoid, X_train, Y_train, k = 5)\n",
    "\n",
    "\n",
    "print(\"MSE: %.4f\" % mse)"
   ]
  },
  {
   "cell_type": "markdown",
   "metadata": {},
   "source": [
    "## Decision Tree Regression\n",
    "### basic"
   ]
  },
  {
   "cell_type": "code",
   "execution_count": 16,
   "metadata": {},
   "outputs": [],
   "source": [
    "import numpy as np\n",
    "from sklearn.tree import DecisionTreeRegressor"
   ]
  },
  {
   "cell_type": "code",
   "execution_count": 17,
   "metadata": {},
   "outputs": [
    {
     "name": "stdout",
     "output_type": "stream",
     "text": [
      "1 MSE : 3.558679\n",
      "2 MSE : 2.943755\n",
      "3 MSE : 0.227808\n",
      "4 MSE : 3.691493\n",
      "5 MSE : 0.062966\n",
      "6 MSE : 1.169200\n",
      "7 MSE : 0.183074\n",
      "8 MSE : 0.171848\n",
      "MSE: 1.5011\n"
     ]
    }
   ],
   "source": [
    "regr_1 = DecisionTreeRegressor(max_depth=4)\n",
    "\n",
    "mse = test_1(regr_1, X_train, Y_train, k = 5)\n",
    "\n",
    "print(\"MSE: %.4f\" % mse)\n",
    "\n"
   ]
  },
  {
   "cell_type": "markdown",
   "metadata": {},
   "source": [
    "### with AdaBoost"
   ]
  },
  {
   "cell_type": "code",
   "execution_count": 18,
   "metadata": {},
   "outputs": [],
   "source": [
    "import numpy as np\n",
    "from sklearn.tree import DecisionTreeRegressor\n",
    "from sklearn.ensemble import AdaBoostRegressor"
   ]
  },
  {
   "cell_type": "code",
   "execution_count": 19,
   "metadata": {},
   "outputs": [
    {
     "name": "stdout",
     "output_type": "stream",
     "text": [
      "1 MSE : 1.830838\n",
      "2 MSE : 1.416344\n",
      "3 MSE : 0.218121\n",
      "4 MSE : 3.762550\n",
      "5 MSE : 0.097482\n",
      "6 MSE : 1.207140\n",
      "7 MSE : 0.218680\n",
      "8 MSE : 0.126846\n",
      "MSE: 1.1098\n"
     ]
    }
   ],
   "source": [
    "rng = np.random.RandomState(1)\n",
    "\n",
    "\n",
    "regr_2 = AdaBoostRegressor(DecisionTreeRegressor(max_depth=4),\n",
    "                           n_estimators=300, random_state=rng)\n",
    "\n",
    "\n",
    "mse = test_1(regr_2, X_train, Y_train, k = 5)\n",
    "print(\"MSE: %.4f\" % mse)\n",
    "\n",
    "\n"
   ]
  },
  {
   "cell_type": "markdown",
   "metadata": {},
   "source": [
    "## Gradient Boosting Regression"
   ]
  },
  {
   "cell_type": "code",
   "execution_count": 20,
   "metadata": {},
   "outputs": [],
   "source": [
    "from sklearn import ensemble"
   ]
  },
  {
   "cell_type": "code",
   "execution_count": 21,
   "metadata": {},
   "outputs": [
    {
     "name": "stdout",
     "output_type": "stream",
     "text": [
      "1 MSE : 1.023105\n",
      "2 MSE : 1.429912\n",
      "3 MSE : 0.091072\n",
      "4 MSE : 3.625780\n",
      "5 MSE : 0.042804\n",
      "6 MSE : 1.098253\n",
      "7 MSE : 0.227660\n",
      "8 MSE : 0.161117\n",
      "MSE: 0.9625\n"
     ]
    }
   ],
   "source": [
    "params = {'n_estimators': 500, 'max_depth': 6, 'min_samples_split': 4,\n",
    "          'learning_rate': 0.005, 'loss': 'ls'}\n",
    "\n",
    "GBR = ensemble.GradientBoostingRegressor(**params)\n",
    "\n",
    "\n",
    "\n",
    "mse = test_1(GBR, X_train, Y_train, k = 5)\n",
    "\n",
    "print(\"MSE: %.4f\" % mse)"
   ]
  },
  {
   "cell_type": "code",
   "execution_count": null,
   "metadata": {},
   "outputs": [],
   "source": []
  },
  {
   "cell_type": "code",
   "execution_count": null,
   "metadata": {},
   "outputs": [],
   "source": []
  },
  {
   "cell_type": "code",
   "execution_count": null,
   "metadata": {},
   "outputs": [],
   "source": []
  },
  {
   "cell_type": "code",
   "execution_count": null,
   "metadata": {},
   "outputs": [],
   "source": []
  },
  {
   "cell_type": "code",
   "execution_count": null,
   "metadata": {},
   "outputs": [],
   "source": []
  }
 ],
 "metadata": {
  "kernelspec": {
   "display_name": "Python 3",
   "language": "python",
   "name": "python3"
  },
  "language_info": {
   "codemirror_mode": {
    "name": "ipython",
    "version": 3
   },
   "file_extension": ".py",
   "mimetype": "text/x-python",
   "name": "python",
   "nbconvert_exporter": "python",
   "pygments_lexer": "ipython3",
   "version": "3.5.2"
  }
 },
 "nbformat": 4,
 "nbformat_minor": 2
}
