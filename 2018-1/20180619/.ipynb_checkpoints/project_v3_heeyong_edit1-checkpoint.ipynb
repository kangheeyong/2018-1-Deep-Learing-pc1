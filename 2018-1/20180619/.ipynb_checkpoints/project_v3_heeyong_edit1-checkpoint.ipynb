{
 "cells": [
  {
   "cell_type": "markdown",
   "metadata": {},
   "source": [
    "# no normalizing version\n"
   ]
  },
  {
   "cell_type": "code",
   "execution_count": 1,
   "metadata": {},
   "outputs": [],
   "source": [
    "import numpy as np\n",
    "import pandas as pd\n",
    "import matplotlib.pyplot as plt"
   ]
  },
  {
   "cell_type": "code",
   "execution_count": 2,
   "metadata": {},
   "outputs": [],
   "source": [
    "data = np.genfromtxt('data.txt')\n",
    "\n",
    "\n",
    "txt_file_name = '.txt'\n",
    "np.random.seed(9)\n",
    "np.random.shuffle(data)\n",
    "\n",
    "X = data[:,0:6]\n",
    "Y = data[:,6:16]\n",
    "dfX=pd.DataFrame(X)\n",
    "dfy=pd.DataFrame(Y)\n",
    "\n",
    "table=pd.concat([dfX, dfy], axis=1)\n",
    "table.columns=['SiH4','N2O','Temp','Pressure','RF Power','Time','Thickness','Depo. Rate','Uniformity','Ref. Index','Permittivity','Etch Rate','Stress','H2O','SiOH']"
   ]
  },
  {
   "cell_type": "code",
   "execution_count": 3,
   "metadata": {},
   "outputs": [
    {
     "name": "stdout",
     "output_type": "stream",
     "text": [
      "     SiH4     N2O   Temp  Pressure  RF Power   Time  Thickness  Depo. Rate  \\\n",
      "0   909.0    91.0  375.0      1.80     150.0   40.0       4.25      1064.0   \n",
      "1   300.0   650.0  300.0      1.03      85.0  115.0       4.96       432.0   \n",
      "2   400.0   900.0  400.0      0.25      20.0  600.0       3.36        56.0   \n",
      "3   400.0   400.0  400.0      0.25     150.0  134.0       6.09       454.0   \n",
      "4   200.0   900.0  400.0      0.25     150.0  243.0       5.39       222.0   \n",
      "5   400.0   900.0  150.0      1.10     150.0   90.0       5.14       571.0   \n",
      "6   400.0   900.0  150.0      1.80      80.0  128.0       5.23       409.0   \n",
      "7   400.0   900.0  250.0      1.10      80.0   85.0       5.01       587.0   \n",
      "8   400.0   900.0  200.0      1.80     150.0  126.0       4.99       396.0   \n",
      "9   100.0   200.0  375.0      1.80     150.0  105.0       0.79        75.0   \n",
      "10  300.0   650.0  300.0      1.03      85.0  115.0       4.92       428.0   \n",
      "11  200.0   400.0  200.0      1.80      20.0  187.0       5.69       304.0   \n",
      "12  200.0   400.0  400.0      1.80     150.0  281.0       4.86       173.0   \n",
      "13  200.0   400.0  200.0      0.25     150.0  192.0       5.52       287.0   \n",
      "14  400.0   900.0  200.0      0.25     150.0  157.0       5.68       362.0   \n",
      "15  400.0   400.0  200.0      1.80     150.0  136.0       4.80       352.0   \n",
      "16  300.0   650.0  300.0      1.03      85.0  115.0       4.98       433.0   \n",
      "17  400.0   900.0  250.0      1.80      20.0  155.0       5.44       351.0   \n",
      "18  200.0   900.0  200.0      1.80     150.0  261.0       5.12       196.0   \n",
      "19  200.0   900.0  200.0      0.25      20.0  569.0       5.75       101.0   \n",
      "20  550.0  1100.0  375.0      1.80     150.0   25.0       1.57       628.0   \n",
      "21  400.0   900.0  400.0      1.80     150.0  123.0       5.24       426.0   \n",
      "22  200.0   900.0  400.0      1.80      20.0  180.0       4.83       268.0   \n",
      "23  200.0   400.0  400.0      0.25      20.0  468.0       5.76       123.0   \n",
      "24  400.0   900.0  200.0      1.10      20.0  154.0       5.78       375.0   \n",
      "25  667.0   333.0  375.0      1.80     150.0   60.0       4.49       749.0   \n",
      "26  300.0   600.0  375.0      1.80     150.0   65.0       1.95       301.0   \n",
      "27  400.0   400.0  200.0      0.25      20.0  381.0       5.29       139.0   \n",
      "28  700.0  1400.0  375.0      1.80     150.0   35.0       2.85       813.0   \n",
      "29  400.0   900.0  200.0      1.80      20.0  180.0       4.36       242.0   \n",
      "30  400.0   900.0  250.0      0.50     150.0  110.0       5.41       491.0   \n",
      "31  833.0   167.0  375.0      1.80     150.0   45.0       4.52      1005.0   \n",
      "32  400.0   900.0  200.0      0.50      80.0  164.0       5.31       324.0   \n",
      "33  400.0   400.0  400.0      1.80      20.0  111.0       5.10       460.0   \n",
      "34  333.0   667.0  375.0      1.80     150.0   60.0       1.98       331.0   \n",
      "35  400.0   900.0  150.0      0.50      20.0  220.0       4.63       210.0   \n",
      "\n",
      "    Uniformity  Ref. Index  Permittivity  Etch Rate  Stress   H2O  SiOH  \n",
      "0         0.94       1.480          4.11     1100.0  -288.4  2.34  8.79  \n",
      "1         1.41       1.462          4.33      300.0  -403.7  1.84  4.24  \n",
      "2         2.08       1.467          6.04     6630.0  -231.3  3.26  6.12  \n",
      "3        15.11       1.471          4.42     1240.0  -345.2  0.95  5.00  \n",
      "4        17.63       1.470          4.23      620.0  -309.2  1.22  4.98  \n",
      "5         0.97       1.456          7.19     4440.0   -76.0  3.82  5.07  \n",
      "6         2.88       1.454          6.64     6500.0   -16.0  3.95  4.94  \n",
      "7         2.00       1.460          5.63      690.0  -301.6  3.36  7.08  \n",
      "8         2.81       1.463          6.26     2370.0  -349.0  3.00  6.06  \n",
      "9         1.27       1.465          3.15     1050.0  -252.7  0.11  2.93  \n",
      "10        1.42       1.461          4.32     1030.0  -407.4  2.10  4.01  \n",
      "11       11.34       1.464          7.71     1400.0   -32.3  1.18  2.98  \n",
      "12        2.88       1.465          4.19      540.0  -275.1  1.32  3.07  \n",
      "13        3.80       1.452          7.64    31130.0  -173.2  4.41  7.53  \n",
      "14       13.38       1.451          7.60     4390.0  -246.0  5.92  6.59  \n",
      "15        0.42       1.459          4.67     1280.0  -259.1  2.61  8.54  \n",
      "16        1.00       1.462          4.34      330.0  -411.9  2.37  4.43  \n",
      "17        2.59       1.461          5.89     1270.0  -240.9  1.97  3.70  \n",
      "18        1.37       1.463          4.99     1630.0  -187.6  2.32  4.82  \n",
      "19        4.52       1.424         10.32    38130.0  -122.8  6.62  7.16  \n",
      "20        1.91       1.459          4.03     1650.0  -655.6  0.67  4.89  \n",
      "21        3.24       1.461          4.21      760.0  -371.5  2.02  2.36  \n",
      "22        1.45       1.452          4.30     1130.0  -178.4  1.74  4.77  \n",
      "23        9.40       1.467          5.18     4680.0  -313.8  3.18  4.86  \n",
      "24        1.74       1.466          6.17     3420.0   -42.0  2.97  6.28  \n",
      "25        1.34       1.458          4.23     1570.0  -510.3  2.25  8.82  \n",
      "26        1.54       1.463          4.00     1130.0  -747.4  2.32  1.42  \n",
      "27        1.13       1.458          7.15    15820.0  -145.8  6.90  6.37  \n",
      "28        4.56       1.459          4.14     1590.0  -617.5  0.70  5.26  \n",
      "29       12.39       1.462          5.63     2650.0  -111.1  1.06  3.03  \n",
      "30        5.73       1.468          5.85     2800.0  -145.0  1.24  5.91  \n",
      "31        0.66       1.459          4.28     1410.0  -432.1  2.34  8.79  \n",
      "32        2.26       1.467          6.61    19470.0  -155.0  4.46  4.88  \n",
      "33        6.67       1.459          4.36     1070.0  -121.5  1.79  5.21  \n",
      "34        1.52       1.465          3.95     1110.0  -356.0  2.39  1.38  \n",
      "35       65.00       1.459          8.29   151900.0   -10.0  3.16  6.84  \n"
     ]
    }
   ],
   "source": [
    "print(table)"
   ]
  },
  {
   "cell_type": "code",
   "execution_count": 4,
   "metadata": {},
   "outputs": [],
   "source": [
    "from sklearn.metrics import mean_squared_error\n",
    "\n",
    "#txt_file_name = 'sample_0.txt'\n",
    "\n",
    "\n",
    "def test_1(func, x, y, k, file_name = \"default\") :\n",
    "    \n",
    "    print(file_name)\n",
    "    \n",
    "    L = x.shape[0]\n",
    "       \n",
    "    if k >= L :\n",
    "        print('error\\n')\n",
    "        return -1\n",
    "    \n",
    "    if L%k == 0 :\n",
    "        d = int(L/k) - 1\n",
    "    else :\n",
    "        d = int(L/k)\n",
    "      \n",
    "    mse = 0.0\n",
    "    \n",
    "    \n",
    "    minimum = 1000.0\n",
    "    maximum = -1000.0\n",
    "    \n",
    "    \n",
    "    \n",
    "    for i in range(0,d) :\n",
    "        \n",
    "        x_test = x[i*k:(i+1)*k]\n",
    "        y_test = y[i*k:(i+1)*k]\n",
    "        \n",
    "        x_train = np.concatenate([x[0 : i*k], x[(i+1)*k : L]], axis=0)\n",
    "        y_train = np.concatenate([y[0 : i*k], y[(i+1)*k : L]], axis=0)\n",
    "        \n",
    "        func.fit(x_train, y_train)\n",
    "        print(\"%d MSE : %f\" %(i+1,mean_squared_error(y_test, func.predict(x_test))))\n",
    "      \n",
    "        temp = mean_squared_error(y_test, func.predict(x_test))\n",
    "        \n",
    "   \n",
    "        \n",
    "        if temp < minimum :\n",
    "            minimum_train = np.concatenate([x_train, np.reshape(y_train,(-1,1))], axis=1)\n",
    "            minimum_test = np.concatenate([x_test, np.reshape(y_test,(-1,1))], axis=1)\n",
    "            minimum = temp\n",
    "            \n",
    "        if temp > maximum :\n",
    "            maximum_train = np.concatenate([x_train,np.reshape(y_train,(-1,1))],axis=1)\n",
    "            maximum_test = np.concatenate([x_test,np.reshape(y_test,(-1,1))],axis=1)\n",
    "            maximum = temp\n",
    "            \n",
    "        mse = mse + temp\n",
    "        \n",
    "    x_test = x[d*k:L]\n",
    "    y_test = y[d*k:L]\n",
    "    x_train = x[0:d*k]\n",
    "    y_train = y[0:d*k]\n",
    "    \n",
    "    \n",
    "    \n",
    "    func.fit(x_train, y_train)\n",
    "    \n",
    "    print(\"%d MSE : %f\"%(d+1, mean_squared_error(y_test, func.predict(x_test))))\n",
    "    \n",
    "    temp = mean_squared_error(y_test, func.predict(x_test))\n",
    "    \n",
    "    if temp < minimum :\n",
    "        minimum_train = np.concatenate([x_train,np.reshape(y_train,(-1,1))],axis=1)\n",
    "        minimum_test = np.concatenate([x_test,np.reshape(y_test,(-1,1))],axis=1)\n",
    "        minimum = temp\n",
    "            \n",
    "    if temp > maximum :\n",
    "        maximum_train = np.concatenate([x_train,y_train],axis=1)\n",
    "        maximum_test = np.concatenate([x_test,y_test],axis=1)\n",
    "        maximum = temp\n",
    "    \n",
    "    mse = mse + temp\n",
    "    \n",
    "    \n",
    "    f=open(txt_file_name,'ab')\n",
    "\n",
    "    np.savetxt(f, np.array([maximum, minimum]),fmt = '%.6f')\n",
    "    \n",
    "    \n",
    "    f.close()\n",
    "    \n",
    "    \n",
    "    return mse/(d+1)\n",
    "\n",
    "\n",
    "\n",
    "\n",
    "X_train = X[:,:]\n",
    "Y_train = Y[:,0]"
   ]
  },
  {
   "cell_type": "markdown",
   "metadata": {},
   "source": [
    "## Gradient Boosting Regression"
   ]
  },
  {
   "cell_type": "code",
   "execution_count": 15,
   "metadata": {},
   "outputs": [],
   "source": [
    "from sklearn import ensemble"
   ]
  },
  {
   "cell_type": "code",
   "execution_count": 16,
   "metadata": {},
   "outputs": [
    {
     "name": "stdout",
     "output_type": "stream",
     "text": [
      "Gradient_Boosting_Regression\n",
      "1 MSE : 1.467989\n",
      "2 MSE : 5.281399\n",
      "3 MSE : 4.470530\n",
      "4 MSE : 0.167148\n",
      "5 MSE : 1.368973\n",
      "6 MSE : 0.792514\n",
      "7 MSE : 0.123732\n",
      "8 MSE : 0.399106\n",
      "9 MSE : 0.077455\n",
      "MSE: 1.5721\n"
     ]
    }
   ],
   "source": [
    "params = {'n_estimators': 500, 'max_depth': 6, 'min_samples_split': 4,\n",
    "          'learning_rate': 0.005, 'loss': 'ls'}\n",
    "\n",
    "GBR = ensemble.GradientBoostingRegressor(**params)\n",
    "\n",
    "\n",
    "\n",
    "mse = test_1(GBR, X_train, Y_train, k = 4, file_name = \"Gradient_Boosting_Regression\")\n",
    "\n",
    "print(\"MSE: %.4f\" % mse)"
   ]
  },
  {
   "cell_type": "code",
   "execution_count": 17,
   "metadata": {},
   "outputs": [
    {
     "name": "stdout",
     "output_type": "stream",
     "text": [
      "(2, 3) (2, 1)\n",
      "[[1 2 3 5]\n",
      " [3 4 3 6]]\n"
     ]
    }
   ],
   "source": [
    "\n",
    "a = np.array([[1, 2, 3], [3, 4, 3]])\n",
    "b = np.array([[5, 6]])\n",
    "\n",
    "#c = np.concatenate((a, b), axis=0)\n",
    "\n",
    "d = np.concatenate((a, b.T), axis=1)\n",
    "\n",
    "print(a.shape, b.T.shape)\n",
    "\n",
    "#print(c)\n",
    "\n",
    "print(d)"
   ]
  },
  {
   "cell_type": "code",
   "execution_count": 18,
   "metadata": {},
   "outputs": [],
   "source": [
    "#c = 'test'\n",
    "\n",
    "#f=open('temp.txt','ab')\n",
    "\n",
    "#np.savetxt(f, np.array([c]),fmt = '%s')\n",
    "#np.savetxt(f, d, delimiter=' ',fmt = '%.3f')\n",
    "\n",
    "#f.close()\n",
    "\n"
   ]
  },
  {
   "cell_type": "code",
   "execution_count": null,
   "metadata": {},
   "outputs": [],
   "source": []
  },
  {
   "cell_type": "code",
   "execution_count": null,
   "metadata": {},
   "outputs": [],
   "source": []
  },
  {
   "cell_type": "code",
   "execution_count": null,
   "metadata": {},
   "outputs": [],
   "source": []
  }
 ],
 "metadata": {
  "kernelspec": {
   "display_name": "Python 3",
   "language": "python",
   "name": "python3"
  },
  "language_info": {
   "codemirror_mode": {
    "name": "ipython",
    "version": 3
   },
   "file_extension": ".py",
   "mimetype": "text/x-python",
   "name": "python",
   "nbconvert_exporter": "python",
   "pygments_lexer": "ipython3",
   "version": "3.5.2"
  }
 },
 "nbformat": 4,
 "nbformat_minor": 2
}
